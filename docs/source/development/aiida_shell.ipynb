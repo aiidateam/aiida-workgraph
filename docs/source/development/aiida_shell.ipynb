{
 "cells": [
  {
   "cell_type": "markdown",
   "id": "22d177dc-6cfb-4de2-9509-f1eb45e10cf2",
   "metadata": {},
   "source": [
    "# `ShellJob` Node to run a shell command"
   ]
  },
  {
   "cell_type": "markdown",
   "id": "58696c91",
   "metadata": {},
   "source": [
    "`ShellJob` node is a built-in node, which uses the [aiida-shell](https://aiida-shell.readthedocs.io/en/latest/) package to run shell commands easy. Run any shell executable without writing a dedicated plugin or parser.\n",
    "\n",
    "\n",
    "\n",
    "## Example\n",
    "\n",
    "```python\n",
    "# Create a workgraph\n",
    "wg = WorkGraph(name=\"test_shell_date_with_arguments\")\n",
    "job1 = wg.nodes.new(\"ShellJob\", command=\"date\", arguments=['--iso-8601'])\n",
    "wg.submit(wait=True)\n",
    "\n",
    "# Print out the result:\n",
    "print(\"\\nResult: \", job1.node.outputs.stdout.get_content())\n",
    "```\n",
    "\n"
   ]
  }
 ],
 "metadata": {
  "kernelspec": {
   "display_name": "Python 3.10.4 ('scinode')",
   "language": "python",
   "name": "python3"
  },
  "language_info": {
   "codemirror_mode": {
    "name": "ipython",
    "version": 3
   },
   "file_extension": ".py",
   "mimetype": "text/x-python",
   "name": "python",
   "nbconvert_exporter": "python",
   "pygments_lexer": "ipython3",
   "version": "3.11.0"
  },
  "vscode": {
   "interpreter": {
    "hash": "2f450c1ff08798c4974437dd057310afef0de414c25d1fd960ad375311c3f6ff"
   }
  }
 },
 "nbformat": 4,
 "nbformat_minor": 5
}
