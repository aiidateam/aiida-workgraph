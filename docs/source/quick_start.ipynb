{
 "cells": [
  {
   "cell_type": "markdown",
   "id": "22d177dc-6cfb-4de2-9509-f1eb45e10cf2",
   "metadata": {},
   "source": [
    "# Quick Start"
   ]
  },
  {
   "cell_type": "markdown",
   "id": "58696c91",
   "metadata": {},
   "source": [
    "## Introduction\n",
    "In this tutorial, you will get a quick view of `AiiDA-WorkTree`. To run this tutorial, you need to install `aiida-worktree`. Open a terminal and run:\n",
    "\n",
    "```console\n",
    "pip install aiida-worktree\n",
    "```\n",
    "\n",
    "Start the AiiDA daemon if needed:\n",
    "```console\n",
    "verdi daemon start\n",
    "```\n",
    "\n",
    "### Start the web server\n",
    "Open a terminal, and run:\n",
    "```\n",
    "worktree web start\n",
    "```\n",
    "Then visit the page http://127.0.0.1:8000/worktree, you can view the worktree later from here.\n",
    "\n",
    "Load the AiiDA profile."
   ]
  },
  {
   "cell_type": "code",
   "execution_count": 1,
   "id": "c6b83fb5",
   "metadata": {},
   "outputs": [
    {
     "data": {
      "text/plain": [
       "Profile<uuid='c74285168cc0459ebea7581c6f73c54f' name='default'>"
      ]
     },
     "execution_count": 1,
     "metadata": {},
     "output_type": "execute_result"
    }
   ],
   "source": [
    "%load_ext aiida\n",
    "from aiida import load_profile\n",
    "load_profile()"
   ]
  },
  {
   "cell_type": "markdown",
   "id": "30719f9a",
   "metadata": {},
   "source": [
    "## First workflow\n",
    "Suppose we want to calculate ```(x + y) * z ``` in two steps. First, add `x` and `y`, then multiply the result with `z`.\n"
   ]
  },
  {
   "cell_type": "markdown",
   "id": "0f46d277",
   "metadata": {},
   "source": [
    "### Create node\n",
    "In AiiDA, one uses the `calcfunction` to do the calculation and generate new data. AiiDA-WorkTree goes one step further by transforming a `calcfunction` to a `Node`."
   ]
  },
  {
   "cell_type": "markdown",
   "id": "9e6360d8",
   "metadata": {},
   "source": []
  },
  {
   "cell_type": "code",
   "execution_count": 2,
   "id": "11e3bca1-dda6-44e9-9585-54feeda7e7db",
   "metadata": {},
   "outputs": [],
   "source": [
    "from aiida_worktree import node\n",
    "\n",
    "# define add node\n",
    "@node.calcfunction()\n",
    "def add(x, y):\n",
    "    return x + y\n",
    "\n",
    "# define multiply node\n",
    "@node.calcfunction()\n",
    "def multiply(x, y):\n",
    "    return x*y"
   ]
  },
  {
   "cell_type": "markdown",
   "id": "65f4c44d",
   "metadata": {},
   "source": [
    "### Create the workflow\n",
    "Three steps:\n",
    "\n",
    "- create a empty `WorkTree`\n",
    "- add nodes: `add` and `multiply`.\n",
    "- link the output of the `add` node to one of the `x` input of the `multiply` node."
   ]
  },
  {
   "cell_type": "code",
   "execution_count": 3,
   "id": "8ee799d2-0b5b-4609-957f-6b3f2cd451f0",
   "metadata": {},
   "outputs": [
    {
     "name": "stdout",
     "output_type": "stream",
     "text": [
      "\u001b[93m\u001b[1mWarning\u001b[0m: \u001b[22mRabbitMQ v3.9.13 is not supported and will cause unexpected problems!\u001b[0m\n",
      "\u001b[93m\u001b[1mWarning\u001b[0m: \u001b[22mIt can cause long-running workflows to crash and jobs to be submitted multiple times.\u001b[0m\n",
      "\u001b[93m\u001b[1mWarning\u001b[0m: \u001b[22mSee https://github.com/aiidateam/aiida-core/wiki/RabbitMQ-version-to-use for details.\u001b[0m\n",
      "WorkTree node crated, PK: 2427\n"
     ]
    }
   ],
   "source": [
    "from aiida_worktree import WorkTree\n",
    "from aiida.orm import Int\n",
    "\n",
    "wt = WorkTree(\"first_workflow\")\n",
    "wt.nodes.new(add, name=\"add\", x=Int(2.0), y=Int(3.0))\n",
    "wt.nodes.new(multiply, name=\"multiply\", y=Int(4.0))\n",
    "wt.links.new(wt.nodes[\"add\"].outputs[0], wt.nodes[\"multiply\"].inputs[\"x\"])\n",
    "\n",
    "wt.submit(wait=True)"
   ]
  },
  {
   "cell_type": "markdown",
   "id": "d25beb02-ee82-4a27-ae48-edc5c147904c",
   "metadata": {},
   "source": [
    "### Check status and results\n"
   ]
  },
  {
   "cell_type": "code",
   "execution_count": 4,
   "id": "9ebf35aa",
   "metadata": {},
   "outputs": [
    {
     "name": "stdout",
     "output_type": "stream",
     "text": [
      "State of WorkTree:   FINISHED\n",
      "Result of add      : 5\n",
      "Result of multiply : 20\n"
     ]
    }
   ],
   "source": [
    "print(\"State of WorkTree:   {}\".format(wt.state))\n",
    "print('Result of add      : {}'.format(wt.nodes[\"add\"].node.outputs.result.value))\n",
    "print('Result of multiply : {}'.format(wt.nodes[\"multiply\"].node.outputs.result.value))"
   ]
  },
  {
   "cell_type": "markdown",
   "id": "125ac629",
   "metadata": {},
   "source": [
    "If you start the web app (`worktree web start`), you can visit the page http://127.0.0.1:8000/worktree, you should find a `first_workflow` Worktree, click the pk and view the nodes.\n",
    "\n",
    "<img src=\"_static/images/first-workflow.png\" />\n",
    "\n",
    "\n",
    "One can also generate the node graph from the AiiDA process:"
   ]
  },
  {
   "cell_type": "code",
   "execution_count": 5,
   "id": "0060e380",
   "metadata": {},
   "outputs": [
    {
     "data": {
      "image/svg+xml": [
       "<?xml version=\"1.0\" encoding=\"UTF-8\" standalone=\"no\"?>\n",
       "<!DOCTYPE svg PUBLIC \"-//W3C//DTD SVG 1.1//EN\"\n",
       " \"http://www.w3.org/Graphics/SVG/1.1/DTD/svg11.dtd\">\n",
       "<!-- Generated by graphviz version 7.1.0 (20230122.1345)\n",
       " -->\n",
       "<!-- Pages: 1 -->\n",
       "<svg width=\"902pt\" height=\"658pt\"\n",
       " viewBox=\"0.00 0.00 902.15 658.22\" xmlns=\"http://www.w3.org/2000/svg\" xmlns:xlink=\"http://www.w3.org/1999/xlink\">\n",
       "<g id=\"graph0\" class=\"graph\" transform=\"scale(1 1) rotate(0) translate(4 654.22)\">\n",
       "<polygon fill=\"white\" stroke=\"none\" points=\"-4,4 -4,-654.22 898.15,-654.22 898.15,4 -4,4\"/>\n",
       "<!-- N10553 -->\n",
       "<g id=\"node1\" class=\"node\">\n",
       "<title>N10553</title>\n",
       "<polygon fill=\"#e38851\" stroke=\"red\" stroke-width=\"6\" points=\"438.15,-530.48 232.15,-530.48 232.15,-477.48 438.15,-477.48 438.15,-530.48\"/>\n",
       "<text text-anchor=\"middle\" x=\"335.15\" y=\"-515.28\" font-family=\"Times,serif\" font-size=\"14.00\">WorkTree: first_workflow (10553)</text>\n",
       "<text text-anchor=\"middle\" x=\"335.15\" y=\"-500.28\" font-family=\"Times,serif\" font-size=\"14.00\">State: finished</text>\n",
       "<text text-anchor=\"middle\" x=\"335.15\" y=\"-485.28\" font-family=\"Times,serif\" font-size=\"14.00\">Exit Code: 0</text>\n",
       "</g>\n",
       "<!-- N10559 -->\n",
       "<g id=\"node5\" class=\"node\">\n",
       "<title>N10559</title>\n",
       "<polygon fill=\"#de707f\" fill-opacity=\"0.466667\" stroke=\"black\" stroke-width=\"0\" points=\"334.65,-411.48 239.65,-411.48 239.65,-358.48 334.65,-358.48 334.65,-411.48\"/>\n",
       "<text text-anchor=\"middle\" x=\"287.15\" y=\"-396.28\" font-family=\"Times,serif\" font-size=\"14.00\">add (10559)</text>\n",
       "<text text-anchor=\"middle\" x=\"287.15\" y=\"-381.28\" font-family=\"Times,serif\" font-size=\"14.00\">State: finished</text>\n",
       "<text text-anchor=\"middle\" x=\"287.15\" y=\"-366.28\" font-family=\"Times,serif\" font-size=\"14.00\">Exit Code: 0</text>\n",
       "</g>\n",
       "<!-- N10553&#45;&gt;N10559 -->\n",
       "<g id=\"edge4\" class=\"edge\">\n",
       "<title>N10553&#45;&gt;N10559</title>\n",
       "<path fill=\"none\" stroke=\"#000000\" stroke-dasharray=\"1,5\" d=\"M298.95,-474.59C295.02,-469.97 291.58,-464.9 289.15,-459.48 284.06,-448.09 282.57,-434.68 282.67,-422.45\"/>\n",
       "<polygon fill=\"#000000\" stroke=\"#000000\" points=\"286.15,-422.86 283.11,-412.71 279.16,-422.54 286.15,-422.86\"/>\n",
       "<text text-anchor=\"middle\" x=\"328.65\" y=\"-448.28\" font-family=\"Times,serif\" font-size=\"14.00\">CALL_CALC</text>\n",
       "<text text-anchor=\"middle\" x=\"328.65\" y=\"-433.28\" font-family=\"Times,serif\" font-size=\"14.00\">add</text>\n",
       "</g>\n",
       "<!-- N10561 -->\n",
       "<g id=\"node7\" class=\"node\">\n",
       "<title>N10561</title>\n",
       "<polygon fill=\"#de707f\" fill-opacity=\"0.466667\" stroke=\"black\" stroke-width=\"0\" points=\"388.15,-172.74 278.15,-172.74 278.15,-119.74 388.15,-119.74 388.15,-172.74\"/>\n",
       "<text text-anchor=\"middle\" x=\"333.15\" y=\"-157.54\" font-family=\"Times,serif\" font-size=\"14.00\">multiply (10561)</text>\n",
       "<text text-anchor=\"middle\" x=\"333.15\" y=\"-142.54\" font-family=\"Times,serif\" font-size=\"14.00\">State: finished</text>\n",
       "<text text-anchor=\"middle\" x=\"333.15\" y=\"-127.54\" font-family=\"Times,serif\" font-size=\"14.00\">Exit Code: 0</text>\n",
       "</g>\n",
       "<!-- N10553&#45;&gt;N10561 -->\n",
       "<g id=\"edge7\" class=\"edge\">\n",
       "<title>N10553&#45;&gt;N10561</title>\n",
       "<path fill=\"none\" stroke=\"#000000\" stroke-dasharray=\"1,5\" d=\"M360.69,-474.52C363.75,-469.77 366.4,-464.69 368.15,-459.48 406.24,-346.27 407.85,-303.39 368.15,-190.74 367.13,-187.84 365.83,-184.99 364.32,-182.23\"/>\n",
       "<polygon fill=\"#000000\" stroke=\"#000000\" points=\"367.33,-180.43 358.98,-173.9 361.44,-184.21 367.33,-180.43\"/>\n",
       "<text text-anchor=\"middle\" x=\"436.65\" y=\"-329.28\" font-family=\"Times,serif\" font-size=\"14.00\">CALL_CALC</text>\n",
       "<text text-anchor=\"middle\" x=\"436.65\" y=\"-314.28\" font-family=\"Times,serif\" font-size=\"14.00\">multiply</text>\n",
       "</g>\n",
       "<!-- N10550 -->\n",
       "<g id=\"node2\" class=\"node\">\n",
       "<title>N10550</title>\n",
       "<ellipse fill=\"#8cd499\" stroke=\"black\" stroke-width=\"0\" cx=\"55.15\" cy=\"-623.35\" rx=\"55.31\" ry=\"26.74\"/>\n",
       "<text text-anchor=\"middle\" x=\"55.15\" y=\"-627.15\" font-family=\"Times,serif\" font-size=\"14.00\">Int (10550)</text>\n",
       "<text text-anchor=\"middle\" x=\"55.15\" y=\"-612.15\" font-family=\"Times,serif\" font-size=\"14.00\">value: 2</text>\n",
       "</g>\n",
       "<!-- N10550&#45;&gt;N10553 -->\n",
       "<g id=\"edge1\" class=\"edge\">\n",
       "<title>N10550&#45;&gt;N10553</title>\n",
       "<path fill=\"none\" stroke=\"#000000\" stroke-dasharray=\"5,2\" d=\"M55.02,-596.9C56.35,-580.74 60.88,-560.65 74.15,-548.48 95.47,-528.94 158.93,-518.1 217.94,-512.12\"/>\n",
       "<polygon fill=\"#000000\" stroke=\"#000000\" points=\"218.16,-515.62 227.77,-511.18 217.48,-508.65 218.16,-515.62\"/>\n",
       "<text text-anchor=\"middle\" x=\"202.65\" y=\"-567.28\" font-family=\"Times,serif\" font-size=\"14.00\">INPUT_WORK</text>\n",
       "<text text-anchor=\"middle\" x=\"202.65\" y=\"-552.28\" font-family=\"Times,serif\" font-size=\"14.00\">worktree__nodes__add__properties__x__value</text>\n",
       "</g>\n",
       "<!-- N10551 -->\n",
       "<g id=\"node3\" class=\"node\">\n",
       "<title>N10551</title>\n",
       "<ellipse fill=\"#8cd499\" stroke=\"black\" stroke-width=\"0\" cx=\"335.15\" cy=\"-623.35\" rx=\"55.31\" ry=\"26.74\"/>\n",
       "<text text-anchor=\"middle\" x=\"335.15\" y=\"-627.15\" font-family=\"Times,serif\" font-size=\"14.00\">Int (10551)</text>\n",
       "<text text-anchor=\"middle\" x=\"335.15\" y=\"-612.15\" font-family=\"Times,serif\" font-size=\"14.00\">value: 3</text>\n",
       "</g>\n",
       "<!-- N10551&#45;&gt;N10553 -->\n",
       "<g id=\"edge2\" class=\"edge\">\n",
       "<title>N10551&#45;&gt;N10553</title>\n",
       "<path fill=\"none\" stroke=\"#000000\" stroke-dasharray=\"5,2\" d=\"M335.15,-596.88C335.15,-581.65 335.15,-561.98 335.15,-544.74\"/>\n",
       "<polygon fill=\"#000000\" stroke=\"#000000\" points=\"338.65,-544.79 335.15,-534.79 331.65,-544.79 338.65,-544.79\"/>\n",
       "<text text-anchor=\"middle\" x=\"463.65\" y=\"-567.28\" font-family=\"Times,serif\" font-size=\"14.00\">INPUT_WORK</text>\n",
       "<text text-anchor=\"middle\" x=\"463.65\" y=\"-552.28\" font-family=\"Times,serif\" font-size=\"14.00\">worktree__nodes__add__properties__y__value</text>\n",
       "</g>\n",
       "<!-- N10552 -->\n",
       "<g id=\"node4\" class=\"node\">\n",
       "<title>N10552</title>\n",
       "<ellipse fill=\"#8cd499\" stroke=\"black\" stroke-width=\"0\" cx=\"615.15\" cy=\"-623.35\" rx=\"55.31\" ry=\"26.74\"/>\n",
       "<text text-anchor=\"middle\" x=\"615.15\" y=\"-627.15\" font-family=\"Times,serif\" font-size=\"14.00\">Int (10552)</text>\n",
       "<text text-anchor=\"middle\" x=\"615.15\" y=\"-612.15\" font-family=\"Times,serif\" font-size=\"14.00\">value: 4</text>\n",
       "</g>\n",
       "<!-- N10552&#45;&gt;N10553 -->\n",
       "<g id=\"edge3\" class=\"edge\">\n",
       "<title>N10552&#45;&gt;N10553</title>\n",
       "<path fill=\"none\" stroke=\"#000000\" stroke-dasharray=\"5,2\" d=\"M614.17,-596.82C612.14,-580.63 606.79,-560.54 593.15,-548.48 571.9,-529.68 509.93,-518.87 452.06,-512.73\"/>\n",
       "<polygon fill=\"#000000\" stroke=\"#000000\" points=\"452.74,-509.28 442.44,-511.75 452.03,-516.24 452.74,-509.28\"/>\n",
       "<text text-anchor=\"middle\" x=\"752.15\" y=\"-567.28\" font-family=\"Times,serif\" font-size=\"14.00\">INPUT_WORK</text>\n",
       "<text text-anchor=\"middle\" x=\"752.15\" y=\"-552.28\" font-family=\"Times,serif\" font-size=\"14.00\">worktree__nodes__multiply__properties__y__value</text>\n",
       "</g>\n",
       "<!-- N10560 -->\n",
       "<g id=\"node6\" class=\"node\">\n",
       "<title>N10560</title>\n",
       "<ellipse fill=\"#8cd499\" stroke=\"black\" stroke-width=\"0\" cx=\"284.15\" cy=\"-265.61\" rx=\"55.31\" ry=\"26.74\"/>\n",
       "<text text-anchor=\"middle\" x=\"284.15\" y=\"-269.41\" font-family=\"Times,serif\" font-size=\"14.00\">Int (10560)</text>\n",
       "<text text-anchor=\"middle\" x=\"284.15\" y=\"-254.41\" font-family=\"Times,serif\" font-size=\"14.00\">value: 5</text>\n",
       "</g>\n",
       "<!-- N10559&#45;&gt;N10560 -->\n",
       "<g id=\"edge8\" class=\"edge\">\n",
       "<title>N10559&#45;&gt;N10560</title>\n",
       "<path fill=\"none\" stroke=\"#000000\" d=\"M286.5,-358.51C286.09,-342.44 285.56,-321.41 285.1,-303.53\"/>\n",
       "<polygon fill=\"#000000\" stroke=\"#000000\" points=\"288.6,-303.45 284.84,-293.54 281.6,-303.63 288.6,-303.45\"/>\n",
       "<text text-anchor=\"middle\" x=\"312.15\" y=\"-329.28\" font-family=\"Times,serif\" font-size=\"14.00\">CREATE</text>\n",
       "<text text-anchor=\"middle\" x=\"312.15\" y=\"-314.28\" font-family=\"Times,serif\" font-size=\"14.00\">result</text>\n",
       "</g>\n",
       "<!-- N10560&#45;&gt;N10561 -->\n",
       "<g id=\"edge6\" class=\"edge\">\n",
       "<title>N10560&#45;&gt;N10561</title>\n",
       "<path fill=\"none\" stroke=\"#000000\" d=\"M279.62,-239.24C278.15,-224.46 278.35,-205.82 285.15,-190.74 286.68,-187.36 288.61,-184.12 290.82,-181.06\"/>\n",
       "<polygon fill=\"#000000\" stroke=\"#000000\" points=\"293.39,-183.44 297.15,-173.54 288.03,-178.93 293.39,-183.44\"/>\n",
       "<text text-anchor=\"middle\" x=\"326.65\" y=\"-209.54\" font-family=\"Times,serif\" font-size=\"14.00\">INPUT_CALC</text>\n",
       "<text text-anchor=\"middle\" x=\"326.65\" y=\"-194.54\" font-family=\"Times,serif\" font-size=\"14.00\">x</text>\n",
       "</g>\n",
       "<!-- N10567 -->\n",
       "<g id=\"node8\" class=\"node\">\n",
       "<title>N10567</title>\n",
       "<ellipse fill=\"#8cd499\" stroke=\"black\" stroke-width=\"0\" cx=\"333.15\" cy=\"-26.87\" rx=\"55.31\" ry=\"26.74\"/>\n",
       "<text text-anchor=\"middle\" x=\"333.15\" y=\"-30.67\" font-family=\"Times,serif\" font-size=\"14.00\">Int (10567)</text>\n",
       "<text text-anchor=\"middle\" x=\"333.15\" y=\"-15.67\" font-family=\"Times,serif\" font-size=\"14.00\">value: 20</text>\n",
       "</g>\n",
       "<!-- N10561&#45;&gt;N10567 -->\n",
       "<g id=\"edge5\" class=\"edge\">\n",
       "<title>N10561&#45;&gt;N10567</title>\n",
       "<path fill=\"none\" stroke=\"#000000\" d=\"M333.15,-119.77C333.15,-103.7 333.15,-82.67 333.15,-64.79\"/>\n",
       "<polygon fill=\"#000000\" stroke=\"#000000\" points=\"336.65,-64.8 333.15,-54.8 329.65,-64.8 336.65,-64.8\"/>\n",
       "<text text-anchor=\"middle\" x=\"359.15\" y=\"-90.54\" font-family=\"Times,serif\" font-size=\"14.00\">CREATE</text>\n",
       "<text text-anchor=\"middle\" x=\"359.15\" y=\"-75.54\" font-family=\"Times,serif\" font-size=\"14.00\">result</text>\n",
       "</g>\n",
       "</g>\n",
       "</svg>\n"
      ],
      "text/plain": [
       "<graphviz.graphs.Digraph at 0x7f1e35f2ba00>"
      ]
     },
     "execution_count": 5,
     "metadata": {},
     "output_type": "execute_result"
    }
   ],
   "source": [
    "from aiida_worktree.utils import generate_node_graph\n",
    "generate_node_graph(wt.pk)"
   ]
  },
  {
   "cell_type": "markdown",
   "id": "3fce5a2c",
   "metadata": {},
   "source": [
    "## CalcJob and WorkChain\n",
    "AiiDA uses `CalcJob` to run a calculation on a remote computer. AiiDA community also provides a lot of well-written `calcfunction` and `WorkChain`. In order to resue an existing process, one can register it as a node.\n",
    "\n",
    "Here we build a node from CalcJob `ArithmeticAddCalculation`:"
   ]
  },
  {
   "cell_type": "code",
   "execution_count": 6,
   "id": "051b2ffc",
   "metadata": {},
   "outputs": [],
   "source": [
    "from aiida_worktree import build_node\n",
    "ndata = {\"path\": \"aiida.calculations.arithmetic.add.ArithmeticAddCalculation\"}\n",
    "add_calcjob = build_node(ndata)"
   ]
  },
  {
   "cell_type": "markdown",
   "id": "9407240b",
   "metadata": {},
   "source": [
    "The inputs and outputs of the `CalcJob` is automatically generated for the new node. One can create a node instance and inpsect its inputs and outputs:"
   ]
  },
  {
   "cell_type": "code",
   "execution_count": 7,
   "id": "8cfc4f00",
   "metadata": {},
   "outputs": [
    {
     "name": "stdout",
     "output_type": "stream",
     "text": [
      "Inputs:\n",
      "  - metadata\n",
      "  - code\n",
      "  - monitors\n",
      "  - remote_folder\n",
      "  - x\n",
      "  - y\n",
      "Outputs:\n",
      "  - remote_folder\n",
      "  - remote_stash\n",
      "  - retrieved\n",
      "  - sum\n"
     ]
    }
   ],
   "source": [
    "node = add_calcjob()\n",
    "print(\"Inputs:\")\n",
    "for input in node.inputs:\n",
    "    if \".\" not in input.name:\n",
    "        print(f\"  - {input.name}\")\n",
    "print(\"Outputs:\")\n",
    "for output in node.outputs:\n",
    "    if \".\" not in output.name:\n",
    "        print(f\"  - {output.name}\")"
   ]
  },
  {
   "cell_type": "markdown",
   "id": "2f57368e",
   "metadata": {},
   "source": [
    "Now, let's create a `WorkTree` to use this `Calcjob` node:"
   ]
  },
  {
   "cell_type": "code",
   "execution_count": 8,
   "id": "d05167e6",
   "metadata": {},
   "outputs": [
    {
     "name": "stderr",
     "output_type": "stream",
     "text": [
      "[INFO] 2023-07-29 14:26:26 nodetree: Create NodeTree: test_add_multiply\n"
     ]
    }
   ],
   "source": [
    "from aiida_worktree import WorkTree\n",
    "\n",
    "wt = WorkTree(\"test_add_multiply\")\n",
    "wt.nodes.new(\"AiiDACode\", \"code1\", value=\"add@localhost\")\n",
    "wt.nodes.new(add_calcjob, name=\"add1\", x=x, y=y)\n",
    "wt.links.new(wt.nodes[\"code1\"].outputs[0], wt.nodes[\"add1\"].inputs[\"code\"])\n",
    "wt.submit(wait=True)"
   ]
  },
  {
   "cell_type": "markdown",
   "id": "a357ba7e",
   "metadata": {},
   "source": [
    "Get the result of the nodes:"
   ]
  },
  {
   "cell_type": "code",
   "execution_count": 9,
   "id": "fbbb4f10",
   "metadata": {},
   "outputs": [
    {
     "name": "stdout",
     "output_type": "stream",
     "text": [
      "Result of node add1: 5\n"
     ]
    }
   ],
   "source": [
    "print('Result of node add1: {}'.format(wt.nodes[\"add1\"].node.outputs.sum.value))"
   ]
  },
  {
   "cell_type": "code",
   "execution_count": 10,
   "id": "dce628d4",
   "metadata": {},
   "outputs": [
    {
     "data": {
      "image/svg+xml": [
       "<?xml version=\"1.0\" encoding=\"UTF-8\" standalone=\"no\"?>\n",
       "<!DOCTYPE svg PUBLIC \"-//W3C//DTD SVG 1.1//EN\"\n",
       " \"http://www.w3.org/Graphics/SVG/1.1/DTD/svg11.dtd\">\n",
       "<!-- Generated by graphviz version 2.43.0 (0)\n",
       " -->\n",
       "<!-- Title: %3 Pages: 1 -->\n",
       "<svg width=\"622pt\" height=\"419pt\"\n",
       " viewBox=\"0.00 0.00 622.39 419.48\" xmlns=\"http://www.w3.org/2000/svg\" xmlns:xlink=\"http://www.w3.org/1999/xlink\">\n",
       "<g id=\"graph0\" class=\"graph\" transform=\"scale(1 1) rotate(0) translate(4 415.48)\">\n",
       "<title>%3</title>\n",
       "<polygon fill=\"white\" stroke=\"transparent\" points=\"-4,4 -4,-415.48 618.39,-415.48 618.39,4 -4,4\"/>\n",
       "<!-- N2739 -->\n",
       "<g id=\"node1\" class=\"node\">\n",
       "<title>N2739</title>\n",
       "<polygon fill=\"#e38851\" stroke=\"red\" stroke-width=\"6\" points=\"379.39,-291.74 161.39,-291.74 161.39,-238.74 379.39,-238.74 379.39,-291.74\"/>\n",
       "<text text-anchor=\"middle\" x=\"270.39\" y=\"-276.54\" font-family=\"Times,serif\" font-size=\"14.00\">WorkTree: test_add_multiply (2739)</text>\n",
       "<text text-anchor=\"middle\" x=\"270.39\" y=\"-261.54\" font-family=\"Times,serif\" font-size=\"14.00\">State: finished</text>\n",
       "<text text-anchor=\"middle\" x=\"270.39\" y=\"-246.54\" font-family=\"Times,serif\" font-size=\"14.00\">Exit Code: 0</text>\n",
       "</g>\n",
       "<!-- N2740 -->\n",
       "<g id=\"node4\" class=\"node\">\n",
       "<title>N2740</title>\n",
       "<polygon fill=\"#de707f\" stroke=\"black\" stroke-width=\"0\" points=\"370.89,-172.74 169.89,-172.74 169.89,-119.74 370.89,-119.74 370.89,-172.74\"/>\n",
       "<text text-anchor=\"middle\" x=\"270.39\" y=\"-157.54\" font-family=\"Times,serif\" font-size=\"14.00\">ArithmeticAddCalculation (2740)</text>\n",
       "<text text-anchor=\"middle\" x=\"270.39\" y=\"-142.54\" font-family=\"Times,serif\" font-size=\"14.00\">State: finished</text>\n",
       "<text text-anchor=\"middle\" x=\"270.39\" y=\"-127.54\" font-family=\"Times,serif\" font-size=\"14.00\">Exit Code: 0</text>\n",
       "</g>\n",
       "<!-- N2739&#45;&gt;N2740 -->\n",
       "<g id=\"edge4\" class=\"edge\">\n",
       "<title>N2739&#45;&gt;N2740</title>\n",
       "<path fill=\"none\" stroke=\"#000000\" stroke-dasharray=\"1,5\" d=\"M270.39,-238.56C270.39,-222.26 270.39,-200.92 270.39,-182.97\"/>\n",
       "<polygon fill=\"#000000\" stroke=\"#000000\" points=\"273.89,-182.86 270.39,-172.86 266.89,-182.86 273.89,-182.86\"/>\n",
       "<text text-anchor=\"middle\" x=\"309.89\" y=\"-209.54\" font-family=\"Times,serif\" font-size=\"14.00\">CALL_CALC</text>\n",
       "<text text-anchor=\"middle\" x=\"309.89\" y=\"-194.54\" font-family=\"Times,serif\" font-size=\"14.00\">add1</text>\n",
       "</g>\n",
       "<!-- N2731 -->\n",
       "<g id=\"node2\" class=\"node\">\n",
       "<title>N2731</title>\n",
       "<ellipse fill=\"#8cd499\" stroke=\"black\" stroke-width=\"0\" cx=\"146.39\" cy=\"-384.61\" rx=\"50.41\" ry=\"26.74\"/>\n",
       "<text text-anchor=\"middle\" x=\"146.39\" y=\"-388.41\" font-family=\"Times,serif\" font-size=\"14.00\">Int (2731)</text>\n",
       "<text text-anchor=\"middle\" x=\"146.39\" y=\"-373.41\" font-family=\"Times,serif\" font-size=\"14.00\">value: 2</text>\n",
       "</g>\n",
       "<!-- N2731&#45;&gt;N2739 -->\n",
       "<g id=\"edge1\" class=\"edge\">\n",
       "<title>N2731&#45;&gt;N2739</title>\n",
       "<path fill=\"none\" stroke=\"#000000\" stroke-dasharray=\"5,2\" d=\"M139.87,-357.74C137.56,-342.42 137.6,-323.39 147.39,-309.74 150.37,-305.59 153.78,-301.83 157.52,-298.43\"/>\n",
       "<polygon fill=\"#000000\" stroke=\"#000000\" points=\"160.01,-300.92 165.63,-291.93 155.63,-295.45 160.01,-300.92\"/>\n",
       "<text text-anchor=\"middle\" x=\"260.39\" y=\"-328.54\" font-family=\"Times,serif\" font-size=\"14.00\">INPUT_WORK</text>\n",
       "<text text-anchor=\"middle\" x=\"260.39\" y=\"-313.54\" font-family=\"Times,serif\" font-size=\"14.00\">nt__nodes__add1__properties__x__value</text>\n",
       "</g>\n",
       "<!-- N2732 -->\n",
       "<g id=\"node3\" class=\"node\">\n",
       "<title>N2732</title>\n",
       "<ellipse fill=\"#8cd499\" stroke=\"black\" stroke-width=\"0\" cx=\"395.39\" cy=\"-384.61\" rx=\"50.41\" ry=\"26.74\"/>\n",
       "<text text-anchor=\"middle\" x=\"395.39\" y=\"-388.41\" font-family=\"Times,serif\" font-size=\"14.00\">Int (2732)</text>\n",
       "<text text-anchor=\"middle\" x=\"395.39\" y=\"-373.41\" font-family=\"Times,serif\" font-size=\"14.00\">value: 3</text>\n",
       "</g>\n",
       "<!-- N2732&#45;&gt;N2739 -->\n",
       "<g id=\"edge2\" class=\"edge\">\n",
       "<title>N2732&#45;&gt;N2739</title>\n",
       "<path fill=\"none\" stroke=\"#000000\" stroke-dasharray=\"5,2\" d=\"M393.2,-357.67C390.65,-342.13 385.17,-322.9 373.39,-309.74 369.36,-305.25 364.8,-301.2 359.89,-297.57\"/>\n",
       "<polygon fill=\"#000000\" stroke=\"#000000\" points=\"361.57,-294.49 351.32,-291.82 357.68,-300.3 361.57,-294.49\"/>\n",
       "<text text-anchor=\"middle\" x=\"501.39\" y=\"-328.54\" font-family=\"Times,serif\" font-size=\"14.00\">INPUT_WORK</text>\n",
       "<text text-anchor=\"middle\" x=\"501.39\" y=\"-313.54\" font-family=\"Times,serif\" font-size=\"14.00\">nt__nodes__add1__properties__y__value</text>\n",
       "</g>\n",
       "<!-- N2741 -->\n",
       "<g id=\"node5\" class=\"node\">\n",
       "<title>N2741</title>\n",
       "<ellipse fill=\"#8cd499\" stroke=\"black\" stroke-width=\"0\" cx=\"88.39\" cy=\"-26.87\" rx=\"88.28\" ry=\"26.74\"/>\n",
       "<text text-anchor=\"middle\" x=\"88.39\" y=\"-30.67\" font-family=\"Times,serif\" font-size=\"14.00\">RemoteData (2741)</text>\n",
       "<text text-anchor=\"middle\" x=\"88.39\" y=\"-15.67\" font-family=\"Times,serif\" font-size=\"14.00\">@localhost</text>\n",
       "</g>\n",
       "<!-- N2740&#45;&gt;N2741 -->\n",
       "<g id=\"edge5\" class=\"edge\">\n",
       "<title>N2740&#45;&gt;N2741</title>\n",
       "<path fill=\"none\" stroke=\"#000000\" d=\"M219.42,-119.71C208.99,-114.07 198.21,-107.92 188.39,-101.74 167.48,-88.57 145.28,-72.41 127.12,-58.57\"/>\n",
       "<polygon fill=\"#000000\" stroke=\"#000000\" points=\"129.14,-55.71 119.08,-52.39 124.87,-61.26 129.14,-55.71\"/>\n",
       "<text text-anchor=\"middle\" x=\"227.39\" y=\"-90.54\" font-family=\"Times,serif\" font-size=\"14.00\">CREATE</text>\n",
       "<text text-anchor=\"middle\" x=\"227.39\" y=\"-75.54\" font-family=\"Times,serif\" font-size=\"14.00\">remote_folder</text>\n",
       "</g>\n",
       "<!-- N2742 -->\n",
       "<g id=\"node6\" class=\"node\">\n",
       "<title>N2742</title>\n",
       "<ellipse fill=\"#8cd499\" stroke=\"black\" stroke-width=\"0\" cx=\"270.39\" cy=\"-26.87\" rx=\"76.09\" ry=\"18\"/>\n",
       "<text text-anchor=\"middle\" x=\"270.39\" y=\"-23.17\" font-family=\"Times,serif\" font-size=\"14.00\">FolderData (2742)</text>\n",
       "</g>\n",
       "<!-- N2740&#45;&gt;N2742 -->\n",
       "<g id=\"edge6\" class=\"edge\">\n",
       "<title>N2740&#45;&gt;N2742</title>\n",
       "<path fill=\"none\" stroke=\"#000000\" d=\"M270.39,-119.48C270.39,-100.47 270.39,-74.63 270.39,-55.24\"/>\n",
       "<polygon fill=\"#000000\" stroke=\"#000000\" points=\"273.89,-55.22 270.39,-45.22 266.89,-55.22 273.89,-55.22\"/>\n",
       "<text text-anchor=\"middle\" x=\"296.39\" y=\"-90.54\" font-family=\"Times,serif\" font-size=\"14.00\">CREATE</text>\n",
       "<text text-anchor=\"middle\" x=\"296.39\" y=\"-75.54\" font-family=\"Times,serif\" font-size=\"14.00\">retrieved</text>\n",
       "</g>\n",
       "<!-- N2743 -->\n",
       "<g id=\"node7\" class=\"node\">\n",
       "<title>N2743</title>\n",
       "<ellipse fill=\"#8cd499\" stroke=\"black\" stroke-width=\"0\" cx=\"414.39\" cy=\"-26.87\" rx=\"50.41\" ry=\"26.74\"/>\n",
       "<text text-anchor=\"middle\" x=\"414.39\" y=\"-30.67\" font-family=\"Times,serif\" font-size=\"14.00\">Int (2743)</text>\n",
       "<text text-anchor=\"middle\" x=\"414.39\" y=\"-15.67\" font-family=\"Times,serif\" font-size=\"14.00\">value: 5</text>\n",
       "</g>\n",
       "<!-- N2740&#45;&gt;N2743 -->\n",
       "<g id=\"edge3\" class=\"edge\">\n",
       "<title>N2740&#45;&gt;N2743</title>\n",
       "<path fill=\"none\" stroke=\"#000000\" d=\"M303.72,-119.68C311.22,-113.84 319.11,-107.62 326.39,-101.74 344.53,-87.09 364.44,-70.42 380.74,-56.63\"/>\n",
       "<polygon fill=\"#000000\" stroke=\"#000000\" points=\"383.06,-59.25 388.42,-50.11 378.53,-53.91 383.06,-59.25\"/>\n",
       "<text text-anchor=\"middle\" x=\"386.39\" y=\"-90.54\" font-family=\"Times,serif\" font-size=\"14.00\">CREATE</text>\n",
       "<text text-anchor=\"middle\" x=\"386.39\" y=\"-75.54\" font-family=\"Times,serif\" font-size=\"14.00\">sum</text>\n",
       "</g>\n",
       "</g>\n",
       "</svg>\n"
      ],
      "text/plain": [
       "<graphviz.graphs.Digraph at 0x7f0ef77e7bb0>"
      ]
     },
     "execution_count": 10,
     "metadata": {},
     "output_type": "execute_result"
    }
   ],
   "source": [
    "generate_node_graph(wt.pk)"
   ]
  },
  {
   "cell_type": "markdown",
   "id": "84e5957f",
   "metadata": {},
   "source": [
    "## Node group\n",
    "A `WorkTree` is a group of nodes. One can treat a `WorkTree` as a single node, and expose the inputs and outputs of the `WorkTree`. This allow you to write nested workflows.\n"
   ]
  },
  {
   "cell_type": "code",
   "execution_count": 11,
   "id": "7c9d6ed8",
   "metadata": {},
   "outputs": [],
   "source": [
    "from aiida_worktree import WorkTree, node\n",
    "\n",
    "# use node.group decorator, expose the output of \"multiply\" node\n",
    "# as the output of the `WorkTree`.\n",
    "@node.group(outputs = [[\"multiply.result\", \"result\"]])\n",
    "def add_multiply(x, y, z):\n",
    "    # Create a WorkTree\n",
    "    wt = WorkTree()\n",
    "    wt.nodes.new(add, name=\"add\", x=x, y=y)\n",
    "    wt.nodes.new(multiply, name=\"multiply\", x=z)\n",
    "    wt.links.new(wt.nodes[\"add\"].outputs[0], wt.nodes[\"multiply\"].inputs[\"y\"])\n",
    "    # don't forget to return the `wt`\n",
    "    return wt"
   ]
  },
  {
   "cell_type": "markdown",
   "id": "0fcae463",
   "metadata": {},
   "source": [
    "Use this node group inside a `WorkTree`:"
   ]
  },
  {
   "cell_type": "code",
   "execution_count": 12,
   "id": "a4d961eb",
   "metadata": {},
   "outputs": [
    {
     "name": "stderr",
     "output_type": "stream",
     "text": [
      "[INFO] 2023-07-29 14:27:22 nodetree: Create NodeTree: test_node_group\n"
     ]
    },
    {
     "name": "stdout",
     "output_type": "stream",
     "text": [
      "Worktree staet:  FINISHED\n"
     ]
    }
   ],
   "source": [
    "\n",
    "from aiida_worktree import WorkTree\n",
    "\n",
    "wt = WorkTree(\"test_node_group\")\n",
    "# create a node using the node group\n",
    "add_multiply1 = wt.nodes.new(add_multiply, x=x, y=y, z=z)\n",
    "add_multiply2 = wt.nodes.new(add_multiply, x=x, y=y)\n",
    "# link the output of int node to the input of add node\n",
    "wt.links.new(add_multiply1.outputs[0], add_multiply2.inputs[\"z\"])\n",
    "wt.submit(wait=True)\n",
    "print(\"Worktree staet: \", wt.state)"
   ]
  },
  {
   "cell_type": "markdown",
   "id": "e83a9aca",
   "metadata": {},
   "source": [
    "Get the result of the nodes:"
   ]
  },
  {
   "cell_type": "code",
   "execution_count": 13,
   "id": "bccf4f63",
   "metadata": {},
   "outputs": [
    {
     "name": "stdout",
     "output_type": "stream",
     "text": [
      "Result of node add_multiply1: 20\n"
     ]
    }
   ],
   "source": [
    "print('Result of node add_multiply1: {}'.format(add_multiply1.node.outputs.group_outputs.result.value))"
   ]
  },
  {
   "cell_type": "code",
   "execution_count": 14,
   "id": "788aea02",
   "metadata": {},
   "outputs": [
    {
     "data": {
      "image/svg+xml": [
       "<?xml version=\"1.0\" encoding=\"UTF-8\" standalone=\"no\"?>\n",
       "<!DOCTYPE svg PUBLIC \"-//W3C//DTD SVG 1.1//EN\"\n",
       " \"http://www.w3.org/Graphics/SVG/1.1/DTD/svg11.dtd\">\n",
       "<!-- Generated by graphviz version 2.43.0 (0)\n",
       " -->\n",
       "<!-- Title: %3 Pages: 1 -->\n",
       "<svg width=\"1495pt\" height=\"1374pt\"\n",
       " viewBox=\"0.00 0.00 1494.73 1373.70\" xmlns=\"http://www.w3.org/2000/svg\" xmlns:xlink=\"http://www.w3.org/1999/xlink\">\n",
       "<g id=\"graph0\" class=\"graph\" transform=\"scale(1 1) rotate(0) translate(4 1369.7)\">\n",
       "<title>%3</title>\n",
       "<polygon fill=\"white\" stroke=\"transparent\" points=\"-4,4 -4,-1369.7 1490.73,-1369.7 1490.73,4 -4,4\"/>\n",
       "<!-- N2744 -->\n",
       "<g id=\"node1\" class=\"node\">\n",
       "<title>N2744</title>\n",
       "<polygon fill=\"#e38851\" stroke=\"red\" stroke-width=\"6\" points=\"718.23,-1245.96 509.23,-1245.96 509.23,-1192.96 718.23,-1192.96 718.23,-1245.96\"/>\n",
       "<text text-anchor=\"middle\" x=\"613.73\" y=\"-1230.76\" font-family=\"Times,serif\" font-size=\"14.00\">WorkTree: test_node_group (2744)</text>\n",
       "<text text-anchor=\"middle\" x=\"613.73\" y=\"-1215.76\" font-family=\"Times,serif\" font-size=\"14.00\">State: finished</text>\n",
       "<text text-anchor=\"middle\" x=\"613.73\" y=\"-1200.76\" font-family=\"Times,serif\" font-size=\"14.00\">Exit Code: 0</text>\n",
       "</g>\n",
       "<!-- N2745 -->\n",
       "<g id=\"node9\" class=\"node\">\n",
       "<title>N2745</title>\n",
       "<polygon fill=\"#e38851\" stroke=\"black\" stroke-width=\"0\" points=\"608.23,-1126.96 409.23,-1126.96 409.23,-1073.96 608.23,-1073.96 608.23,-1126.96\"/>\n",
       "<text text-anchor=\"middle\" x=\"508.73\" y=\"-1111.76\" font-family=\"Times,serif\" font-size=\"14.00\">WorkTree: add_multiply1 (2745)</text>\n",
       "<text text-anchor=\"middle\" x=\"508.73\" y=\"-1096.76\" font-family=\"Times,serif\" font-size=\"14.00\">State: finished</text>\n",
       "<text text-anchor=\"middle\" x=\"508.73\" y=\"-1081.76\" font-family=\"Times,serif\" font-size=\"14.00\">Exit Code: 0</text>\n",
       "</g>\n",
       "<!-- N2744&#45;&gt;N2745 -->\n",
       "<g id=\"edge17\" class=\"edge\">\n",
       "<title>N2744&#45;&gt;N2745</title>\n",
       "<path fill=\"none\" stroke=\"#000000\" stroke-dasharray=\"1,5\" d=\"M590.68,-1192.78C575.37,-1175.72 555.1,-1153.13 538.55,-1134.7\"/>\n",
       "<polygon fill=\"#000000\" stroke=\"#000000\" points=\"541,-1132.18 531.72,-1127.08 535.79,-1136.86 541,-1132.18\"/>\n",
       "<text text-anchor=\"middle\" x=\"616.23\" y=\"-1163.76\" font-family=\"Times,serif\" font-size=\"14.00\">CALL_WORK</text>\n",
       "<text text-anchor=\"middle\" x=\"616.23\" y=\"-1148.76\" font-family=\"Times,serif\" font-size=\"14.00\">add_multiply1</text>\n",
       "</g>\n",
       "<!-- N2750 -->\n",
       "<g id=\"node14\" class=\"node\">\n",
       "<title>N2750</title>\n",
       "<polygon fill=\"#e38851\" stroke=\"black\" stroke-width=\"0\" points=\"766.23,-530.48 567.23,-530.48 567.23,-477.48 766.23,-477.48 766.23,-530.48\"/>\n",
       "<text text-anchor=\"middle\" x=\"666.73\" y=\"-515.28\" font-family=\"Times,serif\" font-size=\"14.00\">WorkTree: add_multiply2 (2750)</text>\n",
       "<text text-anchor=\"middle\" x=\"666.73\" y=\"-500.28\" font-family=\"Times,serif\" font-size=\"14.00\">State: finished</text>\n",
       "<text text-anchor=\"middle\" x=\"666.73\" y=\"-485.28\" font-family=\"Times,serif\" font-size=\"14.00\">Exit Code: 0</text>\n",
       "</g>\n",
       "<!-- N2744&#45;&gt;N2750 -->\n",
       "<g id=\"edge10\" class=\"edge\">\n",
       "<title>N2744&#45;&gt;N2750</title>\n",
       "<path fill=\"none\" stroke=\"#000000\" stroke-dasharray=\"1,5\" d=\"M657.34,-1192.79C686.19,-1172.2 718.73,-1140.35 718.73,-1101.46 718.73,-1101.46 718.73,-1101.46 718.73,-622.35 718.73,-588.93 719.34,-578.53 704.73,-548.48 703.1,-545.13 701.14,-541.83 698.98,-538.64\"/>\n",
       "<polygon fill=\"#000000\" stroke=\"#000000\" points=\"701.69,-536.42 692.9,-530.5 696.08,-540.61 701.69,-536.42\"/>\n",
       "<text text-anchor=\"middle\" x=\"761.23\" y=\"-865.89\" font-family=\"Times,serif\" font-size=\"14.00\">CALL_WORK</text>\n",
       "<text text-anchor=\"middle\" x=\"761.23\" y=\"-850.89\" font-family=\"Times,serif\" font-size=\"14.00\">add_multiply2</text>\n",
       "</g>\n",
       "<!-- N2731 -->\n",
       "<g id=\"node2\" class=\"node\">\n",
       "<title>N2731</title>\n",
       "<ellipse fill=\"#8cd499\" stroke=\"black\" stroke-width=\"0\" cx=\"159.73\" cy=\"-1338.83\" rx=\"50.41\" ry=\"26.74\"/>\n",
       "<text text-anchor=\"middle\" x=\"159.73\" y=\"-1342.63\" font-family=\"Times,serif\" font-size=\"14.00\">Int (2731)</text>\n",
       "<text text-anchor=\"middle\" x=\"159.73\" y=\"-1327.63\" font-family=\"Times,serif\" font-size=\"14.00\">value: 2</text>\n",
       "</g>\n",
       "<!-- N2731&#45;&gt;N2744 -->\n",
       "<g id=\"edge1\" class=\"edge\">\n",
       "<title>N2731&#45;&gt;N2744</title>\n",
       "<path fill=\"none\" stroke=\"#000000\" stroke-dasharray=\"5,2\" d=\"M111.55,-1331.23C55.38,-1321.66 -25.67,-1300.92 8.73,-1263.96 41.32,-1228.94 332.41,-1221.72 498.65,-1220.48\"/>\n",
       "<polygon fill=\"#000000\" stroke=\"#000000\" points=\"498.94,-1223.98 508.92,-1220.41 498.9,-1216.98 498.94,-1223.98\"/>\n",
       "<text text-anchor=\"middle\" x=\"148.73\" y=\"-1282.76\" font-family=\"Times,serif\" font-size=\"14.00\">INPUT_WORK</text>\n",
       "<text text-anchor=\"middle\" x=\"148.73\" y=\"-1267.76\" font-family=\"Times,serif\" font-size=\"14.00\">nt__nodes__add_multiply1__properties__x__value</text>\n",
       "</g>\n",
       "<!-- N2731&#45;&gt;N2744 -->\n",
       "<g id=\"edge5\" class=\"edge\">\n",
       "<title>N2731&#45;&gt;N2744</title>\n",
       "<path fill=\"none\" stroke=\"#000000\" stroke-dasharray=\"5,2\" d=\"M205.27,-1327.26C230.9,-1320.14 262.85,-1309.22 288.73,-1293.96 305.8,-1283.89 303.82,-1272.45 321.73,-1263.96 352.67,-1249.28 430.88,-1238.08 498.58,-1230.72\"/>\n",
       "<polygon fill=\"#000000\" stroke=\"#000000\" points=\"499.34,-1234.15 508.91,-1229.61 498.6,-1227.19 499.34,-1234.15\"/>\n",
       "<text text-anchor=\"middle\" x=\"461.73\" y=\"-1282.76\" font-family=\"Times,serif\" font-size=\"14.00\">INPUT_WORK</text>\n",
       "<text text-anchor=\"middle\" x=\"461.73\" y=\"-1267.76\" font-family=\"Times,serif\" font-size=\"14.00\">nt__nodes__add_multiply2__properties__x__value</text>\n",
       "</g>\n",
       "<!-- N2732 -->\n",
       "<g id=\"node3\" class=\"node\">\n",
       "<title>N2732</title>\n",
       "<ellipse fill=\"#8cd499\" stroke=\"black\" stroke-width=\"0\" cx=\"765.73\" cy=\"-1338.83\" rx=\"50.41\" ry=\"26.74\"/>\n",
       "<text text-anchor=\"middle\" x=\"765.73\" y=\"-1342.63\" font-family=\"Times,serif\" font-size=\"14.00\">Int (2732)</text>\n",
       "<text text-anchor=\"middle\" x=\"765.73\" y=\"-1327.63\" font-family=\"Times,serif\" font-size=\"14.00\">value: 3</text>\n",
       "</g>\n",
       "<!-- N2732&#45;&gt;N2744 -->\n",
       "<g id=\"edge2\" class=\"edge\">\n",
       "<title>N2732&#45;&gt;N2744</title>\n",
       "<path fill=\"none\" stroke=\"#000000\" stroke-dasharray=\"5,2\" d=\"M717.82,-1330.24C678.51,-1322.92 627.34,-1310.52 614.73,-1293.96 606.67,-1283.39 605.01,-1269.25 605.87,-1256.2\"/>\n",
       "<polygon fill=\"#000000\" stroke=\"#000000\" points=\"609.37,-1256.39 607.02,-1246.06 602.41,-1255.6 609.37,-1256.39\"/>\n",
       "<text text-anchor=\"middle\" x=\"754.73\" y=\"-1282.76\" font-family=\"Times,serif\" font-size=\"14.00\">INPUT_WORK</text>\n",
       "<text text-anchor=\"middle\" x=\"754.73\" y=\"-1267.76\" font-family=\"Times,serif\" font-size=\"14.00\">nt__nodes__add_multiply2__properties__y__value</text>\n",
       "</g>\n",
       "<!-- N2732&#45;&gt;N2744 -->\n",
       "<g id=\"edge4\" class=\"edge\">\n",
       "<title>N2732&#45;&gt;N2744</title>\n",
       "<path fill=\"none\" stroke=\"#000000\" stroke-dasharray=\"5,2\" d=\"M812.69,-1328.92C860.09,-1317.89 922.61,-1296.49 894.73,-1263.96 873.11,-1238.74 796.55,-1228.01 728.8,-1223.51\"/>\n",
       "<polygon fill=\"#000000\" stroke=\"#000000\" points=\"728.64,-1220 718.44,-1222.87 728.2,-1226.98 728.64,-1220\"/>\n",
       "<text text-anchor=\"middle\" x=\"1041.73\" y=\"-1282.76\" font-family=\"Times,serif\" font-size=\"14.00\">INPUT_WORK</text>\n",
       "<text text-anchor=\"middle\" x=\"1041.73\" y=\"-1267.76\" font-family=\"Times,serif\" font-size=\"14.00\">nt__nodes__add_multiply1__properties__y__value</text>\n",
       "</g>\n",
       "<!-- N2733 -->\n",
       "<g id=\"node4\" class=\"node\">\n",
       "<title>N2733</title>\n",
       "<ellipse fill=\"#8cd499\" stroke=\"black\" stroke-width=\"0\" cx=\"1219.73\" cy=\"-1338.83\" rx=\"50.41\" ry=\"26.74\"/>\n",
       "<text text-anchor=\"middle\" x=\"1219.73\" y=\"-1342.63\" font-family=\"Times,serif\" font-size=\"14.00\">Int (2733)</text>\n",
       "<text text-anchor=\"middle\" x=\"1219.73\" y=\"-1327.63\" font-family=\"Times,serif\" font-size=\"14.00\">value: 4</text>\n",
       "</g>\n",
       "<!-- N2733&#45;&gt;N2744 -->\n",
       "<g id=\"edge3\" class=\"edge\">\n",
       "<title>N2733&#45;&gt;N2744</title>\n",
       "<path fill=\"none\" stroke=\"#000000\" stroke-dasharray=\"5,2\" d=\"M1214.81,-1311.94C1210.23,-1295.38 1201.61,-1275 1185.73,-1263.96 1149.17,-1238.54 884.58,-1227.41 728.37,-1223.01\"/>\n",
       "<polygon fill=\"#000000\" stroke=\"#000000\" points=\"728.34,-1219.5 718.24,-1222.73 728.14,-1226.5 728.34,-1219.5\"/>\n",
       "<text text-anchor=\"middle\" x=\"1347.23\" y=\"-1282.76\" font-family=\"Times,serif\" font-size=\"14.00\">INPUT_WORK</text>\n",
       "<text text-anchor=\"middle\" x=\"1347.23\" y=\"-1267.76\" font-family=\"Times,serif\" font-size=\"14.00\">nt__nodes__add_multiply1__properties__z__value</text>\n",
       "</g>\n",
       "<!-- N2747 -->\n",
       "<g id=\"node5\" class=\"node\">\n",
       "<title>N2747</title>\n",
       "<ellipse fill=\"#8cd499\" stroke=\"black\" stroke-width=\"0\" cx=\"363.73\" cy=\"-862.09\" rx=\"50.41\" ry=\"26.74\"/>\n",
       "<text text-anchor=\"middle\" x=\"363.73\" y=\"-865.89\" font-family=\"Times,serif\" font-size=\"14.00\">Int (2747)</text>\n",
       "<text text-anchor=\"middle\" x=\"363.73\" y=\"-850.89\" font-family=\"Times,serif\" font-size=\"14.00\">value: 5</text>\n",
       "</g>\n",
       "<!-- N2748 -->\n",
       "<g id=\"node8\" class=\"node\">\n",
       "<title>N2748</title>\n",
       "<polygon fill=\"#de707f\" fill-opacity=\"0.466667\" stroke=\"black\" stroke-width=\"0\" points=\"508.23,-769.22 405.23,-769.22 405.23,-716.22 508.23,-716.22 508.23,-769.22\"/>\n",
       "<text text-anchor=\"middle\" x=\"456.73\" y=\"-754.02\" font-family=\"Times,serif\" font-size=\"14.00\">multiply (2748)</text>\n",
       "<text text-anchor=\"middle\" x=\"456.73\" y=\"-739.02\" font-family=\"Times,serif\" font-size=\"14.00\">State: finished</text>\n",
       "<text text-anchor=\"middle\" x=\"456.73\" y=\"-724.02\" font-family=\"Times,serif\" font-size=\"14.00\">Exit Code: 0</text>\n",
       "</g>\n",
       "<!-- N2747&#45;&gt;N2748 -->\n",
       "<g id=\"edge18\" class=\"edge\">\n",
       "<title>N2747&#45;&gt;N2748</title>\n",
       "<path fill=\"none\" stroke=\"#000000\" d=\"M357.66,-835.21C355.59,-820.08 355.71,-801.25 364.73,-787.22 372.18,-775.62 383.65,-767.05 395.98,-760.74\"/>\n",
       "<polygon fill=\"#000000\" stroke=\"#000000\" points=\"397.46,-763.91 405.07,-756.53 394.52,-757.56 397.46,-763.91\"/>\n",
       "<text text-anchor=\"middle\" x=\"406.23\" y=\"-806.02\" font-family=\"Times,serif\" font-size=\"14.00\">INPUT_CALC</text>\n",
       "<text text-anchor=\"middle\" x=\"406.23\" y=\"-791.02\" font-family=\"Times,serif\" font-size=\"14.00\">y</text>\n",
       "</g>\n",
       "<!-- N2746 -->\n",
       "<g id=\"node6\" class=\"node\">\n",
       "<title>N2746</title>\n",
       "<polygon fill=\"#de707f\" fill-opacity=\"0.466667\" stroke=\"black\" stroke-width=\"0\" points=\"414.23,-1007.96 319.23,-1007.96 319.23,-954.96 414.23,-954.96 414.23,-1007.96\"/>\n",
       "<text text-anchor=\"middle\" x=\"366.73\" y=\"-992.76\" font-family=\"Times,serif\" font-size=\"14.00\">add (2746)</text>\n",
       "<text text-anchor=\"middle\" x=\"366.73\" y=\"-977.76\" font-family=\"Times,serif\" font-size=\"14.00\">State: finished</text>\n",
       "<text text-anchor=\"middle\" x=\"366.73\" y=\"-962.76\" font-family=\"Times,serif\" font-size=\"14.00\">Exit Code: 0</text>\n",
       "</g>\n",
       "<!-- N2746&#45;&gt;N2747 -->\n",
       "<g id=\"edge13\" class=\"edge\">\n",
       "<title>N2746&#45;&gt;N2747</title>\n",
       "<path fill=\"none\" stroke=\"#000000\" d=\"M366.07,-954.7C365.65,-938.46 365.11,-917.23 364.65,-899.31\"/>\n",
       "<polygon fill=\"#000000\" stroke=\"#000000\" points=\"368.15,-899.1 364.39,-889.19 361.15,-899.28 368.15,-899.1\"/>\n",
       "<text text-anchor=\"middle\" x=\"391.73\" y=\"-925.76\" font-family=\"Times,serif\" font-size=\"14.00\">CREATE</text>\n",
       "<text text-anchor=\"middle\" x=\"391.73\" y=\"-910.76\" font-family=\"Times,serif\" font-size=\"14.00\">result</text>\n",
       "</g>\n",
       "<!-- N2749 -->\n",
       "<g id=\"node7\" class=\"node\">\n",
       "<title>N2749</title>\n",
       "<ellipse fill=\"#8cd499\" stroke=\"black\" stroke-width=\"0\" cx=\"456.73\" cy=\"-623.35\" rx=\"50.41\" ry=\"26.74\"/>\n",
       "<text text-anchor=\"middle\" x=\"456.73\" y=\"-627.15\" font-family=\"Times,serif\" font-size=\"14.00\">Int (2749)</text>\n",
       "<text text-anchor=\"middle\" x=\"456.73\" y=\"-612.15\" font-family=\"Times,serif\" font-size=\"14.00\">value: 20</text>\n",
       "</g>\n",
       "<!-- N2753 -->\n",
       "<g id=\"node13\" class=\"node\">\n",
       "<title>N2753</title>\n",
       "<polygon fill=\"#de707f\" fill-opacity=\"0.466667\" stroke=\"black\" stroke-width=\"0\" points=\"669.23,-172.74 566.23,-172.74 566.23,-119.74 669.23,-119.74 669.23,-172.74\"/>\n",
       "<text text-anchor=\"middle\" x=\"617.73\" y=\"-157.54\" font-family=\"Times,serif\" font-size=\"14.00\">multiply (2753)</text>\n",
       "<text text-anchor=\"middle\" x=\"617.73\" y=\"-142.54\" font-family=\"Times,serif\" font-size=\"14.00\">State: finished</text>\n",
       "<text text-anchor=\"middle\" x=\"617.73\" y=\"-127.54\" font-family=\"Times,serif\" font-size=\"14.00\">Exit Code: 0</text>\n",
       "</g>\n",
       "<!-- N2749&#45;&gt;N2753 -->\n",
       "<g id=\"edge11\" class=\"edge\">\n",
       "<title>N2749&#45;&gt;N2753</title>\n",
       "<path fill=\"none\" stroke=\"#000000\" d=\"M445.19,-596.82C435.67,-573.43 423.73,-537.58 423.73,-504.98 423.73,-504.98 423.73,-504.98 423.73,-264.61 423.73,-201.76 499.19,-171.65 555.99,-157.89\"/>\n",
       "<polygon fill=\"#000000\" stroke=\"#000000\" points=\"557.03,-161.24 565.99,-155.59 555.46,-154.42 557.03,-161.24\"/>\n",
       "<text text-anchor=\"middle\" x=\"465.23\" y=\"-388.78\" font-family=\"Times,serif\" font-size=\"14.00\">INPUT_CALC</text>\n",
       "<text text-anchor=\"middle\" x=\"465.23\" y=\"-373.78\" font-family=\"Times,serif\" font-size=\"14.00\">x</text>\n",
       "</g>\n",
       "<!-- N2749&#45;&gt;N2750 -->\n",
       "<g id=\"edge12\" class=\"edge\">\n",
       "<title>N2749&#45;&gt;N2750</title>\n",
       "<path fill=\"none\" stroke=\"#000000\" stroke-dasharray=\"5,2\" d=\"M449.68,-596.69C447.03,-581.07 446.87,-561.64 457.73,-548.48 471.1,-532.26 513.64,-521.88 556.89,-515.34\"/>\n",
       "<polygon fill=\"#000000\" stroke=\"#000000\" points=\"557.6,-518.77 566.99,-513.88 556.6,-511.85 557.6,-518.77\"/>\n",
       "<text text-anchor=\"middle\" x=\"581.23\" y=\"-567.28\" font-family=\"Times,serif\" font-size=\"14.00\">INPUT_WORK</text>\n",
       "<text text-anchor=\"middle\" x=\"581.23\" y=\"-552.28\" font-family=\"Times,serif\" font-size=\"14.00\">nt__nodes__multiply__properties__x__value</text>\n",
       "</g>\n",
       "<!-- N2748&#45;&gt;N2749 -->\n",
       "<g id=\"edge19\" class=\"edge\">\n",
       "<title>N2748&#45;&gt;N2749</title>\n",
       "<path fill=\"none\" stroke=\"#000000\" d=\"M456.73,-715.96C456.73,-699.72 456.73,-678.49 456.73,-660.57\"/>\n",
       "<polygon fill=\"#000000\" stroke=\"#000000\" points=\"460.23,-660.45 456.73,-650.45 453.23,-660.45 460.23,-660.45\"/>\n",
       "<text text-anchor=\"middle\" x=\"482.73\" y=\"-687.02\" font-family=\"Times,serif\" font-size=\"14.00\">CREATE</text>\n",
       "<text text-anchor=\"middle\" x=\"482.73\" y=\"-672.02\" font-family=\"Times,serif\" font-size=\"14.00\">result</text>\n",
       "</g>\n",
       "<!-- N2745&#45;&gt;N2746 -->\n",
       "<g id=\"edge7\" class=\"edge\">\n",
       "<title>N2745&#45;&gt;N2746</title>\n",
       "<path fill=\"none\" stroke=\"#000000\" stroke-dasharray=\"1,5\" d=\"M408.96,-1085.42C393.31,-1078.87 378.95,-1069.45 368.73,-1055.96 360.7,-1045.36 358.87,-1031.22 359.53,-1018.18\"/>\n",
       "<polygon fill=\"#000000\" stroke=\"#000000\" points=\"363.03,-1018.33 360.52,-1008.04 356.06,-1017.65 363.03,-1018.33\"/>\n",
       "<text text-anchor=\"middle\" x=\"408.23\" y=\"-1044.76\" font-family=\"Times,serif\" font-size=\"14.00\">CALL_CALC</text>\n",
       "<text text-anchor=\"middle\" x=\"408.23\" y=\"-1029.76\" font-family=\"Times,serif\" font-size=\"14.00\">add</text>\n",
       "</g>\n",
       "<!-- N2745&#45;&gt;N2749 -->\n",
       "<g id=\"edge8\" class=\"edge\">\n",
       "<title>N2745&#45;&gt;N2749</title>\n",
       "<path fill=\"none\" stroke=\"#000000\" stroke-dasharray=\"5,2\" d=\"M525.7,-1073.69C539.16,-1050.74 555.73,-1015.73 555.73,-982.46 555.73,-982.46 555.73,-982.46 555.73,-741.72 555.73,-703.43 524.56,-671.16 497.2,-650.2\"/>\n",
       "<polygon fill=\"#000000\" stroke=\"#000000\" points=\"499,-647.18 488.87,-644.07 494.85,-652.82 499,-647.18\"/>\n",
       "<text text-anchor=\"middle\" x=\"616.73\" y=\"-865.89\" font-family=\"Times,serif\" font-size=\"14.00\">RETURN</text>\n",
       "<text text-anchor=\"middle\" x=\"616.73\" y=\"-850.89\" font-family=\"Times,serif\" font-size=\"14.00\">group_outputs__result</text>\n",
       "</g>\n",
       "<!-- N2745&#45;&gt;N2748 -->\n",
       "<g id=\"edge16\" class=\"edge\">\n",
       "<title>N2745&#45;&gt;N2748</title>\n",
       "<path fill=\"none\" stroke=\"#000000\" stroke-dasharray=\"1,5\" d=\"M499.32,-1073.72C488.24,-1042.04 470.37,-986.36 462.73,-936.96 454.31,-882.54 454.22,-818.5 455.24,-779.52\"/>\n",
       "<polygon fill=\"#000000\" stroke=\"#000000\" points=\"458.74,-779.33 455.55,-769.22 451.75,-779.11 458.74,-779.33\"/>\n",
       "<text text-anchor=\"middle\" x=\"502.23\" y=\"-925.76\" font-family=\"Times,serif\" font-size=\"14.00\">CALL_CALC</text>\n",
       "<text text-anchor=\"middle\" x=\"502.23\" y=\"-910.76\" font-family=\"Times,serif\" font-size=\"14.00\">multiply</text>\n",
       "</g>\n",
       "<!-- N2752 -->\n",
       "<g id=\"node10\" class=\"node\">\n",
       "<title>N2752</title>\n",
       "<ellipse fill=\"#8cd499\" stroke=\"black\" stroke-width=\"0\" cx=\"569.73\" cy=\"-265.61\" rx=\"50.41\" ry=\"26.74\"/>\n",
       "<text text-anchor=\"middle\" x=\"569.73\" y=\"-269.41\" font-family=\"Times,serif\" font-size=\"14.00\">Int (2752)</text>\n",
       "<text text-anchor=\"middle\" x=\"569.73\" y=\"-254.41\" font-family=\"Times,serif\" font-size=\"14.00\">value: 5</text>\n",
       "</g>\n",
       "<!-- N2752&#45;&gt;N2753 -->\n",
       "<g id=\"edge15\" class=\"edge\">\n",
       "<title>N2752&#45;&gt;N2753</title>\n",
       "<path fill=\"none\" stroke=\"#000000\" d=\"M564.7,-238.58C563.07,-223.93 563.13,-205.63 569.73,-190.74 571.28,-187.24 573.26,-183.91 575.54,-180.76\"/>\n",
       "<polygon fill=\"#000000\" stroke=\"#000000\" points=\"578.43,-182.76 582.15,-172.84 573.05,-178.27 578.43,-182.76\"/>\n",
       "<text text-anchor=\"middle\" x=\"611.23\" y=\"-209.54\" font-family=\"Times,serif\" font-size=\"14.00\">INPUT_CALC</text>\n",
       "<text text-anchor=\"middle\" x=\"611.23\" y=\"-194.54\" font-family=\"Times,serif\" font-size=\"14.00\">y</text>\n",
       "</g>\n",
       "<!-- N2751 -->\n",
       "<g id=\"node11\" class=\"node\">\n",
       "<title>N2751</title>\n",
       "<polygon fill=\"#de707f\" fill-opacity=\"0.466667\" stroke=\"black\" stroke-width=\"0\" points=\"620.23,-411.48 525.23,-411.48 525.23,-358.48 620.23,-358.48 620.23,-411.48\"/>\n",
       "<text text-anchor=\"middle\" x=\"572.73\" y=\"-396.28\" font-family=\"Times,serif\" font-size=\"14.00\">add (2751)</text>\n",
       "<text text-anchor=\"middle\" x=\"572.73\" y=\"-381.28\" font-family=\"Times,serif\" font-size=\"14.00\">State: finished</text>\n",
       "<text text-anchor=\"middle\" x=\"572.73\" y=\"-366.28\" font-family=\"Times,serif\" font-size=\"14.00\">Exit Code: 0</text>\n",
       "</g>\n",
       "<!-- N2751&#45;&gt;N2752 -->\n",
       "<g id=\"edge6\" class=\"edge\">\n",
       "<title>N2751&#45;&gt;N2752</title>\n",
       "<path fill=\"none\" stroke=\"#000000\" d=\"M572.07,-358.22C571.65,-341.98 571.11,-320.75 570.65,-302.83\"/>\n",
       "<polygon fill=\"#000000\" stroke=\"#000000\" points=\"574.15,-302.62 570.39,-292.71 567.15,-302.8 574.15,-302.62\"/>\n",
       "<text text-anchor=\"middle\" x=\"597.73\" y=\"-329.28\" font-family=\"Times,serif\" font-size=\"14.00\">CREATE</text>\n",
       "<text text-anchor=\"middle\" x=\"597.73\" y=\"-314.28\" font-family=\"Times,serif\" font-size=\"14.00\">result</text>\n",
       "</g>\n",
       "<!-- N2754 -->\n",
       "<g id=\"node12\" class=\"node\">\n",
       "<title>N2754</title>\n",
       "<ellipse fill=\"#8cd499\" stroke=\"black\" stroke-width=\"0\" cx=\"713.73\" cy=\"-26.87\" rx=\"52.15\" ry=\"26.74\"/>\n",
       "<text text-anchor=\"middle\" x=\"713.73\" y=\"-30.67\" font-family=\"Times,serif\" font-size=\"14.00\">Int (2754)</text>\n",
       "<text text-anchor=\"middle\" x=\"713.73\" y=\"-15.67\" font-family=\"Times,serif\" font-size=\"14.00\">value: 100</text>\n",
       "</g>\n",
       "<!-- N2753&#45;&gt;N2754 -->\n",
       "<g id=\"edge21\" class=\"edge\">\n",
       "<title>N2753&#45;&gt;N2754</title>\n",
       "<path fill=\"none\" stroke=\"#000000\" d=\"M638.79,-119.48C653.12,-101.97 672.18,-78.66 687.49,-59.94\"/>\n",
       "<polygon fill=\"#000000\" stroke=\"#000000\" points=\"690.4,-61.92 694.02,-51.97 684.98,-57.49 690.4,-61.92\"/>\n",
       "<text text-anchor=\"middle\" x=\"703.73\" y=\"-90.54\" font-family=\"Times,serif\" font-size=\"14.00\">CREATE</text>\n",
       "<text text-anchor=\"middle\" x=\"703.73\" y=\"-75.54\" font-family=\"Times,serif\" font-size=\"14.00\">result</text>\n",
       "</g>\n",
       "<!-- N2750&#45;&gt;N2751 -->\n",
       "<g id=\"edge20\" class=\"edge\">\n",
       "<title>N2750&#45;&gt;N2751</title>\n",
       "<path fill=\"none\" stroke=\"#000000\" stroke-dasharray=\"1,5\" d=\"M591.07,-477.41C584.28,-472.44 578.27,-466.52 573.73,-459.48 566.7,-448.59 565.09,-434.78 565.7,-422.07\"/>\n",
       "<polygon fill=\"#000000\" stroke=\"#000000\" points=\"569.22,-422.02 566.67,-411.74 562.25,-421.37 569.22,-422.02\"/>\n",
       "<text text-anchor=\"middle\" x=\"613.23\" y=\"-448.28\" font-family=\"Times,serif\" font-size=\"14.00\">CALL_CALC</text>\n",
       "<text text-anchor=\"middle\" x=\"613.23\" y=\"-433.28\" font-family=\"Times,serif\" font-size=\"14.00\">add</text>\n",
       "</g>\n",
       "<!-- N2750&#45;&gt;N2754 -->\n",
       "<g id=\"edge9\" class=\"edge\">\n",
       "<title>N2750&#45;&gt;N2754</title>\n",
       "<path fill=\"none\" stroke=\"#000000\" stroke-dasharray=\"5,2\" d=\"M704.42,-477.38C730.57,-456.28 760.73,-423.76 760.73,-385.98 760.73,-385.98 760.73,-385.98 760.73,-145.24 760.73,-115.53 747.59,-84.43 735.2,-61.71\"/>\n",
       "<polygon fill=\"#000000\" stroke=\"#000000\" points=\"738.14,-59.79 730.17,-52.82 732.05,-63.25 738.14,-59.79\"/>\n",
       "<text text-anchor=\"middle\" x=\"821.73\" y=\"-269.41\" font-family=\"Times,serif\" font-size=\"14.00\">RETURN</text>\n",
       "<text text-anchor=\"middle\" x=\"821.73\" y=\"-254.41\" font-family=\"Times,serif\" font-size=\"14.00\">group_outputs__result</text>\n",
       "</g>\n",
       "<!-- N2750&#45;&gt;N2753 -->\n",
       "<g id=\"edge14\" class=\"edge\">\n",
       "<title>N2750&#45;&gt;N2753</title>\n",
       "<path fill=\"none\" stroke=\"#000000\" stroke-dasharray=\"1,5\" d=\"M666.49,-477.45C665.72,-407.68 662.72,-217.2 652.73,-190.74 651.56,-187.66 650.09,-184.63 648.41,-181.69\"/>\n",
       "<polygon fill=\"#000000\" stroke=\"#000000\" points=\"651.26,-179.65 642.86,-173.19 645.4,-183.47 651.26,-179.65\"/>\n",
       "<text text-anchor=\"middle\" x=\"704.23\" y=\"-329.28\" font-family=\"Times,serif\" font-size=\"14.00\">CALL_CALC</text>\n",
       "<text text-anchor=\"middle\" x=\"704.23\" y=\"-314.28\" font-family=\"Times,serif\" font-size=\"14.00\">multiply</text>\n",
       "</g>\n",
       "</g>\n",
       "</svg>\n"
      ],
      "text/plain": [
       "<graphviz.graphs.Digraph at 0x7f0ef77b9ed0>"
      ]
     },
     "execution_count": 14,
     "metadata": {},
     "output_type": "execute_result"
    }
   ],
   "source": [
    "generate_node_graph(wt.pk)"
   ]
  },
  {
   "cell_type": "markdown",
   "id": "a0779e9d",
   "metadata": {},
   "source": [
    "## What's Next\n",
    "\n",
    "|        |                                         |\n",
    "|---------------|----------------------------------------------------|\n",
    "| [Concepts](concept/index.rst)                          | A brief introduction of WorkTree’s main concepts.  |\n",
    "| [Tutorials](tutorial/index.rst)                        | Real-world examples in computational materials science and more.                     |\n",
    "| [HowTo](howto/index.rst)                              | Advanced topics and tips, e.g flow control using `if`, `for`, `while` and `context`.    |"
   ]
  },
  {
   "cell_type": "markdown",
   "id": "6ff140c8",
   "metadata": {},
   "source": []
  }
 ],
 "metadata": {
  "kernelspec": {
   "display_name": "Python 3.10.4 ('scinode')",
   "language": "python",
   "name": "python3"
  },
  "language_info": {
   "codemirror_mode": {
    "name": "ipython",
    "version": 3
   },
   "file_extension": ".py",
   "mimetype": "text/x-python",
   "name": "python",
   "nbconvert_exporter": "python",
   "pygments_lexer": "ipython3",
   "version": "3.11.0"
  },
  "vscode": {
   "interpreter": {
    "hash": "2f450c1ff08798c4974437dd057310afef0de414c25d1fd960ad375311c3f6ff"
   }
  }
 },
 "nbformat": 4,
 "nbformat_minor": 5
}
