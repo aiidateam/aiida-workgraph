{
 "cells": [
  {
   "cell_type": "markdown",
   "id": "22d177dc-6cfb-4de2-9509-f1eb45e10cf2",
   "metadata": {},
   "source": [
    "# Quick Start"
   ]
  },
  {
   "cell_type": "markdown",
   "id": "58696c91",
   "metadata": {},
   "source": [
    "## Introduction\n",
    "In this tutorial, you will get a quick view of `AiiDA-WorkGraph`. To run this tutorial, you need to install `aiida-workgraph`. Open a terminal and run:\n",
    "\n",
    "```console\n",
    "pip install aiida-workgraph\n",
    "```\n",
    "\n",
    "Start (or restart) the AiiDA daemon if needed:\n",
    "```console\n",
    "verdi daemon start\n",
    "```\n",
    "\n",
    "Load the AiiDA profile."
   ]
  },
  {
   "cell_type": "code",
   "execution_count": 1,
   "id": "c6b83fb5",
   "metadata": {},
   "outputs": [
    {
     "data": {
      "text/plain": [
       "Profile<uuid='57ccbf7d9e2b41b39edb2bfdaf725feb' name='default'>"
      ]
     },
     "execution_count": 1,
     "metadata": {},
     "output_type": "execute_result"
    }
   ],
   "source": [
    "%load_ext aiida\n",
    "from aiida import load_profile\n",
    "load_profile()"
   ]
  },
  {
   "cell_type": "markdown",
   "id": "30719f9a",
   "metadata": {},
   "source": [
    "## First workflow\n",
    "Suppose we want to calculate ```(x + y) * z ``` in two steps. First, add `x` and `y`, then multiply the result with `z`.\n"
   ]
  },
  {
   "cell_type": "markdown",
   "id": "0f46d277",
   "metadata": {},
   "source": [
    "### Create node\n",
    "Node is the basic building block of the WorkGraph. A node has inputs, outputs. In AiiDA, one uses the `calcfunction` to do the calculation and generate new data. AiiDA-WorkGraph goes one step further by transforming a `calcfunction` to a `Node`."
   ]
  },
  {
   "cell_type": "code",
   "execution_count": 8,
   "id": "11e3bca1-dda6-44e9-9585-54feeda7e7db",
   "metadata": {},
   "outputs": [],
   "source": [
    "from aiida_workgraph import node\n",
    "\n",
    "# define add node\n",
    "@node.calcfunction()\n",
    "def add(x, y):\n",
    "    return x + y\n",
    "\n",
    "# define multiply node\n",
    "@node.calcfunction()\n",
    "def multiply(x, y):\n",
    "    return x*y\n"
   ]
  },
  {
   "cell_type": "markdown",
   "id": "9fd61a7b",
   "metadata": {},
   "source": [
    "\n",
    "#### Visualize the node\n",
    "If you are running in a Jupiter notebook, you can visualize the node by adding the following code to the last line of the cell:\n",
    "\n",
    "```python\n",
    "add.node()\n",
    "```\n"
   ]
  },
  {
   "cell_type": "code",
   "execution_count": 9,
   "id": "b6eb5dad",
   "metadata": {},
   "outputs": [
    {
     "data": {
      "text/html": [
       "\n",
       "        <iframe\n",
       "            width=\"100%\"\n",
       "            height=\"600px\"\n",
       "            src=\"add0.html\"\n",
       "            frameborder=\"0\"\n",
       "            allowfullscreen\n",
       "            \n",
       "        ></iframe>\n",
       "        "
      ],
      "text/plain": [
       "<IPython.lib.display.IFrame at 0x730d4145c250>"
      ]
     },
     "execution_count": 9,
     "metadata": {},
     "output_type": "execute_result"
    }
   ],
   "source": [
    "\n",
    "# export the node to html file so that it can be visualized in a browser\n",
    "add.node().to_html()\n",
    "\n",
    "# visualize the node in jupyter-notebook\n",
    "# add.node()"
   ]
  },
  {
   "cell_type": "markdown",
   "id": "e99dbcb5",
   "metadata": {},
   "source": [
    "The input sockets are generated automatically based on the function arguments. The default name of the output socket is `result`. There are also some built-in sockets for all nodes, like `_wait` and `_outputs`.  In case of `calcfunction`, it also has several built-in sockets, such as `metadata`. One can also create a node instance and inpsect its inputs and outputs:"
   ]
  },
  {
   "cell_type": "code",
   "execution_count": null,
   "id": "13adc082",
   "metadata": {},
   "outputs": [],
   "source": [
    "add1 = add.node()\n",
    "print(\"Inputs:\", add1.inputs.keys())\n",
    "print(\"Outputs:\", add1.outputs.keys())"
   ]
  },
  {
   "cell_type": "markdown",
   "id": "74c443e8",
   "metadata": {},
   "source": [
    "If you want to change the name of the output sockets, or if there are more than one output. You must define the outputs explicitly.\n",
    "For example:"
   ]
  },
  {
   "cell_type": "code",
   "execution_count": null,
   "id": "eef6b12f",
   "metadata": {},
   "outputs": [],
   "source": [
    "# define add calcfunction node\n",
    "@node.calcfunction(outputs=[[\"General\", \"sum\"],\n",
    "               [\"General\", \"difference\"]])\n",
    "def add_minus(x, y):\n",
    "   return {\"sum\": x + y, \"difference\": x - y}\n",
    "\n",
    "print(\"Inputs:\", add_minus.node().inputs.keys())\n",
    "print(\"Outputs:\", add_minus.node().outputs.keys())"
   ]
  },
  {
   "cell_type": "markdown",
   "id": "d52a0d85",
   "metadata": {},
   "source": [
    " Each output is defined by two values: e.g. `[\"General\", \"sum\"]`, where the first value `General` indicates the data type, and the second value is the name of the socket. The data type tell the code how to display the socket in the GUI and to serialize data into database. We use `General` for any data type."
   ]
  },
  {
   "cell_type": "markdown",
   "id": "65f4c44d",
   "metadata": {},
   "source": [
    "### Create the workflow\n",
    "Three steps:\n",
    "\n",
    "- create a empty `WorkGraph`\n",
    "- add nodes: `add` and `multiply`.\n",
    "- link the output of the `add` node to one of the `x` input of the `multiply` node.\n",
    "\n",
    "\n",
    "#### Visualize the workgraph\n",
    "If you are running in a Jupiter notebook, you can visualize the workgraph by adding the following code to the last line of the cell:\n",
    "\n",
    "```python\n",
    "wg\n",
    "```\n"
   ]
  },
  {
   "cell_type": "code",
   "execution_count": 3,
   "id": "8ee799d2-0b5b-4609-957f-6b3f2cd451f0",
   "metadata": {},
   "outputs": [
    {
     "data": {
      "text/html": [
       "\n",
       "        <iframe\n",
       "            width=\"100%\"\n",
       "            height=\"600px\"\n",
       "            src=\"first_workflow.html\"\n",
       "            frameborder=\"0\"\n",
       "            allowfullscreen\n",
       "            \n",
       "        ></iframe>\n",
       "        "
      ],
      "text/plain": [
       "<IPython.lib.display.IFrame at 0x730d819630d0>"
      ]
     },
     "execution_count": 3,
     "metadata": {},
     "output_type": "execute_result"
    }
   ],
   "source": [
    "from aiida_workgraph import WorkGraph\n",
    "from aiida.orm import Int\n",
    "\n",
    "wg = WorkGraph(\"first_workflow\")\n",
    "wg.nodes.new(add, name=\"add\", x=Int(2.0), y=Int(3.0))\n",
    "wg.nodes.new(multiply, name=\"multiply\", y=Int(4.0))\n",
    "wg.links.new(wg.nodes[\"add\"].outputs[0], wg.nodes[\"multiply\"].inputs[\"x\"])\n",
    "\n",
    "# export the workgraph to html file so that it can be visualized in a browser\n",
    "wg.to_html()\n",
    "# visualize the workgraph in jupyter-notebook\n",
    "# wg"
   ]
  },
  {
   "cell_type": "markdown",
   "id": "d25beb02-ee82-4a27-ae48-edc5c147904c",
   "metadata": {},
   "source": [
    "### Submit and view results\n"
   ]
  },
  {
   "cell_type": "code",
   "execution_count": null,
   "id": "9ebf35aa",
   "metadata": {},
   "outputs": [],
   "source": [
    "wg.submit(wait=True)\n",
    "\n",
    "print(\"State of WorkGraph:   {}\".format(wg.state))\n",
    "print('Result of add      : {}'.format(wg.nodes[\"add\"].outputs[0].value))\n",
    "print('Result of multiply : {}'.format(wg.nodes[\"multiply\"].outputs[0].value))"
   ]
  },
  {
   "cell_type": "markdown",
   "id": "125ac629",
   "metadata": {},
   "source": [
    "One can also generate the node graph from the AiiDA process:"
   ]
  },
  {
   "cell_type": "code",
   "execution_count": null,
   "id": "0060e380",
   "metadata": {},
   "outputs": [],
   "source": [
    "from aiida_workgraph.utils import generate_node_graph\n",
    "generate_node_graph(wg.pk)"
   ]
  },
  {
   "cell_type": "markdown",
   "id": "82a471a5",
   "metadata": {},
   "source": [
    "## Remote job\n",
    "We set `run_remotely` to `True` when adding the node. This will tell the engine that the job should be run on a remote computer.\n",
    "\n",
    "In this case, we use define the node using normal function instead of `calcfunction`. Thus, user does not need to install AiiDA on the remote computer.\n"
   ]
  },
  {
   "cell_type": "code",
   "execution_count": 12,
   "id": "f57573bd",
   "metadata": {},
   "outputs": [
    {
     "data": {
      "text/html": [
       "\n",
       "        <iframe\n",
       "            width=\"100%\"\n",
       "            height=\"600px\"\n",
       "            src=\"second_workflow.html\"\n",
       "            frameborder=\"0\"\n",
       "            allowfullscreen\n",
       "            \n",
       "        ></iframe>\n",
       "        "
      ],
      "text/plain": [
       "<IPython.lib.display.IFrame at 0x730d412bbf10>"
      ]
     },
     "execution_count": 12,
     "metadata": {},
     "output_type": "execute_result"
    }
   ],
   "source": [
    "from aiida_workgraph import WorkGraph, node\n",
    "\n",
    "# define add node-\n",
    "@node()\n",
    "def add(x, y):\n",
    "    return x + y\n",
    "\n",
    "# define multiply node\n",
    "@node()\n",
    "def multiply(x, y):\n",
    "    return x*y\n",
    "\n",
    "wg = WorkGraph(\"second_workflow\")\n",
    "wg.nodes.new(add, name=\"add\", run_remotely=True)\n",
    "wg.nodes.new(multiply, name=\"multiply\", x=wg.nodes[\"add\"].outputs[0], run_remotely=True)\n",
    "\n",
    "# export the workgraph to html file so that it can be visualized in a browser\n",
    "wg.to_html()\n",
    "# visualize the workgraph in jupyter-notebook\n",
    "# wg"
   ]
  },
  {
   "cell_type": "markdown",
   "id": "2e77f4e9",
   "metadata": {},
   "source": [
    "\n",
    "### Submit the workgraph\n",
    "\n",
    "**Code**: We can set the `computer` to the remote computer where we want to run the job. This will create a code `python3@computer` if not exists. Of course, you can also set the `code` directly if you have already created the code.\n",
    "\n",
    "\n",
    "**Data**: Users can (and is recoomaneded) use normal Python data as input. The workgraph will transfer the data to AiiDA data (`GeneralData`) using pickle.\n",
    "\n",
    "**Python Version**: since pickle is used to store and load data, the Python version on the remote computer should match the one used in the localhost. One can use conda to create a virtual environment with the same Python version. Then activate the environment before running the script.\n",
    "\n",
    "```python\n",
    "# For real applications, one can pass metadata to the scheduler to activate the conda environment\n",
    "metadata = {\n",
    "    \"options\": {\n",
    "        'custom_scheduler_commands' : 'module load anaconda\\nconda activate py3.11\\n',\n",
    "    }\n",
    "}\n",
    "```"
   ]
  },
  {
   "cell_type": "code",
   "execution_count": null,
   "id": "f6865793",
   "metadata": {},
   "outputs": [],
   "source": [
    "from aiida_workgraph.utils import generate_node_graph\n",
    "\n",
    "#------------------------- Submit the calculation -------------------\n",
    "# For real applications, one can pass metadata to the scheduler to activate the conda environment\n",
    "metadata = {\n",
    "    \"options\": {\n",
    "        # 'custom_scheduler_commands' : 'module load anaconda\\nconda activate py3.11\\n',\n",
    "        'custom_scheduler_commands' : '',\n",
    "    }\n",
    "}\n",
    "\n",
    "wg.submit(inputs = {\"add\": {\"x\": 2, \"y\": 3,\n",
    "                            \"computer\": \"localhost\",\n",
    "                            \"metadata\": metadata},\n",
    "                    \"multiply\": {\"y\": 4,\n",
    "                                 \"computer\": \"localhost\",\n",
    "                                 \"metadata\": metadata}},\n",
    "          wait=True)\n",
    "#------------------------- Print the output -------------------------\n",
    "print(\"\\nResult of multiply is {} \\n\\n\".format(wg.nodes[\"multiply\"].outputs['result'].value))\n",
    "#------------------------- Generate node graph -------------------\n",
    "generate_node_graph(wg.pk)"
   ]
  },
  {
   "cell_type": "markdown",
   "id": "8f9ea7d3",
   "metadata": {},
   "source": [
    "### Use parent folder\n",
    "The parent_folder parameter allows a node to access the output files of a parent node. This feature is particularly useful when you want to reuse data generated by a previous computation in subsequent computations. In the following example, the multiply node uses the `result.txt` file created by the add node.\n",
    "\n",
    "By default, the content of the parent folder is symlinked to the working directory. In the function, you can access the parent folder using the relative path. For example, `./parent_folder/result.txt`."
   ]
  },
  {
   "cell_type": "code",
   "execution_count": 13,
   "id": "265dcd9f",
   "metadata": {},
   "outputs": [
    {
     "data": {
      "text/html": [
       "\n",
       "        <iframe\n",
       "            width=\"100%\"\n",
       "            height=\"600px\"\n",
       "            src=\"third_workflow.html\"\n",
       "            frameborder=\"0\"\n",
       "            allowfullscreen\n",
       "            \n",
       "        ></iframe>\n",
       "        "
      ],
      "text/plain": [
       "<IPython.lib.display.IFrame at 0x730d4127a690>"
      ]
     },
     "execution_count": 13,
     "metadata": {},
     "output_type": "execute_result"
    }
   ],
   "source": [
    "from aiida_workgraph import WorkGraph, node\n",
    "\n",
    "# define add node\n",
    "@node()\n",
    "def add(x, y):\n",
    "    z = x + y\n",
    "    with open(\"result.txt\", \"w\") as f:\n",
    "        f.write(str(z))\n",
    "\n",
    "# define multiply node\n",
    "@node()\n",
    "def multiply(x, y):\n",
    "    with open(\"parent_folder/result.txt\", \"r\") as f:\n",
    "        z = int(f.read())\n",
    "    return x*y + z\n",
    "\n",
    "wg = WorkGraph(\"third_workflow\")\n",
    "wg.nodes.new(add, name=\"add\", run_remotely=True)\n",
    "wg.nodes.new(multiply, name=\"multiply\",\n",
    "             parent_folder=wg.nodes[\"add\"].outputs[\"remote_folder\"],\n",
    "             run_remotely=True,\n",
    "             )\n",
    "\n",
    "wg.to_html()\n"
   ]
  },
  {
   "cell_type": "markdown",
   "id": "83e7d2bc",
   "metadata": {},
   "source": [
    "Submit the calculation"
   ]
  },
  {
   "cell_type": "code",
   "execution_count": 7,
   "id": "c8323395",
   "metadata": {},
   "outputs": [
    {
     "name": "stdout",
     "output_type": "stream",
     "text": [
      "WorkGraph node created, PK: 49497\n",
      "\n",
      "Result of multiply is uuid: c0020724-b5bf-4e8b-8dbb-014e68999cc5 (pk: 49511) value: 17 \n",
      "\n",
      "\n"
     ]
    }
   ],
   "source": [
    "#------------------------- Submit the calculation -------------------\n",
    "wg.submit(inputs = {\"add\": {\"x\": 2, \"y\": 3, \"computer\": \"localhost\"},\n",
    "                    \"multiply\": {\"x\": 3, \"y\": 4, \"computer\": \"localhost\"}},\n",
    "          wait=True)\n",
    "print(\"\\nResult of multiply is {} \\n\\n\".format(wg.nodes[\"multiply\"].outputs['result'].value))"
   ]
  },
  {
   "cell_type": "markdown",
   "id": "3fce5a2c",
   "metadata": {},
   "source": [
    "## CalcJob and WorkChain\n",
    "AiiDA also provide builtin `CalcJob` to run a calculation on a remote computer. AiiDA community also provides a lot of well-written `calcfunction` and `WorkChain`. One can use these AiiDA component direclty in the WorkGraph. The inputs and outputs of the node is automatically generated based on the input and output port of the AiiDA component.\n",
    "\n",
    "Here is an example of using the `ArithmeticAddCalculation` Calcjob inside the workgraph."
   ]
  },
  {
   "cell_type": "code",
   "execution_count": 10,
   "id": "d05167e6",
   "metadata": {},
   "outputs": [
    {
     "data": {
      "text/html": [
       "\n",
       "        <iframe\n",
       "            width=\"100%\"\n",
       "            height=\"600px\"\n",
       "            src=\"test_add_multiply.html\"\n",
       "            frameborder=\"0\"\n",
       "            allowfullscreen\n",
       "            \n",
       "        ></iframe>\n",
       "        "
      ],
      "text/plain": [
       "<IPython.lib.display.IFrame at 0x730d4146bd90>"
      ]
     },
     "execution_count": 10,
     "metadata": {},
     "output_type": "execute_result"
    }
   ],
   "source": [
    "from aiida_workgraph import WorkGraph\n",
    "from aiida.calculations.arithmetic.add import ArithmeticAddCalculation\n",
    "from aiida.orm import Int, load_code\n",
    "\n",
    "code = load_code(\"add@localhost\")\n",
    "\n",
    "wg = WorkGraph(\"test_add_multiply\")\n",
    "add1 = wg.nodes.new(ArithmeticAddCalculation, name=\"add1\", x=Int(2), y=Int(3), code=code)\n",
    "add2 = wg.nodes.new(ArithmeticAddCalculation, name=\"add2\", y=Int(3), code=code)\n",
    "wg.links.new(wg.nodes[\"add1\"].outputs[\"sum\"], wg.nodes[\"add2\"].inputs[\"x\"])\n",
    "wg.to_html()\n"
   ]
  },
  {
   "cell_type": "markdown",
   "id": "a357ba7e",
   "metadata": {},
   "source": [
    "Submit the workgraph and wait for the result."
   ]
  },
  {
   "cell_type": "code",
   "execution_count": 11,
   "id": "fbbb4f10",
   "metadata": {},
   "outputs": [
    {
     "name": "stdout",
     "output_type": "stream",
     "text": [
      "WorkGraph node created, PK: 49516\n",
      "Result of node add1: uuid: 7e3b768d-efdd-4d78-bc3d-289aa12df210 (pk: 49524) value: 8\n"
     ]
    }
   ],
   "source": [
    "wg.submit(wait=True)\n",
    "print('Result of node add1: {}'.format(wg.nodes[\"add2\"].outputs[\"sum\"].value))"
   ]
  },
  {
   "cell_type": "code",
   "execution_count": null,
   "id": "dce628d4",
   "metadata": {},
   "outputs": [],
   "source": [
    "from aiida_workgraph.utils import generate_node_graph\n",
    "\n",
    "generate_node_graph(wg.pk)"
   ]
  },
  {
   "cell_type": "markdown",
   "id": "84e5957f",
   "metadata": {},
   "source": [
    "## Graph builder\n",
    "A `WorkGraph` is a group of nodes. One can treat a `WorkGraph` as a single node, and expose the inputs and outputs of the `WorkGraph`. This allow you to write:\n",
    "\n",
    "- nested workflows\n",
    "- dynamic workflow based on the input values. For example, if you want to use `if` and `for` to create the nodes, or repeat a calculation until it converges.\n",
    "\n",
    "The `Graph Builder` allow user to create a dynamic workflow based on the input value, as well as nested workflows. Here is an example of nested workflow:"
   ]
  },
  {
   "cell_type": "code",
   "execution_count": null,
   "id": "7c9d6ed8",
   "metadata": {},
   "outputs": [],
   "source": [
    "from aiida_workgraph import WorkGraph, node\n",
    "\n",
    "# define add node\n",
    "@node.calcfunction()\n",
    "def add(x, y):\n",
    "    return x + y\n",
    "\n",
    "# define multiply node\n",
    "@node.calcfunction()\n",
    "def multiply(x, y):\n",
    "    return x*y\n",
    "\n",
    "\n",
    "# use node.graph_builder decorator, expose the output of \"multiply\" node\n",
    "# as the output of the `WorkGraph`.\n",
    "@node.graph_builder(outputs = [[\"multiply.result\", \"result\"]])\n",
    "def add_multiply(x, y, z):\n",
    "    # Create a WorkGraph\n",
    "    wg = WorkGraph()\n",
    "    wg.nodes.new(add, name=\"add\", x=x, y=y)\n",
    "    wg.nodes.new(multiply, name=\"multiply\", x=z)\n",
    "    wg.links.new(wg.nodes[\"add\"].outputs[\"result\"], wg.nodes[\"multiply\"].inputs[\"y\"])\n",
    "    # don't forget to return the `wg`\n",
    "    return wg"
   ]
  },
  {
   "cell_type": "markdown",
   "id": "0fcae463",
   "metadata": {},
   "source": [
    "Use this graph builder inside a `WorkGraph`:"
   ]
  },
  {
   "cell_type": "code",
   "execution_count": null,
   "id": "a4d961eb",
   "metadata": {},
   "outputs": [],
   "source": [
    "\n",
    "from aiida_workgraph import WorkGraph\n",
    "from aiida.orm import Int\n",
    "\n",
    "wg = WorkGraph(\"test_graph_build\")\n",
    "# create a node using the graph builder\n",
    "add_multiply1 = wg.nodes.new(add_multiply, x=Int(2), y=Int(3), z=Int(4))\n",
    "add_multiply2 = wg.nodes.new(add_multiply, x=Int(2), y=Int(3))\n",
    "# link the output of int node to the input of add node\n",
    "wg.links.new(add_multiply1.outputs[\"result\"], add_multiply2.inputs[\"z\"])\n",
    "wg.submit(wait=True)\n",
    "print(\"Worktree state: \", wg.state)"
   ]
  },
  {
   "cell_type": "markdown",
   "id": "e83a9aca",
   "metadata": {},
   "source": [
    "Get the result of the nodes:"
   ]
  },
  {
   "cell_type": "code",
   "execution_count": null,
   "id": "bccf4f63",
   "metadata": {},
   "outputs": [],
   "source": [
    "print('Result of node add_multiply1: {}'.format(add_multiply1.outputs[\"result\"].value))"
   ]
  },
  {
   "cell_type": "code",
   "execution_count": null,
   "id": "788aea02",
   "metadata": {},
   "outputs": [],
   "source": [
    "generate_node_graph(wg.pk)"
   ]
  },
  {
   "cell_type": "markdown",
   "id": "0c2b84c9",
   "metadata": {},
   "source": [
    "### Start the web server\n",
    "Worktree also provides a web GUI, where you can view and manage the workgraph. Open a terminal, and run:\n",
    "```\n",
    "workgraph web start\n",
    "```\n",
    "Then visit the page http://127.0.0.1:8000/workgraph, you can view the workgraph later from here. You should find all the submited workgraph, e.g., the `first_workflow` Worktree. Please click the pk and view the workgraph."
   ]
  },
  {
   "cell_type": "markdown",
   "id": "a0779e9d",
   "metadata": {},
   "source": [
    "## What's Next\n",
    "\n",
    "|        |                                         |\n",
    "|---------------|----------------------------------------------------|\n",
    "| [Concepts](concept/index.rst)                          | A brief introduction of WorkGraph’s main concepts.  |\n",
    "| [Tutorials](tutorial/index.rst)                        | Real-world examples in computational materials science and more.                     |\n",
    "| [HowTo](howto/index.rst)                              | Advanced topics and tips, e.g flow control using `if`, `for`, `while` and `context`.    |"
   ]
  }
 ],
 "metadata": {
  "kernelspec": {
   "display_name": "Python 3.10.4 ('scinode')",
   "language": "python",
   "name": "python3"
  },
  "language_info": {
   "codemirror_mode": {
    "name": "ipython",
    "version": 3
   },
   "file_extension": ".py",
   "mimetype": "text/x-python",
   "name": "python",
   "nbconvert_exporter": "python",
   "pygments_lexer": "ipython3",
   "version": "3.11.0"
  },
  "vscode": {
   "interpreter": {
    "hash": "2f450c1ff08798c4974437dd057310afef0de414c25d1fd960ad375311c3f6ff"
   }
  }
 },
 "nbformat": 4,
 "nbformat_minor": 5
}
