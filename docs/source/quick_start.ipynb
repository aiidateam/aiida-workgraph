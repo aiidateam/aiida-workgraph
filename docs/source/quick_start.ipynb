{
 "cells": [
  {
   "cell_type": "markdown",
   "id": "22d177dc-6cfb-4de2-9509-f1eb45e10cf2",
   "metadata": {},
   "source": [
    "# Quick Start"
   ]
  },
  {
   "cell_type": "markdown",
   "id": "58696c91",
   "metadata": {},
   "source": [
    "## Introduction\n",
    "In this tutorial, you will get a quick view of `AiiDA-WorkGraph`. To run this tutorial, you need to install `aiida-workgraph`. Open a terminal and run:\n",
    "\n",
    "```console\n",
    "pip install aiida-workgraph\n",
    "```\n",
    "\n",
    "Start (or restart) the AiiDA daemon if needed:\n",
    "```console\n",
    "verdi daemon start\n",
    "```\n",
    "\n",
    "Load the AiiDA profile."
   ]
  },
  {
   "cell_type": "code",
   "execution_count": 1,
   "id": "c6b83fb5",
   "metadata": {},
   "outputs": [
    {
     "data": {
      "text/plain": [
       "Profile<uuid='57ccbf7d9e2b41b39edb2bfdaf725feb' name='default'>"
      ]
     },
     "execution_count": 1,
     "metadata": {},
     "output_type": "execute_result"
    }
   ],
   "source": [
    "%load_ext aiida\n",
    "from aiida import load_profile\n",
    "load_profile()"
   ]
  },
  {
   "cell_type": "markdown",
   "id": "30719f9a",
   "metadata": {},
   "source": [
    "## First workflow\n",
    "Suppose we want to calculate ```(x + y) * z ``` in two steps. First, add `x` and `y`, then multiply the result with `z`.\n"
   ]
  },
  {
   "cell_type": "markdown",
   "id": "0f46d277",
   "metadata": {},
   "source": [
    "### Create node\n",
    "Node is the basic building block of the WorkGraph. A node has inputs, outputs. In AiiDA, one uses the `calcfunction` to do the calculation and generate new data. AiiDA-WorkGraph goes one step further by transforming a `calcfunction` to a `Node`."
   ]
  },
  {
   "cell_type": "code",
   "execution_count": 2,
   "id": "11e3bca1-dda6-44e9-9585-54feeda7e7db",
   "metadata": {},
   "outputs": [
    {
     "data": {
      "application/vnd.jupyter.widget-view+json": {
       "model_id": "5a21d4e8ffe847e9b0044e3ad4dec024",
       "version_major": 2,
       "version_minor": 0
      },
      "text/plain": [
       "NodeGraphWidget(settings={'minmap': False}, style={'width': '40%', 'height': '600px'}, value={'nodes': {'add0'…"
      ]
     },
     "execution_count": 2,
     "metadata": {},
     "output_type": "execute_result"
    }
   ],
   "source": [
    "from aiida_workgraph import node\n",
    "\n",
    "# define add node\n",
    "@node.calcfunction()\n",
    "def add(x, y):\n",
    "    return x + y\n",
    "\n",
    "# define multiply node\n",
    "@node.calcfunction()\n",
    "def multiply(x, y):\n",
    "    return x*y\n",
    "\n",
    "# visualize the node in Jupiter-notebook\n",
    "add.node()"
   ]
  },
  {
   "cell_type": "markdown",
   "id": "9fd61a7b",
   "metadata": {},
   "source": [
    "\n",
    "#### Visualize the node\n",
    "If you are running in a Jupiter notebook, you can visualize the node.\n",
    "<img src=\"_static/images/add-node.png\" width=250 />\n",
    "\n",
    "\n",
    "The input sockets are generated automatically based on the function arguments. The default name of the output socket is `result`. There are also some built-in sockets for all nodes, like `_wait` and `_outputs`.  In case of `calcfunction`, it also has several built-in sockets, such as `metadata`. One can also create a node instance and inpsect its inputs and outputs:"
   ]
  },
  {
   "cell_type": "code",
   "execution_count": 4,
   "id": "13adc082",
   "metadata": {},
   "outputs": [
    {
     "name": "stdout",
     "output_type": "stream",
     "text": [
      "Inputs: ['metadata', 'metadata.store_provenance', 'metadata.description', 'metadata.label', 'metadata.call_link_label', 'x', 'y', '_wait']\n",
      "Outputs: ['result', '_outputs', '_wait']\n"
     ]
    }
   ],
   "source": [
    "add1 = add.node()\n",
    "print(\"Inputs:\", add1.inputs.keys())\n",
    "print(\"Outputs:\", add1.outputs.keys())"
   ]
  },
  {
   "cell_type": "markdown",
   "id": "74c443e8",
   "metadata": {},
   "source": [
    "If you want to change the name of the output sockets, or if there are more than one output. You must define the outputs explicitly.\n",
    "For example:"
   ]
  },
  {
   "cell_type": "code",
   "execution_count": 6,
   "id": "eef6b12f",
   "metadata": {},
   "outputs": [
    {
     "name": "stdout",
     "output_type": "stream",
     "text": [
      "Inputs: ['metadata', 'metadata.store_provenance', 'metadata.description', 'metadata.label', 'metadata.call_link_label', 'x', 'y', '_wait']\n",
      "Outputs: ['sum', 'difference', '_outputs', '_wait']\n"
     ]
    }
   ],
   "source": [
    "# define add calcfunction node\n",
    "@node.calcfunction(outputs=[[\"General\", \"sum\"],\n",
    "               [\"General\", \"difference\"]])\n",
    "def add_minus(x, y):\n",
    "   return {\"sum\": x + y, \"difference\": x - y}\n",
    "\n",
    "print(\"Inputs:\", add_minus.node().inputs.keys())\n",
    "print(\"Outputs:\", add_minus.node().outputs.keys())"
   ]
  },
  {
   "cell_type": "markdown",
   "id": "d52a0d85",
   "metadata": {},
   "source": [
    " Each output is defined by two values: e.g. `[\"General\", \"sum\"]`, where the first value `General` indicates the data type, and the second value is the name of the socket. The data type tell the code how to display the socket in the GUI and to serialize data into database. We use `General` for any data type."
   ]
  },
  {
   "cell_type": "markdown",
   "id": "65f4c44d",
   "metadata": {},
   "source": [
    "### Create the workflow\n",
    "Three steps:\n",
    "\n",
    "- create a empty `WorkGraph`\n",
    "- add nodes: `add` and `multiply`.\n",
    "- link the output of the `add` node to one of the `x` input of the `multiply` node.\n",
    "\n",
    "\n",
    "#### Visualize the workgraph\n",
    "If you are running in a Jupiter notebook, you can visualize the workgraph.\n",
    "\n",
    "<img src=\"_static/images/first-workflow.png\" />"
   ]
  },
  {
   "cell_type": "code",
   "execution_count": 7,
   "id": "8ee799d2-0b5b-4609-957f-6b3f2cd451f0",
   "metadata": {},
   "outputs": [
    {
     "data": {
      "application/vnd.jupyter.widget-view+json": {
       "model_id": "10a4307628a34ae79e261493dba79da9",
       "version_major": 2,
       "version_minor": 0
      },
      "text/plain": [
       "NodeGraphWidget(settings={'minimap': True}, style={'width': '90%', 'height': '600px'}, value={'name': 'first_w…"
      ]
     },
     "execution_count": 7,
     "metadata": {},
     "output_type": "execute_result"
    }
   ],
   "source": [
    "from aiida_workgraph import WorkGraph\n",
    "from aiida.orm import Int\n",
    "\n",
    "wg = WorkGraph(\"first_workflow\")\n",
    "wg.nodes.new(add, name=\"add\", x=Int(2.0), y=Int(3.0))\n",
    "wg.nodes.new(multiply, name=\"multiply\", y=Int(4.0))\n",
    "wg.links.new(wg.nodes[\"add\"].outputs[0], wg.nodes[\"multiply\"].inputs[\"x\"])\n",
    "\n",
    "# visualize the workgraph\n",
    "wg"
   ]
  },
  {
   "cell_type": "markdown",
   "id": "d25beb02-ee82-4a27-ae48-edc5c147904c",
   "metadata": {},
   "source": [
    "### Submit and view results\n"
   ]
  },
  {
   "cell_type": "code",
   "execution_count": 8,
   "id": "9ebf35aa",
   "metadata": {},
   "outputs": [
    {
     "name": "stdout",
     "output_type": "stream",
     "text": [
      "WorkGraph node created, PK: 32987\n",
      "State of WorkGraph:   FINISHED\n",
      "Result of add      : uuid: af9782f8-fd84-42cf-8296-a1c43ebae170 (pk: 32989) value: 5\n",
      "Result of multiply : uuid: 7ebc5043-8a5b-4cc3-81dd-2e551c524cba (pk: 32991) value: 20\n"
     ]
    }
   ],
   "source": [
    "wg.submit(wait=True)\n",
    "\n",
    "print(\"State of WorkGraph:   {}\".format(wg.state))\n",
    "print('Result of add      : {}'.format(wg.nodes[\"add\"].outputs[0].value))\n",
    "print('Result of multiply : {}'.format(wg.nodes[\"multiply\"].outputs[0].value))"
   ]
  },
  {
   "cell_type": "markdown",
   "id": "125ac629",
   "metadata": {},
   "source": [
    "One can also generate the node graph from the AiiDA process:"
   ]
  },
  {
   "cell_type": "code",
   "execution_count": null,
   "id": "0060e380",
   "metadata": {},
   "outputs": [
    {
     "data": {
      "image/svg+xml": [
       "<?xml version=\"1.0\" encoding=\"UTF-8\" standalone=\"no\"?>\n",
       "<!DOCTYPE svg PUBLIC \"-//W3C//DTD SVG 1.1//EN\"\n",
       " \"http://www.w3.org/Graphics/SVG/1.1/DTD/svg11.dtd\">\n",
       "<!-- Generated by graphviz version 9.0.0 (20231125.0833)\n",
       " -->\n",
       "<!-- Pages: 1 -->\n",
       "<svg width=\"969pt\" height=\"720pt\"\n",
       " viewBox=\"0.00 0.00 969.20 720.06\" xmlns=\"http://www.w3.org/2000/svg\" xmlns:xlink=\"http://www.w3.org/1999/xlink\">\n",
       "<g id=\"graph0\" class=\"graph\" transform=\"scale(1 1) rotate(0) translate(4 716.06)\">\n",
       "<polygon fill=\"white\" stroke=\"none\" points=\"-4,4 -4,-716.06 965.2,-716.06 965.2,4 -4,4\"/>\n",
       "<!-- N5205 -->\n",
       "<g id=\"node1\" class=\"node\">\n",
       "<title>N5205</title>\n",
       "<polygon fill=\"#e38851\" stroke=\"red\" stroke-width=\"6\" points=\"482.45,-581.46 236.95,-581.46 236.95,-521.71 482.45,-521.71 482.45,-581.46\"/>\n",
       "<text text-anchor=\"middle\" x=\"359.7\" y=\"-564.16\" font-family=\"Times,serif\" font-size=\"14.00\">WorkGraph: first_workflow (5205)</text>\n",
       "<text text-anchor=\"middle\" x=\"359.7\" y=\"-546.91\" font-family=\"Times,serif\" font-size=\"14.00\">State: finished</text>\n",
       "<text text-anchor=\"middle\" x=\"359.7\" y=\"-529.66\" font-family=\"Times,serif\" font-size=\"14.00\">Exit Code: 0</text>\n",
       "</g>\n",
       "<!-- N5206 -->\n",
       "<g id=\"node5\" class=\"node\">\n",
       "<title>N5206</title>\n",
       "<polygon fill=\"#de707f\" fill-opacity=\"0.466667\" stroke=\"black\" stroke-width=\"0\" points=\"368.45,-451.21 248.95,-451.21 248.95,-391.46 368.45,-391.46 368.45,-451.21\"/>\n",
       "<text text-anchor=\"middle\" x=\"308.7\" y=\"-433.91\" font-family=\"Times,serif\" font-size=\"14.00\">add (5206)</text>\n",
       "<text text-anchor=\"middle\" x=\"308.7\" y=\"-416.66\" font-family=\"Times,serif\" font-size=\"14.00\">State: finished</text>\n",
       "<text text-anchor=\"middle\" x=\"308.7\" y=\"-399.41\" font-family=\"Times,serif\" font-size=\"14.00\">Exit Code: 0</text>\n",
       "</g>\n",
       "<!-- N5205&#45;&gt;N5206 -->\n",
       "<g id=\"edge5\" class=\"edge\">\n",
       "<title>N5205&#45;&gt;N5206</title>\n",
       "<path fill=\"none\" stroke=\"#000000\" stroke-dasharray=\"1,5\" d=\"M321.49,-518.97C317.69,-514.24 314.35,-509.12 311.95,-503.71 306.32,-491.01 304.53,-476.08 304.46,-462.49\"/>\n",
       "<polygon fill=\"#000000\" stroke=\"#000000\" points=\"307.96,-462.6 304.75,-452.51 300.96,-462.4 307.96,-462.6\"/>\n",
       "<text text-anchor=\"middle\" x=\"355.07\" y=\"-490.41\" font-family=\"Times,serif\" font-size=\"14.00\">CALL_CALC</text>\n",
       "<text text-anchor=\"middle\" x=\"355.07\" y=\"-473.16\" font-family=\"Times,serif\" font-size=\"14.00\">add</text>\n",
       "</g>\n",
       "<!-- N5208 -->\n",
       "<g id=\"node7\" class=\"node\">\n",
       "<title>N5208</title>\n",
       "<polygon fill=\"#de707f\" fill-opacity=\"0.466667\" stroke=\"black\" stroke-width=\"0\" points=\"418.82,-190.35 292.57,-190.35 292.57,-130.6 418.82,-130.6 418.82,-190.35\"/>\n",
       "<text text-anchor=\"middle\" x=\"355.7\" y=\"-173.05\" font-family=\"Times,serif\" font-size=\"14.00\">multiply (5208)</text>\n",
       "<text text-anchor=\"middle\" x=\"355.7\" y=\"-155.8\" font-family=\"Times,serif\" font-size=\"14.00\">State: finished</text>\n",
       "<text text-anchor=\"middle\" x=\"355.7\" y=\"-138.55\" font-family=\"Times,serif\" font-size=\"14.00\">Exit Code: 0</text>\n",
       "</g>\n",
       "<!-- N5205&#45;&gt;N5208 -->\n",
       "<g id=\"edge4\" class=\"edge\">\n",
       "<title>N5205&#45;&gt;N5208</title>\n",
       "<path fill=\"none\" stroke=\"#000000\" stroke-dasharray=\"1,5\" d=\"M389.02,-518.96C392.15,-514.14 394.86,-509 396.7,-503.71 439.74,-379.7 442.85,-331.24 396.7,-208.35 395.55,-205.32 394.12,-202.35 392.47,-199.47\"/>\n",
       "<polygon fill=\"#000000\" stroke=\"#000000\" points=\"395.5,-197.71 387.03,-191.36 389.69,-201.61 395.5,-197.71\"/>\n",
       "<text text-anchor=\"middle\" x=\"472.07\" y=\"-360.16\" font-family=\"Times,serif\" font-size=\"14.00\">CALL_CALC</text>\n",
       "<text text-anchor=\"middle\" x=\"472.07\" y=\"-342.91\" font-family=\"Times,serif\" font-size=\"14.00\">multiply</text>\n",
       "</g>\n",
       "<!-- N5202 -->\n",
       "<g id=\"node2\" class=\"node\">\n",
       "<title>N5202</title>\n",
       "<ellipse fill=\"#8cd499\" stroke=\"black\" stroke-width=\"0\" cx=\"61.7\" cy=\"-682.01\" rx=\"61.7\" ry=\"30.05\"/>\n",
       "<text text-anchor=\"middle\" x=\"61.7\" y=\"-685.96\" font-family=\"Times,serif\" font-size=\"14.00\">Int (5202)</text>\n",
       "<text text-anchor=\"middle\" x=\"61.7\" y=\"-668.71\" font-family=\"Times,serif\" font-size=\"14.00\">value: 2</text>\n",
       "</g>\n",
       "<!-- N5202&#45;&gt;N5205 -->\n",
       "<g id=\"edge3\" class=\"edge\">\n",
       "<title>N5202&#45;&gt;N5205</title>\n",
       "<path fill=\"none\" stroke=\"#000000\" stroke-dasharray=\"5,2\" d=\"M61.05,-652.17C62.27,-634.5 66.94,-612.78 81.2,-599.46 102.4,-579.65 163.55,-568.13 223.16,-561.48\"/>\n",
       "<polygon fill=\"#000000\" stroke=\"#000000\" points=\"223.19,-565 232.76,-560.46 222.45,-558.04 223.19,-565\"/>\n",
       "<text text-anchor=\"middle\" x=\"218.95\" y=\"-620.66\" font-family=\"Times,serif\" font-size=\"14.00\">INPUT_WORK</text>\n",
       "<text text-anchor=\"middle\" x=\"218.95\" y=\"-603.41\" font-family=\"Times,serif\" font-size=\"14.00\">wg__nodes__add__properties__x__value</text>\n",
       "</g>\n",
       "<!-- N5203 -->\n",
       "<g id=\"node3\" class=\"node\">\n",
       "<title>N5203</title>\n",
       "<ellipse fill=\"#8cd499\" stroke=\"black\" stroke-width=\"0\" cx=\"359.7\" cy=\"-682.01\" rx=\"61.7\" ry=\"30.05\"/>\n",
       "<text text-anchor=\"middle\" x=\"359.7\" y=\"-685.96\" font-family=\"Times,serif\" font-size=\"14.00\">Int (5203)</text>\n",
       "<text text-anchor=\"middle\" x=\"359.7\" y=\"-668.71\" font-family=\"Times,serif\" font-size=\"14.00\">value: 3</text>\n",
       "</g>\n",
       "<!-- N5203&#45;&gt;N5205 -->\n",
       "<g id=\"edge1\" class=\"edge\">\n",
       "<title>N5203&#45;&gt;N5205</title>\n",
       "<path fill=\"none\" stroke=\"#000000\" stroke-dasharray=\"5,2\" d=\"M359.7,-652.19C359.7,-635.49 359.7,-614.14 359.7,-595.5\"/>\n",
       "<polygon fill=\"#000000\" stroke=\"#000000\" points=\"363.2,-595.52 359.7,-585.52 356.2,-595.52 363.2,-595.52\"/>\n",
       "<text text-anchor=\"middle\" x=\"496.95\" y=\"-620.66\" font-family=\"Times,serif\" font-size=\"14.00\">INPUT_WORK</text>\n",
       "<text text-anchor=\"middle\" x=\"496.95\" y=\"-603.41\" font-family=\"Times,serif\" font-size=\"14.00\">wg__nodes__add__properties__y__value</text>\n",
       "</g>\n",
       "<!-- N5204 -->\n",
       "<g id=\"node4\" class=\"node\">\n",
       "<title>N5204</title>\n",
       "<ellipse fill=\"#8cd499\" stroke=\"black\" stroke-width=\"0\" cx=\"657.7\" cy=\"-682.01\" rx=\"61.7\" ry=\"30.05\"/>\n",
       "<text text-anchor=\"middle\" x=\"657.7\" y=\"-685.96\" font-family=\"Times,serif\" font-size=\"14.00\">Int (5204)</text>\n",
       "<text text-anchor=\"middle\" x=\"657.7\" y=\"-668.71\" font-family=\"Times,serif\" font-size=\"14.00\">value: 4</text>\n",
       "</g>\n",
       "<!-- N5204&#45;&gt;N5205 -->\n",
       "<g id=\"edge2\" class=\"edge\">\n",
       "<title>N5204&#45;&gt;N5205</title>\n",
       "<path fill=\"none\" stroke=\"#000000\" stroke-dasharray=\"5,2\" d=\"M657.38,-652.1C655.58,-634.4 650.24,-612.68 635.7,-599.46 614.62,-580.3 555,-568.86 496.54,-562.09\"/>\n",
       "<polygon fill=\"#000000\" stroke=\"#000000\" points=\"497.09,-558.63 486.76,-561 496.32,-565.58 497.09,-558.63\"/>\n",
       "<text text-anchor=\"middle\" x=\"807.45\" y=\"-620.66\" font-family=\"Times,serif\" font-size=\"14.00\">INPUT_WORK</text>\n",
       "<text text-anchor=\"middle\" x=\"807.45\" y=\"-603.41\" font-family=\"Times,serif\" font-size=\"14.00\">wg__nodes__multiply__properties__y__value</text>\n",
       "</g>\n",
       "<!-- N5207 -->\n",
       "<g id=\"node6\" class=\"node\">\n",
       "<title>N5207</title>\n",
       "<ellipse fill=\"#8cd499\" stroke=\"black\" stroke-width=\"0\" cx=\"302.7\" cy=\"-290.91\" rx=\"61.7\" ry=\"30.05\"/>\n",
       "<text text-anchor=\"middle\" x=\"302.7\" y=\"-294.86\" font-family=\"Times,serif\" font-size=\"14.00\">Int (5207)</text>\n",
       "<text text-anchor=\"middle\" x=\"302.7\" y=\"-277.61\" font-family=\"Times,serif\" font-size=\"14.00\">value: 5</text>\n",
       "</g>\n",
       "<!-- N5206&#45;&gt;N5207 -->\n",
       "<g id=\"edge6\" class=\"edge\">\n",
       "<title>N5206&#45;&gt;N5207</title>\n",
       "<path fill=\"none\" stroke=\"#000000\" d=\"M307.35,-391.51C306.53,-374 305.47,-351.37 304.57,-332.11\"/>\n",
       "<polygon fill=\"#000000\" stroke=\"#000000\" points=\"308.07,-331.97 304.11,-322.14 301.08,-332.3 308.07,-331.97\"/>\n",
       "<text text-anchor=\"middle\" x=\"336.7\" y=\"-360.16\" font-family=\"Times,serif\" font-size=\"14.00\">CREATE</text>\n",
       "<text text-anchor=\"middle\" x=\"336.7\" y=\"-342.91\" font-family=\"Times,serif\" font-size=\"14.00\">result</text>\n",
       "</g>\n",
       "<!-- N5207&#45;&gt;N5208 -->\n",
       "<g id=\"edge8\" class=\"edge\">\n",
       "<title>N5207&#45;&gt;N5208</title>\n",
       "<path fill=\"none\" stroke=\"#000000\" d=\"M297.19,-261.14C295.43,-244.94 295.55,-224.75 302.95,-208.35 304.38,-205.16 306.16,-202.1 308.18,-199.18\"/>\n",
       "<polygon fill=\"#000000\" stroke=\"#000000\" points=\"310.82,-201.48 314.39,-191.5 305.38,-197.08 310.82,-201.48\"/>\n",
       "<text text-anchor=\"middle\" x=\"350.57\" y=\"-229.55\" font-family=\"Times,serif\" font-size=\"14.00\">INPUT_CALC</text>\n",
       "<text text-anchor=\"middle\" x=\"350.57\" y=\"-212.3\" font-family=\"Times,serif\" font-size=\"14.00\">x</text>\n",
       "</g>\n",
       "<!-- N5209 -->\n",
       "<g id=\"node8\" class=\"node\">\n",
       "<title>N5209</title>\n",
       "<ellipse fill=\"#8cd499\" stroke=\"black\" stroke-width=\"0\" cx=\"355.7\" cy=\"-30.05\" rx=\"61.7\" ry=\"30.05\"/>\n",
       "<text text-anchor=\"middle\" x=\"355.7\" y=\"-34\" font-family=\"Times,serif\" font-size=\"14.00\">Int (5209)</text>\n",
       "<text text-anchor=\"middle\" x=\"355.7\" y=\"-16.75\" font-family=\"Times,serif\" font-size=\"14.00\">value: 20</text>\n",
       "</g>\n",
       "<!-- N5208&#45;&gt;N5209 -->\n",
       "<g id=\"edge7\" class=\"edge\">\n",
       "<title>N5208&#45;&gt;N5209</title>\n",
       "<path fill=\"none\" stroke=\"#000000\" d=\"M355.7,-130.66C355.7,-113.14 355.7,-90.52 355.7,-71.26\"/>\n",
       "<polygon fill=\"#000000\" stroke=\"#000000\" points=\"359.2,-71.29 355.7,-61.29 352.2,-71.29 359.2,-71.29\"/>\n",
       "<text text-anchor=\"middle\" x=\"385.7\" y=\"-99.3\" font-family=\"Times,serif\" font-size=\"14.00\">CREATE</text>\n",
       "<text text-anchor=\"middle\" x=\"385.7\" y=\"-82.05\" font-family=\"Times,serif\" font-size=\"14.00\">result</text>\n",
       "</g>\n",
       "</g>\n",
       "</svg>\n"
      ],
      "text/plain": [
       "<graphviz.graphs.Digraph at 0x7f219bfe00d0>"
      ]
     },
     "execution_count": 8,
     "metadata": {},
     "output_type": "execute_result"
    }
   ],
   "source": [
    "from aiida_workgraph.utils import generate_node_graph\n",
    "generate_node_graph(wg.pk)"
   ]
  },
  {
   "cell_type": "markdown",
   "id": "3fce5a2c",
   "metadata": {},
   "source": [
    "## CalcJob and WorkChain\n",
    "AiiDA uses `CalcJob` to run a calculation on a remote computer. AiiDA community also provides a lot of well-written `calcfunction` and `WorkChain`. One can use these AiiDA component direclty in the WorkGraph. The inputs and outputs of the node is automatically generated based on the input and output port of the AiiDA component.\n",
    "\n",
    "Here is an example of using the `ArithmeticAddCalculation` Calcjob inside the workgraph."
   ]
  },
  {
   "cell_type": "code",
   "execution_count": 9,
   "id": "d05167e6",
   "metadata": {},
   "outputs": [
    {
     "data": {
      "application/vnd.jupyter.widget-view+json": {
       "model_id": "61d41e94ffdb4bf7a118c2b9e6d6dfd9",
       "version_major": 2,
       "version_minor": 0
      },
      "text/plain": [
       "NodeGraphWidget(settings={'minimap': True}, style={'width': '90%', 'height': '600px'}, value={'name': 'test_ad…"
      ]
     },
     "metadata": {},
     "output_type": "display_data"
    },
    {
     "name": "stdout",
     "output_type": "stream",
     "text": [
      "WorkGraph node created, PK: 32996\n"
     ]
    },
    {
     "data": {
      "text/plain": [
       "<WorkChainNode: uuid: 370afb81-e731-4752-bc7b-d998adec4fe4 (pk: 32996) (aiida_workgraph.engine.workgraph.WorkGraph)>"
      ]
     },
     "execution_count": 9,
     "metadata": {},
     "output_type": "execute_result"
    }
   ],
   "source": [
    "from aiida_workgraph import WorkGraph\n",
    "from aiida.calculations.arithmetic.add import ArithmeticAddCalculation\n",
    "from aiida.orm import Int, load_code\n",
    "\n",
    "code = load_code(\"add@localhost\")\n",
    "\n",
    "wg = WorkGraph(\"test_add_multiply\")\n",
    "add1 = wg.nodes.new(ArithmeticAddCalculation, name=\"add1\", x=Int(2), y=Int(3), code=code)\n",
    "add2 = wg.nodes.new(ArithmeticAddCalculation, name=\"add2\", y=Int(3), code=code)\n",
    "wg.links.new(wg.nodes[\"add1\"].outputs[\"sum\"], wg.nodes[\"add2\"].inputs[\"x\"])\n",
    "display(wg)\n",
    "wg.submit(wait=True)"
   ]
  },
  {
   "cell_type": "markdown",
   "id": "a357ba7e",
   "metadata": {},
   "source": [
    "Get the result of the nodes:"
   ]
  },
  {
   "cell_type": "code",
   "execution_count": 10,
   "id": "fbbb4f10",
   "metadata": {},
   "outputs": [
    {
     "name": "stdout",
     "output_type": "stream",
     "text": [
      "Result of node add1: uuid: d6a9a4bc-f18c-4eca-8d09-23dacce944ab (pk: 33004) value: 8\n"
     ]
    }
   ],
   "source": [
    "print('Result of node add1: {}'.format(wg.nodes[\"add2\"].outputs[\"sum\"].value))"
   ]
  },
  {
   "cell_type": "code",
   "execution_count": 5,
   "id": "dce628d4",
   "metadata": {},
   "outputs": [
    {
     "data": {
      "image/svg+xml": [
       "<?xml version=\"1.0\" encoding=\"UTF-8\" standalone=\"no\"?>\n",
       "<!DOCTYPE svg PUBLIC \"-//W3C//DTD SVG 1.1//EN\"\n",
       " \"http://www.w3.org/Graphics/SVG/1.1/DTD/svg11.dtd\">\n",
       "<!-- Generated by graphviz version 9.0.0 (20231125.0833)\n",
       " -->\n",
       "<!-- Pages: 1 -->\n",
       "<svg width=\"1587pt\" height=\"720pt\"\n",
       " viewBox=\"0.00 0.00 1587.17 720.42\" xmlns=\"http://www.w3.org/2000/svg\" xmlns:xlink=\"http://www.w3.org/1999/xlink\">\n",
       "<g id=\"graph0\" class=\"graph\" transform=\"scale(1 1) rotate(0) translate(4 716.42)\">\n",
       "<polygon fill=\"white\" stroke=\"none\" points=\"-4,4 -4,-716.42 1583.17,-716.42 1583.17,4 -4,4\"/>\n",
       "<!-- N14012 -->\n",
       "<g id=\"node1\" class=\"node\">\n",
       "<title>N14012</title>\n",
       "<polygon fill=\"#e38851\" stroke=\"red\" stroke-width=\"6\" points=\"823.05,-581.81 530.3,-581.81 530.3,-522.06 823.05,-522.06 823.05,-581.81\"/>\n",
       "<text text-anchor=\"middle\" x=\"676.67\" y=\"-564.51\" font-family=\"Times,serif\" font-size=\"14.00\">WorkGraph: test_add_multiply (14012)</text>\n",
       "<text text-anchor=\"middle\" x=\"676.67\" y=\"-547.26\" font-family=\"Times,serif\" font-size=\"14.00\">State: finished</text>\n",
       "<text text-anchor=\"middle\" x=\"676.67\" y=\"-530.01\" font-family=\"Times,serif\" font-size=\"14.00\">Exit Code: 0</text>\n",
       "</g>\n",
       "<!-- N14013 -->\n",
       "<g id=\"node6\" class=\"node\">\n",
       "<title>N14013</title>\n",
       "<polygon fill=\"#de707f\" stroke=\"black\" stroke-width=\"0\" points=\"579.55,-451.39 319.8,-451.39 319.8,-391.64 579.55,-391.64 579.55,-451.39\"/>\n",
       "<text text-anchor=\"middle\" x=\"449.67\" y=\"-434.09\" font-family=\"Times,serif\" font-size=\"14.00\">ArithmeticAddCalculation (14013)</text>\n",
       "<text text-anchor=\"middle\" x=\"449.67\" y=\"-416.84\" font-family=\"Times,serif\" font-size=\"14.00\">State: finished</text>\n",
       "<text text-anchor=\"middle\" x=\"449.67\" y=\"-399.59\" font-family=\"Times,serif\" font-size=\"14.00\">Exit Code: 0</text>\n",
       "</g>\n",
       "<!-- N14012&#45;&gt;N14013 -->\n",
       "<g id=\"edge6\" class=\"edge\">\n",
       "<title>N14012&#45;&gt;N14013</title>\n",
       "<path fill=\"none\" stroke=\"#000000\" stroke-dasharray=\"1,5\" d=\"M606.8,-519.09C597.01,-514.24 587.14,-509.16 577.92,-504.06 552.16,-489.83 524.49,-472.51 501.48,-457.5\"/>\n",
       "<polygon fill=\"#000000\" stroke=\"#000000\" points=\"503.46,-454.62 493.18,-452.06 499.62,-460.47 503.46,-454.62\"/>\n",
       "<text text-anchor=\"middle\" x=\"621.05\" y=\"-490.76\" font-family=\"Times,serif\" font-size=\"14.00\">CALL_CALC</text>\n",
       "<text text-anchor=\"middle\" x=\"621.05\" y=\"-473.51\" font-family=\"Times,serif\" font-size=\"14.00\">add1</text>\n",
       "</g>\n",
       "<!-- N14017 -->\n",
       "<g id=\"node10\" class=\"node\">\n",
       "<title>N14017</title>\n",
       "<polygon fill=\"#de707f\" stroke=\"black\" stroke-width=\"0\" points=\"751.55,-190.35 491.8,-190.35 491.8,-130.6 751.55,-130.6 751.55,-190.35\"/>\n",
       "<text text-anchor=\"middle\" x=\"621.67\" y=\"-173.05\" font-family=\"Times,serif\" font-size=\"14.00\">ArithmeticAddCalculation (14017)</text>\n",
       "<text text-anchor=\"middle\" x=\"621.67\" y=\"-155.8\" font-family=\"Times,serif\" font-size=\"14.00\">State: finished</text>\n",
       "<text text-anchor=\"middle\" x=\"621.67\" y=\"-138.55\" font-family=\"Times,serif\" font-size=\"14.00\">Exit Code: 0</text>\n",
       "</g>\n",
       "<!-- N14012&#45;&gt;N14017 -->\n",
       "<g id=\"edge7\" class=\"edge\">\n",
       "<title>N14012&#45;&gt;N14017</title>\n",
       "<path fill=\"none\" stroke=\"#000000\" stroke-dasharray=\"1,5\" d=\"M682.14,-519.26C691.45,-457.04 705.48,-315.61 662.67,-208.35 661.47,-205.34 659.99,-202.39 658.31,-199.53\"/>\n",
       "<polygon fill=\"#000000\" stroke=\"#000000\" points=\"661.31,-197.73 652.79,-191.44 655.53,-201.67 661.31,-197.73\"/>\n",
       "<text text-anchor=\"middle\" x=\"735.05\" y=\"-360.16\" font-family=\"Times,serif\" font-size=\"14.00\">CALL_CALC</text>\n",
       "<text text-anchor=\"middle\" x=\"735.05\" y=\"-342.91\" font-family=\"Times,serif\" font-size=\"14.00\">add2</text>\n",
       "</g>\n",
       "<!-- N14021 -->\n",
       "<g id=\"node14\" class=\"node\">\n",
       "<title>N14021</title>\n",
       "<ellipse fill=\"#8cd499\" stroke=\"black\" stroke-width=\"0\" cx=\"772.67\" cy=\"-421.51\" rx=\"68.06\" ry=\"30.05\"/>\n",
       "<text text-anchor=\"middle\" x=\"772.67\" y=\"-425.46\" font-family=\"Times,serif\" font-size=\"14.00\">Int (14021)</text>\n",
       "<text text-anchor=\"middle\" x=\"772.67\" y=\"-408.21\" font-family=\"Times,serif\" font-size=\"14.00\">value: 0</text>\n",
       "</g>\n",
       "<!-- N14012&#45;&gt;N14021 -->\n",
       "<g id=\"edge15\" class=\"edge\">\n",
       "<title>N14012&#45;&gt;N14021</title>\n",
       "<path fill=\"none\" stroke=\"#000000\" stroke-dasharray=\"5,2\" d=\"M700.4,-519.19C713.99,-501.02 731.09,-478.14 745.25,-459.2\"/>\n",
       "<polygon fill=\"#000000\" stroke=\"#000000\" points=\"748.05,-461.29 751.24,-451.19 742.45,-457.1 748.05,-461.29\"/>\n",
       "<text text-anchor=\"middle\" x=\"794.42\" y=\"-490.76\" font-family=\"Times,serif\" font-size=\"14.00\">RETURN</text>\n",
       "<text text-anchor=\"middle\" x=\"794.42\" y=\"-473.51\" font-family=\"Times,serif\" font-size=\"14.00\">execution_count</text>\n",
       "</g>\n",
       "<!-- N37 -->\n",
       "<g id=\"node2\" class=\"node\">\n",
       "<title>N37</title>\n",
       "<ellipse fill=\"#8cd499\" stroke=\"black\" stroke-width=\"0\" cx=\"175.67\" cy=\"-682.36\" rx=\"103.29\" ry=\"18\"/>\n",
       "<text text-anchor=\"middle\" x=\"175.67\" y=\"-677.69\" font-family=\"Times,serif\" font-size=\"14.00\">InstalledCode (37)</text>\n",
       "</g>\n",
       "<!-- N37&#45;&gt;N14012 -->\n",
       "<g id=\"edge1\" class=\"edge\">\n",
       "<title>N37&#45;&gt;N14012</title>\n",
       "<path fill=\"none\" stroke=\"#000000\" stroke-dasharray=\"5,2\" d=\"M100.88,-669.97C42.25,-658.04 -24.23,-635.91 9.42,-599.81 43.28,-563.5 329.64,-554.78 516.06,-553\"/>\n",
       "<polygon fill=\"#000000\" stroke=\"#000000\" points=\"515.87,-556.5 525.84,-552.91 515.81,-549.5 515.87,-556.5\"/>\n",
       "<text text-anchor=\"middle\" x=\"165.3\" y=\"-621.01\" font-family=\"Times,serif\" font-size=\"14.00\">INPUT_WORK</text>\n",
       "<text text-anchor=\"middle\" x=\"165.3\" y=\"-603.76\" font-family=\"Times,serif\" font-size=\"14.00\">wg__nodes__add2__properties__code__value</text>\n",
       "</g>\n",
       "<!-- N37&#45;&gt;N14012 -->\n",
       "<g id=\"edge3\" class=\"edge\">\n",
       "<title>N37&#45;&gt;N14012</title>\n",
       "<path fill=\"none\" stroke=\"#000000\" stroke-dasharray=\"5,2\" d=\"M234.98,-667.74C262.12,-660.12 294.08,-649.12 320.67,-634.31 341.41,-622.77 339.81,-609.6 361.42,-599.81 409.33,-578.13 465.1,-566.08 516.31,-559.51\"/>\n",
       "<polygon fill=\"#000000\" stroke=\"#000000\" points=\"516.5,-563.01 526,-558.33 515.65,-556.06 516.5,-563.01\"/>\n",
       "<text text-anchor=\"middle\" x=\"517.3\" y=\"-621.01\" font-family=\"Times,serif\" font-size=\"14.00\">INPUT_WORK</text>\n",
       "<text text-anchor=\"middle\" x=\"517.3\" y=\"-603.76\" font-family=\"Times,serif\" font-size=\"14.00\">wg__nodes__add1__properties__code__value</text>\n",
       "</g>\n",
       "<!-- N14009 -->\n",
       "<g id=\"node3\" class=\"node\">\n",
       "<title>N14009</title>\n",
       "<ellipse fill=\"#8cd499\" stroke=\"black\" stroke-width=\"0\" cx=\"676.67\" cy=\"-682.36\" rx=\"68.06\" ry=\"30.05\"/>\n",
       "<text text-anchor=\"middle\" x=\"676.67\" y=\"-686.31\" font-family=\"Times,serif\" font-size=\"14.00\">Int (14009)</text>\n",
       "<text text-anchor=\"middle\" x=\"676.67\" y=\"-669.06\" font-family=\"Times,serif\" font-size=\"14.00\">value: 2</text>\n",
       "</g>\n",
       "<!-- N14009&#45;&gt;N14012 -->\n",
       "<g id=\"edge2\" class=\"edge\">\n",
       "<title>N14009&#45;&gt;N14012</title>\n",
       "<path fill=\"none\" stroke=\"#000000\" stroke-dasharray=\"5,2\" d=\"M676.67,-652.54C676.67,-635.84 676.67,-614.49 676.67,-595.85\"/>\n",
       "<polygon fill=\"#000000\" stroke=\"#000000\" points=\"680.17,-595.87 676.67,-585.87 673.17,-595.87 680.17,-595.87\"/>\n",
       "<text text-anchor=\"middle\" x=\"819.92\" y=\"-621.01\" font-family=\"Times,serif\" font-size=\"14.00\">INPUT_WORK</text>\n",
       "<text text-anchor=\"middle\" x=\"819.92\" y=\"-603.76\" font-family=\"Times,serif\" font-size=\"14.00\">wg__nodes__add1__properties__x__value</text>\n",
       "</g>\n",
       "<!-- N14010 -->\n",
       "<g id=\"node4\" class=\"node\">\n",
       "<title>N14010</title>\n",
       "<ellipse fill=\"#8cd499\" stroke=\"black\" stroke-width=\"0\" cx=\"986.67\" cy=\"-682.36\" rx=\"68.06\" ry=\"30.05\"/>\n",
       "<text text-anchor=\"middle\" x=\"986.67\" y=\"-686.31\" font-family=\"Times,serif\" font-size=\"14.00\">Int (14010)</text>\n",
       "<text text-anchor=\"middle\" x=\"986.67\" y=\"-669.06\" font-family=\"Times,serif\" font-size=\"14.00\">value: 3</text>\n",
       "</g>\n",
       "<!-- N14010&#45;&gt;N14012 -->\n",
       "<g id=\"edge4\" class=\"edge\">\n",
       "<title>N14010&#45;&gt;N14012</title>\n",
       "<path fill=\"none\" stroke=\"#000000\" stroke-dasharray=\"5,2\" d=\"M986.39,-652.42C984.6,-634.71 979.26,-612.98 964.67,-599.81 944.8,-581.87 892.22,-570.75 837.35,-563.88\"/>\n",
       "<polygon fill=\"#000000\" stroke=\"#000000\" points=\"837.83,-560.42 827.49,-562.7 837,-567.37 837.83,-560.42\"/>\n",
       "<text text-anchor=\"middle\" x=\"1125.92\" y=\"-621.01\" font-family=\"Times,serif\" font-size=\"14.00\">INPUT_WORK</text>\n",
       "<text text-anchor=\"middle\" x=\"1125.92\" y=\"-603.76\" font-family=\"Times,serif\" font-size=\"14.00\">wg__nodes__add1__properties__y__value</text>\n",
       "</g>\n",
       "<!-- N14011 -->\n",
       "<g id=\"node5\" class=\"node\">\n",
       "<title>N14011</title>\n",
       "<ellipse fill=\"#8cd499\" stroke=\"black\" stroke-width=\"0\" cx=\"1296.67\" cy=\"-682.36\" rx=\"68.06\" ry=\"30.05\"/>\n",
       "<text text-anchor=\"middle\" x=\"1296.67\" y=\"-686.31\" font-family=\"Times,serif\" font-size=\"14.00\">Int (14011)</text>\n",
       "<text text-anchor=\"middle\" x=\"1296.67\" y=\"-669.06\" font-family=\"Times,serif\" font-size=\"14.00\">value: 3</text>\n",
       "</g>\n",
       "<!-- N14011&#45;&gt;N14012 -->\n",
       "<g id=\"edge5\" class=\"edge\">\n",
       "<title>N14011&#45;&gt;N14012</title>\n",
       "<path fill=\"none\" stroke=\"#000000\" stroke-dasharray=\"5,2\" d=\"M1296.41,-652.37C1294.58,-634.4 1289.03,-612.41 1273.67,-599.81 1240.55,-572.64 1002.57,-561.02 837.27,-556.2\"/>\n",
       "<polygon fill=\"#000000\" stroke=\"#000000\" points=\"837.61,-552.71 827.51,-555.92 837.41,-559.7 837.61,-552.71\"/>\n",
       "<text text-anchor=\"middle\" x=\"1435.92\" y=\"-621.01\" font-family=\"Times,serif\" font-size=\"14.00\">INPUT_WORK</text>\n",
       "<text text-anchor=\"middle\" x=\"1435.92\" y=\"-603.76\" font-family=\"Times,serif\" font-size=\"14.00\">wg__nodes__add2__properties__y__value</text>\n",
       "</g>\n",
       "<!-- N14014 -->\n",
       "<g id=\"node7\" class=\"node\">\n",
       "<title>N14014</title>\n",
       "<ellipse fill=\"#8cd499\" stroke=\"black\" stroke-width=\"0\" cx=\"136.67\" cy=\"-290.91\" rx=\"116.32\" ry=\"30.05\"/>\n",
       "<text text-anchor=\"middle\" x=\"136.67\" y=\"-294.86\" font-family=\"Times,serif\" font-size=\"14.00\">RemoteData (14014)</text>\n",
       "<text text-anchor=\"middle\" x=\"136.67\" y=\"-277.61\" font-family=\"Times,serif\" font-size=\"14.00\">@localhost</text>\n",
       "</g>\n",
       "<!-- N14013&#45;&gt;N14014 -->\n",
       "<g id=\"edge8\" class=\"edge\">\n",
       "<title>N14013&#45;&gt;N14014</title>\n",
       "<path fill=\"none\" stroke=\"#000000\" d=\"M353.05,-391.74C336.19,-386.1 318.93,-379.91 302.92,-373.46 266.33,-358.71 226.62,-339.36 195.19,-323.21\"/>\n",
       "<polygon fill=\"#000000\" stroke=\"#000000\" points=\"197.12,-320.27 186.63,-318.79 193.9,-326.49 197.12,-320.27\"/>\n",
       "<text text-anchor=\"middle\" x=\"353.55\" y=\"-360.16\" font-family=\"Times,serif\" font-size=\"14.00\">CREATE</text>\n",
       "<text text-anchor=\"middle\" x=\"353.55\" y=\"-342.91\" font-family=\"Times,serif\" font-size=\"14.00\">remote_folder</text>\n",
       "</g>\n",
       "<!-- N14015 -->\n",
       "<g id=\"node8\" class=\"node\">\n",
       "<title>N14015</title>\n",
       "<ellipse fill=\"#8cd499\" stroke=\"black\" stroke-width=\"0\" cx=\"379.67\" cy=\"-290.91\" rx=\"109.08\" ry=\"18\"/>\n",
       "<text text-anchor=\"middle\" x=\"379.67\" y=\"-286.23\" font-family=\"Times,serif\" font-size=\"14.00\">FolderData (14015)</text>\n",
       "</g>\n",
       "<!-- N14013&#45;&gt;N14015 -->\n",
       "<g id=\"edge10\" class=\"edge\">\n",
       "<title>N14013&#45;&gt;N14015</title>\n",
       "<path fill=\"none\" stroke=\"#000000\" d=\"M433.96,-391.65C422.03,-369.73 405.75,-339.82 394.14,-318.48\"/>\n",
       "<polygon fill=\"#000000\" stroke=\"#000000\" points=\"397.27,-316.92 389.42,-309.81 391.13,-320.27 397.27,-316.92\"/>\n",
       "<text text-anchor=\"middle\" x=\"456.67\" y=\"-360.16\" font-family=\"Times,serif\" font-size=\"14.00\">CREATE</text>\n",
       "<text text-anchor=\"middle\" x=\"456.67\" y=\"-342.91\" font-family=\"Times,serif\" font-size=\"14.00\">retrieved</text>\n",
       "</g>\n",
       "<!-- N14016 -->\n",
       "<g id=\"node9\" class=\"node\">\n",
       "<title>N14016</title>\n",
       "<ellipse fill=\"#8cd499\" stroke=\"black\" stroke-width=\"0\" cx=\"574.67\" cy=\"-290.91\" rx=\"68.06\" ry=\"30.05\"/>\n",
       "<text text-anchor=\"middle\" x=\"574.67\" y=\"-294.86\" font-family=\"Times,serif\" font-size=\"14.00\">Int (14016)</text>\n",
       "<text text-anchor=\"middle\" x=\"574.67\" y=\"-277.61\" font-family=\"Times,serif\" font-size=\"14.00\">value: 5</text>\n",
       "</g>\n",
       "<!-- N14013&#45;&gt;N14016 -->\n",
       "<g id=\"edge9\" class=\"edge\">\n",
       "<title>N14013&#45;&gt;N14016</title>\n",
       "<path fill=\"none\" stroke=\"#000000\" d=\"M477.73,-391.65C496.45,-372.38 521.18,-346.94 540.97,-326.58\"/>\n",
       "<polygon fill=\"#000000\" stroke=\"#000000\" points=\"543.33,-329.18 547.79,-319.57 538.31,-324.3 543.33,-329.18\"/>\n",
       "<text text-anchor=\"middle\" x=\"557.67\" y=\"-360.16\" font-family=\"Times,serif\" font-size=\"14.00\">CREATE</text>\n",
       "<text text-anchor=\"middle\" x=\"557.67\" y=\"-342.91\" font-family=\"Times,serif\" font-size=\"14.00\">sum</text>\n",
       "</g>\n",
       "<!-- N14016&#45;&gt;N14017 -->\n",
       "<g id=\"edge12\" class=\"edge\">\n",
       "<title>N14016&#45;&gt;N14017</title>\n",
       "<path fill=\"none\" stroke=\"#000000\" d=\"M566.14,-261.18C562.9,-245 561.54,-224.8 568.92,-208.35 570.36,-205.16 572.13,-202.1 574.15,-199.17\"/>\n",
       "<polygon fill=\"#000000\" stroke=\"#000000\" points=\"576.78,-201.47 580.35,-191.5 571.34,-197.07 576.78,-201.47\"/>\n",
       "<text text-anchor=\"middle\" x=\"616.55\" y=\"-229.55\" font-family=\"Times,serif\" font-size=\"14.00\">INPUT_CALC</text>\n",
       "<text text-anchor=\"middle\" x=\"616.55\" y=\"-212.3\" font-family=\"Times,serif\" font-size=\"14.00\">x</text>\n",
       "</g>\n",
       "<!-- N14018 -->\n",
       "<g id=\"node11\" class=\"node\">\n",
       "<title>N14018</title>\n",
       "<ellipse fill=\"#8cd499\" stroke=\"black\" stroke-width=\"0\" cx=\"378.67\" cy=\"-30.05\" rx=\"116.32\" ry=\"30.05\"/>\n",
       "<text text-anchor=\"middle\" x=\"378.67\" y=\"-34\" font-family=\"Times,serif\" font-size=\"14.00\">RemoteData (14018)</text>\n",
       "<text text-anchor=\"middle\" x=\"378.67\" y=\"-16.75\" font-family=\"Times,serif\" font-size=\"14.00\">@localhost</text>\n",
       "</g>\n",
       "<!-- N14017&#45;&gt;N14018 -->\n",
       "<g id=\"edge13\" class=\"edge\">\n",
       "<title>N14017&#45;&gt;N14018</title>\n",
       "<path fill=\"none\" stroke=\"#000000\" d=\"M555.04,-130.63C542.59,-124.88 529.78,-118.73 517.92,-112.6 488.68,-97.49 456.95,-79.07 431.18,-63.56\"/>\n",
       "<polygon fill=\"#000000\" stroke=\"#000000\" points=\"433.27,-60.74 422.9,-58.56 429.65,-66.73 433.27,-60.74\"/>\n",
       "<text text-anchor=\"middle\" x=\"568.55\" y=\"-99.3\" font-family=\"Times,serif\" font-size=\"14.00\">CREATE</text>\n",
       "<text text-anchor=\"middle\" x=\"568.55\" y=\"-82.05\" font-family=\"Times,serif\" font-size=\"14.00\">remote_folder</text>\n",
       "</g>\n",
       "<!-- N14019 -->\n",
       "<g id=\"node12\" class=\"node\">\n",
       "<title>N14019</title>\n",
       "<ellipse fill=\"#8cd499\" stroke=\"black\" stroke-width=\"0\" cx=\"621.67\" cy=\"-30.05\" rx=\"109.08\" ry=\"18\"/>\n",
       "<text text-anchor=\"middle\" x=\"621.67\" y=\"-25.38\" font-family=\"Times,serif\" font-size=\"14.00\">FolderData (14019)</text>\n",
       "</g>\n",
       "<!-- N14017&#45;&gt;N14019 -->\n",
       "<g id=\"edge14\" class=\"edge\">\n",
       "<title>N14017&#45;&gt;N14019</title>\n",
       "<path fill=\"none\" stroke=\"#000000\" d=\"M621.67,-130.66C621.67,-109.39 621.67,-80.59 621.67,-59.43\"/>\n",
       "<polygon fill=\"#000000\" stroke=\"#000000\" points=\"625.17,-59.48 621.67,-49.48 618.17,-59.48 625.17,-59.48\"/>\n",
       "<text text-anchor=\"middle\" x=\"654.67\" y=\"-99.3\" font-family=\"Times,serif\" font-size=\"14.00\">CREATE</text>\n",
       "<text text-anchor=\"middle\" x=\"654.67\" y=\"-82.05\" font-family=\"Times,serif\" font-size=\"14.00\">retrieved</text>\n",
       "</g>\n",
       "<!-- N14020 -->\n",
       "<g id=\"node13\" class=\"node\">\n",
       "<title>N14020</title>\n",
       "<ellipse fill=\"#8cd499\" stroke=\"black\" stroke-width=\"0\" cx=\"816.67\" cy=\"-30.05\" rx=\"68.06\" ry=\"30.05\"/>\n",
       "<text text-anchor=\"middle\" x=\"816.67\" y=\"-34\" font-family=\"Times,serif\" font-size=\"14.00\">Int (14020)</text>\n",
       "<text text-anchor=\"middle\" x=\"816.67\" y=\"-16.75\" font-family=\"Times,serif\" font-size=\"14.00\">value: 8</text>\n",
       "</g>\n",
       "<!-- N14017&#45;&gt;N14020 -->\n",
       "<g id=\"edge11\" class=\"edge\">\n",
       "<title>N14017&#45;&gt;N14020</title>\n",
       "<path fill=\"none\" stroke=\"#000000\" d=\"M665.44,-130.66C696.68,-110.08 738.62,-82.46 770.42,-61.52\"/>\n",
       "<polygon fill=\"#000000\" stroke=\"#000000\" points=\"772.24,-64.51 778.67,-56.08 768.39,-58.66 772.24,-64.51\"/>\n",
       "<text text-anchor=\"middle\" x=\"772.67\" y=\"-99.3\" font-family=\"Times,serif\" font-size=\"14.00\">CREATE</text>\n",
       "<text text-anchor=\"middle\" x=\"772.67\" y=\"-82.05\" font-family=\"Times,serif\" font-size=\"14.00\">sum</text>\n",
       "</g>\n",
       "</g>\n",
       "</svg>\n"
      ],
      "text/plain": [
       "<graphviz.graphs.Digraph at 0x7f7acefc8950>"
      ]
     },
     "execution_count": 5,
     "metadata": {},
     "output_type": "execute_result"
    }
   ],
   "source": [
    "from aiida_workgraph.utils import generate_node_graph\n",
    "\n",
    "generate_node_graph(wg.pk)"
   ]
  },
  {
   "cell_type": "markdown",
   "id": "84e5957f",
   "metadata": {},
   "source": [
    "## Graph builder\n",
    "A `WorkGraph` is a group of nodes. One can treat a `WorkGraph` as a single node, and expose the inputs and outputs of the `WorkGraph`. This allow you to write:\n",
    "\n",
    "- nested workflows\n",
    "- dynamic workflow based on the input values. For example, if you want to use `if` and `for` to create the nodes, or repeat a calculation until it converges.\n",
    "\n",
    "The `Graph Builder` allow user to create a dynamic workflow based on the input value, as well as nested workflows. Here is an example of nested workflow:"
   ]
  },
  {
   "cell_type": "code",
   "execution_count": 11,
   "id": "7c9d6ed8",
   "metadata": {},
   "outputs": [],
   "source": [
    "from aiida_workgraph import WorkGraph, node\n",
    "\n",
    "# use node.graph_builder decorator, expose the output of \"multiply\" node\n",
    "# as the output of the `WorkGraph`.\n",
    "@node.graph_builder(outputs = [[\"multiply.result\", \"result\"]])\n",
    "def add_multiply(x, y, z):\n",
    "    # Create a WorkGraph\n",
    "    wg = WorkGraph()\n",
    "    wg.nodes.new(add, name=\"add\", x=x, y=y)\n",
    "    wg.nodes.new(multiply, name=\"multiply\", x=z)\n",
    "    wg.links.new(wg.nodes[\"add\"].outputs[\"result\"], wg.nodes[\"multiply\"].inputs[\"y\"])\n",
    "    # don't forget to return the `wg`\n",
    "    return wg"
   ]
  },
  {
   "cell_type": "markdown",
   "id": "0fcae463",
   "metadata": {},
   "source": [
    "Use this graph builder inside a `WorkGraph`:"
   ]
  },
  {
   "cell_type": "code",
   "execution_count": 12,
   "id": "a4d961eb",
   "metadata": {},
   "outputs": [
    {
     "name": "stdout",
     "output_type": "stream",
     "text": [
      "WorkGraph node created, PK: 33011\n",
      "Worktree staet:  FINISHED\n"
     ]
    }
   ],
   "source": [
    "\n",
    "from aiida_workgraph import WorkGraph\n",
    "from aiida.orm import Int\n",
    "\n",
    "wg = WorkGraph(\"test_graph_build\")\n",
    "# create a node using the graph builder\n",
    "add_multiply1 = wg.nodes.new(add_multiply, x=Int(2), y=Int(3), z=Int(4))\n",
    "add_multiply2 = wg.nodes.new(add_multiply, x=Int(2), y=Int(3))\n",
    "# link the output of int node to the input of add node\n",
    "wg.links.new(add_multiply1.outputs[\"result\"], add_multiply2.inputs[\"z\"])\n",
    "wg.submit(wait=True)\n",
    "print(\"Worktree state: \", wg.state)"
   ]
  },
  {
   "cell_type": "markdown",
   "id": "e83a9aca",
   "metadata": {},
   "source": [
    "Get the result of the nodes:"
   ]
  },
  {
   "cell_type": "code",
   "execution_count": 13,
   "id": "bccf4f63",
   "metadata": {},
   "outputs": [
    {
     "name": "stdout",
     "output_type": "stream",
     "text": [
      "Result of node add_multiply1: uuid: 6cb9b171-3cd8-4996-9e30-78e8a81fe7da (pk: 33016) value: 20\n"
     ]
    }
   ],
   "source": [
    "print('Result of node add_multiply1: {}'.format(add_multiply1.outputs[\"result\"].value))"
   ]
  },
  {
   "cell_type": "code",
   "execution_count": null,
   "id": "788aea02",
   "metadata": {},
   "outputs": [
    {
     "data": {
      "image/svg+xml": [
       "<?xml version=\"1.0\" encoding=\"UTF-8\" standalone=\"no\"?>\n",
       "<!DOCTYPE svg PUBLIC \"-//W3C//DTD SVG 1.1//EN\"\n",
       " \"http://www.w3.org/Graphics/SVG/1.1/DTD/svg11.dtd\">\n",
       "<!-- Generated by graphviz version 2.43.0 (0)\n",
       " -->\n",
       "<!-- Title: %3 Pages: 1 -->\n",
       "<svg width=\"1495pt\" height=\"1374pt\"\n",
       " viewBox=\"0.00 0.00 1494.73 1373.70\" xmlns=\"http://www.w3.org/2000/svg\" xmlns:xlink=\"http://www.w3.org/1999/xlink\">\n",
       "<g id=\"graph0\" class=\"graph\" transform=\"scale(1 1) rotate(0) translate(4 1369.7)\">\n",
       "<title>%3</title>\n",
       "<polygon fill=\"white\" stroke=\"transparent\" points=\"-4,4 -4,-1369.7 1490.73,-1369.7 1490.73,4 -4,4\"/>\n",
       "<!-- N2744 -->\n",
       "<g id=\"node1\" class=\"node\">\n",
       "<title>N2744</title>\n",
       "<polygon fill=\"#e38851\" stroke=\"red\" stroke-width=\"6\" points=\"718.23,-1245.96 509.23,-1245.96 509.23,-1192.96 718.23,-1192.96 718.23,-1245.96\"/>\n",
       "<text text-anchor=\"middle\" x=\"613.73\" y=\"-1230.76\" font-family=\"Times,serif\" font-size=\"14.00\">WorkGraph: test_graph_build (2744)</text>\n",
       "<text text-anchor=\"middle\" x=\"613.73\" y=\"-1215.76\" font-family=\"Times,serif\" font-size=\"14.00\">State: finished</text>\n",
       "<text text-anchor=\"middle\" x=\"613.73\" y=\"-1200.76\" font-family=\"Times,serif\" font-size=\"14.00\">Exit Code: 0</text>\n",
       "</g>\n",
       "<!-- N2745 -->\n",
       "<g id=\"node9\" class=\"node\">\n",
       "<title>N2745</title>\n",
       "<polygon fill=\"#e38851\" stroke=\"black\" stroke-width=\"0\" points=\"608.23,-1126.96 409.23,-1126.96 409.23,-1073.96 608.23,-1073.96 608.23,-1126.96\"/>\n",
       "<text text-anchor=\"middle\" x=\"508.73\" y=\"-1111.76\" font-family=\"Times,serif\" font-size=\"14.00\">WorkGraph: add_multiply1 (2745)</text>\n",
       "<text text-anchor=\"middle\" x=\"508.73\" y=\"-1096.76\" font-family=\"Times,serif\" font-size=\"14.00\">State: finished</text>\n",
       "<text text-anchor=\"middle\" x=\"508.73\" y=\"-1081.76\" font-family=\"Times,serif\" font-size=\"14.00\">Exit Code: 0</text>\n",
       "</g>\n",
       "<!-- N2744&#45;&gt;N2745 -->\n",
       "<g id=\"edge17\" class=\"edge\">\n",
       "<title>N2744&#45;&gt;N2745</title>\n",
       "<path fill=\"none\" stroke=\"#000000\" stroke-dasharray=\"1,5\" d=\"M590.68,-1192.78C575.37,-1175.72 555.1,-1153.13 538.55,-1134.7\"/>\n",
       "<polygon fill=\"#000000\" stroke=\"#000000\" points=\"541,-1132.18 531.72,-1127.08 535.79,-1136.86 541,-1132.18\"/>\n",
       "<text text-anchor=\"middle\" x=\"616.23\" y=\"-1163.76\" font-family=\"Times,serif\" font-size=\"14.00\">CALL_WORK</text>\n",
       "<text text-anchor=\"middle\" x=\"616.23\" y=\"-1148.76\" font-family=\"Times,serif\" font-size=\"14.00\">add_multiply1</text>\n",
       "</g>\n",
       "<!-- N2750 -->\n",
       "<g id=\"node14\" class=\"node\">\n",
       "<title>N2750</title>\n",
       "<polygon fill=\"#e38851\" stroke=\"black\" stroke-width=\"0\" points=\"766.23,-530.48 567.23,-530.48 567.23,-477.48 766.23,-477.48 766.23,-530.48\"/>\n",
       "<text text-anchor=\"middle\" x=\"666.73\" y=\"-515.28\" font-family=\"Times,serif\" font-size=\"14.00\">WorkGraph: add_multiply2 (2750)</text>\n",
       "<text text-anchor=\"middle\" x=\"666.73\" y=\"-500.28\" font-family=\"Times,serif\" font-size=\"14.00\">State: finished</text>\n",
       "<text text-anchor=\"middle\" x=\"666.73\" y=\"-485.28\" font-family=\"Times,serif\" font-size=\"14.00\">Exit Code: 0</text>\n",
       "</g>\n",
       "<!-- N2744&#45;&gt;N2750 -->\n",
       "<g id=\"edge10\" class=\"edge\">\n",
       "<title>N2744&#45;&gt;N2750</title>\n",
       "<path fill=\"none\" stroke=\"#000000\" stroke-dasharray=\"1,5\" d=\"M657.34,-1192.79C686.19,-1172.2 718.73,-1140.35 718.73,-1101.46 718.73,-1101.46 718.73,-1101.46 718.73,-622.35 718.73,-588.93 719.34,-578.53 704.73,-548.48 703.1,-545.13 701.14,-541.83 698.98,-538.64\"/>\n",
       "<polygon fill=\"#000000\" stroke=\"#000000\" points=\"701.69,-536.42 692.9,-530.5 696.08,-540.61 701.69,-536.42\"/>\n",
       "<text text-anchor=\"middle\" x=\"761.23\" y=\"-865.89\" font-family=\"Times,serif\" font-size=\"14.00\">CALL_WORK</text>\n",
       "<text text-anchor=\"middle\" x=\"761.23\" y=\"-850.89\" font-family=\"Times,serif\" font-size=\"14.00\">add_multiply2</text>\n",
       "</g>\n",
       "<!-- N2731 -->\n",
       "<g id=\"node2\" class=\"node\">\n",
       "<title>N2731</title>\n",
       "<ellipse fill=\"#8cd499\" stroke=\"black\" stroke-width=\"0\" cx=\"159.73\" cy=\"-1338.83\" rx=\"50.41\" ry=\"26.74\"/>\n",
       "<text text-anchor=\"middle\" x=\"159.73\" y=\"-1342.63\" font-family=\"Times,serif\" font-size=\"14.00\">Int (2731)</text>\n",
       "<text text-anchor=\"middle\" x=\"159.73\" y=\"-1327.63\" font-family=\"Times,serif\" font-size=\"14.00\">value: 2</text>\n",
       "</g>\n",
       "<!-- N2731&#45;&gt;N2744 -->\n",
       "<g id=\"edge1\" class=\"edge\">\n",
       "<title>N2731&#45;&gt;N2744</title>\n",
       "<path fill=\"none\" stroke=\"#000000\" stroke-dasharray=\"5,2\" d=\"M111.55,-1331.23C55.38,-1321.66 -25.67,-1300.92 8.73,-1263.96 41.32,-1228.94 332.41,-1221.72 498.65,-1220.48\"/>\n",
       "<polygon fill=\"#000000\" stroke=\"#000000\" points=\"498.94,-1223.98 508.92,-1220.41 498.9,-1216.98 498.94,-1223.98\"/>\n",
       "<text text-anchor=\"middle\" x=\"148.73\" y=\"-1282.76\" font-family=\"Times,serif\" font-size=\"14.00\">INPUT_WORK</text>\n",
       "<text text-anchor=\"middle\" x=\"148.73\" y=\"-1267.76\" font-family=\"Times,serif\" font-size=\"14.00\">nt__nodes__add_multiply1__properties__x__value</text>\n",
       "</g>\n",
       "<!-- N2731&#45;&gt;N2744 -->\n",
       "<g id=\"edge5\" class=\"edge\">\n",
       "<title>N2731&#45;&gt;N2744</title>\n",
       "<path fill=\"none\" stroke=\"#000000\" stroke-dasharray=\"5,2\" d=\"M205.27,-1327.26C230.9,-1320.14 262.85,-1309.22 288.73,-1293.96 305.8,-1283.89 303.82,-1272.45 321.73,-1263.96 352.67,-1249.28 430.88,-1238.08 498.58,-1230.72\"/>\n",
       "<polygon fill=\"#000000\" stroke=\"#000000\" points=\"499.34,-1234.15 508.91,-1229.61 498.6,-1227.19 499.34,-1234.15\"/>\n",
       "<text text-anchor=\"middle\" x=\"461.73\" y=\"-1282.76\" font-family=\"Times,serif\" font-size=\"14.00\">INPUT_WORK</text>\n",
       "<text text-anchor=\"middle\" x=\"461.73\" y=\"-1267.76\" font-family=\"Times,serif\" font-size=\"14.00\">nt__nodes__add_multiply2__properties__x__value</text>\n",
       "</g>\n",
       "<!-- N2732 -->\n",
       "<g id=\"node3\" class=\"node\">\n",
       "<title>N2732</title>\n",
       "<ellipse fill=\"#8cd499\" stroke=\"black\" stroke-width=\"0\" cx=\"765.73\" cy=\"-1338.83\" rx=\"50.41\" ry=\"26.74\"/>\n",
       "<text text-anchor=\"middle\" x=\"765.73\" y=\"-1342.63\" font-family=\"Times,serif\" font-size=\"14.00\">Int (2732)</text>\n",
       "<text text-anchor=\"middle\" x=\"765.73\" y=\"-1327.63\" font-family=\"Times,serif\" font-size=\"14.00\">value: 3</text>\n",
       "</g>\n",
       "<!-- N2732&#45;&gt;N2744 -->\n",
       "<g id=\"edge2\" class=\"edge\">\n",
       "<title>N2732&#45;&gt;N2744</title>\n",
       "<path fill=\"none\" stroke=\"#000000\" stroke-dasharray=\"5,2\" d=\"M717.82,-1330.24C678.51,-1322.92 627.34,-1310.52 614.73,-1293.96 606.67,-1283.39 605.01,-1269.25 605.87,-1256.2\"/>\n",
       "<polygon fill=\"#000000\" stroke=\"#000000\" points=\"609.37,-1256.39 607.02,-1246.06 602.41,-1255.6 609.37,-1256.39\"/>\n",
       "<text text-anchor=\"middle\" x=\"754.73\" y=\"-1282.76\" font-family=\"Times,serif\" font-size=\"14.00\">INPUT_WORK</text>\n",
       "<text text-anchor=\"middle\" x=\"754.73\" y=\"-1267.76\" font-family=\"Times,serif\" font-size=\"14.00\">nt__nodes__add_multiply2__properties__y__value</text>\n",
       "</g>\n",
       "<!-- N2732&#45;&gt;N2744 -->\n",
       "<g id=\"edge4\" class=\"edge\">\n",
       "<title>N2732&#45;&gt;N2744</title>\n",
       "<path fill=\"none\" stroke=\"#000000\" stroke-dasharray=\"5,2\" d=\"M812.69,-1328.92C860.09,-1317.89 922.61,-1296.49 894.73,-1263.96 873.11,-1238.74 796.55,-1228.01 728.8,-1223.51\"/>\n",
       "<polygon fill=\"#000000\" stroke=\"#000000\" points=\"728.64,-1220 718.44,-1222.87 728.2,-1226.98 728.64,-1220\"/>\n",
       "<text text-anchor=\"middle\" x=\"1041.73\" y=\"-1282.76\" font-family=\"Times,serif\" font-size=\"14.00\">INPUT_WORK</text>\n",
       "<text text-anchor=\"middle\" x=\"1041.73\" y=\"-1267.76\" font-family=\"Times,serif\" font-size=\"14.00\">nt__nodes__add_multiply1__properties__y__value</text>\n",
       "</g>\n",
       "<!-- N2733 -->\n",
       "<g id=\"node4\" class=\"node\">\n",
       "<title>N2733</title>\n",
       "<ellipse fill=\"#8cd499\" stroke=\"black\" stroke-width=\"0\" cx=\"1219.73\" cy=\"-1338.83\" rx=\"50.41\" ry=\"26.74\"/>\n",
       "<text text-anchor=\"middle\" x=\"1219.73\" y=\"-1342.63\" font-family=\"Times,serif\" font-size=\"14.00\">Int (2733)</text>\n",
       "<text text-anchor=\"middle\" x=\"1219.73\" y=\"-1327.63\" font-family=\"Times,serif\" font-size=\"14.00\">value: 4</text>\n",
       "</g>\n",
       "<!-- N2733&#45;&gt;N2744 -->\n",
       "<g id=\"edge3\" class=\"edge\">\n",
       "<title>N2733&#45;&gt;N2744</title>\n",
       "<path fill=\"none\" stroke=\"#000000\" stroke-dasharray=\"5,2\" d=\"M1214.81,-1311.94C1210.23,-1295.38 1201.61,-1275 1185.73,-1263.96 1149.17,-1238.54 884.58,-1227.41 728.37,-1223.01\"/>\n",
       "<polygon fill=\"#000000\" stroke=\"#000000\" points=\"728.34,-1219.5 718.24,-1222.73 728.14,-1226.5 728.34,-1219.5\"/>\n",
       "<text text-anchor=\"middle\" x=\"1347.23\" y=\"-1282.76\" font-family=\"Times,serif\" font-size=\"14.00\">INPUT_WORK</text>\n",
       "<text text-anchor=\"middle\" x=\"1347.23\" y=\"-1267.76\" font-family=\"Times,serif\" font-size=\"14.00\">nt__nodes__add_multiply1__properties__z__value</text>\n",
       "</g>\n",
       "<!-- N2747 -->\n",
       "<g id=\"node5\" class=\"node\">\n",
       "<title>N2747</title>\n",
       "<ellipse fill=\"#8cd499\" stroke=\"black\" stroke-width=\"0\" cx=\"363.73\" cy=\"-862.09\" rx=\"50.41\" ry=\"26.74\"/>\n",
       "<text text-anchor=\"middle\" x=\"363.73\" y=\"-865.89\" font-family=\"Times,serif\" font-size=\"14.00\">Int (2747)</text>\n",
       "<text text-anchor=\"middle\" x=\"363.73\" y=\"-850.89\" font-family=\"Times,serif\" font-size=\"14.00\">value: 5</text>\n",
       "</g>\n",
       "<!-- N2748 -->\n",
       "<g id=\"node8\" class=\"node\">\n",
       "<title>N2748</title>\n",
       "<polygon fill=\"#de707f\" fill-opacity=\"0.466667\" stroke=\"black\" stroke-width=\"0\" points=\"508.23,-769.22 405.23,-769.22 405.23,-716.22 508.23,-716.22 508.23,-769.22\"/>\n",
       "<text text-anchor=\"middle\" x=\"456.73\" y=\"-754.02\" font-family=\"Times,serif\" font-size=\"14.00\">multiply (2748)</text>\n",
       "<text text-anchor=\"middle\" x=\"456.73\" y=\"-739.02\" font-family=\"Times,serif\" font-size=\"14.00\">State: finished</text>\n",
       "<text text-anchor=\"middle\" x=\"456.73\" y=\"-724.02\" font-family=\"Times,serif\" font-size=\"14.00\">Exit Code: 0</text>\n",
       "</g>\n",
       "<!-- N2747&#45;&gt;N2748 -->\n",
       "<g id=\"edge18\" class=\"edge\">\n",
       "<title>N2747&#45;&gt;N2748</title>\n",
       "<path fill=\"none\" stroke=\"#000000\" d=\"M357.66,-835.21C355.59,-820.08 355.71,-801.25 364.73,-787.22 372.18,-775.62 383.65,-767.05 395.98,-760.74\"/>\n",
       "<polygon fill=\"#000000\" stroke=\"#000000\" points=\"397.46,-763.91 405.07,-756.53 394.52,-757.56 397.46,-763.91\"/>\n",
       "<text text-anchor=\"middle\" x=\"406.23\" y=\"-806.02\" font-family=\"Times,serif\" font-size=\"14.00\">INPUT_CALC</text>\n",
       "<text text-anchor=\"middle\" x=\"406.23\" y=\"-791.02\" font-family=\"Times,serif\" font-size=\"14.00\">y</text>\n",
       "</g>\n",
       "<!-- N2746 -->\n",
       "<g id=\"node6\" class=\"node\">\n",
       "<title>N2746</title>\n",
       "<polygon fill=\"#de707f\" fill-opacity=\"0.466667\" stroke=\"black\" stroke-width=\"0\" points=\"414.23,-1007.96 319.23,-1007.96 319.23,-954.96 414.23,-954.96 414.23,-1007.96\"/>\n",
       "<text text-anchor=\"middle\" x=\"366.73\" y=\"-992.76\" font-family=\"Times,serif\" font-size=\"14.00\">add (2746)</text>\n",
       "<text text-anchor=\"middle\" x=\"366.73\" y=\"-977.76\" font-family=\"Times,serif\" font-size=\"14.00\">State: finished</text>\n",
       "<text text-anchor=\"middle\" x=\"366.73\" y=\"-962.76\" font-family=\"Times,serif\" font-size=\"14.00\">Exit Code: 0</text>\n",
       "</g>\n",
       "<!-- N2746&#45;&gt;N2747 -->\n",
       "<g id=\"edge13\" class=\"edge\">\n",
       "<title>N2746&#45;&gt;N2747</title>\n",
       "<path fill=\"none\" stroke=\"#000000\" d=\"M366.07,-954.7C365.65,-938.46 365.11,-917.23 364.65,-899.31\"/>\n",
       "<polygon fill=\"#000000\" stroke=\"#000000\" points=\"368.15,-899.1 364.39,-889.19 361.15,-899.28 368.15,-899.1\"/>\n",
       "<text text-anchor=\"middle\" x=\"391.73\" y=\"-925.76\" font-family=\"Times,serif\" font-size=\"14.00\">CREATE</text>\n",
       "<text text-anchor=\"middle\" x=\"391.73\" y=\"-910.76\" font-family=\"Times,serif\" font-size=\"14.00\">result</text>\n",
       "</g>\n",
       "<!-- N2749 -->\n",
       "<g id=\"node7\" class=\"node\">\n",
       "<title>N2749</title>\n",
       "<ellipse fill=\"#8cd499\" stroke=\"black\" stroke-width=\"0\" cx=\"456.73\" cy=\"-623.35\" rx=\"50.41\" ry=\"26.74\"/>\n",
       "<text text-anchor=\"middle\" x=\"456.73\" y=\"-627.15\" font-family=\"Times,serif\" font-size=\"14.00\">Int (2749)</text>\n",
       "<text text-anchor=\"middle\" x=\"456.73\" y=\"-612.15\" font-family=\"Times,serif\" font-size=\"14.00\">value: 20</text>\n",
       "</g>\n",
       "<!-- N2753 -->\n",
       "<g id=\"node13\" class=\"node\">\n",
       "<title>N2753</title>\n",
       "<polygon fill=\"#de707f\" fill-opacity=\"0.466667\" stroke=\"black\" stroke-width=\"0\" points=\"669.23,-172.74 566.23,-172.74 566.23,-119.74 669.23,-119.74 669.23,-172.74\"/>\n",
       "<text text-anchor=\"middle\" x=\"617.73\" y=\"-157.54\" font-family=\"Times,serif\" font-size=\"14.00\">multiply (2753)</text>\n",
       "<text text-anchor=\"middle\" x=\"617.73\" y=\"-142.54\" font-family=\"Times,serif\" font-size=\"14.00\">State: finished</text>\n",
       "<text text-anchor=\"middle\" x=\"617.73\" y=\"-127.54\" font-family=\"Times,serif\" font-size=\"14.00\">Exit Code: 0</text>\n",
       "</g>\n",
       "<!-- N2749&#45;&gt;N2753 -->\n",
       "<g id=\"edge11\" class=\"edge\">\n",
       "<title>N2749&#45;&gt;N2753</title>\n",
       "<path fill=\"none\" stroke=\"#000000\" d=\"M445.19,-596.82C435.67,-573.43 423.73,-537.58 423.73,-504.98 423.73,-504.98 423.73,-504.98 423.73,-264.61 423.73,-201.76 499.19,-171.65 555.99,-157.89\"/>\n",
       "<polygon fill=\"#000000\" stroke=\"#000000\" points=\"557.03,-161.24 565.99,-155.59 555.46,-154.42 557.03,-161.24\"/>\n",
       "<text text-anchor=\"middle\" x=\"465.23\" y=\"-388.78\" font-family=\"Times,serif\" font-size=\"14.00\">INPUT_CALC</text>\n",
       "<text text-anchor=\"middle\" x=\"465.23\" y=\"-373.78\" font-family=\"Times,serif\" font-size=\"14.00\">x</text>\n",
       "</g>\n",
       "<!-- N2749&#45;&gt;N2750 -->\n",
       "<g id=\"edge12\" class=\"edge\">\n",
       "<title>N2749&#45;&gt;N2750</title>\n",
       "<path fill=\"none\" stroke=\"#000000\" stroke-dasharray=\"5,2\" d=\"M449.68,-596.69C447.03,-581.07 446.87,-561.64 457.73,-548.48 471.1,-532.26 513.64,-521.88 556.89,-515.34\"/>\n",
       "<polygon fill=\"#000000\" stroke=\"#000000\" points=\"557.6,-518.77 566.99,-513.88 556.6,-511.85 557.6,-518.77\"/>\n",
       "<text text-anchor=\"middle\" x=\"581.23\" y=\"-567.28\" font-family=\"Times,serif\" font-size=\"14.00\">INPUT_WORK</text>\n",
       "<text text-anchor=\"middle\" x=\"581.23\" y=\"-552.28\" font-family=\"Times,serif\" font-size=\"14.00\">nt__nodes__multiply__properties__x__value</text>\n",
       "</g>\n",
       "<!-- N2748&#45;&gt;N2749 -->\n",
       "<g id=\"edge19\" class=\"edge\">\n",
       "<title>N2748&#45;&gt;N2749</title>\n",
       "<path fill=\"none\" stroke=\"#000000\" d=\"M456.73,-715.96C456.73,-699.72 456.73,-678.49 456.73,-660.57\"/>\n",
       "<polygon fill=\"#000000\" stroke=\"#000000\" points=\"460.23,-660.45 456.73,-650.45 453.23,-660.45 460.23,-660.45\"/>\n",
       "<text text-anchor=\"middle\" x=\"482.73\" y=\"-687.02\" font-family=\"Times,serif\" font-size=\"14.00\">CREATE</text>\n",
       "<text text-anchor=\"middle\" x=\"482.73\" y=\"-672.02\" font-family=\"Times,serif\" font-size=\"14.00\">result</text>\n",
       "</g>\n",
       "<!-- N2745&#45;&gt;N2746 -->\n",
       "<g id=\"edge7\" class=\"edge\">\n",
       "<title>N2745&#45;&gt;N2746</title>\n",
       "<path fill=\"none\" stroke=\"#000000\" stroke-dasharray=\"1,5\" d=\"M408.96,-1085.42C393.31,-1078.87 378.95,-1069.45 368.73,-1055.96 360.7,-1045.36 358.87,-1031.22 359.53,-1018.18\"/>\n",
       "<polygon fill=\"#000000\" stroke=\"#000000\" points=\"363.03,-1018.33 360.52,-1008.04 356.06,-1017.65 363.03,-1018.33\"/>\n",
       "<text text-anchor=\"middle\" x=\"408.23\" y=\"-1044.76\" font-family=\"Times,serif\" font-size=\"14.00\">CALL_CALC</text>\n",
       "<text text-anchor=\"middle\" x=\"408.23\" y=\"-1029.76\" font-family=\"Times,serif\" font-size=\"14.00\">add</text>\n",
       "</g>\n",
       "<!-- N2745&#45;&gt;N2749 -->\n",
       "<g id=\"edge8\" class=\"edge\">\n",
       "<title>N2745&#45;&gt;N2749</title>\n",
       "<path fill=\"none\" stroke=\"#000000\" stroke-dasharray=\"5,2\" d=\"M525.7,-1073.69C539.16,-1050.74 555.73,-1015.73 555.73,-982.46 555.73,-982.46 555.73,-982.46 555.73,-741.72 555.73,-703.43 524.56,-671.16 497.2,-650.2\"/>\n",
       "<polygon fill=\"#000000\" stroke=\"#000000\" points=\"499,-647.18 488.87,-644.07 494.85,-652.82 499,-647.18\"/>\n",
       "<text text-anchor=\"middle\" x=\"616.73\" y=\"-865.89\" font-family=\"Times,serif\" font-size=\"14.00\">RETURN</text>\n",
       "<text text-anchor=\"middle\" x=\"616.73\" y=\"-850.89\" font-family=\"Times,serif\" font-size=\"14.00\">group_outputs__result</text>\n",
       "</g>\n",
       "<!-- N2745&#45;&gt;N2748 -->\n",
       "<g id=\"edge16\" class=\"edge\">\n",
       "<title>N2745&#45;&gt;N2748</title>\n",
       "<path fill=\"none\" stroke=\"#000000\" stroke-dasharray=\"1,5\" d=\"M499.32,-1073.72C488.24,-1042.04 470.37,-986.36 462.73,-936.96 454.31,-882.54 454.22,-818.5 455.24,-779.52\"/>\n",
       "<polygon fill=\"#000000\" stroke=\"#000000\" points=\"458.74,-779.33 455.55,-769.22 451.75,-779.11 458.74,-779.33\"/>\n",
       "<text text-anchor=\"middle\" x=\"502.23\" y=\"-925.76\" font-family=\"Times,serif\" font-size=\"14.00\">CALL_CALC</text>\n",
       "<text text-anchor=\"middle\" x=\"502.23\" y=\"-910.76\" font-family=\"Times,serif\" font-size=\"14.00\">multiply</text>\n",
       "</g>\n",
       "<!-- N2752 -->\n",
       "<g id=\"node10\" class=\"node\">\n",
       "<title>N2752</title>\n",
       "<ellipse fill=\"#8cd499\" stroke=\"black\" stroke-width=\"0\" cx=\"569.73\" cy=\"-265.61\" rx=\"50.41\" ry=\"26.74\"/>\n",
       "<text text-anchor=\"middle\" x=\"569.73\" y=\"-269.41\" font-family=\"Times,serif\" font-size=\"14.00\">Int (2752)</text>\n",
       "<text text-anchor=\"middle\" x=\"569.73\" y=\"-254.41\" font-family=\"Times,serif\" font-size=\"14.00\">value: 5</text>\n",
       "</g>\n",
       "<!-- N2752&#45;&gt;N2753 -->\n",
       "<g id=\"edge15\" class=\"edge\">\n",
       "<title>N2752&#45;&gt;N2753</title>\n",
       "<path fill=\"none\" stroke=\"#000000\" d=\"M564.7,-238.58C563.07,-223.93 563.13,-205.63 569.73,-190.74 571.28,-187.24 573.26,-183.91 575.54,-180.76\"/>\n",
       "<polygon fill=\"#000000\" stroke=\"#000000\" points=\"578.43,-182.76 582.15,-172.84 573.05,-178.27 578.43,-182.76\"/>\n",
       "<text text-anchor=\"middle\" x=\"611.23\" y=\"-209.54\" font-family=\"Times,serif\" font-size=\"14.00\">INPUT_CALC</text>\n",
       "<text text-anchor=\"middle\" x=\"611.23\" y=\"-194.54\" font-family=\"Times,serif\" font-size=\"14.00\">y</text>\n",
       "</g>\n",
       "<!-- N2751 -->\n",
       "<g id=\"node11\" class=\"node\">\n",
       "<title>N2751</title>\n",
       "<polygon fill=\"#de707f\" fill-opacity=\"0.466667\" stroke=\"black\" stroke-width=\"0\" points=\"620.23,-411.48 525.23,-411.48 525.23,-358.48 620.23,-358.48 620.23,-411.48\"/>\n",
       "<text text-anchor=\"middle\" x=\"572.73\" y=\"-396.28\" font-family=\"Times,serif\" font-size=\"14.00\">add (2751)</text>\n",
       "<text text-anchor=\"middle\" x=\"572.73\" y=\"-381.28\" font-family=\"Times,serif\" font-size=\"14.00\">State: finished</text>\n",
       "<text text-anchor=\"middle\" x=\"572.73\" y=\"-366.28\" font-family=\"Times,serif\" font-size=\"14.00\">Exit Code: 0</text>\n",
       "</g>\n",
       "<!-- N2751&#45;&gt;N2752 -->\n",
       "<g id=\"edge6\" class=\"edge\">\n",
       "<title>N2751&#45;&gt;N2752</title>\n",
       "<path fill=\"none\" stroke=\"#000000\" d=\"M572.07,-358.22C571.65,-341.98 571.11,-320.75 570.65,-302.83\"/>\n",
       "<polygon fill=\"#000000\" stroke=\"#000000\" points=\"574.15,-302.62 570.39,-292.71 567.15,-302.8 574.15,-302.62\"/>\n",
       "<text text-anchor=\"middle\" x=\"597.73\" y=\"-329.28\" font-family=\"Times,serif\" font-size=\"14.00\">CREATE</text>\n",
       "<text text-anchor=\"middle\" x=\"597.73\" y=\"-314.28\" font-family=\"Times,serif\" font-size=\"14.00\">result</text>\n",
       "</g>\n",
       "<!-- N2754 -->\n",
       "<g id=\"node12\" class=\"node\">\n",
       "<title>N2754</title>\n",
       "<ellipse fill=\"#8cd499\" stroke=\"black\" stroke-width=\"0\" cx=\"713.73\" cy=\"-26.87\" rx=\"52.15\" ry=\"26.74\"/>\n",
       "<text text-anchor=\"middle\" x=\"713.73\" y=\"-30.67\" font-family=\"Times,serif\" font-size=\"14.00\">Int (2754)</text>\n",
       "<text text-anchor=\"middle\" x=\"713.73\" y=\"-15.67\" font-family=\"Times,serif\" font-size=\"14.00\">value: 100</text>\n",
       "</g>\n",
       "<!-- N2753&#45;&gt;N2754 -->\n",
       "<g id=\"edge21\" class=\"edge\">\n",
       "<title>N2753&#45;&gt;N2754</title>\n",
       "<path fill=\"none\" stroke=\"#000000\" d=\"M638.79,-119.48C653.12,-101.97 672.18,-78.66 687.49,-59.94\"/>\n",
       "<polygon fill=\"#000000\" stroke=\"#000000\" points=\"690.4,-61.92 694.02,-51.97 684.98,-57.49 690.4,-61.92\"/>\n",
       "<text text-anchor=\"middle\" x=\"703.73\" y=\"-90.54\" font-family=\"Times,serif\" font-size=\"14.00\">CREATE</text>\n",
       "<text text-anchor=\"middle\" x=\"703.73\" y=\"-75.54\" font-family=\"Times,serif\" font-size=\"14.00\">result</text>\n",
       "</g>\n",
       "<!-- N2750&#45;&gt;N2751 -->\n",
       "<g id=\"edge20\" class=\"edge\">\n",
       "<title>N2750&#45;&gt;N2751</title>\n",
       "<path fill=\"none\" stroke=\"#000000\" stroke-dasharray=\"1,5\" d=\"M591.07,-477.41C584.28,-472.44 578.27,-466.52 573.73,-459.48 566.7,-448.59 565.09,-434.78 565.7,-422.07\"/>\n",
       "<polygon fill=\"#000000\" stroke=\"#000000\" points=\"569.22,-422.02 566.67,-411.74 562.25,-421.37 569.22,-422.02\"/>\n",
       "<text text-anchor=\"middle\" x=\"613.23\" y=\"-448.28\" font-family=\"Times,serif\" font-size=\"14.00\">CALL_CALC</text>\n",
       "<text text-anchor=\"middle\" x=\"613.23\" y=\"-433.28\" font-family=\"Times,serif\" font-size=\"14.00\">add</text>\n",
       "</g>\n",
       "<!-- N2750&#45;&gt;N2754 -->\n",
       "<g id=\"edge9\" class=\"edge\">\n",
       "<title>N2750&#45;&gt;N2754</title>\n",
       "<path fill=\"none\" stroke=\"#000000\" stroke-dasharray=\"5,2\" d=\"M704.42,-477.38C730.57,-456.28 760.73,-423.76 760.73,-385.98 760.73,-385.98 760.73,-385.98 760.73,-145.24 760.73,-115.53 747.59,-84.43 735.2,-61.71\"/>\n",
       "<polygon fill=\"#000000\" stroke=\"#000000\" points=\"738.14,-59.79 730.17,-52.82 732.05,-63.25 738.14,-59.79\"/>\n",
       "<text text-anchor=\"middle\" x=\"821.73\" y=\"-269.41\" font-family=\"Times,serif\" font-size=\"14.00\">RETURN</text>\n",
       "<text text-anchor=\"middle\" x=\"821.73\" y=\"-254.41\" font-family=\"Times,serif\" font-size=\"14.00\">group_outputs__result</text>\n",
       "</g>\n",
       "<!-- N2750&#45;&gt;N2753 -->\n",
       "<g id=\"edge14\" class=\"edge\">\n",
       "<title>N2750&#45;&gt;N2753</title>\n",
       "<path fill=\"none\" stroke=\"#000000\" stroke-dasharray=\"1,5\" d=\"M666.49,-477.45C665.72,-407.68 662.72,-217.2 652.73,-190.74 651.56,-187.66 650.09,-184.63 648.41,-181.69\"/>\n",
       "<polygon fill=\"#000000\" stroke=\"#000000\" points=\"651.26,-179.65 642.86,-173.19 645.4,-183.47 651.26,-179.65\"/>\n",
       "<text text-anchor=\"middle\" x=\"704.23\" y=\"-329.28\" font-family=\"Times,serif\" font-size=\"14.00\">CALL_CALC</text>\n",
       "<text text-anchor=\"middle\" x=\"704.23\" y=\"-314.28\" font-family=\"Times,serif\" font-size=\"14.00\">multiply</text>\n",
       "</g>\n",
       "</g>\n",
       "</svg>\n"
      ],
      "text/plain": [
       "<graphviz.graphs.Digraph at 0x7f0ef77b9ed0>"
      ]
     },
     "execution_count": 14,
     "metadata": {},
     "output_type": "execute_result"
    }
   ],
   "source": [
    "generate_node_graph(wg.pk)"
   ]
  },
  {
   "cell_type": "markdown",
   "id": "0c2b84c9",
   "metadata": {},
   "source": [
    "### Start the web server\n",
    "Worktree also provides a web GUI, where you can view and manage the workgraph. Open a terminal, and run:\n",
    "```\n",
    "workgraph web start\n",
    "```\n",
    "Then visit the page http://127.0.0.1:8000/workgraph, you can view the workgraph later from here. You should find all the submited workgraph, e.g., the `first_workflow` Worktree. Please click the pk and view the workgraph."
   ]
  },
  {
   "cell_type": "markdown",
   "id": "a0779e9d",
   "metadata": {},
   "source": [
    "## What's Next\n",
    "\n",
    "|        |                                         |\n",
    "|---------------|----------------------------------------------------|\n",
    "| [Concepts](concept/index.rst)                          | A brief introduction of WorkGraph’s main concepts.  |\n",
    "| [Tutorials](tutorial/index.rst)                        | Real-world examples in computational materials science and more.                     |\n",
    "| [HowTo](howto/index.rst)                              | Advanced topics and tips, e.g flow control using `if`, `for`, `while` and `context`.    |"
   ]
  },
  {
   "cell_type": "markdown",
   "id": "6ff140c8",
   "metadata": {},
   "source": []
  }
 ],
 "metadata": {
  "kernelspec": {
   "display_name": "Python 3.10.4 ('scinode')",
   "language": "python",
   "name": "python3"
  },
  "language_info": {
   "codemirror_mode": {
    "name": "ipython",
    "version": 3
   },
   "file_extension": ".py",
   "mimetype": "text/x-python",
   "name": "python",
   "nbconvert_exporter": "python",
   "pygments_lexer": "ipython3",
   "version": "3.10.0"
  },
  "vscode": {
   "interpreter": {
    "hash": "2f450c1ff08798c4974437dd057310afef0de414c25d1fd960ad375311c3f6ff"
   }
  }
 },
 "nbformat": 4,
 "nbformat_minor": 5
}
