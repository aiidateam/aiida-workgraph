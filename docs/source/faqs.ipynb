{
 "cells": [
  {
   "cell_type": "markdown",
   "id": "22d177dc-6cfb-4de2-9509-f1eb45e10cf2",
   "metadata": {},
   "source": [
    "# Frequently Asked Questions"
   ]
  },
  {
   "cell_type": "markdown",
   "id": "58696c91",
   "metadata": {},
   "source": [
    "### How do I convert a workchain into a WorkGraph?\n",
    "\n",
    "We provided an example to demonstrate how to transition from a WorkChain to a WorkGraph. The example is available [here](https://aiida-workgraph.readthedocs.io/en/latest/howto/transfer_workchain.html)\n",
    "\n",
    "### Whether to include WorkGraph in the aiida-plugin?\n",
    "\n",
    "1. Including WorkGraph allows users to combine and modify components flexibly.\n",
    "2. Excluding WorkGraph would mean users treat the WorkChain more like a 'black box'.\n",
    "\n",
    "### If WorkGraph includes checkpoint similar to WorkChain.\n",
    "\n",
    "Yes, WorkGraph supports checkpoint.\n",
    "\n",
    "\n",
    "### When a WorkGraph is finished, can I read the result of a `Normal` task?\n",
    "No. When a WorkGraph is finished, it only only read the data which is saved in the AiiDA proprovenance. A `Normal` task is designed as a intermidate step, and not generating new data."
   ]
  },
  {
   "cell_type": "markdown",
   "id": "fac63a74",
   "metadata": {},
   "source": []
  }
 ],
 "metadata": {
  "kernelspec": {
   "display_name": "Python 3.10.4 ('scinode')",
   "language": "python",
   "name": "python3"
  },
  "language_info": {
   "codemirror_mode": {
    "name": "ipython",
    "version": 3
   },
   "file_extension": ".py",
   "mimetype": "text/x-python",
   "name": "python",
   "nbconvert_exporter": "python",
   "pygments_lexer": "ipython3",
   "version": "3.11.0"
  },
  "vscode": {
   "interpreter": {
    "hash": "2f450c1ff08798c4974437dd057310afef0de414c25d1fd960ad375311c3f6ff"
   }
  }
 },
 "nbformat": 4,
 "nbformat_minor": 5
}
