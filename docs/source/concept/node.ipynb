{
 "cells": [
  {
   "cell_type": "markdown",
   "metadata": {},
   "source": [
    "# Node\n",
    "Node is the basic building block of the WorkGraph. A node has inputs, outputs, and the executor. A node executor can be a `calcfunction`, `workfunction`, `calcjob`, `Workchain` or any other Python function. A node can be created in three ways.\n",
    "\n",
    "## Decorator\n",
    "\n",
    "Decorate any Python function using the `node` decorator. To use the power of AiiDA (e.g. save the results to a database, keep provenance), one can use the `node.calcfunction` decorator.\n"
   ]
  },
  {
   "cell_type": "code",
   "execution_count": 1,
   "metadata": {},
   "outputs": [],
   "source": [
    "from aiida_workgraph import node\n",
    "from aiida import orm\n",
    "\n",
    "# define add node\n",
    "@node()\n",
    "def add(x, y):\n",
    "   return x + y\n",
    "\n",
    "# define multiply calcfunction node\n",
    "@node.calcfunction()\n",
    "def multiply(x, y):\n",
    "   return orm.Float(x + y)"
   ]
  },
  {
   "cell_type": "markdown",
   "metadata": {},
   "source": [
    "The input ports (also named sockets) are generated automatically based on the function arguments. The default name of the output port is `result`. There are also some built-in ports, like `_wait` and `_outputs`.  One can create a node instance and inspect its inputs and outputs:"
   ]
  },
  {
   "cell_type": "code",
   "execution_count": 2,
   "metadata": {},
   "outputs": [
    {
     "name": "stdout",
     "output_type": "stream",
     "text": [
      "Inputs: ['x', 'y', '_wait']\n",
      "Outputs: ['result', '_wait', '_outputs']\n"
     ]
    }
   ],
   "source": [
    "add1 = add.node()\n",
    "print(\"Inputs:\", add1.inputs.keys())\n",
    "print(\"Outputs:\", add1.outputs.keys())"
   ]
  },
  {
   "cell_type": "markdown",
   "metadata": {},
   "source": [
    "If you want to change the name of the output ports, or if there are more than one output. You can define the outputs explicitly.\n",
    "For example: `[\"General\", \"sum\"]`, where the first value `General` indicates the data type, and the second value is the name of the port. The data type tell the code how to display the port in the GUI, validate the data, and serialize data into database. We use `General` for any data type. For the moment, the data validation is experimentally supported, and the GUI display is not implemented. Thus, I suggest you to always `General` for the port."
   ]
  },
  {
   "cell_type": "code",
   "execution_count": 3,
   "metadata": {},
   "outputs": [
    {
     "name": "stdout",
     "output_type": "stream",
     "text": [
      "Inputs: ['x', 'y', '_wait']\n",
      "Outputs: ['sum', 'difference', '_wait', '_outputs']\n"
     ]
    }
   ],
   "source": [
    "# define add calcfunction node\n",
    "@node(outputs=[[\"General\", \"sum\"],\n",
    "               [\"General\", \"difference\"]])\n",
    "def add_minus(x, y):\n",
    "   return {\"sum\": x + y, \"difference\": x - y}\n",
    "\n",
    "print(\"Inputs:\", add_minus.node().inputs.keys())\n",
    "print(\"Outputs:\", add_minus.node().outputs.keys())"
   ]
  },
  {
   "cell_type": "markdown",
   "metadata": {},
   "source": [
    "Then, one can use the node inside the WorkGraph:"
   ]
  },
  {
   "cell_type": "code",
   "execution_count": 4,
   "metadata": {},
   "outputs": [
    {
     "data": {
      "text/plain": [
       "NodeLink(from=\"add_minus1.sum\", to=\"multiply1.x\")"
      ]
     },
     "execution_count": 4,
     "metadata": {},
     "output_type": "execute_result"
    }
   ],
   "source": [
    "from aiida_workgraph import WorkGraph\n",
    "wg = WorkGraph()\n",
    "add_minus1 = wg.nodes.new(add_minus, name=\"add_minus1\")\n",
    "multiply1 = wg.nodes.new(multiply, name=\"multiply1\")\n",
    "wg.links.new(add_minus1.outputs[\"sum\"], multiply1.inputs[\"x\"])"
   ]
  },
  {
   "cell_type": "markdown",
   "metadata": {},
   "source": [
    "## Build from Callable\n",
    "\n",
    "One can build a node from an already existing Python function."
   ]
  },
  {
   "cell_type": "code",
   "execution_count": 5,
   "metadata": {},
   "outputs": [
    {
     "data": {
      "application/vnd.jupyter.widget-view+json": {
       "model_id": "84ec968ba42e4e1e975ff2e1fe5e1f10",
       "version_major": 2,
       "version_minor": 0
      },
      "text/plain": [
       "NodeGraphWidget(settings={'minmap': False}, style={'width': '40%', 'height': '600px'}, value={'nodes': {'norm1…"
      ]
     },
     "execution_count": 5,
     "metadata": {},
     "output_type": "execute_result"
    }
   ],
   "source": [
    "from aiida_workgraph import WorkGraph, build_node\n",
    "\n",
    "from scipy.linalg import norm\n",
    "NormNode = build_node(norm)\n",
    "\n",
    "wg = WorkGraph()\n",
    "wg.nodes.new(NormNode, name=\"norm1\")\n"
   ]
  },
  {
   "cell_type": "markdown",
   "metadata": {},
   "source": [
    "The inputs and outputs of the node are automatically generated. One can also define the outputs explicitly.\n",
    "\n",
    "```python\n",
    "NormNode = build_node(norm, outputs=[[\"General\", \"norm\"]])\n",
    "```"
   ]
  },
  {
   "cell_type": "code",
   "execution_count": 7,
   "metadata": {},
   "outputs": [
    {
     "name": "stdout",
     "output_type": "stream",
     "text": [
      "Inputs:\n",
      "  - a\n",
      "  - ord\n",
      "  - axis\n",
      "  - keepdims\n",
      "  - check_finite\n",
      "  - _wait\n",
      "Outputs:\n",
      "  - result\n",
      "  - _wait\n",
      "  - _outputs\n"
     ]
    }
   ],
   "source": [
    "node = NormNode()\n",
    "print(\"Inputs:\")\n",
    "for input in node.inputs:\n",
    "   if \".\" not in input.name:\n",
    "      print(f\"  - {input.name}\")\n",
    "print(\"Outputs:\")\n",
    "for output in node.outputs:\n",
    "   if \".\" not in output.name:\n",
    "      print(f\"  - {output.name}\")"
   ]
  },
  {
   "cell_type": "markdown",
   "metadata": {},
   "source": [
    "One can use these AiiDA component direclty in the WorkGraph. The inputs and outputs of the node is automatically generated based on the input and output port of the AiiDA component. In case of `calcfunction`, the default output is `result`. If there are more than one output node, one need to define the outputs explictily."
   ]
  },
  {
   "cell_type": "code",
   "execution_count": null,
   "metadata": {},
   "outputs": [],
   "source": [
    "from aiida.calculations.arithmetic.add import ArithmeticAddCalculation\n",
    "\n",
    "wg = WorkGraph()\n",
    "add1 = wg.nodes.new(ArithmeticAddCalculation, name=\"add1\")"
   ]
  },
  {
   "cell_type": "markdown",
   "metadata": {},
   "source": [
    "## Define a Node\n",
    "Create a node class by inheriting from `Node` base class.\n"
   ]
  },
  {
   "cell_type": "code",
   "execution_count": null,
   "metadata": {},
   "outputs": [],
   "source": [
    "from aiida_workgraph.node import Node\n",
    "\n",
    "class MyAdd(Node):\n",
    "\n",
    "    identifier: str = \"MyAdd\"\n",
    "    name = \"MyAdd\"\n",
    "    node_type = \"calcfunction\"\n",
    "    catalog = \"Test\"\n",
    "    kwargs = [\"x\", \"y\"]\n",
    "\n",
    "    def create_sockets(self):\n",
    "        self.inputs.clear()\n",
    "        self.outputs.clear()\n",
    "        inp = self.inputs.new(\"General\", \"x\")\n",
    "        inp.add_property(\"General\", \"x\", default=0.0)\n",
    "        inp = self.inputs.new(\"General\", \"y\")\n",
    "        inp.add_property(\"General\", \"y\", default=0.0)\n",
    "        self.outputs.new(\"General\", \"sum\")\n",
    "\n",
    "    def get_executor(self):\n",
    "        return {\n",
    "            \"path\": \"aiida_workgraph.test\",\n",
    "            \"name\": \"add\",\n",
    "        }"
   ]
  },
  {
   "cell_type": "markdown",
   "metadata": {},
   "source": [
    "Then, one can use the node by using its identifier."
   ]
  },
  {
   "cell_type": "code",
   "execution_count": null,
   "metadata": {},
   "outputs": [],
   "source": [
    "from aiida_workgraph import WorkGraph\n",
    "wg = WorkGraph()\n",
    "wg.nodes.new(MyAdd, name=\"add1\")\n"
   ]
  },
  {
   "cell_type": "markdown",
   "metadata": {},
   "source": [
    "One can also register the node in node pool, and then use its `identifer` directly.\n",
    "```python\n",
    "wg.nodes.new(\"MyAdd\", name=\"add1\")\n",
    "```"
   ]
  }
 ],
 "metadata": {
  "kernelspec": {
   "display_name": "aiida",
   "language": "python",
   "name": "python3"
  },
  "language_info": {
   "codemirror_mode": {
    "name": "ipython",
    "version": 3
   },
   "file_extension": ".py",
   "mimetype": "text/x-python",
   "name": "python",
   "nbconvert_exporter": "python",
   "pygments_lexer": "ipython3",
   "version": "3.11.0"
  }
 },
 "nbformat": 4,
 "nbformat_minor": 2
}
