{
 "cells": [
  {
   "cell_type": "markdown",
   "metadata": {},
   "source": [
    "# Port (Socket)\n",
    "In node graph programming, people use `sockets` to indicate the type of data that can be transferred from one node to another. This is similar to AiiDA’s `port`. We will use the name port to reuse the concepts already in AiiDA as much as possible. Their differences will be introduced later.\n",
    "\n",
    "Usually, the ports are created automatically from an AiiDA component (e.g., WorkChain), or generated automatically based on the function arguments. There are also some built-in ports(sockets), like `_wait` and `_outputs`. \n",
    "\n"
   ]
  },
  {
   "cell_type": "code",
   "execution_count": 11,
   "metadata": {},
   "outputs": [
    {
     "name": "stdout",
     "output_type": "stream",
     "text": [
      "Input ports:  ['x', 'y', '_wait']\n",
      "Output ports:  ['result', '_wait', '_outputs']\n"
     ]
    }
   ],
   "source": [
    "from aiida_workgraph import node\n",
    "\n",
    "@node.calcfunction()\n",
    "def multiply(x, y):\n",
    "   return x*y\n",
    "\n",
    "print(\"Input ports: \", multiply.node().inputs.keys())\n",
    "print(\"Output ports: \", multiply.node().outputs.keys())"
   ]
  },
  {
   "cell_type": "markdown",
   "metadata": {},
   "source": [
    "If you want to change the name of the output ports, or if there are more than one output. You can define the outputs explicitly."
   ]
  },
  {
   "cell_type": "code",
   "execution_count": 9,
   "metadata": {},
   "outputs": [
    {
     "name": "stdout",
     "output_type": "stream",
     "text": [
      "Input ports:  ['x', 'y', '_wait']\n",
      "Ouput ports:  ['sum', 'difference', '_wait', '_outputs']\n"
     ]
    }
   ],
   "source": [
    "from aiida_workgraph import node\n",
    "\n",
    "@node(outputs=[[\"General\", \"sum\"],\n",
    "               [\"General\", \"difference\"]])\n",
    "def add_minus(x, y):\n",
    "   return {\"sum\": x + y, \"difference\": x - y}\n",
    "\n",
    "\n",
    "print(\"Input ports: \", add_minus.node().inputs.keys())\n",
    "print(\"Ouput ports: \", add_minus.node().outputs.keys())"
   ]
  },
  {
   "cell_type": "markdown",
   "metadata": {},
   "source": [
    "Two values are needed to define a port, e.g., `[\"General\", \"sum\"]`, where the first value `General` indicates the data type, and the second value is the name of the port. We use `General` for any data type.\n",
    "\n",
    "## Assign socket type based on typing hints\n",
    "The type hints in the function signature can be used to assign the socket type. The following table shows the mapping between the type hints and the socket type.\n",
    "\n",
    "| Type hint     | Socket type   |\n",
    "|---------------|---------------|\n",
    "| `orm.Int`     | `AiiDAInt`    |\n",
    "| `orm.Str`     | `AiiDAString` |\n",
    "| `orm.Float`   | `AiiDAFloat`  |\n",
    "| `orm.Bool`    | `AiiDABool`   |\n"
   ]
  },
  {
   "cell_type": "code",
   "execution_count": 1,
   "metadata": {},
   "outputs": [
    {
     "name": "stdout",
     "output_type": "stream",
     "text": [
      "aiida_socket_maping:  {<class 'aiida.orm.nodes.data.int.Int'>: 'AiiDAInt', <class 'aiida.orm.nodes.data.float.Float'>: 'AiiDAFloat', <class 'aiida.orm.nodes.data.str.Str'>: 'AiiDAString', <class 'aiida.orm.nodes.data.bool.Bool'>: 'AiiDABool'}\n",
      "metadata                      : General             \n",
      "metadata.store_provenance     : General             \n",
      "metadata.description          : General             \n",
      "metadata.label                : General             \n",
      "metadata.call_link_label      : General             \n",
      "x                             : AiiDAInt            \n",
      "y                             : AiiDAFloat          \n",
      "_wait                         : General             \n"
     ]
    }
   ],
   "source": [
    "from aiida_workgraph import node\n",
    "\n",
    "@node.calcfunction()\n",
    "def add(x: int, y: float) -> float:\n",
    "   return x + y\n",
    "\n",
    "for input in add.node().inputs:\n",
    "   print(\"{:30s}: {:20s}\".format(input.name, input.identifier))"
   ]
  },
  {
   "cell_type": "markdown",
   "metadata": {},
   "source": [
    "\n",
    "\n",
    "## Data validation (**Experimental**)\n",
    "One can use the class of the data directly when defining the port.\n",
    "\n",
    "**For the moment, data validation is experimentally supported.** Thus, I suggest you always use `General` for the port."
   ]
  },
  {
   "cell_type": "code",
   "execution_count": 5,
   "metadata": {},
   "outputs": [],
   "source": [
    "from aiida_workgraph import node\n",
    "from aiida import orm\n",
    "\n",
    "@node.calcfunction(\n",
    "    inputs=[[orm.Int, \"x\"], [orm.Float, \"y\"]],\n",
    "    outputs=[[orm.Float, \"result\"]]\n",
    ")\n",
    "def add(x, y):\n",
    "    result = x + y\n",
    "    return result"
   ]
  },
  {
   "cell_type": "markdown",
   "metadata": {},
   "source": [
    "## Advanced concept of Socket\n",
    "\n",
    "In the GUI of node graph programming, a socket is displayed as a circle only. In order to set the value for a socket directly in the GUI, one can add a property to it. A property is the data that can be displayed/edited in the GUI directly, which is usually a simple data type, such as int, string, boolean, etc.\n",
    "\n",
    "### Property\n",
    "\n",
    "A socket can has a property. The data of the property will be used when there is no connection to the input port. The property can be added when define a custom port. Or it can be added later by using ``add_property`` method.\n",
    "\n",
    "In `aiida-workgraph`, all socket must have a property. The value of the property will be used when there is no connection to the input port."
   ]
  },
  {
   "cell_type": "code",
   "execution_count": 10,
   "metadata": {},
   "outputs": [],
   "source": [
    "def create_sockets(self):\n",
    "   # create a General port.\n",
    "   inp = self.inputs.new(\"General\", \"symbols\")\n",
    "   # add a string property to the port with default value \"H\".\n",
    "   inp.add_property(\"String\", \"default\", default=\"H\")"
   ]
  },
  {
   "cell_type": "markdown",
   "metadata": {},
   "source": [
    "### Serialization\n",
    "If you use non-AiiDA data as inputs/outputs of a `Normal` node, the data type of the socket will also indicate how to serialize data and deserialize the data.\n"
   ]
  }
 ],
 "metadata": {
  "kernelspec": {
   "display_name": "aiida",
   "language": "python",
   "name": "python3"
  },
  "language_info": {
   "codemirror_mode": {
    "name": "ipython",
    "version": 3
   },
   "file_extension": ".py",
   "mimetype": "text/x-python",
   "name": "python",
   "nbconvert_exporter": "python",
   "pygments_lexer": "ipython3",
   "version": "3.10.0"
  }
 },
 "nbformat": 4,
 "nbformat_minor": 2
}
