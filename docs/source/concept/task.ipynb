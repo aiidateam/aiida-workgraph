{
 "cells": [
  {
   "cell_type": "markdown",
   "metadata": {},
   "source": [
    "# Task\n",
    "Task is the basic building block of the WorkGraph. A task has inputs, outputs, and the executor. A task executor can be a `calcfunction`, `workfunction`, `calcjob`, `Workchain` or any other Python function. A task can be created in three ways.\n",
    "\n",
    "## Decorator\n",
    "\n",
    "Decorate any Python function using the `task` decorator. To use the power of AiiDA (e.g. save the results to a database, keep provenance), one can use the `task.calcfunction` decorator.\n"
   ]
  },
  {
   "cell_type": "code",
   "execution_count": 1,
   "metadata": {},
   "outputs": [
    {
     "data": {
      "text/html": [
       "\n",
       "        <iframe\n",
       "            width=\"100%\"\n",
       "            height=\"600px\"\n",
       "            src=\"html/add0.html\"\n",
       "            frameborder=\"0\"\n",
       "            allowfullscreen\n",
       "            \n",
       "        ></iframe>\n",
       "        "
      ],
      "text/plain": [
       "<IPython.lib.display.IFrame at 0x7df573635350>"
      ]
     },
     "execution_count": 1,
     "metadata": {},
     "output_type": "execute_result"
    }
   ],
   "source": [
    "from aiida_workgraph import task\n",
    "from aiida import orm\n",
    "\n",
    "# define add task\n",
    "@task # this is equivalent to passing no arguments @task()\n",
    "def add(x, y):\n",
    "   return x + y\n",
    "\n",
    "# define multiply calcfunction task\n",
    "@task.calcfunction # this is equivalent to passing no arguments @task.calculation()\n",
    "def multiply(x, y):\n",
    "   return orm.Float(x + y)\n",
    "\n",
    "# export the task to html file so that it can be visualized in a browser\n",
    "add.task().to_html()\n",
    "\n",
    "# visualize the task in jupyter-notebook\n",
    "# add.task()"
   ]
  },
  {
   "cell_type": "markdown",
   "metadata": {},
   "source": [
    "The input ports (also named sockets) are generated automatically based on the function arguments. The default name of the output port is `result`. There are also some built-in ports, like `_wait` and `_outputs`.  One can create a task instance and inspect its inputs and outputs:"
   ]
  },
  {
   "cell_type": "code",
   "execution_count": 2,
   "metadata": {},
   "outputs": [
    {
     "name": "stdout",
     "output_type": "stream",
     "text": [
      "Inputs: ['x', 'y', '_wait']\n",
      "Outputs: ['result', '_wait', '_outputs']\n"
     ]
    }
   ],
   "source": [
    "add1 = add.task()\n",
    "print(\"Inputs:\", add1.inputs.keys())\n",
    "print(\"Outputs:\", add1.outputs.keys())"
   ]
  },
  {
   "cell_type": "markdown",
   "metadata": {},
   "source": [
    "If you want to change the name of the output ports, or if there are more than one output. You can define the outputs explicitly.\n",
    "For example: `{\"name\": \"sum\", \"identifier\": \"Any\"}`, where the `identifier` indicates the data type. The data type tell the code how to display the port in the GUI, validate the data, and serialize data into database. We use `Any` for any data type. For the moment, the data validation is experimentally supported, and the GUI display is not implemented. Thus, I suggest you to always `Any` for the port."
   ]
  },
  {
   "cell_type": "code",
   "execution_count": 3,
   "metadata": {},
   "outputs": [
    {
     "name": "stdout",
     "output_type": "stream",
     "text": [
      "Inputs: ['x', 'y', '_wait']\n",
      "Outputs: ['sum', 'difference', '_wait', '_outputs']\n"
     ]
    }
   ],
   "source": [
    "# define add calcfunction task\n",
    "@task(outputs=[{\"name\": \"sum\", \"identifier\": \"Any\"},\n",
    "               {\"name\": \"diff\", \"identifier\": \"Any\"},\n",
    "               ])\n",
    "def add_minus(x, y):\n",
    "   return {\"sum\": x + y, \"difference\": x - y}\n",
    "\n",
    "print(\"Inputs:\", add_minus.task().inputs.keys())\n",
    "print(\"Outputs:\", add_minus.task().outputs.keys())"
   ]
  },
  {
   "cell_type": "markdown",
   "metadata": {},
   "source": [
    "Then, one can use the task inside the WorkGraph:"
   ]
  },
  {
   "cell_type": "code",
   "execution_count": 4,
   "metadata": {},
   "outputs": [
    {
     "data": {
      "text/plain": [
       "NodeLink(from=\"add_minus1.sum\", to=\"multiply1.x\")"
      ]
     },
     "execution_count": 4,
     "metadata": {},
     "output_type": "execute_result"
    }
   ],
   "source": [
    "from aiida_workgraph import WorkGraph\n",
    "wg = WorkGraph()\n",
    "add_minus1 = wg.add_task(add_minus, name=\"add_minus1\")\n",
    "multiply1 = wg.add_task(multiply, name=\"multiply1\")\n",
    "wg.add_link(add_minus1.outputs[\"sum\"], multiply1.inputs[\"x\"])"
   ]
  },
  {
   "cell_type": "markdown",
   "metadata": {},
   "source": [
    "## Build from Callable\n",
    "\n",
    "One can build a task from an already existing Python function."
   ]
  },
  {
   "cell_type": "code",
   "execution_count": 6,
   "metadata": {},
   "outputs": [
    {
     "data": {
      "text/html": [
       "\n",
       "        <iframe\n",
       "            width=\"100%\"\n",
       "            height=\"600px\"\n",
       "            src=\"html/norm1.html\"\n",
       "            frameborder=\"0\"\n",
       "            allowfullscreen\n",
       "            \n",
       "        ></iframe>\n",
       "        "
      ],
      "text/plain": [
       "<IPython.lib.display.IFrame at 0x79e71b34ead0>"
      ]
     },
     "execution_count": 6,
     "metadata": {},
     "output_type": "execute_result"
    }
   ],
   "source": [
    "from aiida_workgraph import WorkGraph, build_task\n",
    "\n",
    "from scipy.linalg import norm\n",
    "NormTask = build_task(norm)\n",
    "\n",
    "wg = WorkGraph()\n",
    "norm_task = wg.add_task(NormTask, name=\"norm1\")\n",
    "norm_task.to_html()\n"
   ]
  },
  {
   "cell_type": "markdown",
   "metadata": {},
   "source": [
    "The inputs and outputs of the task are automatically generated. One can also define the outputs explicitly.\n",
    "\n",
    "```python\n",
    "NormTask = build_task(norm, outputs=[{\"name\": \"norm\", \"identifier\": \"Any\"}])\n",
    "```"
   ]
  },
  {
   "cell_type": "code",
   "execution_count": 7,
   "metadata": {},
   "outputs": [
    {
     "name": "stdout",
     "output_type": "stream",
     "text": [
      "Inputs:\n",
      "  - a\n",
      "  - ord\n",
      "  - axis\n",
      "  - keepdims\n",
      "  - check_finite\n",
      "  - _wait\n",
      "Outputs:\n",
      "  - result\n",
      "  - _wait\n",
      "  - _outputs\n"
     ]
    }
   ],
   "source": [
    "task = NormTask()\n",
    "print(\"Inputs:\")\n",
    "for input in task.inputs:\n",
    "   if \".\" not in input.name:\n",
    "      print(f\"  - {input.name}\")\n",
    "print(\"Outputs:\")\n",
    "for output in task.outputs:\n",
    "   if \".\" not in output.name:\n",
    "      print(f\"  - {output.name}\")"
   ]
  },
  {
   "cell_type": "markdown",
   "metadata": {},
   "source": [
    "One can use these AiiDA component direclty in the WorkGraph. The inputs and outputs of the task is automatically generated based on the input and output port of the AiiDA component. In case of `calcfunction`, the default output is `result`. If there are more than one output task, one need to define the outputs explictily."
   ]
  },
  {
   "cell_type": "code",
   "execution_count": null,
   "metadata": {},
   "outputs": [],
   "source": [
    "from aiida.calculations.arithmetic.add import ArithmeticAddCalculation\n",
    "\n",
    "wg = WorkGraph()\n",
    "add1 = wg.add_task(ArithmeticAddCalculation, name=\"add1\")"
   ]
  },
  {
   "cell_type": "markdown",
   "metadata": {},
   "source": [
    "## Define a Task\n",
    "Create a task class by inheriting from `Task` base class.\n"
   ]
  },
  {
   "cell_type": "code",
   "execution_count": null,
   "metadata": {},
   "outputs": [],
   "source": [
    "from aiida_workgraph.task import Task\n",
    "\n",
    "class MyAdd(Task):\n",
    "\n",
    "    identifier: str = \"MyAdd\"\n",
    "    name = \"MyAdd\"\n",
    "    node_type = \"calcfunction\"\n",
    "    catalog = \"Test\"\n",
    "    kwargs = [\"x\", \"y\"]\n",
    "\n",
    "    def create_sockets(self):\n",
    "        self.inputs.clear()\n",
    "        self.outputs.clear()\n",
    "        inp = self.inputs.new(\"Any\", \"x\")\n",
    "        inp.add_property(\"Any\", \"x\", default=0.0)\n",
    "        inp = self.inputs.new(\"Any\", \"y\")\n",
    "        inp.add_property(\"Any\", \"y\", default=0.0)\n",
    "        self.outputs.new(\"Any\", \"sum\")\n",
    "\n",
    "    def get_executor(self):\n",
    "        return {\n",
    "            \"path\": \"aiida_workgraph.test\",\n",
    "            \"name\": \"add\",\n",
    "        }"
   ]
  },
  {
   "cell_type": "markdown",
   "metadata": {},
   "source": [
    "Then, one can use the task by using its identifier."
   ]
  },
  {
   "cell_type": "code",
   "execution_count": null,
   "metadata": {},
   "outputs": [],
   "source": [
    "from aiida_workgraph import WorkGraph\n",
    "wg = WorkGraph()\n",
    "wg.add_task(MyAdd, name=\"add1\")\n"
   ]
  },
  {
   "cell_type": "markdown",
   "metadata": {},
   "source": [
    "One can also register the task in task pool, and then use its `identifer` directly.\n",
    "```python\n",
    "wg.add_task(\"MyAdd\", name=\"add1\")\n",
    "```"
   ]
  }
 ],
 "metadata": {
  "kernelspec": {
   "display_name": "aiida",
   "language": "python",
   "name": "python3"
  },
  "language_info": {
   "codemirror_mode": {
    "name": "ipython",
    "version": 3
   },
   "file_extension": ".py",
   "mimetype": "text/x-python",
   "name": "python",
   "nbconvert_exporter": "python",
   "pygments_lexer": "ipython3",
   "version": "3.11.0"
  }
 },
 "nbformat": 4,
 "nbformat_minor": 2
}
