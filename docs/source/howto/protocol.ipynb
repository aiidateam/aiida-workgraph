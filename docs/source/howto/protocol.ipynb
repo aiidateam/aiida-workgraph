{
 "cells": [
  {
   "cell_type": "markdown",
   "id": "22d177dc-6cfb-4de2-9509-f1eb45e10cf2",
   "metadata": {},
   "source": [
    "# Use `protocol` to set input parameters"
   ]
  },
  {
   "cell_type": "markdown",
   "id": "58696c91",
   "metadata": {},
   "source": [
    "## Introduction\n",
    "One can manually prepare all the inputs for a WorkGraph. One can also set the input parameters using the `protocol`, as long as the WorkChain support get input parameters based on the input `protocol`. For example, in the aiida-quantumespresso package, the PwRelaxWorkChain has a `get_builder_from_protocol` method. In this tutorial, we will show how to use the `protocol` to set the input parameters inside the WorkGraph.\n",
    "\n",
    "**Note**: For the moment, it only suppor the `ProtocolMixin` from aiida-quantumespresso.\n",
    "\n",
    "\n",
    "Load the AiiDA profile."
   ]
  },
  {
   "cell_type": "code",
   "execution_count": 1,
   "id": "c6b83fb5",
   "metadata": {},
   "outputs": [
    {
     "data": {
      "text/plain": [
       "Profile<uuid='4a9501fb20364cecb99920cadf27b238' name='xing'>"
      ]
     },
     "execution_count": 1,
     "metadata": {},
     "output_type": "execute_result"
    }
   ],
   "source": [
    "%load_ext aiida\n",
    "from aiida import load_profile\n",
    "load_profile()"
   ]
  },
  {
   "cell_type": "markdown",
   "id": "0f46d277",
   "metadata": {},
   "source": [
    "## Use `protocol` to set input parameters\n"
   ]
  },
  {
   "cell_type": "code",
   "execution_count": 18,
   "id": "11e3bca1-dda6-44e9-9585-54feeda7e7db",
   "metadata": {},
   "outputs": [
    {
     "name": "stdout",
     "output_type": "stream",
     "text": [
      "The inputs for the PwBaseWorkchain are:\n",
      "--------------------------------------------------------------------------------\n",
      "{'kpoints_distance': <Float: uuid: ae0202b9-594c-42fc-8975-c8ed380b946f (unstored) value: 0.5>,\n",
      " 'kpoints_force_parity': <Bool: uuid: eca308be-0b51-4490-b01f-8c261316977f (unstored) value: False>,\n",
      " 'metadata': {},\n",
      " 'pw': {'code': <InstalledCode: Remote code 'pw-7.2' on localhost pk: 158, uuid: cd7f5a2a-3d4e-4335-b6a4-d114dba06ab9>,\n",
      "        'metadata': {'options': {'max_wallclock_seconds': 43200,\n",
      "                                 'resources': {'num_machines': 1},\n",
      "                                 'stash': {},\n",
      "                                 'withmpi': True}},\n",
      "        'monitors': {},\n",
      "        'parameters': <Dict: uuid: bc13abf6-fc1f-4d69-a809-5975e712dc8a (unstored)>,\n",
      "        'pseudos': {'Si': <UpfData: uuid: 86dda7cc-d764-4291-a827-5cd9d2b7a07d (pk: 59)>}}}\n",
      "\n",
      "The input parameters for pw are:\n",
      "--------------------------------------------------------------------------------\n",
      "{'CELL': {'cell_dofree': 'all', 'press_conv_thr': 0.5},\n",
      " 'CONTROL': {'calculation': 'vc-relax',\n",
      "             'etot_conv_thr': 0.0002,\n",
      "             'forc_conv_thr': 0.001,\n",
      "             'tprnfor': True,\n",
      "             'tstress': True},\n",
      " 'ELECTRONS': {'conv_thr': 8e-10, 'electron_maxstep': 80, 'mixing_beta': 0.4},\n",
      " 'SYSTEM': {'degauss': 0.01,\n",
      "            'ecutrho': 240.0,\n",
      "            'ecutwfc': 30.0,\n",
      "            'nosym': False,\n",
      "            'occupations': 'smearing',\n",
      "            'smearing': 'cold'}}\n"
     ]
    }
   ],
   "source": [
    "from aiida_workgraph import WorkGraph\n",
    "from aiida_quantumespresso.workflows.pw.relax import PwRelaxWorkChain\n",
    "from aiida import orm\n",
    "from ase.build import bulk\n",
    "from pprint import pprint\n",
    "\n",
    "code = orm.load_code(\"pw-7.2@localhost\")\n",
    "wg = WorkGraph(\"test_pw_relax\")\n",
    "structure_si = orm.StructureData(ase=bulk(\"Si\"))\n",
    "pw_relax1 = wg.tasks.new(PwRelaxWorkChain, name=\"pw_relax1\")\n",
    "# set the inputs from the protocol\n",
    "# this will call the `PwRelaxWorkChain.get_builder_from_protocol` method\n",
    "# to set the inputs of the workchain\n",
    "pw_relax1.set_from_protocol(\n",
    "    code,\n",
    "    structure_si,\n",
    "    protocol=\"fast\",\n",
    "    pseudo_family=\"SSSP/1.2/PBEsol/efficiency\"\n",
    ")\n",
    "# we can now inspect the inputs of the workchain\n",
    "print(\"The inputs for the PwBaseWorkchain are:\")\n",
    "print(\"-\"*80)\n",
    "pprint(pw_relax1.inputs[\"base\"].value)\n",
    "print(\"\\nThe input parameters for pw are:\")\n",
    "print(\"-\"*80)\n",
    "pprint(pw_relax1.inputs[\"base\"].value['pw']['parameters'].get_dict())\n",
    "\n"
   ]
  },
  {
   "cell_type": "markdown",
   "id": "d25beb02-ee82-4a27-ae48-edc5c147904c",
   "metadata": {},
   "source": [
    "Then, we submit the workgraph"
   ]
  },
  {
   "cell_type": "code",
   "execution_count": 7,
   "id": "9ebf35aa",
   "metadata": {},
   "outputs": [
    {
     "name": "stdout",
     "output_type": "stream",
     "text": [
      "\u001b[93m\u001b[1mWarning\u001b[0m: \u001b[22mRabbitMQ v3.9.13 is not supported and will cause unexpected problems!\u001b[0m\n",
      "\u001b[93m\u001b[1mWarning\u001b[0m: \u001b[22mIt can cause long-running workflows to crash and jobs to be submitted multiple times.\u001b[0m\n",
      "\u001b[93m\u001b[1mWarning\u001b[0m: \u001b[22mSee https://github.com/aiidateam/aiida-core/wiki/RabbitMQ-version-to-use for details.\u001b[0m\n"
     ]
    },
    {
     "name": "stdout",
     "output_type": "stream",
     "text": [
      "Manager for incoming INPUT_WORK links for node pk=15022\n"
     ]
    }
   ],
   "source": [
    "wg.submit(wait=True, timeout=200)\n"
   ]
  },
  {
   "cell_type": "markdown",
   "id": "125ac629",
   "metadata": {},
   "source": [
    "### Adjust the input parameters from the `protocol`\n",
    "Sometimes, we want to adjust the input parameters from the `protocol`. For example, we want to remove the `base_final_scf` from the inputs, so that the `PwRelaxWorkChain` will not run the `base_final_scf` step."
   ]
  },
  {
   "cell_type": "code",
   "execution_count": null,
   "id": "49dd5ee8",
   "metadata": {},
   "outputs": [],
   "source": [
    "# skip the `base_final_scf` step\n",
    "pw_relax1.inputs[\"base_final_scf\"].value = None\n"
   ]
  }
 ],
 "metadata": {
  "kernelspec": {
   "display_name": "Python 3.10.4 ('scinode')",
   "language": "python",
   "name": "python3"
  },
  "language_info": {
   "codemirror_mode": {
    "name": "ipython",
    "version": 3
   },
   "file_extension": ".py",
   "mimetype": "text/x-python",
   "name": "python",
   "nbconvert_exporter": "python",
   "pygments_lexer": "ipython3",
   "version": "3.11.0"
  },
  "vscode": {
   "interpreter": {
    "hash": "2f450c1ff08798c4974437dd057310afef0de414c25d1fd960ad375311c3f6ff"
   }
  }
 },
 "nbformat": 4,
 "nbformat_minor": 5
}
