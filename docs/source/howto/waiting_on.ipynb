{
 "cells": [
  {
   "cell_type": "markdown",
   "id": "22d177dc-6cfb-4de2-9509-f1eb45e10cf2",
   "metadata": {},
   "source": [
    "# Wait for another task"
   ]
  },
  {
   "cell_type": "markdown",
   "id": "58696c91",
   "metadata": {},
   "source": [
    "## Introduction\n",
    "In WorkGraph, tasks are generally launched when their input tasks are completed. However, there may be scenarios where you need to delay the execution of a task until another unrelated task is complete. This can occur, for example, when the task's input depends on data dynamically populated in the `context`, and you must ensure this data is ready before proceeding.\n",
    "\n",
    "This tutorial will guide you through using the `task.waiting_on` attribute in Task to manage such dependencies effectively.\n",
    "\n",
    "**Note**: for cross-WorkGraph dependencies, i.e. you want to wait for a task from another WorkGraph, you can use the `monitor` task, please refer to the [Monitor Task](../built-in/monitor.ipynb) tutorial.\n",
    "\n",
    "\n",
    "#### Adding Tasks to Waiting List\n",
    "To ensure `task3` does not start before `task1` and `task2` are completed, you can add these tasks to its `waiting_on` list.\n",
    "\n",
    "Here's how to add tasks to the `waiting_on` list:\n",
    "\n",
    "```python\n",
    "# You can use the name of the task, or the task object itself\n",
    "# assuming task1 and task2 are already defined\n",
    "task3.waiting_on.add([\"task1\", task2])\n",
    "```\n",
    "\n",
    "#### Removing Tasks from Waiting List\n",
    "You can remove them from the `waiting_on` list as follows:\n",
    "\n",
    "```python\n",
    "task3.waiting_on.remove([\"task1\", \"task2\"])\n",
    "```\n",
    "\n",
    "#### Clearing the Waiting List\n",
    "If you need to remove all waiting dependencies from `task3`, you can clear the entire `waiting_on` list:\n",
    "\n",
    "```python\n",
    "task3.waiting_on.clear()\n",
    "```\n",
    "\n",
    "## Example\n",
    "Here we create two `add` tasks and one `sum` task. The `sum` task will wait for the two `add` tasks to finish."
   ]
  },
  {
   "cell_type": "code",
   "execution_count": 1,
   "id": "11e3bca1-dda6-44e9-9585-54feeda7e7db",
   "metadata": {},
   "outputs": [],
   "source": [
    "from aiida_workgraph import task\n",
    "from aiida.orm import Float\n",
    "from aiida import load_profile\n",
    "load_profile()\n",
    "\n",
    "# define add task\n",
    "@task.calcfunction()\n",
    "def add(x, y):\n",
    "    return x + y\n",
    "\n",
    "# define sum task\n",
    "@task.calcfunction()\n",
    "def sum(**datas):\n",
    "    total = 0\n",
    "    for data in datas.values():\n",
    "        total += data.value\n",
    "    return Float(total)\n"
   ]
  },
  {
   "cell_type": "code",
   "execution_count": 2,
   "id": "8ee799d2-0b5b-4609-957f-6b3f2cd451f0",
   "metadata": {},
   "outputs": [
    {
     "name": "stdout",
     "output_type": "stream",
     "text": [
      "WorkGraph process created, PK: 107107\n"
     ]
    },
    {
     "data": {
      "text/plain": [
       "<WorkChainNode: uuid: 0818adef-71c3-4e8c-858c-339ea8b6f4a2 (pk: 107107) (aiida.workflows:workgraph.engine)>"
      ]
     },
     "execution_count": 2,
     "metadata": {},
     "output_type": "execute_result"
    }
   ],
   "source": [
    "from aiida_workgraph import WorkGraph\n",
    "\n",
    "wg = WorkGraph(\"test_wait\")\n",
    "add1 = wg.add_task(add, name=\"add1\", x=1, y=1)\n",
    "add1.set_context({\"data.add1\": \"result\"})\n",
    "add2 = wg.add_task(add, name=\"add2\", x=2, y=2)\n",
    "add2.set_context({\"data.add2\": \"result\"})\n",
    "# let sum task wait for add1 and add2, and the `data` in the context is ready\n",
    "sum3 = wg.add_task(sum, name=\"sum1\", datas=\"{{data}}\")\n",
    "sum3.waiting_on.add([\"add1\", \"add2\"])\n",
    "wg.submit(wait=True)"
   ]
  },
  {
   "cell_type": "markdown",
   "id": "d25beb02-ee82-4a27-ae48-edc5c147904c",
   "metadata": {},
   "source": [
    "### Check status and results\n"
   ]
  },
  {
   "cell_type": "code",
   "execution_count": 3,
   "id": "9ebf35aa",
   "metadata": {},
   "outputs": [
    {
     "name": "stdout",
     "output_type": "stream",
     "text": [
      "State of WorkGraph         : FINISHED\n",
      "Result of sum1: 6.0\n"
     ]
    }
   ],
   "source": [
    "print(\"State of WorkGraph         : {}\".format(wg.state))\n",
    "print('Result of sum1: {}'.format(wg.tasks[\"sum1\"].node.outputs.result.value))"
   ]
  },
  {
   "cell_type": "markdown",
   "id": "125ac629",
   "metadata": {},
   "source": [
    "Generate node graph from the AiiDA process:"
   ]
  },
  {
   "cell_type": "code",
   "execution_count": 5,
   "id": "0060e380",
   "metadata": {},
   "outputs": [
    {
     "data": {
      "image/svg+xml": [
       "<?xml version=\"1.0\" encoding=\"UTF-8\" standalone=\"no\"?>\n",
       "<!DOCTYPE svg PUBLIC \"-//W3C//DTD SVG 1.1//EN\"\n",
       " \"http://www.w3.org/Graphics/SVG/1.1/DTD/svg11.dtd\">\n",
       "<!-- Generated by graphviz version 9.0.0 (20231125.0833)\n",
       " -->\n",
       "<!-- Pages: 1 -->\n",
       "<svg width=\"422pt\" height=\"589pt\"\n",
       " viewBox=\"0.00 0.00 421.50 589.46\" xmlns=\"http://www.w3.org/2000/svg\" xmlns:xlink=\"http://www.w3.org/1999/xlink\">\n",
       "<g id=\"graph0\" class=\"graph\" transform=\"scale(1 1) rotate(0) translate(4 585.46)\">\n",
       "<polygon fill=\"white\" stroke=\"none\" points=\"-4,4 -4,-585.46 417.5,-585.46 417.5,4 -4,4\"/>\n",
       "<!-- N842 -->\n",
       "<g id=\"node1\" class=\"node\">\n",
       "<title>N842</title>\n",
       "<polygon fill=\"#e38851\" stroke=\"red\" stroke-width=\"6\" points=\"292.38,-581.46 91.12,-581.46 91.12,-521.71 292.38,-521.71 292.38,-581.46\"/>\n",
       "<text text-anchor=\"middle\" x=\"191.75\" y=\"-564.16\" font-family=\"Times,serif\" font-size=\"14.00\">WorkGraph: test_wait (842)</text>\n",
       "<text text-anchor=\"middle\" x=\"191.75\" y=\"-546.91\" font-family=\"Times,serif\" font-size=\"14.00\">State: finished</text>\n",
       "<text text-anchor=\"middle\" x=\"191.75\" y=\"-529.66\" font-family=\"Times,serif\" font-size=\"14.00\">Exit Code: 0</text>\n",
       "</g>\n",
       "<!-- N845 -->\n",
       "<g id=\"node2\" class=\"node\">\n",
       "<title>N845</title>\n",
       "<polygon fill=\"#de707f\" fill-opacity=\"0.466667\" stroke=\"black\" stroke-width=\"0\" points=\"119.5,-451.21 0,-451.21 0,-391.46 119.5,-391.46 119.5,-451.21\"/>\n",
       "<text text-anchor=\"middle\" x=\"59.75\" y=\"-433.91\" font-family=\"Times,serif\" font-size=\"14.00\">add (845)</text>\n",
       "<text text-anchor=\"middle\" x=\"59.75\" y=\"-416.66\" font-family=\"Times,serif\" font-size=\"14.00\">State: finished</text>\n",
       "<text text-anchor=\"middle\" x=\"59.75\" y=\"-399.41\" font-family=\"Times,serif\" font-size=\"14.00\">Exit Code: 0</text>\n",
       "</g>\n",
       "<!-- N842&#45;&gt;N845 -->\n",
       "<g id=\"edge6\" class=\"edge\">\n",
       "<title>N842&#45;&gt;N845</title>\n",
       "<path fill=\"none\" stroke=\"#000000\" stroke-dasharray=\"1,5\" d=\"M121.58,-518.83C114.89,-514.28 108.55,-509.25 103,-503.71 91.06,-491.8 81.62,-475.9 74.64,-461.32\"/>\n",
       "<polygon fill=\"#000000\" stroke=\"#000000\" points=\"77.92,-460.07 70.62,-452.38 71.54,-462.94 77.92,-460.07\"/>\n",
       "<text text-anchor=\"middle\" x=\"146.12\" y=\"-490.41\" font-family=\"Times,serif\" font-size=\"14.00\">CALL_CALC</text>\n",
       "<text text-anchor=\"middle\" x=\"146.12\" y=\"-473.16\" font-family=\"Times,serif\" font-size=\"14.00\">add1</text>\n",
       "</g>\n",
       "<!-- N849 -->\n",
       "<g id=\"node4\" class=\"node\">\n",
       "<title>N849</title>\n",
       "<polygon fill=\"#de707f\" fill-opacity=\"0.466667\" stroke=\"black\" stroke-width=\"0\" points=\"257.5,-451.21 138,-451.21 138,-391.46 257.5,-391.46 257.5,-451.21\"/>\n",
       "<text text-anchor=\"middle\" x=\"197.75\" y=\"-433.91\" font-family=\"Times,serif\" font-size=\"14.00\">add (849)</text>\n",
       "<text text-anchor=\"middle\" x=\"197.75\" y=\"-416.66\" font-family=\"Times,serif\" font-size=\"14.00\">State: finished</text>\n",
       "<text text-anchor=\"middle\" x=\"197.75\" y=\"-399.41\" font-family=\"Times,serif\" font-size=\"14.00\">Exit Code: 0</text>\n",
       "</g>\n",
       "<!-- N842&#45;&gt;N849 -->\n",
       "<g id=\"edge3\" class=\"edge\">\n",
       "<title>N842&#45;&gt;N849</title>\n",
       "<path fill=\"none\" stroke=\"#000000\" stroke-dasharray=\"1,5\" d=\"M191.61,-518.87C191.7,-503.81 192.05,-485.57 193,-469.21 193.13,-467 193.28,-464.74 193.46,-462.46\"/>\n",
       "<polygon fill=\"#000000\" stroke=\"#000000\" points=\"196.94,-462.83 194.32,-452.57 189.96,-462.23 196.94,-462.83\"/>\n",
       "<text text-anchor=\"middle\" x=\"235.12\" y=\"-490.41\" font-family=\"Times,serif\" font-size=\"14.00\">CALL_CALC</text>\n",
       "<text text-anchor=\"middle\" x=\"235.12\" y=\"-473.16\" font-family=\"Times,serif\" font-size=\"14.00\">add2</text>\n",
       "</g>\n",
       "<!-- N851 -->\n",
       "<g id=\"node6\" class=\"node\">\n",
       "<title>N851</title>\n",
       "<polygon fill=\"#de707f\" fill-opacity=\"0.466667\" stroke=\"black\" stroke-width=\"0\" points=\"242.5,-190.35 123,-190.35 123,-130.6 242.5,-130.6 242.5,-190.35\"/>\n",
       "<text text-anchor=\"middle\" x=\"182.75\" y=\"-173.05\" font-family=\"Times,serif\" font-size=\"14.00\">sum (851)</text>\n",
       "<text text-anchor=\"middle\" x=\"182.75\" y=\"-155.8\" font-family=\"Times,serif\" font-size=\"14.00\">State: finished</text>\n",
       "<text text-anchor=\"middle\" x=\"182.75\" y=\"-138.55\" font-family=\"Times,serif\" font-size=\"14.00\">Exit Code: 0</text>\n",
       "</g>\n",
       "<!-- N842&#45;&gt;N851 -->\n",
       "<g id=\"edge7\" class=\"edge\">\n",
       "<title>N842&#45;&gt;N851</title>\n",
       "<path fill=\"none\" stroke=\"#000000\" stroke-dasharray=\"1,5\" d=\"M265.07,-518.93C270.01,-514.46 274.36,-509.41 277.75,-503.71 344.78,-390.84 347.06,-319.84 277.75,-208.35 271.5,-198.29 262.37,-190.33 252.22,-184.04\"/>\n",
       "<polygon fill=\"#000000\" stroke=\"#000000\" points=\"254.01,-181.03 243.56,-179.24 250.62,-187.15 254.01,-181.03\"/>\n",
       "<text text-anchor=\"middle\" x=\"371.12\" y=\"-360.16\" font-family=\"Times,serif\" font-size=\"14.00\">CALL_CALC</text>\n",
       "<text text-anchor=\"middle\" x=\"371.12\" y=\"-342.91\" font-family=\"Times,serif\" font-size=\"14.00\">sum1</text>\n",
       "</g>\n",
       "<!-- N846 -->\n",
       "<g id=\"node3\" class=\"node\">\n",
       "<title>N846</title>\n",
       "<ellipse fill=\"#8cd499\" stroke=\"black\" stroke-width=\"0\" cx=\"59.75\" cy=\"-290.91\" rx=\"55.33\" ry=\"30.05\"/>\n",
       "<text text-anchor=\"middle\" x=\"59.75\" y=\"-294.86\" font-family=\"Times,serif\" font-size=\"14.00\">Int (846)</text>\n",
       "<text text-anchor=\"middle\" x=\"59.75\" y=\"-277.61\" font-family=\"Times,serif\" font-size=\"14.00\">value: 2</text>\n",
       "</g>\n",
       "<!-- N845&#45;&gt;N846 -->\n",
       "<g id=\"edge2\" class=\"edge\">\n",
       "<title>N845&#45;&gt;N846</title>\n",
       "<path fill=\"none\" stroke=\"#000000\" d=\"M59.75,-391.51C59.75,-374 59.75,-351.37 59.75,-332.11\"/>\n",
       "<polygon fill=\"#000000\" stroke=\"#000000\" points=\"63.25,-332.14 59.75,-322.14 56.25,-332.15 63.25,-332.14\"/>\n",
       "<text text-anchor=\"middle\" x=\"89.75\" y=\"-360.16\" font-family=\"Times,serif\" font-size=\"14.00\">CREATE</text>\n",
       "<text text-anchor=\"middle\" x=\"89.75\" y=\"-342.91\" font-family=\"Times,serif\" font-size=\"14.00\">result</text>\n",
       "</g>\n",
       "<!-- N846&#45;&gt;N851 -->\n",
       "<g id=\"edge5\" class=\"edge\">\n",
       "<title>N846&#45;&gt;N851</title>\n",
       "<path fill=\"none\" stroke=\"#000000\" d=\"M62.44,-261.07C65.36,-244.06 71.41,-223.05 84,-208.35 91.99,-199.03 102.24,-191.42 113.11,-185.27\"/>\n",
       "<polygon fill=\"#000000\" stroke=\"#000000\" points=\"114.62,-188.43 121.88,-180.71 111.39,-182.22 114.62,-188.43\"/>\n",
       "<text text-anchor=\"middle\" x=\"131.62\" y=\"-229.55\" font-family=\"Times,serif\" font-size=\"14.00\">INPUT_CALC</text>\n",
       "<text text-anchor=\"middle\" x=\"131.62\" y=\"-212.3\" font-family=\"Times,serif\" font-size=\"14.00\">add1</text>\n",
       "</g>\n",
       "<!-- N850 -->\n",
       "<g id=\"node5\" class=\"node\">\n",
       "<title>N850</title>\n",
       "<ellipse fill=\"#8cd499\" stroke=\"black\" stroke-width=\"0\" cx=\"192.75\" cy=\"-290.91\" rx=\"55.33\" ry=\"30.05\"/>\n",
       "<text text-anchor=\"middle\" x=\"192.75\" y=\"-294.86\" font-family=\"Times,serif\" font-size=\"14.00\">Int (850)</text>\n",
       "<text text-anchor=\"middle\" x=\"192.75\" y=\"-277.61\" font-family=\"Times,serif\" font-size=\"14.00\">value: 4</text>\n",
       "</g>\n",
       "<!-- N849&#45;&gt;N850 -->\n",
       "<g id=\"edge4\" class=\"edge\">\n",
       "<title>N849&#45;&gt;N850</title>\n",
       "<path fill=\"none\" stroke=\"#000000\" d=\"M196.63,-391.51C195.95,-374 195.07,-351.37 194.32,-332.11\"/>\n",
       "<polygon fill=\"#000000\" stroke=\"#000000\" points=\"197.81,-332 193.93,-322.14 190.82,-332.27 197.81,-332\"/>\n",
       "<text text-anchor=\"middle\" x=\"225.75\" y=\"-360.16\" font-family=\"Times,serif\" font-size=\"14.00\">CREATE</text>\n",
       "<text text-anchor=\"middle\" x=\"225.75\" y=\"-342.91\" font-family=\"Times,serif\" font-size=\"14.00\">result</text>\n",
       "</g>\n",
       "<!-- N850&#45;&gt;N851 -->\n",
       "<g id=\"edge1\" class=\"edge\">\n",
       "<title>N850&#45;&gt;N851</title>\n",
       "<path fill=\"none\" stroke=\"#000000\" d=\"M186.61,-261.15C185.55,-255.13 184.59,-248.81 184,-242.85 182.65,-229.37 182.14,-214.57 182.02,-201.33\"/>\n",
       "<polygon fill=\"#000000\" stroke=\"#000000\" points=\"185.52,-201.68 182.02,-191.68 178.52,-201.68 185.52,-201.68\"/>\n",
       "<text text-anchor=\"middle\" x=\"230.62\" y=\"-229.55\" font-family=\"Times,serif\" font-size=\"14.00\">INPUT_CALC</text>\n",
       "<text text-anchor=\"middle\" x=\"230.62\" y=\"-212.3\" font-family=\"Times,serif\" font-size=\"14.00\">add2</text>\n",
       "</g>\n",
       "<!-- N852 -->\n",
       "<g id=\"node7\" class=\"node\">\n",
       "<title>N852</title>\n",
       "<ellipse fill=\"#8cd499\" stroke=\"black\" stroke-width=\"0\" cx=\"182.75\" cy=\"-30.05\" rx=\"67\" ry=\"30.05\"/>\n",
       "<text text-anchor=\"middle\" x=\"182.75\" y=\"-34\" font-family=\"Times,serif\" font-size=\"14.00\">Float (852)</text>\n",
       "<text text-anchor=\"middle\" x=\"182.75\" y=\"-16.75\" font-family=\"Times,serif\" font-size=\"14.00\">value: 6.0</text>\n",
       "</g>\n",
       "<!-- N851&#45;&gt;N852 -->\n",
       "<g id=\"edge8\" class=\"edge\">\n",
       "<title>N851&#45;&gt;N852</title>\n",
       "<path fill=\"none\" stroke=\"#000000\" d=\"M182.75,-130.66C182.75,-113.14 182.75,-90.52 182.75,-71.26\"/>\n",
       "<polygon fill=\"#000000\" stroke=\"#000000\" points=\"186.25,-71.29 182.75,-61.29 179.25,-71.29 186.25,-71.29\"/>\n",
       "<text text-anchor=\"middle\" x=\"212.75\" y=\"-99.3\" font-family=\"Times,serif\" font-size=\"14.00\">CREATE</text>\n",
       "<text text-anchor=\"middle\" x=\"212.75\" y=\"-82.05\" font-family=\"Times,serif\" font-size=\"14.00\">result</text>\n",
       "</g>\n",
       "</g>\n",
       "</svg>\n"
      ],
      "text/plain": [
       "<graphviz.graphs.Digraph at 0x7f7b2af62d90>"
      ]
     },
     "execution_count": 5,
     "metadata": {},
     "output_type": "execute_result"
    }
   ],
   "source": [
    "from aiida_workgraph.utils import generate_node_graph\n",
    "generate_node_graph(wg.pk)"
   ]
  }
 ],
 "metadata": {
  "kernelspec": {
   "display_name": "Python 3.10.4 ('scinode')",
   "language": "python",
   "name": "python3"
  },
  "language_info": {
   "codemirror_mode": {
    "name": "ipython",
    "version": 3
   },
   "file_extension": ".py",
   "mimetype": "text/x-python",
   "name": "python",
   "nbconvert_exporter": "python",
   "pygments_lexer": "ipython3",
   "version": "3.11.0"
  },
  "vscode": {
   "interpreter": {
    "hash": "2f450c1ff08798c4974437dd057310afef0de414c25d1fd960ad375311c3f6ff"
   }
  }
 },
 "nbformat": 4,
 "nbformat_minor": 5
}
