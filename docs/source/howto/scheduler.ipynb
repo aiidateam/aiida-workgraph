{
 "cells": [
  {
   "cell_type": "markdown",
   "id": "22d177dc-6cfb-4de2-9509-f1eb45e10cf2",
   "metadata": {},
   "source": [
    "# Scheduler"
   ]
  },
  {
   "cell_type": "markdown",
   "id": "58696c91",
   "metadata": {},
   "source": [
    "There are many situations where you may want to control the number of calcjobs that are running at the same time. For example:\n",
    "- On the HPC cluster, user may has a limit on the maximum number of submissions that can be running at the same time.\n",
    "- On the local workstation, user may want to limit the number of calcjobs that are running at the same time to avoid overloading the system.\n",
    "\n",
    "## Managing the Scheduler\n",
    "\n",
    "Start a scheduler with name `test-scheduler`:\n",
    "```\n",
    "workgraph scheduler start test-scheduler\n",
    "```\n",
    "\n",
    "Stop the scheduler:\n",
    "```\n",
    "workgraph scheduler stop test-scheduler\n",
    "```\n",
    "\n",
    "Show the status of the scheduler:\n",
    "```\n",
    "workgraph scheduler status test-scheduler\n",
    "```\n",
    "\n",
    "Show details of the processes submitted to the scheduler:\n",
    "```\n",
    "workgraph scheduler show test-scheduler\n",
    "```\n",
    "\n",
    "Set the maximum number of calcjobs that can be running at the same time:\n",
    "```\n",
    "workgraph scheduler set-max-jobs test-scheduler 5\n",
    "```\n",
    "\n",
    "Let's start a scheduler "
   ]
  },
  {
   "cell_type": "code",
   "execution_count": 11,
   "id": "2f30294e",
   "metadata": {},
   "outputs": [
    {
     "name": "stdout",
     "output_type": "stream",
     "text": [
      "Starting the scheduler ...\n"
     ]
    }
   ],
   "source": [
    "!workgraph scheduler start test-scheduler --max-calcjobs 2 --max-processes 10"
   ]
  },
  {
   "cell_type": "markdown",
   "id": "85c4c12e",
   "metadata": {},
   "source": [
    "Check the status of the scheduler:"
   ]
  },
  {
   "cell_type": "code",
   "execution_count": 12,
   "id": "161f3696",
   "metadata": {},
   "outputs": [
    {
     "name": "stdout",
     "output_type": "stream",
     "text": [
      "Name                status      pk   waiting  running   calcjob  max_calcjobs max_processes\n",
      "\u001b[1mtest-scheduler      \u001b[0m\u001b[32m\u001b[22mRunning\u001b[0m\u001b[22m  72507     \u001b[0m\u001b[22m  0       \u001b[0m\u001b[22m  0       \u001b[0m\u001b[22m  0       \u001b[0m\u001b[22m  2       \u001b[0m\u001b[22m  10      \u001b[0m\n"
     ]
    }
   ],
   "source": [
    "!workgraph scheduler status test-scheduler"
   ]
  },
  {
   "cell_type": "markdown",
   "id": "ae3f359e",
   "metadata": {},
   "source": [
    "\n",
    "## Example Usage\n",
    "\n",
    "Let's walk through an example where we creates four WorkGraphs with five calcjobs each.\n"
   ]
  },
  {
   "cell_type": "code",
   "execution_count": 13,
   "id": "03912de1",
   "metadata": {},
   "outputs": [
    {
     "name": "stdout",
     "output_type": "stream",
     "text": [
      "WorkGraph process created, PK: 72508\n",
      "WorkGraph process created, PK: 72509\n",
      "WorkGraph process created, PK: 72510\n",
      "WorkGraph process created, PK: 72520\n"
     ]
    }
   ],
   "source": [
    "from aiida_workgraph import WorkGraph\n",
    "from aiida import load_profile, orm\n",
    "from aiida.calculations.arithmetic.add import ArithmeticAddCalculation\n",
    "\n",
    "load_profile()\n",
    "\n",
    "# Use the calcjob: ArithmeticAddCalculation\n",
    "code = orm.load_code(\"add@localhost\")\n",
    "\n",
    "for i in range(4):\n",
    "    wg = WorkGraph(\"test_max_number_jobs\")\n",
    "    # Create N tasks\n",
    "    for i in range(5):\n",
    "        temp = wg.add_task(ArithmeticAddCalculation, name=f\"add{i}\", x=1, y=1, code=code)\n",
    "        # Set a sleep option for each job (e.g., 10 seconds per job)\n",
    "        temp.set({\"metadata.options.sleep\": 10})\n",
    "    # submit the workgraph to a scheduler called \"test-scheduler\"\n",
    "    wg.submit(scheduler=\"test-scheduler\")"
   ]
  },
  {
   "cell_type": "markdown",
   "id": "208e13f9",
   "metadata": {},
   "source": [
    "Note, all the WorkGraphs are submitted to a scheduler named `test-scheduler`. Now, you can check the progress of the Scheduler using the following command:\n",
    "\n"
   ]
  },
  {
   "cell_type": "code",
   "execution_count": 15,
   "id": "1f86cb2a",
   "metadata": {},
   "outputs": [
    {
     "name": "stdout",
     "output_type": "stream",
     "text": [
      "\u001b[34m\u001b[1mReport\u001b[0m: \u001b[22mScheduler: test-scheduler\u001b[0m\n",
      "\u001b[22m   PK  Created    Process label                    Process State      Priorities\n",
      "-----  ---------  -------------------------------  ---------------  ------------\n",
      "72508  14s ago    WorkGraph<test_max_number_jobs>  ⏵ Waiting\n",
      "72509  13s ago    WorkGraph<test_max_number_jobs>  ⏵ Waiting\n",
      "72510  11s ago    WorkGraph<test_max_number_jobs>  ⏹ Created                  -2\n",
      "72513  11s ago    ArithmeticAddCalculation         ⏵ Waiting\n",
      "72516  10s ago    ArithmeticAddCalculation         ⏵ Waiting\n",
      "72519  10s ago    ArithmeticAddCalculation         ⏹ Created                   0\n",
      "72520  10s ago    WorkGraph<test_max_number_jobs>  ⏹ Created                   0\n",
      "72523  10s ago    ArithmeticAddCalculation         ⏹ Created                  -3\n",
      "72526  9s ago     ArithmeticAddCalculation         ⏹ Created                   0\n",
      "72529  6s ago     ArithmeticAddCalculation         ⏹ Created                  -1\n",
      "72532  6s ago     ArithmeticAddCalculation         ⏹ Created                  -1\n",
      "72535  6s ago     ArithmeticAddCalculation         ⏹ Created                  -1\n",
      "72538  5s ago     ArithmeticAddCalculation         ⏹ Created                  -1\n",
      "72541  5s ago     ArithmeticAddCalculation         ⏹ Created                  -1\u001b[0m\n",
      "\u001b[22m\n",
      "Total results: 14\n",
      "\u001b[0m\n",
      "\u001b[22mname: test-scheduler\u001b[0m\n",
      "\u001b[22mpk: 72507\u001b[0m\n",
      "\u001b[22mrunning_process: 4\u001b[0m\n",
      "\u001b[22mwaiting_process: 10\u001b[0m\n",
      "\u001b[22mrunning_calcjob: 2\u001b[0m\n",
      "\u001b[22mmax_calcjobs: 2\u001b[0m\n",
      "\u001b[22mmax_processes: 10\u001b[0m\n"
     ]
    }
   ],
   "source": [
    "! workgraph scheduler show test-scheduler"
   ]
  },
  {
   "cell_type": "markdown",
   "id": "23644a50",
   "metadata": {},
   "source": [
    "\n",
    "This command will display information about the currently running calcjobs, including the fact that there are a maximum of 2 calcjobs running simultaneously.\n",
    "\n",
    "Additionally, you can monitor the progress visually by visiting `http://127.0.0.1:8000/workgraph`. Here, you can observe the duration of each task's execution over time.\n",
    "\n",
    "Last but not least, one can stop and restart the scheduler at any time using the same name, all the information will be preserved."
   ]
  }
 ],
 "metadata": {
  "kernelspec": {
   "display_name": "aiida",
   "language": "python",
   "name": "python3"
  },
  "language_info": {
   "codemirror_mode": {
    "name": "ipython",
    "version": 3
   },
   "file_extension": ".py",
   "mimetype": "text/x-python",
   "name": "python",
   "nbconvert_exporter": "python",
   "pygments_lexer": "ipython3",
   "version": "3.11.0"
  }
 },
 "nbformat": 4,
 "nbformat_minor": 5
}
