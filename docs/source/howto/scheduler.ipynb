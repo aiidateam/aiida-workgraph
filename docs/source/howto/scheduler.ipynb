{
 "cells": [
  {
   "cell_type": "markdown",
   "id": "22d177dc-6cfb-4de2-9509-f1eb45e10cf2",
   "metadata": {},
   "source": [
    "# Scheduler"
   ]
  },
  {
   "cell_type": "markdown",
   "id": "58696c91",
   "metadata": {},
   "source": [
    "There are many situations where you may want to control the number of calcjobs that are running at the same time. For example:\n",
    "- On the HPC cluster, user may has a limit on the maximum number of submissions that can be running at the same time.\n",
    "- On the local workstation, user may want to limit the number of calcjobs that are running at the same time to avoid overloading the system.\n",
    "\n",
    "## Managing the Scheduler\n",
    "\n",
    "Start a scheduler with name `test`:\n",
    "```\n",
    "workgraph scheduler start test\n",
    "```\n",
    "\n",
    "Stop the scheduler:\n",
    "```\n",
    "workgraph scheduler stop test\n",
    "```\n",
    "\n",
    "Show the status of the scheduler:\n",
    "```\n",
    "workgraph scheduler status test\n",
    "```\n",
    "\n",
    "Show details of the processes submitted to the scheduler:\n",
    "```\n",
    "workgraph scheduler show test\n",
    "```\n",
    "\n",
    "Set the maximum number of calcjobs that can be running at the same time:\n",
    "```\n",
    "workgraph scheduler set-max-jobs test 5\n",
    "```\n",
    "\n",
    "Let's start a scheduler "
   ]
  },
  {
   "cell_type": "code",
   "execution_count": 1,
   "id": "2f30294e",
   "metadata": {},
   "outputs": [
    {
     "name": "stdout",
     "output_type": "stream",
     "text": [
      "Starting the scheduler ...\n"
     ]
    }
   ],
   "source": [
    "!workgraph scheduler start test --max-calcjobs 2 --max-processes 10"
   ]
  },
  {
   "cell_type": "markdown",
   "id": "85c4c12e",
   "metadata": {},
   "source": [
    "Check the status of the scheduler:"
   ]
  },
  {
   "cell_type": "code",
   "execution_count": 2,
   "id": "161f3696",
   "metadata": {},
   "outputs": [
    {
     "name": "stdout",
     "output_type": "stream",
     "text": [
      "Name                status      pk   waiting  running   calcjob  max_calcjobs max_processes\n",
      "\u001b[1mtest                \u001b[0m\u001b[32m\u001b[22mRunning\u001b[0m\u001b[22m  84410     \u001b[0m\u001b[22m  0       \u001b[0m\u001b[22m  0       \u001b[0m\u001b[22m  0       \u001b[0m\u001b[22m  2       \u001b[0m\u001b[22m  10      \u001b[0m\n"
     ]
    }
   ],
   "source": [
    "!workgraph scheduler status test"
   ]
  },
  {
   "cell_type": "markdown",
   "id": "ae3f359e",
   "metadata": {},
   "source": [
    "\n",
    "## Example Usage\n",
    "\n",
    "Let's walk through an example where we creates four WorkGraphs with five calcjobs each.\n"
   ]
  },
  {
   "cell_type": "code",
   "execution_count": 3,
   "id": "03912de1",
   "metadata": {},
   "outputs": [
    {
     "name": "stdout",
     "output_type": "stream",
     "text": [
      "WorkGraph process created, PK: 84411\n",
      "WorkGraph process created, PK: 84412\n",
      "WorkGraph process created, PK: 84413\n"
     ]
    },
    {
     "name": "stderr",
     "output_type": "stream",
     "text": [
      "04/14/2025 03:07:06 PM <1720302> aiida.engine.utils: [WARNING] Failed to write global variable `process|state_change|work` to `2025-04-14T15:07:06.472336+02:00` because the database was locked. If the storage plugin being used is `core.sqlite_dos` this is to be expected and can be safely ignored.\n"
     ]
    },
    {
     "name": "stdout",
     "output_type": "stream",
     "text": [
      "WorkGraph process created, PK: 84422\n"
     ]
    }
   ],
   "source": [
    "from aiida_workgraph import WorkGraph\n",
    "from aiida import load_profile, orm\n",
    "from aiida.calculations.arithmetic.add import ArithmeticAddCalculation\n",
    "\n",
    "load_profile()\n",
    "\n",
    "# Use the calcjob: ArithmeticAddCalculation\n",
    "code = orm.load_code(\"add@localhost\")\n",
    "\n",
    "for i in range(4):\n",
    "    wg = WorkGraph(\"test_max_number_jobs\")\n",
    "    # Create N tasks\n",
    "    for i in range(5):\n",
    "        temp = wg.add_task(ArithmeticAddCalculation, name=f\"add{i}\", x=1, y=1, code=code)\n",
    "        # Set a sleep option for each job (e.g., 10 seconds per job)\n",
    "        temp.set({\"metadata.options.sleep\": 10})\n",
    "    # submit the workgraph to a scheduler called \"test-scheduler\"\n",
    "    wg.submit(scheduler=\"test\")"
   ]
  },
  {
   "cell_type": "markdown",
   "id": "208e13f9",
   "metadata": {},
   "source": [
    "Note, all the WorkGraphs are submitted to a scheduler named `test`. Now, you can check the progress of the Scheduler using the following command:\n",
    "\n"
   ]
  },
  {
   "cell_type": "code",
   "execution_count": 4,
   "id": "1f86cb2a",
   "metadata": {},
   "outputs": [
    {
     "name": "stdout",
     "output_type": "stream",
     "text": [
      "\u001b[34m\u001b[1mReport\u001b[0m: \u001b[22mScheduler: test\u001b[0m\n",
      "\u001b[22m   PK  Created    Process label                    Process State      Priorities\n",
      "-----  ---------  -------------------------------  ---------------  ------------\n",
      "84411  7s ago     WorkGraph<test_max_number_jobs>  ⏵ Waiting\n",
      "84412  6s ago     WorkGraph<test_max_number_jobs>  ⏵ Waiting\n",
      "84413  5s ago     WorkGraph<test_max_number_jobs>  ⏹ Created                  -2\n",
      "84416  5s ago     ArithmeticAddCalculation         ⏵ Waiting\n",
      "84419  5s ago     ArithmeticAddCalculation         ⏵ Waiting\n",
      "84423  5s ago     ArithmeticAddCalculation         ⏹ Created                  -3\n",
      "84422  5s ago     WorkGraph<test_max_number_jobs>  ⏹ Created                   0\n",
      "84426  4s ago     ArithmeticAddCalculation         ⏹ Created                   0\n",
      "84429  4s ago     ArithmeticAddCalculation         ⏹ Created                   0\n",
      "84432  3s ago     ArithmeticAddCalculation         ⏹ Created                  -1\n",
      "84435  3s ago     ArithmeticAddCalculation         ⏹ Created                  -1\n",
      "84438  2s ago     ArithmeticAddCalculation         ⏹ Created                  -1\n",
      "84441  2s ago     ArithmeticAddCalculation         ⏹ Created                  -1\n",
      "84444  2s ago     ArithmeticAddCalculation         ⏹ Created                  -1\u001b[0m\n",
      "\u001b[22m\n",
      "Total results: 14\n",
      "\u001b[0m\n",
      "\u001b[22mname: test\u001b[0m\n",
      "\u001b[22mpk: 84410\u001b[0m\n",
      "\u001b[22mrunning_process: 4\u001b[0m\n",
      "\u001b[22mwaiting_process: 10\u001b[0m\n",
      "\u001b[22mrunning_calcjob: 2\u001b[0m\n",
      "\u001b[22mmax_calcjobs: 2\u001b[0m\n",
      "\u001b[22mmax_processes: 10\u001b[0m\n"
     ]
    }
   ],
   "source": [
    "! workgraph scheduler show test"
   ]
  },
  {
   "cell_type": "markdown",
   "id": "23644a50",
   "metadata": {},
   "source": [
    "\n",
    "This command will display information about the currently running calcjobs, including the fact that there are a maximum of 2 calcjobs running simultaneously.\n",
    "\n",
    "Additionally, you can monitor the progress visually by visiting `http://127.0.0.1:8000/scheduler/`, and go to the detail page of the scheduler by clicking on the scheduler name. This will show you the status of the scheduler.\n",
    "\n",
    "![Scheduler](../_static/images/web-scheduler.png)\n",
    "\n",
    "\n",
    "## WorkChain\n",
    "The Scheduler can also be used with WorkChains. But there are two different steps compared to the normal usage of WorkChains:\n",
    "\n",
    "- Use the `submit_to_scheduler` function in `aiida_workgraph.utils.control`\n",
    "- You need to overide the `submit` method of the WorkChain. For example, create a new WorkChain that inherits from the original WorkChain and override the `submit` function.\n",
    "\n",
    "\n",
    "\n",
    "\n",
    "```python\n",
    "from aiida.workflows.arithmetic.multiply_add import MultiplyAddWorkChain as BaseMultiplyAddWorkChain\n",
    "from aiida.orm import ProcessNode\n",
    "from typing import Type, Any\n",
    "\n",
    "class MultiplyAddWorkChain(BaseMultiplyAddWorkChain):\n",
    "    \"\"\"WorkChain to multiply two numbers and add a third, for testing and demonstration purposes.\"\"\"\n",
    "    \n",
    "    def submit(\n",
    "        self,\n",
    "        process: Type[\"Process\"],\n",
    "        inputs: dict[str, Any] | None = None,\n",
    "        **kwargs,\n",
    "    ) -> ProcessNode:\n",
    "        \"\"\"Submit a process inside the workchain.\"\"\"\n",
    "        from aiida_workgraph.utils.control import submit_to_scheduler_inside_workchain\n",
    "        submit_to_scheduler_inside_workchain(self, process, inputs, **kwargs)\n",
    "```\n",
    "\n",
    "Note, you need to register a entry point for the new WorkChain, for example:\n",
    "```\n",
    "[project.entry-points.'aiida.workflows']\n",
    "'test.multiply_add' = 'my_test_workchain.multiply_add:MultiplyAddWorkChain'\n",
    "```\n",
    "\n",
    "Then, one can submit the WorkChain using the `submit` function in `aiida_workgraph.utils.control`:\n",
    "```python\n",
    "from my_test_workchain.multiply_add import MultiplyAddWorkChain\n",
    "from aiida_workgraph.utils.control import submit_to_scheduler # <-- this is the new submit function\n",
    "\n",
    "x = 1\n",
    "y = 2\n",
    "z = 3\n",
    "submit_to_scheduler(MultiplyAddWorkChain, inputs={\"x\": x, \"y\": y, \"z\": z, \"code\": code}, scheduler=\"test\")\n",
    "```"
   ]
  },
  {
   "cell_type": "markdown",
   "id": "48e78d75",
   "metadata": {},
   "source": [
    "\n",
    "Last but not least, one can stop and restart the scheduler at any time using the same name, all the information will be preserved.\n",
    "\n"
   ]
  }
 ],
 "metadata": {
  "kernelspec": {
   "display_name": "aiida",
   "language": "python",
   "name": "python3"
  },
  "language_info": {
   "codemirror_mode": {
    "name": "ipython",
    "version": 3
   },
   "file_extension": ".py",
   "mimetype": "text/x-python",
   "name": "python",
   "nbconvert_exporter": "python",
   "pygments_lexer": "ipython3",
   "version": "3.11.0"
  }
 },
 "nbformat": 4,
 "nbformat_minor": 5
}
