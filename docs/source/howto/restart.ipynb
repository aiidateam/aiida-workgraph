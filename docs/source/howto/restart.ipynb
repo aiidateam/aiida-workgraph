{
 "cells": [
  {
   "cell_type": "markdown",
   "id": "22d177dc-6cfb-4de2-9509-f1eb45e10cf2",
   "metadata": {},
   "source": [
    "# How to save and restart a WorkTree"
   ]
  },
  {
   "cell_type": "markdown",
   "id": "58696c91",
   "metadata": {},
   "source": [
    "## Introduction\n",
    "`WorkTree` supports save and load a WorkTree and modify the workflow, then submit the job again. WorkTree save its data as a extra attribute into its process, so that one can rebuild the WorkTree from the process.\n",
    "\n",
    "Load the AiiDA profile."
   ]
  },
  {
   "cell_type": "code",
   "execution_count": 1,
   "id": "c6b83fb5",
   "metadata": {},
   "outputs": [
    {
     "name": "stdout",
     "output_type": "stream",
     "text": [
      "\u001b[93m\u001b[1mWarning\u001b[0m: \u001b[22mYou are currently using a post release development version of AiiDA: 2.4.0.post0\u001b[0m\n",
      "\u001b[93m\u001b[1mWarning\u001b[0m: \u001b[22mBe aware that this is not recommended for production and is not officially supported.\u001b[0m\n",
      "\u001b[93m\u001b[1mWarning\u001b[0m: \u001b[22mDatabases used with this version may not be compatible with future releases of AiiDA\u001b[0m\n",
      "\u001b[93m\u001b[1mWarning\u001b[0m: \u001b[22mas you might not be able to automatically migrate your data.\n",
      "\u001b[0m\n"
     ]
    },
    {
     "data": {
      "text/plain": [
       "Profile<uuid='10014391ebf5492db57a6edfea62c68e' name='default'>"
      ]
     },
     "execution_count": 1,
     "metadata": {},
     "output_type": "execute_result"
    }
   ],
   "source": [
    "%load_ext aiida\n",
    "from aiida import load_profile\n",
    "load_profile()"
   ]
  },
  {
   "cell_type": "markdown",
   "id": "0f46d277",
   "metadata": {},
   "source": [
    "## Create a WorkTree"
   ]
  },
  {
   "cell_type": "code",
   "execution_count": 2,
   "id": "ece10d89",
   "metadata": {},
   "outputs": [],
   "source": [
    "from aiida_worktree import node\n",
    "from aiida.engine import calcfunction\n",
    "\n",
    "# define add node\n",
    "@node()\n",
    "@calcfunction\n",
    "def add(x, y):\n",
    "    return x + y\n",
    "\n",
    "from aiida_worktree import WorkTree\n",
    "from aiida.orm import Int\n",
    "x = Int(2.0)\n",
    "y = Int(3.0)\n",
    "z = Int(4.0)\n",
    "\n",
    "wt = WorkTree(\"first_workflow\")\n",
    "wt.nodes.new(add, name=\"add1\", x=x, y=y)\n",
    "wt.nodes.new(add, name=\"add2\", x=x, y=y)\n",
    "wt.nodes.new(add, name=\"add3\", x=x, y=y)\n",
    "wt.links.new(wt.nodes[\"add1\"].outputs[0], wt.nodes[\"add2\"].inputs[\"x\"])\n",
    "wt.links.new(wt.nodes[\"add2\"].outputs[0], wt.nodes[\"add3\"].inputs[\"x\"])\n",
    "\n",
    "# save the worktree\n",
    "wt.save(submit=False)\n",
    "# wt.submit()\n"
   ]
  },
  {
   "cell_type": "markdown",
   "metadata": {},
   "source": [
    "Check the state and pk of the worktree:"
   ]
  },
  {
   "cell_type": "code",
   "execution_count": 7,
   "metadata": {},
   "outputs": [
    {
     "name": "stdout",
     "output_type": "stream",
     "text": [
      "\u001b[93m\u001b[1mWarning\u001b[0m: \u001b[22mYou are currently using a post release development version of AiiDA: 2.4.0.post0\u001b[0m\n",
      "\u001b[93m\u001b[1mWarning\u001b[0m: \u001b[22mBe aware that this is not recommended for production and is not officially supported.\u001b[0m\n",
      "\u001b[93m\u001b[1mWarning\u001b[0m: \u001b[22mDatabases used with this version may not be compatible with future releases of AiiDA\u001b[0m\n",
      "\u001b[93m\u001b[1mWarning\u001b[0m: \u001b[22mas you might not be able to automatically migrate your data.\n",
      "\u001b[0m\n",
      "\u001b[22m  PK  Created    Process label    ♻    Process State    Process status\n",
      "----  ---------  ---------------  ---  ---------------  ----------------\n",
      "3029  26s ago    WorkTree              ⏹ Created\n",
      "3032  21s ago    WorkTree              ⏹ Created\n",
      "3035  16s ago    WorkTree              ⏹ Created\n",
      "3038  13s ago    WorkTree              ⏹ Created\n",
      "3041  3s ago     WorkTree              ⏹ Created\u001b[0m\n",
      "\u001b[22m\n",
      "Total results: 5\n",
      "\u001b[0m\n",
      "\u001b[34m\u001b[1mReport\u001b[0m: \u001b[22m♻ Processes marked with check-mark were not run but taken from the cache.\u001b[0m\n",
      "\u001b[34m\u001b[1mReport\u001b[0m: \u001b[22mAdd the option `-P pk cached_from` to the command to display cache source.\u001b[0m\n",
      "\u001b[34m\u001b[1mReport\u001b[0m: \u001b[22mLast time an entry changed state: 3s ago (at 13:10:28 on 2023-12-04)\u001b[0m\n",
      "\u001b[34m\u001b[1mReport\u001b[0m: \u001b[22mChecking daemon load... \u001b[0m\u001b[32m\u001b[1mOK\u001b[0m\n",
      "\u001b[34m\u001b[1mReport\u001b[0m: \u001b[22mUsing 2% of the available daemon worker slots.\u001b[0m\n"
     ]
    }
   ],
   "source": [
    "!verdi process list"
   ]
  },
  {
   "cell_type": "markdown",
   "id": "51f3b8d1",
   "metadata": {},
   "source": [
    "## Load the WorkTree and submit\n",
    "Now, we want to add a new `add` node, and use the results from previous `add1` and `multiply1` nodes. Use the `load` method to load a WorkTree from a process."
   ]
  },
  {
   "cell_type": "code",
   "execution_count": 8,
   "id": "4f8bf5c3",
   "metadata": {},
   "outputs": [
    {
     "name": "stderr",
     "output_type": "stream",
     "text": [
      "12/04/2023 01:10:34 PM <233126> aiida.process_control: [REPORT] request to play Process<3041> sent\n"
     ]
    }
   ],
   "source": [
    "from aiida_worktree import WorkTree\n",
    "pk = wt.pk\n",
    "wt2 = WorkTree.load(pk)\n",
    "wt2.nodes[\"add2\"].set({\"y\": Int(4).store()})\n",
    "wt2.submit(wait=True)"
   ]
  },
  {
   "cell_type": "markdown",
   "id": "ea0ee6b0",
   "metadata": {},
   "source": [
    "### Check status and results\n"
   ]
  },
  {
   "cell_type": "code",
   "execution_count": 5,
   "id": "fdb3d16e",
   "metadata": {},
   "outputs": [
    {
     "name": "stdout",
     "output_type": "stream",
     "text": [
      "State of WorkTree   : FINISHED\n",
      "Result of add1      : 5\n",
      "Result of add2      : 9\n"
     ]
    }
   ],
   "source": [
    "print(\"State of WorkTree   : {}\".format(wt2.state))\n",
    "print('Result of add1      : {}'.format(wt2.nodes[\"add1\"].node.outputs.result.value))\n",
    "print('Result of add2      : {}'.format(wt2.nodes[\"add2\"].node.outputs.result.value))"
   ]
  },
  {
   "cell_type": "markdown",
   "id": "addf94b0",
   "metadata": {},
   "source": [
    "Generate node graph from the AiiDA process:"
   ]
  },
  {
   "cell_type": "code",
   "execution_count": 6,
   "id": "6c83c650",
   "metadata": {},
   "outputs": [
    {
     "data": {
      "image/svg+xml": [
       "<?xml version=\"1.0\" encoding=\"UTF-8\" standalone=\"no\"?>\n",
       "<!DOCTYPE svg PUBLIC \"-//W3C//DTD SVG 1.1//EN\"\n",
       " \"http://www.w3.org/Graphics/SVG/1.1/DTD/svg11.dtd\">\n",
       "<!-- Generated by graphviz version 7.1.0 (20230122.1345)\n",
       " -->\n",
       "<!-- Pages: 1 -->\n",
       "<svg width=\"1701pt\" height=\"897pt\"\n",
       " viewBox=\"0.00 0.00 1700.71 896.96\" xmlns=\"http://www.w3.org/2000/svg\" xmlns:xlink=\"http://www.w3.org/1999/xlink\">\n",
       "<g id=\"graph0\" class=\"graph\" transform=\"scale(1 1) rotate(0) translate(4 892.96)\">\n",
       "<polygon fill=\"white\" stroke=\"none\" points=\"-4,4 -4,-892.96 1696.71,-892.96 1696.71,4 -4,4\"/>\n",
       "<!-- N2939 -->\n",
       "<g id=\"node1\" class=\"node\">\n",
       "<title>N2939</title>\n",
       "<polygon fill=\"#e38851\" stroke=\"red\" stroke-width=\"6\" points=\"822.71,-769.22 622.71,-769.22 622.71,-716.22 822.71,-716.22 822.71,-769.22\"/>\n",
       "<text text-anchor=\"middle\" x=\"722.71\" y=\"-754.02\" font-family=\"Times,serif\" font-size=\"14.00\">WorkTree: first_workflow (2939)</text>\n",
       "<text text-anchor=\"middle\" x=\"722.71\" y=\"-739.02\" font-family=\"Times,serif\" font-size=\"14.00\">State: finished</text>\n",
       "<text text-anchor=\"middle\" x=\"722.71\" y=\"-724.02\" font-family=\"Times,serif\" font-size=\"14.00\">Exit Code: 0</text>\n",
       "</g>\n",
       "<!-- N2941 -->\n",
       "<g id=\"node4\" class=\"node\">\n",
       "<title>N2941</title>\n",
       "<polygon fill=\"#de707f\" fill-opacity=\"0.466667\" stroke=\"black\" stroke-width=\"0\" points=\"675.21,-650.22 580.21,-650.22 580.21,-597.22 675.21,-597.22 675.21,-650.22\"/>\n",
       "<text text-anchor=\"middle\" x=\"627.71\" y=\"-635.02\" font-family=\"Times,serif\" font-size=\"14.00\">add (2941)</text>\n",
       "<text text-anchor=\"middle\" x=\"627.71\" y=\"-620.02\" font-family=\"Times,serif\" font-size=\"14.00\">State: finished</text>\n",
       "<text text-anchor=\"middle\" x=\"627.71\" y=\"-605.02\" font-family=\"Times,serif\" font-size=\"14.00\">Exit Code: 0</text>\n",
       "</g>\n",
       "<!-- N2939&#45;&gt;N2941 -->\n",
       "<g id=\"edge12\" class=\"edge\">\n",
       "<title>N2939&#45;&gt;N2941</title>\n",
       "<path fill=\"none\" stroke=\"#000000\" stroke-dasharray=\"1,5\" d=\"M643.74,-713.47C638.33,-709.09 633.52,-704.03 629.71,-698.22 622.69,-687.51 620.87,-673.91 621.24,-661.33\"/>\n",
       "<polygon fill=\"#000000\" stroke=\"#000000\" points=\"624.71,-661.93 622,-651.68 617.73,-661.38 624.71,-661.93\"/>\n",
       "<text text-anchor=\"middle\" x=\"669.21\" y=\"-687.02\" font-family=\"Times,serif\" font-size=\"14.00\">CALL_CALC</text>\n",
       "<text text-anchor=\"middle\" x=\"669.21\" y=\"-672.02\" font-family=\"Times,serif\" font-size=\"14.00\">add1</text>\n",
       "</g>\n",
       "<!-- N2943 -->\n",
       "<g id=\"node6\" class=\"node\">\n",
       "<title>N2943</title>\n",
       "<polygon fill=\"#de707f\" fill-opacity=\"0.466667\" stroke=\"black\" stroke-width=\"0\" points=\"766.21,-411.48 671.21,-411.48 671.21,-358.48 766.21,-358.48 766.21,-411.48\"/>\n",
       "<text text-anchor=\"middle\" x=\"718.71\" y=\"-396.28\" font-family=\"Times,serif\" font-size=\"14.00\">add (2943)</text>\n",
       "<text text-anchor=\"middle\" x=\"718.71\" y=\"-381.28\" font-family=\"Times,serif\" font-size=\"14.00\">State: finished</text>\n",
       "<text text-anchor=\"middle\" x=\"718.71\" y=\"-366.28\" font-family=\"Times,serif\" font-size=\"14.00\">Exit Code: 0</text>\n",
       "</g>\n",
       "<!-- N2939&#45;&gt;N2943 -->\n",
       "<g id=\"edge7\" class=\"edge\">\n",
       "<title>N2939&#45;&gt;N2943</title>\n",
       "<path fill=\"none\" stroke=\"#000000\" stroke-dasharray=\"1,5\" d=\"M722.39,-713.51C721.68,-649.66 719.93,-494.11 719.13,-422.8\"/>\n",
       "<polygon fill=\"#000000\" stroke=\"#000000\" points=\"722.63,-422.78 719.01,-412.82 715.63,-422.86 722.63,-422.78\"/>\n",
       "<text text-anchor=\"middle\" x=\"761.21\" y=\"-568.02\" font-family=\"Times,serif\" font-size=\"14.00\">CALL_CALC</text>\n",
       "<text text-anchor=\"middle\" x=\"761.21\" y=\"-553.02\" font-family=\"Times,serif\" font-size=\"14.00\">add2</text>\n",
       "</g>\n",
       "<!-- N2945 -->\n",
       "<g id=\"node8\" class=\"node\">\n",
       "<title>N2945</title>\n",
       "<polygon fill=\"#de707f\" fill-opacity=\"0.466667\" stroke=\"black\" stroke-width=\"0\" points=\"815.21,-172.74 720.21,-172.74 720.21,-119.74 815.21,-119.74 815.21,-172.74\"/>\n",
       "<text text-anchor=\"middle\" x=\"767.71\" y=\"-157.54\" font-family=\"Times,serif\" font-size=\"14.00\">add (2945)</text>\n",
       "<text text-anchor=\"middle\" x=\"767.71\" y=\"-142.54\" font-family=\"Times,serif\" font-size=\"14.00\">State: finished</text>\n",
       "<text text-anchor=\"middle\" x=\"767.71\" y=\"-127.54\" font-family=\"Times,serif\" font-size=\"14.00\">Exit Code: 0</text>\n",
       "</g>\n",
       "<!-- N2939&#45;&gt;N2945 -->\n",
       "<g id=\"edge11\" class=\"edge\">\n",
       "<title>N2939&#45;&gt;N2945</title>\n",
       "<path fill=\"none\" stroke=\"#000000\" stroke-dasharray=\"1,5\" d=\"M763.67,-713.44C789,-692.32 816.71,-660.94 816.71,-624.72 816.71,-624.72 816.71,-624.72 816.71,-264.61 816.71,-231.19 816.71,-221.08 802.71,-190.74 801.34,-187.77 799.72,-184.83 797.95,-181.96\"/>\n",
       "<polygon fill=\"#000000\" stroke=\"#000000\" points=\"800.86,-180.01 792.29,-173.78 795.1,-183.99 800.86,-180.01\"/>\n",
       "<text text-anchor=\"middle\" x=\"856.21\" y=\"-448.28\" font-family=\"Times,serif\" font-size=\"14.00\">CALL_CALC</text>\n",
       "<text text-anchor=\"middle\" x=\"856.21\" y=\"-433.28\" font-family=\"Times,serif\" font-size=\"14.00\">add3</text>\n",
       "</g>\n",
       "<!-- N2937 -->\n",
       "<g id=\"node2\" class=\"node\">\n",
       "<title>N2937</title>\n",
       "<ellipse fill=\"#8cd499\" stroke=\"black\" stroke-width=\"0\" cx=\"292.71\" cy=\"-862.09\" rx=\"50.41\" ry=\"26.74\"/>\n",
       "<text text-anchor=\"middle\" x=\"292.71\" y=\"-865.89\" font-family=\"Times,serif\" font-size=\"14.00\">Int (2937)</text>\n",
       "<text text-anchor=\"middle\" x=\"292.71\" y=\"-850.89\" font-family=\"Times,serif\" font-size=\"14.00\">value: 2</text>\n",
       "</g>\n",
       "<!-- N2937&#45;&gt;N2939 -->\n",
       "<g id=\"edge1\" class=\"edge\">\n",
       "<title>N2937&#45;&gt;N2939</title>\n",
       "<path fill=\"none\" stroke=\"#000000\" stroke-dasharray=\"5,2\" d=\"M242.6,-860.91C168.84,-859.47 36.52,-851.96 6.71,-817.22 -1.97,-807.1 -2.43,-796.93 6.71,-787.22 26.99,-765.67 411.81,-752.14 608.71,-746.6\"/>\n",
       "<polygon fill=\"#000000\" stroke=\"#000000\" points=\"608.55,-750.11 618.45,-746.33 608.35,-743.11 608.55,-750.11\"/>\n",
       "<text text-anchor=\"middle\" x=\"138.71\" y=\"-806.02\" font-family=\"Times,serif\" font-size=\"14.00\">INPUT_WORK</text>\n",
       "<text text-anchor=\"middle\" x=\"138.71\" y=\"-791.02\" font-family=\"Times,serif\" font-size=\"14.00\">worktree__nodes__add2__properties__x__value</text>\n",
       "</g>\n",
       "<!-- N2937&#45;&gt;N2939 -->\n",
       "<g id=\"edge5\" class=\"edge\">\n",
       "<title>N2937&#45;&gt;N2939</title>\n",
       "<path fill=\"none\" stroke=\"#000000\" stroke-dasharray=\"5,2\" d=\"M285.33,-835.74C282.38,-819.83 282.02,-799.99 293.71,-787.22 314.68,-764.33 488.64,-752.84 608.49,-747.59\"/>\n",
       "<polygon fill=\"#000000\" stroke=\"#000000\" points=\"608.56,-751.09 618.4,-747.16 608.26,-744.09 608.56,-751.09\"/>\n",
       "<text text-anchor=\"middle\" x=\"425.71\" y=\"-806.02\" font-family=\"Times,serif\" font-size=\"14.00\">INPUT_WORK</text>\n",
       "<text text-anchor=\"middle\" x=\"425.71\" y=\"-791.02\" font-family=\"Times,serif\" font-size=\"14.00\">worktree__nodes__add1__properties__x__value</text>\n",
       "</g>\n",
       "<!-- N2937&#45;&gt;N2939 -->\n",
       "<g id=\"edge6\" class=\"edge\">\n",
       "<title>N2937&#45;&gt;N2939</title>\n",
       "<path fill=\"none\" stroke=\"#000000\" stroke-dasharray=\"5,2\" d=\"M342.17,-857.25C408.55,-851.37 522.22,-838.51 557.71,-817.22 572.12,-808.58 566.91,-796.8 580.71,-787.22 589.51,-781.11 599.2,-775.83 609.25,-771.29\"/>\n",
       "<polygon fill=\"#000000\" stroke=\"#000000\" points=\"610.6,-774.52 618.45,-767.4 607.87,-768.07 610.6,-774.52\"/>\n",
       "<text text-anchor=\"middle\" x=\"712.71\" y=\"-806.02\" font-family=\"Times,serif\" font-size=\"14.00\">INPUT_WORK</text>\n",
       "<text text-anchor=\"middle\" x=\"712.71\" y=\"-791.02\" font-family=\"Times,serif\" font-size=\"14.00\">worktree__nodes__add3__properties__x__value</text>\n",
       "</g>\n",
       "<!-- N2938 -->\n",
       "<g id=\"node3\" class=\"node\">\n",
       "<title>N2938</title>\n",
       "<ellipse fill=\"#8cd499\" stroke=\"black\" stroke-width=\"0\" cx=\"1153.71\" cy=\"-862.09\" rx=\"50.41\" ry=\"26.74\"/>\n",
       "<text text-anchor=\"middle\" x=\"1153.71\" y=\"-865.89\" font-family=\"Times,serif\" font-size=\"14.00\">Int (2938)</text>\n",
       "<text text-anchor=\"middle\" x=\"1153.71\" y=\"-850.89\" font-family=\"Times,serif\" font-size=\"14.00\">value: 3</text>\n",
       "</g>\n",
       "<!-- N2938&#45;&gt;N2939 -->\n",
       "<g id=\"edge2\" class=\"edge\">\n",
       "<title>N2938&#45;&gt;N2939</title>\n",
       "<path fill=\"none\" stroke=\"#000000\" stroke-dasharray=\"5,2\" d=\"M1103.94,-857.92C1032.9,-852.65 906.72,-840.31 867.71,-817.22 853.25,-808.66 858.29,-797.11 844.71,-787.22 839.83,-783.66 834.62,-780.37 829.22,-777.33\"/>\n",
       "<polygon fill=\"#000000\" stroke=\"#000000\" points=\"831.13,-774.38 820.65,-772.83 827.88,-780.58 831.13,-774.38\"/>\n",
       "<text text-anchor=\"middle\" x=\"999.71\" y=\"-806.02\" font-family=\"Times,serif\" font-size=\"14.00\">INPUT_WORK</text>\n",
       "<text text-anchor=\"middle\" x=\"999.71\" y=\"-791.02\" font-family=\"Times,serif\" font-size=\"14.00\">worktree__nodes__add1__properties__y__value</text>\n",
       "</g>\n",
       "<!-- N2938&#45;&gt;N2939 -->\n",
       "<g id=\"edge3\" class=\"edge\">\n",
       "<title>N2938&#45;&gt;N2939</title>\n",
       "<path fill=\"none\" stroke=\"#000000\" stroke-dasharray=\"5,2\" d=\"M1153.01,-835.64C1151.12,-819.27 1145.81,-798.94 1131.71,-787.22 1109.37,-768.64 950.06,-756.1 837.02,-749.43\"/>\n",
       "<polygon fill=\"#000000\" stroke=\"#000000\" points=\"837.24,-745.94 827.05,-748.85 836.83,-752.93 837.24,-745.94\"/>\n",
       "<text text-anchor=\"middle\" x=\"1280.71\" y=\"-806.02\" font-family=\"Times,serif\" font-size=\"14.00\">INPUT_WORK</text>\n",
       "<text text-anchor=\"middle\" x=\"1280.71\" y=\"-791.02\" font-family=\"Times,serif\" font-size=\"14.00\">worktree__nodes__add3__properties__y__value</text>\n",
       "</g>\n",
       "<!-- N2938&#45;&gt;N2939 -->\n",
       "<g id=\"edge4\" class=\"edge\">\n",
       "<title>N2938&#45;&gt;N2939</title>\n",
       "<path fill=\"none\" stroke=\"#000000\" stroke-dasharray=\"5,2\" d=\"M1203.96,-861.99C1296.66,-862.11 1479.62,-854.2 1416.71,-787.22 1397.2,-766.45 1028.76,-752.65 836.84,-746.84\"/>\n",
       "<polygon fill=\"#000000\" stroke=\"#000000\" points=\"837.2,-743.35 827.1,-746.55 836.99,-750.35 837.2,-743.35\"/>\n",
       "<text text-anchor=\"middle\" x=\"1560.71\" y=\"-806.02\" font-family=\"Times,serif\" font-size=\"14.00\">INPUT_WORK</text>\n",
       "<text text-anchor=\"middle\" x=\"1560.71\" y=\"-791.02\" font-family=\"Times,serif\" font-size=\"14.00\">worktree__nodes__add2__properties__y__value</text>\n",
       "</g>\n",
       "<!-- N2942 -->\n",
       "<g id=\"node5\" class=\"node\">\n",
       "<title>N2942</title>\n",
       "<ellipse fill=\"#8cd499\" stroke=\"black\" stroke-width=\"0\" cx=\"624.71\" cy=\"-504.35\" rx=\"50.41\" ry=\"26.74\"/>\n",
       "<text text-anchor=\"middle\" x=\"624.71\" y=\"-508.15\" font-family=\"Times,serif\" font-size=\"14.00\">Int (2942)</text>\n",
       "<text text-anchor=\"middle\" x=\"624.71\" y=\"-493.15\" font-family=\"Times,serif\" font-size=\"14.00\">value: 5</text>\n",
       "</g>\n",
       "<!-- N2941&#45;&gt;N2942 -->\n",
       "<g id=\"edge10\" class=\"edge\">\n",
       "<title>N2941&#45;&gt;N2942</title>\n",
       "<path fill=\"none\" stroke=\"#000000\" d=\"M627.06,-597.25C626.65,-581.18 626.11,-560.15 625.66,-542.27\"/>\n",
       "<polygon fill=\"#000000\" stroke=\"#000000\" points=\"629.15,-542.19 625.4,-532.28 622.16,-542.37 629.15,-542.19\"/>\n",
       "<text text-anchor=\"middle\" x=\"652.71\" y=\"-568.02\" font-family=\"Times,serif\" font-size=\"14.00\">CREATE</text>\n",
       "<text text-anchor=\"middle\" x=\"652.71\" y=\"-553.02\" font-family=\"Times,serif\" font-size=\"14.00\">result</text>\n",
       "</g>\n",
       "<!-- N2942&#45;&gt;N2943 -->\n",
       "<g id=\"edge9\" class=\"edge\">\n",
       "<title>N2942&#45;&gt;N2943</title>\n",
       "<path fill=\"none\" stroke=\"#000000\" d=\"M618.67,-477.81C616.55,-462.61 616.6,-443.59 625.71,-429.48 633.96,-416.71 647.03,-407.62 660.79,-401.18\"/>\n",
       "<polygon fill=\"#000000\" stroke=\"#000000\" points=\"662.11,-404.42 669.99,-397.34 659.41,-397.96 662.11,-404.42\"/>\n",
       "<text text-anchor=\"middle\" x=\"667.21\" y=\"-448.28\" font-family=\"Times,serif\" font-size=\"14.00\">INPUT_CALC</text>\n",
       "<text text-anchor=\"middle\" x=\"667.21\" y=\"-433.28\" font-family=\"Times,serif\" font-size=\"14.00\">x</text>\n",
       "</g>\n",
       "<!-- N2944 -->\n",
       "<g id=\"node7\" class=\"node\">\n",
       "<title>N2944</title>\n",
       "<ellipse fill=\"#8cd499\" stroke=\"black\" stroke-width=\"0\" cx=\"718.71\" cy=\"-265.61\" rx=\"50.41\" ry=\"26.74\"/>\n",
       "<text text-anchor=\"middle\" x=\"718.71\" y=\"-269.41\" font-family=\"Times,serif\" font-size=\"14.00\">Int (2944)</text>\n",
       "<text text-anchor=\"middle\" x=\"718.71\" y=\"-254.41\" font-family=\"Times,serif\" font-size=\"14.00\">value: 9</text>\n",
       "</g>\n",
       "<!-- N2943&#45;&gt;N2944 -->\n",
       "<g id=\"edge14\" class=\"edge\">\n",
       "<title>N2943&#45;&gt;N2944</title>\n",
       "<path fill=\"none\" stroke=\"#000000\" d=\"M718.71,-358.51C718.71,-342.44 718.71,-321.41 718.71,-303.53\"/>\n",
       "<polygon fill=\"#000000\" stroke=\"#000000\" points=\"722.21,-303.54 718.71,-293.54 715.21,-303.54 722.21,-303.54\"/>\n",
       "<text text-anchor=\"middle\" x=\"744.71\" y=\"-329.28\" font-family=\"Times,serif\" font-size=\"14.00\">CREATE</text>\n",
       "<text text-anchor=\"middle\" x=\"744.71\" y=\"-314.28\" font-family=\"Times,serif\" font-size=\"14.00\">result</text>\n",
       "</g>\n",
       "<!-- N2944&#45;&gt;N2945 -->\n",
       "<g id=\"edge13\" class=\"edge\">\n",
       "<title>N2944&#45;&gt;N2945</title>\n",
       "<path fill=\"none\" stroke=\"#000000\" d=\"M714.18,-239.24C712.7,-224.46 712.9,-205.82 719.71,-190.74 721.24,-187.36 723.17,-184.12 725.37,-181.06\"/>\n",
       "<polygon fill=\"#000000\" stroke=\"#000000\" points=\"727.95,-183.44 731.71,-173.54 722.59,-178.93 727.95,-183.44\"/>\n",
       "<text text-anchor=\"middle\" x=\"761.21\" y=\"-209.54\" font-family=\"Times,serif\" font-size=\"14.00\">INPUT_CALC</text>\n",
       "<text text-anchor=\"middle\" x=\"761.21\" y=\"-194.54\" font-family=\"Times,serif\" font-size=\"14.00\">x</text>\n",
       "</g>\n",
       "<!-- N2946 -->\n",
       "<g id=\"node9\" class=\"node\">\n",
       "<title>N2946</title>\n",
       "<ellipse fill=\"#8cd499\" stroke=\"black\" stroke-width=\"0\" cx=\"767.71\" cy=\"-26.87\" rx=\"50.41\" ry=\"26.74\"/>\n",
       "<text text-anchor=\"middle\" x=\"767.71\" y=\"-30.67\" font-family=\"Times,serif\" font-size=\"14.00\">Int (2946)</text>\n",
       "<text text-anchor=\"middle\" x=\"767.71\" y=\"-15.67\" font-family=\"Times,serif\" font-size=\"14.00\">value: 12</text>\n",
       "</g>\n",
       "<!-- N2945&#45;&gt;N2946 -->\n",
       "<g id=\"edge8\" class=\"edge\">\n",
       "<title>N2945&#45;&gt;N2946</title>\n",
       "<path fill=\"none\" stroke=\"#000000\" d=\"M767.71,-119.77C767.71,-103.7 767.71,-82.67 767.71,-64.79\"/>\n",
       "<polygon fill=\"#000000\" stroke=\"#000000\" points=\"771.21,-64.8 767.71,-54.8 764.21,-64.8 771.21,-64.8\"/>\n",
       "<text text-anchor=\"middle\" x=\"793.71\" y=\"-90.54\" font-family=\"Times,serif\" font-size=\"14.00\">CREATE</text>\n",
       "<text text-anchor=\"middle\" x=\"793.71\" y=\"-75.54\" font-family=\"Times,serif\" font-size=\"14.00\">result</text>\n",
       "</g>\n",
       "</g>\n",
       "</svg>\n"
      ],
      "text/plain": [
       "<graphviz.graphs.Digraph at 0x7fb103092a30>"
      ]
     },
     "execution_count": 6,
     "metadata": {},
     "output_type": "execute_result"
    }
   ],
   "source": [
    "from aiida_worktree.utils import generate_node_graph\n",
    "generate_node_graph(wt2.pk)"
   ]
  }
 ],
 "metadata": {
  "kernelspec": {
   "display_name": "Python 3.10.4 ('scinode')",
   "language": "python",
   "name": "python3"
  },
  "language_info": {
   "codemirror_mode": {
    "name": "ipython",
    "version": 3
   },
   "file_extension": ".py",
   "mimetype": "text/x-python",
   "name": "python",
   "nbconvert_exporter": "python",
   "pygments_lexer": "ipython3",
   "version": "3.9.13"
  },
  "vscode": {
   "interpreter": {
    "hash": "2f450c1ff08798c4974437dd057310afef0de414c25d1fd960ad375311c3f6ff"
   }
  }
 },
 "nbformat": 4,
 "nbformat_minor": 5
}
