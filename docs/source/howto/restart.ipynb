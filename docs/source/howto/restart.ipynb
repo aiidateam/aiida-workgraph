{
 "cells": [
  {
   "cell_type": "markdown",
   "id": "22d177dc-6cfb-4de2-9509-f1eb45e10cf2",
   "metadata": {},
   "source": [
    "# Save and restart a WorkGraph"
   ]
  },
  {
   "cell_type": "markdown",
   "id": "58696c91",
   "metadata": {},
   "source": [
    "## Introduction\n",
    "`WorkGraph` supports save and load a WorkGraph and modify the workflow, then submit the job again. WorkGraph save its data as a extra attribute into its process, so that one can rebuild the WorkGraph from the process.\n",
    "\n",
    "Load the AiiDA profile."
   ]
  },
  {
   "cell_type": "code",
   "execution_count": 1,
   "id": "c6b83fb5",
   "metadata": {},
   "outputs": [
    {
     "name": "stdout",
     "output_type": "stream",
     "text": [
      "\u001b[93m\u001b[1mWarning\u001b[0m: \u001b[22mYou are currently using a post release development version of AiiDA: 2.4.0.post0\u001b[0m\n",
      "\u001b[93m\u001b[1mWarning\u001b[0m: \u001b[22mBe aware that this is not recommended for production and is not officially supported.\u001b[0m\n",
      "\u001b[93m\u001b[1mWarning\u001b[0m: \u001b[22mDatabases used with this version may not be compatible with future releases of AiiDA\u001b[0m\n",
      "\u001b[93m\u001b[1mWarning\u001b[0m: \u001b[22mas you might not be able to automatically migrate your data.\n",
      "\u001b[0m\n"
     ]
    },
    {
     "data": {
      "text/plain": [
       "Profile<uuid='10014391ebf5492db57a6edfea62c68e' name='default'>"
      ]
     },
     "execution_count": 1,
     "metadata": {},
     "output_type": "execute_result"
    }
   ],
   "source": [
    "%load_ext aiida\n",
    "from aiida import load_profile\n",
    "load_profile()"
   ]
  },
  {
   "cell_type": "markdown",
   "id": "0f46d277",
   "metadata": {},
   "source": [
    "## Create a WorkGraph"
   ]
  },
  {
   "cell_type": "code",
   "execution_count": 2,
   "id": "ece10d89",
   "metadata": {},
   "outputs": [
    {
     "name": "stdout",
     "output_type": "stream",
     "text": [
      "WorkGraph process crated, PK: 11042\n"
     ]
    }
   ],
   "source": [
    "from aiida_workgraph import task\n",
    "from aiida.engine import calcfunction\n",
    "\n",
    "# define add task\n",
    "@task.calcfunction()\n",
    "def add(x, y):\n",
    "    return x + y\n",
    "\n",
    "from aiida_workgraph import WorkGraph\n",
    "from aiida.orm import Int\n",
    "x = Int(2.0)\n",
    "y = Int(3.0)\n",
    "z = Int(4.0)\n",
    "\n",
    "wg = WorkGraph(\"first_workflow\")\n",
    "wg.tasks.new(add, name=\"add1\", x=x, y=y)\n",
    "wg.tasks.new(add, name=\"add2\", x=x, y=y)\n",
    "wg.tasks.new(add, name=\"add3\", x=x, y=y)\n",
    "wg.links.new(wg.tasks[\"add1\"].outputs[0], wg.tasks[\"add2\"].inputs[\"x\"])\n",
    "wg.links.new(wg.tasks[\"add2\"].outputs[0], wg.tasks[\"add3\"].inputs[\"x\"])\n",
    "\n",
    "wg.submit(wait=True)"
   ]
  },
  {
   "cell_type": "markdown",
   "metadata": {},
   "source": [
    "Check the state and pk of the workgraph:"
   ]
  },
  {
   "cell_type": "code",
   "execution_count": 3,
   "metadata": {},
   "outputs": [
    {
     "name": "stdout",
     "output_type": "stream",
     "text": [
      "\u001b[93m\u001b[1mWarning\u001b[0m: \u001b[22mYou are currently using a post release development version of AiiDA: 2.4.0.post0\u001b[0m\n",
      "\u001b[93m\u001b[1mWarning\u001b[0m: \u001b[22mBe aware that this is not recommended for production and is not officially supported.\u001b[0m\n",
      "\u001b[93m\u001b[1mWarning\u001b[0m: \u001b[22mDatabases used with this version may not be compatible with future releases of AiiDA\u001b[0m\n",
      "\u001b[93m\u001b[1mWarning\u001b[0m: \u001b[22mas you might not be able to automatically migrate your data.\n",
      "\u001b[0m\n",
      "\u001b[22mWorkGraph: first_workflow<11042> Finished [0]\n",
      "    ├── add<11043> Finished [0]\n",
      "    ├── add<11045> Finished [0]\n",
      "    └── add<11047> Finished [0]\u001b[0m\n",
      "Result of add3      : 11\n"
     ]
    }
   ],
   "source": [
    "!verdi process status {wg.process.pk}\n",
    "print('Result of add3      : {}'.format(wg.tasks[\"add3\"].outputs[\"result\"].value))"
   ]
  },
  {
   "cell_type": "markdown",
   "id": "51f3b8d1",
   "metadata": {},
   "source": [
    "## Load the WorkGraph and restart\n",
    "Now, we modify the `add2` task, and re-submit the workgraph. Use the `load` method to load a WorkGraph from a process, then use the `restart` flag to restart the workflow"
   ]
  },
  {
   "cell_type": "code",
   "execution_count": 4,
   "id": "4f8bf5c3",
   "metadata": {},
   "outputs": [
    {
     "name": "stdout",
     "output_type": "stream",
     "text": [
      "WorkGraph process crated, PK: 11050\n",
      "key y changes\n",
      "modified_nodes: {'add2'}\n"
     ]
    }
   ],
   "source": [
    "from aiida_workgraph import WorkGraph\n",
    "wg2 = WorkGraph.load(wg.pk)\n",
    "wg2.name = \"restart_workflow\"\n",
    "wg2.tasks[\"add2\"].set({\"y\": Int(10).store()})\n",
    "# use the `restart` flag to restart the workflow\n",
    "wg2.submit(wait=True, restart=True)"
   ]
  },
  {
   "cell_type": "markdown",
   "id": "ea0ee6b0",
   "metadata": {},
   "source": [
    "### Check status and results\n",
    "Since we only modify the `add2` task, so the `add2` and its child task `add3` will re-run."
   ]
  },
  {
   "cell_type": "code",
   "execution_count": 5,
   "id": "fdb3d16e",
   "metadata": {},
   "outputs": [
    {
     "name": "stdout",
     "output_type": "stream",
     "text": [
      "\u001b[93m\u001b[1mWarning\u001b[0m: \u001b[22mYou are currently using a post release development version of AiiDA: 2.4.0.post0\u001b[0m\n",
      "\u001b[93m\u001b[1mWarning\u001b[0m: \u001b[22mBe aware that this is not recommended for production and is not officially supported.\u001b[0m\n",
      "\u001b[93m\u001b[1mWarning\u001b[0m: \u001b[22mDatabases used with this version may not be compatible with future releases of AiiDA\u001b[0m\n",
      "\u001b[93m\u001b[1mWarning\u001b[0m: \u001b[22mas you might not be able to automatically migrate your data.\n",
      "\u001b[0m\n",
      "\u001b[22mWorkGraph: restart_workflow<11050> Finished [0]\n",
      "    ├── add<11051> Finished [0]\n",
      "    └── add<11053> Finished [0]\u001b[0m\n",
      "Result of add3      : 18\n"
     ]
    }
   ],
   "source": [
    "!verdi process status {wg2.process.pk}\n",
    "print('Result of add3      : {}'.format(wg2.tasks[\"add3\"].outputs[\"result\"].value))"
   ]
  },
  {
   "cell_type": "markdown",
   "id": "addf94b0",
   "metadata": {},
   "source": [
    "Generate node graph from the AiiDA process:"
   ]
  },
  {
   "cell_type": "code",
   "execution_count": 6,
   "id": "6c83c650",
   "metadata": {},
   "outputs": [
    {
     "data": {
      "image/svg+xml": [
       "<?xml version=\"1.0\" encoding=\"UTF-8\" standalone=\"no\"?>\n",
       "<!DOCTYPE svg PUBLIC \"-//W3C//DTD SVG 1.1//EN\"\n",
       " \"http://www.w3.org/Graphics/SVG/1.1/DTD/svg11.dtd\">\n",
       "<!-- Generated by graphviz version 7.1.0 (20230122.1345)\n",
       " -->\n",
       "<!-- Pages: 1 -->\n",
       "<svg width=\"1701pt\" height=\"658pt\"\n",
       " viewBox=\"0.00 0.00 1700.71 658.22\" xmlns=\"http://www.w3.org/2000/svg\" xmlns:xlink=\"http://www.w3.org/1999/xlink\">\n",
       "<g id=\"graph0\" class=\"graph\" transform=\"scale(1 1) rotate(0) translate(4 654.22)\">\n",
       "<polygon fill=\"white\" stroke=\"none\" points=\"-4,4 -4,-654.22 1696.71,-654.22 1696.71,4 -4,4\"/>\n",
       "<!-- N11050 -->\n",
       "<g id=\"node1\" class=\"node\">\n",
       "<title>N11050</title>\n",
       "<polygon fill=\"#e38851\" stroke=\"red\" stroke-width=\"6\" points=\"831.71,-530.48 613.71,-530.48 613.71,-477.48 831.71,-477.48 831.71,-530.48\"/>\n",
       "<text text-anchor=\"middle\" x=\"722.71\" y=\"-515.28\" font-family=\"Times,serif\" font-size=\"14.00\">WorkGraph: restart_workflow (11050)</text>\n",
       "<text text-anchor=\"middle\" x=\"722.71\" y=\"-500.28\" font-family=\"Times,serif\" font-size=\"14.00\">State: finished</text>\n",
       "<text text-anchor=\"middle\" x=\"722.71\" y=\"-485.28\" font-family=\"Times,serif\" font-size=\"14.00\">Exit Code: 0</text>\n",
       "</g>\n",
       "<!-- N11051 -->\n",
       "<g id=\"node5\" class=\"node\">\n",
       "<title>N11051</title>\n",
       "<polygon fill=\"#de707f\" fill-opacity=\"0.466667\" stroke=\"black\" stroke-width=\"0\" points=\"722.21,-411.48 627.21,-411.48 627.21,-358.48 722.21,-358.48 722.21,-411.48\"/>\n",
       "<text text-anchor=\"middle\" x=\"674.71\" y=\"-396.28\" font-family=\"Times,serif\" font-size=\"14.00\">add (11051)</text>\n",
       "<text text-anchor=\"middle\" x=\"674.71\" y=\"-381.28\" font-family=\"Times,serif\" font-size=\"14.00\">State: finished</text>\n",
       "<text text-anchor=\"middle\" x=\"674.71\" y=\"-366.28\" font-family=\"Times,serif\" font-size=\"14.00\">Exit Code: 0</text>\n",
       "</g>\n",
       "<!-- N11050&#45;&gt;N11051 -->\n",
       "<g id=\"edge8\" class=\"edge\">\n",
       "<title>N11050&#45;&gt;N11051</title>\n",
       "<path fill=\"none\" stroke=\"#000000\" stroke-dasharray=\"1,5\" d=\"M686.51,-474.59C682.58,-469.97 679.13,-464.9 676.71,-459.48 671.62,-448.09 670.13,-434.68 670.22,-422.45\"/>\n",
       "<polygon fill=\"#000000\" stroke=\"#000000\" points=\"673.71,-422.86 670.67,-412.71 666.72,-422.54 673.71,-422.86\"/>\n",
       "<text text-anchor=\"middle\" x=\"716.21\" y=\"-448.28\" font-family=\"Times,serif\" font-size=\"14.00\">CALL_CALC</text>\n",
       "<text text-anchor=\"middle\" x=\"716.21\" y=\"-433.28\" font-family=\"Times,serif\" font-size=\"14.00\">add2</text>\n",
       "</g>\n",
       "<!-- N11053 -->\n",
       "<g id=\"node7\" class=\"node\">\n",
       "<title>N11053</title>\n",
       "<polygon fill=\"#de707f\" fill-opacity=\"0.466667\" stroke=\"black\" stroke-width=\"0\" points=\"768.21,-172.74 673.21,-172.74 673.21,-119.74 768.21,-119.74 768.21,-172.74\"/>\n",
       "<text text-anchor=\"middle\" x=\"720.71\" y=\"-157.54\" font-family=\"Times,serif\" font-size=\"14.00\">add (11053)</text>\n",
       "<text text-anchor=\"middle\" x=\"720.71\" y=\"-142.54\" font-family=\"Times,serif\" font-size=\"14.00\">State: finished</text>\n",
       "<text text-anchor=\"middle\" x=\"720.71\" y=\"-127.54\" font-family=\"Times,serif\" font-size=\"14.00\">Exit Code: 0</text>\n",
       "</g>\n",
       "<!-- N11050&#45;&gt;N11053 -->\n",
       "<g id=\"edge11\" class=\"edge\">\n",
       "<title>N11050&#45;&gt;N11053</title>\n",
       "<path fill=\"none\" stroke=\"#000000\" stroke-dasharray=\"1,5\" d=\"M748.25,-474.52C751.31,-469.77 753.96,-464.69 755.71,-459.48 793.79,-346.27 795.4,-303.39 755.71,-190.74 754.69,-187.84 753.38,-184.99 751.88,-182.23\"/>\n",
       "<polygon fill=\"#000000\" stroke=\"#000000\" points=\"754.88,-180.43 746.54,-173.9 748.99,-184.21 754.88,-180.43\"/>\n",
       "<text text-anchor=\"middle\" x=\"825.21\" y=\"-329.28\" font-family=\"Times,serif\" font-size=\"14.00\">CALL_CALC</text>\n",
       "<text text-anchor=\"middle\" x=\"825.21\" y=\"-314.28\" font-family=\"Times,serif\" font-size=\"14.00\">add3</text>\n",
       "</g>\n",
       "<!-- N11040 -->\n",
       "<g id=\"node2\" class=\"node\">\n",
       "<title>N11040</title>\n",
       "<ellipse fill=\"#8cd499\" stroke=\"black\" stroke-width=\"0\" cx=\"292.71\" cy=\"-623.35\" rx=\"55.31\" ry=\"26.74\"/>\n",
       "<text text-anchor=\"middle\" x=\"292.71\" y=\"-627.15\" font-family=\"Times,serif\" font-size=\"14.00\">Int (11040)</text>\n",
       "<text text-anchor=\"middle\" x=\"292.71\" y=\"-612.15\" font-family=\"Times,serif\" font-size=\"14.00\">value: 2</text>\n",
       "</g>\n",
       "<!-- N11040&#45;&gt;N11050 -->\n",
       "<g id=\"edge2\" class=\"edge\">\n",
       "<title>N11040&#45;&gt;N11050</title>\n",
       "<path fill=\"none\" stroke=\"#000000\" stroke-dasharray=\"5,2\" d=\"M237.66,-622.07C163.08,-620.39 35.87,-612.45 6.71,-578.48 -1.97,-568.36 -2.43,-558.19 6.71,-548.48 26.67,-527.27 399.98,-513.82 599.43,-508.13\"/>\n",
       "<polygon fill=\"#000000\" stroke=\"#000000\" points=\"599.43,-511.63 609.33,-507.85 599.24,-504.63 599.43,-511.63\"/>\n",
       "<text text-anchor=\"middle\" x=\"138.71\" y=\"-567.28\" font-family=\"Times,serif\" font-size=\"14.00\">INPUT_WORK</text>\n",
       "<text text-anchor=\"middle\" x=\"138.71\" y=\"-552.28\" font-family=\"Times,serif\" font-size=\"14.00\">workgraph__nodes__add1__properties__x__value</text>\n",
       "</g>\n",
       "<!-- N11040&#45;&gt;N11050 -->\n",
       "<g id=\"edge4\" class=\"edge\">\n",
       "<title>N11040&#45;&gt;N11050</title>\n",
       "<path fill=\"none\" stroke=\"#000000\" stroke-dasharray=\"5,2\" d=\"M285.33,-597C282.38,-581.09 282.02,-561.25 293.71,-548.48 314.16,-526.15 480.1,-514.67 599.47,-509.25\"/>\n",
       "<polygon fill=\"#000000\" stroke=\"#000000\" points=\"599.52,-512.75 609.35,-508.81 599.21,-505.76 599.52,-512.75\"/>\n",
       "<text text-anchor=\"middle\" x=\"425.71\" y=\"-567.28\" font-family=\"Times,serif\" font-size=\"14.00\">INPUT_WORK</text>\n",
       "<text text-anchor=\"middle\" x=\"425.71\" y=\"-552.28\" font-family=\"Times,serif\" font-size=\"14.00\">workgraph__nodes__add3__properties__x__value</text>\n",
       "</g>\n",
       "<!-- N11040&#45;&gt;N11050 -->\n",
       "<g id=\"edge5\" class=\"edge\">\n",
       "<title>N11040&#45;&gt;N11050</title>\n",
       "<path fill=\"none\" stroke=\"#000000\" stroke-dasharray=\"5,2\" d=\"M347.03,-618.58C414.25,-613.03 523.99,-600.82 557.71,-578.48 570.87,-569.76 564.13,-558.01 576.71,-548.48 584.14,-542.86 592.29,-537.96 600.81,-533.69\"/>\n",
       "<polygon fill=\"#000000\" stroke=\"#000000\" points=\"602.01,-536.99 609.61,-529.61 599.06,-530.65 602.01,-536.99\"/>\n",
       "<text text-anchor=\"middle\" x=\"708.71\" y=\"-567.28\" font-family=\"Times,serif\" font-size=\"14.00\">INPUT_WORK</text>\n",
       "<text text-anchor=\"middle\" x=\"708.71\" y=\"-552.28\" font-family=\"Times,serif\" font-size=\"14.00\">workgraph__nodes__add2__properties__x__value</text>\n",
       "</g>\n",
       "<!-- N11041 -->\n",
       "<g id=\"node3\" class=\"node\">\n",
       "<title>N11041</title>\n",
       "<ellipse fill=\"#8cd499\" stroke=\"black\" stroke-width=\"0\" cx=\"1009.71\" cy=\"-623.35\" rx=\"55.31\" ry=\"26.74\"/>\n",
       "<text text-anchor=\"middle\" x=\"1009.71\" y=\"-627.15\" font-family=\"Times,serif\" font-size=\"14.00\">Int (11041)</text>\n",
       "<text text-anchor=\"middle\" x=\"1009.71\" y=\"-612.15\" font-family=\"Times,serif\" font-size=\"14.00\">value: 3</text>\n",
       "</g>\n",
       "<!-- N11041&#45;&gt;N11050 -->\n",
       "<g id=\"edge1\" class=\"edge\">\n",
       "<title>N11041&#45;&gt;N11050</title>\n",
       "<path fill=\"none\" stroke=\"#000000\" stroke-dasharray=\"5,2\" d=\"M957.69,-614.27C929.21,-607.97 894.39,-597.06 867.71,-578.48 853.92,-568.88 858.29,-558.37 844.71,-548.48 839.83,-544.92 834.62,-541.63 829.22,-538.59\"/>\n",
       "<polygon fill=\"#000000\" stroke=\"#000000\" points=\"831.13,-535.64 820.65,-534.09 827.88,-541.84 831.13,-535.64\"/>\n",
       "<text text-anchor=\"middle\" x=\"999.71\" y=\"-567.28\" font-family=\"Times,serif\" font-size=\"14.00\">INPUT_WORK</text>\n",
       "<text text-anchor=\"middle\" x=\"999.71\" y=\"-552.28\" font-family=\"Times,serif\" font-size=\"14.00\">workgraph__nodes__add3__properties__y__value</text>\n",
       "</g>\n",
       "<!-- N11041&#45;&gt;N11050 -->\n",
       "<g id=\"edge6\" class=\"edge\">\n",
       "<title>N11041&#45;&gt;N11050</title>\n",
       "<path fill=\"none\" stroke=\"#000000\" stroke-dasharray=\"5,2\" d=\"M1059.07,-611.52C1103.58,-599.56 1158.28,-578.03 1131.71,-548.48 1112.71,-527.35 959.17,-515.68 845.77,-509.87\"/>\n",
       "<polygon fill=\"#000000\" stroke=\"#000000\" points=\"846.26,-506.39 836.1,-509.39 845.91,-513.38 846.26,-506.39\"/>\n",
       "<text text-anchor=\"middle\" x=\"1270.71\" y=\"-567.28\" font-family=\"Times,serif\" font-size=\"14.00\">INPUT_WORK</text>\n",
       "<text text-anchor=\"middle\" x=\"1270.71\" y=\"-552.28\" font-family=\"Times,serif\" font-size=\"14.00\">workgraph__nodes__add1__properties__y__value</text>\n",
       "</g>\n",
       "<!-- N11049 -->\n",
       "<g id=\"node4\" class=\"node\">\n",
       "<title>N11049</title>\n",
       "<ellipse fill=\"#8cd499\" stroke=\"black\" stroke-width=\"0\" cx=\"1440.71\" cy=\"-623.35\" rx=\"55.31\" ry=\"26.74\"/>\n",
       "<text text-anchor=\"middle\" x=\"1440.71\" y=\"-627.15\" font-family=\"Times,serif\" font-size=\"14.00\">Int (11049)</text>\n",
       "<text text-anchor=\"middle\" x=\"1440.71\" y=\"-612.15\" font-family=\"Times,serif\" font-size=\"14.00\">value: 10</text>\n",
       "</g>\n",
       "<!-- N11049&#45;&gt;N11050 -->\n",
       "<g id=\"edge3\" class=\"edge\">\n",
       "<title>N11049&#45;&gt;N11050</title>\n",
       "<path fill=\"none\" stroke=\"#000000\" stroke-dasharray=\"5,2\" d=\"M1435.94,-596.76C1431.4,-580.11 1422.78,-559.5 1406.71,-548.48 1361.76,-517.63 1030.55,-508.66 846.03,-506.05\"/>\n",
       "<polygon fill=\"#000000\" stroke=\"#000000\" points=\"846.2,-502.55 836.15,-505.91 846.1,-509.55 846.2,-502.55\"/>\n",
       "<text text-anchor=\"middle\" x=\"1560.71\" y=\"-567.28\" font-family=\"Times,serif\" font-size=\"14.00\">INPUT_WORK</text>\n",
       "<text text-anchor=\"middle\" x=\"1560.71\" y=\"-552.28\" font-family=\"Times,serif\" font-size=\"14.00\">workgraph__nodes__add2__properties__y__value</text>\n",
       "</g>\n",
       "<!-- N11052 -->\n",
       "<g id=\"node6\" class=\"node\">\n",
       "<title>N11052</title>\n",
       "<ellipse fill=\"#8cd499\" stroke=\"black\" stroke-width=\"0\" cx=\"671.71\" cy=\"-265.61\" rx=\"55.31\" ry=\"26.74\"/>\n",
       "<text text-anchor=\"middle\" x=\"671.71\" y=\"-269.41\" font-family=\"Times,serif\" font-size=\"14.00\">Int (11052)</text>\n",
       "<text text-anchor=\"middle\" x=\"671.71\" y=\"-254.41\" font-family=\"Times,serif\" font-size=\"14.00\">value: 15</text>\n",
       "</g>\n",
       "<!-- N11051&#45;&gt;N11052 -->\n",
       "<g id=\"edge7\" class=\"edge\">\n",
       "<title>N11051&#45;&gt;N11052</title>\n",
       "<path fill=\"none\" stroke=\"#000000\" d=\"M674.06,-358.51C673.65,-342.44 673.11,-321.41 672.66,-303.53\"/>\n",
       "<polygon fill=\"#000000\" stroke=\"#000000\" points=\"676.15,-303.45 672.4,-293.54 669.16,-303.63 676.15,-303.45\"/>\n",
       "<text text-anchor=\"middle\" x=\"699.71\" y=\"-329.28\" font-family=\"Times,serif\" font-size=\"14.00\">CREATE</text>\n",
       "<text text-anchor=\"middle\" x=\"699.71\" y=\"-314.28\" font-family=\"Times,serif\" font-size=\"14.00\">result</text>\n",
       "</g>\n",
       "<!-- N11052&#45;&gt;N11053 -->\n",
       "<g id=\"edge9\" class=\"edge\">\n",
       "<title>N11052&#45;&gt;N11053</title>\n",
       "<path fill=\"none\" stroke=\"#000000\" d=\"M667.18,-239.24C665.7,-224.46 665.9,-205.82 672.71,-190.74 674.24,-187.36 676.17,-184.12 678.37,-181.06\"/>\n",
       "<polygon fill=\"#000000\" stroke=\"#000000\" points=\"680.95,-183.44 684.71,-173.54 675.59,-178.93 680.95,-183.44\"/>\n",
       "<text text-anchor=\"middle\" x=\"714.21\" y=\"-209.54\" font-family=\"Times,serif\" font-size=\"14.00\">INPUT_CALC</text>\n",
       "<text text-anchor=\"middle\" x=\"714.21\" y=\"-194.54\" font-family=\"Times,serif\" font-size=\"14.00\">x</text>\n",
       "</g>\n",
       "<!-- N11054 -->\n",
       "<g id=\"node8\" class=\"node\">\n",
       "<title>N11054</title>\n",
       "<ellipse fill=\"#8cd499\" stroke=\"black\" stroke-width=\"0\" cx=\"720.71\" cy=\"-26.87\" rx=\"55.31\" ry=\"26.74\"/>\n",
       "<text text-anchor=\"middle\" x=\"720.71\" y=\"-30.67\" font-family=\"Times,serif\" font-size=\"14.00\">Int (11054)</text>\n",
       "<text text-anchor=\"middle\" x=\"720.71\" y=\"-15.67\" font-family=\"Times,serif\" font-size=\"14.00\">value: 18</text>\n",
       "</g>\n",
       "<!-- N11053&#45;&gt;N11054 -->\n",
       "<g id=\"edge10\" class=\"edge\">\n",
       "<title>N11053&#45;&gt;N11054</title>\n",
       "<path fill=\"none\" stroke=\"#000000\" d=\"M720.71,-119.77C720.71,-103.7 720.71,-82.67 720.71,-64.79\"/>\n",
       "<polygon fill=\"#000000\" stroke=\"#000000\" points=\"724.21,-64.8 720.71,-54.8 717.21,-64.8 724.21,-64.8\"/>\n",
       "<text text-anchor=\"middle\" x=\"746.71\" y=\"-90.54\" font-family=\"Times,serif\" font-size=\"14.00\">CREATE</text>\n",
       "<text text-anchor=\"middle\" x=\"746.71\" y=\"-75.54\" font-family=\"Times,serif\" font-size=\"14.00\">result</text>\n",
       "</g>\n",
       "</g>\n",
       "</svg>\n"
      ],
      "text/plain": [
       "<graphviz.graphs.Digraph at 0x7f5ee8fa6fd0>"
      ]
     },
     "execution_count": 6,
     "metadata": {},
     "output_type": "execute_result"
    }
   ],
   "source": [
    "from aiida_workgraph.utils import generate_node_graph\n",
    "generate_node_graph(wg2.pk)"
   ]
  }
 ],
 "metadata": {
  "kernelspec": {
   "display_name": "Python 3.10.4 ('scinode')",
   "language": "python",
   "name": "python3"
  },
  "language_info": {
   "codemirror_mode": {
    "name": "ipython",
    "version": 3
   },
   "file_extension": ".py",
   "mimetype": "text/x-python",
   "name": "python",
   "nbconvert_exporter": "python",
   "pygments_lexer": "ipython3",
   "version": "3.9.13"
  },
  "vscode": {
   "interpreter": {
    "hash": "2f450c1ff08798c4974437dd057310afef0de414c25d1fd960ad375311c3f6ff"
   }
  }
 },
 "nbformat": 4,
 "nbformat_minor": 5
}
