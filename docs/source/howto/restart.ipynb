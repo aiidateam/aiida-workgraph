{
 "cells": [
  {
   "cell_type": "markdown",
   "id": "22d177dc-6cfb-4de2-9509-f1eb45e10cf2",
   "metadata": {},
   "source": [
    "# How to save and restart a WorkTree"
   ]
  },
  {
   "cell_type": "markdown",
   "id": "58696c91",
   "metadata": {},
   "source": [
    "## Introduction\n",
    "`WorkTree` supports save and load a WorkTree and modify the workflow, then submit the job again. WorkTree save its data as a extra attribute into its process, so that one can rebuild the WorkTree from the process.\n",
    "\n",
    "Load the AiiDA profile."
   ]
  },
  {
   "cell_type": "code",
   "execution_count": 1,
   "id": "c6b83fb5",
   "metadata": {},
   "outputs": [
    {
     "name": "stdout",
     "output_type": "stream",
     "text": [
      "\u001b[93m\u001b[1mWarning\u001b[0m: \u001b[22mYou are currently using a post release development version of AiiDA: 2.4.0.post0\u001b[0m\n",
      "\u001b[93m\u001b[1mWarning\u001b[0m: \u001b[22mBe aware that this is not recommended for production and is not officially supported.\u001b[0m\n",
      "\u001b[93m\u001b[1mWarning\u001b[0m: \u001b[22mDatabases used with this version may not be compatible with future releases of AiiDA\u001b[0m\n",
      "\u001b[93m\u001b[1mWarning\u001b[0m: \u001b[22mas you might not be able to automatically migrate your data.\n",
      "\u001b[0m\n"
     ]
    },
    {
     "data": {
      "text/plain": [
       "Profile<uuid='10014391ebf5492db57a6edfea62c68e' name='default'>"
      ]
     },
     "execution_count": 1,
     "metadata": {},
     "output_type": "execute_result"
    }
   ],
   "source": [
    "%load_ext aiida\n",
    "from aiida import load_profile\n",
    "load_profile()"
   ]
  },
  {
   "cell_type": "markdown",
   "id": "0f46d277",
   "metadata": {},
   "source": [
    "## Create a WorkTree"
   ]
  },
  {
   "cell_type": "code",
   "execution_count": 18,
   "id": "ece10d89",
   "metadata": {},
   "outputs": [
    {
     "name": "stdout",
     "output_type": "stream",
     "text": [
      "WorkTree node crated, PK: 5828\n",
      "exist_in_db: False\n"
     ]
    }
   ],
   "source": [
    "from aiida_worktree import node\n",
    "from aiida.engine import calcfunction\n",
    "\n",
    "# define add node\n",
    "@node()\n",
    "@calcfunction\n",
    "def add(x, y):\n",
    "    return x + y\n",
    "\n",
    "from aiida_worktree import WorkTree\n",
    "from aiida.orm import Int\n",
    "x = Int(2.0)\n",
    "y = Int(3.0)\n",
    "z = Int(4.0)\n",
    "\n",
    "wt = WorkTree(\"first_workflow\")\n",
    "wt.nodes.new(add, name=\"add1\", x=x, y=y)\n",
    "wt.nodes.new(add, name=\"add2\", x=x, y=y)\n",
    "wt.nodes.new(add, name=\"add3\", x=x, y=y)\n",
    "wt.links.new(wt.nodes[\"add1\"].outputs[0], wt.nodes[\"add2\"].inputs[\"x\"])\n",
    "wt.links.new(wt.nodes[\"add2\"].outputs[0], wt.nodes[\"add3\"].inputs[\"x\"])\n",
    "\n",
    "wt.submit(wait=True)"
   ]
  },
  {
   "cell_type": "markdown",
   "metadata": {},
   "source": [
    "Check the state and pk of the worktree:"
   ]
  },
  {
   "cell_type": "code",
   "execution_count": 19,
   "metadata": {},
   "outputs": [
    {
     "name": "stdout",
     "output_type": "stream",
     "text": [
      "\u001b[93m\u001b[1mWarning\u001b[0m: \u001b[22mYou are currently using a post release development version of AiiDA: 2.4.0.post0\u001b[0m\n",
      "\u001b[93m\u001b[1mWarning\u001b[0m: \u001b[22mBe aware that this is not recommended for production and is not officially supported.\u001b[0m\n",
      "\u001b[93m\u001b[1mWarning\u001b[0m: \u001b[22mDatabases used with this version may not be compatible with future releases of AiiDA\u001b[0m\n",
      "\u001b[93m\u001b[1mWarning\u001b[0m: \u001b[22mas you might not be able to automatically migrate your data.\n",
      "\u001b[0m\n",
      "\u001b[22mWorkTree: first_workflow<5828> Finished [0]\n",
      "    ├── add<5829> Finished [0]\n",
      "    ├── add<5831> Finished [0]\n",
      "    └── add<5833> Finished [0]\u001b[0m\n",
      "Result of add3      : 11\n"
     ]
    }
   ],
   "source": [
    "!verdi process status {wt.process.pk}\n",
    "print('Result of add3      : {}'.format(wt.nodes[\"add3\"].node.outputs.result.value))"
   ]
  },
  {
   "cell_type": "markdown",
   "id": "51f3b8d1",
   "metadata": {},
   "source": [
    "## Load the WorkTree and restart\n",
    "Now, we modify the `add2` node, and re-submit the worktree. Use the `load` method to load a WorkTree from a process, then use the `restart` flag to restart the workflow"
   ]
  },
  {
   "cell_type": "code",
   "execution_count": 20,
   "id": "4f8bf5c3",
   "metadata": {},
   "outputs": [
    {
     "name": "stdout",
     "output_type": "stream",
     "text": [
      "WorkTree node crated, PK: 5836\n",
      "exist_in_db: False\n",
      "key y changes\n",
      "modified_nodes: {'add2'}\n"
     ]
    }
   ],
   "source": [
    "from aiida_worktree import WorkTree\n",
    "wt2 = WorkTree.load(wt.pk)\n",
    "wt2.name = \"restart_workflow\"\n",
    "wt2.nodes[\"add2\"].set({\"y\": Int(10).store()})\n",
    "# use the `restart` flag to restart the workflow\n",
    "wt2.submit(wait=True, restart=True)"
   ]
  },
  {
   "cell_type": "markdown",
   "id": "ea0ee6b0",
   "metadata": {},
   "source": [
    "### Check status and results\n",
    "Since we only modify the `add2` node, so the `add2` and its child node `add3` will re-run."
   ]
  },
  {
   "cell_type": "code",
   "execution_count": 21,
   "id": "fdb3d16e",
   "metadata": {},
   "outputs": [
    {
     "name": "stdout",
     "output_type": "stream",
     "text": [
      "\u001b[93m\u001b[1mWarning\u001b[0m: \u001b[22mYou are currently using a post release development version of AiiDA: 2.4.0.post0\u001b[0m\n",
      "\u001b[93m\u001b[1mWarning\u001b[0m: \u001b[22mBe aware that this is not recommended for production and is not officially supported.\u001b[0m\n",
      "\u001b[93m\u001b[1mWarning\u001b[0m: \u001b[22mDatabases used with this version may not be compatible with future releases of AiiDA\u001b[0m\n",
      "\u001b[93m\u001b[1mWarning\u001b[0m: \u001b[22mas you might not be able to automatically migrate your data.\n",
      "\u001b[0m\n",
      "\u001b[22mWorkTree: restart_workflow<5836> Finished [0]\n",
      "    ├── add<5837> Finished [0]\n",
      "    └── add<5839> Finished [0]\u001b[0m\n",
      "Result of add3      : 18\n"
     ]
    }
   ],
   "source": [
    "!verdi process status {wt2.process.pk}\n",
    "print('Result of add3      : {}'.format(wt2.nodes[\"add3\"].node.outputs.result.value))"
   ]
  },
  {
   "cell_type": "markdown",
   "id": "addf94b0",
   "metadata": {},
   "source": [
    "Generate node graph from the AiiDA process:"
   ]
  },
  {
   "cell_type": "code",
   "execution_count": 22,
   "id": "6c83c650",
   "metadata": {},
   "outputs": [
    {
     "data": {
      "image/svg+xml": [
       "<?xml version=\"1.0\" encoding=\"UTF-8\" standalone=\"no\"?>\n",
       "<!DOCTYPE svg PUBLIC \"-//W3C//DTD SVG 1.1//EN\"\n",
       " \"http://www.w3.org/Graphics/SVG/1.1/DTD/svg11.dtd\">\n",
       "<!-- Generated by graphviz version 7.1.0 (20230122.1345)\n",
       " -->\n",
       "<!-- Pages: 1 -->\n",
       "<svg width=\"1701pt\" height=\"658pt\"\n",
       " viewBox=\"0.00 0.00 1700.71 658.22\" xmlns=\"http://www.w3.org/2000/svg\" xmlns:xlink=\"http://www.w3.org/1999/xlink\">\n",
       "<g id=\"graph0\" class=\"graph\" transform=\"scale(1 1) rotate(0) translate(4 654.22)\">\n",
       "<polygon fill=\"white\" stroke=\"none\" points=\"-4,4 -4,-654.22 1696.71,-654.22 1696.71,4 -4,4\"/>\n",
       "<!-- N5836 -->\n",
       "<g id=\"node1\" class=\"node\">\n",
       "<title>N5836</title>\n",
       "<polygon fill=\"#e38851\" stroke=\"red\" stroke-width=\"6\" points=\"828.71,-530.48 616.71,-530.48 616.71,-477.48 828.71,-477.48 828.71,-530.48\"/>\n",
       "<text text-anchor=\"middle\" x=\"722.71\" y=\"-515.28\" font-family=\"Times,serif\" font-size=\"14.00\">WorkTree: restart_workflow (5836)</text>\n",
       "<text text-anchor=\"middle\" x=\"722.71\" y=\"-500.28\" font-family=\"Times,serif\" font-size=\"14.00\">State: finished</text>\n",
       "<text text-anchor=\"middle\" x=\"722.71\" y=\"-485.28\" font-family=\"Times,serif\" font-size=\"14.00\">Exit Code: 0</text>\n",
       "</g>\n",
       "<!-- N5837 -->\n",
       "<g id=\"node5\" class=\"node\">\n",
       "<title>N5837</title>\n",
       "<polygon fill=\"#de707f\" fill-opacity=\"0.466667\" stroke=\"black\" stroke-width=\"0\" points=\"722.21,-411.48 627.21,-411.48 627.21,-358.48 722.21,-358.48 722.21,-411.48\"/>\n",
       "<text text-anchor=\"middle\" x=\"674.71\" y=\"-396.28\" font-family=\"Times,serif\" font-size=\"14.00\">add (5837)</text>\n",
       "<text text-anchor=\"middle\" x=\"674.71\" y=\"-381.28\" font-family=\"Times,serif\" font-size=\"14.00\">State: finished</text>\n",
       "<text text-anchor=\"middle\" x=\"674.71\" y=\"-366.28\" font-family=\"Times,serif\" font-size=\"14.00\">Exit Code: 0</text>\n",
       "</g>\n",
       "<!-- N5836&#45;&gt;N5837 -->\n",
       "<g id=\"edge7\" class=\"edge\">\n",
       "<title>N5836&#45;&gt;N5837</title>\n",
       "<path fill=\"none\" stroke=\"#000000\" stroke-dasharray=\"1,5\" d=\"M686.51,-474.59C682.58,-469.97 679.13,-464.9 676.71,-459.48 671.62,-448.09 670.13,-434.68 670.22,-422.45\"/>\n",
       "<polygon fill=\"#000000\" stroke=\"#000000\" points=\"673.71,-422.86 670.67,-412.71 666.72,-422.54 673.71,-422.86\"/>\n",
       "<text text-anchor=\"middle\" x=\"716.21\" y=\"-448.28\" font-family=\"Times,serif\" font-size=\"14.00\">CALL_CALC</text>\n",
       "<text text-anchor=\"middle\" x=\"716.21\" y=\"-433.28\" font-family=\"Times,serif\" font-size=\"14.00\">add2</text>\n",
       "</g>\n",
       "<!-- N5839 -->\n",
       "<g id=\"node7\" class=\"node\">\n",
       "<title>N5839</title>\n",
       "<polygon fill=\"#de707f\" fill-opacity=\"0.466667\" stroke=\"black\" stroke-width=\"0\" points=\"768.21,-172.74 673.21,-172.74 673.21,-119.74 768.21,-119.74 768.21,-172.74\"/>\n",
       "<text text-anchor=\"middle\" x=\"720.71\" y=\"-157.54\" font-family=\"Times,serif\" font-size=\"14.00\">add (5839)</text>\n",
       "<text text-anchor=\"middle\" x=\"720.71\" y=\"-142.54\" font-family=\"Times,serif\" font-size=\"14.00\">State: finished</text>\n",
       "<text text-anchor=\"middle\" x=\"720.71\" y=\"-127.54\" font-family=\"Times,serif\" font-size=\"14.00\">Exit Code: 0</text>\n",
       "</g>\n",
       "<!-- N5836&#45;&gt;N5839 -->\n",
       "<g id=\"edge11\" class=\"edge\">\n",
       "<title>N5836&#45;&gt;N5839</title>\n",
       "<path fill=\"none\" stroke=\"#000000\" stroke-dasharray=\"1,5\" d=\"M748.25,-474.52C751.31,-469.77 753.96,-464.69 755.71,-459.48 793.79,-346.27 795.4,-303.39 755.71,-190.74 754.69,-187.84 753.38,-184.99 751.88,-182.23\"/>\n",
       "<polygon fill=\"#000000\" stroke=\"#000000\" points=\"754.88,-180.43 746.54,-173.9 748.99,-184.21 754.88,-180.43\"/>\n",
       "<text text-anchor=\"middle\" x=\"825.21\" y=\"-329.28\" font-family=\"Times,serif\" font-size=\"14.00\">CALL_CALC</text>\n",
       "<text text-anchor=\"middle\" x=\"825.21\" y=\"-314.28\" font-family=\"Times,serif\" font-size=\"14.00\">add3</text>\n",
       "</g>\n",
       "<!-- N5826 -->\n",
       "<g id=\"node2\" class=\"node\">\n",
       "<title>N5826</title>\n",
       "<ellipse fill=\"#8cd499\" stroke=\"black\" stroke-width=\"0\" cx=\"292.71\" cy=\"-623.35\" rx=\"50.41\" ry=\"26.74\"/>\n",
       "<text text-anchor=\"middle\" x=\"292.71\" y=\"-627.15\" font-family=\"Times,serif\" font-size=\"14.00\">Int (5826)</text>\n",
       "<text text-anchor=\"middle\" x=\"292.71\" y=\"-612.15\" font-family=\"Times,serif\" font-size=\"14.00\">value: 2</text>\n",
       "</g>\n",
       "<!-- N5826&#45;&gt;N5836 -->\n",
       "<g id=\"edge3\" class=\"edge\">\n",
       "<title>N5826&#45;&gt;N5836</title>\n",
       "<path fill=\"none\" stroke=\"#000000\" stroke-dasharray=\"5,2\" d=\"M242.6,-622.17C168.84,-620.73 36.52,-613.22 6.71,-578.48 -1.97,-568.36 -2.43,-558.19 6.71,-548.48 26.78,-527.16 403.91,-513.68 602.55,-508.04\"/>\n",
       "<polygon fill=\"#000000\" stroke=\"#000000\" points=\"602.5,-511.54 612.4,-507.76 602.31,-504.54 602.5,-511.54\"/>\n",
       "<text text-anchor=\"middle\" x=\"138.71\" y=\"-567.28\" font-family=\"Times,serif\" font-size=\"14.00\">INPUT_WORK</text>\n",
       "<text text-anchor=\"middle\" x=\"138.71\" y=\"-552.28\" font-family=\"Times,serif\" font-size=\"14.00\">worktree__nodes__add2__properties__x__value</text>\n",
       "</g>\n",
       "<!-- N5826&#45;&gt;N5836 -->\n",
       "<g id=\"edge4\" class=\"edge\">\n",
       "<title>N5826&#45;&gt;N5836</title>\n",
       "<path fill=\"none\" stroke=\"#000000\" stroke-dasharray=\"5,2\" d=\"M285.33,-597C282.38,-581.09 282.02,-561.25 293.71,-548.48 314.33,-525.97 482.84,-514.49 602.41,-509.11\"/>\n",
       "<polygon fill=\"#000000\" stroke=\"#000000\" points=\"602.47,-512.62 612.3,-508.68 602.16,-505.62 602.47,-512.62\"/>\n",
       "<text text-anchor=\"middle\" x=\"425.71\" y=\"-567.28\" font-family=\"Times,serif\" font-size=\"14.00\">INPUT_WORK</text>\n",
       "<text text-anchor=\"middle\" x=\"425.71\" y=\"-552.28\" font-family=\"Times,serif\" font-size=\"14.00\">worktree__nodes__add3__properties__x__value</text>\n",
       "</g>\n",
       "<!-- N5826&#45;&gt;N5836 -->\n",
       "<g id=\"edge6\" class=\"edge\">\n",
       "<title>N5826&#45;&gt;N5836</title>\n",
       "<path fill=\"none\" stroke=\"#000000\" stroke-dasharray=\"5,2\" d=\"M342.17,-618.98C408.83,-613.62 523.16,-601.37 557.71,-578.48 570.87,-569.76 564.13,-558.01 576.71,-548.48 584.92,-542.27 594.01,-536.94 603.52,-532.37\"/>\n",
       "<polygon fill=\"#000000\" stroke=\"#000000\" points=\"604.89,-535.59 612.6,-528.32 602.04,-529.19 604.89,-535.59\"/>\n",
       "<text text-anchor=\"middle\" x=\"708.71\" y=\"-567.28\" font-family=\"Times,serif\" font-size=\"14.00\">INPUT_WORK</text>\n",
       "<text text-anchor=\"middle\" x=\"708.71\" y=\"-552.28\" font-family=\"Times,serif\" font-size=\"14.00\">worktree__nodes__add1__properties__x__value</text>\n",
       "</g>\n",
       "<!-- N5827 -->\n",
       "<g id=\"node3\" class=\"node\">\n",
       "<title>N5827</title>\n",
       "<ellipse fill=\"#8cd499\" stroke=\"black\" stroke-width=\"0\" cx=\"1009.71\" cy=\"-623.35\" rx=\"50.41\" ry=\"26.74\"/>\n",
       "<text text-anchor=\"middle\" x=\"1009.71\" y=\"-627.15\" font-family=\"Times,serif\" font-size=\"14.00\">Int (5827)</text>\n",
       "<text text-anchor=\"middle\" x=\"1009.71\" y=\"-612.15\" font-family=\"Times,serif\" font-size=\"14.00\">value: 3</text>\n",
       "</g>\n",
       "<!-- N5827&#45;&gt;N5836 -->\n",
       "<g id=\"edge2\" class=\"edge\">\n",
       "<title>N5827&#45;&gt;N5836</title>\n",
       "<path fill=\"none\" stroke=\"#000000\" stroke-dasharray=\"5,2\" d=\"M962.04,-615.21C932.82,-609.08 895.77,-598.01 867.71,-578.48 853.92,-568.88 858.29,-558.37 844.71,-548.48 839.83,-544.92 834.62,-541.63 829.22,-538.59\"/>\n",
       "<polygon fill=\"#000000\" stroke=\"#000000\" points=\"831.13,-535.64 820.65,-534.09 827.88,-541.84 831.13,-535.64\"/>\n",
       "<text text-anchor=\"middle\" x=\"999.71\" y=\"-567.28\" font-family=\"Times,serif\" font-size=\"14.00\">INPUT_WORK</text>\n",
       "<text text-anchor=\"middle\" x=\"999.71\" y=\"-552.28\" font-family=\"Times,serif\" font-size=\"14.00\">worktree__nodes__add3__properties__y__value</text>\n",
       "</g>\n",
       "<!-- N5827&#45;&gt;N5836 -->\n",
       "<g id=\"edge5\" class=\"edge\">\n",
       "<title>N5827&#45;&gt;N5836</title>\n",
       "<path fill=\"none\" stroke=\"#000000\" stroke-dasharray=\"5,2\" d=\"M1055.35,-612.5C1100.45,-600.76 1159.03,-578.86 1131.71,-548.48 1112.53,-527.16 956.36,-515.46 842.68,-509.71\"/>\n",
       "<polygon fill=\"#000000\" stroke=\"#000000\" points=\"843.15,-506.23 832.98,-509.23 842.8,-513.22 843.15,-506.23\"/>\n",
       "<text text-anchor=\"middle\" x=\"1270.71\" y=\"-567.28\" font-family=\"Times,serif\" font-size=\"14.00\">INPUT_WORK</text>\n",
       "<text text-anchor=\"middle\" x=\"1270.71\" y=\"-552.28\" font-family=\"Times,serif\" font-size=\"14.00\">worktree__nodes__add1__properties__y__value</text>\n",
       "</g>\n",
       "<!-- N5835 -->\n",
       "<g id=\"node4\" class=\"node\">\n",
       "<title>N5835</title>\n",
       "<ellipse fill=\"#8cd499\" stroke=\"black\" stroke-width=\"0\" cx=\"1440.71\" cy=\"-623.35\" rx=\"50.41\" ry=\"26.74\"/>\n",
       "<text text-anchor=\"middle\" x=\"1440.71\" y=\"-627.15\" font-family=\"Times,serif\" font-size=\"14.00\">Int (5835)</text>\n",
       "<text text-anchor=\"middle\" x=\"1440.71\" y=\"-612.15\" font-family=\"Times,serif\" font-size=\"14.00\">value: 10</text>\n",
       "</g>\n",
       "<!-- N5835&#45;&gt;N5836 -->\n",
       "<g id=\"edge1\" class=\"edge\">\n",
       "<title>N5835&#45;&gt;N5836</title>\n",
       "<path fill=\"none\" stroke=\"#000000\" stroke-dasharray=\"5,2\" d=\"M1435.94,-596.76C1431.4,-580.11 1422.78,-559.5 1406.71,-548.48 1361.49,-517.44 1026.56,-508.55 842.72,-506\"/>\n",
       "<polygon fill=\"#000000\" stroke=\"#000000\" points=\"842.93,-502.5 832.89,-505.87 842.84,-509.5 842.93,-502.5\"/>\n",
       "<text text-anchor=\"middle\" x=\"1560.71\" y=\"-567.28\" font-family=\"Times,serif\" font-size=\"14.00\">INPUT_WORK</text>\n",
       "<text text-anchor=\"middle\" x=\"1560.71\" y=\"-552.28\" font-family=\"Times,serif\" font-size=\"14.00\">worktree__nodes__add2__properties__y__value</text>\n",
       "</g>\n",
       "<!-- N5838 -->\n",
       "<g id=\"node6\" class=\"node\">\n",
       "<title>N5838</title>\n",
       "<ellipse fill=\"#8cd499\" stroke=\"black\" stroke-width=\"0\" cx=\"671.71\" cy=\"-265.61\" rx=\"50.41\" ry=\"26.74\"/>\n",
       "<text text-anchor=\"middle\" x=\"671.71\" y=\"-269.41\" font-family=\"Times,serif\" font-size=\"14.00\">Int (5838)</text>\n",
       "<text text-anchor=\"middle\" x=\"671.71\" y=\"-254.41\" font-family=\"Times,serif\" font-size=\"14.00\">value: 15</text>\n",
       "</g>\n",
       "<!-- N5837&#45;&gt;N5838 -->\n",
       "<g id=\"edge8\" class=\"edge\">\n",
       "<title>N5837&#45;&gt;N5838</title>\n",
       "<path fill=\"none\" stroke=\"#000000\" d=\"M674.06,-358.51C673.65,-342.44 673.11,-321.41 672.66,-303.53\"/>\n",
       "<polygon fill=\"#000000\" stroke=\"#000000\" points=\"676.15,-303.45 672.4,-293.54 669.16,-303.63 676.15,-303.45\"/>\n",
       "<text text-anchor=\"middle\" x=\"699.71\" y=\"-329.28\" font-family=\"Times,serif\" font-size=\"14.00\">CREATE</text>\n",
       "<text text-anchor=\"middle\" x=\"699.71\" y=\"-314.28\" font-family=\"Times,serif\" font-size=\"14.00\">result</text>\n",
       "</g>\n",
       "<!-- N5838&#45;&gt;N5839 -->\n",
       "<g id=\"edge10\" class=\"edge\">\n",
       "<title>N5838&#45;&gt;N5839</title>\n",
       "<path fill=\"none\" stroke=\"#000000\" d=\"M667.18,-239.24C665.7,-224.46 665.9,-205.82 672.71,-190.74 674.24,-187.36 676.17,-184.12 678.37,-181.06\"/>\n",
       "<polygon fill=\"#000000\" stroke=\"#000000\" points=\"680.95,-183.44 684.71,-173.54 675.59,-178.93 680.95,-183.44\"/>\n",
       "<text text-anchor=\"middle\" x=\"714.21\" y=\"-209.54\" font-family=\"Times,serif\" font-size=\"14.00\">INPUT_CALC</text>\n",
       "<text text-anchor=\"middle\" x=\"714.21\" y=\"-194.54\" font-family=\"Times,serif\" font-size=\"14.00\">x</text>\n",
       "</g>\n",
       "<!-- N5840 -->\n",
       "<g id=\"node8\" class=\"node\">\n",
       "<title>N5840</title>\n",
       "<ellipse fill=\"#8cd499\" stroke=\"black\" stroke-width=\"0\" cx=\"720.71\" cy=\"-26.87\" rx=\"50.41\" ry=\"26.74\"/>\n",
       "<text text-anchor=\"middle\" x=\"720.71\" y=\"-30.67\" font-family=\"Times,serif\" font-size=\"14.00\">Int (5840)</text>\n",
       "<text text-anchor=\"middle\" x=\"720.71\" y=\"-15.67\" font-family=\"Times,serif\" font-size=\"14.00\">value: 18</text>\n",
       "</g>\n",
       "<!-- N5839&#45;&gt;N5840 -->\n",
       "<g id=\"edge9\" class=\"edge\">\n",
       "<title>N5839&#45;&gt;N5840</title>\n",
       "<path fill=\"none\" stroke=\"#000000\" d=\"M720.71,-119.77C720.71,-103.7 720.71,-82.67 720.71,-64.79\"/>\n",
       "<polygon fill=\"#000000\" stroke=\"#000000\" points=\"724.21,-64.8 720.71,-54.8 717.21,-64.8 724.21,-64.8\"/>\n",
       "<text text-anchor=\"middle\" x=\"746.71\" y=\"-90.54\" font-family=\"Times,serif\" font-size=\"14.00\">CREATE</text>\n",
       "<text text-anchor=\"middle\" x=\"746.71\" y=\"-75.54\" font-family=\"Times,serif\" font-size=\"14.00\">result</text>\n",
       "</g>\n",
       "</g>\n",
       "</svg>\n"
      ],
      "text/plain": [
       "<graphviz.graphs.Digraph at 0x7fdecd510d00>"
      ]
     },
     "execution_count": 22,
     "metadata": {},
     "output_type": "execute_result"
    }
   ],
   "source": [
    "from aiida_worktree.utils import generate_node_graph\n",
    "generate_node_graph(wt2.pk)"
   ]
  }
 ],
 "metadata": {
  "kernelspec": {
   "display_name": "Python 3.10.4 ('scinode')",
   "language": "python",
   "name": "python3"
  },
  "language_info": {
   "codemirror_mode": {
    "name": "ipython",
    "version": 3
   },
   "file_extension": ".py",
   "mimetype": "text/x-python",
   "name": "python",
   "nbconvert_exporter": "python",
   "pygments_lexer": "ipython3",
   "version": "3.9.13"
  },
  "vscode": {
   "interpreter": {
    "hash": "2f450c1ff08798c4974437dd057310afef0de414c25d1fd960ad375311c3f6ff"
   }
  }
 },
 "nbformat": 4,
 "nbformat_minor": 5
}
