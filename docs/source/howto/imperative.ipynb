{
 "cells": [
  {
   "cell_type": "markdown",
   "id": "bd1eee19",
   "metadata": {},
   "source": [
    "# Imperative Workflow\n",
    "\n",
    "\n",
    "## Why an “imperative” API?\n",
    "\n",
    "The default WorkGraph engines ask you to **declare** every task and dependency *before* execution.\n",
    "The *imperative* engine in **aiida‑workgraph** lets you write an ordinary Python `async` function instead.  Each time you call a task inside that function the engine immediately schedules it and updates the WorkGraph on‑the‑fly.\n",
    "\n",
    "*Benefits*\n",
    "\n",
    "* **Natural control‑flow** – use native `while`, `for`, `if/else`, exceptions.\n",
    "* **Incremental graphs** – dependencies are inferred automatically.\n",
    "* **Rapid prototyping** – no context variables or DSL constructs required.\n",
    "\n",
    "If you need full static inspection before running, the declarative API is still available; you can even mix both styles in one project.\n",
    "\n",
    "## Two mental models for building workflows\n",
    "\n",
    "\n",
    "| Aspect                                       | *WorkGraph “design-time” zone* | *Imperative async function* |\n",
    "| :------------------------------------------- | :--------------------------------------------------------------------- | :-------------------------------------------------------------------- |\n",
    "| How the graph is produced                    | User **declares** every task and edge up-front; the full DAG exists before execution. | Graph **emerges at run time** as normal Python control-flow is evaluated. |\n",
    "| Can users inspect / validate before running? | Yes – they can traverse, statically analyse, export HTML or visualise the whole DAG.  | Not until the first run (the engine can surface partial DAGs on-the-fly). |\n",
    "| Expressiveness for loops / branching         | Needs explicit constructs (`active_while_zone`, context vars).         | Natural Python `while`, `for`, `if`; no extra concepts.             |\n",
    "| Scheduling & re-runs                         | Easy for a scheduler to plan because every task is known.              | Scheduler must cope with tasks appearing late; re-runs need replay or state capture. |\n",
    "| Cognitive load                               | Higher upfront (DSL, manual dependency wiring).                        | Lower for Python users; they “just write a function”.               |\n",
    "| Implementation complexity                    | Mostly synchronous; no -- or minimal -- `async` knowledge required.    | Requires `async`/`await` or background threads so that the runner stays non-blocking. |\n",
    "| Performance knobs                            | Static optimisations (parallelism, caching) are computable before run. | Need adaptive scheduling; late-bound tasks may surprise resource planners. |\n",
    "\n",
    "## The simplest flow\n"
   ]
  },
  {
   "cell_type": "code",
   "execution_count": 1,
   "id": "c4f11731",
   "metadata": {},
   "outputs": [
    {
     "name": "stderr",
     "output_type": "stream",
     "text": [
      "07/03/2025 04:18:51 PM <193192> aiida.orm.nodes.process.workflow.workchain.WorkChainNode: [REPORT] [138140|WorkGraphImperativeEngine|continue_workgraph]: tasks ready to run: \n",
      "07/03/2025 04:18:51 PM <193192> aiida.orm.nodes.process.workflow.workchain.WorkChainNode: [REPORT] [138140|WorkGraphImperativeEngine|on_wait]: Process status: Waiting for child processes: _flow\n",
      "07/03/2025 04:18:51 PM <193192> aiida.orm.nodes.process.workflow.workchain.WorkChainNode: [REPORT] [138140|WorkGraphImperativeEngine|continue_workgraph]: tasks ready to run: add\n"
     ]
    },
    {
     "name": "stdout",
     "output_type": "stream",
     "text": [
      "kwargs:  {'x': <Int: uuid: f338cac2-39f8-4831-81bd-05b32d852001 (pk: 138138) value: 3>, 'y': <Int: uuid: cc823646-5da9-484e-8e5f-57d72706e771 (pk: 138139) value: 4>}\n"
     ]
    },
    {
     "name": "stderr",
     "output_type": "stream",
     "text": [
      "07/03/2025 04:18:52 PM <193192> aiida.orm.nodes.process.workflow.workchain.WorkChainNode: [REPORT] [138140|WorkGraphImperativeEngine|continue_workgraph]: tasks ready to run: \n",
      "07/03/2025 04:18:52 PM <193192> aiida.orm.nodes.process.workflow.workchain.WorkChainNode: [REPORT] [138140|WorkGraphImperativeEngine|update_normal_task_state]: Task: _flow finished.\n",
      "07/03/2025 04:18:52 PM <193192> aiida.orm.nodes.process.workflow.workchain.WorkChainNode: [REPORT] [138140|WorkGraphImperativeEngine|continue_workgraph]: tasks ready to run: \n",
      "07/03/2025 04:18:52 PM <193192> aiida.orm.nodes.process.workflow.workchain.WorkChainNode: [REPORT] [138140|WorkGraphImperativeEngine|on_wait]: Process status: Waiting for child processes: 138144\n",
      "07/03/2025 04:18:55 PM <193192> aiida.orm.nodes.process.workflow.workchain.WorkChainNode: [REPORT] [138140|WorkGraphImperativeEngine|update_task_state]: Task: add, type: PythonJob, finished.\n",
      "07/03/2025 04:18:55 PM <193192> aiida.orm.nodes.process.workflow.workchain.WorkChainNode: [REPORT] [138140|WorkGraphImperativeEngine|continue_workgraph]: tasks ready to run: multiply\n"
     ]
    },
    {
     "name": "stdout",
     "output_type": "stream",
     "text": [
      "kwargs:  {'x': 1, 'y': <Int: uuid: c839c5db-4100-4904-862f-e67a95ea1819 (pk: 138149) value: 7>}\n"
     ]
    },
    {
     "name": "stderr",
     "output_type": "stream",
     "text": [
      "07/03/2025 04:18:56 PM <193192> aiida.orm.nodes.process.workflow.workchain.WorkChainNode: [REPORT] [138140|WorkGraphImperativeEngine|on_wait]: Process status: Waiting for child processes: 138154\n",
      "07/03/2025 04:18:58 PM <193192> aiida.orm.nodes.process.workflow.workchain.WorkChainNode: [REPORT] [138140|WorkGraphImperativeEngine|update_task_state]: Task: multiply, type: PythonJob, finished.\n",
      "07/03/2025 04:18:59 PM <193192> aiida.orm.nodes.process.workflow.workchain.WorkChainNode: [REPORT] [138140|WorkGraphImperativeEngine|continue_workgraph]: tasks ready to run: \n",
      "07/03/2025 04:18:59 PM <193192> aiida.orm.nodes.process.workflow.workchain.WorkChainNode: [REPORT] [138140|WorkGraphImperativeEngine|finalize]: Finalize workgraph.\n"
     ]
    },
    {
     "name": "stdout",
     "output_type": "stream",
     "text": [
      "graph results: {'sum': {'socket_name': 'result', 'task_name': 'add'}, 'product': {'socket_name': 'result', 'task_name': 'multiply'}}\n",
      "========================================\n",
      "\n",
      "Results:\n",
      "{'sum': <Int: uuid: c839c5db-4100-4904-862f-e67a95ea1819 (pk: 138149) value: 7>, 'product': <Int: uuid: cd4f7f61-8070-4d1b-ae0e-d109ca8d22a4 (pk: 138158) value: 7>}\n"
     ]
    }
   ],
   "source": [
    "from aiida_workgraph import task\n",
    "from aiida_workgraph.engine.imperative.imperative import WorkGraphImperativeEngine\n",
    "from aiida.engine import run, submit\n",
    "from aiida import orm, load_profile\n",
    "\n",
    "load_profile()\n",
    "\n",
    "@task.pythonjob()\n",
    "def add(x, y):\n",
    "    return x + y\n",
    "\n",
    "@task.pythonjob()\n",
    "def multiply(x, y):\n",
    "    return x * y\n",
    "\n",
    "async def add_multiply(x, y):\n",
    "    a = add(x, y)\n",
    "    b = multiply(1, a.result)   # chain directly on the result\n",
    "    return {\"sum\": a.result, \"product\": b.result}\n",
    "\n",
    "results = run(\n",
    "    WorkGraphImperativeEngine,\n",
    "    inputs={\"workgraph_data\": {\n",
    "        \"name\": \"add_multiply\",\n",
    "        \"flow\": add_multiply,\n",
    "        \"function_inputs\": {\"x\": orm.Int(3), \"y\": orm.Int(4)}\n",
    "    }},\n",
    ")\n",
    "print(\"=\" * 40)\n",
    "print(\"\\nResults:\")\n",
    "print(results)\n"
   ]
  },
  {
   "cell_type": "markdown",
   "id": "775f8c2a",
   "metadata": {},
   "source": [
    "\n",
    "### What happens under the hood?\n",
    "\n",
    "1. The engine creates a fresh WorkGraph called **add\\_multiply**.\n",
    "2. `add()` is scheduled; its output node is stored as `a`.\n",
    "3. `multiply()` is scheduled as soon as its dependency (`a.result`) is ready.\n",
    "4. When the async function returns, the engine marks the WorkGraph **FINISHED** and returns `results`.\n",
    "\n",
    "> **Tip** You use the GUI to inspect the evolving DAG.\n",
    "\n",
    "---\n",
    "\n",
    "## Conditional branches (`if/else`)"
   ]
  },
  {
   "cell_type": "code",
   "execution_count": 2,
   "id": "5b6a8af0",
   "metadata": {},
   "outputs": [
    {
     "name": "stderr",
     "output_type": "stream",
     "text": [
      "07/03/2025 04:19:00 PM <193192> aiida.orm.nodes.process.workflow.workchain.WorkChainNode: [REPORT] [138161|WorkGraphImperativeEngine|continue_workgraph]: tasks ready to run: \n",
      "07/03/2025 04:19:00 PM <193192> aiida.orm.nodes.process.workflow.workchain.WorkChainNode: [REPORT] [138161|WorkGraphImperativeEngine|on_wait]: Process status: Waiting for child processes: _flow\n",
      "07/03/2025 04:19:00 PM <193192> aiida.orm.nodes.process.workflow.workchain.WorkChainNode: [REPORT] [138161|WorkGraphImperativeEngine|continue_workgraph]: tasks ready to run: add\n"
     ]
    },
    {
     "name": "stdout",
     "output_type": "stream",
     "text": [
      "kwargs:  {'x': <Int: uuid: 6c2e1767-30de-4748-a2eb-54e2f474e5c3 (pk: 138159) value: 3>, 'y': <Int: uuid: bca0323f-014b-477a-8245-a46ca27262ea (pk: 138160) value: 4>}\n",
      "node state: RUNNING\n",
      "node state: RUNNING\n"
     ]
    },
    {
     "name": "stderr",
     "output_type": "stream",
     "text": [
      "07/03/2025 04:19:07 PM <193192> aiida.orm.nodes.process.workflow.workchain.WorkChainNode: [REPORT] [138161|WorkGraphImperativeEngine|update_task_state]: Task: add, type: PythonJob, finished.\n",
      "07/03/2025 04:19:07 PM <193192> aiida.orm.nodes.process.workflow.workchain.WorkChainNode: [REPORT] [138161|WorkGraphImperativeEngine|continue_workgraph]: tasks ready to run: \n",
      "07/03/2025 04:19:07 PM <193192> aiida.orm.nodes.process.workflow.workchain.WorkChainNode: [REPORT] [138161|WorkGraphImperativeEngine|on_wait]: Process status: Waiting for child processes: _flow\n",
      "07/03/2025 04:19:12 PM <193192> aiida.orm.nodes.process.workflow.workchain.WorkChainNode: [REPORT] [138161|WorkGraphImperativeEngine|continue_workgraph]: tasks ready to run: multiply\n"
     ]
    },
    {
     "name": "stdout",
     "output_type": "stream",
     "text": [
      "kwargs:  {'x': -1, 'y': <Int: uuid: 0273d040-a2a2-42e0-8a3d-7217716b8023 (pk: 138169) value: 7>}\n"
     ]
    },
    {
     "name": "stderr",
     "output_type": "stream",
     "text": [
      "07/03/2025 04:19:13 PM <193192> aiida.orm.nodes.process.workflow.workchain.WorkChainNode: [REPORT] [138161|WorkGraphImperativeEngine|update_normal_task_state]: Task: _flow finished.\n",
      "07/03/2025 04:19:13 PM <193192> aiida.orm.nodes.process.workflow.workchain.WorkChainNode: [REPORT] [138161|WorkGraphImperativeEngine|continue_workgraph]: tasks ready to run: \n",
      "07/03/2025 04:19:13 PM <193192> aiida.orm.nodes.process.workflow.workchain.WorkChainNode: [REPORT] [138161|WorkGraphImperativeEngine|on_wait]: Process status: Waiting for child processes: 138175\n",
      "07/03/2025 04:19:19 PM <193192> aiida.orm.nodes.process.workflow.workchain.WorkChainNode: [REPORT] [138161|WorkGraphImperativeEngine|update_task_state]: Task: multiply, type: PythonJob, finished.\n",
      "07/03/2025 04:19:19 PM <193192> aiida.orm.nodes.process.workflow.workchain.WorkChainNode: [REPORT] [138161|WorkGraphImperativeEngine|continue_workgraph]: tasks ready to run: \n",
      "07/03/2025 04:19:20 PM <193192> aiida.orm.nodes.process.workflow.workchain.WorkChainNode: [REPORT] [138161|WorkGraphImperativeEngine|finalize]: Finalize workgraph.\n"
     ]
    },
    {
     "name": "stdout",
     "output_type": "stream",
     "text": [
      "graph results: {'sum': {'socket_name': 'result', 'task_name': 'add'}, 'multiply': {'socket_name': 'result', 'task_name': 'multiply'}}\n",
      "========================================\n",
      "\n",
      "Results:\n",
      "{'sum': <Int: uuid: 0273d040-a2a2-42e0-8a3d-7217716b8023 (pk: 138169) value: 7>, 'multiply': <Int: uuid: 1ec7ae31-6dd2-47f6-ad6b-bd700c5c809f (pk: 138179) value: -7>}\n"
     ]
    }
   ],
   "source": [
    "from aiida_workgraph.engine.imperative.imperative import wait_for\n",
    "\n",
    "@task.pythonjob()\n",
    "def add(x, y):\n",
    "    import time; time.sleep(2)  # simulate work\n",
    "    return x + y\n",
    "\n",
    "@task.pythonjob()\n",
    "def multiply(x, y):\n",
    "    import time; time.sleep(2)\n",
    "    return x * y\n",
    "\n",
    "async def add_then_branch(x, y):\n",
    "    a = add(x, y)\n",
    "    await wait_for(a)           # don\\'t read the result too early\n",
    "\n",
    "    if a.result.value > 10:\n",
    "        m = multiply(1, a.result)\n",
    "    else:\n",
    "        m = multiply(-1, a.result)\n",
    "\n",
    "    return {\"sum\": a.result, \"multiply\": m.result}\n",
    "\n",
    "results = run(\n",
    "    WorkGraphImperativeEngine,\n",
    "    inputs={\"workgraph_data\": {\n",
    "        \"name\": \"add_multiply\",\n",
    "        \"flow\": add_then_branch,\n",
    "        \"function_inputs\": {\"x\": orm.Int(3), \"y\": orm.Int(4)}\n",
    "    }},\n",
    ")\n",
    "print(\"=\" * 40)\n",
    "print(\"\\nResults:\")\n",
    "print(results)\n"
   ]
  },
  {
   "cell_type": "markdown",
   "id": "cda9a8ba",
   "metadata": {},
   "source": [
    "\n",
    "The `if` statement is ordinary Python; the engine only schedules the branch that is actually taken.  The skipped branch never appears in the WorkGraph.\n",
    "\n",
    "\n",
    "## Loops (`while`)\n"
   ]
  },
  {
   "cell_type": "code",
   "execution_count": 3,
   "id": "7d02b8d4",
   "metadata": {},
   "outputs": [
    {
     "name": "stderr",
     "output_type": "stream",
     "text": [
      "07/03/2025 04:19:21 PM <193192> aiida.orm.nodes.process.workflow.workchain.WorkChainNode: [REPORT] [138182|WorkGraphImperativeEngine|continue_workgraph]: tasks ready to run: \n",
      "07/03/2025 04:19:21 PM <193192> aiida.orm.nodes.process.workflow.workchain.WorkChainNode: [REPORT] [138182|WorkGraphImperativeEngine|on_wait]: Process status: Waiting for child processes: _flow\n",
      "07/03/2025 04:19:21 PM <193192> aiida.orm.nodes.process.workflow.workchain.WorkChainNode: [REPORT] [138182|WorkGraphImperativeEngine|continue_workgraph]: tasks ready to run: add\n"
     ]
    },
    {
     "name": "stdout",
     "output_type": "stream",
     "text": [
      "kwargs:  {'x': <Int: uuid: 368ff873-6e77-4f3c-b64f-442590df9081 (pk: 138180) value: 3>, 'y': <Int: uuid: 6b4245dd-2814-409c-a4b6-f7b0550b9a28 (pk: 138181) value: 4>}\n",
      "node state: RUNNING\n"
     ]
    },
    {
     "name": "stderr",
     "output_type": "stream",
     "text": [
      "07/03/2025 04:19:24 PM <193192> aiida.orm.nodes.process.workflow.workchain.WorkChainNode: [REPORT] [138182|WorkGraphImperativeEngine|update_task_state]: Task: add, type: PythonJob, finished.\n",
      "07/03/2025 04:19:24 PM <193192> aiida.orm.nodes.process.workflow.workchain.WorkChainNode: [REPORT] [138182|WorkGraphImperativeEngine|continue_workgraph]: tasks ready to run: \n",
      "07/03/2025 04:19:24 PM <193192> aiida.orm.nodes.process.workflow.workchain.WorkChainNode: [REPORT] [138182|WorkGraphImperativeEngine|on_wait]: Process status: Waiting for child processes: _flow\n",
      "07/03/2025 04:19:27 PM <193192> aiida.orm.nodes.process.workflow.workchain.WorkChainNode: [REPORT] [138182|WorkGraphImperativeEngine|continue_workgraph]: tasks ready to run: add1\n"
     ]
    },
    {
     "name": "stdout",
     "output_type": "stream",
     "text": [
      "kwargs:  {'x': <Int: uuid: 4346f59d-d5c8-4750-980a-69896fb672fa (pk: 138190) value: 7>, 'y': 1}\n"
     ]
    },
    {
     "name": "stderr",
     "output_type": "stream",
     "text": [
      "07/03/2025 04:19:28 PM <193192> aiida.orm.nodes.process.workflow.workchain.WorkChainNode: [REPORT] [138182|WorkGraphImperativeEngine|continue_workgraph]: tasks ready to run: \n"
     ]
    },
    {
     "name": "stdout",
     "output_type": "stream",
     "text": [
      "node state: PLANNED\n"
     ]
    },
    {
     "name": "stderr",
     "output_type": "stream",
     "text": [
      "07/03/2025 04:19:31 PM <193192> aiida.orm.nodes.process.workflow.workchain.WorkChainNode: [REPORT] [138182|WorkGraphImperativeEngine|update_task_state]: Task: add1, type: PythonJob, finished.\n",
      "07/03/2025 04:19:31 PM <193192> aiida.orm.nodes.process.workflow.workchain.WorkChainNode: [REPORT] [138182|WorkGraphImperativeEngine|continue_workgraph]: tasks ready to run: multiply\n"
     ]
    },
    {
     "name": "stdout",
     "output_type": "stream",
     "text": [
      "kwargs:  {'x': <Int: uuid: 24016f19-6810-475f-8af1-aaf75d44d6d6 (pk: 138202) value: 8>, 'y': 2}\n"
     ]
    },
    {
     "name": "stderr",
     "output_type": "stream",
     "text": [
      "07/03/2025 04:19:32 PM <193192> aiida.orm.nodes.process.workflow.workchain.WorkChainNode: [REPORT] [138182|WorkGraphImperativeEngine|on_wait]: Process status: Waiting for child processes: _flow, 138207\n"
     ]
    },
    {
     "name": "stdout",
     "output_type": "stream",
     "text": [
      "node state: RUNNING\n"
     ]
    },
    {
     "name": "stderr",
     "output_type": "stream",
     "text": [
      "07/03/2025 04:19:35 PM <193192> aiida.orm.nodes.process.workflow.workchain.WorkChainNode: [REPORT] [138182|WorkGraphImperativeEngine|update_task_state]: Task: multiply, type: PythonJob, finished.\n",
      "07/03/2025 04:19:35 PM <193192> aiida.orm.nodes.process.workflow.workchain.WorkChainNode: [REPORT] [138182|WorkGraphImperativeEngine|continue_workgraph]: tasks ready to run: \n",
      "07/03/2025 04:19:35 PM <193192> aiida.orm.nodes.process.workflow.workchain.WorkChainNode: [REPORT] [138182|WorkGraphImperativeEngine|on_wait]: Process status: Waiting for child processes: _flow\n",
      "07/03/2025 04:19:39 PM <193192> aiida.orm.nodes.process.workflow.workchain.WorkChainNode: [REPORT] [138182|WorkGraphImperativeEngine|update_normal_task_state]: Task: _flow finished.\n",
      "07/03/2025 04:19:40 PM <193192> aiida.orm.nodes.process.workflow.workchain.WorkChainNode: [REPORT] [138182|WorkGraphImperativeEngine|continue_workgraph]: tasks ready to run: \n",
      "07/03/2025 04:19:40 PM <193192> aiida.orm.nodes.process.workflow.workchain.WorkChainNode: [REPORT] [138182|WorkGraphImperativeEngine|finalize]: Finalize workgraph.\n"
     ]
    },
    {
     "name": "stdout",
     "output_type": "stream",
     "text": [
      "graph results: {'sum': {'socket_name': 'result', 'task_name': 'multiply'}}\n",
      "========================================\n",
      "\n",
      "Results:\n",
      "{'sum': <Int: uuid: 9b8af3b6-6649-47bd-9341-2255c6ba85a5 (pk: 138211) value: 16>}\n"
     ]
    }
   ],
   "source": [
    "from aiida_workgraph import task\n",
    "from aiida_workgraph.engine.imperative.imperative import WorkGraphImperativeEngine, wait_for\n",
    "from aiida.engine import run, submit\n",
    "from aiida import orm, load_profile\n",
    "\n",
    "load_profile()\n",
    "\n",
    "@task.pythonjob()\n",
    "def add(x, y):\n",
    "    return x + y\n",
    "\n",
    "@task.pythonjob()\n",
    "def multiply(x, y):\n",
    "    return x * y\n",
    "\n",
    "\n",
    "async def keep_doubling(x, y):\n",
    "    outputs = add(x, y)\n",
    "    await wait_for(outputs)\n",
    "\n",
    "    while outputs.result.value < 10:\n",
    "        outputs1 = add(outputs.result, 1)\n",
    "        outputs = multiply(outputs1.result, 2)\n",
    "        await wait_for(outputs)     # make sure we can read new value\n",
    "\n",
    "    return {\"sum\": outputs.result}\n",
    "\n",
    "results = run(\n",
    "    WorkGraphImperativeEngine,\n",
    "    inputs={\"workgraph_data\": {\n",
    "        \"name\": \"keep_doubling\",\n",
    "        \"flow\": keep_doubling,\n",
    "        \"function_inputs\": {\"x\": orm.Int(3), \"y\": orm.Int(4)}\n",
    "    }},\n",
    ")\n",
    "print(\"=\" * 40)\n",
    "print(\"\\nResults:\")\n",
    "print(results)"
   ]
  },
  {
   "cell_type": "markdown",
   "id": "bfd37a58",
   "metadata": {},
   "source": [
    "\n",
    "Every iteration adds two more tasks to the WorkGraph.  Because the graph grows dynamically you can observe it expanding live.\n",
    "\n",
    "> **Performance note** Do not schedule thousands of tiny jobs.\n",
    "\n",
    "\n",
    "## Waiting for results\n",
    "\n",
    "`wait_for(task_socket)` suspends the *flow* until the referenced task has reached a terminal state.  This is essential in loops or branches where you need the **value**, not just the future placeholder.  Under the hood it performs an asynchronous poll so your runner remains free to execute other coroutines.\n",
    "\n",
    "---\n",
    "\n",
    "\n",
    "## Conclusion\n",
    "\n",
    "The imperative API combines the **clarity of Python** with the **provenance guarantees of AiiDA**:\n",
    "\n",
    "* Write workflows as natural coroutines.\n",
    "* Leverage familiar control structures instead of special DSL constructs.\n",
    "* Still obtain a fully queryable, shareable WorkGraph.\n",
    "\n",
    "When you need static analysis or pre‑execution validation drop back to the declarative zones—both styles interoperate because they share the same engine under the hood.\n"
   ]
  }
 ],
 "metadata": {
  "kernelspec": {
   "display_name": "aiida",
   "language": "python",
   "name": "python3"
  },
  "language_info": {
   "codemirror_mode": {
    "name": "ipython",
    "version": 3
   },
   "file_extension": ".py",
   "mimetype": "text/x-python",
   "name": "python",
   "nbconvert_exporter": "python",
   "pygments_lexer": "ipython3",
   "version": "3.11.0"
  }
 },
 "nbformat": 4,
 "nbformat_minor": 5
}
