{
 "cells": [
  {
   "cell_type": "markdown",
   "id": "22d177dc-6cfb-4de2-9509-f1eb45e10cf2",
   "metadata": {},
   "source": [
    "# Use `if` condition"
   ]
  },
  {
   "cell_type": "markdown",
   "id": "58696c91",
   "metadata": {},
   "source": [
    "\n",
    "## Introduction\n",
    "\n",
    "This tutorial provides a step-by-step guide on how to implement conditional logic in WorkGraph using two distinct methods:\n",
    "\n",
    "1. **active_if_zone**\n",
    "2. **graph_builder Decorator**\n",
    "\n",
    "## Using the If instruction\n",
    "\n",
    "WorkGraph provides `active_if_zone` that allows you to define conditional logic in your workflow. The `active_if_zone` block encapsulates all its child tasks, which are executed based on the defined conditions.\n",
    "\n",
    "\n",
    "\n",
    "### Example\n",
    "\n",
    "Suppose we want to calculate the following workflow, the tasks for each step are shown:"
   ]
  },
  {
   "cell_type": "code",
   "execution_count": 1,
   "id": "ab67e5d1",
   "metadata": {},
   "outputs": [
    {
     "name": "stdout",
     "output_type": "stream",
     "text": [
      "Result is uuid: f3da9aec-d532-478a-81f2-b1492bf6f29f (pk: 54559) value: 5\n"
     ]
    }
   ],
   "source": [
    "from aiida_workgraph import task\n",
    "from aiida import load_profile\n",
    "\n",
    "load_profile()\n",
    "\n",
    "@task.calcfunction\n",
    "def add(x, y):\n",
    "    return x + y\n",
    "\n",
    "@task.calcfunction\n",
    "def multiply(x, y):\n",
    "    return x*y\n",
    "\n",
    "# ---------------------------------------------------------\n",
    "# start the workflow\n",
    "# step 1\n",
    "result = add._func(1, 1)\n",
    "# step 2\n",
    "if result < 0:\n",
    "    result = add._func(result, 2)           # use add task\n",
    "else:\n",
    "    result = multiply._func(result, 2)      # use multiply task\n",
    "# step 3\n",
    "result = add._func(result, 1)\n",
    "# ---------------------------------------------------------\n",
    "print(\"Result is\", result)"
   ]
  },
  {
   "cell_type": "markdown",
   "id": "8f4daf41",
   "metadata": {},
   "source": [
    "Use `active_if_zone` to define the conditional logic for the workflow.\n"
   ]
  },
  {
   "cell_type": "code",
   "execution_count": 7,
   "id": "0b8edf6a",
   "metadata": {},
   "outputs": [
    {
     "data": {
      "application/vnd.jupyter.widget-view+json": {
       "model_id": "b4d9e7335332452f8464f6439fff3cc3",
       "version_major": 2,
       "version_minor": 1
      },
      "text/plain": [
       "NodeGraphWidget(settings={'minimap': True}, style={'width': '90%', 'height': '600px'}, value={'name': 'if_task…"
      ]
     },
     "execution_count": 7,
     "metadata": {},
     "output_type": "execute_result"
    }
   ],
   "source": [
    "from aiida_workgraph import task, WorkGraph, active_graph, active_if_zone\n",
    "\n",
    "with WorkGraph(\"if_task\") as wg:\n",
    "    result = add(x=1, y=1)\n",
    "    with active_if_zone(result < 0):\n",
    "        wg.ctx.result = add(x=result, y=2)\n",
    "    with active_if_zone(result >= 0):\n",
    "        wg.ctx.result = multiply(x=result, y=2)\n",
    "    #---------------------------------------------------------------------\n",
    "    result = add(x=wg.ctx.result, y=1)\n",
    "    # export the workgraph to html file so that it can be visualized in a browser\n",
    "wg.to_html()\n",
    "# comment out the following line to visualize the workgraph in jupyter-notebook\n",
    "wg"
   ]
  },
  {
   "cell_type": "markdown",
   "id": "7cc1a436",
   "metadata": {},
   "source": [
    "In the GUI, **If** block is shown as a **If Zone** with all its child tasks inside the Zone. \n",
    "The if zone have `conditions` socket. Tasks outside the while zone can link to the tasks inside the zone directly.\n",
    "\n",
    "### Submit the WorkGraph and check the results\n"
   ]
  },
  {
   "cell_type": "code",
   "execution_count": 8,
   "id": "31204e33",
   "metadata": {},
   "outputs": [
    {
     "name": "stderr",
     "output_type": "stream",
     "text": [
      "03/20/2025 07:03:26 PM <1637389> aiida.orm.nodes.process.workflow.workchain.WorkChainNode: [REPORT] [54588|WorkGraphEngine|continue_workgraph]: Continue workgraph.\n",
      "03/20/2025 07:03:26 PM <1637389> aiida.orm.nodes.process.workflow.workchain.WorkChainNode: [REPORT] [54588|WorkGraphEngine|continue_workgraph]: tasks ready to run: add1,add8\n",
      "03/20/2025 07:03:26 PM <1637389> aiida.orm.nodes.process.workflow.workchain.WorkChainNode: [REPORT] [54588|WorkGraphEngine|run_tasks]: Run task: add1, type: CALCFUNCTION\n"
     ]
    },
    {
     "name": "stdout",
     "output_type": "stream",
     "text": [
      "------------------------------------------------------------\n",
      "kwargs:  {'x': 1, 'y': -2}\n"
     ]
    },
    {
     "name": "stderr",
     "output_type": "stream",
     "text": [
      "03/20/2025 07:03:27 PM <1637389> aiida.orm.nodes.process.workflow.workchain.WorkChainNode: [REPORT] [54588|WorkGraphEngine|update_task_state]: Task: add1 finished.\n",
      "03/20/2025 07:03:27 PM <1637389> aiida.orm.nodes.process.workflow.workchain.WorkChainNode: [REPORT] [54588|WorkGraphEngine|continue_workgraph]: Continue workgraph.\n",
      "03/20/2025 07:03:27 PM <1637389> aiida.orm.nodes.process.workflow.workchain.WorkChainNode: [REPORT] [54588|WorkGraphEngine|continue_workgraph]: tasks ready to run: op_lt2,op_ge5,add8\n",
      "03/20/2025 07:03:27 PM <1637389> aiida.orm.nodes.process.workflow.workchain.WorkChainNode: [REPORT] [54588|WorkGraphEngine|run_tasks]: Run task: op_lt2, type: Normal\n",
      "03/20/2025 07:03:27 PM <1637389> aiida.orm.nodes.process.workflow.workchain.WorkChainNode: [REPORT] [54588|WorkGraphEngine|update_normal_task_state]: Task: op_lt2 finished.\n",
      "03/20/2025 07:03:27 PM <1637389> aiida.orm.nodes.process.workflow.workchain.WorkChainNode: [REPORT] [54588|WorkGraphEngine|continue_workgraph]: Continue workgraph.\n"
     ]
    },
    {
     "name": "stdout",
     "output_type": "stream",
     "text": [
      "------------------------------------------------------------\n",
      "kwargs:  {'x': <Int: uuid: 82a7df38-92c8-4223-bed3-1c51873aa4e5 (pk: 54592) value: -1>, 'y': 0}\n"
     ]
    },
    {
     "name": "stderr",
     "output_type": "stream",
     "text": [
      "03/20/2025 07:03:27 PM <1637389> aiida.orm.nodes.process.workflow.workchain.WorkChainNode: [REPORT] [54588|WorkGraphEngine|continue_workgraph]: tasks ready to run: if_zone3,op_ge5,add8\n",
      "03/20/2025 07:03:27 PM <1637389> aiida.orm.nodes.process.workflow.workchain.WorkChainNode: [REPORT] [54588|WorkGraphEngine|run_tasks]: Run task: if_zone3, type: IF\n",
      "03/20/2025 07:03:27 PM <1637389> aiida.orm.nodes.process.workflow.workchain.WorkChainNode: [REPORT] [54588|WorkGraphEngine|continue_workgraph]: Continue workgraph.\n",
      "03/20/2025 07:03:27 PM <1637389> aiida.orm.nodes.process.workflow.workchain.WorkChainNode: [REPORT] [54588|WorkGraphEngine|continue_workgraph]: tasks ready to run: add4,op_ge5,add8\n",
      "03/20/2025 07:03:27 PM <1637389> aiida.orm.nodes.process.workflow.workchain.WorkChainNode: [REPORT] [54588|WorkGraphEngine|run_tasks]: Run task: add4, type: CALCFUNCTION\n"
     ]
    },
    {
     "name": "stdout",
     "output_type": "stream",
     "text": [
      "------------------------------------------------------------\n",
      "kwargs:  {'conditions': <Bool: uuid: 096abd0d-25ab-4c7d-adcf-2b39cbb92725 (pk: 54593) value: True>, 'invert_condition': False}\n",
      "------------------------------------------------------------\n",
      "kwargs:  {'x': <Int: uuid: 82a7df38-92c8-4223-bed3-1c51873aa4e5 (pk: 54592) value: -1>, 'y': 2}\n"
     ]
    },
    {
     "name": "stderr",
     "output_type": "stream",
     "text": [
      "03/20/2025 07:03:28 PM <1637389> aiida.orm.nodes.process.workflow.workchain.WorkChainNode: [REPORT] [54588|WorkGraphEngine|update_task_state]: Task: add4 finished.\n",
      "03/20/2025 07:03:28 PM <1637389> aiida.orm.nodes.process.workflow.workchain.WorkChainNode: [REPORT] [54588|WorkGraphEngine|update_zone_task_state]: Task: if_zone3 finished.\n",
      "03/20/2025 07:03:28 PM <1637389> aiida.orm.nodes.process.workflow.workchain.WorkChainNode: [REPORT] [54588|WorkGraphEngine|continue_workgraph]: Continue workgraph.\n",
      "03/20/2025 07:03:28 PM <1637389> aiida.orm.nodes.process.workflow.workchain.WorkChainNode: [REPORT] [54588|WorkGraphEngine|continue_workgraph]: tasks ready to run: op_ge5,add8\n",
      "03/20/2025 07:03:28 PM <1637389> aiida.orm.nodes.process.workflow.workchain.WorkChainNode: [REPORT] [54588|WorkGraphEngine|run_tasks]: Run task: op_ge5, type: Normal\n",
      "03/20/2025 07:03:28 PM <1637389> aiida.orm.nodes.process.workflow.workchain.WorkChainNode: [REPORT] [54588|WorkGraphEngine|update_normal_task_state]: Task: op_ge5 finished.\n",
      "03/20/2025 07:03:28 PM <1637389> aiida.orm.nodes.process.workflow.workchain.WorkChainNode: [REPORT] [54588|WorkGraphEngine|continue_workgraph]: Continue workgraph.\n",
      "03/20/2025 07:03:28 PM <1637389> aiida.orm.nodes.process.workflow.workchain.WorkChainNode: [REPORT] [54588|WorkGraphEngine|continue_workgraph]: tasks ready to run: if_zone6,add8\n",
      "03/20/2025 07:03:28 PM <1637389> aiida.orm.nodes.process.workflow.workchain.WorkChainNode: [REPORT] [54588|WorkGraphEngine|run_tasks]: Run task: if_zone6, type: IF\n"
     ]
    },
    {
     "name": "stdout",
     "output_type": "stream",
     "text": [
      "------------------------------------------------------------\n",
      "kwargs:  {'x': <Int: uuid: 82a7df38-92c8-4223-bed3-1c51873aa4e5 (pk: 54592) value: -1>, 'y': 0}\n",
      "------------------------------------------------------------\n",
      "kwargs:  {'conditions': <Bool: uuid: 1b84a6f3-d667-472a-a7bc-fcc8394ca6e4 (pk: 54597) value: False>, 'invert_condition': False}\n"
     ]
    },
    {
     "name": "stderr",
     "output_type": "stream",
     "text": [
      "03/20/2025 07:03:28 PM <1637389> aiida.orm.nodes.process.workflow.workchain.WorkChainNode: [REPORT] [54588|WorkGraphEngine|update_zone_task_state]: Task: if_zone6 finished.\n",
      "03/20/2025 07:03:28 PM <1637389> aiida.orm.nodes.process.workflow.workchain.WorkChainNode: [REPORT] [54588|WorkGraphEngine|continue_workgraph]: Continue workgraph.\n",
      "03/20/2025 07:03:28 PM <1637389> aiida.orm.nodes.process.workflow.workchain.WorkChainNode: [REPORT] [54588|WorkGraphEngine|continue_workgraph]: tasks ready to run: add8\n",
      "03/20/2025 07:03:28 PM <1637389> aiida.orm.nodes.process.workflow.workchain.WorkChainNode: [REPORT] [54588|WorkGraphEngine|run_tasks]: Run task: add8, type: CALCFUNCTION\n"
     ]
    },
    {
     "name": "stdout",
     "output_type": "stream",
     "text": [
      "------------------------------------------------------------\n",
      "kwargs:  {'x': <Int: uuid: a11a80ee-8678-4bd3-bba6-e51e80c5ab80 (pk: 54596) value: 1>, 'y': 1}\n"
     ]
    },
    {
     "name": "stderr",
     "output_type": "stream",
     "text": [
      "03/20/2025 07:03:29 PM <1637389> aiida.orm.nodes.process.workflow.workchain.WorkChainNode: [REPORT] [54588|WorkGraphEngine|update_task_state]: Task: add8 finished.\n",
      "03/20/2025 07:03:29 PM <1637389> aiida.orm.nodes.process.workflow.workchain.WorkChainNode: [REPORT] [54588|WorkGraphEngine|continue_workgraph]: Continue workgraph.\n",
      "03/20/2025 07:03:29 PM <1637389> aiida.orm.nodes.process.workflow.workchain.WorkChainNode: [REPORT] [54588|WorkGraphEngine|continue_workgraph]: tasks ready to run: \n",
      "03/20/2025 07:03:29 PM <1637389> aiida.orm.nodes.process.workflow.workchain.WorkChainNode: [REPORT] [54588|WorkGraphEngine|finalize]: Finalize workgraph.\n"
     ]
    },
    {
     "name": "stdout",
     "output_type": "stream",
     "text": [
      "State of WorkGraph:   FINISHED\n",
      "Result   :   uuid: 65b06417-5064-42cd-9434-1b17b1e52013 (pk: 54600) value: 2\n"
     ]
    }
   ],
   "source": [
    "wg.run()\n",
    "print(\"State of WorkGraph:   {}\".format(wg.state))\n",
    "print('Result   :   {}'.format(result.value))"
   ]
  },
  {
   "cell_type": "markdown",
   "id": "3916c853",
   "metadata": {},
   "source": [
    "Generate node graph from the AiiDA process,and we can see that when `compare1` node outputs `False`, the workgraph stops."
   ]
  },
  {
   "cell_type": "code",
   "execution_count": 9,
   "id": "d659c3b0",
   "metadata": {},
   "outputs": [
    {
     "data": {
      "image/svg+xml": [
       "<?xml version=\"1.0\" encoding=\"UTF-8\" standalone=\"no\"?>\n",
       "<!DOCTYPE svg PUBLIC \"-//W3C//DTD SVG 1.1//EN\"\n",
       " \"http://www.w3.org/Graphics/SVG/1.1/DTD/svg11.dtd\">\n",
       "<!-- Generated by graphviz version 7.1.0 (20230122.1345)\n",
       " -->\n",
       "<!-- Pages: 1 -->\n",
       "<svg width=\"392pt\" height=\"800pt\"\n",
       " viewBox=\"0.00 0.00 392.31 799.91\" xmlns=\"http://www.w3.org/2000/svg\" xmlns:xlink=\"http://www.w3.org/1999/xlink\">\n",
       "<g id=\"graph0\" class=\"graph\" transform=\"scale(1 1) rotate(0) translate(4 795.91)\">\n",
       "<polygon fill=\"white\" stroke=\"none\" points=\"-4,4 -4,-795.91 388.31,-795.91 388.31,4 -4,4\"/>\n",
       "<!-- N54588 -->\n",
       "<g id=\"node1\" class=\"node\">\n",
       "<title>N54588</title>\n",
       "<ellipse fill=\"#8cd499\" stroke=\"red\" stroke-width=\"6\" cx=\"199.15\" cy=\"-754.44\" rx=\"127.97\" ry=\"37.45\"/>\n",
       "<text text-anchor=\"middle\" x=\"199.15\" y=\"-765.74\" font-family=\"Times,serif\" font-size=\"14.00\">WorkGraph&lt;if_task&gt; (54588)</text>\n",
       "<text text-anchor=\"middle\" x=\"199.15\" y=\"-750.74\" font-family=\"Times,serif\" font-size=\"14.00\">State: finished</text>\n",
       "<text text-anchor=\"middle\" x=\"199.15\" y=\"-735.74\" font-family=\"Times,serif\" font-size=\"14.00\">Exit Code: 0</text>\n",
       "</g>\n",
       "<!-- N54591 -->\n",
       "<g id=\"node2\" class=\"node\">\n",
       "<title>N54591</title>\n",
       "<polygon fill=\"#de707f\" fill-opacity=\"0.466667\" stroke=\"black\" stroke-width=\"0\" points=\"105.65,-650.59 10.65,-650.59 10.65,-597.59 105.65,-597.59 105.65,-650.59\"/>\n",
       "<text text-anchor=\"middle\" x=\"58.15\" y=\"-635.39\" font-family=\"Times,serif\" font-size=\"14.00\">add (54591)</text>\n",
       "<text text-anchor=\"middle\" x=\"58.15\" y=\"-620.39\" font-family=\"Times,serif\" font-size=\"14.00\">State: finished</text>\n",
       "<text text-anchor=\"middle\" x=\"58.15\" y=\"-605.39\" font-family=\"Times,serif\" font-size=\"14.00\">Exit Code: 0</text>\n",
       "</g>\n",
       "<!-- N54588&#45;&gt;N54591 -->\n",
       "<g id=\"edge7\" class=\"edge\">\n",
       "<title>N54588&#45;&gt;N54591</title>\n",
       "<path fill=\"none\" stroke=\"#000000\" stroke-dasharray=\"1,5\" d=\"M95.69,-729.89C81.34,-722.29 68.37,-712.25 59.15,-698.96 51.76,-688.31 50.05,-674.56 50.69,-661.81\"/>\n",
       "<polygon fill=\"#000000\" stroke=\"#000000\" points=\"54.16,-662.31 51.68,-652.01 47.19,-661.61 54.16,-662.31\"/>\n",
       "<text text-anchor=\"middle\" x=\"98.65\" y=\"-687.76\" font-family=\"Times,serif\" font-size=\"14.00\">CALL_CALC</text>\n",
       "<text text-anchor=\"middle\" x=\"98.65\" y=\"-672.76\" font-family=\"Times,serif\" font-size=\"14.00\">add1</text>\n",
       "</g>\n",
       "<!-- N54595 -->\n",
       "<g id=\"node4\" class=\"node\">\n",
       "<title>N54595</title>\n",
       "<polygon fill=\"#de707f\" fill-opacity=\"0.466667\" stroke=\"black\" stroke-width=\"0\" points=\"195.65,-411.48 100.65,-411.48 100.65,-358.48 195.65,-358.48 195.65,-411.48\"/>\n",
       "<text text-anchor=\"middle\" x=\"148.15\" y=\"-396.28\" font-family=\"Times,serif\" font-size=\"14.00\">add (54595)</text>\n",
       "<text text-anchor=\"middle\" x=\"148.15\" y=\"-381.28\" font-family=\"Times,serif\" font-size=\"14.00\">State: finished</text>\n",
       "<text text-anchor=\"middle\" x=\"148.15\" y=\"-366.28\" font-family=\"Times,serif\" font-size=\"14.00\">Exit Code: 0</text>\n",
       "</g>\n",
       "<!-- N54588&#45;&gt;N54595 -->\n",
       "<g id=\"edge4\" class=\"edge\">\n",
       "<title>N54588&#45;&gt;N54595</title>\n",
       "<path fill=\"none\" stroke=\"#000000\" stroke-dasharray=\"1,5\" d=\"M185.99,-714.19C174.94,-679.23 159.91,-626.45 153.15,-579.22 145.43,-525.18 145.5,-461.79 146.58,-422.75\"/>\n",
       "<polygon fill=\"#000000\" stroke=\"#000000\" points=\"150.07,-423.08 146.89,-412.97 143.08,-422.86 150.07,-423.08\"/>\n",
       "<text text-anchor=\"middle\" x=\"192.65\" y=\"-568.02\" font-family=\"Times,serif\" font-size=\"14.00\">CALL_CALC</text>\n",
       "<text text-anchor=\"middle\" x=\"192.65\" y=\"-553.02\" font-family=\"Times,serif\" font-size=\"14.00\">add4</text>\n",
       "</g>\n",
       "<!-- N54599 -->\n",
       "<g id=\"node6\" class=\"node\">\n",
       "<title>N54599</title>\n",
       "<polygon fill=\"#de707f\" fill-opacity=\"0.466667\" stroke=\"black\" stroke-width=\"0\" points=\"244.65,-172.74 149.65,-172.74 149.65,-119.74 244.65,-119.74 244.65,-172.74\"/>\n",
       "<text text-anchor=\"middle\" x=\"197.15\" y=\"-157.54\" font-family=\"Times,serif\" font-size=\"14.00\">add (54599)</text>\n",
       "<text text-anchor=\"middle\" x=\"197.15\" y=\"-142.54\" font-family=\"Times,serif\" font-size=\"14.00\">State: finished</text>\n",
       "<text text-anchor=\"middle\" x=\"197.15\" y=\"-127.54\" font-family=\"Times,serif\" font-size=\"14.00\">Exit Code: 0</text>\n",
       "</g>\n",
       "<!-- N54588&#45;&gt;N54599 -->\n",
       "<g id=\"edge6\" class=\"edge\">\n",
       "<title>N54588&#45;&gt;N54599</title>\n",
       "<path fill=\"none\" stroke=\"#000000\" stroke-dasharray=\"1,5\" d=\"M221.42,-714.6C233.56,-689.81 246.15,-656.53 246.15,-625.09 246.15,-625.09 246.15,-625.09 246.15,-264.61 246.15,-231.19 246.16,-221.08 232.15,-190.74 230.78,-187.77 229.17,-184.83 227.39,-181.96\"/>\n",
       "<polygon fill=\"#000000\" stroke=\"#000000\" points=\"230.3,-180.01 221.73,-173.78 224.54,-183.99 230.3,-180.01\"/>\n",
       "<text text-anchor=\"middle\" x=\"285.65\" y=\"-448.28\" font-family=\"Times,serif\" font-size=\"14.00\">CALL_CALC</text>\n",
       "<text text-anchor=\"middle\" x=\"285.65\" y=\"-433.28\" font-family=\"Times,serif\" font-size=\"14.00\">add8</text>\n",
       "</g>\n",
       "<!-- N54601 -->\n",
       "<g id=\"node8\" class=\"node\">\n",
       "<title>N54601</title>\n",
       "<ellipse fill=\"#8cd499\" stroke=\"black\" stroke-width=\"0\" cx=\"329.15\" cy=\"-624.09\" rx=\"55.31\" ry=\"26.74\"/>\n",
       "<text text-anchor=\"middle\" x=\"329.15\" y=\"-627.89\" font-family=\"Times,serif\" font-size=\"14.00\">Int (54601)</text>\n",
       "<text text-anchor=\"middle\" x=\"329.15\" y=\"-612.89\" font-family=\"Times,serif\" font-size=\"14.00\">value: 1</text>\n",
       "</g>\n",
       "<!-- N54588&#45;&gt;N54601 -->\n",
       "<g id=\"edge5\" class=\"edge\">\n",
       "<title>N54588&#45;&gt;N54601</title>\n",
       "<path fill=\"none\" stroke=\"#000000\" stroke-dasharray=\"5,2\" d=\"M241.61,-716.42C247.92,-710.66 254.27,-704.72 260.15,-698.96 273.84,-685.57 288.4,-670.18 300.59,-656.92\"/>\n",
       "<polygon fill=\"#000000\" stroke=\"#000000\" points=\"303.05,-659.42 307.21,-649.68 297.88,-654.7 303.05,-659.42\"/>\n",
       "<text text-anchor=\"middle\" x=\"334.15\" y=\"-687.76\" font-family=\"Times,serif\" font-size=\"14.00\">RETURN</text>\n",
       "<text text-anchor=\"middle\" x=\"334.15\" y=\"-672.76\" font-family=\"Times,serif\" font-size=\"14.00\">execution_count</text>\n",
       "</g>\n",
       "<!-- N54592 -->\n",
       "<g id=\"node3\" class=\"node\">\n",
       "<title>N54592</title>\n",
       "<ellipse fill=\"#8cd499\" stroke=\"black\" stroke-width=\"0\" cx=\"55.15\" cy=\"-504.35\" rx=\"55.31\" ry=\"26.74\"/>\n",
       "<text text-anchor=\"middle\" x=\"55.15\" y=\"-508.15\" font-family=\"Times,serif\" font-size=\"14.00\">Int (54592)</text>\n",
       "<text text-anchor=\"middle\" x=\"55.15\" y=\"-493.15\" font-family=\"Times,serif\" font-size=\"14.00\">value: &#45;1</text>\n",
       "</g>\n",
       "<!-- N54591&#45;&gt;N54592 -->\n",
       "<g id=\"edge2\" class=\"edge\">\n",
       "<title>N54591&#45;&gt;N54592</title>\n",
       "<path fill=\"none\" stroke=\"#000000\" d=\"M57.51,-597.83C57.1,-581.65 56.56,-560.36 56.1,-542.3\"/>\n",
       "<polygon fill=\"#000000\" stroke=\"#000000\" points=\"59.6,-542.39 55.85,-532.49 52.6,-542.57 59.6,-542.39\"/>\n",
       "<text text-anchor=\"middle\" x=\"83.15\" y=\"-568.02\" font-family=\"Times,serif\" font-size=\"14.00\">CREATE</text>\n",
       "<text text-anchor=\"middle\" x=\"83.15\" y=\"-553.02\" font-family=\"Times,serif\" font-size=\"14.00\">result</text>\n",
       "</g>\n",
       "<!-- N54592&#45;&gt;N54595 -->\n",
       "<g id=\"edge3\" class=\"edge\">\n",
       "<title>N54592&#45;&gt;N54595</title>\n",
       "<path fill=\"none\" stroke=\"#000000\" d=\"M48.7,-477.85C46.35,-462.67 46.14,-443.65 55.15,-429.48 63.31,-416.66 76.35,-407.55 90.12,-401.11\"/>\n",
       "<polygon fill=\"#000000\" stroke=\"#000000\" points=\"91.44,-404.35 99.32,-397.26 88.75,-397.89 91.44,-404.35\"/>\n",
       "<text text-anchor=\"middle\" x=\"96.65\" y=\"-448.28\" font-family=\"Times,serif\" font-size=\"14.00\">INPUT_CALC</text>\n",
       "<text text-anchor=\"middle\" x=\"96.65\" y=\"-433.28\" font-family=\"Times,serif\" font-size=\"14.00\">x</text>\n",
       "</g>\n",
       "<!-- N54596 -->\n",
       "<g id=\"node5\" class=\"node\">\n",
       "<title>N54596</title>\n",
       "<ellipse fill=\"#8cd499\" stroke=\"black\" stroke-width=\"0\" cx=\"148.15\" cy=\"-265.61\" rx=\"55.31\" ry=\"26.74\"/>\n",
       "<text text-anchor=\"middle\" x=\"148.15\" y=\"-269.41\" font-family=\"Times,serif\" font-size=\"14.00\">Int (54596)</text>\n",
       "<text text-anchor=\"middle\" x=\"148.15\" y=\"-254.41\" font-family=\"Times,serif\" font-size=\"14.00\">value: 1</text>\n",
       "</g>\n",
       "<!-- N54595&#45;&gt;N54596 -->\n",
       "<g id=\"edge9\" class=\"edge\">\n",
       "<title>N54595&#45;&gt;N54596</title>\n",
       "<path fill=\"none\" stroke=\"#000000\" d=\"M148.15,-358.51C148.15,-342.44 148.15,-321.41 148.15,-303.53\"/>\n",
       "<polygon fill=\"#000000\" stroke=\"#000000\" points=\"151.65,-303.54 148.15,-293.54 144.65,-303.54 151.65,-303.54\"/>\n",
       "<text text-anchor=\"middle\" x=\"174.15\" y=\"-329.28\" font-family=\"Times,serif\" font-size=\"14.00\">CREATE</text>\n",
       "<text text-anchor=\"middle\" x=\"174.15\" y=\"-314.28\" font-family=\"Times,serif\" font-size=\"14.00\">result</text>\n",
       "</g>\n",
       "<!-- N54596&#45;&gt;N54599 -->\n",
       "<g id=\"edge8\" class=\"edge\">\n",
       "<title>N54596&#45;&gt;N54599</title>\n",
       "<path fill=\"none\" stroke=\"#000000\" d=\"M143.62,-239.24C142.15,-224.46 142.35,-205.82 149.15,-190.74 150.68,-187.36 152.61,-184.12 154.82,-181.06\"/>\n",
       "<polygon fill=\"#000000\" stroke=\"#000000\" points=\"157.39,-183.44 161.15,-173.54 152.03,-178.93 157.39,-183.44\"/>\n",
       "<text text-anchor=\"middle\" x=\"190.65\" y=\"-209.54\" font-family=\"Times,serif\" font-size=\"14.00\">INPUT_CALC</text>\n",
       "<text text-anchor=\"middle\" x=\"190.65\" y=\"-194.54\" font-family=\"Times,serif\" font-size=\"14.00\">x</text>\n",
       "</g>\n",
       "<!-- N54600 -->\n",
       "<g id=\"node7\" class=\"node\">\n",
       "<title>N54600</title>\n",
       "<ellipse fill=\"#8cd499\" stroke=\"black\" stroke-width=\"0\" cx=\"197.15\" cy=\"-26.87\" rx=\"55.31\" ry=\"26.74\"/>\n",
       "<text text-anchor=\"middle\" x=\"197.15\" y=\"-30.67\" font-family=\"Times,serif\" font-size=\"14.00\">Int (54600)</text>\n",
       "<text text-anchor=\"middle\" x=\"197.15\" y=\"-15.67\" font-family=\"Times,serif\" font-size=\"14.00\">value: 2</text>\n",
       "</g>\n",
       "<!-- N54599&#45;&gt;N54600 -->\n",
       "<g id=\"edge1\" class=\"edge\">\n",
       "<title>N54599&#45;&gt;N54600</title>\n",
       "<path fill=\"none\" stroke=\"#000000\" d=\"M197.15,-119.77C197.15,-103.7 197.15,-82.67 197.15,-64.79\"/>\n",
       "<polygon fill=\"#000000\" stroke=\"#000000\" points=\"200.65,-64.8 197.15,-54.8 193.65,-64.8 200.65,-64.8\"/>\n",
       "<text text-anchor=\"middle\" x=\"223.15\" y=\"-90.54\" font-family=\"Times,serif\" font-size=\"14.00\">CREATE</text>\n",
       "<text text-anchor=\"middle\" x=\"223.15\" y=\"-75.54\" font-family=\"Times,serif\" font-size=\"14.00\">result</text>\n",
       "</g>\n",
       "</g>\n",
       "</svg>\n"
      ],
      "text/plain": [
       "<graphviz.graphs.Digraph at 0x7a86f8074390>"
      ]
     },
     "execution_count": 9,
     "metadata": {},
     "output_type": "execute_result"
    }
   ],
   "source": [
    "from aiida_workgraph.utils import generate_node_graph\n",
    "generate_node_graph(wg.pk)"
   ]
  },
  {
   "cell_type": "markdown",
   "id": "0f46d277",
   "metadata": {},
   "source": [
    "## Using the graph_builder Decorator\n",
    "\n",
    "The `graph_builder` decorator is used for creating a dynamic `WorkGraph` during runtime based on input values. This method differs significantly from the `If Task`:\n",
    "\n",
    "- **Visibility**: In the GUI, only the `graph_builder` task is visible before execution.\n",
    "- **Dynamic Generation**: Upon running, it generates the WorkGraph dynamically, allowing for complex conditional logic and flow adjustments based on runtime data.\n",
    "\n"
   ]
  },
  {
   "cell_type": "code",
   "execution_count": 16,
   "id": "11e3bca1-dda6-44e9-9585-54feeda7e7db",
   "metadata": {},
   "outputs": [],
   "source": [
    "# Create a WorkGraph which is dynamically generated based on the input\n",
    "# then we output the result of from the context (context)\n",
    "@task.graph_builder(outputs = [{\"name\": \"result\", \"from\": \"ctx.data\"}])\n",
    "def add_multiply_if(x, y):\n",
    "    wg = WorkGraph()\n",
    "    if x.value > 0:\n",
    "        add1 = wg.add_task(add, name=\"add1\", x=x, y=y)\n",
    "        # export the result of add1 to the context.data\n",
    "        wg.ctx.data = add1.outputs.result\n",
    "    else:\n",
    "        multiply1 = wg.add_task(multiply, name=\"multiply1\", x=x, y=y)\n",
    "        # export the result of multiply1 to the context.dadta\n",
    "        wg.ctx.data = multiply1.outputs.result\n",
    "    return wg"
   ]
  },
  {
   "cell_type": "markdown",
   "id": "65f4c44d",
   "metadata": {},
   "source": [
    "### Create the workflow\n"
   ]
  },
  {
   "cell_type": "code",
   "execution_count": 17,
   "id": "8ee799d2-0b5b-4609-957f-6b3f2cd451f0",
   "metadata": {},
   "outputs": [
    {
     "data": {
      "text/html": [
       "\n",
       "        <iframe\n",
       "            width=\"100%\"\n",
       "            height=\"600px\"\n",
       "            src=\"html/if_graph_builer.html\"\n",
       "            frameborder=\"0\"\n",
       "            allowfullscreen\n",
       "            \n",
       "        ></iframe>\n",
       "        "
      ],
      "text/plain": [
       "<IPython.lib.display.IFrame at 0x7a86c9f1ac50>"
      ]
     },
     "execution_count": 17,
     "metadata": {},
     "output_type": "execute_result"
    }
   ],
   "source": [
    "from aiida_workgraph import WorkGraph\n",
    "\n",
    "wg = WorkGraph(\"if_graph_builer\")\n",
    "add1 = wg.add_task(add, name=\"add1\", x=1, y=1)\n",
    "add_multiply_if1 = wg.add_task(add_multiply_if, name=\"add_multiply_if1\", x=add1.outputs.result, y=2)\n",
    "add1 = wg.add_task(add, name=\"add2\", x=add_multiply_if1.outputs.result, y=1)\n",
    "# export the workgraph to html file so that it can be visualized in a browser\n",
    "wg.to_html()\n",
    "# comment out the following line to visualize the workgraph in jupyter-notebook\n",
    "# wg"
   ]
  },
  {
   "cell_type": "markdown",
   "id": "c7ec3198",
   "metadata": {},
   "source": [
    "In the GUI, we only see the `add_multiply_if1` task. When this task run, it will generate a `WorkGraph` based on the input value. This is different from the `If` task, in which we see all tasks before the WorkGraph run.\n",
    "\n",
    "\n",
    "### Submit the WorkGraph and check the results\n"
   ]
  },
  {
   "cell_type": "code",
   "execution_count": 18,
   "id": "9ebf35aa",
   "metadata": {},
   "outputs": [
    {
     "name": "stderr",
     "output_type": "stream",
     "text": [
      "03/20/2025 07:10:40 PM <1637389> aiida.orm.nodes.process.workflow.workchain.WorkChainNode: [REPORT] [54625|WorkGraphEngine|continue_workgraph]: Continue workgraph.\n",
      "03/20/2025 07:10:40 PM <1637389> aiida.orm.nodes.process.workflow.workchain.WorkChainNode: [REPORT] [54625|WorkGraphEngine|continue_workgraph]: tasks ready to run: add1\n",
      "03/20/2025 07:10:41 PM <1637389> aiida.orm.nodes.process.workflow.workchain.WorkChainNode: [REPORT] [54625|WorkGraphEngine|run_tasks]: Run task: add1, type: CALCFUNCTION\n"
     ]
    },
    {
     "name": "stdout",
     "output_type": "stream",
     "text": [
      "------------------------------------------------------------\n",
      "kwargs:  {'x': 1, 'y': 1}\n"
     ]
    },
    {
     "name": "stderr",
     "output_type": "stream",
     "text": [
      "03/20/2025 07:10:41 PM <1637389> aiida.orm.nodes.process.workflow.workchain.WorkChainNode: [REPORT] [54625|WorkGraphEngine|update_task_state]: Task: add1 finished.\n",
      "03/20/2025 07:10:41 PM <1637389> aiida.orm.nodes.process.workflow.workchain.WorkChainNode: [REPORT] [54625|WorkGraphEngine|continue_workgraph]: Continue workgraph.\n",
      "03/20/2025 07:10:41 PM <1637389> aiida.orm.nodes.process.workflow.workchain.WorkChainNode: [REPORT] [54625|WorkGraphEngine|continue_workgraph]: tasks ready to run: add_multiply_if1\n",
      "03/20/2025 07:10:41 PM <1637389> aiida.orm.nodes.process.workflow.workchain.WorkChainNode: [REPORT] [54625|WorkGraphEngine|run_tasks]: Run task: add_multiply_if1, type: graph_builder\n"
     ]
    },
    {
     "name": "stdout",
     "output_type": "stream",
     "text": [
      "------------------------------------------------------------\n",
      "kwargs:  {'x': <Int: uuid: 40eec452-5cf8-427f-aadc-80b417a3a23d (pk: 54629) value: 2>, 'y': 2}\n"
     ]
    },
    {
     "name": "stderr",
     "output_type": "stream",
     "text": [
      "03/20/2025 07:10:42 PM <1637389> aiida.orm.nodes.process.workflow.workchain.WorkChainNode: [REPORT] [54625|WorkGraphEngine|on_wait]: Process status: Waiting for child processes: 54630\n",
      "03/20/2025 07:10:43 PM <1637389> aiida.orm.nodes.process.workflow.workchain.WorkChainNode: [REPORT] [54630|WorkGraphEngine|continue_workgraph]: Continue workgraph.\n",
      "03/20/2025 07:10:43 PM <1637389> aiida.orm.nodes.process.workflow.workchain.WorkChainNode: [REPORT] [54630|WorkGraphEngine|continue_workgraph]: tasks ready to run: add1\n",
      "03/20/2025 07:10:43 PM <1637389> aiida.orm.nodes.process.workflow.workchain.WorkChainNode: [REPORT] [54630|WorkGraphEngine|run_tasks]: Run task: add1, type: CALCFUNCTION\n"
     ]
    },
    {
     "name": "stdout",
     "output_type": "stream",
     "text": [
      "------------------------------------------------------------\n",
      "kwargs:  {'x': <Int: uuid: 40eec452-5cf8-427f-aadc-80b417a3a23d (pk: 54629) value: 2>, 'y': 2}\n"
     ]
    },
    {
     "name": "stderr",
     "output_type": "stream",
     "text": [
      "03/20/2025 07:10:43 PM <1637389> aiida.orm.nodes.process.workflow.workchain.WorkChainNode: [REPORT] [54630|WorkGraphEngine|update_task_state]: Task: add1 finished.\n",
      "03/20/2025 07:10:43 PM <1637389> aiida.orm.nodes.process.workflow.workchain.WorkChainNode: [REPORT] [54630|WorkGraphEngine|continue_workgraph]: Continue workgraph.\n",
      "03/20/2025 07:10:43 PM <1637389> aiida.orm.nodes.process.workflow.workchain.WorkChainNode: [REPORT] [54630|WorkGraphEngine|continue_workgraph]: tasks ready to run: \n",
      "03/20/2025 07:10:43 PM <1637389> aiida.orm.nodes.process.workflow.workchain.WorkChainNode: [REPORT] [54630|WorkGraphEngine|finalize]: Finalize workgraph.\n",
      "03/20/2025 07:10:43 PM <1637389> aiida.orm.nodes.process.workflow.workchain.WorkChainNode: [REPORT] [54625|WorkGraphEngine|update_task_state]: Task: add_multiply_if1 finished.\n",
      "03/20/2025 07:10:44 PM <1637389> aiida.orm.nodes.process.workflow.workchain.WorkChainNode: [REPORT] [54625|WorkGraphEngine|continue_workgraph]: Continue workgraph.\n",
      "03/20/2025 07:10:44 PM <1637389> aiida.orm.nodes.process.workflow.workchain.WorkChainNode: [REPORT] [54625|WorkGraphEngine|continue_workgraph]: tasks ready to run: add2\n",
      "03/20/2025 07:10:44 PM <1637389> aiida.orm.nodes.process.workflow.workchain.WorkChainNode: [REPORT] [54625|WorkGraphEngine|run_tasks]: Run task: add2, type: CALCFUNCTION\n"
     ]
    },
    {
     "name": "stdout",
     "output_type": "stream",
     "text": [
      "------------------------------------------------------------\n",
      "kwargs:  {'x': <Int: uuid: 89e68ce3-7265-4900-8c25-743943c08235 (pk: 54633) value: 4>, 'y': 1}\n"
     ]
    },
    {
     "name": "stderr",
     "output_type": "stream",
     "text": [
      "03/20/2025 07:10:44 PM <1637389> aiida.orm.nodes.process.workflow.workchain.WorkChainNode: [REPORT] [54625|WorkGraphEngine|update_task_state]: Task: add2 finished.\n",
      "03/20/2025 07:10:45 PM <1637389> aiida.orm.nodes.process.workflow.workchain.WorkChainNode: [REPORT] [54625|WorkGraphEngine|continue_workgraph]: Continue workgraph.\n",
      "03/20/2025 07:10:45 PM <1637389> aiida.orm.nodes.process.workflow.workchain.WorkChainNode: [REPORT] [54625|WorkGraphEngine|continue_workgraph]: tasks ready to run: \n",
      "03/20/2025 07:10:45 PM <1637389> aiida.orm.nodes.process.workflow.workchain.WorkChainNode: [REPORT] [54625|WorkGraphEngine|finalize]: Finalize workgraph.\n"
     ]
    },
    {
     "name": "stdout",
     "output_type": "stream",
     "text": [
      "State of WorkGraph         : FINISHED\n",
      "Result                     : uuid: bba7fc5d-d6f5-477b-9539-759cce0cc010 (pk: 54637) value: 5\n"
     ]
    }
   ],
   "source": [
    "wg.run()\n",
    "print(\"State of WorkGraph         : {}\".format(wg.state))\n",
    "print('Result                     : {}'.format(wg.tasks.add2.outputs.result.value))"
   ]
  },
  {
   "cell_type": "markdown",
   "id": "125ac629",
   "metadata": {},
   "source": [
    "Generate node graph from the AiiDA process,and we can see that the `multiply` task is executed."
   ]
  },
  {
   "cell_type": "code",
   "execution_count": 8,
   "id": "0060e380",
   "metadata": {},
   "outputs": [
    {
     "data": {
      "image/svg+xml": [
       "<?xml version=\"1.0\" encoding=\"UTF-8\" standalone=\"no\"?>\n",
       "<!DOCTYPE svg PUBLIC \"-//W3C//DTD SVG 1.1//EN\"\n",
       " \"http://www.w3.org/Graphics/SVG/1.1/DTD/svg11.dtd\">\n",
       "<!-- Generated by graphviz version 7.1.0 (20230122.1345)\n",
       " -->\n",
       "<!-- Pages: 1 -->\n",
       "<svg width=\"759pt\" height=\"942pt\"\n",
       " viewBox=\"0.00 0.00 759.15 941.61\" xmlns=\"http://www.w3.org/2000/svg\" xmlns:xlink=\"http://www.w3.org/1999/xlink\">\n",
       "<g id=\"graph0\" class=\"graph\" transform=\"scale(1 1) rotate(0) translate(4 937.61)\">\n",
       "<polygon fill=\"white\" stroke=\"none\" points=\"-4,4 -4,-937.61 755.15,-937.61 755.15,4 -4,4\"/>\n",
       "<!-- N38430 -->\n",
       "<g id=\"node1\" class=\"node\">\n",
       "<title>N38430</title>\n",
       "<ellipse fill=\"#8cd499\" stroke=\"red\" stroke-width=\"6\" cx=\"554\" cy=\"-896.13\" rx=\"161.44\" ry=\"37.45\"/>\n",
       "<text text-anchor=\"middle\" x=\"554\" y=\"-907.43\" font-family=\"Times,serif\" font-size=\"14.00\">WorkGraph&lt;if_graph_builer&gt; (38430)</text>\n",
       "<text text-anchor=\"middle\" x=\"554\" y=\"-892.43\" font-family=\"Times,serif\" font-size=\"14.00\">State: finished</text>\n",
       "<text text-anchor=\"middle\" x=\"554\" y=\"-877.43\" font-family=\"Times,serif\" font-size=\"14.00\">Exit Code: 0</text>\n",
       "</g>\n",
       "<!-- N38433 -->\n",
       "<g id=\"node2\" class=\"node\">\n",
       "<title>N38433</title>\n",
       "<polygon fill=\"#de707f\" fill-opacity=\"0.466667\" stroke=\"black\" stroke-width=\"0\" points=\"551.5,-792.28 456.5,-792.28 456.5,-739.28 551.5,-739.28 551.5,-792.28\"/>\n",
       "<text text-anchor=\"middle\" x=\"504\" y=\"-777.08\" font-family=\"Times,serif\" font-size=\"14.00\">add (38433)</text>\n",
       "<text text-anchor=\"middle\" x=\"504\" y=\"-762.08\" font-family=\"Times,serif\" font-size=\"14.00\">State: finished</text>\n",
       "<text text-anchor=\"middle\" x=\"504\" y=\"-747.08\" font-family=\"Times,serif\" font-size=\"14.00\">Exit Code: 0</text>\n",
       "</g>\n",
       "<!-- N38430&#45;&gt;N38433 -->\n",
       "<g id=\"edge5\" class=\"edge\">\n",
       "<title>N38430&#45;&gt;N38433</title>\n",
       "<path fill=\"none\" stroke=\"#000000\" stroke-dasharray=\"1,5\" d=\"M527.62,-856.41C524.77,-851.25 522.14,-845.92 520,-840.65 515.21,-828.86 511.75,-815.4 509.31,-803.23\"/>\n",
       "<polygon fill=\"#000000\" stroke=\"#000000\" points=\"512.78,-802.74 507.53,-793.54 505.89,-804 512.78,-802.74\"/>\n",
       "<text text-anchor=\"middle\" x=\"559.5\" y=\"-829.45\" font-family=\"Times,serif\" font-size=\"14.00\">CALL_CALC</text>\n",
       "<text text-anchor=\"middle\" x=\"559.5\" y=\"-814.45\" font-family=\"Times,serif\" font-size=\"14.00\">add1</text>\n",
       "</g>\n",
       "<!-- N38435 -->\n",
       "<g id=\"node4\" class=\"node\">\n",
       "<title>N38435</title>\n",
       "<ellipse fill=\"#8cd499\" stroke=\"black\" stroke-width=\"0\" cx=\"169\" cy=\"-515.7\" rx=\"169\" ry=\"37.45\"/>\n",
       "<text text-anchor=\"middle\" x=\"169\" y=\"-527\" font-family=\"Times,serif\" font-size=\"14.00\">WorkGraph&lt;add_multiply_if1&gt; (38435)</text>\n",
       "<text text-anchor=\"middle\" x=\"169\" y=\"-512\" font-family=\"Times,serif\" font-size=\"14.00\">State: finished</text>\n",
       "<text text-anchor=\"middle\" x=\"169\" y=\"-497\" font-family=\"Times,serif\" font-size=\"14.00\">Exit Code: 0</text>\n",
       "</g>\n",
       "<!-- N38430&#45;&gt;N38435 -->\n",
       "<g id=\"edge12\" class=\"edge\">\n",
       "<title>N38430&#45;&gt;N38435</title>\n",
       "<path fill=\"none\" stroke=\"#000000\" stroke-dasharray=\"1,5\" d=\"M464.61,-862.2C363.3,-819.45 203.26,-734.19 134,-601.17 127.58,-588.84 129.65,-575.06 135.15,-562.26\"/>\n",
       "<polygon fill=\"#000000\" stroke=\"#000000\" points=\"138.13,-564.11 139.52,-553.61 131.89,-560.96 138.13,-564.11\"/>\n",
       "<text text-anchor=\"middle\" x=\"277.5\" y=\"-709.71\" font-family=\"Times,serif\" font-size=\"14.00\">CALL_WORK</text>\n",
       "<text text-anchor=\"middle\" x=\"277.5\" y=\"-694.71\" font-family=\"Times,serif\" font-size=\"14.00\">add_multiply_if1</text>\n",
       "</g>\n",
       "<!-- N38441 -->\n",
       "<g id=\"node8\" class=\"node\">\n",
       "<title>N38441</title>\n",
       "<polygon fill=\"#de707f\" fill-opacity=\"0.466667\" stroke=\"black\" stroke-width=\"0\" points=\"599.5,-172.74 504.5,-172.74 504.5,-119.74 599.5,-119.74 599.5,-172.74\"/>\n",
       "<text text-anchor=\"middle\" x=\"552\" y=\"-157.54\" font-family=\"Times,serif\" font-size=\"14.00\">add (38441)</text>\n",
       "<text text-anchor=\"middle\" x=\"552\" y=\"-142.54\" font-family=\"Times,serif\" font-size=\"14.00\">State: finished</text>\n",
       "<text text-anchor=\"middle\" x=\"552\" y=\"-127.54\" font-family=\"Times,serif\" font-size=\"14.00\">Exit Code: 0</text>\n",
       "</g>\n",
       "<!-- N38430&#45;&gt;N38441 -->\n",
       "<g id=\"edge6\" class=\"edge\">\n",
       "<title>N38430&#45;&gt;N38441</title>\n",
       "<path fill=\"none\" stroke=\"#000000\" stroke-dasharray=\"1,5\" d=\"M589.46,-856.86C593.09,-851.67 596.39,-846.21 599,-840.65 613.2,-810.4 613,-800.2 613,-766.78 613,-766.78 613,-766.78 613,-264.61 613,-231.19 615.19,-219.97 599,-190.74 597.11,-187.33 594.86,-184.04 592.38,-180.89\"/>\n",
       "<polygon fill=\"#000000\" stroke=\"#000000\" points=\"595.15,-178.75 585.89,-173.59 589.91,-183.39 595.15,-178.75\"/>\n",
       "<text text-anchor=\"middle\" x=\"652.5\" y=\"-519.5\" font-family=\"Times,serif\" font-size=\"14.00\">CALL_CALC</text>\n",
       "<text text-anchor=\"middle\" x=\"652.5\" y=\"-504.5\" font-family=\"Times,serif\" font-size=\"14.00\">add2</text>\n",
       "</g>\n",
       "<!-- N38443 -->\n",
       "<g id=\"node10\" class=\"node\">\n",
       "<title>N38443</title>\n",
       "<ellipse fill=\"#8cd499\" stroke=\"black\" stroke-width=\"0\" cx=\"696\" cy=\"-765.78\" rx=\"55.31\" ry=\"26.74\"/>\n",
       "<text text-anchor=\"middle\" x=\"696\" y=\"-769.58\" font-family=\"Times,serif\" font-size=\"14.00\">Int (38443)</text>\n",
       "<text text-anchor=\"middle\" x=\"696\" y=\"-754.58\" font-family=\"Times,serif\" font-size=\"14.00\">value: 1</text>\n",
       "</g>\n",
       "<!-- N38430&#45;&gt;N38443 -->\n",
       "<g id=\"edge11\" class=\"edge\">\n",
       "<title>N38430&#45;&gt;N38443</title>\n",
       "<path fill=\"none\" stroke=\"#000000\" stroke-dasharray=\"5,2\" d=\"M606.35,-857.85C613.45,-852.28 620.52,-846.46 627,-840.65 641.37,-827.79 656.12,-812.35 668.28,-798.92\"/>\n",
       "<polygon fill=\"#000000\" stroke=\"#000000\" points=\"670.8,-801.35 674.85,-791.56 665.58,-796.69 670.8,-801.35\"/>\n",
       "<text text-anchor=\"middle\" x=\"701\" y=\"-829.45\" font-family=\"Times,serif\" font-size=\"14.00\">RETURN</text>\n",
       "<text text-anchor=\"middle\" x=\"701\" y=\"-814.45\" font-family=\"Times,serif\" font-size=\"14.00\">execution_count</text>\n",
       "</g>\n",
       "<!-- N38434 -->\n",
       "<g id=\"node3\" class=\"node\">\n",
       "<title>N38434</title>\n",
       "<ellipse fill=\"#8cd499\" stroke=\"black\" stroke-width=\"0\" cx=\"496\" cy=\"-646.04\" rx=\"55.31\" ry=\"26.74\"/>\n",
       "<text text-anchor=\"middle\" x=\"496\" y=\"-649.84\" font-family=\"Times,serif\" font-size=\"14.00\">Int (38434)</text>\n",
       "<text text-anchor=\"middle\" x=\"496\" y=\"-634.84\" font-family=\"Times,serif\" font-size=\"14.00\">value: 2</text>\n",
       "</g>\n",
       "<!-- N38433&#45;&gt;N38434 -->\n",
       "<g id=\"edge7\" class=\"edge\">\n",
       "<title>N38433&#45;&gt;N38434</title>\n",
       "<path fill=\"none\" stroke=\"#000000\" d=\"M502.28,-739.53C501.18,-723.34 499.74,-702.06 498.51,-683.99\"/>\n",
       "<polygon fill=\"#000000\" stroke=\"#000000\" points=\"502.01,-683.92 497.84,-674.18 495.03,-684.39 502.01,-683.92\"/>\n",
       "<text text-anchor=\"middle\" x=\"527\" y=\"-709.71\" font-family=\"Times,serif\" font-size=\"14.00\">CREATE</text>\n",
       "<text text-anchor=\"middle\" x=\"527\" y=\"-694.71\" font-family=\"Times,serif\" font-size=\"14.00\">result</text>\n",
       "</g>\n",
       "<!-- N38434&#45;&gt;N38435 -->\n",
       "<g id=\"edge10\" class=\"edge\">\n",
       "<title>N38434&#45;&gt;N38435</title>\n",
       "<path fill=\"none\" stroke=\"#000000\" stroke-dasharray=\"5,2\" d=\"M441.52,-642.14C347.81,-636.58 164.28,-623.01 145,-601.17 135.68,-590.62 136.21,-576.69 140.69,-563.2\"/>\n",
       "<polygon fill=\"#000000\" stroke=\"#000000\" points=\"143.93,-564.52 144.44,-553.94 137.44,-561.89 143.93,-564.52\"/>\n",
       "<text text-anchor=\"middle\" x=\"313.5\" y=\"-589.97\" font-family=\"Times,serif\" font-size=\"14.00\">INPUT_WORK</text>\n",
       "<text text-anchor=\"middle\" x=\"313.5\" y=\"-574.97\" font-family=\"Times,serif\" font-size=\"14.00\">workgraph_data__tasks__add1__inputs__x__property__value</text>\n",
       "</g>\n",
       "<!-- N38437 -->\n",
       "<g id=\"node5\" class=\"node\">\n",
       "<title>N38437</title>\n",
       "<polygon fill=\"#de707f\" fill-opacity=\"0.466667\" stroke=\"black\" stroke-width=\"0\" points=\"538.5,-411.85 443.5,-411.85 443.5,-358.85 538.5,-358.85 538.5,-411.85\"/>\n",
       "<text text-anchor=\"middle\" x=\"491\" y=\"-396.65\" font-family=\"Times,serif\" font-size=\"14.00\">add (38437)</text>\n",
       "<text text-anchor=\"middle\" x=\"491\" y=\"-381.65\" font-family=\"Times,serif\" font-size=\"14.00\">State: finished</text>\n",
       "<text text-anchor=\"middle\" x=\"491\" y=\"-366.65\" font-family=\"Times,serif\" font-size=\"14.00\">Exit Code: 0</text>\n",
       "</g>\n",
       "<!-- N38434&#45;&gt;N38437 -->\n",
       "<g id=\"edge2\" class=\"edge\">\n",
       "<title>N38434&#45;&gt;N38437</title>\n",
       "<path fill=\"none\" stroke=\"#000000\" d=\"M495.51,-619.77C494.62,-573.79 492.74,-476.31 491.71,-423.02\"/>\n",
       "<polygon fill=\"#000000\" stroke=\"#000000\" points=\"495.21,-423.17 491.52,-413.24 488.21,-423.31 495.21,-423.17\"/>\n",
       "<text text-anchor=\"middle\" x=\"536.5\" y=\"-519.5\" font-family=\"Times,serif\" font-size=\"14.00\">INPUT_CALC</text>\n",
       "<text text-anchor=\"middle\" x=\"536.5\" y=\"-504.5\" font-family=\"Times,serif\" font-size=\"14.00\">x</text>\n",
       "</g>\n",
       "<!-- N38435&#45;&gt;N38437 -->\n",
       "<g id=\"edge9\" class=\"edge\">\n",
       "<title>N38435&#45;&gt;N38437</title>\n",
       "<path fill=\"none\" stroke=\"#000000\" stroke-dasharray=\"1,5\" d=\"M269.53,-485.77C293.23,-478.15 318.21,-469.46 341,-460.22 368.63,-449.02 374.26,-443.42 401,-430.22 411.51,-425.03 422.73,-419.53 433.56,-414.24\"/>\n",
       "<polygon fill=\"#000000\" stroke=\"#000000\" points=\"434.96,-417.45 442.42,-409.92 431.9,-411.16 434.96,-417.45\"/>\n",
       "<text text-anchor=\"middle\" x=\"440.5\" y=\"-449.02\" font-family=\"Times,serif\" font-size=\"14.00\">CALL_CALC</text>\n",
       "<text text-anchor=\"middle\" x=\"440.5\" y=\"-434.02\" font-family=\"Times,serif\" font-size=\"14.00\">add1</text>\n",
       "</g>\n",
       "<!-- N38438 -->\n",
       "<g id=\"node6\" class=\"node\">\n",
       "<title>N38438</title>\n",
       "<ellipse fill=\"#8cd499\" stroke=\"black\" stroke-width=\"0\" cx=\"491\" cy=\"-265.61\" rx=\"55.31\" ry=\"26.74\"/>\n",
       "<text text-anchor=\"middle\" x=\"491\" y=\"-269.41\" font-family=\"Times,serif\" font-size=\"14.00\">Int (38438)</text>\n",
       "<text text-anchor=\"middle\" x=\"491\" y=\"-254.41\" font-family=\"Times,serif\" font-size=\"14.00\">value: 4</text>\n",
       "</g>\n",
       "<!-- N38435&#45;&gt;N38438 -->\n",
       "<g id=\"edge13\" class=\"edge\">\n",
       "<title>N38435&#45;&gt;N38438</title>\n",
       "<path fill=\"none\" stroke=\"#000000\" stroke-dasharray=\"5,2\" d=\"M231.26,-480.91C242.08,-474.4 253.04,-467.37 263,-460.22 318.71,-420.23 326.7,-402.84 379,-358.48 404.11,-337.18 432.84,-313.63 454.92,-295.7\"/>\n",
       "<polygon fill=\"#000000\" stroke=\"#000000\" points=\"456.89,-298.61 462.46,-289.59 452.48,-293.17 456.89,-298.61\"/>\n",
       "<text text-anchor=\"middle\" x=\"406.5\" y=\"-389.15\" font-family=\"Times,serif\" font-size=\"14.00\">RETURN</text>\n",
       "<text text-anchor=\"middle\" x=\"406.5\" y=\"-374.15\" font-family=\"Times,serif\" font-size=\"14.00\">result</text>\n",
       "</g>\n",
       "<!-- N38439 -->\n",
       "<g id=\"node7\" class=\"node\">\n",
       "<title>N38439</title>\n",
       "<ellipse fill=\"#8cd499\" stroke=\"black\" stroke-width=\"0\" cx=\"169\" cy=\"-385.35\" rx=\"55.31\" ry=\"26.74\"/>\n",
       "<text text-anchor=\"middle\" x=\"169\" y=\"-389.15\" font-family=\"Times,serif\" font-size=\"14.00\">Int (38439)</text>\n",
       "<text text-anchor=\"middle\" x=\"169\" y=\"-374.15\" font-family=\"Times,serif\" font-size=\"14.00\">value: 1</text>\n",
       "</g>\n",
       "<!-- N38435&#45;&gt;N38439 -->\n",
       "<g id=\"edge4\" class=\"edge\">\n",
       "<title>N38435&#45;&gt;N38439</title>\n",
       "<path fill=\"none\" stroke=\"#000000\" stroke-dasharray=\"5,2\" d=\"M169,-478.26C169,-461.04 169,-440.52 169,-423.24\"/>\n",
       "<polygon fill=\"#000000\" stroke=\"#000000\" points=\"172.5,-423.39 169,-413.39 165.5,-423.39 172.5,-423.39\"/>\n",
       "<text text-anchor=\"middle\" x=\"214\" y=\"-449.02\" font-family=\"Times,serif\" font-size=\"14.00\">RETURN</text>\n",
       "<text text-anchor=\"middle\" x=\"214\" y=\"-434.02\" font-family=\"Times,serif\" font-size=\"14.00\">execution_count</text>\n",
       "</g>\n",
       "<!-- N38437&#45;&gt;N38438 -->\n",
       "<g id=\"edge3\" class=\"edge\">\n",
       "<title>N38437&#45;&gt;N38438</title>\n",
       "<path fill=\"none\" stroke=\"#000000\" d=\"M491,-359.09C491,-342.91 491,-321.62 491,-303.56\"/>\n",
       "<polygon fill=\"#000000\" stroke=\"#000000\" points=\"494.5,-303.75 491,-293.75 487.5,-303.75 494.5,-303.75\"/>\n",
       "<text text-anchor=\"middle\" x=\"517\" y=\"-329.28\" font-family=\"Times,serif\" font-size=\"14.00\">CREATE</text>\n",
       "<text text-anchor=\"middle\" x=\"517\" y=\"-314.28\" font-family=\"Times,serif\" font-size=\"14.00\">result</text>\n",
       "</g>\n",
       "<!-- N38438&#45;&gt;N38441 -->\n",
       "<g id=\"edge8\" class=\"edge\">\n",
       "<title>N38438&#45;&gt;N38441</title>\n",
       "<path fill=\"none\" stroke=\"#000000\" d=\"M497.07,-239.37C501.21,-224.63 507.49,-205.99 516,-190.74 517.77,-187.57 519.77,-184.41 521.92,-181.32\"/>\n",
       "<polygon fill=\"#000000\" stroke=\"#000000\" points=\"524.55,-183.65 527.74,-173.54 518.94,-179.45 524.55,-183.65\"/>\n",
       "<text text-anchor=\"middle\" x=\"557.5\" y=\"-209.54\" font-family=\"Times,serif\" font-size=\"14.00\">INPUT_CALC</text>\n",
       "<text text-anchor=\"middle\" x=\"557.5\" y=\"-194.54\" font-family=\"Times,serif\" font-size=\"14.00\">x</text>\n",
       "</g>\n",
       "<!-- N38442 -->\n",
       "<g id=\"node9\" class=\"node\">\n",
       "<title>N38442</title>\n",
       "<ellipse fill=\"#8cd499\" stroke=\"black\" stroke-width=\"0\" cx=\"552\" cy=\"-26.87\" rx=\"55.31\" ry=\"26.74\"/>\n",
       "<text text-anchor=\"middle\" x=\"552\" y=\"-30.67\" font-family=\"Times,serif\" font-size=\"14.00\">Int (38442)</text>\n",
       "<text text-anchor=\"middle\" x=\"552\" y=\"-15.67\" font-family=\"Times,serif\" font-size=\"14.00\">value: 5</text>\n",
       "</g>\n",
       "<!-- N38441&#45;&gt;N38442 -->\n",
       "<g id=\"edge1\" class=\"edge\">\n",
       "<title>N38441&#45;&gt;N38442</title>\n",
       "<path fill=\"none\" stroke=\"#000000\" d=\"M552,-119.77C552,-103.7 552,-82.67 552,-64.79\"/>\n",
       "<polygon fill=\"#000000\" stroke=\"#000000\" points=\"555.5,-64.8 552,-54.8 548.5,-64.8 555.5,-64.8\"/>\n",
       "<text text-anchor=\"middle\" x=\"578\" y=\"-90.54\" font-family=\"Times,serif\" font-size=\"14.00\">CREATE</text>\n",
       "<text text-anchor=\"middle\" x=\"578\" y=\"-75.54\" font-family=\"Times,serif\" font-size=\"14.00\">result</text>\n",
       "</g>\n",
       "</g>\n",
       "</svg>\n"
      ],
      "text/plain": [
       "<graphviz.graphs.Digraph at 0x7f81f85aeb10>"
      ]
     },
     "execution_count": 8,
     "metadata": {},
     "output_type": "execute_result"
    }
   ],
   "source": [
    "from aiida_workgraph.utils import generate_node_graph\n",
    "generate_node_graph(wg.pk)"
   ]
  },
  {
   "cell_type": "markdown",
   "id": "300913e4",
   "metadata": {},
   "source": [
    "## If Task\n",
    "\n",
    "Internally, the `if_` instruction is implemented using the `If Task` from the WorkGraph library. In the WorkGraph user interface, the `If Task` is visually represented as an \"If Zone.\" This zone encapsulates all its child tasks, which are executed based on the defined conditions.\n",
    "\n",
    "- **Conditions**: The If Zone includes a `conditions` socket, which determines when the tasks inside the zone should be executed.\n",
    "- **Invert_condition**: If this input is True, it will invert the conditions.\n",
    "- **Task Linking**: Tasks located outside the If Zone can be directly linked to tasks within the zone, allowing for dynamic workflow adjustments based on conditional outcomes.\n",
    "\n",
    "Here is an example of how to add an `If Task` to a WorkGraph:\n",
    "\n",
    "```python\n",
    "if2 = wg.add_task(\"If\", name=\"if_false\",\n",
    "                        conditions=condition1.outputs[\"result\"],\n",
    "                        invert_condition=True)\n",
    "```\n",
    "\n",
    "### Adding tasks to the If Zone\n",
    "We can add tasks to the `If` zone using the `children` attribute.\n",
    "\n",
    "```python\n",
    "# add task1 and task2 to the if zone\n",
    "if_task.children.add([\"task1\", \"task2\"])\n",
    "```\n",
    "\n",
    "### Creating the Workflow\n",
    "To construct the workflow, we'll utilize the built-in `If` and `Select` tasks from the Workgraph library. The `Select` task enables us to choose between two data sources based on a specified condition.\n",
    "\n",
    "The `Select task has the following inputs:\n",
    "\n",
    "   - **condition**: Provide the condition that dictates the selection between `true` and `false` outputs.\n",
    "   - **true**: Specify the output to be used if the condition evaluates to `true`. \n",
    "   - **false**: Define the output for when the condition evaluates to `false`.\n"
   ]
  },
  {
   "cell_type": "code",
   "execution_count": 22,
   "id": "81bfc955",
   "metadata": {},
   "outputs": [
    {
     "data": {
      "text/html": [
       "\n",
       "        <iframe\n",
       "            width=\"100%\"\n",
       "            height=\"600px\"\n",
       "            src=\"html/if_task.html\"\n",
       "            frameborder=\"0\"\n",
       "            allowfullscreen\n",
       "            \n",
       "        ></iframe>\n",
       "        "
      ],
      "text/plain": [
       "<IPython.lib.display.IFrame at 0x7a86f9551150>"
      ]
     },
     "execution_count": 22,
     "metadata": {},
     "output_type": "execute_result"
    }
   ],
   "source": [
    "from aiida_workgraph import task, WorkGraph\n",
    "\n",
    "\n",
    "with WorkGraph(\"if_task\") as wg:\n",
    "    condition = add(x=1, y=1)\n",
    "    if_true_zone = wg.add_task(\"workgraph.if_zone\", name=\"if_true\",\n",
    "                            conditions=condition)\n",
    "    add2 = if_true_zone.add_task(add, name=\"add2\", x=condition, y=2)\n",
    "    if_false_zone = wg.add_task(\"workgraph.if_zone\", name=\"if_false\",\n",
    "                            conditions=condition,\n",
    "                            invert_condition=True)\n",
    "    multiply1 = if_false_zone.add_task(multiply, name=\"multiply1\", x=condition, y=2)\n",
    "    #---------------------------------------------------------------------\n",
    "    select1 = wg.add_task(\"workgraph.select\", name=\"select1\", true=add2.outputs[\"result\"],\n",
    "                        false=multiply1.outputs[\"result\"],\n",
    "                        condition = condition)\n",
    "    add3 = wg.add_task(add, name=\"add3\", x=select1.outputs[\"result\"], y=1)\n",
    "# export the workgraph to html file so that it can be visualized in a browser\n",
    "wg.to_html()\n",
    "# comment out the following line to visualize the workgraph in jupyter-notebook\n",
    "# wg"
   ]
  },
  {
   "cell_type": "markdown",
   "id": "62934367",
   "metadata": {},
   "source": [
    "### Summary\n",
    "\n",
    "The `active_if_zone` provides a visual and structured approach to managing conditional tasks within a defined zone. In contrast, the `graph_builder` decorator offers flexibility by dynamically generating the workflow based on runtime inputs, suitable for complex and adaptive process flows.\n"
   ]
  }
 ],
 "metadata": {
  "kernelspec": {
   "display_name": "aiida",
   "language": "python",
   "name": "python3"
  },
  "language_info": {
   "codemirror_mode": {
    "name": "ipython",
    "version": 3
   },
   "file_extension": ".py",
   "mimetype": "text/x-python",
   "name": "python",
   "nbconvert_exporter": "python",
   "pygments_lexer": "ipython3",
   "version": "3.11.0"
  }
 },
 "nbformat": 4,
 "nbformat_minor": 5
}
