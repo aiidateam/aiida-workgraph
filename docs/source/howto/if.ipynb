{
 "cells": [
  {
   "cell_type": "markdown",
   "id": "22d177dc-6cfb-4de2-9509-f1eb45e10cf2",
   "metadata": {},
   "source": [
    "# Use `if` condition"
   ]
  },
  {
   "cell_type": "markdown",
   "id": "58696c91",
   "metadata": {},
   "source": [
    "\n",
    "## Introduction\n",
    "\n",
    "This tutorial provides a step-by-step guide on how to implement conditional logic in WorkGraph using two distinct methods:\n",
    "\n",
    "1. **If Task**\n",
    "2. **graph_builder Decorator**\n",
    "\n",
    "\n",
    "## Using the If Task\n",
    "\n",
    "In the WorkGraph user interface, the `If Task` is visually represented as an \"If Zone.\" This zone encapsulates all its child tasks, which are executed based on the defined conditions.\n",
    "\n",
    "- **Conditions**: The If Zone includes a `conditions` socket, which determines when the tasks inside the zone should be executed.\n",
    "- **Invert_condition**: If this input is True, it will invert the conditions.\n",
    "- **Task Linking**: Tasks located outside the If Zone can be directly linked to tasks within the zone, allowing for dynamic workflow adjustments based on conditional outcomes.\n",
    "\n",
    "Here is an example of how to add an `If Task` to a WorkGraph:\n",
    "\n",
    "```python\n",
    "if2 = wg.add_task(\"If\", name=\"if_false\",\n",
    "                        conditions=condition1.outputs[\"result\"],\n",
    "                        invert_condition=True)\n",
    "```\n",
    "\n",
    "### Adding tasks to the If Zone\n",
    "We can add tasks to the `If` zone using the `children` attribute.\n",
    "\n",
    "```python\n",
    "# add task1 and task2 to the if zone\n",
    "if_task.children.add([\"task1\", \"task2\"])\n",
    "```\n",
    "\n",
    "\n",
    "### Example\n",
    "\n",
    "Suppose we want to calculate the following workflow, the tasks for each step are shown:"
   ]
  },
  {
   "cell_type": "code",
   "execution_count": 1,
   "id": "ab67e5d1",
   "metadata": {},
   "outputs": [
    {
     "name": "stdout",
     "output_type": "stream",
     "text": [
      "Result is uuid: 5a068323-94bf-4816-a778-c2ba017c5c15 (pk: 107417) value: 5\n"
     ]
    }
   ],
   "source": [
    "from aiida.engine import  calcfunction\n",
    "from aiida import load_profile\n",
    "\n",
    "load_profile()\n",
    "\n",
    "@calcfunction\n",
    "def add(x, y):\n",
    "    return x + y\n",
    "\n",
    "@calcfunction\n",
    "def multiply(x, y):\n",
    "    return x*y\n",
    "\n",
    "@calcfunction\n",
    "def compare(x, y):\n",
    "    return x<y\n",
    "\n",
    "# ---------------------------------------------------------\n",
    "# start the workflow\n",
    "# step 1\n",
    "result = add(1, 1)\n",
    "# step 2\n",
    "if compare(result, 0):\n",
    "    result = add(result, 2)           # use add task\n",
    "else:\n",
    "    result = multiply(result, 2)      # use multiply task\n",
    "# step 3\n",
    "result = add(result, 1)\n",
    "# ---------------------------------------------------------\n",
    "print(\"Result is\", result)"
   ]
  },
  {
   "cell_type": "markdown",
   "id": "8f4daf41",
   "metadata": {},
   "source": [
    "### Creating the Workflow\n",
    "To construct the workflow, we'll utilize the built-in `If` and `Select` tasks from the Workgraph library. The `Select` task enables us to choose between two data sources based on a specified condition.\n",
    "\n",
    "The `Select task has the following inputs:\n",
    "\n",
    "   - **condition**: Provide the condition that dictates the selection between `true` and `false` outputs.\n",
    "   - **true**: Specify the output to be used if the condition evaluates to `true`. \n",
    "   - **false**: Define the output for when the condition evaluates to `false`.\n"
   ]
  },
  {
   "cell_type": "code",
   "execution_count": 2,
   "id": "0b8edf6a",
   "metadata": {},
   "outputs": [
    {
     "data": {
      "text/html": [
       "\n",
       "        <iframe\n",
       "            width=\"100%\"\n",
       "            height=\"600px\"\n",
       "            src=\"html/if_task.html\"\n",
       "            frameborder=\"0\"\n",
       "            allowfullscreen\n",
       "            \n",
       "        ></iframe>\n",
       "        "
      ],
      "text/plain": [
       "<IPython.lib.display.IFrame at 0x742aae439f10>"
      ]
     },
     "execution_count": 2,
     "metadata": {},
     "output_type": "execute_result"
    }
   ],
   "source": [
    "from aiida_workgraph import task, WorkGraph\n",
    "\n",
    "wg = WorkGraph(\"if_task\")\n",
    "add1 = wg.add_task(add, name=\"add1\", x=1, y=1)\n",
    "condition1 = wg.add_task(compare, name=\"condition1\", x=1, y=0)\n",
    "add2 = wg.add_task(add, name=\"add2\", x=add1.outputs[\"result\"], y=2)\n",
    "if1 = wg.add_task(\"If\", name=\"if_true\",\n",
    "                        conditions=condition1.outputs[\"result\"])\n",
    "if1.children.add(\"add2\")\n",
    "multiply1 = wg.add_task(multiply, name=\"multiply1\", x=add1.outputs[\"result\"], y=2)\n",
    "if2 = wg.add_task(\"If\", name=\"if_false\",\n",
    "                        conditions=condition1.outputs[\"result\"],\n",
    "                        invert_condition=True)\n",
    "if2.children.add(\"multiply1\")\n",
    "#---------------------------------------------------------------------\n",
    "select1 = wg.add_task(\"workgraph.select\", name=\"select1\", true=add2.outputs[\"result\"],\n",
    "                      false=multiply1.outputs[\"result\"],\n",
    "                      condition = condition1.outputs[\"result\"])\n",
    "add3 = wg.add_task(add, name=\"add3\", x=select1.outputs[\"result\"], y=1)\n",
    "# export the workgraph to html file so that it can be visualized in a browser\n",
    "wg.to_html()\n",
    "# comment out the following line to visualize the workgraph in jupyter-notebook\n",
    "wg"
   ]
  },
  {
   "cell_type": "markdown",
   "id": "7cc1a436",
   "metadata": {},
   "source": [
    "In the GUI, **If** task is shown as a **If Zone** with all its child tasks inside the Zone. \n",
    "The if zone have `conditions` socket. Tasks outside the while zone can link to the tasks inside the zone directly.\n",
    "\n",
    "### Submit the WorkGraph and check the results\n"
   ]
  },
  {
   "cell_type": "code",
   "execution_count": 3,
   "id": "31204e33",
   "metadata": {},
   "outputs": [
    {
     "name": "stdout",
     "output_type": "stream",
     "text": [
      "WorkGraph process created, PK: 107418\n",
      "State of WorkGraph:   EXCEPTED\n",
      "Result of add1   :   None\n"
     ]
    }
   ],
   "source": [
    "wg.submit(wait=True)\n",
    "print(\"State of WorkGraph:   {}\".format(wg.state))\n",
    "print('Result of add1   :   {}'.format(add3.outputs[\"result\"].value))"
   ]
  },
  {
   "cell_type": "markdown",
   "id": "3916c853",
   "metadata": {},
   "source": [
    "Generate node graph from the AiiDA process,and we can see that when `compare1` node outputs `False`, the workgraph stops."
   ]
  },
  {
   "cell_type": "code",
   "execution_count": 4,
   "id": "d659c3b0",
   "metadata": {},
   "outputs": [
    {
     "data": {
      "image/svg+xml": [
       "<?xml version=\"1.0\" encoding=\"UTF-8\" standalone=\"no\"?>\n",
       "<!DOCTYPE svg PUBLIC \"-//W3C//DTD SVG 1.1//EN\"\n",
       " \"http://www.w3.org/Graphics/SVG/1.1/DTD/svg11.dtd\">\n",
       "<!-- Generated by graphviz version 9.0.0 (20231125.0833)\n",
       " -->\n",
       "<!-- Pages: 1 -->\n",
       "<svg width=\"471pt\" height=\"572pt\"\n",
       " viewBox=\"0.00 0.00 471.17 572.21\" xmlns=\"http://www.w3.org/2000/svg\" xmlns:xlink=\"http://www.w3.org/1999/xlink\">\n",
       "<g id=\"graph0\" class=\"graph\" transform=\"scale(1 1) rotate(0) translate(4 568.21)\">\n",
       "<polygon fill=\"white\" stroke=\"none\" points=\"-4,4 -4,-568.21 467.17,-568.21 467.17,4 -4,4\"/>\n",
       "<!-- N107418 -->\n",
       "<g id=\"node1\" class=\"node\">\n",
       "<title>N107418</title>\n",
       "<polygon fill=\"#e38851\" stroke=\"red\" stroke-width=\"6\" points=\"367.67,-564.21 131.17,-564.21 131.17,-521.71 367.67,-521.71 367.67,-564.21\"/>\n",
       "<text text-anchor=\"middle\" x=\"249.42\" y=\"-546.91\" font-family=\"Times,serif\" font-size=\"14.00\">WorkGraph&lt;if_task&gt; (107418)</text>\n",
       "<text text-anchor=\"middle\" x=\"249.42\" y=\"-529.66\" font-family=\"Times,serif\" font-size=\"14.00\">State: excepted</text>\n",
       "</g>\n",
       "<!-- N107421 -->\n",
       "<g id=\"node2\" class=\"node\">\n",
       "<title>N107421</title>\n",
       "<polygon fill=\"#de707f\" fill-opacity=\"0.466667\" stroke=\"black\" stroke-width=\"0\" points=\"152.17,-451.21 32.67,-451.21 32.67,-391.46 152.17,-391.46 152.17,-451.21\"/>\n",
       "<text text-anchor=\"middle\" x=\"92.42\" y=\"-433.91\" font-family=\"Times,serif\" font-size=\"14.00\">add (107421)</text>\n",
       "<text text-anchor=\"middle\" x=\"92.42\" y=\"-416.66\" font-family=\"Times,serif\" font-size=\"14.00\">State: finished</text>\n",
       "<text text-anchor=\"middle\" x=\"92.42\" y=\"-399.41\" font-family=\"Times,serif\" font-size=\"14.00\">Exit Code: 0</text>\n",
       "</g>\n",
       "<!-- N107418&#45;&gt;N107421 -->\n",
       "<g id=\"edge1\" class=\"edge\">\n",
       "<title>N107418&#45;&gt;N107421</title>\n",
       "<path fill=\"none\" stroke=\"#000000\" stroke-dasharray=\"1,5\" d=\"M185.82,-518.9C177,-514.48 168.34,-509.42 160.67,-503.71 144.51,-491.67 129.7,-475.08 118.04,-460.01\"/>\n",
       "<polygon fill=\"#000000\" stroke=\"#000000\" points=\"120.91,-458 112.11,-452.1 115.31,-462.2 120.91,-458\"/>\n",
       "<text text-anchor=\"middle\" x=\"203.8\" y=\"-490.41\" font-family=\"Times,serif\" font-size=\"14.00\">CALL_CALC</text>\n",
       "<text text-anchor=\"middle\" x=\"203.8\" y=\"-473.16\" font-family=\"Times,serif\" font-size=\"14.00\">add1</text>\n",
       "</g>\n",
       "<!-- N107425 -->\n",
       "<g id=\"node4\" class=\"node\">\n",
       "<title>N107425</title>\n",
       "<polygon fill=\"#de707f\" fill-opacity=\"0.466667\" stroke=\"black\" stroke-width=\"0\" points=\"322.67,-451.21 176.17,-451.21 176.17,-391.46 322.67,-391.46 322.67,-451.21\"/>\n",
       "<text text-anchor=\"middle\" x=\"249.42\" y=\"-433.91\" font-family=\"Times,serif\" font-size=\"14.00\">compare (107425)</text>\n",
       "<text text-anchor=\"middle\" x=\"249.42\" y=\"-416.66\" font-family=\"Times,serif\" font-size=\"14.00\">State: finished</text>\n",
       "<text text-anchor=\"middle\" x=\"249.42\" y=\"-399.41\" font-family=\"Times,serif\" font-size=\"14.00\">Exit Code: 0</text>\n",
       "</g>\n",
       "<!-- N107418&#45;&gt;N107425 -->\n",
       "<g id=\"edge7\" class=\"edge\">\n",
       "<title>N107418&#45;&gt;N107425</title>\n",
       "<path fill=\"none\" stroke=\"#000000\" stroke-dasharray=\"1,5\" d=\"M249.42,-518.89C249.42,-502.81 249.42,-480.95 249.42,-462.09\"/>\n",
       "<polygon fill=\"#000000\" stroke=\"#000000\" points=\"252.92,-462.33 249.42,-452.33 245.92,-462.33 252.92,-462.33\"/>\n",
       "<text text-anchor=\"middle\" x=\"291.8\" y=\"-490.41\" font-family=\"Times,serif\" font-size=\"14.00\">CALL_CALC</text>\n",
       "<text text-anchor=\"middle\" x=\"291.8\" y=\"-473.16\" font-family=\"Times,serif\" font-size=\"14.00\">condition1</text>\n",
       "</g>\n",
       "<!-- N107428 -->\n",
       "<g id=\"node6\" class=\"node\">\n",
       "<title>N107428</title>\n",
       "<polygon fill=\"#de707f\" fill-opacity=\"0.466667\" stroke=\"black\" stroke-width=\"0\" points=\"288.55,-190.35 144.3,-190.35 144.3,-130.6 288.55,-130.6 288.55,-190.35\"/>\n",
       "<text text-anchor=\"middle\" x=\"216.42\" y=\"-173.05\" font-family=\"Times,serif\" font-size=\"14.00\">multiply (107428)</text>\n",
       "<text text-anchor=\"middle\" x=\"216.42\" y=\"-155.8\" font-family=\"Times,serif\" font-size=\"14.00\">State: finished</text>\n",
       "<text text-anchor=\"middle\" x=\"216.42\" y=\"-138.55\" font-family=\"Times,serif\" font-size=\"14.00\">Exit Code: 0</text>\n",
       "</g>\n",
       "<!-- N107418&#45;&gt;N107428 -->\n",
       "<g id=\"edge3\" class=\"edge\">\n",
       "<title>N107418&#45;&gt;N107428</title>\n",
       "<path fill=\"none\" stroke=\"#000000\" stroke-dasharray=\"1,5\" d=\"M323.81,-518.78C329.48,-514.56 334.51,-509.59 338.42,-503.71 398.29,-413.89 387.14,-358.16 340.42,-260.85 327.78,-234.51 304.37,-212.96 281.27,-196.74\"/>\n",
       "<polygon fill=\"#000000\" stroke=\"#000000\" points=\"283.28,-193.87 273.03,-191.19 279.37,-199.68 283.28,-193.87\"/>\n",
       "<text text-anchor=\"middle\" x=\"420.8\" y=\"-360.16\" font-family=\"Times,serif\" font-size=\"14.00\">CALL_CALC</text>\n",
       "<text text-anchor=\"middle\" x=\"420.8\" y=\"-342.91\" font-family=\"Times,serif\" font-size=\"14.00\">multiply1</text>\n",
       "</g>\n",
       "<!-- N107422 -->\n",
       "<g id=\"node3\" class=\"node\">\n",
       "<title>N107422</title>\n",
       "<ellipse fill=\"#8cd499\" stroke=\"black\" stroke-width=\"0\" cx=\"74.42\" cy=\"-290.91\" rx=\"74.42\" ry=\"30.05\"/>\n",
       "<text text-anchor=\"middle\" x=\"74.42\" y=\"-294.86\" font-family=\"Times,serif\" font-size=\"14.00\">Int (107422)</text>\n",
       "<text text-anchor=\"middle\" x=\"74.42\" y=\"-277.61\" font-family=\"Times,serif\" font-size=\"14.00\">value: 2</text>\n",
       "</g>\n",
       "<!-- N107421&#45;&gt;N107422 -->\n",
       "<g id=\"edge4\" class=\"edge\">\n",
       "<title>N107421&#45;&gt;N107422</title>\n",
       "<path fill=\"none\" stroke=\"#000000\" d=\"M88.38,-391.51C85.92,-373.91 82.73,-351.16 80.02,-331.84\"/>\n",
       "<polygon fill=\"#000000\" stroke=\"#000000\" points=\"83.51,-331.55 78.66,-322.13 76.58,-332.52 83.51,-331.55\"/>\n",
       "<text text-anchor=\"middle\" x=\"116.42\" y=\"-360.16\" font-family=\"Times,serif\" font-size=\"14.00\">CREATE</text>\n",
       "<text text-anchor=\"middle\" x=\"116.42\" y=\"-342.91\" font-family=\"Times,serif\" font-size=\"14.00\">result</text>\n",
       "</g>\n",
       "<!-- N107422&#45;&gt;N107428 -->\n",
       "<g id=\"edge2\" class=\"edge\">\n",
       "<title>N107422&#45;&gt;N107428</title>\n",
       "<path fill=\"none\" stroke=\"#000000\" d=\"M103.5,-263.61C124.53,-244.59 153.2,-218.65 176.4,-197.68\"/>\n",
       "<polygon fill=\"#000000\" stroke=\"#000000\" points=\"178.48,-200.52 183.54,-191.22 173.78,-195.33 178.48,-200.52\"/>\n",
       "<text text-anchor=\"middle\" x=\"209.3\" y=\"-229.55\" font-family=\"Times,serif\" font-size=\"14.00\">INPUT_CALC</text>\n",
       "<text text-anchor=\"middle\" x=\"209.3\" y=\"-212.3\" font-family=\"Times,serif\" font-size=\"14.00\">x</text>\n",
       "</g>\n",
       "<!-- N107426 -->\n",
       "<g id=\"node5\" class=\"node\">\n",
       "<title>N107426</title>\n",
       "<ellipse fill=\"#8cd499\" stroke=\"black\" stroke-width=\"0\" cx=\"249.42\" cy=\"-290.91\" rx=\"82.38\" ry=\"30.05\"/>\n",
       "<text text-anchor=\"middle\" x=\"249.42\" y=\"-294.86\" font-family=\"Times,serif\" font-size=\"14.00\">Bool (107426)</text>\n",
       "<text text-anchor=\"middle\" x=\"249.42\" y=\"-277.61\" font-family=\"Times,serif\" font-size=\"14.00\">False</text>\n",
       "</g>\n",
       "<!-- N107425&#45;&gt;N107426 -->\n",
       "<g id=\"edge5\" class=\"edge\">\n",
       "<title>N107425&#45;&gt;N107426</title>\n",
       "<path fill=\"none\" stroke=\"#000000\" d=\"M249.42,-391.51C249.42,-374 249.42,-351.37 249.42,-332.11\"/>\n",
       "<polygon fill=\"#000000\" stroke=\"#000000\" points=\"252.92,-332.14 249.42,-322.14 245.92,-332.15 252.92,-332.14\"/>\n",
       "<text text-anchor=\"middle\" x=\"279.42\" y=\"-360.16\" font-family=\"Times,serif\" font-size=\"14.00\">CREATE</text>\n",
       "<text text-anchor=\"middle\" x=\"279.42\" y=\"-342.91\" font-family=\"Times,serif\" font-size=\"14.00\">result</text>\n",
       "</g>\n",
       "<!-- N107429 -->\n",
       "<g id=\"node7\" class=\"node\">\n",
       "<title>N107429</title>\n",
       "<ellipse fill=\"#8cd499\" stroke=\"black\" stroke-width=\"0\" cx=\"216.42\" cy=\"-30.05\" rx=\"74.42\" ry=\"30.05\"/>\n",
       "<text text-anchor=\"middle\" x=\"216.42\" y=\"-34\" font-family=\"Times,serif\" font-size=\"14.00\">Int (107429)</text>\n",
       "<text text-anchor=\"middle\" x=\"216.42\" y=\"-16.75\" font-family=\"Times,serif\" font-size=\"14.00\">value: 4</text>\n",
       "</g>\n",
       "<!-- N107428&#45;&gt;N107429 -->\n",
       "<g id=\"edge6\" class=\"edge\">\n",
       "<title>N107428&#45;&gt;N107429</title>\n",
       "<path fill=\"none\" stroke=\"#000000\" d=\"M216.42,-130.66C216.42,-113.14 216.42,-90.52 216.42,-71.26\"/>\n",
       "<polygon fill=\"#000000\" stroke=\"#000000\" points=\"219.92,-71.29 216.42,-61.29 212.92,-71.29 219.92,-71.29\"/>\n",
       "<text text-anchor=\"middle\" x=\"246.42\" y=\"-99.3\" font-family=\"Times,serif\" font-size=\"14.00\">CREATE</text>\n",
       "<text text-anchor=\"middle\" x=\"246.42\" y=\"-82.05\" font-family=\"Times,serif\" font-size=\"14.00\">result</text>\n",
       "</g>\n",
       "</g>\n",
       "</svg>\n"
      ],
      "text/plain": [
       "<graphviz.graphs.Digraph at 0x742a70ef9050>"
      ]
     },
     "execution_count": 4,
     "metadata": {},
     "output_type": "execute_result"
    }
   ],
   "source": [
    "from aiida_workgraph.utils import generate_node_graph\n",
    "generate_node_graph(wg.pk)"
   ]
  },
  {
   "cell_type": "markdown",
   "id": "0f46d277",
   "metadata": {},
   "source": [
    "## Using the graph_builder Decorator\n",
    "\n",
    "The `graph_builder` decorator is used for creating a dynamic `WorkGraph` during runtime based on input values. This method differs significantly from the `If Task`:\n",
    "\n",
    "- **Visibility**: In the GUI, only the `graph_builder` task is visible before execution.\n",
    "- **Dynamic Generation**: Upon running, it generates the WorkGraph dynamically, allowing for complex conditional logic and flow adjustments based on runtime data.\n",
    "\n"
   ]
  },
  {
   "cell_type": "code",
   "execution_count": 5,
   "id": "11e3bca1-dda6-44e9-9585-54feeda7e7db",
   "metadata": {},
   "outputs": [],
   "source": [
    "# Create a WorkGraph which is dynamically generated based on the input\n",
    "# then we output the result of from the context (context)\n",
    "@task.graph_builder(outputs = [{\"name\": \"result\", \"from\": \"context.result\"}])\n",
    "def add_multiply_if(x, y):\n",
    "    wg = WorkGraph()\n",
    "    if x.value > 0:\n",
    "        add1 = wg.add_task(add, name=\"add1\", x=x, y=y)\n",
    "        # export the result of add1 to the context\n",
    "        add1.set_context({\"result\": \"result\"})\n",
    "    else:\n",
    "        multiply1 = wg.add_task(multiply, name=\"multiply1\", x=x, y=y)\n",
    "        # export the result of multiply1 to the context\n",
    "        multiply1.set_context({\"result\": \"result\"})\n",
    "    return wg"
   ]
  },
  {
   "cell_type": "markdown",
   "id": "65f4c44d",
   "metadata": {},
   "source": [
    "### Create the workflow\n"
   ]
  },
  {
   "cell_type": "code",
   "execution_count": 6,
   "id": "8ee799d2-0b5b-4609-957f-6b3f2cd451f0",
   "metadata": {},
   "outputs": [
    {
     "data": {
      "text/html": [
       "\n",
       "        <iframe\n",
       "            width=\"100%\"\n",
       "            height=\"600px\"\n",
       "            src=\"html/if_graph_builer.html\"\n",
       "            frameborder=\"0\"\n",
       "            allowfullscreen\n",
       "            \n",
       "        ></iframe>\n",
       "        "
      ],
      "text/plain": [
       "<IPython.lib.display.IFrame at 0x742a70e93550>"
      ]
     },
     "execution_count": 6,
     "metadata": {},
     "output_type": "execute_result"
    }
   ],
   "source": [
    "from aiida_workgraph import WorkGraph\n",
    "\n",
    "wg = WorkGraph(\"if_graph_builer\")\n",
    "add1 = wg.add_task(add, name=\"add1\", x=1, y=1)\n",
    "add_multiply_if1 = wg.add_task(add_multiply_if, name=\"add_multiply_if1\", x=add1.outputs[\"result\"], y=2)\n",
    "add1 = wg.add_task(add, name=\"add2\", x=add_multiply_if1.outputs[\"result\"], y=1)\n",
    "# export the workgraph to html file so that it can be visualized in a browser\n",
    "wg.to_html()\n",
    "# comment out the following line to visualize the workgraph in jupyter-notebook\n",
    "wg"
   ]
  },
  {
   "cell_type": "markdown",
   "id": "c7ec3198",
   "metadata": {},
   "source": [
    "In the GUI, we only see the `add_multiply_if1` task. When this task run, it will generate a `WorkGraph` based on the input value. This is different from the `If` task, in which we see all tasks before the WorkGraph run.\n",
    "\n",
    "\n",
    "### Submit the WorkGraph and check the results\n"
   ]
  },
  {
   "cell_type": "code",
   "execution_count": 7,
   "id": "9ebf35aa",
   "metadata": {},
   "outputs": [
    {
     "name": "stdout",
     "output_type": "stream",
     "text": [
      "WorkGraph process created, PK: 107430\n",
      "State of WorkGraph         : FINISHED\n",
      "Result of add1            : uuid: af9814a0-4c35-4f41-b3df-e611966a3cba (pk: 107442) value: 5\n"
     ]
    }
   ],
   "source": [
    "wg.submit(wait=True)\n",
    "print(\"State of WorkGraph         : {}\".format(wg.state))\n",
    "print('Result of add1            : {}'.format(wg.tasks[\"add2\"].outputs[\"result\"].value))"
   ]
  },
  {
   "cell_type": "markdown",
   "id": "125ac629",
   "metadata": {},
   "source": [
    "Generate node graph from the AiiDA process,and we can see that the `multiply` task is executed."
   ]
  },
  {
   "cell_type": "code",
   "execution_count": 8,
   "id": "0060e380",
   "metadata": {},
   "outputs": [
    {
     "data": {
      "image/svg+xml": [
       "<?xml version=\"1.0\" encoding=\"UTF-8\" standalone=\"no\"?>\n",
       "<!DOCTYPE svg PUBLIC \"-//W3C//DTD SVG 1.1//EN\"\n",
       " \"http://www.w3.org/Graphics/SVG/1.1/DTD/svg11.dtd\">\n",
       "<!-- Generated by graphviz version 9.0.0 (20231125.0833)\n",
       " -->\n",
       "<!-- Pages: 1 -->\n",
       "<svg width=\"751pt\" height=\"981pt\"\n",
       " viewBox=\"0.00 0.00 751.30 981.27\" xmlns=\"http://www.w3.org/2000/svg\" xmlns:xlink=\"http://www.w3.org/1999/xlink\">\n",
       "<g id=\"graph0\" class=\"graph\" transform=\"scale(1 1) rotate(0) translate(4 977.27)\">\n",
       "<polygon fill=\"white\" stroke=\"none\" points=\"-4,4 -4,-977.27 747.3,-977.27 747.3,4 -4,4\"/>\n",
       "<!-- N107430 -->\n",
       "<g id=\"node1\" class=\"node\">\n",
       "<title>N107430</title>\n",
       "<polygon fill=\"#e38851\" stroke=\"red\" stroke-width=\"6\" points=\"661.5,-973.27 364.25,-973.27 364.25,-913.52 661.5,-913.52 661.5,-973.27\"/>\n",
       "<text text-anchor=\"middle\" x=\"512.88\" y=\"-955.97\" font-family=\"Times,serif\" font-size=\"14.00\">WorkGraph&lt;if_graph_builer&gt; (107430)</text>\n",
       "<text text-anchor=\"middle\" x=\"512.88\" y=\"-938.72\" font-family=\"Times,serif\" font-size=\"14.00\">State: finished</text>\n",
       "<text text-anchor=\"middle\" x=\"512.88\" y=\"-921.47\" font-family=\"Times,serif\" font-size=\"14.00\">Exit Code: 0</text>\n",
       "</g>\n",
       "<!-- N107433 -->\n",
       "<g id=\"node2\" class=\"node\">\n",
       "<title>N107433</title>\n",
       "<polygon fill=\"#de707f\" fill-opacity=\"0.466667\" stroke=\"black\" stroke-width=\"0\" points=\"507.62,-842.84 388.12,-842.84 388.12,-783.09 507.62,-783.09 507.62,-842.84\"/>\n",
       "<text text-anchor=\"middle\" x=\"447.88\" y=\"-825.54\" font-family=\"Times,serif\" font-size=\"14.00\">add (107433)</text>\n",
       "<text text-anchor=\"middle\" x=\"447.88\" y=\"-808.29\" font-family=\"Times,serif\" font-size=\"14.00\">State: finished</text>\n",
       "<text text-anchor=\"middle\" x=\"447.88\" y=\"-791.04\" font-family=\"Times,serif\" font-size=\"14.00\">Exit Code: 0</text>\n",
       "</g>\n",
       "<!-- N107430&#45;&gt;N107433 -->\n",
       "<g id=\"edge13\" class=\"edge\">\n",
       "<title>N107430&#45;&gt;N107433</title>\n",
       "<path fill=\"none\" stroke=\"#000000\" stroke-dasharray=\"1,5\" d=\"M478.51,-910.57C474.6,-905.82 471,-900.75 468.12,-895.52 461.1,-882.74 456.47,-867.5 453.44,-853.67\"/>\n",
       "<polygon fill=\"#000000\" stroke=\"#000000\" points=\"456.89,-853.1 451.54,-843.96 450.02,-854.44 456.89,-853.1\"/>\n",
       "<text text-anchor=\"middle\" x=\"511.25\" y=\"-882.22\" font-family=\"Times,serif\" font-size=\"14.00\">CALL_CALC</text>\n",
       "<text text-anchor=\"middle\" x=\"511.25\" y=\"-864.97\" font-family=\"Times,serif\" font-size=\"14.00\">add1</text>\n",
       "</g>\n",
       "<!-- N107435 -->\n",
       "<g id=\"node4\" class=\"node\">\n",
       "<title>N107435</title>\n",
       "<polygon fill=\"#e38851\" stroke=\"black\" stroke-width=\"0\" points=\"307.75,-581.81 0,-581.81 0,-522.06 307.75,-522.06 307.75,-581.81\"/>\n",
       "<text text-anchor=\"middle\" x=\"153.88\" y=\"-564.51\" font-family=\"Times,serif\" font-size=\"14.00\">WorkGraph&lt;add_multiply_if1&gt; (107435)</text>\n",
       "<text text-anchor=\"middle\" x=\"153.88\" y=\"-547.26\" font-family=\"Times,serif\" font-size=\"14.00\">State: finished</text>\n",
       "<text text-anchor=\"middle\" x=\"153.88\" y=\"-530.01\" font-family=\"Times,serif\" font-size=\"14.00\">Exit Code: 0</text>\n",
       "</g>\n",
       "<!-- N107430&#45;&gt;N107435 -->\n",
       "<g id=\"edge8\" class=\"edge\">\n",
       "<title>N107430&#45;&gt;N107435</title>\n",
       "<path fill=\"none\" stroke=\"#000000\" stroke-dasharray=\"1,5\" d=\"M442.42,-910.57C350.53,-864.63 194.06,-770.07 130.88,-634.31 124.72,-621.08 126.81,-605.85 131.68,-592.17\"/>\n",
       "<polygon fill=\"#000000\" stroke=\"#000000\" points=\"134.88,-593.58 135.49,-583 128.42,-590.89 134.88,-593.58\"/>\n",
       "<text text-anchor=\"middle\" x=\"286.75\" y=\"-751.62\" font-family=\"Times,serif\" font-size=\"14.00\">CALL_WORK</text>\n",
       "<text text-anchor=\"middle\" x=\"286.75\" y=\"-734.37\" font-family=\"Times,serif\" font-size=\"14.00\">add_multiply_if1</text>\n",
       "</g>\n",
       "<!-- N107441 -->\n",
       "<g id=\"node8\" class=\"node\">\n",
       "<title>N107441</title>\n",
       "<polygon fill=\"#de707f\" fill-opacity=\"0.466667\" stroke=\"black\" stroke-width=\"0\" points=\"558.62,-190.35 439.12,-190.35 439.12,-130.6 558.62,-130.6 558.62,-190.35\"/>\n",
       "<text text-anchor=\"middle\" x=\"498.88\" y=\"-173.05\" font-family=\"Times,serif\" font-size=\"14.00\">add (107441)</text>\n",
       "<text text-anchor=\"middle\" x=\"498.88\" y=\"-155.8\" font-family=\"Times,serif\" font-size=\"14.00\">State: finished</text>\n",
       "<text text-anchor=\"middle\" x=\"498.88\" y=\"-138.55\" font-family=\"Times,serif\" font-size=\"14.00\">Exit Code: 0</text>\n",
       "</g>\n",
       "<!-- N107430&#45;&gt;N107441 -->\n",
       "<g id=\"edge2\" class=\"edge\">\n",
       "<title>N107430&#45;&gt;N107441</title>\n",
       "<path fill=\"none\" stroke=\"#000000\" stroke-dasharray=\"1,5\" d=\"M543.71,-910.67C547.23,-905.86 550.42,-900.75 552.88,-895.52 568.48,-862.22 566.88,-850.74 566.88,-813.97 566.88,-813.97 566.88,-813.97 566.88,-289.91 566.88,-253.13 570.92,-240.4 552.88,-208.35 550.96,-204.95 548.7,-201.68 546.21,-198.55\"/>\n",
       "<polygon fill=\"#000000\" stroke=\"#000000\" points=\"548.96,-196.38 539.68,-191.28 543.75,-201.06 548.96,-196.38\"/>\n",
       "<text text-anchor=\"middle\" x=\"609.25\" y=\"-555.89\" font-family=\"Times,serif\" font-size=\"14.00\">CALL_CALC</text>\n",
       "<text text-anchor=\"middle\" x=\"609.25\" y=\"-538.64\" font-family=\"Times,serif\" font-size=\"14.00\">add2</text>\n",
       "</g>\n",
       "<!-- N107443 -->\n",
       "<g id=\"node10\" class=\"node\">\n",
       "<title>N107443</title>\n",
       "<ellipse fill=\"#8cd499\" stroke=\"black\" stroke-width=\"0\" cx=\"668.88\" cy=\"-812.97\" rx=\"74.42\" ry=\"30.05\"/>\n",
       "<text text-anchor=\"middle\" x=\"668.88\" y=\"-816.92\" font-family=\"Times,serif\" font-size=\"14.00\">Int (107443)</text>\n",
       "<text text-anchor=\"middle\" x=\"668.88\" y=\"-799.67\" font-family=\"Times,serif\" font-size=\"14.00\">value: 0</text>\n",
       "</g>\n",
       "<!-- N107430&#45;&gt;N107443 -->\n",
       "<g id=\"edge10\" class=\"edge\">\n",
       "<title>N107430&#45;&gt;N107443</title>\n",
       "<path fill=\"none\" stroke=\"#000000\" stroke-dasharray=\"5,2\" d=\"M560.7,-910.72C567.59,-905.79 574.5,-900.63 580.88,-895.52 599.15,-880.88 618.34,-863.37 634.12,-848.34\"/>\n",
       "<polygon fill=\"#000000\" stroke=\"#000000\" points=\"636.16,-851.23 640.95,-841.78 631.31,-846.19 636.16,-851.23\"/>\n",
       "<text text-anchor=\"middle\" x=\"675.62\" y=\"-882.22\" font-family=\"Times,serif\" font-size=\"14.00\">RETURN</text>\n",
       "<text text-anchor=\"middle\" x=\"675.62\" y=\"-864.97\" font-family=\"Times,serif\" font-size=\"14.00\">execution_count</text>\n",
       "</g>\n",
       "<!-- N107434 -->\n",
       "<g id=\"node3\" class=\"node\">\n",
       "<title>N107434</title>\n",
       "<ellipse fill=\"#8cd499\" stroke=\"black\" stroke-width=\"0\" cx=\"438.88\" cy=\"-682.36\" rx=\"74.42\" ry=\"30.05\"/>\n",
       "<text text-anchor=\"middle\" x=\"438.88\" y=\"-686.31\" font-family=\"Times,serif\" font-size=\"14.00\">Int (107434)</text>\n",
       "<text text-anchor=\"middle\" x=\"438.88\" y=\"-669.06\" font-family=\"Times,serif\" font-size=\"14.00\">value: 2</text>\n",
       "</g>\n",
       "<!-- N107433&#45;&gt;N107434 -->\n",
       "<g id=\"edge12\" class=\"edge\">\n",
       "<title>N107433&#45;&gt;N107434</title>\n",
       "<path fill=\"none\" stroke=\"#000000\" d=\"M445.86,-783.11C444.62,-765.48 443.03,-742.7 441.67,-723.35\"/>\n",
       "<polygon fill=\"#000000\" stroke=\"#000000\" points=\"445.18,-723.37 440.99,-713.64 438.2,-723.86 445.18,-723.37\"/>\n",
       "<text text-anchor=\"middle\" x=\"474.88\" y=\"-751.62\" font-family=\"Times,serif\" font-size=\"14.00\">CREATE</text>\n",
       "<text text-anchor=\"middle\" x=\"474.88\" y=\"-734.37\" font-family=\"Times,serif\" font-size=\"14.00\">result</text>\n",
       "</g>\n",
       "<!-- N107434&#45;&gt;N107435 -->\n",
       "<g id=\"edge6\" class=\"edge\">\n",
       "<title>N107434&#45;&gt;N107435</title>\n",
       "<path fill=\"none\" stroke=\"#000000\" stroke-dasharray=\"5,2\" d=\"M364.89,-680.17C286.7,-677.16 170.87,-667.11 142.88,-634.31 133.14,-622.91 133.26,-607.14 136.78,-592.51\"/>\n",
       "<polygon fill=\"#000000\" stroke=\"#000000\" points=\"140.09,-593.68 139.6,-583.09 133.38,-591.67 140.09,-593.68\"/>\n",
       "<text text-anchor=\"middle\" x=\"283.88\" y=\"-621.01\" font-family=\"Times,serif\" font-size=\"14.00\">INPUT_WORK</text>\n",
       "<text text-anchor=\"middle\" x=\"283.88\" y=\"-603.76\" font-family=\"Times,serif\" font-size=\"14.00\">wg__tasks__add1__properties__x__value</text>\n",
       "</g>\n",
       "<!-- N107437 -->\n",
       "<g id=\"node5\" class=\"node\">\n",
       "<title>N107437</title>\n",
       "<polygon fill=\"#de707f\" fill-opacity=\"0.466667\" stroke=\"black\" stroke-width=\"0\" points=\"490.62,-451.39 371.12,-451.39 371.12,-391.64 490.62,-391.64 490.62,-451.39\"/>\n",
       "<text text-anchor=\"middle\" x=\"430.88\" y=\"-434.09\" font-family=\"Times,serif\" font-size=\"14.00\">add (107437)</text>\n",
       "<text text-anchor=\"middle\" x=\"430.88\" y=\"-416.84\" font-family=\"Times,serif\" font-size=\"14.00\">State: finished</text>\n",
       "<text text-anchor=\"middle\" x=\"430.88\" y=\"-399.59\" font-family=\"Times,serif\" font-size=\"14.00\">Exit Code: 0</text>\n",
       "</g>\n",
       "<!-- N107434&#45;&gt;N107437 -->\n",
       "<g id=\"edge9\" class=\"edge\">\n",
       "<title>N107434&#45;&gt;N107437</title>\n",
       "<path fill=\"none\" stroke=\"#000000\" d=\"M437.99,-652.67C436.56,-606.41 433.74,-515.23 432.11,-462.58\"/>\n",
       "<polygon fill=\"#000000\" stroke=\"#000000\" points=\"435.62,-462.73 431.81,-452.84 428.62,-462.95 435.62,-462.73\"/>\n",
       "<text text-anchor=\"middle\" x=\"482.75\" y=\"-555.89\" font-family=\"Times,serif\" font-size=\"14.00\">INPUT_CALC</text>\n",
       "<text text-anchor=\"middle\" x=\"482.75\" y=\"-538.64\" font-family=\"Times,serif\" font-size=\"14.00\">x</text>\n",
       "</g>\n",
       "<!-- N107435&#45;&gt;N107437 -->\n",
       "<g id=\"edge3\" class=\"edge\">\n",
       "<title>N107435&#45;&gt;N107437</title>\n",
       "<path fill=\"none\" stroke=\"#000000\" stroke-dasharray=\"1,5\" d=\"M261.78,-522.08C274.98,-516.89 287.99,-510.9 299.88,-504.06 319.72,-492.64 319.25,-482.52 338.12,-469.56 345.35,-464.6 353.16,-459.83 361.09,-455.36\"/>\n",
       "<polygon fill=\"#000000\" stroke=\"#000000\" points=\"362.72,-458.46 369.82,-450.59 359.37,-452.31 362.72,-458.46\"/>\n",
       "<text text-anchor=\"middle\" x=\"381.25\" y=\"-490.76\" font-family=\"Times,serif\" font-size=\"14.00\">CALL_CALC</text>\n",
       "<text text-anchor=\"middle\" x=\"381.25\" y=\"-473.51\" font-family=\"Times,serif\" font-size=\"14.00\">add1</text>\n",
       "</g>\n",
       "<!-- N107438 -->\n",
       "<g id=\"node6\" class=\"node\">\n",
       "<title>N107438</title>\n",
       "<ellipse fill=\"#8cd499\" stroke=\"black\" stroke-width=\"0\" cx=\"430.88\" cy=\"-290.91\" rx=\"74.42\" ry=\"30.05\"/>\n",
       "<text text-anchor=\"middle\" x=\"430.88\" y=\"-294.86\" font-family=\"Times,serif\" font-size=\"14.00\">Int (107438)</text>\n",
       "<text text-anchor=\"middle\" x=\"430.88\" y=\"-277.61\" font-family=\"Times,serif\" font-size=\"14.00\">value: 4</text>\n",
       "</g>\n",
       "<!-- N107435&#45;&gt;N107438 -->\n",
       "<g id=\"edge7\" class=\"edge\">\n",
       "<title>N107435&#45;&gt;N107438</title>\n",
       "<path fill=\"none\" stroke=\"#000000\" stroke-dasharray=\"5,2\" d=\"M250.77,-522.18C258.64,-517.09 265.86,-511.1 271.88,-504.06 305.23,-465.07 269.41,-434.48 297.38,-391.46 316.83,-361.53 348.56,-337.32 376.21,-320.27\"/>\n",
       "<polygon fill=\"#000000\" stroke=\"#000000\" points=\"377.71,-323.45 384.49,-315.32 374.11,-317.44 377.71,-323.45\"/>\n",
       "<text text-anchor=\"middle\" x=\"330.12\" y=\"-425.46\" font-family=\"Times,serif\" font-size=\"14.00\">RETURN</text>\n",
       "<text text-anchor=\"middle\" x=\"330.12\" y=\"-408.21\" font-family=\"Times,serif\" font-size=\"14.00\">result</text>\n",
       "</g>\n",
       "<!-- N107439 -->\n",
       "<g id=\"node7\" class=\"node\">\n",
       "<title>N107439</title>\n",
       "<ellipse fill=\"#8cd499\" stroke=\"black\" stroke-width=\"0\" cx=\"153.88\" cy=\"-421.51\" rx=\"74.42\" ry=\"30.05\"/>\n",
       "<text text-anchor=\"middle\" x=\"153.88\" y=\"-425.46\" font-family=\"Times,serif\" font-size=\"14.00\">Int (107439)</text>\n",
       "<text text-anchor=\"middle\" x=\"153.88\" y=\"-408.21\" font-family=\"Times,serif\" font-size=\"14.00\">value: 0</text>\n",
       "</g>\n",
       "<!-- N107435&#45;&gt;N107439 -->\n",
       "<g id=\"edge5\" class=\"edge\">\n",
       "<title>N107435&#45;&gt;N107439</title>\n",
       "<path fill=\"none\" stroke=\"#000000\" stroke-dasharray=\"5,2\" d=\"M153.88,-522.12C153.88,-504.6 153.88,-481.98 153.88,-462.72\"/>\n",
       "<polygon fill=\"#000000\" stroke=\"#000000\" points=\"157.38,-462.75 153.88,-452.75 150.38,-462.75 157.38,-462.75\"/>\n",
       "<text text-anchor=\"middle\" x=\"211.62\" y=\"-490.76\" font-family=\"Times,serif\" font-size=\"14.00\">RETURN</text>\n",
       "<text text-anchor=\"middle\" x=\"211.62\" y=\"-473.51\" font-family=\"Times,serif\" font-size=\"14.00\">execution_count</text>\n",
       "</g>\n",
       "<!-- N107437&#45;&gt;N107438 -->\n",
       "<g id=\"edge1\" class=\"edge\">\n",
       "<title>N107437&#45;&gt;N107438</title>\n",
       "<path fill=\"none\" stroke=\"#000000\" d=\"M430.88,-391.65C430.88,-374.11 430.88,-351.45 430.88,-332.17\"/>\n",
       "<polygon fill=\"#000000\" stroke=\"#000000\" points=\"434.38,-332.18 430.88,-322.18 427.38,-332.18 434.38,-332.18\"/>\n",
       "<text text-anchor=\"middle\" x=\"460.88\" y=\"-360.16\" font-family=\"Times,serif\" font-size=\"14.00\">CREATE</text>\n",
       "<text text-anchor=\"middle\" x=\"460.88\" y=\"-342.91\" font-family=\"Times,serif\" font-size=\"14.00\">result</text>\n",
       "</g>\n",
       "<!-- N107438&#45;&gt;N107441 -->\n",
       "<g id=\"edge11\" class=\"edge\">\n",
       "<title>N107438&#45;&gt;N107441</title>\n",
       "<path fill=\"none\" stroke=\"#000000\" d=\"M437.98,-261.24C442.67,-245.08 449.7,-224.88 459.12,-208.35 460.84,-205.35 462.76,-202.35 464.8,-199.4\"/>\n",
       "<polygon fill=\"#000000\" stroke=\"#000000\" points=\"467.56,-201.56 470.75,-191.46 461.96,-197.37 467.56,-201.56\"/>\n",
       "<text text-anchor=\"middle\" x=\"506.75\" y=\"-229.55\" font-family=\"Times,serif\" font-size=\"14.00\">INPUT_CALC</text>\n",
       "<text text-anchor=\"middle\" x=\"506.75\" y=\"-212.3\" font-family=\"Times,serif\" font-size=\"14.00\">x</text>\n",
       "</g>\n",
       "<!-- N107442 -->\n",
       "<g id=\"node9\" class=\"node\">\n",
       "<title>N107442</title>\n",
       "<ellipse fill=\"#8cd499\" stroke=\"black\" stroke-width=\"0\" cx=\"498.88\" cy=\"-30.05\" rx=\"74.42\" ry=\"30.05\"/>\n",
       "<text text-anchor=\"middle\" x=\"498.88\" y=\"-34\" font-family=\"Times,serif\" font-size=\"14.00\">Int (107442)</text>\n",
       "<text text-anchor=\"middle\" x=\"498.88\" y=\"-16.75\" font-family=\"Times,serif\" font-size=\"14.00\">value: 5</text>\n",
       "</g>\n",
       "<!-- N107441&#45;&gt;N107442 -->\n",
       "<g id=\"edge4\" class=\"edge\">\n",
       "<title>N107441&#45;&gt;N107442</title>\n",
       "<path fill=\"none\" stroke=\"#000000\" d=\"M498.88,-130.66C498.88,-113.14 498.88,-90.52 498.88,-71.26\"/>\n",
       "<polygon fill=\"#000000\" stroke=\"#000000\" points=\"502.38,-71.29 498.88,-61.29 495.38,-71.29 502.38,-71.29\"/>\n",
       "<text text-anchor=\"middle\" x=\"528.88\" y=\"-99.3\" font-family=\"Times,serif\" font-size=\"14.00\">CREATE</text>\n",
       "<text text-anchor=\"middle\" x=\"528.88\" y=\"-82.05\" font-family=\"Times,serif\" font-size=\"14.00\">result</text>\n",
       "</g>\n",
       "</g>\n",
       "</svg>\n"
      ],
      "text/plain": [
       "<graphviz.graphs.Digraph at 0x742aae682c90>"
      ]
     },
     "execution_count": 8,
     "metadata": {},
     "output_type": "execute_result"
    }
   ],
   "source": [
    "from aiida_workgraph.utils import generate_node_graph\n",
    "generate_node_graph(wg.pk)"
   ]
  },
  {
   "cell_type": "markdown",
   "id": "62934367",
   "metadata": {},
   "source": [
    "### Summary\n",
    "\n",
    "The `If Task` provides a visual and structured approach to managing conditional tasks within a defined zone. In contrast, the `graph_builder` decorator offers flexibility by dynamically generating the workflow based on runtime inputs, suitable for complex and adaptive process flows.\n"
   ]
  }
 ],
 "metadata": {
  "kernelspec": {
   "display_name": "Python 3.10.4 ('scinode')",
   "language": "python",
   "name": "python3"
  },
  "language_info": {
   "codemirror_mode": {
    "name": "ipython",
    "version": 3
   },
   "file_extension": ".py",
   "mimetype": "text/x-python",
   "name": "python",
   "nbconvert_exporter": "python",
   "pygments_lexer": "ipython3",
   "version": "3.11.0"
  },
  "vscode": {
   "interpreter": {
    "hash": "2f450c1ff08798c4974437dd057310afef0de414c25d1fd960ad375311c3f6ff"
   }
  }
 },
 "nbformat": 4,
 "nbformat_minor": 5
}
