{
 "cells": [
  {
   "cell_type": "markdown",
   "id": "22d177dc-6cfb-4de2-9509-f1eb45e10cf2",
   "metadata": {},
   "source": [
    "# How to use `if` statements"
   ]
  },
  {
   "cell_type": "markdown",
   "id": "58696c91",
   "metadata": {},
   "source": [
    "## Introduction\n",
    "In this tutorial, you will learn how to use `if` statements in WorkTree.\n",
    "\n",
    "Load the AiiDA profile."
   ]
  },
  {
   "cell_type": "code",
   "execution_count": 1,
   "id": "c6b83fb5",
   "metadata": {},
   "outputs": [
    {
     "data": {
      "text/plain": [
       "Profile<uuid='57ccbf7d9e2b41b39edb2bfdaf725feb' name='default'>"
      ]
     },
     "execution_count": 1,
     "metadata": {},
     "output_type": "execute_result"
    }
   ],
   "source": [
    "%load_ext aiida\n",
    "from aiida import load_profile\n",
    "load_profile()"
   ]
  },
  {
   "cell_type": "markdown",
   "id": "30719f9a",
   "metadata": {},
   "source": [
    "## First workflow: if\n",
    "Suppose we want to calculate:\n",
    "```python\n",
    "\n",
    "def add(x, y):\n",
    "    return x + y\n",
    "\n",
    "def multiply(x, y):\n",
    "    return x*y\n",
    "\n",
    "# workflow\n",
    "# step 1\n",
    "result = add(x, y)\n",
    "# step 2\n",
    "if result > 0:\n",
    "    result = add(result, y)\n",
    "else:\n",
    "    result = multiply(result, y)\n",
    "# step 3\n",
    "result = add(result, y)\n",
    "```\n",
    "\n"
   ]
  },
  {
   "cell_type": "markdown",
   "id": "0f46d277",
   "metadata": {},
   "source": [
    "### Create node\n",
    "In order to create a dynamic workflow based on the input value, we need a create a `WorkTree` and then treat this `WorkTree` as a node."
   ]
  },
  {
   "cell_type": "markdown",
   "id": "9e6360d8",
   "metadata": {},
   "source": []
  },
  {
   "cell_type": "code",
   "execution_count": 11,
   "id": "11e3bca1-dda6-44e9-9585-54feeda7e7db",
   "metadata": {},
   "outputs": [],
   "source": [
    "from aiida_worktree import node, WorkTree\n",
    "\n",
    "# define add node\n",
    "@node.calcfunction()\n",
    "def add(x, y):\n",
    "    return x + y\n",
    "\n",
    "# define multiply node\n",
    "@node.calcfunction()\n",
    "def multiply(x, y):\n",
    "    return x*y\n",
    "\n",
    "# Create a WorkTree which is dynamically generated based on the input\n",
    "# then we output the result of from the context (ctx)\n",
    "@node.group(outputs = [[\"ctx.result\", \"result\"]])\n",
    "def add_multiply_if(x, y):\n",
    "    wt = WorkTree()\n",
    "    if x.value > 0:\n",
    "        add1 = wt.nodes.new(add, name=\"add1\", x=x, y=y)\n",
    "        # export the result of add1 to the context\n",
    "        add1.to_ctx = [[\"result\", \"result\"]]\n",
    "    else:\n",
    "        multiply1 = wt.nodes.new(multiply, name=\"multiply1\", x=x, y=y)\n",
    "        # export the result of multiply1 to the context\n",
    "        multiply1.to_ctx = [[\"result\", \"result\"]]\n",
    "    return wt"
   ]
  },
  {
   "cell_type": "markdown",
   "id": "65f4c44d",
   "metadata": {},
   "source": [
    "### Create the workflow\n"
   ]
  },
  {
   "cell_type": "code",
   "execution_count": 12,
   "id": "8ee799d2-0b5b-4609-957f-6b3f2cd451f0",
   "metadata": {},
   "outputs": [
    {
     "name": "stdout",
     "output_type": "stream",
     "text": [
      "WorkTree node created, PK: 7015\n"
     ]
    }
   ],
   "source": [
    "from aiida_worktree import WorkTree\n",
    "from aiida.orm import Int, List\n",
    "\n",
    "x = Int(-1)\n",
    "y = Int(2)\n",
    "wt = WorkTree(\"if_node\")\n",
    "add_multiply_if1 = wt.nodes.new(add_multiply_if, name=\"add_multiply_if1\", x=x, y=y)\n",
    "add1 = wt.nodes.new(add, name=\"add1\", x=x)\n",
    "wt.links.new(add_multiply_if1.outputs[0], add1.inputs[\"y\"])\n",
    "\n",
    "wt.submit(wait=True)"
   ]
  },
  {
   "cell_type": "markdown",
   "id": "d25beb02-ee82-4a27-ae48-edc5c147904c",
   "metadata": {},
   "source": [
    "### Check status and results\n"
   ]
  },
  {
   "cell_type": "code",
   "execution_count": 9,
   "id": "9ebf35aa",
   "metadata": {},
   "outputs": [
    {
     "name": "stdout",
     "output_type": "stream",
     "text": [
      "State of WorkTree         : FINISHED\n",
      "Result of add_multiply_if1: -2\n",
      "Result of add1            : -3\n"
     ]
    }
   ],
   "source": [
    "print(\"State of WorkTree         : {}\".format(wt.state))\n",
    "print('Result of add_multiply_if1: {}'.format(wt.nodes[\"add_multiply_if1\"].node.outputs.group_outputs.result.value))\n",
    "print('Result of add1            : {}'.format(wt.nodes[\"add1\"].node.outputs.result.value))"
   ]
  },
  {
   "cell_type": "markdown",
   "id": "125ac629",
   "metadata": {},
   "source": [
    "Generate node graph from the AiiDA process,and we can see that the `multiply` node is executed."
   ]
  },
  {
   "cell_type": "code",
   "execution_count": 10,
   "id": "0060e380",
   "metadata": {},
   "outputs": [
    {
     "data": {
      "image/svg+xml": [
       "<?xml version=\"1.0\" encoding=\"UTF-8\" standalone=\"no\"?>\n",
       "<!DOCTYPE svg PUBLIC \"-//W3C//DTD SVG 1.1//EN\"\n",
       " \"http://www.w3.org/Graphics/SVG/1.1/DTD/svg11.dtd\">\n",
       "<!-- Generated by graphviz version 9.0.0 (20231125.0833)\n",
       " -->\n",
       "<!-- Pages: 1 -->\n",
       "<svg width=\"1072pt\" height=\"850pt\"\n",
       " viewBox=\"0.00 0.00 1071.90 850.31\" xmlns=\"http://www.w3.org/2000/svg\" xmlns:xlink=\"http://www.w3.org/1999/xlink\">\n",
       "<g id=\"graph0\" class=\"graph\" transform=\"scale(1 1) rotate(0) translate(4 846.31)\">\n",
       "<polygon fill=\"white\" stroke=\"none\" points=\"-4,4 -4,-846.31 1067.9,-846.31 1067.9,4 -4,4\"/>\n",
       "<!-- N7007 -->\n",
       "<g id=\"node1\" class=\"node\">\n",
       "<title>N7007</title>\n",
       "<polygon fill=\"#e38851\" stroke=\"red\" stroke-width=\"6\" points=\"411.9,-711.71 215.9,-711.71 215.9,-651.96 411.9,-651.96 411.9,-711.71\"/>\n",
       "<text text-anchor=\"middle\" x=\"313.9\" y=\"-694.41\" font-family=\"Times,serif\" font-size=\"14.00\">WorkTree: if_node (7007)</text>\n",
       "<text text-anchor=\"middle\" x=\"313.9\" y=\"-677.16\" font-family=\"Times,serif\" font-size=\"14.00\">State: finished</text>\n",
       "<text text-anchor=\"middle\" x=\"313.9\" y=\"-659.91\" font-family=\"Times,serif\" font-size=\"14.00\">Exit Code: 0</text>\n",
       "</g>\n",
       "<!-- N7008 -->\n",
       "<g id=\"node4\" class=\"node\">\n",
       "<title>N7008</title>\n",
       "<polygon fill=\"#e38851\" stroke=\"black\" stroke-width=\"0\" points=\"348.28,-581.46 85.53,-581.46 85.53,-521.71 348.28,-521.71 348.28,-581.46\"/>\n",
       "<text text-anchor=\"middle\" x=\"216.9\" y=\"-564.16\" font-family=\"Times,serif\" font-size=\"14.00\">WorkTree: add_multiply_if1 (7008)</text>\n",
       "<text text-anchor=\"middle\" x=\"216.9\" y=\"-546.91\" font-family=\"Times,serif\" font-size=\"14.00\">State: finished</text>\n",
       "<text text-anchor=\"middle\" x=\"216.9\" y=\"-529.66\" font-family=\"Times,serif\" font-size=\"14.00\">Exit Code: 0</text>\n",
       "</g>\n",
       "<!-- N7007&#45;&gt;N7008 -->\n",
       "<g id=\"edge9\" class=\"edge\">\n",
       "<title>N7007&#45;&gt;N7008</title>\n",
       "<path fill=\"none\" stroke=\"#000000\" stroke-dasharray=\"1,5\" d=\"M289.92,-649.13C276.48,-631.36 259.64,-609.09 245.51,-590.41\"/>\n",
       "<polygon fill=\"#000000\" stroke=\"#000000\" points=\"248.35,-588.37 239.53,-582.5 242.77,-592.59 248.35,-588.37\"/>\n",
       "<text text-anchor=\"middle\" x=\"336.78\" y=\"-620.66\" font-family=\"Times,serif\" font-size=\"14.00\">CALL_WORK</text>\n",
       "<text text-anchor=\"middle\" x=\"336.78\" y=\"-603.41\" font-family=\"Times,serif\" font-size=\"14.00\">add_multiply_if1</text>\n",
       "</g>\n",
       "<!-- N7011 -->\n",
       "<g id=\"node7\" class=\"node\">\n",
       "<title>N7011</title>\n",
       "<polygon fill=\"#de707f\" fill-opacity=\"0.466667\" stroke=\"black\" stroke-width=\"0\" points=\"373.65,-190.35 254.15,-190.35 254.15,-130.6 373.65,-130.6 373.65,-190.35\"/>\n",
       "<text text-anchor=\"middle\" x=\"313.9\" y=\"-173.05\" font-family=\"Times,serif\" font-size=\"14.00\">add (7011)</text>\n",
       "<text text-anchor=\"middle\" x=\"313.9\" y=\"-155.8\" font-family=\"Times,serif\" font-size=\"14.00\">State: finished</text>\n",
       "<text text-anchor=\"middle\" x=\"313.9\" y=\"-138.55\" font-family=\"Times,serif\" font-size=\"14.00\">Exit Code: 0</text>\n",
       "</g>\n",
       "<!-- N7007&#45;&gt;N7011 -->\n",
       "<g id=\"edge8\" class=\"edge\">\n",
       "<title>N7007&#45;&gt;N7011</title>\n",
       "<path fill=\"none\" stroke=\"#000000\" stroke-dasharray=\"1,5\" d=\"M383.75,-649C389.1,-644.55 393.94,-639.55 397.9,-633.96 419.11,-604.01 411.9,-589.28 411.9,-552.58 411.9,-552.58 411.9,-552.58 411.9,-289.91 411.9,-250.29 400.49,-239.42 375.9,-208.35 372.98,-204.66 369.7,-201.11 366.22,-197.72\"/>\n",
       "<polygon fill=\"#000000\" stroke=\"#000000\" points=\"368.7,-195.24 358.93,-191.15 364.02,-200.44 368.7,-195.24\"/>\n",
       "<text text-anchor=\"middle\" x=\"454.28\" y=\"-425.28\" font-family=\"Times,serif\" font-size=\"14.00\">CALL_CALC</text>\n",
       "<text text-anchor=\"middle\" x=\"454.28\" y=\"-408.03\" font-family=\"Times,serif\" font-size=\"14.00\">add1</text>\n",
       "</g>\n",
       "<!-- N7005 -->\n",
       "<g id=\"node2\" class=\"node\">\n",
       "<title>N7005</title>\n",
       "<ellipse fill=\"#8cd499\" stroke=\"black\" stroke-width=\"0\" cx=\"160.9\" cy=\"-812.26\" rx=\"61.7\" ry=\"30.05\"/>\n",
       "<text text-anchor=\"middle\" x=\"160.9\" y=\"-816.21\" font-family=\"Times,serif\" font-size=\"14.00\">Int (7005)</text>\n",
       "<text text-anchor=\"middle\" x=\"160.9\" y=\"-798.96\" font-family=\"Times,serif\" font-size=\"14.00\">value: &#45;1</text>\n",
       "</g>\n",
       "<!-- N7005&#45;&gt;N7007 -->\n",
       "<g id=\"edge1\" class=\"edge\">\n",
       "<title>N7005&#45;&gt;N7007</title>\n",
       "<path fill=\"none\" stroke=\"#000000\" stroke-dasharray=\"5,2\" d=\"M103.29,-801.66C47.72,-789.96 -23.62,-767.02 8.4,-729.71 33.34,-700.65 125.44,-689.42 202.05,-685.18\"/>\n",
       "<polygon fill=\"#000000\" stroke=\"#000000\" points=\"201.91,-688.69 211.72,-684.68 201.55,-681.7 201.91,-688.69\"/>\n",
       "<text text-anchor=\"middle\" x=\"150.65\" y=\"-750.91\" font-family=\"Times,serif\" font-size=\"14.00\">INPUT_WORK</text>\n",
       "<text text-anchor=\"middle\" x=\"150.65\" y=\"-733.66\" font-family=\"Times,serif\" font-size=\"14.00\">wt__nodes__add1__properties__x__value</text>\n",
       "</g>\n",
       "<!-- N7005&#45;&gt;N7007 -->\n",
       "<g id=\"edge2\" class=\"edge\">\n",
       "<title>N7005&#45;&gt;N7007</title>\n",
       "<path fill=\"none\" stroke=\"#000000\" stroke-dasharray=\"5,2\" d=\"M219.2,-802.75C244.71,-796.21 273.06,-784.64 291.9,-764.21 301.59,-753.7 307.09,-739.37 310.18,-725.66\"/>\n",
       "<polygon fill=\"#000000\" stroke=\"#000000\" points=\"313.62,-726.34 311.98,-715.88 306.73,-725.08 313.62,-726.34\"/>\n",
       "<text text-anchor=\"middle\" x=\"492.9\" y=\"-750.91\" font-family=\"Times,serif\" font-size=\"14.00\">INPUT_WORK</text>\n",
       "<text text-anchor=\"middle\" x=\"492.9\" y=\"-733.66\" font-family=\"Times,serif\" font-size=\"14.00\">wt__nodes__add_multiply_if1__properties__x__value</text>\n",
       "</g>\n",
       "<!-- N7006 -->\n",
       "<g id=\"node3\" class=\"node\">\n",
       "<title>N7006</title>\n",
       "<ellipse fill=\"#8cd499\" stroke=\"black\" stroke-width=\"0\" cx=\"702.9\" cy=\"-812.26\" rx=\"61.7\" ry=\"30.05\"/>\n",
       "<text text-anchor=\"middle\" x=\"702.9\" y=\"-816.21\" font-family=\"Times,serif\" font-size=\"14.00\">Int (7006)</text>\n",
       "<text text-anchor=\"middle\" x=\"702.9\" y=\"-798.96\" font-family=\"Times,serif\" font-size=\"14.00\">value: 2</text>\n",
       "</g>\n",
       "<!-- N7006&#45;&gt;N7007 -->\n",
       "<g id=\"edge3\" class=\"edge\">\n",
       "<title>N7006&#45;&gt;N7007</title>\n",
       "<path fill=\"none\" stroke=\"#000000\" stroke-dasharray=\"5,2\" d=\"M702.42,-782.52C700.51,-764.65 694.94,-742.68 679.9,-729.71 642.78,-697.7 519.26,-687.21 425.89,-683.95\"/>\n",
       "<polygon fill=\"#000000\" stroke=\"#000000\" points=\"426.28,-680.46 416.18,-683.63 426.06,-687.45 426.28,-680.46\"/>\n",
       "<text text-anchor=\"middle\" x=\"880.9\" y=\"-750.91\" font-family=\"Times,serif\" font-size=\"14.00\">INPUT_WORK</text>\n",
       "<text text-anchor=\"middle\" x=\"880.9\" y=\"-733.66\" font-family=\"Times,serif\" font-size=\"14.00\">wt__nodes__add_multiply_if1__properties__y__value</text>\n",
       "</g>\n",
       "<!-- N7009 -->\n",
       "<g id=\"node5\" class=\"node\">\n",
       "<title>N7009</title>\n",
       "<polygon fill=\"#de707f\" fill-opacity=\"0.466667\" stroke=\"black\" stroke-width=\"0\" points=\"181.03,-451.21 54.78,-451.21 54.78,-391.46 181.03,-391.46 181.03,-451.21\"/>\n",
       "<text text-anchor=\"middle\" x=\"117.9\" y=\"-433.91\" font-family=\"Times,serif\" font-size=\"14.00\">multiply (7009)</text>\n",
       "<text text-anchor=\"middle\" x=\"117.9\" y=\"-416.66\" font-family=\"Times,serif\" font-size=\"14.00\">State: finished</text>\n",
       "<text text-anchor=\"middle\" x=\"117.9\" y=\"-399.41\" font-family=\"Times,serif\" font-size=\"14.00\">Exit Code: 0</text>\n",
       "</g>\n",
       "<!-- N7008&#45;&gt;N7009 -->\n",
       "<g id=\"edge10\" class=\"edge\">\n",
       "<title>N7008&#45;&gt;N7009</title>\n",
       "<path fill=\"none\" stroke=\"#000000\" stroke-dasharray=\"1,5\" d=\"M135.1,-521.89C128.48,-516.77 122.62,-510.76 118.15,-503.71 110.52,-491.69 108.86,-476.52 109.65,-462.54\"/>\n",
       "<polygon fill=\"#000000\" stroke=\"#000000\" points=\"113.12,-462.99 110.66,-452.69 106.16,-462.28 113.12,-462.99\"/>\n",
       "<text text-anchor=\"middle\" x=\"161.28\" y=\"-490.41\" font-family=\"Times,serif\" font-size=\"14.00\">CALL_CALC</text>\n",
       "<text text-anchor=\"middle\" x=\"161.28\" y=\"-473.16\" font-family=\"Times,serif\" font-size=\"14.00\">multiply1</text>\n",
       "</g>\n",
       "<!-- N7010 -->\n",
       "<g id=\"node6\" class=\"node\">\n",
       "<title>N7010</title>\n",
       "<ellipse fill=\"#8cd499\" stroke=\"black\" stroke-width=\"0\" cx=\"216.9\" cy=\"-290.91\" rx=\"61.7\" ry=\"30.05\"/>\n",
       "<text text-anchor=\"middle\" x=\"216.9\" y=\"-294.86\" font-family=\"Times,serif\" font-size=\"14.00\">Int (7010)</text>\n",
       "<text text-anchor=\"middle\" x=\"216.9\" y=\"-277.61\" font-family=\"Times,serif\" font-size=\"14.00\">value: &#45;2</text>\n",
       "</g>\n",
       "<!-- N7008&#45;&gt;N7010 -->\n",
       "<g id=\"edge5\" class=\"edge\">\n",
       "<title>N7008&#45;&gt;N7010</title>\n",
       "<path fill=\"none\" stroke=\"#000000\" stroke-dasharray=\"5,2\" d=\"M216.9,-521.91C216.9,-475.68 216.9,-384.56 216.9,-331.95\"/>\n",
       "<polygon fill=\"#000000\" stroke=\"#000000\" points=\"220.4,-332.22 216.9,-322.22 213.4,-332.22 220.4,-332.22\"/>\n",
       "<text text-anchor=\"middle\" x=\"296.4\" y=\"-425.28\" font-family=\"Times,serif\" font-size=\"14.00\">RETURN</text>\n",
       "<text text-anchor=\"middle\" x=\"296.4\" y=\"-408.03\" font-family=\"Times,serif\" font-size=\"14.00\">group_outputs__result</text>\n",
       "</g>\n",
       "<!-- N7009&#45;&gt;N7010 -->\n",
       "<g id=\"edge6\" class=\"edge\">\n",
       "<title>N7009&#45;&gt;N7010</title>\n",
       "<path fill=\"none\" stroke=\"#000000\" d=\"M121.64,-391.7C124.99,-374.98 131.25,-354.24 142.9,-338.96 148.87,-331.13 156.54,-324.25 164.68,-318.35\"/>\n",
       "<polygon fill=\"#000000\" stroke=\"#000000\" points=\"166.39,-321.42 172.74,-312.94 162.49,-315.6 166.39,-321.42\"/>\n",
       "<text text-anchor=\"middle\" x=\"172.9\" y=\"-360.16\" font-family=\"Times,serif\" font-size=\"14.00\">CREATE</text>\n",
       "<text text-anchor=\"middle\" x=\"172.9\" y=\"-342.91\" font-family=\"Times,serif\" font-size=\"14.00\">result</text>\n",
       "</g>\n",
       "<!-- N7010&#45;&gt;N7011 -->\n",
       "<g id=\"edge7\" class=\"edge\">\n",
       "<title>N7010&#45;&gt;N7011</title>\n",
       "<path fill=\"none\" stroke=\"#000000\" d=\"M237.47,-262.67C251.46,-244.15 270.14,-219.41 285.54,-199.03\"/>\n",
       "<polygon fill=\"#000000\" stroke=\"#000000\" points=\"288.2,-201.31 291.44,-191.22 282.62,-197.09 288.2,-201.31\"/>\n",
       "<text text-anchor=\"middle\" x=\"324.78\" y=\"-229.55\" font-family=\"Times,serif\" font-size=\"14.00\">INPUT_CALC</text>\n",
       "<text text-anchor=\"middle\" x=\"324.78\" y=\"-212.3\" font-family=\"Times,serif\" font-size=\"14.00\">y</text>\n",
       "</g>\n",
       "<!-- N7012 -->\n",
       "<g id=\"node8\" class=\"node\">\n",
       "<title>N7012</title>\n",
       "<ellipse fill=\"#8cd499\" stroke=\"black\" stroke-width=\"0\" cx=\"313.9\" cy=\"-30.05\" rx=\"61.7\" ry=\"30.05\"/>\n",
       "<text text-anchor=\"middle\" x=\"313.9\" y=\"-34\" font-family=\"Times,serif\" font-size=\"14.00\">Int (7012)</text>\n",
       "<text text-anchor=\"middle\" x=\"313.9\" y=\"-16.75\" font-family=\"Times,serif\" font-size=\"14.00\">value: &#45;3</text>\n",
       "</g>\n",
       "<!-- N7011&#45;&gt;N7012 -->\n",
       "<g id=\"edge4\" class=\"edge\">\n",
       "<title>N7011&#45;&gt;N7012</title>\n",
       "<path fill=\"none\" stroke=\"#000000\" d=\"M313.9,-130.66C313.9,-113.14 313.9,-90.52 313.9,-71.26\"/>\n",
       "<polygon fill=\"#000000\" stroke=\"#000000\" points=\"317.4,-71.29 313.9,-61.29 310.4,-71.29 317.4,-71.29\"/>\n",
       "<text text-anchor=\"middle\" x=\"343.9\" y=\"-99.3\" font-family=\"Times,serif\" font-size=\"14.00\">CREATE</text>\n",
       "<text text-anchor=\"middle\" x=\"343.9\" y=\"-82.05\" font-family=\"Times,serif\" font-size=\"14.00\">result</text>\n",
       "</g>\n",
       "</g>\n",
       "</svg>\n"
      ],
      "text/plain": [
       "<graphviz.graphs.Digraph at 0x7f40a7f48f90>"
      ]
     },
     "execution_count": 10,
     "metadata": {},
     "output_type": "execute_result"
    }
   ],
   "source": [
    "from aiida_worktree.utils import generate_node_graph\n",
    "generate_node_graph(wt.pk)"
   ]
  },
  {
   "cell_type": "markdown",
   "id": "62934367",
   "metadata": {},
   "source": [
    "Run the workflow using a different input value, and this time the `add` function will be called."
   ]
  },
  {
   "cell_type": "code",
   "execution_count": 6,
   "id": "140461b7",
   "metadata": {},
   "outputs": [
    {
     "name": "stdout",
     "output_type": "stream",
     "text": [
      "WorkTree node crated, PK: 10996\n"
     ]
    },
    {
     "data": {
      "image/svg+xml": [
       "<?xml version=\"1.0\" encoding=\"UTF-8\" standalone=\"no\"?>\n",
       "<!DOCTYPE svg PUBLIC \"-//W3C//DTD SVG 1.1//EN\"\n",
       " \"http://www.w3.org/Graphics/SVG/1.1/DTD/svg11.dtd\">\n",
       "<!-- Generated by graphviz version 7.1.0 (20230122.1345)\n",
       " -->\n",
       "<!-- Pages: 1 -->\n",
       "<svg width=\"982pt\" height=\"777pt\"\n",
       " viewBox=\"0.00 0.00 981.81 777.22\" xmlns=\"http://www.w3.org/2000/svg\" xmlns:xlink=\"http://www.w3.org/1999/xlink\">\n",
       "<g id=\"graph0\" class=\"graph\" transform=\"scale(1 1) rotate(0) translate(4 773.22)\">\n",
       "<polygon fill=\"white\" stroke=\"none\" points=\"-4,4 -4,-773.22 977.81,-773.22 977.81,4 -4,4\"/>\n",
       "<!-- N10996 -->\n",
       "<g id=\"node1\" class=\"node\">\n",
       "<title>N10996</title>\n",
       "<polygon fill=\"#e38851\" stroke=\"red\" stroke-width=\"6\" points=\"377.31,-649.48 210.31,-649.48 210.31,-596.48 377.31,-596.48 377.31,-649.48\"/>\n",
       "<text text-anchor=\"middle\" x=\"293.81\" y=\"-634.28\" font-family=\"Times,serif\" font-size=\"14.00\">WorkTree: if_node (10996)</text>\n",
       "<text text-anchor=\"middle\" x=\"293.81\" y=\"-619.28\" font-family=\"Times,serif\" font-size=\"14.00\">State: finished</text>\n",
       "<text text-anchor=\"middle\" x=\"293.81\" y=\"-604.28\" font-family=\"Times,serif\" font-size=\"14.00\">Exit Code: 0</text>\n",
       "</g>\n",
       "<!-- N10997 -->\n",
       "<g id=\"node4\" class=\"node\">\n",
       "<title>N10997</title>\n",
       "<polygon fill=\"#e38851\" stroke=\"black\" stroke-width=\"0\" points=\"324.81,-530.48 104.81,-530.48 104.81,-477.48 324.81,-477.48 324.81,-530.48\"/>\n",
       "<text text-anchor=\"middle\" x=\"214.81\" y=\"-515.28\" font-family=\"Times,serif\" font-size=\"14.00\">WorkTree: add_multiply_if1 (10997)</text>\n",
       "<text text-anchor=\"middle\" x=\"214.81\" y=\"-500.28\" font-family=\"Times,serif\" font-size=\"14.00\">State: finished</text>\n",
       "<text text-anchor=\"middle\" x=\"214.81\" y=\"-485.28\" font-family=\"Times,serif\" font-size=\"14.00\">Exit Code: 0</text>\n",
       "</g>\n",
       "<!-- N10996&#45;&gt;N10997 -->\n",
       "<g id=\"edge4\" class=\"edge\">\n",
       "<title>N10996&#45;&gt;N10997</title>\n",
       "<path fill=\"none\" stroke=\"#000000\" stroke-dasharray=\"1,5\" d=\"M274.38,-593.94C270.85,-588.81 267.21,-583.49 263.81,-578.48 255.25,-565.86 245.95,-551.96 237.77,-539.67\"/>\n",
       "<polygon fill=\"#000000\" stroke=\"#000000\" points=\"240.78,-537.87 232.33,-531.48 234.95,-541.75 240.78,-537.87\"/>\n",
       "<text text-anchor=\"middle\" x=\"311.31\" y=\"-567.28\" font-family=\"Times,serif\" font-size=\"14.00\">CALL_WORK</text>\n",
       "<text text-anchor=\"middle\" x=\"311.31\" y=\"-552.28\" font-family=\"Times,serif\" font-size=\"14.00\">add_multiply_if1</text>\n",
       "</g>\n",
       "<!-- N11000 -->\n",
       "<g id=\"node7\" class=\"node\">\n",
       "<title>N11000</title>\n",
       "<polygon fill=\"#de707f\" fill-opacity=\"0.466667\" stroke=\"black\" stroke-width=\"0\" points=\"341.31,-172.74 246.31,-172.74 246.31,-119.74 341.31,-119.74 341.31,-172.74\"/>\n",
       "<text text-anchor=\"middle\" x=\"293.81\" y=\"-157.54\" font-family=\"Times,serif\" font-size=\"14.00\">add (11000)</text>\n",
       "<text text-anchor=\"middle\" x=\"293.81\" y=\"-142.54\" font-family=\"Times,serif\" font-size=\"14.00\">State: finished</text>\n",
       "<text text-anchor=\"middle\" x=\"293.81\" y=\"-127.54\" font-family=\"Times,serif\" font-size=\"14.00\">Exit Code: 0</text>\n",
       "</g>\n",
       "<!-- N10996&#45;&gt;N11000 -->\n",
       "<g id=\"edge6\" class=\"edge\">\n",
       "<title>N10996&#45;&gt;N11000</title>\n",
       "<path fill=\"none\" stroke=\"#000000\" stroke-dasharray=\"1,5\" d=\"M345.37,-593.53C350.49,-589.05 355.14,-584.03 358.81,-578.48 377.16,-550.75 372.81,-538.23 372.81,-504.98 372.81,-504.98 372.81,-504.98 372.81,-264.61 372.81,-230.35 370.27,-218.93 350.81,-190.74 348.3,-187.1 345.38,-183.63 342.23,-180.36\"/>\n",
       "<polygon fill=\"#000000\" stroke=\"#000000\" points=\"344.77,-177.95 335.08,-173.67 339.99,-183.06 344.77,-177.95\"/>\n",
       "<text text-anchor=\"middle\" x=\"412.31\" y=\"-388.78\" font-family=\"Times,serif\" font-size=\"14.00\">CALL_CALC</text>\n",
       "<text text-anchor=\"middle\" x=\"412.31\" y=\"-373.78\" font-family=\"Times,serif\" font-size=\"14.00\">add1</text>\n",
       "</g>\n",
       "<!-- N10994 -->\n",
       "<g id=\"node2\" class=\"node\">\n",
       "<title>N10994</title>\n",
       "<ellipse fill=\"#8cd499\" stroke=\"black\" stroke-width=\"0\" cx=\"150.81\" cy=\"-742.35\" rx=\"55.31\" ry=\"26.74\"/>\n",
       "<text text-anchor=\"middle\" x=\"150.81\" y=\"-746.15\" font-family=\"Times,serif\" font-size=\"14.00\">Int (10994)</text>\n",
       "<text text-anchor=\"middle\" x=\"150.81\" y=\"-731.15\" font-family=\"Times,serif\" font-size=\"14.00\">value: 1</text>\n",
       "</g>\n",
       "<!-- N10994&#45;&gt;N10996 -->\n",
       "<g id=\"edge1\" class=\"edge\">\n",
       "<title>N10994&#45;&gt;N10996</title>\n",
       "<path fill=\"none\" stroke=\"#000000\" stroke-dasharray=\"5,2\" d=\"M99,-733.42C46.68,-723.28 -22.42,-702.66 7.81,-667.48 31.98,-639.36 123.43,-629.2 196.5,-625.65\"/>\n",
       "<polygon fill=\"#000000\" stroke=\"#000000\" points=\"196.25,-629.16 206.08,-625.22 195.93,-622.17 196.25,-629.16\"/>\n",
       "<text text-anchor=\"middle\" x=\"139.81\" y=\"-686.28\" font-family=\"Times,serif\" font-size=\"14.00\">INPUT_WORK</text>\n",
       "<text text-anchor=\"middle\" x=\"139.81\" y=\"-671.28\" font-family=\"Times,serif\" font-size=\"14.00\">worktree__nodes__add1__properties__x__value</text>\n",
       "</g>\n",
       "<!-- N10994&#45;&gt;N10996 -->\n",
       "<g id=\"edge2\" class=\"edge\">\n",
       "<title>N10994&#45;&gt;N10996</title>\n",
       "<path fill=\"none\" stroke=\"#000000\" stroke-dasharray=\"5,2\" d=\"M202.91,-733.48C226.81,-727.37 253.78,-716.57 271.81,-697.48 280.63,-688.14 285.93,-675.4 289.11,-663.15\"/>\n",
       "<polygon fill=\"#000000\" stroke=\"#000000\" points=\"292.47,-664.14 291.15,-653.63 285.63,-662.68 292.47,-664.14\"/>\n",
       "<text text-anchor=\"middle\" x=\"453.81\" y=\"-686.28\" font-family=\"Times,serif\" font-size=\"14.00\">INPUT_WORK</text>\n",
       "<text text-anchor=\"middle\" x=\"453.81\" y=\"-671.28\" font-family=\"Times,serif\" font-size=\"14.00\">worktree__nodes__add_multiply_if1__properties__x__value</text>\n",
       "</g>\n",
       "<!-- N10995 -->\n",
       "<g id=\"node3\" class=\"node\">\n",
       "<title>N10995</title>\n",
       "<ellipse fill=\"#8cd499\" stroke=\"black\" stroke-width=\"0\" cx=\"648.81\" cy=\"-742.35\" rx=\"55.31\" ry=\"26.74\"/>\n",
       "<text text-anchor=\"middle\" x=\"648.81\" y=\"-746.15\" font-family=\"Times,serif\" font-size=\"14.00\">Int (10995)</text>\n",
       "<text text-anchor=\"middle\" x=\"648.81\" y=\"-731.15\" font-family=\"Times,serif\" font-size=\"14.00\">value: 2</text>\n",
       "</g>\n",
       "<!-- N10995&#45;&gt;N10996 -->\n",
       "<g id=\"edge3\" class=\"edge\">\n",
       "<title>N10995&#45;&gt;N10996</title>\n",
       "<path fill=\"none\" stroke=\"#000000\" stroke-dasharray=\"5,2\" d=\"M646.92,-715.94C644.29,-699.58 638.14,-679.26 623.81,-667.48 589.23,-639.07 475.7,-629.12 391.41,-625.68\"/>\n",
       "<polygon fill=\"#000000\" stroke=\"#000000\" points=\"391.62,-622.19 381.5,-625.31 391.36,-629.18 391.62,-622.19\"/>\n",
       "<text text-anchor=\"middle\" x=\"807.81\" y=\"-686.28\" font-family=\"Times,serif\" font-size=\"14.00\">INPUT_WORK</text>\n",
       "<text text-anchor=\"middle\" x=\"807.81\" y=\"-671.28\" font-family=\"Times,serif\" font-size=\"14.00\">worktree__nodes__add_multiply_if1__properties__y__value</text>\n",
       "</g>\n",
       "<!-- N10998 -->\n",
       "<g id=\"node5\" class=\"node\">\n",
       "<title>N10998</title>\n",
       "<polygon fill=\"#de707f\" fill-opacity=\"0.466667\" stroke=\"black\" stroke-width=\"0\" points=\"173.31,-411.48 78.31,-411.48 78.31,-358.48 173.31,-358.48 173.31,-411.48\"/>\n",
       "<text text-anchor=\"middle\" x=\"125.81\" y=\"-396.28\" font-family=\"Times,serif\" font-size=\"14.00\">add (10998)</text>\n",
       "<text text-anchor=\"middle\" x=\"125.81\" y=\"-381.28\" font-family=\"Times,serif\" font-size=\"14.00\">State: finished</text>\n",
       "<text text-anchor=\"middle\" x=\"125.81\" y=\"-366.28\" font-family=\"Times,serif\" font-size=\"14.00\">Exit Code: 0</text>\n",
       "</g>\n",
       "<!-- N10997&#45;&gt;N10998 -->\n",
       "<g id=\"edge9\" class=\"edge\">\n",
       "<title>N10997&#45;&gt;N10998</title>\n",
       "<path fill=\"none\" stroke=\"#000000\" stroke-dasharray=\"1,5\" d=\"M139.49,-477.79C132.54,-472.74 126.4,-466.7 121.81,-459.48 114.93,-448.67 114.05,-435.04 115.53,-422.47\"/>\n",
       "<polygon fill=\"#000000\" stroke=\"#000000\" points=\"118.95,-423.28 117.2,-412.83 112.05,-422.09 118.95,-423.28\"/>\n",
       "<text text-anchor=\"middle\" x=\"161.31\" y=\"-448.28\" font-family=\"Times,serif\" font-size=\"14.00\">CALL_CALC</text>\n",
       "<text text-anchor=\"middle\" x=\"161.31\" y=\"-433.28\" font-family=\"Times,serif\" font-size=\"14.00\">add1</text>\n",
       "</g>\n",
       "<!-- N10999 -->\n",
       "<g id=\"node6\" class=\"node\">\n",
       "<title>N10999</title>\n",
       "<ellipse fill=\"#8cd499\" stroke=\"black\" stroke-width=\"0\" cx=\"214.81\" cy=\"-265.61\" rx=\"55.31\" ry=\"26.74\"/>\n",
       "<text text-anchor=\"middle\" x=\"214.81\" y=\"-269.41\" font-family=\"Times,serif\" font-size=\"14.00\">Int (10999)</text>\n",
       "<text text-anchor=\"middle\" x=\"214.81\" y=\"-254.41\" font-family=\"Times,serif\" font-size=\"14.00\">value: 3</text>\n",
       "</g>\n",
       "<!-- N10997&#45;&gt;N10999 -->\n",
       "<g id=\"edge5\" class=\"edge\">\n",
       "<title>N10997&#45;&gt;N10999</title>\n",
       "<path fill=\"none\" stroke=\"#000000\" stroke-dasharray=\"5,2\" d=\"M214.81,-477.68C214.81,-435.77 214.81,-351.73 214.81,-303.29\"/>\n",
       "<polygon fill=\"#000000\" stroke=\"#000000\" points=\"218.31,-303.59 214.81,-293.59 211.31,-303.59 218.31,-303.59\"/>\n",
       "<text text-anchor=\"middle\" x=\"275.81\" y=\"-388.78\" font-family=\"Times,serif\" font-size=\"14.00\">RETURN</text>\n",
       "<text text-anchor=\"middle\" x=\"275.81\" y=\"-373.78\" font-family=\"Times,serif\" font-size=\"14.00\">group_outputs__result</text>\n",
       "</g>\n",
       "<!-- N10998&#45;&gt;N10999 -->\n",
       "<g id=\"edge7\" class=\"edge\">\n",
       "<title>N10998&#45;&gt;N10999</title>\n",
       "<path fill=\"none\" stroke=\"#000000\" d=\"M129.39,-358.54C132.52,-343.41 138.3,-324.49 148.81,-310.48 154.15,-303.36 161.01,-297.04 168.27,-291.57\"/>\n",
       "<polygon fill=\"#000000\" stroke=\"#000000\" points=\"170.14,-294.53 176.36,-285.95 166.15,-288.78 170.14,-294.53\"/>\n",
       "<text text-anchor=\"middle\" x=\"174.81\" y=\"-329.28\" font-family=\"Times,serif\" font-size=\"14.00\">CREATE</text>\n",
       "<text text-anchor=\"middle\" x=\"174.81\" y=\"-314.28\" font-family=\"Times,serif\" font-size=\"14.00\">result</text>\n",
       "</g>\n",
       "<!-- N10999&#45;&gt;N11000 -->\n",
       "<g id=\"edge10\" class=\"edge\">\n",
       "<title>N10999&#45;&gt;N11000</title>\n",
       "<path fill=\"none\" stroke=\"#000000\" d=\"M231.18,-240.29C242.57,-223.37 257.93,-200.55 270.58,-181.75\"/>\n",
       "<polygon fill=\"#000000\" stroke=\"#000000\" points=\"273.39,-183.84 276.07,-173.59 267.58,-179.94 273.39,-183.84\"/>\n",
       "<text text-anchor=\"middle\" x=\"305.31\" y=\"-209.54\" font-family=\"Times,serif\" font-size=\"14.00\">INPUT_CALC</text>\n",
       "<text text-anchor=\"middle\" x=\"305.31\" y=\"-194.54\" font-family=\"Times,serif\" font-size=\"14.00\">y</text>\n",
       "</g>\n",
       "<!-- N11001 -->\n",
       "<g id=\"node8\" class=\"node\">\n",
       "<title>N11001</title>\n",
       "<ellipse fill=\"#8cd499\" stroke=\"black\" stroke-width=\"0\" cx=\"293.81\" cy=\"-26.87\" rx=\"55.31\" ry=\"26.74\"/>\n",
       "<text text-anchor=\"middle\" x=\"293.81\" y=\"-30.67\" font-family=\"Times,serif\" font-size=\"14.00\">Int (11001)</text>\n",
       "<text text-anchor=\"middle\" x=\"293.81\" y=\"-15.67\" font-family=\"Times,serif\" font-size=\"14.00\">value: 4</text>\n",
       "</g>\n",
       "<!-- N11000&#45;&gt;N11001 -->\n",
       "<g id=\"edge8\" class=\"edge\">\n",
       "<title>N11000&#45;&gt;N11001</title>\n",
       "<path fill=\"none\" stroke=\"#000000\" d=\"M293.81,-119.77C293.81,-103.7 293.81,-82.67 293.81,-64.79\"/>\n",
       "<polygon fill=\"#000000\" stroke=\"#000000\" points=\"297.31,-64.8 293.81,-54.8 290.31,-64.8 297.31,-64.8\"/>\n",
       "<text text-anchor=\"middle\" x=\"319.81\" y=\"-90.54\" font-family=\"Times,serif\" font-size=\"14.00\">CREATE</text>\n",
       "<text text-anchor=\"middle\" x=\"319.81\" y=\"-75.54\" font-family=\"Times,serif\" font-size=\"14.00\">result</text>\n",
       "</g>\n",
       "</g>\n",
       "</svg>\n"
      ],
      "text/plain": [
       "<graphviz.graphs.Digraph at 0x7fc0a2ba8b50>"
      ]
     },
     "execution_count": 6,
     "metadata": {},
     "output_type": "execute_result"
    }
   ],
   "source": [
    "x = Int(1)\n",
    "y = Int(2)\n",
    "wt = WorkTree(\"if_node\")\n",
    "add_multiply_if1 = wt.nodes.new(add_multiply_if, name=\"add_multiply_if1\", x=x, y=y)\n",
    "add1 = wt.nodes.new(add, name=\"add1\", x=x)\n",
    "wt.links.new(add_multiply_if1.outputs[0], add1.inputs[\"y\"])\n",
    "\n",
    "wt.submit(wait=True)\n",
    "generate_node_graph(wt.pk)\n"
   ]
  }
 ],
 "metadata": {
  "kernelspec": {
   "display_name": "Python 3.10.4 ('scinode')",
   "language": "python",
   "name": "python3"
  },
  "language_info": {
   "codemirror_mode": {
    "name": "ipython",
    "version": 3
   },
   "file_extension": ".py",
   "mimetype": "text/x-python",
   "name": "python",
   "nbconvert_exporter": "python",
   "pygments_lexer": "ipython3",
   "version": "3.11.0"
  },
  "vscode": {
   "interpreter": {
    "hash": "2f450c1ff08798c4974437dd057310afef0de414c25d1fd960ad375311c3f6ff"
   }
  }
 },
 "nbformat": 4,
 "nbformat_minor": 5
}
