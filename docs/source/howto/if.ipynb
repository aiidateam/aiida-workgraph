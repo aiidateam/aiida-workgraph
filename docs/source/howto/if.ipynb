{
 "cells": [
  {
   "cell_type": "markdown",
   "id": "22d177dc-6cfb-4de2-9509-f1eb45e10cf2",
   "metadata": {},
   "source": [
    "# How to use `if` statements"
   ]
  },
  {
   "cell_type": "markdown",
   "id": "58696c91",
   "metadata": {},
   "source": [
    "## Introduction\n",
    "In this tutorial, you will learn how to use `if` statements in WorkTree.\n",
    "\n",
    "Load the AiiDA profile."
   ]
  },
  {
   "cell_type": "code",
   "execution_count": 1,
   "id": "c6b83fb5",
   "metadata": {},
   "outputs": [
    {
     "name": "stdout",
     "output_type": "stream",
     "text": [
      "\u001b[93m\u001b[1mWarning\u001b[0m: \u001b[22mYou are currently using a post release development version of AiiDA: 2.4.0.post0\u001b[0m\n",
      "\u001b[93m\u001b[1mWarning\u001b[0m: \u001b[22mBe aware that this is not recommended for production and is not officially supported.\u001b[0m\n",
      "\u001b[93m\u001b[1mWarning\u001b[0m: \u001b[22mDatabases used with this version may not be compatible with future releases of AiiDA\u001b[0m\n",
      "\u001b[93m\u001b[1mWarning\u001b[0m: \u001b[22mas you might not be able to automatically migrate your data.\n",
      "\u001b[0m\n"
     ]
    },
    {
     "data": {
      "text/plain": [
       "Profile<uuid='10014391ebf5492db57a6edfea62c68e' name='default'>"
      ]
     },
     "execution_count": 1,
     "metadata": {},
     "output_type": "execute_result"
    }
   ],
   "source": [
    "%load_ext aiida\n",
    "from aiida import load_profile\n",
    "load_profile()"
   ]
  },
  {
   "cell_type": "markdown",
   "id": "30719f9a",
   "metadata": {},
   "source": [
    "## First workflow: if\n",
    "Suppose we want to calculate:\n",
    "```python\n",
    "if x > 0:\n",
    "    z = x - y\n",
    "else:\n",
    "    z = x*y\n",
    "```\n",
    "\n"
   ]
  },
  {
   "cell_type": "markdown",
   "id": "0f46d277",
   "metadata": {},
   "source": [
    "### Create node\n",
    "In order to create a dynamic workflow based on the input value, we need a create a `WorkTree` and then treat this `WorkTree` as a node."
   ]
  },
  {
   "cell_type": "markdown",
   "id": "9e6360d8",
   "metadata": {},
   "source": []
  },
  {
   "cell_type": "code",
   "execution_count": 2,
   "id": "11e3bca1-dda6-44e9-9585-54feeda7e7db",
   "metadata": {},
   "outputs": [],
   "source": [
    "from aiida_worktree import node, WorkTree\n",
    "from aiida.engine import calcfunction\n",
    "from aiida.orm import List\n",
    "\n",
    "# define add node\n",
    "@node.calcfunction()\n",
    "def add(x, y):\n",
    "    return x + y\n",
    "\n",
    "# define multiply node\n",
    "@node.calcfunction()\n",
    "def multiply(x, y):\n",
    "    return x*y\n",
    "\n",
    "# Create a WorkTree which is dynamically generated based on the input\n",
    "# then we output the result of from the context (ctx)\n",
    "@node.group(outputs = [[\"ctx.result\", \"result\"]])\n",
    "def add_multiply_if(x, y):\n",
    "    wt = WorkTree(\"add_multiply_if\")\n",
    "    if x.value > 0:\n",
    "        add1 = wt.nodes.new(add, name=\"add1\", x=x, y=y)\n",
    "        # export the result of add1 to the context\n",
    "        add1.to_ctx = [[\"result\", \"result\"]]\n",
    "    else:\n",
    "        multiply1 = wt.nodes.new(multiply, name=\"multiply1\", x=x, y=y)\n",
    "        # export the result of multiply1 to the context\n",
    "        multiply1.to_ctx = [[\"result\", \"result\"]]\n",
    "    return wt"
   ]
  },
  {
   "cell_type": "markdown",
   "id": "65f4c44d",
   "metadata": {},
   "source": [
    "### Create the workflow\n"
   ]
  },
  {
   "cell_type": "code",
   "execution_count": 3,
   "id": "8ee799d2-0b5b-4609-957f-6b3f2cd451f0",
   "metadata": {},
   "outputs": [
    {
     "name": "stdout",
     "output_type": "stream",
     "text": [
      "WorkTree node crated, PK: 10988\n"
     ]
    }
   ],
   "source": [
    "from aiida_worktree import WorkTree\n",
    "from aiida.orm import Int, List\n",
    "\n",
    "x = Int(-1)\n",
    "y = Int(2)\n",
    "wt = WorkTree(\"if_node\")\n",
    "add_multiply_if1 = wt.nodes.new(add_multiply_if, name=\"add_multiply_if1\", x=x, y=y)\n",
    "add1 = wt.nodes.new(add, name=\"add1\", x=x)\n",
    "wt.links.new(add_multiply_if1.outputs[0], add1.inputs[\"y\"])\n",
    "\n",
    "wt.submit(wait=True)"
   ]
  },
  {
   "cell_type": "markdown",
   "id": "d25beb02-ee82-4a27-ae48-edc5c147904c",
   "metadata": {},
   "source": [
    "### Check status and results\n"
   ]
  },
  {
   "cell_type": "code",
   "execution_count": 4,
   "id": "9ebf35aa",
   "metadata": {},
   "outputs": [
    {
     "name": "stdout",
     "output_type": "stream",
     "text": [
      "State of WorkTree         : FINISHED\n",
      "Result of add_multiply_if1: -2\n",
      "Result of add1            : -3\n"
     ]
    }
   ],
   "source": [
    "print(\"State of WorkTree         : {}\".format(wt.state))\n",
    "print('Result of add_multiply_if1: {}'.format(wt.nodes[\"add_multiply_if1\"].node.outputs.group_outputs.result.value))\n",
    "print('Result of add1            : {}'.format(wt.nodes[\"add1\"].node.outputs.result.value))"
   ]
  },
  {
   "cell_type": "markdown",
   "id": "125ac629",
   "metadata": {},
   "source": [
    "Generate node graph from the AiiDA process,and we can see that the `multiply` node is executed."
   ]
  },
  {
   "cell_type": "code",
   "execution_count": 5,
   "id": "0060e380",
   "metadata": {},
   "outputs": [
    {
     "data": {
      "image/svg+xml": [
       "<?xml version=\"1.0\" encoding=\"UTF-8\" standalone=\"no\"?>\n",
       "<!DOCTYPE svg PUBLIC \"-//W3C//DTD SVG 1.1//EN\"\n",
       " \"http://www.w3.org/Graphics/SVG/1.1/DTD/svg11.dtd\">\n",
       "<!-- Generated by graphviz version 7.1.0 (20230122.1345)\n",
       " -->\n",
       "<!-- Pages: 1 -->\n",
       "<svg width=\"984pt\" height=\"777pt\"\n",
       " viewBox=\"0.00 0.00 984.33 777.22\" xmlns=\"http://www.w3.org/2000/svg\" xmlns:xlink=\"http://www.w3.org/1999/xlink\">\n",
       "<g id=\"graph0\" class=\"graph\" transform=\"scale(1 1) rotate(0) translate(4 773.22)\">\n",
       "<polygon fill=\"white\" stroke=\"none\" points=\"-4,4 -4,-773.22 980.33,-773.22 980.33,4 -4,4\"/>\n",
       "<!-- N10988 -->\n",
       "<g id=\"node1\" class=\"node\">\n",
       "<title>N10988</title>\n",
       "<polygon fill=\"#e38851\" stroke=\"red\" stroke-width=\"6\" points=\"446.83,-649.48 279.83,-649.48 279.83,-596.48 446.83,-596.48 446.83,-649.48\"/>\n",
       "<text text-anchor=\"middle\" x=\"363.33\" y=\"-634.28\" font-family=\"Times,serif\" font-size=\"14.00\">WorkTree: if_node (10988)</text>\n",
       "<text text-anchor=\"middle\" x=\"363.33\" y=\"-619.28\" font-family=\"Times,serif\" font-size=\"14.00\">State: finished</text>\n",
       "<text text-anchor=\"middle\" x=\"363.33\" y=\"-604.28\" font-family=\"Times,serif\" font-size=\"14.00\">Exit Code: 0</text>\n",
       "</g>\n",
       "<!-- N10989 -->\n",
       "<g id=\"node4\" class=\"node\">\n",
       "<title>N10989</title>\n",
       "<polygon fill=\"#e38851\" stroke=\"black\" stroke-width=\"0\" points=\"394.33,-530.48 174.33,-530.48 174.33,-477.48 394.33,-477.48 394.33,-530.48\"/>\n",
       "<text text-anchor=\"middle\" x=\"284.33\" y=\"-515.28\" font-family=\"Times,serif\" font-size=\"14.00\">WorkTree: add_multiply_if1 (10989)</text>\n",
       "<text text-anchor=\"middle\" x=\"284.33\" y=\"-500.28\" font-family=\"Times,serif\" font-size=\"14.00\">State: finished</text>\n",
       "<text text-anchor=\"middle\" x=\"284.33\" y=\"-485.28\" font-family=\"Times,serif\" font-size=\"14.00\">Exit Code: 0</text>\n",
       "</g>\n",
       "<!-- N10988&#45;&gt;N10989 -->\n",
       "<g id=\"edge6\" class=\"edge\">\n",
       "<title>N10988&#45;&gt;N10989</title>\n",
       "<path fill=\"none\" stroke=\"#000000\" stroke-dasharray=\"1,5\" d=\"M343.9,-593.94C340.37,-588.81 336.73,-583.49 333.33,-578.48 324.77,-565.86 315.47,-551.96 307.3,-539.67\"/>\n",
       "<polygon fill=\"#000000\" stroke=\"#000000\" points=\"310.3,-537.87 301.85,-531.48 304.47,-541.75 310.3,-537.87\"/>\n",
       "<text text-anchor=\"middle\" x=\"380.83\" y=\"-567.28\" font-family=\"Times,serif\" font-size=\"14.00\">CALL_WORK</text>\n",
       "<text text-anchor=\"middle\" x=\"380.83\" y=\"-552.28\" font-family=\"Times,serif\" font-size=\"14.00\">add_multiply_if1</text>\n",
       "</g>\n",
       "<!-- N10992 -->\n",
       "<g id=\"node7\" class=\"node\">\n",
       "<title>N10992</title>\n",
       "<polygon fill=\"#de707f\" fill-opacity=\"0.466667\" stroke=\"black\" stroke-width=\"0\" points=\"410.83,-172.74 315.83,-172.74 315.83,-119.74 410.83,-119.74 410.83,-172.74\"/>\n",
       "<text text-anchor=\"middle\" x=\"363.33\" y=\"-157.54\" font-family=\"Times,serif\" font-size=\"14.00\">add (10992)</text>\n",
       "<text text-anchor=\"middle\" x=\"363.33\" y=\"-142.54\" font-family=\"Times,serif\" font-size=\"14.00\">State: finished</text>\n",
       "<text text-anchor=\"middle\" x=\"363.33\" y=\"-127.54\" font-family=\"Times,serif\" font-size=\"14.00\">Exit Code: 0</text>\n",
       "</g>\n",
       "<!-- N10988&#45;&gt;N10992 -->\n",
       "<g id=\"edge10\" class=\"edge\">\n",
       "<title>N10988&#45;&gt;N10992</title>\n",
       "<path fill=\"none\" stroke=\"#000000\" stroke-dasharray=\"1,5\" d=\"M414.9,-593.53C420.01,-589.05 424.66,-584.03 428.33,-578.48 446.68,-550.75 442.33,-538.23 442.33,-504.98 442.33,-504.98 442.33,-504.98 442.33,-264.61 442.33,-230.35 439.79,-218.93 420.33,-190.74 417.82,-187.1 414.9,-183.63 411.75,-180.36\"/>\n",
       "<polygon fill=\"#000000\" stroke=\"#000000\" points=\"414.29,-177.95 404.6,-173.67 409.51,-183.06 414.29,-177.95\"/>\n",
       "<text text-anchor=\"middle\" x=\"481.83\" y=\"-388.78\" font-family=\"Times,serif\" font-size=\"14.00\">CALL_CALC</text>\n",
       "<text text-anchor=\"middle\" x=\"481.83\" y=\"-373.78\" font-family=\"Times,serif\" font-size=\"14.00\">add1</text>\n",
       "</g>\n",
       "<!-- N10986 -->\n",
       "<g id=\"node2\" class=\"node\">\n",
       "<title>N10986</title>\n",
       "<ellipse fill=\"#8cd499\" stroke=\"black\" stroke-width=\"0\" cx=\"185.33\" cy=\"-742.35\" rx=\"55.31\" ry=\"26.74\"/>\n",
       "<text text-anchor=\"middle\" x=\"185.33\" y=\"-746.15\" font-family=\"Times,serif\" font-size=\"14.00\">Int (10986)</text>\n",
       "<text text-anchor=\"middle\" x=\"185.33\" y=\"-731.15\" font-family=\"Times,serif\" font-size=\"14.00\">value: &#45;1</text>\n",
       "</g>\n",
       "<!-- N10986&#45;&gt;N10988 -->\n",
       "<g id=\"edge1\" class=\"edge\">\n",
       "<title>N10986&#45;&gt;N10988</title>\n",
       "<path fill=\"none\" stroke=\"#000000\" stroke-dasharray=\"5,2\" d=\"M131.25,-736.79C66.44,-729.33 -28.93,-710.73 9.33,-667.48 26.17,-648.45 167,-635.93 265.86,-629.41\"/>\n",
       "<polygon fill=\"#000000\" stroke=\"#000000\" points=\"265.84,-632.92 275.59,-628.78 265.38,-625.93 265.84,-632.92\"/>\n",
       "<text text-anchor=\"middle\" x=\"175.33\" y=\"-686.28\" font-family=\"Times,serif\" font-size=\"14.00\">INPUT_WORK</text>\n",
       "<text text-anchor=\"middle\" x=\"175.33\" y=\"-671.28\" font-family=\"Times,serif\" font-size=\"14.00\">worktree__nodes__add_multiply_if1__properties__x__value</text>\n",
       "</g>\n",
       "<!-- N10986&#45;&gt;N10988 -->\n",
       "<g id=\"edge2\" class=\"edge\">\n",
       "<title>N10986&#45;&gt;N10988</title>\n",
       "<path fill=\"none\" stroke=\"#000000\" stroke-dasharray=\"5,2\" d=\"M239.91,-738.92C273.28,-734.61 314.55,-723.82 341.33,-697.48 350.57,-688.4 355.96,-675.61 359.1,-663.25\"/>\n",
       "<polygon fill=\"#000000\" stroke=\"#000000\" points=\"362.49,-664.11 361.08,-653.61 355.64,-662.69 362.49,-664.11\"/>\n",
       "<text text-anchor=\"middle\" x=\"490.33\" y=\"-686.28\" font-family=\"Times,serif\" font-size=\"14.00\">INPUT_WORK</text>\n",
       "<text text-anchor=\"middle\" x=\"490.33\" y=\"-671.28\" font-family=\"Times,serif\" font-size=\"14.00\">worktree__nodes__add1__properties__x__value</text>\n",
       "</g>\n",
       "<!-- N10987 -->\n",
       "<g id=\"node3\" class=\"node\">\n",
       "<title>N10987</title>\n",
       "<ellipse fill=\"#8cd499\" stroke=\"black\" stroke-width=\"0\" cx=\"650.33\" cy=\"-742.35\" rx=\"55.31\" ry=\"26.74\"/>\n",
       "<text text-anchor=\"middle\" x=\"650.33\" y=\"-746.15\" font-family=\"Times,serif\" font-size=\"14.00\">Int (10987)</text>\n",
       "<text text-anchor=\"middle\" x=\"650.33\" y=\"-731.15\" font-family=\"Times,serif\" font-size=\"14.00\">value: 2</text>\n",
       "</g>\n",
       "<!-- N10987&#45;&gt;N10988 -->\n",
       "<g id=\"edge3\" class=\"edge\">\n",
       "<title>N10987&#45;&gt;N10988</title>\n",
       "<path fill=\"none\" stroke=\"#000000\" stroke-dasharray=\"5,2\" d=\"M648.62,-715.76C646.14,-699.54 640.24,-679.44 626.33,-667.48 601.75,-646.34 525.32,-635.31 461.14,-629.66\"/>\n",
       "<polygon fill=\"#000000\" stroke=\"#000000\" points=\"461.5,-626.18 451.24,-628.82 460.91,-633.15 461.5,-626.18\"/>\n",
       "<text text-anchor=\"middle\" x=\"810.33\" y=\"-686.28\" font-family=\"Times,serif\" font-size=\"14.00\">INPUT_WORK</text>\n",
       "<text text-anchor=\"middle\" x=\"810.33\" y=\"-671.28\" font-family=\"Times,serif\" font-size=\"14.00\">worktree__nodes__add_multiply_if1__properties__y__value</text>\n",
       "</g>\n",
       "<!-- N10990 -->\n",
       "<g id=\"node5\" class=\"node\">\n",
       "<title>N10990</title>\n",
       "<polygon fill=\"#de707f\" fill-opacity=\"0.466667\" stroke=\"black\" stroke-width=\"0\" points=\"247.33,-411.48 137.33,-411.48 137.33,-358.48 247.33,-358.48 247.33,-411.48\"/>\n",
       "<text text-anchor=\"middle\" x=\"192.33\" y=\"-396.28\" font-family=\"Times,serif\" font-size=\"14.00\">multiply (10990)</text>\n",
       "<text text-anchor=\"middle\" x=\"192.33\" y=\"-381.28\" font-family=\"Times,serif\" font-size=\"14.00\">State: finished</text>\n",
       "<text text-anchor=\"middle\" x=\"192.33\" y=\"-366.28\" font-family=\"Times,serif\" font-size=\"14.00\">Exit Code: 0</text>\n",
       "</g>\n",
       "<!-- N10989&#45;&gt;N10990 -->\n",
       "<g id=\"edge4\" class=\"edge\">\n",
       "<title>N10989&#45;&gt;N10990</title>\n",
       "<path fill=\"none\" stroke=\"#000000\" stroke-dasharray=\"1,5\" d=\"M209.01,-477.79C202.06,-472.74 195.92,-466.7 191.33,-459.48 184.46,-448.68 183.13,-435.06 184.05,-422.49\"/>\n",
       "<polygon fill=\"#000000\" stroke=\"#000000\" points=\"187.48,-423.21 185.24,-412.85 180.54,-422.34 187.48,-423.21\"/>\n",
       "<text text-anchor=\"middle\" x=\"230.83\" y=\"-448.28\" font-family=\"Times,serif\" font-size=\"14.00\">CALL_CALC</text>\n",
       "<text text-anchor=\"middle\" x=\"230.83\" y=\"-433.28\" font-family=\"Times,serif\" font-size=\"14.00\">multiply1</text>\n",
       "</g>\n",
       "<!-- N10991 -->\n",
       "<g id=\"node6\" class=\"node\">\n",
       "<title>N10991</title>\n",
       "<ellipse fill=\"#8cd499\" stroke=\"black\" stroke-width=\"0\" cx=\"284.33\" cy=\"-265.61\" rx=\"55.31\" ry=\"26.74\"/>\n",
       "<text text-anchor=\"middle\" x=\"284.33\" y=\"-269.41\" font-family=\"Times,serif\" font-size=\"14.00\">Int (10991)</text>\n",
       "<text text-anchor=\"middle\" x=\"284.33\" y=\"-254.41\" font-family=\"Times,serif\" font-size=\"14.00\">value: &#45;2</text>\n",
       "</g>\n",
       "<!-- N10989&#45;&gt;N10991 -->\n",
       "<g id=\"edge9\" class=\"edge\">\n",
       "<title>N10989&#45;&gt;N10991</title>\n",
       "<path fill=\"none\" stroke=\"#000000\" stroke-dasharray=\"5,2\" d=\"M284.33,-477.68C284.33,-435.77 284.33,-351.73 284.33,-303.29\"/>\n",
       "<polygon fill=\"#000000\" stroke=\"#000000\" points=\"287.83,-303.59 284.33,-293.59 280.83,-303.59 287.83,-303.59\"/>\n",
       "<text text-anchor=\"middle\" x=\"345.33\" y=\"-388.78\" font-family=\"Times,serif\" font-size=\"14.00\">RETURN</text>\n",
       "<text text-anchor=\"middle\" x=\"345.33\" y=\"-373.78\" font-family=\"Times,serif\" font-size=\"14.00\">group_outputs__result</text>\n",
       "</g>\n",
       "<!-- N10990&#45;&gt;N10991 -->\n",
       "<g id=\"edge5\" class=\"edge\">\n",
       "<title>N10990&#45;&gt;N10991</title>\n",
       "<path fill=\"none\" stroke=\"#000000\" d=\"M197.08,-358.52C200.88,-343.38 207.43,-324.47 218.33,-310.48 223.8,-303.46 230.72,-297.19 238.01,-291.73\"/>\n",
       "<polygon fill=\"#000000\" stroke=\"#000000\" points=\"239.88,-294.69 246.11,-286.12 235.9,-288.94 239.88,-294.69\"/>\n",
       "<text text-anchor=\"middle\" x=\"244.33\" y=\"-329.28\" font-family=\"Times,serif\" font-size=\"14.00\">CREATE</text>\n",
       "<text text-anchor=\"middle\" x=\"244.33\" y=\"-314.28\" font-family=\"Times,serif\" font-size=\"14.00\">result</text>\n",
       "</g>\n",
       "<!-- N10991&#45;&gt;N10992 -->\n",
       "<g id=\"edge7\" class=\"edge\">\n",
       "<title>N10991&#45;&gt;N10992</title>\n",
       "<path fill=\"none\" stroke=\"#000000\" d=\"M300.7,-240.29C312.09,-223.37 327.45,-200.55 340.1,-181.75\"/>\n",
       "<polygon fill=\"#000000\" stroke=\"#000000\" points=\"342.91,-183.84 345.59,-173.59 337.11,-179.94 342.91,-183.84\"/>\n",
       "<text text-anchor=\"middle\" x=\"374.83\" y=\"-209.54\" font-family=\"Times,serif\" font-size=\"14.00\">INPUT_CALC</text>\n",
       "<text text-anchor=\"middle\" x=\"374.83\" y=\"-194.54\" font-family=\"Times,serif\" font-size=\"14.00\">y</text>\n",
       "</g>\n",
       "<!-- N10993 -->\n",
       "<g id=\"node8\" class=\"node\">\n",
       "<title>N10993</title>\n",
       "<ellipse fill=\"#8cd499\" stroke=\"black\" stroke-width=\"0\" cx=\"363.33\" cy=\"-26.87\" rx=\"55.31\" ry=\"26.74\"/>\n",
       "<text text-anchor=\"middle\" x=\"363.33\" y=\"-30.67\" font-family=\"Times,serif\" font-size=\"14.00\">Int (10993)</text>\n",
       "<text text-anchor=\"middle\" x=\"363.33\" y=\"-15.67\" font-family=\"Times,serif\" font-size=\"14.00\">value: &#45;3</text>\n",
       "</g>\n",
       "<!-- N10992&#45;&gt;N10993 -->\n",
       "<g id=\"edge8\" class=\"edge\">\n",
       "<title>N10992&#45;&gt;N10993</title>\n",
       "<path fill=\"none\" stroke=\"#000000\" d=\"M363.33,-119.77C363.33,-103.7 363.33,-82.67 363.33,-64.79\"/>\n",
       "<polygon fill=\"#000000\" stroke=\"#000000\" points=\"366.83,-64.8 363.33,-54.8 359.83,-64.8 366.83,-64.8\"/>\n",
       "<text text-anchor=\"middle\" x=\"389.33\" y=\"-90.54\" font-family=\"Times,serif\" font-size=\"14.00\">CREATE</text>\n",
       "<text text-anchor=\"middle\" x=\"389.33\" y=\"-75.54\" font-family=\"Times,serif\" font-size=\"14.00\">result</text>\n",
       "</g>\n",
       "</g>\n",
       "</svg>\n"
      ],
      "text/plain": [
       "<graphviz.graphs.Digraph at 0x7fc0a00a2f70>"
      ]
     },
     "execution_count": 5,
     "metadata": {},
     "output_type": "execute_result"
    }
   ],
   "source": [
    "from aiida_worktree.utils import generate_node_graph\n",
    "generate_node_graph(wt.pk)"
   ]
  },
  {
   "cell_type": "markdown",
   "id": "62934367",
   "metadata": {},
   "source": [
    "Run the workflow using a different input value, and this time the `add` function will be called."
   ]
  },
  {
   "cell_type": "code",
   "execution_count": 6,
   "id": "140461b7",
   "metadata": {},
   "outputs": [
    {
     "name": "stdout",
     "output_type": "stream",
     "text": [
      "WorkTree node crated, PK: 10996\n"
     ]
    },
    {
     "data": {
      "image/svg+xml": [
       "<?xml version=\"1.0\" encoding=\"UTF-8\" standalone=\"no\"?>\n",
       "<!DOCTYPE svg PUBLIC \"-//W3C//DTD SVG 1.1//EN\"\n",
       " \"http://www.w3.org/Graphics/SVG/1.1/DTD/svg11.dtd\">\n",
       "<!-- Generated by graphviz version 7.1.0 (20230122.1345)\n",
       " -->\n",
       "<!-- Pages: 1 -->\n",
       "<svg width=\"982pt\" height=\"777pt\"\n",
       " viewBox=\"0.00 0.00 981.81 777.22\" xmlns=\"http://www.w3.org/2000/svg\" xmlns:xlink=\"http://www.w3.org/1999/xlink\">\n",
       "<g id=\"graph0\" class=\"graph\" transform=\"scale(1 1) rotate(0) translate(4 773.22)\">\n",
       "<polygon fill=\"white\" stroke=\"none\" points=\"-4,4 -4,-773.22 977.81,-773.22 977.81,4 -4,4\"/>\n",
       "<!-- N10996 -->\n",
       "<g id=\"node1\" class=\"node\">\n",
       "<title>N10996</title>\n",
       "<polygon fill=\"#e38851\" stroke=\"red\" stroke-width=\"6\" points=\"377.31,-649.48 210.31,-649.48 210.31,-596.48 377.31,-596.48 377.31,-649.48\"/>\n",
       "<text text-anchor=\"middle\" x=\"293.81\" y=\"-634.28\" font-family=\"Times,serif\" font-size=\"14.00\">WorkTree: if_node (10996)</text>\n",
       "<text text-anchor=\"middle\" x=\"293.81\" y=\"-619.28\" font-family=\"Times,serif\" font-size=\"14.00\">State: finished</text>\n",
       "<text text-anchor=\"middle\" x=\"293.81\" y=\"-604.28\" font-family=\"Times,serif\" font-size=\"14.00\">Exit Code: 0</text>\n",
       "</g>\n",
       "<!-- N10997 -->\n",
       "<g id=\"node4\" class=\"node\">\n",
       "<title>N10997</title>\n",
       "<polygon fill=\"#e38851\" stroke=\"black\" stroke-width=\"0\" points=\"324.81,-530.48 104.81,-530.48 104.81,-477.48 324.81,-477.48 324.81,-530.48\"/>\n",
       "<text text-anchor=\"middle\" x=\"214.81\" y=\"-515.28\" font-family=\"Times,serif\" font-size=\"14.00\">WorkTree: add_multiply_if1 (10997)</text>\n",
       "<text text-anchor=\"middle\" x=\"214.81\" y=\"-500.28\" font-family=\"Times,serif\" font-size=\"14.00\">State: finished</text>\n",
       "<text text-anchor=\"middle\" x=\"214.81\" y=\"-485.28\" font-family=\"Times,serif\" font-size=\"14.00\">Exit Code: 0</text>\n",
       "</g>\n",
       "<!-- N10996&#45;&gt;N10997 -->\n",
       "<g id=\"edge4\" class=\"edge\">\n",
       "<title>N10996&#45;&gt;N10997</title>\n",
       "<path fill=\"none\" stroke=\"#000000\" stroke-dasharray=\"1,5\" d=\"M274.38,-593.94C270.85,-588.81 267.21,-583.49 263.81,-578.48 255.25,-565.86 245.95,-551.96 237.77,-539.67\"/>\n",
       "<polygon fill=\"#000000\" stroke=\"#000000\" points=\"240.78,-537.87 232.33,-531.48 234.95,-541.75 240.78,-537.87\"/>\n",
       "<text text-anchor=\"middle\" x=\"311.31\" y=\"-567.28\" font-family=\"Times,serif\" font-size=\"14.00\">CALL_WORK</text>\n",
       "<text text-anchor=\"middle\" x=\"311.31\" y=\"-552.28\" font-family=\"Times,serif\" font-size=\"14.00\">add_multiply_if1</text>\n",
       "</g>\n",
       "<!-- N11000 -->\n",
       "<g id=\"node7\" class=\"node\">\n",
       "<title>N11000</title>\n",
       "<polygon fill=\"#de707f\" fill-opacity=\"0.466667\" stroke=\"black\" stroke-width=\"0\" points=\"341.31,-172.74 246.31,-172.74 246.31,-119.74 341.31,-119.74 341.31,-172.74\"/>\n",
       "<text text-anchor=\"middle\" x=\"293.81\" y=\"-157.54\" font-family=\"Times,serif\" font-size=\"14.00\">add (11000)</text>\n",
       "<text text-anchor=\"middle\" x=\"293.81\" y=\"-142.54\" font-family=\"Times,serif\" font-size=\"14.00\">State: finished</text>\n",
       "<text text-anchor=\"middle\" x=\"293.81\" y=\"-127.54\" font-family=\"Times,serif\" font-size=\"14.00\">Exit Code: 0</text>\n",
       "</g>\n",
       "<!-- N10996&#45;&gt;N11000 -->\n",
       "<g id=\"edge6\" class=\"edge\">\n",
       "<title>N10996&#45;&gt;N11000</title>\n",
       "<path fill=\"none\" stroke=\"#000000\" stroke-dasharray=\"1,5\" d=\"M345.37,-593.53C350.49,-589.05 355.14,-584.03 358.81,-578.48 377.16,-550.75 372.81,-538.23 372.81,-504.98 372.81,-504.98 372.81,-504.98 372.81,-264.61 372.81,-230.35 370.27,-218.93 350.81,-190.74 348.3,-187.1 345.38,-183.63 342.23,-180.36\"/>\n",
       "<polygon fill=\"#000000\" stroke=\"#000000\" points=\"344.77,-177.95 335.08,-173.67 339.99,-183.06 344.77,-177.95\"/>\n",
       "<text text-anchor=\"middle\" x=\"412.31\" y=\"-388.78\" font-family=\"Times,serif\" font-size=\"14.00\">CALL_CALC</text>\n",
       "<text text-anchor=\"middle\" x=\"412.31\" y=\"-373.78\" font-family=\"Times,serif\" font-size=\"14.00\">add1</text>\n",
       "</g>\n",
       "<!-- N10994 -->\n",
       "<g id=\"node2\" class=\"node\">\n",
       "<title>N10994</title>\n",
       "<ellipse fill=\"#8cd499\" stroke=\"black\" stroke-width=\"0\" cx=\"150.81\" cy=\"-742.35\" rx=\"55.31\" ry=\"26.74\"/>\n",
       "<text text-anchor=\"middle\" x=\"150.81\" y=\"-746.15\" font-family=\"Times,serif\" font-size=\"14.00\">Int (10994)</text>\n",
       "<text text-anchor=\"middle\" x=\"150.81\" y=\"-731.15\" font-family=\"Times,serif\" font-size=\"14.00\">value: 1</text>\n",
       "</g>\n",
       "<!-- N10994&#45;&gt;N10996 -->\n",
       "<g id=\"edge1\" class=\"edge\">\n",
       "<title>N10994&#45;&gt;N10996</title>\n",
       "<path fill=\"none\" stroke=\"#000000\" stroke-dasharray=\"5,2\" d=\"M99,-733.42C46.68,-723.28 -22.42,-702.66 7.81,-667.48 31.98,-639.36 123.43,-629.2 196.5,-625.65\"/>\n",
       "<polygon fill=\"#000000\" stroke=\"#000000\" points=\"196.25,-629.16 206.08,-625.22 195.93,-622.17 196.25,-629.16\"/>\n",
       "<text text-anchor=\"middle\" x=\"139.81\" y=\"-686.28\" font-family=\"Times,serif\" font-size=\"14.00\">INPUT_WORK</text>\n",
       "<text text-anchor=\"middle\" x=\"139.81\" y=\"-671.28\" font-family=\"Times,serif\" font-size=\"14.00\">worktree__nodes__add1__properties__x__value</text>\n",
       "</g>\n",
       "<!-- N10994&#45;&gt;N10996 -->\n",
       "<g id=\"edge2\" class=\"edge\">\n",
       "<title>N10994&#45;&gt;N10996</title>\n",
       "<path fill=\"none\" stroke=\"#000000\" stroke-dasharray=\"5,2\" d=\"M202.91,-733.48C226.81,-727.37 253.78,-716.57 271.81,-697.48 280.63,-688.14 285.93,-675.4 289.11,-663.15\"/>\n",
       "<polygon fill=\"#000000\" stroke=\"#000000\" points=\"292.47,-664.14 291.15,-653.63 285.63,-662.68 292.47,-664.14\"/>\n",
       "<text text-anchor=\"middle\" x=\"453.81\" y=\"-686.28\" font-family=\"Times,serif\" font-size=\"14.00\">INPUT_WORK</text>\n",
       "<text text-anchor=\"middle\" x=\"453.81\" y=\"-671.28\" font-family=\"Times,serif\" font-size=\"14.00\">worktree__nodes__add_multiply_if1__properties__x__value</text>\n",
       "</g>\n",
       "<!-- N10995 -->\n",
       "<g id=\"node3\" class=\"node\">\n",
       "<title>N10995</title>\n",
       "<ellipse fill=\"#8cd499\" stroke=\"black\" stroke-width=\"0\" cx=\"648.81\" cy=\"-742.35\" rx=\"55.31\" ry=\"26.74\"/>\n",
       "<text text-anchor=\"middle\" x=\"648.81\" y=\"-746.15\" font-family=\"Times,serif\" font-size=\"14.00\">Int (10995)</text>\n",
       "<text text-anchor=\"middle\" x=\"648.81\" y=\"-731.15\" font-family=\"Times,serif\" font-size=\"14.00\">value: 2</text>\n",
       "</g>\n",
       "<!-- N10995&#45;&gt;N10996 -->\n",
       "<g id=\"edge3\" class=\"edge\">\n",
       "<title>N10995&#45;&gt;N10996</title>\n",
       "<path fill=\"none\" stroke=\"#000000\" stroke-dasharray=\"5,2\" d=\"M646.92,-715.94C644.29,-699.58 638.14,-679.26 623.81,-667.48 589.23,-639.07 475.7,-629.12 391.41,-625.68\"/>\n",
       "<polygon fill=\"#000000\" stroke=\"#000000\" points=\"391.62,-622.19 381.5,-625.31 391.36,-629.18 391.62,-622.19\"/>\n",
       "<text text-anchor=\"middle\" x=\"807.81\" y=\"-686.28\" font-family=\"Times,serif\" font-size=\"14.00\">INPUT_WORK</text>\n",
       "<text text-anchor=\"middle\" x=\"807.81\" y=\"-671.28\" font-family=\"Times,serif\" font-size=\"14.00\">worktree__nodes__add_multiply_if1__properties__y__value</text>\n",
       "</g>\n",
       "<!-- N10998 -->\n",
       "<g id=\"node5\" class=\"node\">\n",
       "<title>N10998</title>\n",
       "<polygon fill=\"#de707f\" fill-opacity=\"0.466667\" stroke=\"black\" stroke-width=\"0\" points=\"173.31,-411.48 78.31,-411.48 78.31,-358.48 173.31,-358.48 173.31,-411.48\"/>\n",
       "<text text-anchor=\"middle\" x=\"125.81\" y=\"-396.28\" font-family=\"Times,serif\" font-size=\"14.00\">add (10998)</text>\n",
       "<text text-anchor=\"middle\" x=\"125.81\" y=\"-381.28\" font-family=\"Times,serif\" font-size=\"14.00\">State: finished</text>\n",
       "<text text-anchor=\"middle\" x=\"125.81\" y=\"-366.28\" font-family=\"Times,serif\" font-size=\"14.00\">Exit Code: 0</text>\n",
       "</g>\n",
       "<!-- N10997&#45;&gt;N10998 -->\n",
       "<g id=\"edge9\" class=\"edge\">\n",
       "<title>N10997&#45;&gt;N10998</title>\n",
       "<path fill=\"none\" stroke=\"#000000\" stroke-dasharray=\"1,5\" d=\"M139.49,-477.79C132.54,-472.74 126.4,-466.7 121.81,-459.48 114.93,-448.67 114.05,-435.04 115.53,-422.47\"/>\n",
       "<polygon fill=\"#000000\" stroke=\"#000000\" points=\"118.95,-423.28 117.2,-412.83 112.05,-422.09 118.95,-423.28\"/>\n",
       "<text text-anchor=\"middle\" x=\"161.31\" y=\"-448.28\" font-family=\"Times,serif\" font-size=\"14.00\">CALL_CALC</text>\n",
       "<text text-anchor=\"middle\" x=\"161.31\" y=\"-433.28\" font-family=\"Times,serif\" font-size=\"14.00\">add1</text>\n",
       "</g>\n",
       "<!-- N10999 -->\n",
       "<g id=\"node6\" class=\"node\">\n",
       "<title>N10999</title>\n",
       "<ellipse fill=\"#8cd499\" stroke=\"black\" stroke-width=\"0\" cx=\"214.81\" cy=\"-265.61\" rx=\"55.31\" ry=\"26.74\"/>\n",
       "<text text-anchor=\"middle\" x=\"214.81\" y=\"-269.41\" font-family=\"Times,serif\" font-size=\"14.00\">Int (10999)</text>\n",
       "<text text-anchor=\"middle\" x=\"214.81\" y=\"-254.41\" font-family=\"Times,serif\" font-size=\"14.00\">value: 3</text>\n",
       "</g>\n",
       "<!-- N10997&#45;&gt;N10999 -->\n",
       "<g id=\"edge5\" class=\"edge\">\n",
       "<title>N10997&#45;&gt;N10999</title>\n",
       "<path fill=\"none\" stroke=\"#000000\" stroke-dasharray=\"5,2\" d=\"M214.81,-477.68C214.81,-435.77 214.81,-351.73 214.81,-303.29\"/>\n",
       "<polygon fill=\"#000000\" stroke=\"#000000\" points=\"218.31,-303.59 214.81,-293.59 211.31,-303.59 218.31,-303.59\"/>\n",
       "<text text-anchor=\"middle\" x=\"275.81\" y=\"-388.78\" font-family=\"Times,serif\" font-size=\"14.00\">RETURN</text>\n",
       "<text text-anchor=\"middle\" x=\"275.81\" y=\"-373.78\" font-family=\"Times,serif\" font-size=\"14.00\">group_outputs__result</text>\n",
       "</g>\n",
       "<!-- N10998&#45;&gt;N10999 -->\n",
       "<g id=\"edge7\" class=\"edge\">\n",
       "<title>N10998&#45;&gt;N10999</title>\n",
       "<path fill=\"none\" stroke=\"#000000\" d=\"M129.39,-358.54C132.52,-343.41 138.3,-324.49 148.81,-310.48 154.15,-303.36 161.01,-297.04 168.27,-291.57\"/>\n",
       "<polygon fill=\"#000000\" stroke=\"#000000\" points=\"170.14,-294.53 176.36,-285.95 166.15,-288.78 170.14,-294.53\"/>\n",
       "<text text-anchor=\"middle\" x=\"174.81\" y=\"-329.28\" font-family=\"Times,serif\" font-size=\"14.00\">CREATE</text>\n",
       "<text text-anchor=\"middle\" x=\"174.81\" y=\"-314.28\" font-family=\"Times,serif\" font-size=\"14.00\">result</text>\n",
       "</g>\n",
       "<!-- N10999&#45;&gt;N11000 -->\n",
       "<g id=\"edge10\" class=\"edge\">\n",
       "<title>N10999&#45;&gt;N11000</title>\n",
       "<path fill=\"none\" stroke=\"#000000\" d=\"M231.18,-240.29C242.57,-223.37 257.93,-200.55 270.58,-181.75\"/>\n",
       "<polygon fill=\"#000000\" stroke=\"#000000\" points=\"273.39,-183.84 276.07,-173.59 267.58,-179.94 273.39,-183.84\"/>\n",
       "<text text-anchor=\"middle\" x=\"305.31\" y=\"-209.54\" font-family=\"Times,serif\" font-size=\"14.00\">INPUT_CALC</text>\n",
       "<text text-anchor=\"middle\" x=\"305.31\" y=\"-194.54\" font-family=\"Times,serif\" font-size=\"14.00\">y</text>\n",
       "</g>\n",
       "<!-- N11001 -->\n",
       "<g id=\"node8\" class=\"node\">\n",
       "<title>N11001</title>\n",
       "<ellipse fill=\"#8cd499\" stroke=\"black\" stroke-width=\"0\" cx=\"293.81\" cy=\"-26.87\" rx=\"55.31\" ry=\"26.74\"/>\n",
       "<text text-anchor=\"middle\" x=\"293.81\" y=\"-30.67\" font-family=\"Times,serif\" font-size=\"14.00\">Int (11001)</text>\n",
       "<text text-anchor=\"middle\" x=\"293.81\" y=\"-15.67\" font-family=\"Times,serif\" font-size=\"14.00\">value: 4</text>\n",
       "</g>\n",
       "<!-- N11000&#45;&gt;N11001 -->\n",
       "<g id=\"edge8\" class=\"edge\">\n",
       "<title>N11000&#45;&gt;N11001</title>\n",
       "<path fill=\"none\" stroke=\"#000000\" d=\"M293.81,-119.77C293.81,-103.7 293.81,-82.67 293.81,-64.79\"/>\n",
       "<polygon fill=\"#000000\" stroke=\"#000000\" points=\"297.31,-64.8 293.81,-54.8 290.31,-64.8 297.31,-64.8\"/>\n",
       "<text text-anchor=\"middle\" x=\"319.81\" y=\"-90.54\" font-family=\"Times,serif\" font-size=\"14.00\">CREATE</text>\n",
       "<text text-anchor=\"middle\" x=\"319.81\" y=\"-75.54\" font-family=\"Times,serif\" font-size=\"14.00\">result</text>\n",
       "</g>\n",
       "</g>\n",
       "</svg>\n"
      ],
      "text/plain": [
       "<graphviz.graphs.Digraph at 0x7fc0a2ba8b50>"
      ]
     },
     "execution_count": 6,
     "metadata": {},
     "output_type": "execute_result"
    }
   ],
   "source": [
    "x = Int(1)\n",
    "y = Int(2)\n",
    "wt = WorkTree(\"if_node\")\n",
    "add_multiply_if1 = wt.nodes.new(add_multiply_if, name=\"add_multiply_if1\", x=x, y=y)\n",
    "add1 = wt.nodes.new(add, name=\"add1\", x=x)\n",
    "wt.links.new(add_multiply_if1.outputs[0], add1.inputs[\"y\"])\n",
    "\n",
    "wt.submit(wait=True)\n",
    "generate_node_graph(wt.pk)\n"
   ]
  }
 ],
 "metadata": {
  "kernelspec": {
   "display_name": "Python 3.10.4 ('scinode')",
   "language": "python",
   "name": "python3"
  },
  "language_info": {
   "codemirror_mode": {
    "name": "ipython",
    "version": 3
   },
   "file_extension": ".py",
   "mimetype": "text/x-python",
   "name": "python",
   "nbconvert_exporter": "python",
   "pygments_lexer": "ipython3",
   "version": "3.9.13"
  },
  "vscode": {
   "interpreter": {
    "hash": "2f450c1ff08798c4974437dd057310afef0de414c25d1fd960ad375311c3f6ff"
   }
  }
 },
 "nbformat": 4,
 "nbformat_minor": 5
}
