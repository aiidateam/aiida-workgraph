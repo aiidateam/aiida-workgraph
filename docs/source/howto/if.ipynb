{
 "cells": [
  {
   "cell_type": "markdown",
   "id": "22d177dc-6cfb-4de2-9509-f1eb45e10cf2",
   "metadata": {},
   "source": [
    "# How to use `if` statements"
   ]
  },
  {
   "cell_type": "markdown",
   "id": "58696c91",
   "metadata": {},
   "source": [
    "## Introduction\n",
    "In this tutorial, you will learn how to use `if` statements in WorkTree.\n",
    "\n",
    "Load the AiiDA profile."
   ]
  },
  {
   "cell_type": "code",
   "execution_count": 1,
   "id": "c6b83fb5",
   "metadata": {},
   "outputs": [
    {
     "data": {
      "text/plain": [
       "Profile<uuid='4a9501fb20364cecb99920cadf27b238' name='xing'>"
      ]
     },
     "execution_count": 1,
     "metadata": {},
     "output_type": "execute_result"
    }
   ],
   "source": [
    "%load_ext aiida\n",
    "from aiida import load_profile\n",
    "load_profile()"
   ]
  },
  {
   "cell_type": "markdown",
   "id": "30719f9a",
   "metadata": {},
   "source": [
    "## First workflow: if\n",
    "Suppose we want to calculate:\n",
    "```python\n",
    "if x > 0:\n",
    "    z = x - y\n",
    "else:\n",
    "    z = x*y\n",
    "```\n",
    "\n"
   ]
  },
  {
   "cell_type": "markdown",
   "id": "0f46d277",
   "metadata": {},
   "source": [
    "### Create node\n",
    "In order to create a dynamic workflow based on the input value, we need a create a `WorkTree` and then treat this `WorkTree` as a node."
   ]
  },
  {
   "cell_type": "markdown",
   "id": "9e6360d8",
   "metadata": {},
   "source": []
  },
  {
   "cell_type": "code",
   "execution_count": 2,
   "id": "11e3bca1-dda6-44e9-9585-54feeda7e7db",
   "metadata": {},
   "outputs": [],
   "source": [
    "from aiida_worktree import node, WorkTree\n",
    "from aiida.engine import calcfunction\n",
    "from aiida.orm import List\n",
    "\n",
    "# define add node\n",
    "@node()\n",
    "@calcfunction\n",
    "def add(x, y):\n",
    "    return x + y\n",
    "\n",
    "# define multiply node\n",
    "@node()\n",
    "@calcfunction\n",
    "def multiply(x, y):\n",
    "    return x*y\n",
    "\n",
    "# Create a WorkTree which is dynamically generated based on the input\n",
    "# then we output the result of from the context (ctx)\n",
    "@node.group(outputs = [[\"ctx.result\", \"result\"]])\n",
    "def add_multiply_if(x, y):\n",
    "    from aiida.orm import load_node\n",
    "    wt = WorkTree(\"add_multiply_if\")\n",
    "    if x.value > 0:\n",
    "        add1 = wt.nodes.new(add, name=\"add1\", x=x, y=y)\n",
    "        # export the result of add1 to the context\n",
    "        add1.to_ctx = [[\"result\", \"result\"]]\n",
    "    else:\n",
    "        multiply1 = wt.nodes.new(multiply, name=\"multiply1\", x=x, y=y)\n",
    "        # export the result of multiply1 to the context\n",
    "        multiply1.to_ctx = [[\"result\", \"result\"]]\n",
    "    return wt"
   ]
  },
  {
   "cell_type": "markdown",
   "id": "65f4c44d",
   "metadata": {},
   "source": [
    "### Create the workflow\n"
   ]
  },
  {
   "cell_type": "code",
   "execution_count": 3,
   "id": "8ee799d2-0b5b-4609-957f-6b3f2cd451f0",
   "metadata": {},
   "outputs": [
    {
     "name": "stderr",
     "output_type": "stream",
     "text": [
      "[INFO] 2023-07-29 14:22:58 nodetree: Create NodeTree: if_node\n"
     ]
    }
   ],
   "source": [
    "from aiida_worktree import WorkTree\n",
    "from aiida.orm import Int, List\n",
    "\n",
    "x = Int(-1)\n",
    "y = Int(2)\n",
    "wt = WorkTree(\"if_node\")\n",
    "add_multiply_if1 = wt.nodes.new(add_multiply_if, name=\"add_multiply_if1\", x=x, y=y)\n",
    "add1 = wt.nodes.new(add, name=\"add1\", x=x)\n",
    "wt.links.new(add_multiply_if1.outputs[0], add1.inputs[\"y\"])\n",
    "\n",
    "wt.submit(wait=True)"
   ]
  },
  {
   "cell_type": "markdown",
   "id": "d25beb02-ee82-4a27-ae48-edc5c147904c",
   "metadata": {},
   "source": [
    "### Check status and results\n"
   ]
  },
  {
   "cell_type": "code",
   "execution_count": 4,
   "id": "9ebf35aa",
   "metadata": {},
   "outputs": [
    {
     "name": "stdout",
     "output_type": "stream",
     "text": [
      "State of WorkTree         : FINISHED\n",
      "Result of add_multiply_if1: -2\n",
      "Result of add1            : -3\n"
     ]
    }
   ],
   "source": [
    "print(\"State of WorkTree         : {}\".format(wt.state))\n",
    "print('Result of add_multiply_if1: {}'.format(wt.nodes[\"add_multiply_if1\"].node.outputs.group_outputs.result.value))\n",
    "print('Result of add1            : {}'.format(wt.nodes[\"add1\"].node.outputs.result.value))"
   ]
  },
  {
   "cell_type": "markdown",
   "id": "125ac629",
   "metadata": {},
   "source": [
    "Generate node graph from the AiiDA process,and we can see that the `multiply` node is executed."
   ]
  },
  {
   "cell_type": "code",
   "execution_count": 5,
   "id": "0060e380",
   "metadata": {},
   "outputs": [
    {
     "data": {
      "image/svg+xml": "<?xml version=\"1.0\" encoding=\"UTF-8\" standalone=\"no\"?>\n<!DOCTYPE svg PUBLIC \"-//W3C//DTD SVG 1.1//EN\"\n \"http://www.w3.org/Graphics/SVG/1.1/DTD/svg11.dtd\">\n<!-- Generated by graphviz version 2.43.0 (0)\n -->\n<!-- Title: %3 Pages: 1 -->\n<svg width=\"869pt\" height=\"777pt\"\n viewBox=\"0.00 0.00 868.98 777.22\" xmlns=\"http://www.w3.org/2000/svg\" xmlns:xlink=\"http://www.w3.org/1999/xlink\">\n<g id=\"graph0\" class=\"graph\" transform=\"scale(1 1) rotate(0) translate(4 773.22)\">\n<title>%3</title>\n<polygon fill=\"white\" stroke=\"transparent\" points=\"-4,4 -4,-773.22 864.98,-773.22 864.98,4 -4,4\"/>\n<!-- N2681 -->\n<g id=\"node1\" class=\"node\">\n<title>N2681</title>\n<polygon fill=\"#e38851\" stroke=\"red\" stroke-width=\"6\" points=\"335.48,-649.48 174.48,-649.48 174.48,-596.48 335.48,-596.48 335.48,-649.48\"/>\n<text text-anchor=\"middle\" x=\"254.98\" y=\"-634.28\" font-family=\"Times,serif\" font-size=\"14.00\">WorkTree: if_node (2681)</text>\n<text text-anchor=\"middle\" x=\"254.98\" y=\"-619.28\" font-family=\"Times,serif\" font-size=\"14.00\">State: finished</text>\n<text text-anchor=\"middle\" x=\"254.98\" y=\"-604.28\" font-family=\"Times,serif\" font-size=\"14.00\">Exit Code: 0</text>\n</g>\n<!-- N2682 -->\n<g id=\"node4\" class=\"node\">\n<title>N2682</title>\n<polygon fill=\"#e38851\" stroke=\"black\" stroke-width=\"0\" points=\"282.98,-530.48 68.98,-530.48 68.98,-477.48 282.98,-477.48 282.98,-530.48\"/>\n<text text-anchor=\"middle\" x=\"175.98\" y=\"-515.28\" font-family=\"Times,serif\" font-size=\"14.00\">WorkTree: add_multiply_if1 (2682)</text>\n<text text-anchor=\"middle\" x=\"175.98\" y=\"-500.28\" font-family=\"Times,serif\" font-size=\"14.00\">State: finished</text>\n<text text-anchor=\"middle\" x=\"175.98\" y=\"-485.28\" font-family=\"Times,serif\" font-size=\"14.00\">Exit Code: 0</text>\n</g>\n<!-- N2681&#45;&gt;N2682 -->\n<g id=\"edge8\" class=\"edge\">\n<title>N2681&#45;&gt;N2682</title>\n<path fill=\"none\" stroke=\"#000000\" stroke-dasharray=\"1,5\" d=\"M237.14,-596.26C233.13,-590.43 228.89,-584.25 224.98,-578.48 216.32,-565.71 206.9,-551.63 198.66,-539.24\"/>\n<polygon fill=\"#000000\" stroke=\"#000000\" points=\"201.34,-536.95 192.89,-530.56 195.51,-540.82 201.34,-536.95\"/>\n<text text-anchor=\"middle\" x=\"272.48\" y=\"-567.28\" font-family=\"Times,serif\" font-size=\"14.00\">CALL_WORK</text>\n<text text-anchor=\"middle\" x=\"272.48\" y=\"-552.28\" font-family=\"Times,serif\" font-size=\"14.00\">add_multiply_if1</text>\n</g>\n<!-- N2685 -->\n<g id=\"node7\" class=\"node\">\n<title>N2685</title>\n<polygon fill=\"#de707f\" fill-opacity=\"0.466667\" stroke=\"black\" stroke-width=\"0\" points=\"302.48,-172.74 207.48,-172.74 207.48,-119.74 302.48,-119.74 302.48,-172.74\"/>\n<text text-anchor=\"middle\" x=\"254.98\" y=\"-157.54\" font-family=\"Times,serif\" font-size=\"14.00\">add (2685)</text>\n<text text-anchor=\"middle\" x=\"254.98\" y=\"-142.54\" font-family=\"Times,serif\" font-size=\"14.00\">State: finished</text>\n<text text-anchor=\"middle\" x=\"254.98\" y=\"-127.54\" font-family=\"Times,serif\" font-size=\"14.00\">Exit Code: 0</text>\n</g>\n<!-- N2681&#45;&gt;N2685 -->\n<g id=\"edge4\" class=\"edge\">\n<title>N2681&#45;&gt;N2685</title>\n<path fill=\"none\" stroke=\"#000000\" stroke-dasharray=\"1,5\" d=\"M303.03,-596.48C309.52,-591.27 315.48,-585.27 319.98,-578.48 338.33,-550.75 333.98,-538.23 333.98,-504.98 333.98,-504.98 333.98,-504.98 333.98,-264.61 333.98,-230.35 331.44,-218.93 311.98,-190.74 309.36,-186.95 306.31,-183.35 303.01,-179.95\"/>\n<polygon fill=\"#000000\" stroke=\"#000000\" points=\"305.13,-177.15 295.43,-172.88 300.35,-182.26 305.13,-177.15\"/>\n<text text-anchor=\"middle\" x=\"373.48\" y=\"-388.78\" font-family=\"Times,serif\" font-size=\"14.00\">CALL_CALC</text>\n<text text-anchor=\"middle\" x=\"373.48\" y=\"-373.78\" font-family=\"Times,serif\" font-size=\"14.00\">add1</text>\n</g>\n<!-- N2679 -->\n<g id=\"node2\" class=\"node\">\n<title>N2679</title>\n<ellipse fill=\"#8cd499\" stroke=\"black\" stroke-width=\"0\" cx=\"130.98\" cy=\"-742.35\" rx=\"50.41\" ry=\"26.74\"/>\n<text text-anchor=\"middle\" x=\"130.98\" y=\"-746.15\" font-family=\"Times,serif\" font-size=\"14.00\">Int (2679)</text>\n<text text-anchor=\"middle\" x=\"130.98\" y=\"-731.15\" font-family=\"Times,serif\" font-size=\"14.00\">value: &#45;1</text>\n</g>\n<!-- N2679&#45;&gt;N2681 -->\n<g id=\"edge2\" class=\"edge\">\n<title>N2679&#45;&gt;N2681</title>\n<path fill=\"none\" stroke=\"#000000\" stroke-dasharray=\"5,2\" d=\"M84.62,-731.88C39.23,-720.55 -19.53,-699.05 6.98,-667.48 27.05,-643.58 101.9,-632.81 164.16,-627.96\"/>\n<polygon fill=\"#000000\" stroke=\"#000000\" points=\"164.72,-631.42 174.43,-627.2 164.2,-624.44 164.72,-631.42\"/>\n<text text-anchor=\"middle\" x=\"119.98\" y=\"-686.28\" font-family=\"Times,serif\" font-size=\"14.00\">INPUT_WORK</text>\n<text text-anchor=\"middle\" x=\"119.98\" y=\"-671.28\" font-family=\"Times,serif\" font-size=\"14.00\">nt__nodes__add1__properties__x__value</text>\n</g>\n<!-- N2679&#45;&gt;N2681 -->\n<g id=\"edge3\" class=\"edge\">\n<title>N2679&#45;&gt;N2681</title>\n<path fill=\"none\" stroke=\"#000000\" stroke-dasharray=\"5,2\" d=\"M176.56,-731.06C196.34,-724.48 218.3,-713.96 232.98,-697.48 242.21,-687.12 247.57,-673.02 250.68,-659.95\"/>\n<polygon fill=\"#000000\" stroke=\"#000000\" points=\"254.19,-660.26 252.73,-649.77 247.32,-658.88 254.19,-660.26\"/>\n<text text-anchor=\"middle\" x=\"396.48\" y=\"-686.28\" font-family=\"Times,serif\" font-size=\"14.00\">INPUT_WORK</text>\n<text text-anchor=\"middle\" x=\"396.48\" y=\"-671.28\" font-family=\"Times,serif\" font-size=\"14.00\">nt__nodes__add_multiply_if1__properties__x__value</text>\n</g>\n<!-- N2680 -->\n<g id=\"node3\" class=\"node\">\n<title>N2680</title>\n<ellipse fill=\"#8cd499\" stroke=\"black\" stroke-width=\"0\" cx=\"572.98\" cy=\"-742.35\" rx=\"50.41\" ry=\"26.74\"/>\n<text text-anchor=\"middle\" x=\"572.98\" y=\"-746.15\" font-family=\"Times,serif\" font-size=\"14.00\">Int (2680)</text>\n<text text-anchor=\"middle\" x=\"572.98\" y=\"-731.15\" font-family=\"Times,serif\" font-size=\"14.00\">value: 2</text>\n</g>\n<!-- N2680&#45;&gt;N2681 -->\n<g id=\"edge1\" class=\"edge\">\n<title>N2680&#45;&gt;N2681</title>\n<path fill=\"none\" stroke=\"#000000\" stroke-dasharray=\"5,2\" d=\"M570.9,-715.3C568.19,-699.1 562.01,-679.2 547.98,-667.48 518.01,-642.45 420.5,-631.81 346.12,-627.29\"/>\n<polygon fill=\"#000000\" stroke=\"#000000\" points=\"345.97,-623.78 335.78,-626.69 345.57,-630.77 345.97,-623.78\"/>\n<text text-anchor=\"middle\" x=\"713.48\" y=\"-686.28\" font-family=\"Times,serif\" font-size=\"14.00\">INPUT_WORK</text>\n<text text-anchor=\"middle\" x=\"713.48\" y=\"-671.28\" font-family=\"Times,serif\" font-size=\"14.00\">nt__nodes__add_multiply_if1__properties__y__value</text>\n</g>\n<!-- N2683 -->\n<g id=\"node5\" class=\"node\">\n<title>N2683</title>\n<polygon fill=\"#de707f\" fill-opacity=\"0.466667\" stroke=\"black\" stroke-width=\"0\" points=\"136.48,-411.48 33.48,-411.48 33.48,-358.48 136.48,-358.48 136.48,-411.48\"/>\n<text text-anchor=\"middle\" x=\"84.98\" y=\"-396.28\" font-family=\"Times,serif\" font-size=\"14.00\">multiply (2683)</text>\n<text text-anchor=\"middle\" x=\"84.98\" y=\"-381.28\" font-family=\"Times,serif\" font-size=\"14.00\">State: finished</text>\n<text text-anchor=\"middle\" x=\"84.98\" y=\"-366.28\" font-family=\"Times,serif\" font-size=\"14.00\">Exit Code: 0</text>\n</g>\n<!-- N2682&#45;&gt;N2683 -->\n<g id=\"edge9\" class=\"edge\">\n<title>N2682&#45;&gt;N2683</title>\n<path fill=\"none\" stroke=\"#000000\" stroke-dasharray=\"1,5\" d=\"M100.22,-477.47C93.46,-472.49 87.48,-466.55 82.98,-459.48 75.95,-448.43 74.87,-434.44 76.11,-421.63\"/>\n<polygon fill=\"#000000\" stroke=\"#000000\" points=\"79.58,-422.09 77.53,-411.69 72.65,-421.1 79.58,-422.09\"/>\n<text text-anchor=\"middle\" x=\"122.48\" y=\"-448.28\" font-family=\"Times,serif\" font-size=\"14.00\">CALL_CALC</text>\n<text text-anchor=\"middle\" x=\"122.48\" y=\"-433.28\" font-family=\"Times,serif\" font-size=\"14.00\">multiply1</text>\n</g>\n<!-- N2684 -->\n<g id=\"node6\" class=\"node\">\n<title>N2684</title>\n<ellipse fill=\"#8cd499\" stroke=\"black\" stroke-width=\"0\" cx=\"175.98\" cy=\"-265.61\" rx=\"50.41\" ry=\"26.74\"/>\n<text text-anchor=\"middle\" x=\"175.98\" y=\"-269.41\" font-family=\"Times,serif\" font-size=\"14.00\">Int (2684)</text>\n<text text-anchor=\"middle\" x=\"175.98\" y=\"-254.41\" font-family=\"Times,serif\" font-size=\"14.00\">value: &#45;2</text>\n</g>\n<!-- N2682&#45;&gt;N2684 -->\n<g id=\"edge10\" class=\"edge\">\n<title>N2682&#45;&gt;N2684</title>\n<path fill=\"none\" stroke=\"#000000\" stroke-dasharray=\"5,2\" d=\"M175.98,-477.23C175.98,-435.07 175.98,-351.19 175.98,-302.98\"/>\n<polygon fill=\"#000000\" stroke=\"#000000\" points=\"179.48,-302.68 175.98,-292.68 172.48,-302.68 179.48,-302.68\"/>\n<text text-anchor=\"middle\" x=\"236.98\" y=\"-388.78\" font-family=\"Times,serif\" font-size=\"14.00\">RETURN</text>\n<text text-anchor=\"middle\" x=\"236.98\" y=\"-373.78\" font-family=\"Times,serif\" font-size=\"14.00\">group_outputs__result</text>\n</g>\n<!-- N2683&#45;&gt;N2684 -->\n<g id=\"edge5\" class=\"edge\">\n<title>N2683&#45;&gt;N2684</title>\n<path fill=\"none\" stroke=\"#000000\" d=\"M89.42,-358.18C93.01,-343.1 99.29,-324.37 109.98,-310.48 115.9,-302.79 123.56,-296.01 131.56,-290.22\"/>\n<polygon fill=\"#000000\" stroke=\"#000000\" points=\"133.63,-293.05 139.96,-284.55 129.71,-287.25 133.63,-293.05\"/>\n<text text-anchor=\"middle\" x=\"135.98\" y=\"-329.28\" font-family=\"Times,serif\" font-size=\"14.00\">CREATE</text>\n<text text-anchor=\"middle\" x=\"135.98\" y=\"-314.28\" font-family=\"Times,serif\" font-size=\"14.00\">result</text>\n</g>\n<!-- N2684&#45;&gt;N2685 -->\n<g id=\"edge7\" class=\"edge\">\n<title>N2684&#45;&gt;N2685</title>\n<path fill=\"none\" stroke=\"#000000\" d=\"M192.54,-240.01C204,-222.98 219.39,-200.11 232.03,-181.33\"/>\n<polygon fill=\"#000000\" stroke=\"#000000\" points=\"234.94,-183.28 237.62,-173.03 229.13,-179.37 234.94,-183.28\"/>\n<text text-anchor=\"middle\" x=\"266.48\" y=\"-209.54\" font-family=\"Times,serif\" font-size=\"14.00\">INPUT_CALC</text>\n<text text-anchor=\"middle\" x=\"266.48\" y=\"-194.54\" font-family=\"Times,serif\" font-size=\"14.00\">y</text>\n</g>\n<!-- N2686 -->\n<g id=\"node8\" class=\"node\">\n<title>N2686</title>\n<ellipse fill=\"#8cd499\" stroke=\"black\" stroke-width=\"0\" cx=\"254.98\" cy=\"-26.87\" rx=\"50.41\" ry=\"26.74\"/>\n<text text-anchor=\"middle\" x=\"254.98\" y=\"-30.67\" font-family=\"Times,serif\" font-size=\"14.00\">Int (2686)</text>\n<text text-anchor=\"middle\" x=\"254.98\" y=\"-15.67\" font-family=\"Times,serif\" font-size=\"14.00\">value: &#45;3</text>\n</g>\n<!-- N2685&#45;&gt;N2686 -->\n<g id=\"edge6\" class=\"edge\">\n<title>N2685&#45;&gt;N2686</title>\n<path fill=\"none\" stroke=\"#000000\" d=\"M254.98,-119.48C254.98,-103.24 254.98,-82.01 254.98,-64.09\"/>\n<polygon fill=\"#000000\" stroke=\"#000000\" points=\"258.48,-63.97 254.98,-53.97 251.48,-63.97 258.48,-63.97\"/>\n<text text-anchor=\"middle\" x=\"280.98\" y=\"-90.54\" font-family=\"Times,serif\" font-size=\"14.00\">CREATE</text>\n<text text-anchor=\"middle\" x=\"280.98\" y=\"-75.54\" font-family=\"Times,serif\" font-size=\"14.00\">result</text>\n</g>\n</g>\n</svg>\n",
      "text/plain": [
       "<graphviz.graphs.Digraph at 0x7facbc9f2200>"
      ]
     },
     "execution_count": 5,
     "metadata": {},
     "output_type": "execute_result"
    }
   ],
   "source": [
    "from aiida_worktree.utils import generate_node_graph\n",
    "generate_node_graph(wt.pk)"
   ]
  },
  {
   "cell_type": "markdown",
   "id": "62934367",
   "metadata": {},
   "source": [
    "Run the workflow using a different input value, and this time the `add` function will be called."
   ]
  },
  {
   "cell_type": "code",
   "execution_count": 6,
   "id": "140461b7",
   "metadata": {},
   "outputs": [
    {
     "name": "stderr",
     "output_type": "stream",
     "text": [
      "[INFO] 2023-07-29 14:23:08 nodetree: Create NodeTree: if_node\n"
     ]
    },
    {
     "data": {
      "image/svg+xml": "<?xml version=\"1.0\" encoding=\"UTF-8\" standalone=\"no\"?>\n<!DOCTYPE svg PUBLIC \"-//W3C//DTD SVG 1.1//EN\"\n \"http://www.w3.org/Graphics/SVG/1.1/DTD/svg11.dtd\">\n<!-- Generated by graphviz version 2.43.0 (0)\n -->\n<!-- Title: %3 Pages: 1 -->\n<svg width=\"869pt\" height=\"777pt\"\n viewBox=\"0.00 0.00 868.98 777.22\" xmlns=\"http://www.w3.org/2000/svg\" xmlns:xlink=\"http://www.w3.org/1999/xlink\">\n<g id=\"graph0\" class=\"graph\" transform=\"scale(1 1) rotate(0) translate(4 773.22)\">\n<title>%3</title>\n<polygon fill=\"white\" stroke=\"transparent\" points=\"-4,4 -4,-773.22 864.98,-773.22 864.98,4 -4,4\"/>\n<!-- N2689 -->\n<g id=\"node1\" class=\"node\">\n<title>N2689</title>\n<polygon fill=\"#e38851\" stroke=\"red\" stroke-width=\"6\" points=\"335.48,-649.48 174.48,-649.48 174.48,-596.48 335.48,-596.48 335.48,-649.48\"/>\n<text text-anchor=\"middle\" x=\"254.98\" y=\"-634.28\" font-family=\"Times,serif\" font-size=\"14.00\">WorkTree: if_node (2689)</text>\n<text text-anchor=\"middle\" x=\"254.98\" y=\"-619.28\" font-family=\"Times,serif\" font-size=\"14.00\">State: finished</text>\n<text text-anchor=\"middle\" x=\"254.98\" y=\"-604.28\" font-family=\"Times,serif\" font-size=\"14.00\">Exit Code: 0</text>\n</g>\n<!-- N2690 -->\n<g id=\"node4\" class=\"node\">\n<title>N2690</title>\n<polygon fill=\"#e38851\" stroke=\"black\" stroke-width=\"0\" points=\"282.98,-530.48 68.98,-530.48 68.98,-477.48 282.98,-477.48 282.98,-530.48\"/>\n<text text-anchor=\"middle\" x=\"175.98\" y=\"-515.28\" font-family=\"Times,serif\" font-size=\"14.00\">WorkTree: add_multiply_if1 (2690)</text>\n<text text-anchor=\"middle\" x=\"175.98\" y=\"-500.28\" font-family=\"Times,serif\" font-size=\"14.00\">State: finished</text>\n<text text-anchor=\"middle\" x=\"175.98\" y=\"-485.28\" font-family=\"Times,serif\" font-size=\"14.00\">Exit Code: 0</text>\n</g>\n<!-- N2689&#45;&gt;N2690 -->\n<g id=\"edge6\" class=\"edge\">\n<title>N2689&#45;&gt;N2690</title>\n<path fill=\"none\" stroke=\"#000000\" stroke-dasharray=\"1,5\" d=\"M237.14,-596.26C233.13,-590.43 228.89,-584.25 224.98,-578.48 216.32,-565.71 206.9,-551.63 198.66,-539.24\"/>\n<polygon fill=\"#000000\" stroke=\"#000000\" points=\"201.34,-536.95 192.89,-530.56 195.51,-540.82 201.34,-536.95\"/>\n<text text-anchor=\"middle\" x=\"272.48\" y=\"-567.28\" font-family=\"Times,serif\" font-size=\"14.00\">CALL_WORK</text>\n<text text-anchor=\"middle\" x=\"272.48\" y=\"-552.28\" font-family=\"Times,serif\" font-size=\"14.00\">add_multiply_if1</text>\n</g>\n<!-- N2693 -->\n<g id=\"node7\" class=\"node\">\n<title>N2693</title>\n<polygon fill=\"#de707f\" fill-opacity=\"0.466667\" stroke=\"black\" stroke-width=\"0\" points=\"302.48,-172.74 207.48,-172.74 207.48,-119.74 302.48,-119.74 302.48,-172.74\"/>\n<text text-anchor=\"middle\" x=\"254.98\" y=\"-157.54\" font-family=\"Times,serif\" font-size=\"14.00\">add (2693)</text>\n<text text-anchor=\"middle\" x=\"254.98\" y=\"-142.54\" font-family=\"Times,serif\" font-size=\"14.00\">State: finished</text>\n<text text-anchor=\"middle\" x=\"254.98\" y=\"-127.54\" font-family=\"Times,serif\" font-size=\"14.00\">Exit Code: 0</text>\n</g>\n<!-- N2689&#45;&gt;N2693 -->\n<g id=\"edge5\" class=\"edge\">\n<title>N2689&#45;&gt;N2693</title>\n<path fill=\"none\" stroke=\"#000000\" stroke-dasharray=\"1,5\" d=\"M303.03,-596.48C309.52,-591.27 315.48,-585.27 319.98,-578.48 338.33,-550.75 333.98,-538.23 333.98,-504.98 333.98,-504.98 333.98,-504.98 333.98,-264.61 333.98,-230.35 331.44,-218.93 311.98,-190.74 309.36,-186.95 306.31,-183.35 303.01,-179.95\"/>\n<polygon fill=\"#000000\" stroke=\"#000000\" points=\"305.13,-177.15 295.43,-172.88 300.35,-182.26 305.13,-177.15\"/>\n<text text-anchor=\"middle\" x=\"373.48\" y=\"-388.78\" font-family=\"Times,serif\" font-size=\"14.00\">CALL_CALC</text>\n<text text-anchor=\"middle\" x=\"373.48\" y=\"-373.78\" font-family=\"Times,serif\" font-size=\"14.00\">add1</text>\n</g>\n<!-- N2687 -->\n<g id=\"node2\" class=\"node\">\n<title>N2687</title>\n<ellipse fill=\"#8cd499\" stroke=\"black\" stroke-width=\"0\" cx=\"130.98\" cy=\"-742.35\" rx=\"50.41\" ry=\"26.74\"/>\n<text text-anchor=\"middle\" x=\"130.98\" y=\"-746.15\" font-family=\"Times,serif\" font-size=\"14.00\">Int (2687)</text>\n<text text-anchor=\"middle\" x=\"130.98\" y=\"-731.15\" font-family=\"Times,serif\" font-size=\"14.00\">value: 1</text>\n</g>\n<!-- N2687&#45;&gt;N2689 -->\n<g id=\"edge1\" class=\"edge\">\n<title>N2687&#45;&gt;N2689</title>\n<path fill=\"none\" stroke=\"#000000\" stroke-dasharray=\"5,2\" d=\"M84.62,-731.88C39.23,-720.55 -19.53,-699.05 6.98,-667.48 27.05,-643.58 101.9,-632.81 164.16,-627.96\"/>\n<polygon fill=\"#000000\" stroke=\"#000000\" points=\"164.72,-631.42 174.43,-627.2 164.2,-624.44 164.72,-631.42\"/>\n<text text-anchor=\"middle\" x=\"119.98\" y=\"-686.28\" font-family=\"Times,serif\" font-size=\"14.00\">INPUT_WORK</text>\n<text text-anchor=\"middle\" x=\"119.98\" y=\"-671.28\" font-family=\"Times,serif\" font-size=\"14.00\">nt__nodes__add1__properties__x__value</text>\n</g>\n<!-- N2687&#45;&gt;N2689 -->\n<g id=\"edge2\" class=\"edge\">\n<title>N2687&#45;&gt;N2689</title>\n<path fill=\"none\" stroke=\"#000000\" stroke-dasharray=\"5,2\" d=\"M176.56,-731.06C196.34,-724.48 218.3,-713.96 232.98,-697.48 242.21,-687.12 247.57,-673.02 250.68,-659.95\"/>\n<polygon fill=\"#000000\" stroke=\"#000000\" points=\"254.19,-660.26 252.73,-649.77 247.32,-658.88 254.19,-660.26\"/>\n<text text-anchor=\"middle\" x=\"396.48\" y=\"-686.28\" font-family=\"Times,serif\" font-size=\"14.00\">INPUT_WORK</text>\n<text text-anchor=\"middle\" x=\"396.48\" y=\"-671.28\" font-family=\"Times,serif\" font-size=\"14.00\">nt__nodes__add_multiply_if1__properties__x__value</text>\n</g>\n<!-- N2688 -->\n<g id=\"node3\" class=\"node\">\n<title>N2688</title>\n<ellipse fill=\"#8cd499\" stroke=\"black\" stroke-width=\"0\" cx=\"572.98\" cy=\"-742.35\" rx=\"50.41\" ry=\"26.74\"/>\n<text text-anchor=\"middle\" x=\"572.98\" y=\"-746.15\" font-family=\"Times,serif\" font-size=\"14.00\">Int (2688)</text>\n<text text-anchor=\"middle\" x=\"572.98\" y=\"-731.15\" font-family=\"Times,serif\" font-size=\"14.00\">value: 2</text>\n</g>\n<!-- N2688&#45;&gt;N2689 -->\n<g id=\"edge3\" class=\"edge\">\n<title>N2688&#45;&gt;N2689</title>\n<path fill=\"none\" stroke=\"#000000\" stroke-dasharray=\"5,2\" d=\"M570.9,-715.3C568.19,-699.1 562.01,-679.2 547.98,-667.48 518.01,-642.45 420.5,-631.81 346.12,-627.29\"/>\n<polygon fill=\"#000000\" stroke=\"#000000\" points=\"345.97,-623.78 335.78,-626.69 345.57,-630.77 345.97,-623.78\"/>\n<text text-anchor=\"middle\" x=\"713.48\" y=\"-686.28\" font-family=\"Times,serif\" font-size=\"14.00\">INPUT_WORK</text>\n<text text-anchor=\"middle\" x=\"713.48\" y=\"-671.28\" font-family=\"Times,serif\" font-size=\"14.00\">nt__nodes__add_multiply_if1__properties__y__value</text>\n</g>\n<!-- N2691 -->\n<g id=\"node5\" class=\"node\">\n<title>N2691</title>\n<polygon fill=\"#de707f\" fill-opacity=\"0.466667\" stroke=\"black\" stroke-width=\"0\" points=\"134.48,-411.48 39.48,-411.48 39.48,-358.48 134.48,-358.48 134.48,-411.48\"/>\n<text text-anchor=\"middle\" x=\"86.98\" y=\"-396.28\" font-family=\"Times,serif\" font-size=\"14.00\">add (2691)</text>\n<text text-anchor=\"middle\" x=\"86.98\" y=\"-381.28\" font-family=\"Times,serif\" font-size=\"14.00\">State: finished</text>\n<text text-anchor=\"middle\" x=\"86.98\" y=\"-366.28\" font-family=\"Times,serif\" font-size=\"14.00\">Exit Code: 0</text>\n</g>\n<!-- N2690&#45;&gt;N2691 -->\n<g id=\"edge4\" class=\"edge\">\n<title>N2690&#45;&gt;N2691</title>\n<path fill=\"none\" stroke=\"#000000\" stroke-dasharray=\"1,5\" d=\"M100.22,-477.47C93.46,-472.49 87.48,-466.55 82.98,-459.48 75.94,-448.42 75.19,-434.42 76.81,-421.62\"/>\n<polygon fill=\"#000000\" stroke=\"#000000\" points=\"80.27,-422.14 78.54,-411.68 73.38,-420.93 80.27,-422.14\"/>\n<text text-anchor=\"middle\" x=\"122.48\" y=\"-448.28\" font-family=\"Times,serif\" font-size=\"14.00\">CALL_CALC</text>\n<text text-anchor=\"middle\" x=\"122.48\" y=\"-433.28\" font-family=\"Times,serif\" font-size=\"14.00\">add1</text>\n</g>\n<!-- N2692 -->\n<g id=\"node6\" class=\"node\">\n<title>N2692</title>\n<ellipse fill=\"#8cd499\" stroke=\"black\" stroke-width=\"0\" cx=\"175.98\" cy=\"-265.61\" rx=\"50.41\" ry=\"26.74\"/>\n<text text-anchor=\"middle\" x=\"175.98\" y=\"-269.41\" font-family=\"Times,serif\" font-size=\"14.00\">Int (2692)</text>\n<text text-anchor=\"middle\" x=\"175.98\" y=\"-254.41\" font-family=\"Times,serif\" font-size=\"14.00\">value: 3</text>\n</g>\n<!-- N2690&#45;&gt;N2692 -->\n<g id=\"edge8\" class=\"edge\">\n<title>N2690&#45;&gt;N2692</title>\n<path fill=\"none\" stroke=\"#000000\" stroke-dasharray=\"5,2\" d=\"M175.98,-477.23C175.98,-435.07 175.98,-351.19 175.98,-302.98\"/>\n<polygon fill=\"#000000\" stroke=\"#000000\" points=\"179.48,-302.68 175.98,-292.68 172.48,-302.68 179.48,-302.68\"/>\n<text text-anchor=\"middle\" x=\"236.98\" y=\"-388.78\" font-family=\"Times,serif\" font-size=\"14.00\">RETURN</text>\n<text text-anchor=\"middle\" x=\"236.98\" y=\"-373.78\" font-family=\"Times,serif\" font-size=\"14.00\">group_outputs__result</text>\n</g>\n<!-- N2691&#45;&gt;N2692 -->\n<g id=\"edge10\" class=\"edge\">\n<title>N2691&#45;&gt;N2692</title>\n<path fill=\"none\" stroke=\"#000000\" d=\"M90.63,-358.2C93.78,-343.12 99.55,-324.38 109.98,-310.48 115.8,-302.72 123.42,-295.91 131.41,-290.11\"/>\n<polygon fill=\"#000000\" stroke=\"#000000\" points=\"133.48,-292.93 139.81,-284.43 129.56,-287.13 133.48,-292.93\"/>\n<text text-anchor=\"middle\" x=\"135.98\" y=\"-329.28\" font-family=\"Times,serif\" font-size=\"14.00\">CREATE</text>\n<text text-anchor=\"middle\" x=\"135.98\" y=\"-314.28\" font-family=\"Times,serif\" font-size=\"14.00\">result</text>\n</g>\n<!-- N2692&#45;&gt;N2693 -->\n<g id=\"edge7\" class=\"edge\">\n<title>N2692&#45;&gt;N2693</title>\n<path fill=\"none\" stroke=\"#000000\" d=\"M192.54,-240.01C204,-222.98 219.39,-200.11 232.03,-181.33\"/>\n<polygon fill=\"#000000\" stroke=\"#000000\" points=\"234.94,-183.28 237.62,-173.03 229.13,-179.37 234.94,-183.28\"/>\n<text text-anchor=\"middle\" x=\"266.48\" y=\"-209.54\" font-family=\"Times,serif\" font-size=\"14.00\">INPUT_CALC</text>\n<text text-anchor=\"middle\" x=\"266.48\" y=\"-194.54\" font-family=\"Times,serif\" font-size=\"14.00\">y</text>\n</g>\n<!-- N2694 -->\n<g id=\"node8\" class=\"node\">\n<title>N2694</title>\n<ellipse fill=\"#8cd499\" stroke=\"black\" stroke-width=\"0\" cx=\"254.98\" cy=\"-26.87\" rx=\"50.41\" ry=\"26.74\"/>\n<text text-anchor=\"middle\" x=\"254.98\" y=\"-30.67\" font-family=\"Times,serif\" font-size=\"14.00\">Int (2694)</text>\n<text text-anchor=\"middle\" x=\"254.98\" y=\"-15.67\" font-family=\"Times,serif\" font-size=\"14.00\">value: 4</text>\n</g>\n<!-- N2693&#45;&gt;N2694 -->\n<g id=\"edge9\" class=\"edge\">\n<title>N2693&#45;&gt;N2694</title>\n<path fill=\"none\" stroke=\"#000000\" d=\"M254.98,-119.48C254.98,-103.24 254.98,-82.01 254.98,-64.09\"/>\n<polygon fill=\"#000000\" stroke=\"#000000\" points=\"258.48,-63.97 254.98,-53.97 251.48,-63.97 258.48,-63.97\"/>\n<text text-anchor=\"middle\" x=\"280.98\" y=\"-90.54\" font-family=\"Times,serif\" font-size=\"14.00\">CREATE</text>\n<text text-anchor=\"middle\" x=\"280.98\" y=\"-75.54\" font-family=\"Times,serif\" font-size=\"14.00\">result</text>\n</g>\n</g>\n</svg>\n",
      "text/plain": [
       "<graphviz.graphs.Digraph at 0x7facbc17d960>"
      ]
     },
     "execution_count": 6,
     "metadata": {},
     "output_type": "execute_result"
    }
   ],
   "source": [
    "x = Int(1)\n",
    "y = Int(2)\n",
    "wt = WorkTree(\"if_node\")\n",
    "add_multiply_if1 = wt.nodes.new(add_multiply_if, name=\"add_multiply_if1\", x=x, y=y)\n",
    "add1 = wt.nodes.new(add, name=\"add1\", x=x)\n",
    "wt.links.new(add_multiply_if1.outputs[0], add1.inputs[\"y\"])\n",
    "\n",
    "wt.submit(wait=True)\n",
    "generate_node_graph(wt.pk)\n"
   ]
  }
 ],
 "metadata": {
  "kernelspec": {
   "display_name": "Python 3.10.4 ('scinode')",
   "language": "python",
   "name": "python3"
  },
  "language_info": {
   "codemirror_mode": {
    "name": "ipython",
    "version": 3
   },
   "file_extension": ".py",
   "mimetype": "text/x-python",
   "name": "python",
   "nbconvert_exporter": "python",
   "pygments_lexer": "ipython3",
   "version": "3.10.4"
  },
  "vscode": {
   "interpreter": {
    "hash": "2f450c1ff08798c4974437dd057310afef0de414c25d1fd960ad375311c3f6ff"
   }
  }
 },
 "nbformat": 4,
 "nbformat_minor": 5
}
