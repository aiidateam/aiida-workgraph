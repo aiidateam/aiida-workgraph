{
 "cells": [
  {
   "cell_type": "markdown",
   "id": "22d177dc-6cfb-4de2-9509-f1eb45e10cf2",
   "metadata": {},
   "source": [
    "# How to use `Context` to pass data between nodes"
   ]
  },
  {
   "cell_type": "markdown",
   "id": "58696c91",
   "metadata": {},
   "source": [
    "## Introduction\n",
    "In AiiDA workflow, the context is a internal data container that can hold and pass information between steps. It is very usefull for complex workflows.\n",
    "\n",
    "Load the AiiDA profile."
   ]
  },
  {
   "cell_type": "code",
   "execution_count": 2,
   "id": "c6b83fb5",
   "metadata": {},
   "outputs": [
    {
     "data": {
      "text/plain": [
       "Profile<uuid='4a9501fb20364cecb99920cadf27b238' name='xing'>"
      ]
     },
     "execution_count": 2,
     "metadata": {},
     "output_type": "execute_result"
    }
   ],
   "source": [
    "%load_ext aiida\n",
    "from aiida import load_profile\n",
    "load_profile()"
   ]
  },
  {
   "cell_type": "markdown",
   "id": "0f46d277",
   "metadata": {},
   "source": [
    "## Pass data to context\n",
    "\n",
    "There are two ways to pass data to context.\n",
    "\n",
    "- Initialize the context data when creating the WorkTree.\n",
    "  ```python\n",
    "  wt = WorkTree(name=\"test_worktree_ctx\")\n",
    "  # set ctx.x = Int(2), ctx.data.y = Int(3)\n",
    "  wt.ctx = {\"x\": Int(2), \"data.y\": Int(3)}\n",
    "  ```\n",
    "\n",
    "- Export the node result to context.\n",
    "  ```python\n",
    "  add1 = wt.nodes.new(add, \"add1\", x=2, y=3)\n",
    "  # set result of add1 to ctx.sum\n",
    "  add1.to_ctx = [[\"result\", \"sum\"]]\n",
    "  ```\n",
    "\n",
    "### Nested context keys\n",
    "To organize the context data (e.g. group data), The keys may contain dots `.`, which will creating dictionary in the context. Here is an example, to group the results of all add nodes to `ctx.sum`:\n",
    "\n",
    "```python\n",
    "add1.to_ctx = [[\"result\", \"sum.add1\"]]\n",
    "add2.to_ctx = [[\"result\", \"sum.add2\"]]\n",
    "```\n",
    "here, `ctx.sum` will be:\n",
    "```python\n",
    "{\"add1\": value1, \"add2\": value2}\n",
    "```"
   ]
  },
  {
   "cell_type": "markdown",
   "id": "2174a45e",
   "metadata": {},
   "source": [
    "## Use data from context\n",
    "There are two ways to use data from context:\n",
    "\n",
    "- One can use the `{{name}}` syntax in the inputs of the node.\n",
    "    \n",
    "    ```python\n",
    "    add1 = wt.nodes.new(add, \"add1\", x=\"{{x}}\", y=3)\n",
    "    ```\n",
    "    One can also use nested context keys, like `{{sum.add1}}`.\n",
    "- One can export the data from context to the node group outputs.\n",
    "    \n",
    "    ```python\n",
    "    @node.group(outputs=[[\"ctx.sum\", \"result\"]])\n",
    "    def my_while(n, limit):\n",
    "        nt = WorkTree(\"while_worktree\")\n",
    "        add1 = wt.nodes.new(add, x=2, y=3)\n",
    "        add2 = wt.nodes.new(add, x=2, y=3)\n",
    "        add1.to_ctx = [[\"result\", \"sum.add1\"]]\n",
    "        add2.to_ctx = [[\"result\", \"sum.add2\"]]\n",
    "    ```"
   ]
  },
  {
   "cell_type": "markdown",
   "id": "b686f3ba",
   "metadata": {},
   "source": [
    "## First workflow"
   ]
  },
  {
   "cell_type": "code",
   "execution_count": 4,
   "id": "11e3bca1-dda6-44e9-9585-54feeda7e7db",
   "metadata": {},
   "outputs": [
    {
     "name": "stderr",
     "output_type": "stream",
     "text": [
      "[INFO] 2023-08-04 09:04:42 nodetree: Create NodeTree: test_worktree_ctx\n"
     ]
    }
   ],
   "source": [
    "from aiida_worktree import node, WorkTree\n",
    "from aiida.engine import calcfunction\n",
    "from aiida.orm import Int\n",
    "\n",
    "# define add node\n",
    "@node()\n",
    "@calcfunction\n",
    "def add(x, y):\n",
    "    return x + y\n",
    "\n",
    "wt = WorkTree(name=\"test_worktree_ctx\")\n",
    "wt.ctx = {\"x\": Int(2)}\n",
    "add1 = wt.nodes.new(add, \"add1\", x=\"{{x}}\", y=3)\n",
    "wt.submit(wait=True)"
   ]
  },
  {
   "cell_type": "markdown",
   "id": "d25beb02-ee82-4a27-ae48-edc5c147904c",
   "metadata": {},
   "source": [
    "### Check status and results\n"
   ]
  },
  {
   "cell_type": "code",
   "execution_count": 5,
   "id": "9ebf35aa",
   "metadata": {},
   "outputs": [
    {
     "name": "stdout",
     "output_type": "stream",
     "text": [
      "State of WorkTree         : FINISHED\n",
      "Result of add1            : 5\n"
     ]
    }
   ],
   "source": [
    "print(\"State of WorkTree         : {}\".format(wt.state))\n",
    "print('Result of add1            : {}'.format(wt.nodes[\"add1\"].node.outputs.result.value))"
   ]
  },
  {
   "cell_type": "markdown",
   "id": "125ac629",
   "metadata": {},
   "source": [
    "Generate node graph from the AiiDA process,and we can see that the `multiply` node is executed."
   ]
  },
  {
   "cell_type": "code",
   "execution_count": 8,
   "id": "0060e380",
   "metadata": {},
   "outputs": [
    {
     "data": {
      "image/svg+xml": "<?xml version=\"1.0\" encoding=\"UTF-8\" standalone=\"no\"?>\n<!DOCTYPE svg PUBLIC \"-//W3C//DTD SVG 1.1//EN\"\n \"http://www.w3.org/Graphics/SVG/1.1/DTD/svg11.dtd\">\n<!-- Generated by graphviz version 2.43.0 (0)\n -->\n<!-- Title: %3 Pages: 1 -->\n<svg width=\"224pt\" height=\"419pt\"\n viewBox=\"0.00 0.00 224.00 419.48\" xmlns=\"http://www.w3.org/2000/svg\" xmlns:xlink=\"http://www.w3.org/1999/xlink\">\n<g id=\"graph0\" class=\"graph\" transform=\"scale(1 1) rotate(0) translate(4 415.48)\">\n<title>%3</title>\n<polygon fill=\"white\" stroke=\"transparent\" points=\"-4,4 -4,-415.48 220,-415.48 220,4 -4,4\"/>\n<!-- N4231 -->\n<g id=\"node1\" class=\"node\">\n<title>N4231</title>\n<polygon fill=\"#e38851\" stroke=\"red\" stroke-width=\"6\" points=\"216,-291.74 0,-291.74 0,-238.74 216,-238.74 216,-291.74\"/>\n<text text-anchor=\"middle\" x=\"108\" y=\"-276.54\" font-family=\"Times,serif\" font-size=\"14.00\">WorkTree: test_worktree_ctx (4231)</text>\n<text text-anchor=\"middle\" x=\"108\" y=\"-261.54\" font-family=\"Times,serif\" font-size=\"14.00\">State: finished</text>\n<text text-anchor=\"middle\" x=\"108\" y=\"-246.54\" font-family=\"Times,serif\" font-size=\"14.00\">Exit Code: 0</text>\n</g>\n<!-- N4233 -->\n<g id=\"node3\" class=\"node\">\n<title>N4233</title>\n<polygon fill=\"#de707f\" fill-opacity=\"0.466667\" stroke=\"black\" stroke-width=\"0\" points=\"155.5,-172.74 60.5,-172.74 60.5,-119.74 155.5,-119.74 155.5,-172.74\"/>\n<text text-anchor=\"middle\" x=\"108\" y=\"-157.54\" font-family=\"Times,serif\" font-size=\"14.00\">add (4233)</text>\n<text text-anchor=\"middle\" x=\"108\" y=\"-142.54\" font-family=\"Times,serif\" font-size=\"14.00\">State: finished</text>\n<text text-anchor=\"middle\" x=\"108\" y=\"-127.54\" font-family=\"Times,serif\" font-size=\"14.00\">Exit Code: 0</text>\n</g>\n<!-- N4231&#45;&gt;N4233 -->\n<g id=\"edge3\" class=\"edge\">\n<title>N4231&#45;&gt;N4233</title>\n<path fill=\"none\" stroke=\"#000000\" stroke-dasharray=\"1,5\" d=\"M108,-238.56C108,-222.26 108,-200.92 108,-182.97\"/>\n<polygon fill=\"#000000\" stroke=\"#000000\" points=\"111.5,-182.86 108,-172.86 104.5,-182.86 111.5,-182.86\"/>\n<text text-anchor=\"middle\" x=\"147.5\" y=\"-209.54\" font-family=\"Times,serif\" font-size=\"14.00\">CALL_CALC</text>\n<text text-anchor=\"middle\" x=\"147.5\" y=\"-194.54\" font-family=\"Times,serif\" font-size=\"14.00\">add1</text>\n</g>\n<!-- N4230 -->\n<g id=\"node2\" class=\"node\">\n<title>N4230</title>\n<ellipse fill=\"#8cd499\" stroke=\"black\" stroke-width=\"0\" cx=\"108\" cy=\"-384.61\" rx=\"50.41\" ry=\"26.74\"/>\n<text text-anchor=\"middle\" x=\"108\" y=\"-388.41\" font-family=\"Times,serif\" font-size=\"14.00\">Int (4230)</text>\n<text text-anchor=\"middle\" x=\"108\" y=\"-373.41\" font-family=\"Times,serif\" font-size=\"14.00\">value: 2</text>\n</g>\n<!-- N4230&#45;&gt;N4231 -->\n<g id=\"edge1\" class=\"edge\">\n<title>N4230&#45;&gt;N4231</title>\n<path fill=\"none\" stroke=\"#000000\" stroke-dasharray=\"5,2\" d=\"M108,-357.56C108,-341.19 108,-319.85 108,-301.91\"/>\n<polygon fill=\"#000000\" stroke=\"#000000\" points=\"111.5,-301.81 108,-291.81 104.5,-301.81 111.5,-301.81\"/>\n<text text-anchor=\"middle\" x=\"152.5\" y=\"-328.54\" font-family=\"Times,serif\" font-size=\"14.00\">INPUT_WORK</text>\n<text text-anchor=\"middle\" x=\"152.5\" y=\"-313.54\" font-family=\"Times,serif\" font-size=\"14.00\">nt__ctx__x</text>\n</g>\n<!-- N4234 -->\n<g id=\"node4\" class=\"node\">\n<title>N4234</title>\n<ellipse fill=\"#8cd499\" stroke=\"black\" stroke-width=\"0\" cx=\"108\" cy=\"-26.87\" rx=\"50.41\" ry=\"26.74\"/>\n<text text-anchor=\"middle\" x=\"108\" y=\"-30.67\" font-family=\"Times,serif\" font-size=\"14.00\">Int (4234)</text>\n<text text-anchor=\"middle\" x=\"108\" y=\"-15.67\" font-family=\"Times,serif\" font-size=\"14.00\">value: 5</text>\n</g>\n<!-- N4233&#45;&gt;N4234 -->\n<g id=\"edge2\" class=\"edge\">\n<title>N4233&#45;&gt;N4234</title>\n<path fill=\"none\" stroke=\"#000000\" d=\"M108,-119.48C108,-103.24 108,-82.01 108,-64.09\"/>\n<polygon fill=\"#000000\" stroke=\"#000000\" points=\"111.5,-63.97 108,-53.97 104.5,-63.97 111.5,-63.97\"/>\n<text text-anchor=\"middle\" x=\"134\" y=\"-90.54\" font-family=\"Times,serif\" font-size=\"14.00\">CREATE</text>\n<text text-anchor=\"middle\" x=\"134\" y=\"-75.54\" font-family=\"Times,serif\" font-size=\"14.00\">result</text>\n</g>\n</g>\n</svg>\n",
      "text/plain": [
       "<graphviz.graphs.Digraph at 0x7f0f74ab60e0>"
      ]
     },
     "execution_count": 8,
     "metadata": {},
     "output_type": "execute_result"
    }
   ],
   "source": [
    "from aiida_worktree.utils import generate_node_graph\n",
    "generate_node_graph(wt.pk)"
   ]
  },
  {
   "cell_type": "markdown",
   "id": "a5e576af",
   "metadata": {},
   "source": [
    "> **_NOTE:_**  If you pass data from node to node trough context, you may need to use `wait` to wait for the data to be ready. See [How to wait for another node](wait.ipynb)."
   ]
  }
 ],
 "metadata": {
  "kernelspec": {
   "display_name": "Python 3.10.4 ('scinode')",
   "language": "python",
   "name": "python3"
  },
  "language_info": {
   "codemirror_mode": {
    "name": "ipython",
    "version": 3
   },
   "file_extension": ".py",
   "mimetype": "text/x-python",
   "name": "python",
   "nbconvert_exporter": "python",
   "pygments_lexer": "ipython3",
   "version": "3.10.4"
  },
  "vscode": {
   "interpreter": {
    "hash": "2f450c1ff08798c4974437dd057310afef0de414c25d1fd960ad375311c3f6ff"
   }
  }
 },
 "nbformat": 4,
 "nbformat_minor": 5
}
