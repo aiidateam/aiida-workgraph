{
 "cells": [
  {
   "cell_type": "markdown",
   "id": "22d177dc-6cfb-4de2-9509-f1eb45e10cf2",
   "metadata": {},
   "source": [
    "# Job Queue Management with AiiDA WorkGraph"
   ]
  },
  {
   "cell_type": "markdown",
   "id": "58696c91",
   "metadata": {},
   "source": [
    "Suppose you have a workflow that needs to launch multiple subprocesses (e.g., 100 calcjobs), but your computer has resource limitations that only allow running 5 calcjobs concurrently. Additionally, you don't have access to a job management system like SLURM locally. In such cases, you can set up a simple job queue management system using AiiDA's WorkGraph by limiting the maximum number of subprocesses running simultaneously within the WorkGraph. \n",
    "\n",
    "## Setting Maximum Number of Running Jobs\n",
    "\n",
    "You can control the maximum number of running subprocesses inside a WorkGraph by using the following configuration:\n",
    "\n",
    "```python\n",
    "wt.max_number_jobs = 5\n",
    "```\n",
    "\n",
    "This ensures that no more than 5 subprocesses will be running concurrently within the WorkGraph.\n",
    "\n",
    "## Example Usage\n",
    "\n",
    "Let's walk through an example where we create a simple WorkGraph to launch 20 calcjobs.\n",
    "\n",
    "1. Load the AiiDA profile:\n"
   ]
  },
  {
   "cell_type": "code",
   "execution_count": 1,
   "id": "c6b83fb5",
   "metadata": {},
   "outputs": [
    {
     "data": {
      "text/plain": [
       "Profile<uuid='57ccbf7d9e2b41b39edb2bfdaf725feb' name='default'>"
      ]
     },
     "execution_count": 1,
     "metadata": {},
     "output_type": "execute_result"
    }
   ],
   "source": [
    "%load_ext aiida\n",
    "from aiida import load_profile\n",
    "load_profile()"
   ]
  },
  {
   "cell_type": "markdown",
   "id": "db9bfe57",
   "metadata": {},
   "source": [
    "2. Create the WorkGraph and submit jobs:\n"
   ]
  },
  {
   "cell_type": "code",
   "execution_count": 2,
   "id": "03912de1",
   "metadata": {},
   "outputs": [
    {
     "name": "stdout",
     "output_type": "stream",
     "text": [
      "WorkGraph node crated, PK: 2782\n"
     ]
    }
   ],
   "source": [
    "from aiida_workgraph import WorkGraph, build_node\n",
    "from aiida.orm import load_code\n",
    "from aiida.orm import Int\n",
    "\n",
    "# Use the calcjob: ArithmeticAddCalculation\n",
    "arithmetic_add = build_node(\"aiida.calculations.arithmetic.add.ArithmeticAddCalculation\")\n",
    "code = load_code(\"add@localhost\")\n",
    "\n",
    "wt = WorkGraph(\"test_max_number_jobs\")\n",
    "N = 20\n",
    "# Create N nodes\n",
    "for i in range(N):\n",
    "    temp = wt.nodes.new(arithmetic_add, name=f\"add{i}\", x=Int(1), y=Int(1), code=code)\n",
    "    # Set a sleep option for each job (e.g., 10 seconds per job)\n",
    "    temp.set({\"metadata.options.sleep\": 10})\n",
    "\n",
    "# Set the maximum number of running jobs inside the WorkGraph\n",
    "wt.max_number_jobs = 5\n",
    "wt.submit(wait=True)"
   ]
  },
  {
   "cell_type": "markdown",
   "id": "2d2a4ae3",
   "metadata": {},
   "source": [
    "3. After submission, you can check the progress of the WorkGraph using the following command:\n",
    "\n",
    "   ```shell\n",
    "   verdi process list\n",
    "   ```\n",
    "\n",
    "   This command will display information about the currently running calcjobs, including the fact that there are a maximum of 5 calcjobs running simultaneously.\n",
    "\n",
    "4. Additionally, you can monitor the progress visually by visiting `http://127.0.0.1:8000/workgraph`. Here, you can observe the duration of each node's execution over time.  For the moment, one needs zoom and pan the time scale to see the time bar.\n",
    "\n",
    "\n",
    "<img width=800 src=\"../_static/images/wait_job_queue.png\" />\n",
    "\n",
    "By following this approach, you can control the execution of multiple calcjobs within your AiiDA workflow, even without access to a job management system."
   ]
  }
 ],
 "metadata": {
  "kernelspec": {
   "display_name": "Python 3.10.4 ('scinode')",
   "language": "python",
   "name": "python3"
  },
  "language_info": {
   "codemirror_mode": {
    "name": "ipython",
    "version": 3
   },
   "file_extension": ".py",
   "mimetype": "text/x-python",
   "name": "python",
   "nbconvert_exporter": "python",
   "pygments_lexer": "ipython3",
   "version": "3.11.0"
  },
  "vscode": {
   "interpreter": {
    "hash": "2f450c1ff08798c4974437dd057310afef0de414c25d1fd960ad375311c3f6ff"
   }
  }
 },
 "nbformat": 4,
 "nbformat_minor": 5
}
