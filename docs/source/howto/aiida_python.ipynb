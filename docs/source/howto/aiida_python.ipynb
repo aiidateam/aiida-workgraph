{
 "cells": [
  {
   "cell_type": "markdown",
   "id": "22d177dc-6cfb-4de2-9509-f1eb45e10cf2",
   "metadata": {},
   "source": [
    "# How to run a Python function on a remote computer"
   ]
  },
  {
   "cell_type": "markdown",
   "id": "58696c91",
   "metadata": {},
   "source": [
    "## Introduction\n",
    "\n",
    "The `PythonJob` node is a built-in node that allows users to run Python functions on a remote computer. It is designed to enable users from non-AiiDA communities to run their Python functions remotely and construct workflows with checkpoints, maintaining all data provenance. For instance, users can use ASE's calculator to run a DFT calculation on a remote computer directly. Users only need to write normal Python code, and the WorkGraph will handle the data transformation to AiiDA data.\n",
    "\n",
    "### Key Features\n",
    "\n",
    "1. **Remote Execution**: Seamlessly run Python functions on a remote computer.\n",
    "2. **User-Friendly**: Designed for users who are not familiar with AiiDA, simplifying the process of remote execution.\n",
    "3. **Workflow Management**: Construct workflows with checkpoints, ensuring that intermediate states and results are preserved.\n",
    "4. **Data Provenance**: Maintain comprehensive data provenance, tracking the full history and transformations of data.\n",
    "\n",
    "\n",
    "Load the AiiDA profile."
   ]
  },
  {
   "cell_type": "code",
   "execution_count": null,
   "id": "c6b83fb5",
   "metadata": {},
   "outputs": [],
   "source": [
    "%load_ext aiida\n",
    "from aiida import load_profile\n",
    "load_profile()"
   ]
  },
  {
   "cell_type": "markdown",
   "id": "0f46d277",
   "metadata": {},
   "source": [
    "## First workflow\n",
    "Suppose we want to calculate ```(x + y) * z ``` in two steps. First, add `x` and `y`, then multiply the result with `z`.\n",
    "\n",
    "We set `run_remotely` to `True` when adding the node. This will tell the engine that the job is a `Pythonjob` node and should be run on a remote computer.\n"
   ]
  },
  {
   "cell_type": "code",
   "execution_count": null,
   "id": "9d9e24f8",
   "metadata": {},
   "outputs": [],
   "source": [
    "from aiida_workgraph import node, WorkGraph\n",
    "\n",
    "# define add node\n",
    "@node()\n",
    "def add(x, y):\n",
    "    return x + y\n",
    "\n",
    "# define multiply node\n",
    "@node()\n",
    "def multiply(x, y):\n",
    "    return x*y\n",
    "\n",
    "wg = WorkGraph(\"first_workflow\")\n",
    "wg.nodes.new(add, name=\"add\", run_remotely=True)\n",
    "wg.nodes.new(multiply, name=\"multiply\", x=wg.nodes[\"add\"].outputs[0], run_remotely=True)\n",
    "\n",
    "# visualize the workgraph\n",
    "wg"
   ]
  },
  {
   "cell_type": "markdown",
   "id": "9bd7aa49",
   "metadata": {},
   "source": [
    "### Prepare the inputs and submit the workgraph\n",
    "\n",
    "\n",
    "**Code**: We can set the `computer` to the remote computer where we want to run the job. This will create a code `python3@computer` if it does not already exist. You can also set the `code` directly if you have already created the code.\n",
    "\n",
    "**Data**: Users are recommended to use normal Python data as input. The workgraph will handle the transfer and serialization of data to AiiDA data. When serializing to AiiDA data, the workgraph will first search for the corresponding AiiDA data entry point based on the module name and class name (e.g., `ase.atoms.Atoms`). If the corresponding entry point exists, it will be used to serialize the value. If not found, `GeneralData` (pickle) will be used to serialize the value into binary data.\n",
    "\n",
    "**Python Version**: Since pickle is used to store and load data, the Python version on the remote computer should match the one used on the localhost. You can use conda to create a virtual environment with the same Python version. Activate the environment before running the script.\n",
    "\n",
    "For real applications, you can pass metadata to the scheduler to activate the conda environment:\n",
    "\n",
    "```python\n",
    "metadata = {\n",
    "    \"options\": {\n",
    "        'custom_scheduler_commands': 'module load anaconda\\nconda activate py3.11\\n',\n",
    "    }\n",
    "}\n",
    "```"
   ]
  },
  {
   "cell_type": "code",
   "execution_count": null,
   "id": "02464256",
   "metadata": {},
   "outputs": [],
   "source": [
    "from aiida_workgraph.utils import generate_node_graph\n",
    "\n",
    "#------------------------- Submit the calculation -------------------\n",
    "# For real applications, one can pass metadata to the scheduler to activate the conda environment\n",
    "metadata = {\n",
    "    \"options\": {\n",
    "        # 'custom_scheduler_commands' : 'module load anaconda\\nconda activate py3.11\\n',\n",
    "        'custom_scheduler_commands' : '',\n",
    "    }\n",
    "}\n",
    "\n",
    "wg.submit(inputs = {\"add\": {\"x\": 2, \"y\": 3,\n",
    "                            \"computer\": \"localhost\",\n",
    "                            \"metadata\": metadata},\n",
    "                    \"multiply\": {\"y\": 4,\n",
    "                                 \"computer\": \"localhost\",\n",
    "                                 \"metadata\": metadata}},\n",
    "          wait=True)\n",
    "#------------------------- Print the output -------------------------\n",
    "print(\"\\nResult of multiply is {} \\n\\n\".format(wg.nodes[\"multiply\"].outputs['result'].value))\n",
    "#------------------------- Generate node graph -------------------\n",
    "generate_node_graph(wg.pk)"
   ]
  },
  {
   "cell_type": "markdown",
   "id": "66b34ef1",
   "metadata": {},
   "source": [
    "## Use parent folder\n",
    "The parent_folder parameter allows a node to access the output files of a parent node. This feature is particularly useful when you want to reuse data generated by a previous computation in subsequent computations. In the following example, the multiply node uses the `result.txt` file created by the add node.\n"
   ]
  },
  {
   "cell_type": "code",
   "execution_count": null,
   "id": "aa47c860",
   "metadata": {},
   "outputs": [],
   "source": [
    "from aiida_workgraph import WorkGraph, node\n",
    "\n",
    "# define add node\n",
    "@node()\n",
    "def add(x, y):\n",
    "    z = x + y\n",
    "    with open(\"result.txt\", \"w\") as f:\n",
    "        f.write(str(z))\n",
    "\n",
    "# define multiply node\n",
    "@node()\n",
    "def multiply(x, y):\n",
    "    with open(\"parent_folder/result.txt\", \"r\") as f:\n",
    "        z = int(f.read())\n",
    "    return x*y + z\n",
    "\n",
    "wg = WorkGraph(\"first_workflow\")\n",
    "wg.nodes.new(add, name=\"add\", run_remotely=True)\n",
    "wg.nodes.new(multiply, name=\"multiply\",\n",
    "             parent_folder=wg.nodes[\"add\"].outputs[\"remote_folder\"],\n",
    "             run_remotely=True,\n",
    "             )\n",
    "\n",
    "#------------------------- Submit the calculation -------------------\n",
    "display(wg)\n",
    "wg.submit(inputs = {\"add\": {\"x\": 2, \"y\": 3, \"computer\": \"localhost\"},\n",
    "                    \"multiply\": {\"x\": 3, \"y\": 4, \"computer\": \"localhost\"}},\n",
    "          wait=True)\n",
    "print(\"\\nResult of multiply is {} \\n\\n\".format(wg.nodes[\"multiply\"].outputs['result'].value))"
   ]
  },
  {
   "cell_type": "markdown",
   "id": "1bc31c81",
   "metadata": {},
   "source": [
    "## Upload files or folders to the remote computer\n",
    "The `upload_files` parameter allows users to upload files or folders to the remote computer. The files will be uploaded to the working directory of the remote computer.\n",
    "\n"
   ]
  },
  {
   "cell_type": "code",
   "execution_count": null,
   "id": "ba00e2ce",
   "metadata": {},
   "outputs": [],
   "source": [
    "from aiida_workgraph import WorkGraph, node\n",
    "\n",
    "# create a temporary file \"input.txt\" in the current directory\n",
    "with open(\"input.txt\", \"w\") as f:\n",
    "    f.write(\"2\")\n",
    "\n",
    "# create a temporary folder \"inputs_folder\" in the current directory\n",
    "# and add a file \"another_input.txt\" in the folder\n",
    "import os\n",
    "os.makedirs(\"inputs_folder\", exist_ok=True)\n",
    "with open(\"inputs_folder/another_input.txt\", \"w\") as f:\n",
    "    f.write(\"3\")\n",
    "\n",
    "# define add node\n",
    "@node()\n",
    "def add():\n",
    "    with open(\"input.txt\", \"r\") as f:\n",
    "        a = int(f.read())\n",
    "    with open(\"inputs_folder/another_input.txt\", \"r\") as f:\n",
    "        b = int(f.read())\n",
    "    return a + b\n",
    "\n",
    "\n",
    "wg = WorkGraph(\"first_workflow\")\n",
    "wg.nodes.new(add, name=\"add\", run_remotely=True)\n",
    "\n",
    "#------------------------- Submit the calculation -------------------\n",
    "# we need use full path to the file\n",
    "input_file = os.path.abspath(\"input.txt\")\n",
    "input_folder = os.path.abspath(\"inputs_folder\")\n",
    "\n",
    "wg.submit(inputs = {\"add\": {\n",
    "                            \"computer\": \"localhost\",\n",
    "                            \"upload_files\": {\"input.txt\": input_file,\n",
    "                                             \"inputs_folder\": input_folder,\n",
    "                                             },\n",
    "                            },\n",
    "                    },\n",
    "          wait=True)\n",
    "print(\"\\nResult of add is {} \\n\\n\".format(wg.nodes[\"add\"].outputs['result'].value))"
   ]
  },
  {
   "cell_type": "markdown",
   "id": "2174a45e",
   "metadata": {},
   "source": [
    "## First Real-world Workflow: atomization energy of molecule\n",
    "\n",
    "The atomization energy, $\\Delta E$, of a molecule can be expressed as:\n",
    "\n",
    "$$\n",
    "\\Delta E = n_{\\text{atom}} \\times E_{\\text{atom}} - E_{\\text{molecule}}\n",
    "$$\n",
    "\n",
    "Where:\n",
    "- $\\Delta E$ is the atomization energy of the molecule.\n",
    "- $n_{\\text{atom}}$ is the number of atoms.\n",
    "- $E_{\\text{atom}}$ is the energy of an isolated atom.\n",
    "- $E_{\\text{molecule}}$ is the energy of the molecule.\n",
    "\n",
    "\n",
    "### Define a node to calculate the energy of the atoms using EMT potential"
   ]
  },
  {
   "cell_type": "code",
   "execution_count": null,
   "id": "713da634",
   "metadata": {},
   "outputs": [],
   "source": [
    "from aiida_workgraph import node, WorkGraph\n",
    "\n",
    "@node()\n",
    "def emt(atoms):\n",
    "    from ase.calculators.emt import EMT\n",
    "    atoms.calc = EMT()\n",
    "    energy = atoms.get_potential_energy()\n",
    "    return energy\n",
    "\n",
    "\n",
    "@node()\n",
    "def atomization_energy(mol, energy_molecule, energy_atom):\n",
    "    energy = energy_atom*len(mol) - energy_molecule\n",
    "    return energy\n"
   ]
  },
  {
   "cell_type": "markdown",
   "id": "00a7531e",
   "metadata": {},
   "source": [
    "### Define a workgraph\n"
   ]
  },
  {
   "cell_type": "code",
   "execution_count": null,
   "id": "a81fa9e0",
   "metadata": {},
   "outputs": [],
   "source": [
    "wg = WorkGraph(\"atomization_energy\")\n",
    "pw_atom = wg.nodes.new(emt, name=\"emt_atom\", run_remotely=True)\n",
    "pw_mol = wg.nodes.new(emt, name=\"emt_mol\", run_remotely=True)\n",
    "# create the node to calculate the atomization energy\n",
    "wg.nodes.new(\"PythonJob\", function=atomization_energy, name=\"atomization_energy\",\n",
    "             energy_atom=pw_atom.outputs[\"result\"],\n",
    "             energy_molecule=pw_mol.outputs[\"result\"])\n",
    "wg"
   ]
  },
  {
   "cell_type": "markdown",
   "id": "b686f3ba",
   "metadata": {},
   "source": [
    "### Prepare the inputs and submit the workflow"
   ]
  },
  {
   "cell_type": "code",
   "execution_count": null,
   "id": "11e3bca1-dda6-44e9-9585-54feeda7e7db",
   "metadata": {},
   "outputs": [],
   "source": [
    "from ase.build import molecule\n",
    "from ase import Atoms\n",
    "\n",
    "load_profile()\n",
    "\n",
    "# create input structure node\n",
    "n_atom = Atoms(\"N\", pbc=True)\n",
    "n_atom.center(vacuum=5.0)\n",
    "n2_molecule = molecule(\"N2\", pbc=True)\n",
    "n2_molecule.center(vacuum=5.0)\n",
    "\n",
    "\n",
    "#------------------------- Set the inputs -------------------------\n",
    "wg.nodes[\"emt_atom\"].set({\"atoms\": n_atom, \"computer\": \"localhost\"})\n",
    "wg.nodes[\"emt_mol\"].set({\"atoms\": n2_molecule, \"computer\": \"localhost\"})\n",
    "wg.nodes[\"atomization_energy\"].set({\"mol\": n2_molecule, \"computer\": \"localhost\"})\n",
    "#------------------------- Submit the calculation -------------------\n",
    "wg.submit(wait=True, timeout=200)\n",
    "#------------------------- Print the output -------------------------\n",
    "print('Energy of a N atom:                  {:0.3f}'.format(wg.nodes['emt_atom'].outputs[\"result\"].value.value))\n",
    "print('Energy of an un-relaxed N2 molecule: {:0.3f}'.format(wg.nodes['emt_mol'].outputs[\"result\"].value.value))\n",
    "print('Atomization energy:                  {:0.3f} eV'.format(wg.nodes['atomization_energy'].outputs[\"result\"].value.value))\n",
    "#------------------------- Generate node graph -------------------\n",
    "generate_node_graph(wg.pk)\n"
   ]
  },
  {
   "cell_type": "markdown",
   "id": "d25beb02-ee82-4a27-ae48-edc5c147904c",
   "metadata": {},
   "source": [
    "## Call shell commands in the PythonJob node\n",
    "\n",
    "We want to calculate `(x+y)*z` in two steps using `echo` and `bc` commands.\n",
    "\n",
    "Step 1: Calculate (x+y) and store it as result\n",
    "```\n",
    "result=$(echo \"$x + $y\" | bc)\n",
    "```\n",
    "\n",
    "Step 2: Multiply result by z and store the final result\n",
    "```\n",
    "result=$(echo \"$result * $z\" | bc)\n",
    "```\n",
    "\n",
    "If one wanted to run this workflow in AiiDA, one would have to write plugins for `echo` and `bc` commands, and a WorkChain to handle the workflow. With aiida-workgraph and the `PythonJob` node, this can be run through AiiDA with the following workgraph:"
   ]
  },
  {
   "cell_type": "code",
   "execution_count": null,
   "id": "d8471a01",
   "metadata": {},
   "outputs": [],
   "source": [
    "from aiida_workgraph import  node, WorkGraph\n",
    "\n",
    "@node()\n",
    "def add(x, y):\n",
    "    import os\n",
    "    os.system(\"echo '{} + {}' | bc > result.txt\".format(x, y))\n",
    "    with open(\"result.txt\", \"r\") as f:\n",
    "        return float(f.read())\n",
    "\n",
    "\n",
    "@node()\n",
    "def multiply(x, y):\n",
    "    import os\n",
    "    os.system(\"echo '{} * {}' | bc > result.txt\".format(x, y))\n",
    "    with open(\"result.txt\", \"r\") as f:\n",
    "        return float(f.read())\n",
    "\n",
    "\n",
    "wg = WorkGraph(\"first_workflow\")\n",
    "wg.nodes.new(add, name=\"add\", run_remotely=True)\n",
    "wg.nodes.new(multiply, name=\"multiply\", x=wg.nodes[\"add\"].outputs[0], run_remotely=True)\n",
    "\n",
    "# visualize the workgraph\n",
    "display(wg)\n",
    "\n",
    "#------------------------- Submit the calculation -------------------\n",
    "wg.submit(inputs = {\"add\": {\"x\": 2, \"y\": 3, \"computer\": \"localhost\"},\n",
    "                    \"multiply\": {\"y\": 4, \"computer\": \"localhost\"}},\n",
    "          wait=True)\n",
    "#------------------------- Print the output -------------------------\n",
    "print(\"\\nResult of multiply is {} \\n\\n\".format(wg.nodes[\"multiply\"].outputs['result'].value))\n",
    "#------------------------- Generate node graph -------------------\n",
    "generate_node_graph(wg.pk)"
   ]
  },
  {
   "cell_type": "markdown",
   "id": "824a056d",
   "metadata": {},
   "source": [
    "## Note\n",
    "One can not run a `graph_builder` node in a `PythonJob` node. The `graph_builder` node is used to build the workgraph, and it should be run in the localhost by the daemon.\n",
    "\n",
    "However, one can run a `PythonJob` node in a `graph_builder` node. The `PythonJob` node will be executed on the remote computer.\n",
    "\n",
    "The following code will raise an error:"
   ]
  },
  {
   "cell_type": "code",
   "execution_count": 2,
   "id": "cd52ca66",
   "metadata": {},
   "outputs": [
    {
     "ename": "ValueError",
     "evalue": "GraphBuilder nodes cannot be run remotely. Please set run_remotely=False.",
     "output_type": "error",
     "traceback": [
      "\u001b[0;31m---------------------------------------------------------------------------\u001b[0m",
      "\u001b[0;31mValueError\u001b[0m                                Traceback (most recent call last)",
      "\u001b[0;32m/tmp/ipykernel_121166/2234586110.py\u001b[0m in \u001b[0;36m<cell line: 0>\u001b[0;34m()\u001b[0m\n\u001b[1;32m      8\u001b[0m \u001b[0;34m\u001b[0m\u001b[0m\n\u001b[1;32m      9\u001b[0m \u001b[0mwg\u001b[0m \u001b[0;34m=\u001b[0m \u001b[0mWorkGraph\u001b[0m\u001b[0;34m(\u001b[0m\u001b[0;34m)\u001b[0m\u001b[0;34m\u001b[0m\u001b[0;34m\u001b[0m\u001b[0m\n\u001b[0;32m---> 10\u001b[0;31m \u001b[0mwg\u001b[0m\u001b[0;34m.\u001b[0m\u001b[0mnodes\u001b[0m\u001b[0;34m.\u001b[0m\u001b[0mnew\u001b[0m\u001b[0;34m(\u001b[0m\u001b[0madd_multiply\u001b[0m\u001b[0;34m,\u001b[0m \u001b[0mname\u001b[0m\u001b[0;34m=\u001b[0m\u001b[0;34m\"add_multiply\"\u001b[0m\u001b[0;34m,\u001b[0m \u001b[0mrun_remotely\u001b[0m\u001b[0;34m=\u001b[0m\u001b[0;32mTrue\u001b[0m\u001b[0;34m)\u001b[0m\u001b[0;34m\u001b[0m\u001b[0;34m\u001b[0m\u001b[0m\n\u001b[0m\u001b[1;32m     11\u001b[0m \u001b[0mwg\u001b[0m\u001b[0;34m\u001b[0m\u001b[0;34m\u001b[0m\u001b[0m\n",
      "\u001b[0;32m~/repos/superstar54/aiida-workgraph/aiida_workgraph/collection.py\u001b[0m in \u001b[0;36mnew\u001b[0;34m(self, identifier, name, uuid, on_remote, **kwargs)\u001b[0m\n\u001b[1;32m     27\u001b[0m             \u001b[0;32mif\u001b[0m \u001b[0mkwargs\u001b[0m\u001b[0;34m.\u001b[0m\u001b[0mpop\u001b[0m\u001b[0;34m(\u001b[0m\u001b[0;34m\"run_remotely\"\u001b[0m\u001b[0;34m,\u001b[0m \u001b[0;32mFalse\u001b[0m\u001b[0;34m)\u001b[0m\u001b[0;34m:\u001b[0m\u001b[0;34m\u001b[0m\u001b[0;34m\u001b[0m\u001b[0m\n\u001b[1;32m     28\u001b[0m                 \u001b[0;32mif\u001b[0m \u001b[0midentifier\u001b[0m\u001b[0;34m.\u001b[0m\u001b[0mnode\u001b[0m\u001b[0;34m.\u001b[0m\u001b[0mnode_type\u001b[0m\u001b[0;34m.\u001b[0m\u001b[0mupper\u001b[0m\u001b[0;34m(\u001b[0m\u001b[0;34m)\u001b[0m \u001b[0;34m==\u001b[0m \u001b[0;34m\"GRAPH_BUILDER\"\u001b[0m\u001b[0;34m:\u001b[0m\u001b[0;34m\u001b[0m\u001b[0;34m\u001b[0m\u001b[0m\n\u001b[0;32m---> 29\u001b[0;31m                     raise ValueError(\n\u001b[0m\u001b[1;32m     30\u001b[0m                         \u001b[0;34m\"GraphBuilder nodes cannot be run remotely. Please set run_remotely=False.\"\u001b[0m\u001b[0;34m\u001b[0m\u001b[0;34m\u001b[0m\u001b[0m\n\u001b[1;32m     31\u001b[0m                     )\n",
      "\u001b[0;31mValueError\u001b[0m: GraphBuilder nodes cannot be run remotely. Please set run_remotely=False."
     ]
    }
   ],
   "source": [
    "from aiida_workgraph import node, WorkGraph\n",
    "\n",
    "\n",
    "@node.graph_builder()\n",
    "def add_multiply():\n",
    "    wg = WorkGraph()\n",
    "    return wg\n",
    "\n",
    "wg = WorkGraph()\n",
    "wg.nodes.new(add_multiply, name=\"add_multiply\", run_remotely=True)\n",
    "wg"
   ]
  },
  {
   "cell_type": "markdown",
   "id": "c6eec323",
   "metadata": {},
   "source": [
    "However, the following code will work:"
   ]
  },
  {
   "cell_type": "code",
   "execution_count": 3,
   "id": "3b226eb7",
   "metadata": {},
   "outputs": [
    {
     "data": {
      "application/vnd.jupyter.widget-view+json": {
       "model_id": "9374db73f1784b4fb8becc78fae66d17",
       "version_major": 2,
       "version_minor": 1
      },
      "text/plain": [
       "NodeGraphWidget(settings={'minimap': True}, style={'width': '90%', 'height': '600px'}, value={'name': 'WorkGra…"
      ]
     },
     "execution_count": 3,
     "metadata": {},
     "output_type": "execute_result"
    }
   ],
   "source": [
    "from aiida_workgraph import node, WorkGraph\n",
    "\n",
    "\n",
    "@node.graph_builder()\n",
    "def add_multiply():\n",
    "    wg = WorkGraph()\n",
    "    wg.nodes.new(add, name=\"add\", run_remotely=True)\n",
    "    return wg\n",
    "\n",
    "wg = WorkGraph()\n",
    "wg.nodes.new(add_multiply, name=\"add_multiply\")\n",
    "wg"
   ]
  }
 ],
 "metadata": {
  "kernelspec": {
   "display_name": "Python 3.10.4 ('scinode')",
   "language": "python",
   "name": "python3"
  },
  "language_info": {
   "codemirror_mode": {
    "name": "ipython",
    "version": 3
   },
   "file_extension": ".py",
   "mimetype": "text/x-python",
   "name": "python",
   "nbconvert_exporter": "python",
   "pygments_lexer": "ipython3",
   "version": "3.10.0"
  },
  "vscode": {
   "interpreter": {
    "hash": "2f450c1ff08798c4974437dd057310afef0de414c25d1fd960ad375311c3f6ff"
   }
  }
 },
 "nbformat": 4,
 "nbformat_minor": 5
}
