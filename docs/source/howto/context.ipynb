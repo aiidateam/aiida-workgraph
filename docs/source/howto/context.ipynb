{
 "cells": [
  {
   "cell_type": "markdown",
   "id": "22d177dc-6cfb-4de2-9509-f1eb45e10cf2",
   "metadata": {},
   "source": [
    "# Use `Context` to pass data between tasks"
   ]
  },
  {
   "cell_type": "markdown",
   "id": "58696c91",
   "metadata": {},
   "source": [
    "## Introduction\n",
    "In AiiDA workflow, the context is a internal container that can hold data that shared between different tasks. It is very usefull for complex workflows.\n",
    "\n",
    "## Pass data to context\n",
    "\n",
    "There are three ways to set data to ctx.\n",
    "\n",
    "- Initialize the context data when creating the WorkGraph.\n",
    "  ```python\n",
    "  wg = WorkGraph(name=\"test_workgraph_ctx\")\n",
    "  # set ctx.x = Int(2), ctx.data.y = Int(3)\n",
    "  wg.ctx = {\"x\": Int(2), \"data.y\": Int(3)}\n",
    "  ```\n",
    "\n",
    "- Set the task result to context when the task is done.\n",
    "  ```python\n",
    "  # define add task\n",
    "  @task.calcfunction()\n",
    "  def add(x, y):\n",
    "    return x + y\n",
    "  add1 = wg.add_task(add, \"add1\", x=2, y=3)\n",
    "  # set result of add1 to ctx.sum\n",
    "  wg.update_ctx({\"sum\": add1.outputs.result})\n",
    "  ```\n",
    "\n",
    "- Use the `update_ctx` task to set either the task result or a constant value to the ctx.\n",
    "\n",
    "  ```python\n",
    "  wg.add_task(\"workgraph.set_context\", name=\"set_ctx1\", key=\"sum\", value=add1.outputs.result)\n",
    "  ```\n",
    "\n",
    "\n",
    "### Nested context keys\n",
    "To organize the context data (e.g. group data), The keys may contain dots `.`, which will creating dictionary in the ctx. Here is an example, to group the results of all add tasks to `ctx.sum`:\n",
    "\n",
    "```python\n",
    "wg.update_ctx({\"sum.add1\": add1.outputs.result})\n",
    "wg.update_ctx({\"sum.add2\": add2.outputs.result})\n",
    "```\n",
    "here, `ctx.sum` will be:\n",
    "```python\n",
    "{\"add1\": value1, \"add2\": value2}\n",
    "```\n",
    "\n",
    "## Use data from context\n",
    "There are three ways to use data from context:\n",
    "\n",
    "- One can use the `wg.ctx.x` syntax in the inputs of the task.\n",
    "    \n",
    "    ```python\n",
    "    add1 = wg.add_task(add, \"add1\", x=wg.ctx.x, y=3)\n",
    "    ```\n",
    "    One can also use nested context keys, like `wg.ctx.sum.add1`.\n",
    "\n",
    "- One can export the data from context to the graph builder outputs.\n",
    "    \n",
    "    ```python\n",
    "    @task.graph_builder(outputs=[{\"name\": \"result\", \"from\": \"ctx.sum\"}])\n",
    "    def my_while(n, limit):\n",
    "        nt = WorkGraph(\"while_workgraph\")\n",
    "        add1 = wg.add_task(add, x=2, y=3)\n",
    "        add2 = wg.add_task(add, x=2, y=3)\n",
    "        wg.update_ctx({\"sum.add1\": add1.outputs.result})\n",
    "        wg.update_ctx({\"sum.add2\": add2.outputs.result})\n",
    "    ```\n",
    "\n",
    "- One can use the `get_context` task to get the data from ctx. **This task will be shown in the GUI**\n",
    "\n",
    "    ```python\n",
    "    wg.add_task(\"workgraph.get_context\", name=\"get_ctx1\", key=\"sum.add1\")\n",
    "    ```"
   ]
  },
  {
   "cell_type": "markdown",
   "id": "b686f3ba",
   "metadata": {},
   "source": [
    "## First workflow"
   ]
  },
  {
   "cell_type": "code",
   "execution_count": 1,
   "id": "11e3bca1-dda6-44e9-9585-54feeda7e7db",
   "metadata": {},
   "outputs": [
    {
     "data": {
      "text/html": [
       "\n",
       "        <iframe\n",
       "            width=\"100%\"\n",
       "            height=\"600px\"\n",
       "            src=\"html/test_workgraph_ctx.html\"\n",
       "            frameborder=\"0\"\n",
       "            allowfullscreen\n",
       "            \n",
       "        ></iframe>\n",
       "        "
      ],
      "text/plain": [
       "<IPython.lib.display.IFrame at 0x7d84faba1190>"
      ]
     },
     "execution_count": 1,
     "metadata": {},
     "output_type": "execute_result"
    }
   ],
   "source": [
    "from aiida_workgraph import WorkGraph, task\n",
    "from aiida import load_profile\n",
    "\n",
    "load_profile()\n",
    "\n",
    "@task.calcfunction()\n",
    "def add(x, y):\n",
    "    return x + y\n",
    "\n",
    "wg = WorkGraph(name=\"test_workgraph_ctx\")\n",
    "# Set the context of the workgraph\n",
    "wg.ctx = {\"x\": 2, \"data.y\": 3}\n",
    "get_ctx1 = wg.add_task(\"workgraph.get_context\", name=\"get_ctx1\", key=\"x\")\n",
    "add1 = wg.add_task(add, \"add1\", x=get_ctx1.outputs.result,\n",
    "                   y=wg.ctx.data.y)\n",
    "set_ctx1 = wg.add_task(\"workgraph.set_context\", name=\"set_ctx1\", key=\"x\",\n",
    "                      value=add1.outputs.result)\n",
    "wg.to_html()\n",
    "# wg"
   ]
  },
  {
   "cell_type": "markdown",
   "id": "f6969061",
   "metadata": {},
   "source": [
    "As shown in the GUI, the `get_context` task and `to_context` tasks are shown in the GUI. However, the context variable using the `update_ctx` method or `wg.ctx.x` is not shown in the GUI."
   ]
  },
  {
   "cell_type": "markdown",
   "id": "d25beb02-ee82-4a27-ae48-edc5c147904c",
   "metadata": {},
   "source": [
    "### Submit the workflow and check the results"
   ]
  },
  {
   "cell_type": "code",
   "execution_count": 2,
   "id": "9ebf35aa",
   "metadata": {},
   "outputs": [
    {
     "name": "stdout",
     "output_type": "stream",
     "text": [
      "WorkGraph process created, PK: 61461\n",
      "Process 61461 finished with state: FINISHED\n",
      "State of WorkGraph         : FINISHED\n",
      "Result of add1            : uuid: 147774ff-be0a-4e9f-aa47-a1790165e324 (pk: 61465) value: 5\n"
     ]
    }
   ],
   "source": [
    "wg.submit(wait=True)\n",
    "print(\"State of WorkGraph         : {}\".format(wg.state))\n",
    "print('Result of add1            : {}'.format(wg.tasks.add1.outputs.result.value))"
   ]
  },
  {
   "cell_type": "markdown",
   "id": "125ac629",
   "metadata": {},
   "source": [
    "Generate node graph from the AiiDA process,and we can see that the `multiply` task is executed."
   ]
  },
  {
   "cell_type": "code",
   "execution_count": 3,
   "id": "0060e380",
   "metadata": {},
   "outputs": [
    {
     "data": {
      "image/svg+xml": [
       "<?xml version=\"1.0\" encoding=\"UTF-8\" standalone=\"no\"?>\n",
       "<!DOCTYPE svg PUBLIC \"-//W3C//DTD SVG 1.1//EN\"\n",
       " \"http://www.w3.org/Graphics/SVG/1.1/DTD/svg11.dtd\">\n",
       "<!-- Generated by graphviz version 7.1.0 (20230122.1345)\n",
       " -->\n",
       "<!-- Pages: 1 -->\n",
       "<svg width=\"363pt\" height=\"322pt\"\n",
       " viewBox=\"0.00 0.00 362.97 321.69\" xmlns=\"http://www.w3.org/2000/svg\" xmlns:xlink=\"http://www.w3.org/1999/xlink\">\n",
       "<g id=\"graph0\" class=\"graph\" transform=\"scale(1 1) rotate(0) translate(4 317.69)\">\n",
       "<polygon fill=\"white\" stroke=\"none\" points=\"-4,4 -4,-317.69 358.97,-317.69 358.97,4 -4,4\"/>\n",
       "<!-- N61461 -->\n",
       "<g id=\"node1\" class=\"node\">\n",
       "<title>N61461</title>\n",
       "<ellipse fill=\"#8cd499\" stroke=\"red\" stroke-width=\"6\" cx=\"177.48\" cy=\"-276.22\" rx=\"177.47\" ry=\"37.45\"/>\n",
       "<text text-anchor=\"middle\" x=\"177.48\" y=\"-287.52\" font-family=\"Times,serif\" font-size=\"14.00\">WorkGraph&lt;test_workgraph_ctx&gt; (61461)</text>\n",
       "<text text-anchor=\"middle\" x=\"177.48\" y=\"-272.52\" font-family=\"Times,serif\" font-size=\"14.00\">State: finished</text>\n",
       "<text text-anchor=\"middle\" x=\"177.48\" y=\"-257.52\" font-family=\"Times,serif\" font-size=\"14.00\">Exit Code: 0</text>\n",
       "</g>\n",
       "<!-- N61464 -->\n",
       "<g id=\"node2\" class=\"node\">\n",
       "<title>N61464</title>\n",
       "<polygon fill=\"#de707f\" fill-opacity=\"0.466667\" stroke=\"black\" stroke-width=\"0\" points=\"224.98,-172.74 129.98,-172.74 129.98,-119.74 224.98,-119.74 224.98,-172.74\"/>\n",
       "<text text-anchor=\"middle\" x=\"177.48\" y=\"-157.54\" font-family=\"Times,serif\" font-size=\"14.00\">add (61464)</text>\n",
       "<text text-anchor=\"middle\" x=\"177.48\" y=\"-142.54\" font-family=\"Times,serif\" font-size=\"14.00\">State: finished</text>\n",
       "<text text-anchor=\"middle\" x=\"177.48\" y=\"-127.54\" font-family=\"Times,serif\" font-size=\"14.00\">Exit Code: 0</text>\n",
       "</g>\n",
       "<!-- N61461&#45;&gt;N61464 -->\n",
       "<g id=\"edge1\" class=\"edge\">\n",
       "<title>N61461&#45;&gt;N61464</title>\n",
       "<path fill=\"none\" stroke=\"#000000\" stroke-dasharray=\"1,5\" d=\"M177.48,-235.78C177.48,-219.23 177.48,-200.1 177.48,-183.86\"/>\n",
       "<polygon fill=\"#000000\" stroke=\"#000000\" points=\"180.98,-184.15 177.48,-174.15 173.98,-184.15 180.98,-184.15\"/>\n",
       "<text text-anchor=\"middle\" x=\"216.98\" y=\"-209.54\" font-family=\"Times,serif\" font-size=\"14.00\">CALL_CALC</text>\n",
       "<text text-anchor=\"middle\" x=\"216.98\" y=\"-194.54\" font-family=\"Times,serif\" font-size=\"14.00\">add1</text>\n",
       "</g>\n",
       "<!-- N61465 -->\n",
       "<g id=\"node3\" class=\"node\">\n",
       "<title>N61465</title>\n",
       "<ellipse fill=\"#8cd499\" stroke=\"black\" stroke-width=\"0\" cx=\"177.48\" cy=\"-26.87\" rx=\"55.31\" ry=\"26.74\"/>\n",
       "<text text-anchor=\"middle\" x=\"177.48\" y=\"-30.67\" font-family=\"Times,serif\" font-size=\"14.00\">Int (61465)</text>\n",
       "<text text-anchor=\"middle\" x=\"177.48\" y=\"-15.67\" font-family=\"Times,serif\" font-size=\"14.00\">value: 5</text>\n",
       "</g>\n",
       "<!-- N61464&#45;&gt;N61465 -->\n",
       "<g id=\"edge2\" class=\"edge\">\n",
       "<title>N61464&#45;&gt;N61465</title>\n",
       "<path fill=\"none\" stroke=\"#000000\" d=\"M177.48,-119.77C177.48,-103.7 177.48,-82.67 177.48,-64.79\"/>\n",
       "<polygon fill=\"#000000\" stroke=\"#000000\" points=\"180.98,-64.8 177.48,-54.8 173.98,-64.8 180.98,-64.8\"/>\n",
       "<text text-anchor=\"middle\" x=\"203.48\" y=\"-90.54\" font-family=\"Times,serif\" font-size=\"14.00\">CREATE</text>\n",
       "<text text-anchor=\"middle\" x=\"203.48\" y=\"-75.54\" font-family=\"Times,serif\" font-size=\"14.00\">result</text>\n",
       "</g>\n",
       "</g>\n",
       "</svg>\n"
      ],
      "text/plain": [
       "<graphviz.graphs.Digraph at 0x7d84ecf89bd0>"
      ]
     },
     "execution_count": 3,
     "metadata": {},
     "output_type": "execute_result"
    }
   ],
   "source": [
    "from aiida_workgraph.utils import generate_node_graph\n",
    "generate_node_graph(wg.pk)"
   ]
  },
  {
   "cell_type": "markdown",
   "id": "a5e576af",
   "metadata": {},
   "source": [
    "> **_NOTE:_**  If you pass data from one task to another task trough context, you may need to use `wait` to wait for the data to be ready. See [How to wait for another task](waiting_on.ipynb)."
   ]
  }
 ],
 "metadata": {
  "kernelspec": {
   "display_name": "aiida",
   "language": "python",
   "name": "python3"
  },
  "language_info": {
   "codemirror_mode": {
    "name": "ipython",
    "version": 3
   },
   "file_extension": ".py",
   "mimetype": "text/x-python",
   "name": "python",
   "nbconvert_exporter": "python",
   "pygments_lexer": "ipython3",
   "version": "3.11.0"
  }
 },
 "nbformat": 4,
 "nbformat_minor": 5
}
