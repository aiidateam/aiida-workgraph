{
 "cells": [
  {
   "cell_type": "markdown",
   "id": "22d177dc-6cfb-4de2-9509-f1eb45e10cf2",
   "metadata": {},
   "source": [
    "# Use `Context` to pass data between tasks"
   ]
  },
  {
   "cell_type": "markdown",
   "id": "58696c91",
   "metadata": {},
   "source": [
    "## Introduction\n",
    "In AiiDA workflows, both traditional `WorkChain`s, as well as the `WorkGraph`, the context (typically represented with\n",
    "`ctx`), is an internal container that can hold data that shared between different tasks.\n",
    "It's particularly very useful for complex workflows.\n",
    "\n",
    "## Pass data to context\n",
    "\n",
    "There are three ways to set data to ctx.\n",
    "\n",
    "- Initialize the context data when creating the WorkGraph.\n",
    "  ```python\n",
    "  wg = WorkGraph(name=\"test_workgraph_ctx\")\n",
    "  # set ctx.x = Int(2), ctx.data.y = Int(3)\n",
    "  wg.ctx = {\"x\": Int(2), \"data.y\": Int(3)}\n",
    "  ```\n",
    "\n",
    "- Set the task result to context when the task is done.\n",
    "  ```python\n",
    "  # define add task\n",
    "  @task.calcfunction()\n",
    "  def add(x, y):\n",
    "    return x + y\n",
    "  add1 = wg.add_task(add, \"add1\", x=2, y=3)\n",
    "  # set result of add1 to ctx.sum\n",
    "  wg.update_ctx({\"sum\": add1.outputs.result})\n",
    "  ```\n",
    "\n",
    "- Use the `update_ctx` task to set either the task result or a constant value to the ctx.\n",
    "\n",
    "  ```python\n",
    "  wg.add_task(\"workgraph.set_context\", name=\"set_ctx1\", key=\"sum\", value=add1.outputs.result)\n",
    "  ```\n",
    "\n",
    "\n",
    "### Nested context keys\n",
    "To organize the context data (e.g. group data), The keys may contain dots `.`, which will creating dictionary in the ctx. Here is an example, to group the results of all add tasks to `ctx.sum`:\n",
    "\n",
    "```python\n",
    "wg.update_ctx({\"sum.add1\": add1.outputs.result})\n",
    "wg.update_ctx({\"sum.add2\": add2.outputs.result})\n",
    "```\n",
    "here, `ctx.sum` will be:\n",
    "```python\n",
    "{\"add1\": value1, \"add2\": value2}\n",
    "```\n",
    "\n",
    "## Use data from context\n",
    "There are three ways to use data from context:\n",
    "\n",
    "- One can use the `wg.ctx.x` syntax in the inputs of the task.\n",
    "    \n",
    "    ```python\n",
    "    add1 = wg.add_task(add, \"add1\", x=wg.ctx.x, y=3)\n",
    "    ```\n",
    "    One can also use nested context keys, like `wg.ctx.sum.add1`.\n",
    "\n",
    "- One can export the data from context to the graph builder outputs.\n",
    "    \n",
    "    ```python\n",
    "    @task.graph_builder(outputs=[{\"name\": \"result\", \"from\": \"ctx.sum\"}])\n",
    "    def my_while(n, limit):\n",
    "        nt = WorkGraph(\"while_workgraph\")\n",
    "        add1 = wg.add_task(add, x=2, y=3)\n",
    "        add2 = wg.add_task(add, x=2, y=3)\n",
    "        wg.update_ctx({\"sum.add1\": add1.outputs.result})\n",
    "        wg.update_ctx({\"sum.add2\": add2.outputs.result})\n",
    "    ```\n",
    "\n",
    "- One can use the `get_context` task to get the data from ctx. **This task will be shown in the GUI**\n",
    "\n",
    "    ```python\n",
    "    wg.add_task(\"workgraph.get_context\", name=\"get_ctx1\", key=\"sum.add1\")\n",
    "    ```"
   ]
  },
  {
   "cell_type": "markdown",
   "id": "b686f3ba",
   "metadata": {},
   "source": [
    "## First workflow"
   ]
  },
  {
   "cell_type": "code",
   "execution_count": 1,
   "id": "11e3bca1-dda6-44e9-9585-54feeda7e7db",
   "metadata": {},
   "outputs": [
    {
     "data": {
      "text/html": [
       "\n",
       "        <iframe\n",
       "            width=\"100%\"\n",
       "            height=\"600px\"\n",
       "            src=\"html/test_workgraph_ctx.html\"\n",
       "            frameborder=\"0\"\n",
       "            allowfullscreen\n",
       "            \n",
       "        ></iframe>\n",
       "        "
      ],
      "text/plain": [
       "<IPython.lib.display.IFrame at 0x74760a435c00>"
      ]
     },
     "execution_count": 1,
     "metadata": {},
     "output_type": "execute_result"
    }
   ],
   "source": [
    "from aiida_workgraph import WorkGraph, task\n",
    "from aiida import load_profile\n",
    "\n",
    "load_profile()\n",
    "\n",
    "\n",
    "@task.calcfunction()\n",
    "def add(x, y):\n",
    "    return x + y\n",
    "\n",
    "\n",
    "wg = WorkGraph(name=\"test_workgraph_ctx\")\n",
    "# Set the context of the workgraph\n",
    "wg.ctx = {\"x\": 2, \"data.y\": 3}\n",
    "get_ctx1 = wg.add_task(\"workgraph.get_context\", name=\"get_ctx1\", key=\"x\")\n",
    "add1 = wg.add_task(add, \"add1\", x=get_ctx1.outputs.result, y=wg.ctx.data.y)\n",
    "set_ctx1 = wg.add_task(\"workgraph.set_context\", name=\"set_ctx1\", key=\"x\", value=add1.outputs.result)\n",
    "wg.to_html()\n",
    "# wg"
   ]
  },
  {
   "cell_type": "markdown",
   "id": "f6969061",
   "metadata": {},
   "source": [
    "As shown in the GUI, the `get_context` task and `to_context` tasks are shown in the GUI. However, the context variable using the `update_ctx` method or `wg.ctx.x` is not shown in the GUI."
   ]
  },
  {
   "cell_type": "markdown",
   "id": "d25beb02-ee82-4a27-ae48-edc5c147904c",
   "metadata": {},
   "source": [
    "### Submit the workflow and check the results"
   ]
  },
  {
   "cell_type": "code",
   "execution_count": 2,
   "id": "9ebf35aa",
   "metadata": {},
   "outputs": [
    {
     "name": "stderr",
     "output_type": "stream",
     "text": [
      "07/07/2025 02:12:48 PM <224020> aiida.broker.rabbitmq: [WARNING] RabbitMQ v3.9.27 is not supported and will cause unexpected problems!\n",
      "07/07/2025 02:12:48 PM <224020> aiida.broker.rabbitmq: [WARNING] It can cause long-running workflows to crash and jobs to be submitted multiple times.\n",
      "07/07/2025 02:12:48 PM <224020> aiida.broker.rabbitmq: [WARNING] See https://github.com/aiidateam/aiida-core/wiki/RabbitMQ-version-to-use for details.\n"
     ]
    },
    {
     "name": "stdout",
     "output_type": "stream",
     "text": [
      "WorkGraph process created, PK: 132\n",
      "Process 132 finished with state: FINISHED\n",
      "State of WorkGraph         : FINISHED\n",
      "Result of add1            : uuid: 07a4a618-b8dc-44eb-9957-298994614600 (pk: 136) value: 5\n"
     ]
    }
   ],
   "source": [
    "wg.submit(wait=True)\n",
    "print(\"State of WorkGraph         : {}\".format(wg.state))\n",
    "print('Result of add1            : {}'.format(wg.tasks.add1.outputs.result.value))"
   ]
  },
  {
   "cell_type": "markdown",
   "id": "125ac629",
   "metadata": {},
   "source": [
    "Generate node graph from the AiiDA process,and we can see that the `multiply` task is executed."
   ]
  },
  {
   "cell_type": "code",
   "execution_count": 3,
   "id": "0060e380",
   "metadata": {},
   "outputs": [
    {
     "data": {
      "image/svg+xml": [
       "<?xml version=\"1.0\" encoding=\"UTF-8\" standalone=\"no\"?>\n",
       "<!DOCTYPE svg PUBLIC \"-//W3C//DTD SVG 1.1//EN\"\n",
       " \"http://www.w3.org/Graphics/SVG/1.1/DTD/svg11.dtd\">\n",
       "<!-- Generated by graphviz version 2.43.0 (0)\n",
       " -->\n",
       "<!-- Title: %3 Pages: 1 -->\n",
       "<svg width=\"438pt\" height=\"304pt\"\n",
       " viewBox=\"0.00 0.00 437.92 303.95\" xmlns=\"http://www.w3.org/2000/svg\" xmlns:xlink=\"http://www.w3.org/1999/xlink\">\n",
       "<g id=\"graph0\" class=\"graph\" transform=\"scale(1 1) rotate(0) translate(4 299.95)\">\n",
       "<title>%3</title>\n",
       "<polygon fill=\"white\" stroke=\"transparent\" points=\"-4,4 -4,-299.95 433.92,-299.95 433.92,4 -4,4\"/>\n",
       "<!-- N132 -->\n",
       "<g id=\"node1\" class=\"node\">\n",
       "<title>N132</title>\n",
       "<ellipse fill=\"#8cd499\" stroke=\"red\" stroke-width=\"6\" cx=\"214.96\" cy=\"-258.48\" rx=\"214.92\" ry=\"37.45\"/>\n",
       "<text text-anchor=\"middle\" x=\"214.96\" y=\"-269.78\" font-family=\"Times,serif\" font-size=\"14.00\">WorkGraph&lt;test_workgraph_ctx&gt; (132)</text>\n",
       "<text text-anchor=\"middle\" x=\"214.96\" y=\"-254.78\" font-family=\"Times,serif\" font-size=\"14.00\">State: finished</text>\n",
       "<text text-anchor=\"middle\" x=\"214.96\" y=\"-239.78\" font-family=\"Times,serif\" font-size=\"14.00\">Exit Code: 0</text>\n",
       "</g>\n",
       "<!-- N135 -->\n",
       "<g id=\"node2\" class=\"node\">\n",
       "<title>N135</title>\n",
       "<polygon fill=\"#de707f\" fill-opacity=\"0.466667\" stroke=\"black\" stroke-width=\"0\" points=\"274.96,-155 154.96,-155 154.96,-102 274.96,-102 274.96,-155\"/>\n",
       "<text text-anchor=\"middle\" x=\"214.96\" y=\"-139.8\" font-family=\"Times,serif\" font-size=\"14.00\">add (135)</text>\n",
       "<text text-anchor=\"middle\" x=\"214.96\" y=\"-124.8\" font-family=\"Times,serif\" font-size=\"14.00\">State: finished</text>\n",
       "<text text-anchor=\"middle\" x=\"214.96\" y=\"-109.8\" font-family=\"Times,serif\" font-size=\"14.00\">Exit Code: 0</text>\n",
       "</g>\n",
       "<!-- N132&#45;&gt;N135 -->\n",
       "<g id=\"edge1\" class=\"edge\">\n",
       "<title>N132&#45;&gt;N135</title>\n",
       "<path fill=\"none\" stroke=\"#000000\" stroke-dasharray=\"1,5\" d=\"M214.96,-220.8C214.96,-203.43 214.96,-182.75 214.96,-165.47\"/>\n",
       "<polygon fill=\"#000000\" stroke=\"#000000\" points=\"218.46,-165.21 214.96,-155.21 211.46,-165.21 218.46,-165.21\"/>\n",
       "<text text-anchor=\"middle\" x=\"257.46\" y=\"-191.8\" font-family=\"Times,serif\" font-size=\"14.00\">CALL_CALC</text>\n",
       "<text text-anchor=\"middle\" x=\"257.46\" y=\"-176.8\" font-family=\"Times,serif\" font-size=\"14.00\">add1</text>\n",
       "</g>\n",
       "<!-- N136 -->\n",
       "<g id=\"node3\" class=\"node\">\n",
       "<title>N136</title>\n",
       "<ellipse fill=\"#8cd499\" stroke=\"black\" stroke-width=\"0\" cx=\"214.96\" cy=\"-18\" rx=\"51.19\" ry=\"18\"/>\n",
       "<text text-anchor=\"middle\" x=\"214.96\" y=\"-14.3\" font-family=\"Times,serif\" font-size=\"14.00\">Int (136)</text>\n",
       "</g>\n",
       "<!-- N135&#45;&gt;N136 -->\n",
       "<g id=\"edge2\" class=\"edge\">\n",
       "<title>N135&#45;&gt;N136</title>\n",
       "<path fill=\"none\" stroke=\"#000000\" d=\"M214.96,-101.79C214.96,-85.13 214.96,-63.46 214.96,-46.47\"/>\n",
       "<polygon fill=\"#000000\" stroke=\"#000000\" points=\"218.46,-46.08 214.96,-36.08 211.46,-46.08 218.46,-46.08\"/>\n",
       "<text text-anchor=\"middle\" x=\"245.46\" y=\"-72.8\" font-family=\"Times,serif\" font-size=\"14.00\">CREATE</text>\n",
       "<text text-anchor=\"middle\" x=\"245.46\" y=\"-57.8\" font-family=\"Times,serif\" font-size=\"14.00\">result</text>\n",
       "</g>\n",
       "</g>\n",
       "</svg>\n"
      ],
      "text/plain": [
       "<graphviz.graphs.Digraph at 0x7476082d3940>"
      ]
     },
     "execution_count": 3,
     "metadata": {},
     "output_type": "execute_result"
    }
   ],
   "source": [
    "from aiida_workgraph.utils import generate_node_graph\n",
    "generate_node_graph(wg.pk)"
   ]
  },
  {
   "cell_type": "markdown",
   "id": "a5e576af",
   "metadata": {},
   "source": [
    "> **_NOTE:_**  If you pass data from one task to another task trough context, you may need to use `wait` to wait for the data to be ready. See [How to wait for another task](waiting_on.ipynb)."
   ]
  }
 ],
 "metadata": {
  "kernelspec": {
   "display_name": "WGD",
   "language": "python",
   "name": "python3"
  },
  "language_info": {
   "codemirror_mode": {
    "name": "ipython",
    "version": 3
   },
   "file_extension": ".py",
   "mimetype": "text/x-python",
   "name": "python",
   "nbconvert_exporter": "python",
   "pygments_lexer": "ipython3",
   "version": "3.10.12"
  }
 },
 "nbformat": 4,
 "nbformat_minor": 5
}
