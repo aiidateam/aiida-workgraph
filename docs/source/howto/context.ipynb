{
 "cells": [
  {
   "cell_type": "markdown",
   "id": "22d177dc-6cfb-4de2-9509-f1eb45e10cf2",
   "metadata": {},
   "source": [
    "# Use `Context` to pass data between tasks"
   ]
  },
  {
   "cell_type": "markdown",
   "id": "58696c91",
   "metadata": {},
   "source": [
    "## Introduction\n",
    "In AiiDA workflow, the context is a internal container that can hold data that shared between different tasks. It is very usefull for complex workflows.\n",
    "\n",
    "## Pass data to context\n",
    "\n",
    "There are three ways to set data to ctx.\n",
    "\n",
    "- Initialize the context data when creating the WorkGraph.\n",
    "  ```python\n",
    "  wg = WorkGraph(name=\"test_workgraph_ctx\")\n",
    "  # set ctx.x = Int(2), ctx.data.y = Int(3)\n",
    "  wg.ctx = {\"x\": Int(2), \"data.y\": Int(3)}\n",
    "  ```\n",
    "\n",
    "- Set the task result to context when the task is done.\n",
    "  ```python\n",
    "  # define add task\n",
    "  @task.calcfunction()\n",
    "  def add(x, y):\n",
    "    return x + y\n",
    "  add1 = wg.add_task(add, \"add1\", x=2, y=3)\n",
    "  # set result of add1 to ctx.sum\n",
    "  wg.update_ctx({\"sum\": add1.outputs.result})\n",
    "  ```\n",
    "\n",
    "- Use the `update_ctx` task to set either the task result or a constant value to the ctx.\n",
    "\n",
    "  ```python\n",
    "  wg.add_task(\"workgraph.set_context\", name=\"set_ctx1\", key=\"sum\", value=add1.outputs.result)\n",
    "  ```\n",
    "\n",
    "\n",
    "### Nested context keys\n",
    "To organize the context data (e.g. group data), The keys may contain dots `.`, which will creating dictionary in the ctx. Here is an example, to group the results of all add tasks to `ctx.sum`:\n",
    "\n",
    "```python\n",
    "wg.update_ctx({\"sum.add1\": add1.outputs.result})\n",
    "wg.update_ctx({\"sum.add2\": add2.outputs.result})\n",
    "```\n",
    "here, `ctx.sum` will be:\n",
    "```python\n",
    "{\"add1\": value1, \"add2\": value2}\n",
    "```\n",
    "\n",
    "## Use data from context\n",
    "There are three ways to use data from context:\n",
    "\n",
    "- One can use the `wg.ctx.x` syntax in the inputs of the task.\n",
    "    \n",
    "    ```python\n",
    "    add1 = wg.add_task(add, \"add1\", x=wg.ctx.x, y=3)\n",
    "    ```\n",
    "    One can also use nested context keys, like `wg.ctx.sum.add1`.\n",
    "\n",
    "- One can export the data from context to the graph builder outputs.\n",
    "    \n",
    "    ```python\n",
    "    @task.graph_builder(outputs=[{\"name\": \"result\", \"from\": \"ctx.sum\"}])\n",
    "    def my_while(n, limit):\n",
    "        nt = WorkGraph(\"while_workgraph\")\n",
    "        add1 = wg.add_task(add, x=2, y=3)\n",
    "        add2 = wg.add_task(add, x=2, y=3)\n",
    "        wg.update_ctx({\"sum.add1\": add1.outputs.result})\n",
    "        wg.update_ctx({\"sum.add2\": add2.outputs.result})\n",
    "    ```\n",
    "\n",
    "- One can use the `get_context` task to get the data from ctx. **This task will be shown in the GUI**\n",
    "\n",
    "    ```python\n",
    "    wg.add_task(\"workgraph.get_context\", name=\"get_ctx1\", key=\"sum.add1\")\n",
    "    ```"
   ]
  },
  {
   "cell_type": "markdown",
   "id": "b686f3ba",
   "metadata": {},
   "source": [
    "## First workflow"
   ]
  },
  {
   "cell_type": "code",
   "execution_count": 3,
   "id": "11e3bca1-dda6-44e9-9585-54feeda7e7db",
   "metadata": {},
   "outputs": [
    {
     "data": {
      "text/html": [
       "\n",
       "        <iframe\n",
       "            width=\"100%\"\n",
       "            height=\"600px\"\n",
       "            src=\"html/test_workgraph_ctx.html\"\n",
       "            frameborder=\"0\"\n",
       "            allowfullscreen\n",
       "            \n",
       "        ></iframe>\n",
       "        "
      ],
      "text/plain": [
       "<IPython.lib.display.IFrame at 0x7dcc4394ec50>"
      ]
     },
     "execution_count": 3,
     "metadata": {},
     "output_type": "execute_result"
    }
   ],
   "source": [
    "from aiida_workgraph import WorkGraph, task\n",
    "from aiida import load_profile\n",
    "\n",
    "load_profile()\n",
    "\n",
    "@task.calcfunction()\n",
    "def add(x, y):\n",
    "    return x + y\n",
    "\n",
    "wg = WorkGraph(name=\"test_workgraph_ctx\")\n",
    "# Set the context of the workgraph\n",
    "wg.ctx = {\"x\": 2, \"data.y\": 3}\n",
    "get_ctx1 = wg.add_task(\"workgraph.get_context\", name=\"get_ctx1\", key=\"x\")\n",
    "add1 = wg.add_task(add, \"add1\", x=get_ctx1.outputs.result,\n",
    "                   y=wg.ctx.data.y)\n",
    "set_ctx1 = wg.add_task(\"workgraph.set_context\", name=\"set_ctx1\", key=\"x\",\n",
    "                      value=add1.outputs.result)\n",
    "wg.to_html()\n",
    "# wg"
   ]
  },
  {
   "cell_type": "markdown",
   "id": "f6969061",
   "metadata": {},
   "source": [
    "As shown in the GUI, the `get_context` task and `to_context` tasks are shown in the GUI. However, the context variable using the `update_ctx` method or `wg.ctx.x` is not shown in the GUI."
   ]
  },
  {
   "cell_type": "markdown",
   "id": "d25beb02-ee82-4a27-ae48-edc5c147904c",
   "metadata": {},
   "source": [
    "### Submit the workflow and check the results"
   ]
  },
  {
   "cell_type": "code",
   "execution_count": null,
   "id": "9ebf35aa",
   "metadata": {},
   "outputs": [],
   "source": [
    "wg.submit(wait=True)\n",
    "print(\"State of WorkGraph         : {}\".format(wg.state))\n",
    "print('Result of add1            : {}'.format(wg.tasks.add1.outputs.result.value))"
   ]
  },
  {
   "cell_type": "markdown",
   "id": "125ac629",
   "metadata": {},
   "source": [
    "Generate node graph from the AiiDA process,and we can see that the `multiply` task is executed."
   ]
  },
  {
   "cell_type": "code",
   "execution_count": null,
   "id": "0060e380",
   "metadata": {},
   "outputs": [],
   "source": [
    "from aiida_workgraph.utils import generate_node_graph\n",
    "generate_node_graph(wg.pk)"
   ]
  },
  {
   "cell_type": "markdown",
   "id": "a5e576af",
   "metadata": {},
   "source": [
    "> **_NOTE:_**  If you pass data from one task to another task trough context, you may need to use `wait` to wait for the data to be ready. See [How to wait for another task](waiting_on.ipynb)."
   ]
  }
 ],
 "metadata": {
  "kernelspec": {
   "display_name": "Python 3.10.4 ('scinode')",
   "language": "python",
   "name": "python3"
  },
  "language_info": {
   "codemirror_mode": {
    "name": "ipython",
    "version": 3
   },
   "file_extension": ".py",
   "mimetype": "text/x-python",
   "name": "python",
   "nbconvert_exporter": "python",
   "pygments_lexer": "ipython3",
   "version": "3.11.0"
  },
  "vscode": {
   "interpreter": {
    "hash": "2f450c1ff08798c4974437dd057310afef0de414c25d1fd960ad375311c3f6ff"
   }
  }
 },
 "nbformat": 4,
 "nbformat_minor": 5
}
