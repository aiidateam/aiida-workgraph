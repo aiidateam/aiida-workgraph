{
 "cells": [
  {
   "cell_type": "markdown",
   "id": "22d177dc-6cfb-4de2-9509-f1eb45e10cf2",
   "metadata": {},
   "source": [
    "# Grouping Tasks with Zone\n",
    "\n",
    "## Introduction\n",
    "Zone task groups a collection of tasks. This will affect the execution order.\n",
    "- The zone and all its tasks are ready to run only if all links passing into the Zone are ready.\n",
    "- Tasks wait for the task inside the Zone needs to wait for the whole Zone to be finished.\n",
    "\n",
    "## Example\n",
    "\n",
    "Here is an example of a Zone task:"
   ]
  },
  {
   "cell_type": "code",
   "execution_count": 1,
   "id": "c6b83fb5",
   "metadata": {},
   "outputs": [
    {
     "data": {
      "text/html": [
       "\n",
       "        <iframe\n",
       "            width=\"100%\"\n",
       "            height=\"600px\"\n",
       "            src=\"html/test_zone.html\"\n",
       "            frameborder=\"0\"\n",
       "            allowfullscreen\n",
       "            \n",
       "        ></iframe>\n",
       "        "
      ],
      "text/plain": [
       "<IPython.lib.display.IFrame at 0x7658a21c1110>"
      ]
     },
     "execution_count": 1,
     "metadata": {},
     "output_type": "execute_result"
    }
   ],
   "source": [
    "from aiida_workgraph import WorkGraph, task\n",
    "from aiida import load_profile\n",
    "load_profile()\n",
    "\n",
    "@task.calcfunction()\n",
    "def add(x, y):\n",
    "    return x + y\n",
    "\n",
    "wg = WorkGraph(\"test_zone\")\n",
    "wg.context = {}\n",
    "add1 = wg.add_task(add, name=\"add1\", x=1, y=1)\n",
    "wg.add_task(add, name=\"add2\", x=1, y=1)\n",
    "add3 = wg.add_task(add, name=\"add3\", x=1, y=add1.outputs[\"result\"])\n",
    "wg.add_task(add, name=\"add4\", x=1, y=add3.outputs[\"result\"])\n",
    "wg.add_task(add, name=\"add5\", x=1, y=add3.outputs[\"result\"])\n",
    "zone1 = wg.add_task(\"workgraph.zone\", name=\"Zone1\")\n",
    "zone1.children.add([\"add2\", \"add3\", \"add4\"])\n",
    "# export the workgraph to html file so that it can be visualized in a browser\n",
    "wg.to_html()\n",
    "# comment out the following line to visualize the workgraph in jupyter-notebook\n",
    "# wg"
   ]
  },
  {
   "cell_type": "markdown",
   "id": "d25beb02-ee82-4a27-ae48-edc5c147904c",
   "metadata": {},
   "source": [
    "### Submit the WorkGraph and print out the report\n"
   ]
  },
  {
   "cell_type": "code",
   "execution_count": 2,
   "id": "9ebf35aa",
   "metadata": {},
   "outputs": [
    {
     "name": "stdout",
     "output_type": "stream",
     "text": [
      "WorkGraph process created, PK: 107238\n",
      "2024-08-14 09:03:46 [145822 | REPORT]: [107238|WorkGraphEngine|continue_workgraph]: tasks ready to run: add1\n",
      "2024-08-14 09:03:47 [145826 | REPORT]: [107238|WorkGraphEngine|continue_workgraph]: tasks ready to run: Zone1\n",
      "2024-08-14 09:03:47 [145829 | REPORT]: [107238|WorkGraphEngine|continue_workgraph]: tasks ready to run: add2,add3\n",
      "2024-08-14 09:03:47 [145833 | REPORT]: [107238|WorkGraphEngine|continue_workgraph]: tasks ready to run: add3\n",
      "2024-08-14 09:03:47 [145837 | REPORT]: [107238|WorkGraphEngine|continue_workgraph]: tasks ready to run: add4\n",
      "2024-08-14 09:03:48 [145842 | REPORT]: [107238|WorkGraphEngine|continue_workgraph]: tasks ready to run: add5\n",
      "2024-08-14 09:03:48 [145846 | REPORT]: [107238|WorkGraphEngine|continue_workgraph]: tasks ready to run: \n"
     ]
    }
   ],
   "source": [
    "from aiida.cmdline.utils.common import get_workchain_report\n",
    "wg.submit(wait=True)\n",
    "report = get_workchain_report(wg.process, \"REPORT\")\n",
    "\n",
    "for line in report.split(\"\\n\"):\n",
    "    if \"tasks ready to run\" in line:\n",
    "        print(line)"
   ]
  },
  {
   "cell_type": "markdown",
   "id": "125ac629",
   "metadata": {},
   "source": [
    "We can see that the Zone is a collection of tasks. The Zone is ready to run only if all links passing into the Zone are ready. Tasks need input from the task inside the Zone need to wait for the whole Zone to be finished."
   ]
  }
 ],
 "metadata": {
  "kernelspec": {
   "display_name": "Python 3.10.4 ('scinode')",
   "language": "python",
   "name": "python3"
  },
  "language_info": {
   "codemirror_mode": {
    "name": "ipython",
    "version": 3
   },
   "file_extension": ".py",
   "mimetype": "text/x-python",
   "name": "python",
   "nbconvert_exporter": "python",
   "pygments_lexer": "ipython3",
   "version": "3.11.0"
  },
  "vscode": {
   "interpreter": {
    "hash": "2f450c1ff08798c4974437dd057310afef0de414c25d1fd960ad375311c3f6ff"
   }
  }
 },
 "nbformat": 4,
 "nbformat_minor": 5
}
