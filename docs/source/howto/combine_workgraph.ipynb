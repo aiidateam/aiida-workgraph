{
 "cells": [
  {
   "cell_type": "markdown",
   "id": "22d177dc-6cfb-4de2-9509-f1eb45e10cf2",
   "metadata": {},
   "source": [
    "# Combine workgraphs\n",
    "\n",
    "## Introduction\n",
    "\n",
    "There are two ways to combine workgraphs:\n",
    "\n",
    "- Extending a workgraph by the tasks of another\n",
    "- Adding a workgraph as a task of another\n",
    "\n",
    "This tutorial will show both, highlighting the differences.\n"
   ]
  },
  {
   "cell_type": "code",
   "execution_count": 1,
   "id": "c6b83fb5",
   "metadata": {},
   "outputs": [
    {
     "data": {
      "text/plain": [
       "Profile<uuid='36f11577e5ee4adf9e4a5f5d62d3ae9b' name='presto'>"
      ]
     },
     "execution_count": 1,
     "metadata": {},
     "output_type": "execute_result"
    }
   ],
   "source": [
    "%load_ext aiida\n",
    "from aiida import load_profile\n",
    "\n",
    "load_profile()"
   ]
  },
  {
   "cell_type": "code",
   "execution_count": 2,
   "id": "2a9ca8e9",
   "metadata": {},
   "outputs": [],
   "source": [
    "from aiida_workgraph import WorkGraph, task"
   ]
  },
  {
   "cell_type": "markdown",
   "id": "13cdd81e",
   "metadata": {},
   "source": [
    "## Extending a workgraph by the tasks of another\n",
    "\n",
    "We first define a workgraph to add two numbers and multiply the sum by a third."
   ]
  },
  {
   "cell_type": "code",
   "execution_count": 5,
   "id": "324fddc5",
   "metadata": {},
   "outputs": [
    {
     "data": {
      "text/html": [
       "\n",
       "        <iframe\n",
       "            width=\"100%\"\n",
       "            height=\"600px\"\n",
       "            src=\"html/AddMultiply.html\"\n",
       "            frameborder=\"0\"\n",
       "            allowfullscreen\n",
       "            \n",
       "        ></iframe>\n",
       "        "
      ],
      "text/plain": [
       "<IPython.lib.display.IFrame at 0x7065f8d541c0>"
      ]
     },
     "execution_count": 5,
     "metadata": {},
     "output_type": "execute_result"
    }
   ],
   "source": [
    "@task\n",
    "def add(x, y):\n",
    "    return x + y\n",
    "\n",
    "\n",
    "@task\n",
    "def multiply(x, y):\n",
    "    return x * y\n",
    "\n",
    "\n",
    "with WorkGraph(\"AddMultiply\") as add_multiply:\n",
    "    sum_ = add(x=1, y=2)\n",
    "    prod = multiply(x=sum_, y=3)\n",
    "\n",
    "add_multiply.to_html()"
   ]
  },
  {
   "cell_type": "markdown",
   "id": "2120bacc",
   "metadata": {},
   "source": [
    "Next, we define a second workgraph with a task to generate a random number between 1 and 10. We then unpack the tasks of the first workgraph into the second using the `extend` method. Finally, we assign the random number as the factor of the multiplication task."
   ]
  },
  {
   "cell_type": "code",
   "execution_count": 4,
   "id": "beab4231",
   "metadata": {},
   "outputs": [
    {
     "data": {
      "text/html": [
       "\n",
       "        <iframe\n",
       "            width=\"100%\"\n",
       "            height=\"600px\"\n",
       "            src=\"html/AddMultiplyExtension.html\"\n",
       "            frameborder=\"0\"\n",
       "            allowfullscreen\n",
       "            \n",
       "        ></iframe>\n",
       "        "
      ],
      "text/plain": [
       "<IPython.lib.display.IFrame at 0x7065f8cf1240>"
      ]
     },
     "execution_count": 4,
     "metadata": {},
     "output_type": "execute_result"
    }
   ],
   "source": [
    "@task\n",
    "def generate_random_number(minimum, maximum):\n",
    "    import random\n",
    "\n",
    "    return random.randint(minimum, maximum)\n",
    "\n",
    "\n",
    "with WorkGraph(\"AddMultiplyExtension\") as add_multiply_extended:\n",
    "    random_number = generate_random_number(minimum=1, maximum=10)\n",
    "    add_multiply_extended.extend(add_multiply)\n",
    "    add_multiply_extended.add_link(\n",
    "        random_number,\n",
    "        add_multiply_extended.tasks.multiply.inputs.y,\n",
    "    )\n",
    "\n",
    "add_multiply_extended.to_html()"
   ]
  },
  {
   "cell_type": "markdown",
   "id": "935727d5",
   "metadata": {},
   "source": [
    "Here we've authored a new workgraph as an extension of the first. The resultant workgraph reveals all tasks, with a clear dependency structure.\n",
    "\n",
    "## Adding a workgraph as a task of another\n",
    "\n",
    "Next, we will contrast this against adding the first workgraph as a task of the second. There are two ways to do this:\n",
    "\n",
    "1. Simply adding one workgraph as a task"
   ]
  },
  {
   "cell_type": "code",
   "execution_count": 6,
   "id": "5a524ee3",
   "metadata": {},
   "outputs": [
    {
     "data": {
      "text/html": [
       "\n",
       "        <iframe\n",
       "            width=\"100%\"\n",
       "            height=\"600px\"\n",
       "            src=\"html/AddMultiplyComposed.html\"\n",
       "            frameborder=\"0\"\n",
       "            allowfullscreen\n",
       "            \n",
       "        ></iframe>\n",
       "        "
      ],
      "text/plain": [
       "<IPython.lib.display.IFrame at 0x70666e9744f0>"
      ]
     },
     "execution_count": 6,
     "metadata": {},
     "output_type": "execute_result"
    }
   ],
   "source": [
    "with WorkGraph(\"AddMultiplyComposed\") as add_multiply_composed:\n",
    "    random_number = generate_random_number(minimum=1, maximum=10)\n",
    "    result = add_multiply(\n",
    "        inputs={\n",
    "            \"multiply\": {\n",
    "                \"y\": random_number,\n",
    "            },\n",
    "        }\n",
    "    )\n",
    "\n",
    "add_multiply_composed.to_html()"
   ]
  },
  {
   "cell_type": "markdown",
   "id": "6c1fcb5e",
   "metadata": {},
   "source": [
    "2. Adding a graph builder function as a task"
   ]
  },
  {
   "cell_type": "code",
   "execution_count": 7,
   "id": "48cc2865",
   "metadata": {},
   "outputs": [
    {
     "data": {
      "text/html": [
       "\n",
       "        <iframe\n",
       "            width=\"100%\"\n",
       "            height=\"600px\"\n",
       "            src=\"html/AddMultiplyGraphBuilder.html\"\n",
       "            frameborder=\"0\"\n",
       "            allowfullscreen\n",
       "            \n",
       "        ></iframe>\n",
       "        "
      ],
      "text/plain": [
       "<IPython.lib.display.IFrame at 0x7065f2ffb400>"
      ]
     },
     "execution_count": 7,
     "metadata": {},
     "output_type": "execute_result"
    }
   ],
   "source": [
    "@task.graph_builder\n",
    "def add_multiply_builder(x, y, z):\n",
    "    wg = WorkGraph(\"AddMultiply\")\n",
    "    add_task = wg.add_task(add, x=x, y=y, name=\"add\")\n",
    "    wg.add_task(multiply, x=add_task.outputs.result, y=z)\n",
    "    return wg\n",
    "\n",
    "\n",
    "with WorkGraph(\"AddMultiplyGraphBuilder\") as add_multiply_extended:\n",
    "    add_multiply_extended.add_task(generate_random_number)\n",
    "    add_multiply_task = add_multiply_extended.add_task(\n",
    "        add_multiply_builder,\n",
    "        z=add_multiply_extended.tasks.generate_random_number.outputs.result,\n",
    "    )\n",
    "\n",
    "add_multiply_extended.to_html()"
   ]
  },
  {
   "cell_type": "markdown",
   "id": "17d4996e",
   "metadata": {},
   "source": [
    "Here we've directly added the graph builder of the first workgraph as a task of the second. The resultant workgraph shows the random number generation task but does not show the internal dependency structure of the first workgraph. Instead, it is treated as a black box, with the output of the random number generator being passed to the graph builder input. The internal mechanism of the first workgraph is only made visible at runtime, when the first workgraph is executed.\n",
    "\n",
    "## Summary\n",
    "\n",
    "In this tutorial, we have seen how to combine workgraphs in two different ways: by extending a workgraph with the tasks of another, and by adding a workgraph as a black-box task. The choice between these methods depends on whether you want to see the internal structure of the combined workgraph or treat it as a black box, effectively trading off transparency and abstraction. Each method has its use cases, and understanding them will help you design more complex workflows in AiiDA."
   ]
  }
 ],
 "metadata": {
  "kernelspec": {
   "display_name": "workgraph",
   "language": "python",
   "name": "python3"
  },
  "language_info": {
   "codemirror_mode": {
    "name": "ipython",
    "version": 3
   },
   "file_extension": ".py",
   "mimetype": "text/x-python",
   "name": "python",
   "nbconvert_exporter": "python",
   "pygments_lexer": "ipython3",
   "version": "3.10.8"
  }
 },
 "nbformat": 4,
 "nbformat_minor": 5
}
