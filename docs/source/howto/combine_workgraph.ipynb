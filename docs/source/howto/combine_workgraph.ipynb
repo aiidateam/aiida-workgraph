{
 "cells": [
  {
   "cell_type": "markdown",
   "id": "22d177dc-6cfb-4de2-9509-f1eb45e10cf2",
   "metadata": {},
   "source": [
    "# Combine workgraphs\n",
    "\n",
    "## Introduction\n",
    "\n",
    "In designing a complex workflow, it is often desired to reuse smaller, reusable components. In the following sections, we'll create a simple workgraph and integrate it into another.\n",
    "\n",
    "## Define a workgraph\n",
    "\n",
    "To start, let's define a workgraph to add two numbers and multiply the sum by a third."
   ]
  },
  {
   "cell_type": "code",
   "execution_count": 1,
   "id": "630a1d6b",
   "metadata": {},
   "outputs": [
    {
     "data": {
      "text/html": [
       "\n",
       "        <iframe\n",
       "            width=\"100%\"\n",
       "            height=\"600px\"\n",
       "            src=\"html/AddMultiply.html\"\n",
       "            frameborder=\"0\"\n",
       "            allowfullscreen\n",
       "            \n",
       "        ></iframe>\n",
       "        "
      ],
      "text/plain": [
       "<IPython.lib.display.IFrame at 0x7cf8b44515d0>"
      ]
     },
     "execution_count": 1,
     "metadata": {},
     "output_type": "execute_result"
    }
   ],
   "source": [
    "from aiida_workgraph import WorkGraph, task\n",
    "\n",
    "\n",
    "with WorkGraph(\"AddMultiply\") as wg1:\n",
    "    wg1.inputs = dict.fromkeys([\"x\", \"y\", \"z\"])\n",
    "    wg1.outputs.result = (wg1.inputs.x + wg1.inputs.y) * wg1.inputs.z\n",
    "\n",
    "wg1.to_html()"
   ]
  },
  {
   "cell_type": "markdown",
   "id": "bb1c9851",
   "metadata": {},
   "source": [
    "We can see our two tasks, the linking of the sum to the first multiplication factor, and the assignment of the product as the final workgraph result.\n",
    "\n",
    "We're now ready to integrate our new **AddMultiply** workgraph into other workgraphs."
   ]
  },
  {
   "cell_type": "markdown",
   "id": "935727d5",
   "metadata": {},
   "source": [
    "## Add a workgraph as a task\n",
    "\n",
    "Adding a workgraph as a task of another is straightforward. We define a new workgraph, **AddMultiplyWorkGraph**, with a new task to generate a random number. We then call the **AddMultiply** workgraph as a task within this new workgraph, assigning the random number to the `z` input (the multiplication factor). Finally, we set the output of the **AddMultiply** workgraph as the output of the **AddMultiplyWorkGraph**."
   ]
  },
  {
   "cell_type": "code",
   "execution_count": 2,
   "id": "5a524ee3",
   "metadata": {},
   "outputs": [
    {
     "data": {
      "text/html": [
       "\n",
       "        <iframe\n",
       "            width=\"100%\"\n",
       "            height=\"600px\"\n",
       "            src=\"html/AddMultiplyComposed.html\"\n",
       "            frameborder=\"0\"\n",
       "            allowfullscreen\n",
       "            \n",
       "        ></iframe>\n",
       "        "
      ],
      "text/plain": [
       "<IPython.lib.display.IFrame at 0x7cf8b42f9180>"
      ]
     },
     "execution_count": 2,
     "metadata": {},
     "output_type": "execute_result"
    }
   ],
   "source": [
    "@task\n",
    "def generate_random_number(minimum, maximum):\n",
    "    import random\n",
    "\n",
    "    return random.randint(minimum, maximum)\n",
    "\n",
    "\n",
    "with WorkGraph(\"AddMultiplyComposed\") as wg2:\n",
    "    wg2.inputs = dict.fromkeys([\"min\", \"max\", \"x\", \"y\"])\n",
    "\n",
    "    outputs1 = generate_random_number(\n",
    "        minimum=wg2.inputs.min,\n",
    "        maximum=wg2.inputs.max,\n",
    "    )\n",
    "\n",
    "    outputs2 = wg1(\n",
    "        inputs={\n",
    "            \"x\": wg2.inputs.x,\n",
    "            \"y\": wg2.inputs.y,\n",
    "            \"z\": outputs1.result,\n",
    "        }\n",
    "    )\n",
    "\n",
    "    wg2.outputs.result = outputs2.result\n",
    "\n",
    "wg2.to_html()"
   ]
  },
  {
   "cell_type": "markdown",
   "id": "66fada4e",
   "metadata": {},
   "source": [
    "See how we're using **AddMultiply** as a regular task? It's as simple as that!\n",
    "\n",
    "Let's run our new workgraph and have a look at its result."
   ]
  },
  {
   "cell_type": "code",
   "execution_count": 3,
   "id": "a4880449",
   "metadata": {},
   "outputs": [
    {
     "name": "stderr",
     "output_type": "stream",
     "text": [
      "07/12/2025 03:25:58 PM <1139792> aiida.orm.nodes.process.workflow.workchain.WorkChainNode: [REPORT] [10360|WorkGraphEngine|continue_workgraph]: tasks ready to run: generate_random_number\n",
      "07/12/2025 03:25:58 PM <1139792> aiida.orm.nodes.process.workflow.workchain.WorkChainNode: [REPORT] [10360|WorkGraphEngine|update_task_state]: Task: generate_random_number, type: PyFunction, finished.\n",
      "07/12/2025 03:25:58 PM <1139792> aiida.orm.nodes.process.workflow.workchain.WorkChainNode: [REPORT] [10360|WorkGraphEngine|continue_workgraph]: tasks ready to run: workgraph_task\n",
      "07/12/2025 03:25:59 PM <1139792> aiida.orm.nodes.process.workflow.workchain.WorkChainNode: [REPORT] [10360|WorkGraphEngine|on_wait]: Process status: Waiting for child processes: 10365\n",
      "[REPORT] [10360|WorkGraphEngine|on_wait]: Process status: Waiting for child processes: 10365\n",
      "07/12/2025 03:25:59 PM <1139792> aiida.orm.nodes.process.workflow.workchain.WorkChainNode: [REPORT] [10365|WorkGraphEngine|continue_workgraph]: tasks ready to run: op_add\n",
      "[REPORT] [10365|WorkGraphEngine|continue_workgraph]: tasks ready to run: op_add\n",
      "[INFO] Executing process function, current stack status: 47 frames of 3000\n",
      "07/12/2025 03:25:59 PM <1139792> aiida.orm.nodes.process.workflow.workchain.WorkChainNode: [REPORT] [10365|WorkGraphEngine|update_task_state]: Task: op_add, type: PyFunction, finished.\n",
      "[REPORT] [10365|WorkGraphEngine|update_task_state]: Task: op_add, type: PyFunction, finished.\n",
      "07/12/2025 03:25:59 PM <1139792> aiida.orm.nodes.process.workflow.workchain.WorkChainNode: [REPORT] [10365|WorkGraphEngine|continue_workgraph]: tasks ready to run: op_mul\n",
      "[REPORT] [10365|WorkGraphEngine|continue_workgraph]: tasks ready to run: op_mul\n",
      "[INFO] Executing process function, current stack status: 50 frames of 3000\n",
      "07/12/2025 03:26:00 PM <1139792> aiida.orm.nodes.process.workflow.workchain.WorkChainNode: [REPORT] [10365|WorkGraphEngine|update_task_state]: Task: op_mul, type: PyFunction, finished.\n",
      "[REPORT] [10365|WorkGraphEngine|update_task_state]: Task: op_mul, type: PyFunction, finished.\n",
      "07/12/2025 03:26:00 PM <1139792> aiida.orm.nodes.process.workflow.workchain.WorkChainNode: [REPORT] [10365|WorkGraphEngine|continue_workgraph]: tasks ready to run: \n",
      "[REPORT] [10365|WorkGraphEngine|continue_workgraph]: tasks ready to run: \n",
      "07/12/2025 03:26:00 PM <1139792> aiida.orm.nodes.process.workflow.workchain.WorkChainNode: [REPORT] [10365|WorkGraphEngine|finalize]: Finalize workgraph.\n",
      "[REPORT] [10365|WorkGraphEngine|finalize]: Finalize workgraph.\n",
      "07/12/2025 03:26:00 PM <1139792> aiida.orm.nodes.process.workflow.workchain.WorkChainNode: [REPORT] [10360|WorkGraphEngine|update_task_state]: Task: workgraph_task, type: workgraph, finished.\n",
      "[REPORT] [10360|WorkGraphEngine|update_task_state]: Task: workgraph_task, type: workgraph, finished.\n",
      "07/12/2025 03:26:00 PM <1139792> aiida.orm.nodes.process.workflow.workchain.WorkChainNode: [REPORT] [10360|WorkGraphEngine|continue_workgraph]: tasks ready to run: \n",
      "[REPORT] [10360|WorkGraphEngine|continue_workgraph]: tasks ready to run: \n",
      "07/12/2025 03:26:00 PM <1139792> aiida.orm.nodes.process.workflow.workchain.WorkChainNode: [REPORT] [10360|WorkGraphEngine|finalize]: Finalize workgraph.\n",
      "[REPORT] [10360|WorkGraphEngine|finalize]: Finalize workgraph.\n"
     ]
    }
   ],
   "source": [
    "from aiida import load_profile\n",
    "\n",
    "_ = load_profile()\n",
    "\n",
    "wg2.run(\n",
    "    inputs={\n",
    "        \"graph_inputs\": {\n",
    "            \"min\": 1,\n",
    "            \"max\": 10,\n",
    "            \"x\": 1,\n",
    "            \"y\": 2,\n",
    "        }\n",
    "    }\n",
    ")"
   ]
  },
  {
   "cell_type": "markdown",
   "id": "cf60506c",
   "metadata": {},
   "source": [
    "Let's have a look at the provenance graph."
   ]
  },
  {
   "cell_type": "code",
   "execution_count": 5,
   "id": "fd35021b",
   "metadata": {},
   "outputs": [
    {
     "data": {
      "image/svg+xml": [
       "<?xml version=\"1.0\" encoding=\"UTF-8\" standalone=\"no\"?>\n",
       "<!DOCTYPE svg PUBLIC \"-//W3C//DTD SVG 1.1//EN\"\n",
       " \"http://www.w3.org/Graphics/SVG/1.1/DTD/svg11.dtd\">\n",
       "<!-- Generated by graphviz version 13.1.0 (20250701.1702)\n",
       " -->\n",
       "<!-- Pages: 1 -->\n",
       "<svg width=\"2374pt\" height=\"1064pt\"\n",
       " viewBox=\"0.00 0.00 2374.00 1064.00\" xmlns=\"http://www.w3.org/2000/svg\" xmlns:xlink=\"http://www.w3.org/1999/xlink\">\n",
       "<g id=\"graph0\" class=\"graph\" transform=\"scale(1 1) rotate(0) translate(4 1060.25)\">\n",
       "<polygon fill=\"white\" stroke=\"none\" points=\"-4,4 -4,-1060.25 2369.96,-1060.25 2369.96,4 -4,4\"/>\n",
       "<!-- N10360 -->\n",
       "<g id=\"node1\" class=\"node\">\n",
       "<title>N10360</title>\n",
       "<ellipse fill=\"#8cd499\" stroke=\"red\" stroke-width=\"6\" cx=\"953.52\" cy=\"-907.5\" rx=\"242.54\" ry=\"42.25\"/>\n",
       "<text xml:space=\"preserve\" text-anchor=\"middle\" x=\"953.52\" y=\"-920.07\" font-family=\"Times,serif\" font-size=\"14.00\">WorkGraph&lt;AddMultiplyComposed&gt; (10360)</text>\n",
       "<text xml:space=\"preserve\" text-anchor=\"middle\" x=\"953.52\" y=\"-902.82\" font-family=\"Times,serif\" font-size=\"14.00\">State: finished</text>\n",
       "<text xml:space=\"preserve\" text-anchor=\"middle\" x=\"953.52\" y=\"-885.57\" font-family=\"Times,serif\" font-size=\"14.00\">Exit Code: 0</text>\n",
       "</g>\n",
       "<!-- N10363 -->\n",
       "<g id=\"node6\" class=\"node\">\n",
       "<title>N10363</title>\n",
       "<polygon fill=\"#de707f\" fill-opacity=\"0.466667\" stroke=\"black\" stroke-width=\"0\" points=\"939.27,-794.75 675.77,-794.75 675.77,-735 939.27,-735 939.27,-794.75\"/>\n",
       "<text xml:space=\"preserve\" text-anchor=\"middle\" x=\"807.52\" y=\"-777.45\" font-family=\"Times,serif\" font-size=\"14.00\">generate_random_number (10363)</text>\n",
       "<text xml:space=\"preserve\" text-anchor=\"middle\" x=\"807.52\" y=\"-760.2\" font-family=\"Times,serif\" font-size=\"14.00\">State: finished</text>\n",
       "<text xml:space=\"preserve\" text-anchor=\"middle\" x=\"807.52\" y=\"-742.95\" font-family=\"Times,serif\" font-size=\"14.00\">Exit Code: 0</text>\n",
       "</g>\n",
       "<!-- N10360&#45;&gt;N10363 -->\n",
       "<g id=\"edge7\" class=\"edge\">\n",
       "<title>N10360&#45;&gt;N10363</title>\n",
       "<path fill=\"none\" stroke=\"#000000\" stroke-dasharray=\"1,5\" d=\"M908.52,-863.16C888.38,-843.76 864.88,-821.13 845.62,-802.57\"/>\n",
       "<polygon fill=\"#000000\" stroke=\"#000000\" points=\"848.09,-800.1 838.46,-795.68 843.24,-805.14 848.09,-800.1\"/>\n",
       "<text xml:space=\"preserve\" text-anchor=\"middle\" x=\"983.01\" y=\"-833.95\" font-family=\"Times,serif\" font-size=\"14.00\">CALL_CALC</text>\n",
       "<text xml:space=\"preserve\" text-anchor=\"middle\" x=\"983.01\" y=\"-816.7\" font-family=\"Times,serif\" font-size=\"14.00\">generate_random_number</text>\n",
       "</g>\n",
       "<!-- N10365 -->\n",
       "<g id=\"node8\" class=\"node\">\n",
       "<title>N10365</title>\n",
       "<ellipse fill=\"#8cd499\" stroke=\"black\" stroke-width=\"0\" cx=\"764.52\" cy=\"-515.75\" rx=\"190.03\" ry=\"42.25\"/>\n",
       "<text xml:space=\"preserve\" text-anchor=\"middle\" x=\"764.52\" y=\"-528.32\" font-family=\"Times,serif\" font-size=\"14.00\">WorkGraph&lt;AddMultiply&gt; (10365)</text>\n",
       "<text xml:space=\"preserve\" text-anchor=\"middle\" x=\"764.52\" y=\"-511.07\" font-family=\"Times,serif\" font-size=\"14.00\">State: finished</text>\n",
       "<text xml:space=\"preserve\" text-anchor=\"middle\" x=\"764.52\" y=\"-493.82\" font-family=\"Times,serif\" font-size=\"14.00\">Exit Code: 0</text>\n",
       "</g>\n",
       "<!-- N10360&#45;&gt;N10365 -->\n",
       "<g id=\"edge12\" class=\"edge\">\n",
       "<title>N10360&#45;&gt;N10365</title>\n",
       "<path fill=\"none\" stroke=\"#000000\" stroke-dasharray=\"1,5\" d=\"M1062.5,-867.14C1069.43,-861.37 1075.59,-854.78 1080.52,-847.25 1146.58,-746.37 1163.68,-668.66 1086.52,-576 1068.07,-553.85 1013.69,-539.95 954.74,-531.24\"/>\n",
       "<polygon fill=\"#000000\" stroke=\"#000000\" points=\"955.58,-527.82 945.19,-529.88 954.6,-534.75 955.58,-527.82\"/>\n",
       "<text xml:space=\"preserve\" text-anchor=\"middle\" x=\"1194.57\" y=\"-703.7\" font-family=\"Times,serif\" font-size=\"14.00\">CALL_WORK</text>\n",
       "<text xml:space=\"preserve\" text-anchor=\"middle\" x=\"1194.57\" y=\"-686.45\" font-family=\"Times,serif\" font-size=\"14.00\">workgraph_task</text>\n",
       "</g>\n",
       "<!-- N10356 -->\n",
       "<g id=\"node2\" class=\"node\">\n",
       "<title>N10356</title>\n",
       "<ellipse fill=\"#8cd499\" stroke=\"black\" stroke-width=\"0\" cx=\"67.52\" cy=\"-1038.25\" rx=\"67.52\" ry=\"18\"/>\n",
       "<text xml:space=\"preserve\" text-anchor=\"middle\" x=\"67.52\" y=\"-1033.57\" font-family=\"Times,serif\" font-size=\"14.00\">Int (10356)</text>\n",
       "</g>\n",
       "<!-- N10356&#45;&gt;N10360 -->\n",
       "<g id=\"edge4\" class=\"edge\">\n",
       "<title>N10356&#45;&gt;N10360</title>\n",
       "<path fill=\"none\" stroke=\"#000000\" stroke-dasharray=\"5,2\" d=\"M64.88,-1020.52C63.41,-1004.49 64.18,-980.86 78.52,-967.75 123.54,-926.58 455.13,-913.74 696.84,-909.89\"/>\n",
       "<polygon fill=\"#000000\" stroke=\"#000000\" points=\"696.82,-913.39 706.77,-909.73 696.71,-906.39 696.82,-913.39\"/>\n",
       "<text xml:space=\"preserve\" text-anchor=\"middle\" x=\"362.02\" y=\"-988.95\" font-family=\"Times,serif\" font-size=\"14.00\">INPUT_WORK</text>\n",
       "<text xml:space=\"preserve\" text-anchor=\"middle\" x=\"362.02\" y=\"-971.7\" font-family=\"Times,serif\" font-size=\"14.00\">workgraph_data__meta_sockets__graph_inputs__sockets__min__property__value</text>\n",
       "</g>\n",
       "<!-- N10357 -->\n",
       "<g id=\"node3\" class=\"node\">\n",
       "<title>N10357</title>\n",
       "<ellipse fill=\"#8cd499\" stroke=\"black\" stroke-width=\"0\" cx=\"657.52\" cy=\"-1038.25\" rx=\"67.52\" ry=\"18\"/>\n",
       "<text xml:space=\"preserve\" text-anchor=\"middle\" x=\"657.52\" y=\"-1033.57\" font-family=\"Times,serif\" font-size=\"14.00\">Int (10357)</text>\n",
       "</g>\n",
       "<!-- N10357&#45;&gt;N10360 -->\n",
       "<g id=\"edge1\" class=\"edge\">\n",
       "<title>N10357&#45;&gt;N10360</title>\n",
       "<path fill=\"none\" stroke=\"#000000\" stroke-dasharray=\"5,2\" d=\"M652.35,-1020.35C648.75,-1004.87 646.48,-982.23 658.52,-967.75 670.55,-953.28 699.17,-942.26 734.09,-933.9\"/>\n",
       "<polygon fill=\"#000000\" stroke=\"#000000\" points=\"734.68,-937.35 743.65,-931.72 733.12,-930.53 734.68,-937.35\"/>\n",
       "<text xml:space=\"preserve\" text-anchor=\"middle\" x=\"943.52\" y=\"-988.95\" font-family=\"Times,serif\" font-size=\"14.00\">INPUT_WORK</text>\n",
       "<text xml:space=\"preserve\" text-anchor=\"middle\" x=\"943.52\" y=\"-971.7\" font-family=\"Times,serif\" font-size=\"14.00\">workgraph_data__meta_sockets__graph_inputs__sockets__max__property__value</text>\n",
       "</g>\n",
       "<!-- N10358 -->\n",
       "<g id=\"node4\" class=\"node\">\n",
       "<title>N10358</title>\n",
       "<ellipse fill=\"#8cd499\" stroke=\"black\" stroke-width=\"0\" cx=\"1250.52\" cy=\"-1038.25\" rx=\"67.52\" ry=\"18\"/>\n",
       "<text xml:space=\"preserve\" text-anchor=\"middle\" x=\"1250.52\" y=\"-1033.57\" font-family=\"Times,serif\" font-size=\"14.00\">Int (10358)</text>\n",
       "</g>\n",
       "<!-- N10358&#45;&gt;N10360 -->\n",
       "<g id=\"edge3\" class=\"edge\">\n",
       "<title>N10358&#45;&gt;N10360</title>\n",
       "<path fill=\"none\" stroke=\"#000000\" stroke-dasharray=\"5,2\" d=\"M1249.82,-1020.41C1248.22,-1004.53 1243.31,-981.21 1228.52,-967.75 1215.66,-956.05 1188.68,-946.27 1156.43,-938.26\"/>\n",
       "<polygon fill=\"#000000\" stroke=\"#000000\" points=\"1157.31,-934.87 1146.77,-935.96 1155.69,-941.68 1157.31,-934.87\"/>\n",
       "<text xml:space=\"preserve\" text-anchor=\"middle\" x=\"1520.74\" y=\"-988.95\" font-family=\"Times,serif\" font-size=\"14.00\">INPUT_WORK</text>\n",
       "<text xml:space=\"preserve\" text-anchor=\"middle\" x=\"1520.74\" y=\"-971.7\" font-family=\"Times,serif\" font-size=\"14.00\">workgraph_data__meta_sockets__graph_inputs__sockets__x__property__value</text>\n",
       "</g>\n",
       "<!-- N10359 -->\n",
       "<g id=\"node5\" class=\"node\">\n",
       "<title>N10359</title>\n",
       "<ellipse fill=\"#8cd499\" stroke=\"black\" stroke-width=\"0\" cx=\"1821.52\" cy=\"-1038.25\" rx=\"67.52\" ry=\"18\"/>\n",
       "<text xml:space=\"preserve\" text-anchor=\"middle\" x=\"1821.52\" y=\"-1033.57\" font-family=\"Times,serif\" font-size=\"14.00\">Int (10359)</text>\n",
       "</g>\n",
       "<!-- N10359&#45;&gt;N10360 -->\n",
       "<g id=\"edge2\" class=\"edge\">\n",
       "<title>N10359&#45;&gt;N10360</title>\n",
       "<path fill=\"none\" stroke=\"#000000\" stroke-dasharray=\"5,2\" d=\"M1821.01,-1020.52C1819.54,-1004.26 1814.57,-980.23 1798.52,-967.75 1752.58,-932.06 1440.65,-917.85 1209.06,-912.21\"/>\n",
       "<polygon fill=\"#000000\" stroke=\"#000000\" points=\"1209.35,-908.71 1199.27,-911.97 1209.18,-915.71 1209.35,-908.71\"/>\n",
       "<text xml:space=\"preserve\" text-anchor=\"middle\" x=\"2091.84\" y=\"-988.95\" font-family=\"Times,serif\" font-size=\"14.00\">INPUT_WORK</text>\n",
       "<text xml:space=\"preserve\" text-anchor=\"middle\" x=\"2091.84\" y=\"-971.7\" font-family=\"Times,serif\" font-size=\"14.00\">workgraph_data__meta_sockets__graph_inputs__sockets__y__property__value</text>\n",
       "</g>\n",
       "<!-- N10364 -->\n",
       "<g id=\"node7\" class=\"node\">\n",
       "<title>N10364</title>\n",
       "<ellipse fill=\"#8cd499\" stroke=\"black\" stroke-width=\"0\" cx=\"537.52\" cy=\"-646.5\" rx=\"67.52\" ry=\"18\"/>\n",
       "<text xml:space=\"preserve\" text-anchor=\"middle\" x=\"537.52\" y=\"-641.82\" font-family=\"Times,serif\" font-size=\"14.00\">Int (10364)</text>\n",
       "</g>\n",
       "<!-- N10363&#45;&gt;N10364 -->\n",
       "<g id=\"edge9\" class=\"edge\">\n",
       "<title>N10363&#45;&gt;N10364</title>\n",
       "<path fill=\"none\" stroke=\"#000000\" d=\"M740.78,-735.11C691.11,-713.7 624.72,-685.08 581.54,-666.47\"/>\n",
       "<polygon fill=\"#000000\" stroke=\"#000000\" points=\"583.05,-663.31 572.48,-662.57 580.28,-669.74 583.05,-663.31\"/>\n",
       "<text xml:space=\"preserve\" text-anchor=\"middle\" x=\"726.7\" y=\"-703.7\" font-family=\"Times,serif\" font-size=\"14.00\">CREATE</text>\n",
       "<text xml:space=\"preserve\" text-anchor=\"middle\" x=\"726.7\" y=\"-686.45\" font-family=\"Times,serif\" font-size=\"14.00\">result</text>\n",
       "</g>\n",
       "<!-- N10364&#45;&gt;N10365 -->\n",
       "<g id=\"edge5\" class=\"edge\">\n",
       "<title>N10364&#45;&gt;N10365</title>\n",
       "<path fill=\"none\" stroke=\"#000000\" stroke-dasharray=\"5,2\" d=\"M532.69,-628.74C529.35,-613.36 527.36,-590.78 539.02,-576 548.88,-563.49 574,-553.07 604.06,-544.64\"/>\n",
       "<polygon fill=\"#000000\" stroke=\"#000000\" points=\"604.67,-548.1 613.42,-542.13 602.86,-541.34 604.67,-548.1\"/>\n",
       "<text xml:space=\"preserve\" text-anchor=\"middle\" x=\"812.77\" y=\"-597.2\" font-family=\"Times,serif\" font-size=\"14.00\">INPUT_WORK</text>\n",
       "<text xml:space=\"preserve\" text-anchor=\"middle\" x=\"812.77\" y=\"-579.95\" font-family=\"Times,serif\" font-size=\"14.00\">workgraph_data__meta_sockets__graph_inputs__sockets__z__property__value</text>\n",
       "</g>\n",
       "<!-- N10372 -->\n",
       "<g id=\"node11\" class=\"node\">\n",
       "<title>N10372</title>\n",
       "<polygon fill=\"#de707f\" fill-opacity=\"0.466667\" stroke=\"black\" stroke-width=\"0\" points=\"745.02,-166.25 618.02,-166.25 618.02,-106.5 745.02,-106.5 745.02,-166.25\"/>\n",
       "<text xml:space=\"preserve\" text-anchor=\"middle\" x=\"681.52\" y=\"-148.95\" font-family=\"Times,serif\" font-size=\"14.00\">op_mul (10372)</text>\n",
       "<text xml:space=\"preserve\" text-anchor=\"middle\" x=\"681.52\" y=\"-131.7\" font-family=\"Times,serif\" font-size=\"14.00\">State: finished</text>\n",
       "<text xml:space=\"preserve\" text-anchor=\"middle\" x=\"681.52\" y=\"-114.45\" font-family=\"Times,serif\" font-size=\"14.00\">Exit Code: 0</text>\n",
       "</g>\n",
       "<!-- N10364&#45;&gt;N10372 -->\n",
       "<g id=\"edge14\" class=\"edge\">\n",
       "<title>N10364&#45;&gt;N10372</title>\n",
       "<path fill=\"none\" stroke=\"#000000\" d=\"M530.36,-628.77C520.65,-604.54 504.52,-558.05 504.52,-516.75 504.52,-516.75 504.52,-516.75 504.52,-253.75 504.52,-201.61 558.81,-171.53 607.25,-155.06\"/>\n",
       "<polygon fill=\"#000000\" stroke=\"#000000\" points=\"608.23,-158.42 616.68,-152.02 606.08,-151.76 608.23,-158.42\"/>\n",
       "<text xml:space=\"preserve\" text-anchor=\"middle\" x=\"570.52\" y=\"-377.07\" font-family=\"Times,serif\" font-size=\"14.00\">INPUT_CALC</text>\n",
       "<text xml:space=\"preserve\" text-anchor=\"middle\" x=\"570.52\" y=\"-359.82\" font-family=\"Times,serif\" font-size=\"14.00\">function_inputs__y</text>\n",
       "</g>\n",
       "<!-- N10368 -->\n",
       "<g id=\"node9\" class=\"node\">\n",
       "<title>N10368</title>\n",
       "<polygon fill=\"#de707f\" fill-opacity=\"0.466667\" stroke=\"black\" stroke-width=\"0\" points=\"831.64,-403 705.39,-403 705.39,-343.25 831.64,-343.25 831.64,-403\"/>\n",
       "<text xml:space=\"preserve\" text-anchor=\"middle\" x=\"768.52\" y=\"-385.7\" font-family=\"Times,serif\" font-size=\"14.00\">op_add (10368)</text>\n",
       "<text xml:space=\"preserve\" text-anchor=\"middle\" x=\"768.52\" y=\"-368.45\" font-family=\"Times,serif\" font-size=\"14.00\">State: finished</text>\n",
       "<text xml:space=\"preserve\" text-anchor=\"middle\" x=\"768.52\" y=\"-351.2\" font-family=\"Times,serif\" font-size=\"14.00\">Exit Code: 0</text>\n",
       "</g>\n",
       "<!-- N10365&#45;&gt;N10368 -->\n",
       "<g id=\"edge8\" class=\"edge\">\n",
       "<title>N10365&#45;&gt;N10368</title>\n",
       "<path fill=\"none\" stroke=\"#000000\" stroke-dasharray=\"1,5\" d=\"M764.66,-473.67C764.83,-457.28 765.15,-438.24 765.77,-421 765.85,-418.8 765.94,-416.54 766.04,-414.27\"/>\n",
       "<polygon fill=\"#000000\" stroke=\"#000000\" points=\"769.53,-414.55 766.55,-404.38 762.54,-414.19 769.53,-414.55\"/>\n",
       "<text xml:space=\"preserve\" text-anchor=\"middle\" x=\"808.14\" y=\"-442.2\" font-family=\"Times,serif\" font-size=\"14.00\">CALL_CALC</text>\n",
       "<text xml:space=\"preserve\" text-anchor=\"middle\" x=\"808.14\" y=\"-424.95\" font-family=\"Times,serif\" font-size=\"14.00\">op_add</text>\n",
       "</g>\n",
       "<!-- N10365&#45;&gt;N10372 -->\n",
       "<g id=\"edge13\" class=\"edge\">\n",
       "<title>N10365&#45;&gt;N10372</title>\n",
       "<path fill=\"none\" stroke=\"#000000\" stroke-dasharray=\"1,5\" d=\"M736.02,-474.03C722.6,-453.46 707.24,-427.68 696.52,-403 682.22,-370.09 679.65,-360.8 674.77,-325.25 667.81,-274.55 671.91,-215.49 676.13,-177.32\"/>\n",
       "<polygon fill=\"#000000\" stroke=\"#000000\" points=\"679.57,-178.02 677.25,-167.68 672.62,-177.2 679.57,-178.02\"/>\n",
       "<text xml:space=\"preserve\" text-anchor=\"middle\" x=\"717.14\" y=\"-311.95\" font-family=\"Times,serif\" font-size=\"14.00\">CALL_CALC</text>\n",
       "<text xml:space=\"preserve\" text-anchor=\"middle\" x=\"717.14\" y=\"-294.7\" font-family=\"Times,serif\" font-size=\"14.00\">op_mul</text>\n",
       "</g>\n",
       "<!-- N10373 -->\n",
       "<g id=\"node12\" class=\"node\">\n",
       "<title>N10373</title>\n",
       "<ellipse fill=\"#8cd499\" stroke=\"black\" stroke-width=\"0\" cx=\"790.52\" cy=\"-18\" rx=\"67.52\" ry=\"18\"/>\n",
       "<text xml:space=\"preserve\" text-anchor=\"middle\" x=\"790.52\" y=\"-13.32\" font-family=\"Times,serif\" font-size=\"14.00\">Int (10373)</text>\n",
       "</g>\n",
       "<!-- N10365&#45;&gt;N10373 -->\n",
       "<g id=\"edge6\" class=\"edge\">\n",
       "<title>N10365&#45;&gt;N10373</title>\n",
       "<path fill=\"none\" stroke=\"#000000\" stroke-dasharray=\"5,2\" d=\"M832.05,-476.6C839.13,-470.33 845.54,-463.29 850.52,-455.5 870.29,-424.58 864.52,-410.82 864.52,-374.12 864.52,-374.12 864.52,-374.12 864.52,-135.38 864.52,-99.02 838.48,-64.85 817.3,-43.06\"/>\n",
       "<polygon fill=\"#000000\" stroke=\"#000000\" points=\"819.85,-40.66 810.27,-36.13 814.93,-45.64 819.85,-40.66\"/>\n",
       "<text xml:space=\"preserve\" text-anchor=\"middle\" x=\"896.77\" y=\"-258.7\" font-family=\"Times,serif\" font-size=\"14.00\">RETURN</text>\n",
       "<text xml:space=\"preserve\" text-anchor=\"middle\" x=\"896.77\" y=\"-241.45\" font-family=\"Times,serif\" font-size=\"14.00\">result</text>\n",
       "</g>\n",
       "<!-- N10369 -->\n",
       "<g id=\"node10\" class=\"node\">\n",
       "<title>N10369</title>\n",
       "<ellipse fill=\"#8cd499\" stroke=\"black\" stroke-width=\"0\" cx=\"760.52\" cy=\"-254.75\" rx=\"67.52\" ry=\"18\"/>\n",
       "<text xml:space=\"preserve\" text-anchor=\"middle\" x=\"760.52\" y=\"-250.07\" font-family=\"Times,serif\" font-size=\"14.00\">Int (10369)</text>\n",
       "</g>\n",
       "<!-- N10368&#45;&gt;N10369 -->\n",
       "<g id=\"edge11\" class=\"edge\">\n",
       "<title>N10368&#45;&gt;N10369</title>\n",
       "<path fill=\"none\" stroke=\"#000000\" d=\"M766.54,-343.36C765.29,-325.22 763.69,-301.92 762.45,-283.9\"/>\n",
       "<polygon fill=\"#000000\" stroke=\"#000000\" points=\"765.96,-283.92 761.78,-274.18 758.98,-284.4 765.96,-283.92\"/>\n",
       "<text xml:space=\"preserve\" text-anchor=\"middle\" x=\"795.23\" y=\"-311.95\" font-family=\"Times,serif\" font-size=\"14.00\">CREATE</text>\n",
       "<text xml:space=\"preserve\" text-anchor=\"middle\" x=\"795.23\" y=\"-294.7\" font-family=\"Times,serif\" font-size=\"14.00\">result</text>\n",
       "</g>\n",
       "<!-- N10369&#45;&gt;N10372 -->\n",
       "<g id=\"edge15\" class=\"edge\">\n",
       "<title>N10369&#45;&gt;N10372</title>\n",
       "<path fill=\"none\" stroke=\"#000000\" d=\"M737.85,-237.97C731.03,-232.45 723.93,-225.85 718.52,-218.75 708.92,-206.16 701.1,-190.69 695.16,-176.62\"/>\n",
       "<polygon fill=\"#000000\" stroke=\"#000000\" points=\"698.52,-175.6 691.55,-167.62 692.02,-178.2 698.52,-175.6\"/>\n",
       "<text xml:space=\"preserve\" text-anchor=\"middle\" x=\"784.52\" y=\"-205.45\" font-family=\"Times,serif\" font-size=\"14.00\">INPUT_CALC</text>\n",
       "<text xml:space=\"preserve\" text-anchor=\"middle\" x=\"784.52\" y=\"-188.2\" font-family=\"Times,serif\" font-size=\"14.00\">function_inputs__x</text>\n",
       "</g>\n",
       "<!-- N10372&#45;&gt;N10373 -->\n",
       "<g id=\"edge10\" class=\"edge\">\n",
       "<title>N10372&#45;&gt;N10373</title>\n",
       "<path fill=\"none\" stroke=\"#000000\" d=\"M708.46,-106.61C726.64,-87.2 750.37,-61.87 767.63,-43.44\"/>\n",
       "<polygon fill=\"#000000\" stroke=\"#000000\" points=\"769.98,-46.05 774.26,-36.36 764.87,-41.26 769.98,-46.05\"/>\n",
       "<text xml:space=\"preserve\" text-anchor=\"middle\" x=\"785.26\" y=\"-75.2\" font-family=\"Times,serif\" font-size=\"14.00\">CREATE</text>\n",
       "<text xml:space=\"preserve\" text-anchor=\"middle\" x=\"785.26\" y=\"-57.95\" font-family=\"Times,serif\" font-size=\"14.00\">result</text>\n",
       "</g>\n",
       "</g>\n",
       "</svg>\n"
      ],
      "text/plain": [
       "<graphviz.graphs.Digraph at 0x7cf8b16e1d50>"
      ]
     },
     "execution_count": 5,
     "metadata": {},
     "output_type": "execute_result"
    }
   ],
   "source": [
    "from aiida_workgraph.utils import generate_node_graph\n",
    "\n",
    "generate_node_graph(wg2.pk)"
   ]
  },
  {
   "cell_type": "markdown",
   "id": "1a1a12af",
   "metadata": {},
   "source": [
    "## Making it reusable\n",
    "\n",
    "Now, how do we make this reusable? Simple! We just wrap **AddMultiply** in a generating function."
   ]
  },
  {
   "cell_type": "code",
   "execution_count": 6,
   "id": "ff1e731d",
   "metadata": {},
   "outputs": [],
   "source": [
    "def generate_add_multiply_workgraph():\n",
    "    with WorkGraph(\"AddMultiply\") as wg:\n",
    "        wg.inputs = dict.fromkeys([\"x\", \"y\", \"z\"])\n",
    "        wg.outputs.result = (wg.inputs.x + wg.inputs.y) * wg.inputs.z\n",
    "    return wg"
   ]
  },
  {
   "cell_type": "markdown",
   "id": "232fc620",
   "metadata": {},
   "source": [
    "Now we can generate one anytime we need an **AddMultiply** workgraph in our workflows."
   ]
  },
  {
   "cell_type": "markdown",
   "id": "17d4996e",
   "metadata": {},
   "source": [
    "## Summary\n",
    "\n",
    "Combining workgraphs is a straightforward process that allows for a modular approach to workflow design. By defining reusable components, we can easily integrate them into larger workflows, enhancing maintainability and readability. The example provided demonstrates how to create a simple workgraph and incorporate it into another, showcasing the flexibility of the AiiDA WorkGraph framework."
   ]
  },
  {
   "cell_type": "markdown",
   "id": "ba29ad9f",
   "metadata": {},
   "source": []
  }
 ],
 "metadata": {
  "kernelspec": {
   "display_name": "workgraph",
   "language": "python",
   "name": "python3"
  },
  "language_info": {
   "codemirror_mode": {
    "name": "ipython",
    "version": 3
   },
   "file_extension": ".py",
   "mimetype": "text/x-python",
   "name": "python",
   "nbconvert_exporter": "python",
   "pygments_lexer": "ipython3",
   "version": "3.10.14"
  }
 },
 "nbformat": 4,
 "nbformat_minor": 5
}
