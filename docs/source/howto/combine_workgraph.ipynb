{
 "cells": [
  {
   "cell_type": "markdown",
   "id": "22d177dc-6cfb-4de2-9509-f1eb45e10cf2",
   "metadata": {},
   "source": [
    "# Combine workgraphs\n",
    "\n",
    "## Introduction\n",
    "\n",
    "In designing a complex workflow, it is often desired to reuse smaller, reusable components. In the following sections, we'll create a simple workgraph and integrate it into another.\n",
    "\n",
    "## Define a workgraph\n",
    "\n",
    "To start, let's define a workgraph to add two numbers and multiply the sum by a third."
   ]
  },
  {
   "cell_type": "code",
   "execution_count": 1,
   "id": "630a1d6b",
   "metadata": {},
   "outputs": [
    {
     "data": {
      "text/html": [
       "\n",
       "        <iframe\n",
       "            width=\"100%\"\n",
       "            height=\"600px\"\n",
       "            src=\"html/AddMultiply.html\"\n",
       "            frameborder=\"0\"\n",
       "            allowfullscreen\n",
       "            \n",
       "        ></iframe>\n",
       "        "
      ],
      "text/plain": [
       "<IPython.lib.display.IFrame at 0x74ee71a8d8a0>"
      ]
     },
     "execution_count": 1,
     "metadata": {},
     "output_type": "execute_result"
    }
   ],
   "source": [
    "from aiida_workgraph import WorkGraph, task\n",
    "\n",
    "\n",
    "with WorkGraph(\"AddMultiply\") as wg1:\n",
    "    wg1.inputs = dict.fromkeys([\"x\", \"y\", \"z\"])\n",
    "    wg1.outputs.result = (wg1.inputs.x + wg1.inputs.y) * wg1.inputs.z\n",
    "\n",
    "wg1.to_html()"
   ]
  },
  {
   "cell_type": "markdown",
   "id": "bb1c9851",
   "metadata": {},
   "source": [
    "We can see our two tasks, the linking of the sum to the first multiplication factor, and the assignment of the product as the final workgraph result.\n",
    "\n",
    "We're now ready to integrate our new **AddMultiply** workgraph into other workgraphs."
   ]
  },
  {
   "cell_type": "markdown",
   "id": "935727d5",
   "metadata": {},
   "source": [
    "## Add a workgraph as a task\n",
    "\n",
    "Adding a workgraph as a task of another is straightforward. We define a new workgraph, **AddMultiplyWorkGraph**, with a new task to generate a random number. We then call the **AddMultiply** workgraph as a task within this new workgraph, assigning the random number to the `z` input (the multiplication factor). Finally, we set the output of the **AddMultiply** workgraph as the output of the **AddMultiplyWorkGraph**."
   ]
  },
  {
   "cell_type": "code",
   "execution_count": 2,
   "id": "5a524ee3",
   "metadata": {},
   "outputs": [
    {
     "data": {
      "text/html": [
       "\n",
       "        <iframe\n",
       "            width=\"100%\"\n",
       "            height=\"600px\"\n",
       "            src=\"html/AddMultiplyComposed.html\"\n",
       "            frameborder=\"0\"\n",
       "            allowfullscreen\n",
       "            \n",
       "        ></iframe>\n",
       "        "
      ],
      "text/plain": [
       "<IPython.lib.display.IFrame at 0x74ee71ad06d0>"
      ]
     },
     "execution_count": 2,
     "metadata": {},
     "output_type": "execute_result"
    }
   ],
   "source": [
    "@task\n",
    "def generate_random_number(minimum, maximum):\n",
    "    import random\n",
    "\n",
    "    return random.randint(minimum, maximum)\n",
    "\n",
    "\n",
    "with WorkGraph(\"AddMultiplyComposed\") as wg2:\n",
    "    wg2.inputs = dict.fromkeys([\"min\", \"max\", \"x\", \"y\"])\n",
    "\n",
    "    outputs1 = generate_random_number(\n",
    "        minimum=wg2.inputs.min,\n",
    "        maximum=wg2.inputs.max,\n",
    "    )\n",
    "\n",
    "    outputs2 = wg1(\n",
    "        inputs={\n",
    "            \"x\": wg2.inputs.x,\n",
    "            \"y\": wg2.inputs.y,\n",
    "            \"z\": outputs1.result,\n",
    "        }\n",
    "    )\n",
    "\n",
    "    wg2.outputs.result = outputs2.result\n",
    "\n",
    "wg2.to_html()"
   ]
  },
  {
   "cell_type": "markdown",
   "id": "66fada4e",
   "metadata": {},
   "source": [
    "See how we're using **AddMultiply** as a regular task? It's as simple as that!\n",
    "\n",
    "Let's run our new workgraph and have a look at its result."
   ]
  },
  {
   "cell_type": "code",
   "execution_count": 3,
   "id": "a4880449",
   "metadata": {},
   "outputs": [
    {
     "name": "stderr",
     "output_type": "stream",
     "text": [
      "07/12/2025 06:46:02 PM <1193221> aiida.orm.nodes.process.workflow.workchain.WorkChainNode: [REPORT] [10450|WorkGraphEngine|continue_workgraph]: tasks ready to run: generate_random_number\n",
      "07/12/2025 06:46:02 PM <1193221> aiida.orm.nodes.process.workflow.workchain.WorkChainNode: [REPORT] [10450|WorkGraphEngine|update_task_state]: Task: generate_random_number, type: PyFunction, finished.\n",
      "07/12/2025 06:46:02 PM <1193221> aiida.orm.nodes.process.workflow.workchain.WorkChainNode: [REPORT] [10450|WorkGraphEngine|continue_workgraph]: tasks ready to run: workgraph_task\n",
      "07/12/2025 06:46:03 PM <1193221> aiida.orm.nodes.process.workflow.workchain.WorkChainNode: [REPORT] [10450|WorkGraphEngine|on_wait]: Process status: Waiting for child processes: 10455\n",
      "[REPORT] [10450|WorkGraphEngine|on_wait]: Process status: Waiting for child processes: 10455\n",
      "07/12/2025 06:46:03 PM <1193221> aiida.orm.nodes.process.workflow.workchain.WorkChainNode: [REPORT] [10455|WorkGraphEngine|continue_workgraph]: tasks ready to run: op_add\n",
      "[REPORT] [10455|WorkGraphEngine|continue_workgraph]: tasks ready to run: op_add\n",
      "[INFO] Executing process function, current stack status: 47 frames of 3000\n",
      "07/12/2025 06:46:03 PM <1193221> aiida.orm.nodes.process.workflow.workchain.WorkChainNode: [REPORT] [10455|WorkGraphEngine|update_task_state]: Task: op_add, type: PyFunction, finished.\n",
      "[REPORT] [10455|WorkGraphEngine|update_task_state]: Task: op_add, type: PyFunction, finished.\n",
      "07/12/2025 06:46:03 PM <1193221> aiida.orm.nodes.process.workflow.workchain.WorkChainNode: [REPORT] [10455|WorkGraphEngine|continue_workgraph]: tasks ready to run: op_mul\n",
      "[REPORT] [10455|WorkGraphEngine|continue_workgraph]: tasks ready to run: op_mul\n",
      "[INFO] Executing process function, current stack status: 50 frames of 3000\n",
      "07/12/2025 06:46:04 PM <1193221> aiida.orm.nodes.process.workflow.workchain.WorkChainNode: [REPORT] [10455|WorkGraphEngine|update_task_state]: Task: op_mul, type: PyFunction, finished.\n",
      "[REPORT] [10455|WorkGraphEngine|update_task_state]: Task: op_mul, type: PyFunction, finished.\n",
      "07/12/2025 06:46:04 PM <1193221> aiida.orm.nodes.process.workflow.workchain.WorkChainNode: [REPORT] [10455|WorkGraphEngine|continue_workgraph]: tasks ready to run: \n",
      "[REPORT] [10455|WorkGraphEngine|continue_workgraph]: tasks ready to run: \n",
      "07/12/2025 06:46:04 PM <1193221> aiida.orm.nodes.process.workflow.workchain.WorkChainNode: [REPORT] [10455|WorkGraphEngine|finalize]: Finalize workgraph.\n",
      "[REPORT] [10455|WorkGraphEngine|finalize]: Finalize workgraph.\n",
      "07/12/2025 06:46:04 PM <1193221> aiida.orm.nodes.process.workflow.workchain.WorkChainNode: [REPORT] [10450|WorkGraphEngine|update_task_state]: Task: workgraph_task, type: workgraph, finished.\n",
      "[REPORT] [10450|WorkGraphEngine|update_task_state]: Task: workgraph_task, type: workgraph, finished.\n",
      "07/12/2025 06:46:04 PM <1193221> aiida.orm.nodes.process.workflow.workchain.WorkChainNode: [REPORT] [10450|WorkGraphEngine|continue_workgraph]: tasks ready to run: \n",
      "[REPORT] [10450|WorkGraphEngine|continue_workgraph]: tasks ready to run: \n",
      "07/12/2025 06:46:04 PM <1193221> aiida.orm.nodes.process.workflow.workchain.WorkChainNode: [REPORT] [10450|WorkGraphEngine|finalize]: Finalize workgraph.\n",
      "[REPORT] [10450|WorkGraphEngine|finalize]: Finalize workgraph.\n"
     ]
    }
   ],
   "source": [
    "from aiida import load_profile\n",
    "\n",
    "_ = load_profile()\n",
    "\n",
    "wg2.run(\n",
    "    inputs={\n",
    "        \"graph_inputs\": {\n",
    "            \"min\": 1,\n",
    "            \"max\": 10,\n",
    "            \"x\": 1,\n",
    "            \"y\": 2,\n",
    "        }\n",
    "    }\n",
    ")"
   ]
  },
  {
   "cell_type": "code",
   "execution_count": 4,
   "id": "59e5f9af",
   "metadata": {},
   "outputs": [
    {
     "name": "stdout",
     "output_type": "stream",
     "text": [
      "Randomly generated number: 6\n",
      "Final result: 18 = (1 + 2) * 6\n"
     ]
    }
   ],
   "source": [
    "random_number_data_node = wg2.tasks.generate_random_number.outputs.result.value\n",
    "final_result_data_node = wg2.outputs.result.value\n",
    "\n",
    "print(f\"Randomly generated number: {random_number_data_node.value}\")\n",
    "print(f\"Final result: {final_result_data_node.value} = (1 + 2) * {random_number_data_node.value}\")"
   ]
  },
  {
   "cell_type": "markdown",
   "id": "cf60506c",
   "metadata": {},
   "source": [
    "Let's have a look at the provenance graph."
   ]
  },
  {
   "cell_type": "code",
   "execution_count": 5,
   "id": "fd35021b",
   "metadata": {},
   "outputs": [
    {
     "data": {
      "image/svg+xml": [
       "<?xml version=\"1.0\" encoding=\"UTF-8\" standalone=\"no\"?>\n",
       "<!DOCTYPE svg PUBLIC \"-//W3C//DTD SVG 1.1//EN\"\n",
       " \"http://www.w3.org/Graphics/SVG/1.1/DTD/svg11.dtd\">\n",
       "<!-- Generated by graphviz version 13.1.0 (20250701.1702)\n",
       " -->\n",
       "<!-- Pages: 1 -->\n",
       "<svg width=\"2374pt\" height=\"1064pt\"\n",
       " viewBox=\"0.00 0.00 2374.00 1064.00\" xmlns=\"http://www.w3.org/2000/svg\" xmlns:xlink=\"http://www.w3.org/1999/xlink\">\n",
       "<g id=\"graph0\" class=\"graph\" transform=\"scale(1 1) rotate(0) translate(4 1060.25)\">\n",
       "<polygon fill=\"white\" stroke=\"none\" points=\"-4,4 -4,-1060.25 2369.96,-1060.25 2369.96,4 -4,4\"/>\n",
       "<!-- N10450 -->\n",
       "<g id=\"node1\" class=\"node\">\n",
       "<title>N10450</title>\n",
       "<ellipse fill=\"#8cd499\" stroke=\"red\" stroke-width=\"6\" cx=\"953.52\" cy=\"-907.5\" rx=\"242.54\" ry=\"42.25\"/>\n",
       "<text xml:space=\"preserve\" text-anchor=\"middle\" x=\"953.52\" y=\"-920.07\" font-family=\"Times,serif\" font-size=\"14.00\">WorkGraph&lt;AddMultiplyComposed&gt; (10450)</text>\n",
       "<text xml:space=\"preserve\" text-anchor=\"middle\" x=\"953.52\" y=\"-902.82\" font-family=\"Times,serif\" font-size=\"14.00\">State: finished</text>\n",
       "<text xml:space=\"preserve\" text-anchor=\"middle\" x=\"953.52\" y=\"-885.57\" font-family=\"Times,serif\" font-size=\"14.00\">Exit Code: 0</text>\n",
       "</g>\n",
       "<!-- N10453 -->\n",
       "<g id=\"node6\" class=\"node\">\n",
       "<title>N10453</title>\n",
       "<polygon fill=\"#de707f\" fill-opacity=\"0.466667\" stroke=\"black\" stroke-width=\"0\" points=\"1085.27,-794.75 821.77,-794.75 821.77,-735 1085.27,-735 1085.27,-794.75\"/>\n",
       "<text xml:space=\"preserve\" text-anchor=\"middle\" x=\"953.52\" y=\"-777.45\" font-family=\"Times,serif\" font-size=\"14.00\">generate_random_number (10453)</text>\n",
       "<text xml:space=\"preserve\" text-anchor=\"middle\" x=\"953.52\" y=\"-760.2\" font-family=\"Times,serif\" font-size=\"14.00\">State: finished</text>\n",
       "<text xml:space=\"preserve\" text-anchor=\"middle\" x=\"953.52\" y=\"-742.95\" font-family=\"Times,serif\" font-size=\"14.00\">Exit Code: 0</text>\n",
       "</g>\n",
       "<!-- N10450&#45;&gt;N10453 -->\n",
       "<g id=\"edge10\" class=\"edge\">\n",
       "<title>N10450&#45;&gt;N10453</title>\n",
       "<path fill=\"none\" stroke=\"#000000\" stroke-dasharray=\"1,5\" d=\"M953.52,-862.39C953.52,-844.37 953.52,-823.67 953.52,-806.08\"/>\n",
       "<polygon fill=\"#000000\" stroke=\"#000000\" points=\"957.02,-806.26 953.52,-796.26 950.02,-806.26 957.02,-806.26\"/>\n",
       "<text xml:space=\"preserve\" text-anchor=\"middle\" x=\"1047.27\" y=\"-833.95\" font-family=\"Times,serif\" font-size=\"14.00\">CALL_CALC</text>\n",
       "<text xml:space=\"preserve\" text-anchor=\"middle\" x=\"1047.27\" y=\"-816.7\" font-family=\"Times,serif\" font-size=\"14.00\">generate_random_number</text>\n",
       "</g>\n",
       "<!-- N10455 -->\n",
       "<g id=\"node8\" class=\"node\">\n",
       "<title>N10455</title>\n",
       "<ellipse fill=\"#8cd499\" stroke=\"black\" stroke-width=\"0\" cx=\"738.52\" cy=\"-515.75\" rx=\"190.03\" ry=\"42.25\"/>\n",
       "<text xml:space=\"preserve\" text-anchor=\"middle\" x=\"738.52\" y=\"-528.32\" font-family=\"Times,serif\" font-size=\"14.00\">WorkGraph&lt;AddMultiply&gt; (10455)</text>\n",
       "<text xml:space=\"preserve\" text-anchor=\"middle\" x=\"738.52\" y=\"-511.07\" font-family=\"Times,serif\" font-size=\"14.00\">State: finished</text>\n",
       "<text xml:space=\"preserve\" text-anchor=\"middle\" x=\"738.52\" y=\"-493.82\" font-family=\"Times,serif\" font-size=\"14.00\">Exit Code: 0</text>\n",
       "</g>\n",
       "<!-- N10450&#45;&gt;N10455 -->\n",
       "<g id=\"edge11\" class=\"edge\">\n",
       "<title>N10450&#45;&gt;N10455</title>\n",
       "<path fill=\"none\" stroke=\"#000000\" stroke-dasharray=\"1,5\" d=\"M875.06,-864.73C793.31,-816.12 670.34,-727.37 620.52,-610.5 614.5,-596.39 612.47,-589.05 620.52,-576 624.27,-569.92 628.86,-564.44 634.02,-559.51\"/>\n",
       "<polygon fill=\"#000000\" stroke=\"#000000\" points=\"636.1,-562.34 641.42,-553.18 631.55,-557.02 636.1,-562.34\"/>\n",
       "<text xml:space=\"preserve\" text-anchor=\"middle\" x=\"745.02\" y=\"-703.7\" font-family=\"Times,serif\" font-size=\"14.00\">CALL_WORK</text>\n",
       "<text xml:space=\"preserve\" text-anchor=\"middle\" x=\"745.02\" y=\"-686.45\" font-family=\"Times,serif\" font-size=\"14.00\">workgraph_task</text>\n",
       "</g>\n",
       "<!-- N10463 -->\n",
       "<g id=\"node12\" class=\"node\">\n",
       "<title>N10463</title>\n",
       "<ellipse fill=\"#8cd499\" stroke=\"black\" stroke-width=\"0\" cx=\"939.52\" cy=\"-18\" rx=\"67.52\" ry=\"18\"/>\n",
       "<text xml:space=\"preserve\" text-anchor=\"middle\" x=\"939.52\" y=\"-13.32\" font-family=\"Times,serif\" font-size=\"14.00\">Int (10463)</text>\n",
       "</g>\n",
       "<!-- N10450&#45;&gt;N10463 -->\n",
       "<g id=\"edge16\" class=\"edge\">\n",
       "<title>N10450&#45;&gt;N10463</title>\n",
       "<path fill=\"none\" stroke=\"#000000\" stroke-dasharray=\"5,2\" d=\"M1131.88,-876.4C1238.54,-853.16 1353.52,-816.39 1353.52,-765.87 1353.52,-765.87 1353.52,-765.87 1353.52,-135.38 1353.52,-65.76 1133.83,-35.81 1014.52,-24.68\"/>\n",
       "<polygon fill=\"#000000\" stroke=\"#000000\" points=\"1015.08,-21.22 1004.8,-23.8 1014.45,-28.19 1015.08,-21.22\"/>\n",
       "<text xml:space=\"preserve\" text-anchor=\"middle\" x=\"1385.77\" y=\"-442.2\" font-family=\"Times,serif\" font-size=\"14.00\">RETURN</text>\n",
       "<text xml:space=\"preserve\" text-anchor=\"middle\" x=\"1385.77\" y=\"-424.95\" font-family=\"Times,serif\" font-size=\"14.00\">result</text>\n",
       "</g>\n",
       "<!-- N10446 -->\n",
       "<g id=\"node2\" class=\"node\">\n",
       "<title>N10446</title>\n",
       "<ellipse fill=\"#8cd499\" stroke=\"black\" stroke-width=\"0\" cx=\"67.52\" cy=\"-1038.25\" rx=\"67.52\" ry=\"18\"/>\n",
       "<text xml:space=\"preserve\" text-anchor=\"middle\" x=\"67.52\" y=\"-1033.57\" font-family=\"Times,serif\" font-size=\"14.00\">Int (10446)</text>\n",
       "</g>\n",
       "<!-- N10446&#45;&gt;N10450 -->\n",
       "<g id=\"edge3\" class=\"edge\">\n",
       "<title>N10446&#45;&gt;N10450</title>\n",
       "<path fill=\"none\" stroke=\"#000000\" stroke-dasharray=\"5,2\" d=\"M64.88,-1020.52C63.41,-1004.49 64.18,-980.86 78.52,-967.75 123.54,-926.58 455.13,-913.74 696.84,-909.89\"/>\n",
       "<polygon fill=\"#000000\" stroke=\"#000000\" points=\"696.82,-913.39 706.77,-909.73 696.71,-906.39 696.82,-913.39\"/>\n",
       "<text xml:space=\"preserve\" text-anchor=\"middle\" x=\"362.02\" y=\"-988.95\" font-family=\"Times,serif\" font-size=\"14.00\">INPUT_WORK</text>\n",
       "<text xml:space=\"preserve\" text-anchor=\"middle\" x=\"362.02\" y=\"-971.7\" font-family=\"Times,serif\" font-size=\"14.00\">workgraph_data__meta_sockets__graph_inputs__sockets__min__property__value</text>\n",
       "</g>\n",
       "<!-- N10447 -->\n",
       "<g id=\"node3\" class=\"node\">\n",
       "<title>N10447</title>\n",
       "<ellipse fill=\"#8cd499\" stroke=\"black\" stroke-width=\"0\" cx=\"657.52\" cy=\"-1038.25\" rx=\"67.52\" ry=\"18\"/>\n",
       "<text xml:space=\"preserve\" text-anchor=\"middle\" x=\"657.52\" y=\"-1033.57\" font-family=\"Times,serif\" font-size=\"14.00\">Int (10447)</text>\n",
       "</g>\n",
       "<!-- N10447&#45;&gt;N10450 -->\n",
       "<g id=\"edge1\" class=\"edge\">\n",
       "<title>N10447&#45;&gt;N10450</title>\n",
       "<path fill=\"none\" stroke=\"#000000\" stroke-dasharray=\"5,2\" d=\"M652.35,-1020.35C648.75,-1004.87 646.48,-982.23 658.52,-967.75 670.55,-953.28 699.17,-942.26 734.09,-933.9\"/>\n",
       "<polygon fill=\"#000000\" stroke=\"#000000\" points=\"734.68,-937.35 743.65,-931.72 733.12,-930.53 734.68,-937.35\"/>\n",
       "<text xml:space=\"preserve\" text-anchor=\"middle\" x=\"943.52\" y=\"-988.95\" font-family=\"Times,serif\" font-size=\"14.00\">INPUT_WORK</text>\n",
       "<text xml:space=\"preserve\" text-anchor=\"middle\" x=\"943.52\" y=\"-971.7\" font-family=\"Times,serif\" font-size=\"14.00\">workgraph_data__meta_sockets__graph_inputs__sockets__max__property__value</text>\n",
       "</g>\n",
       "<!-- N10448 -->\n",
       "<g id=\"node4\" class=\"node\">\n",
       "<title>N10448</title>\n",
       "<ellipse fill=\"#8cd499\" stroke=\"black\" stroke-width=\"0\" cx=\"1250.52\" cy=\"-1038.25\" rx=\"67.52\" ry=\"18\"/>\n",
       "<text xml:space=\"preserve\" text-anchor=\"middle\" x=\"1250.52\" y=\"-1033.57\" font-family=\"Times,serif\" font-size=\"14.00\">Int (10448)</text>\n",
       "</g>\n",
       "<!-- N10448&#45;&gt;N10450 -->\n",
       "<g id=\"edge4\" class=\"edge\">\n",
       "<title>N10448&#45;&gt;N10450</title>\n",
       "<path fill=\"none\" stroke=\"#000000\" stroke-dasharray=\"5,2\" d=\"M1249.82,-1020.41C1248.22,-1004.53 1243.31,-981.21 1228.52,-967.75 1215.66,-956.05 1188.68,-946.27 1156.43,-938.26\"/>\n",
       "<polygon fill=\"#000000\" stroke=\"#000000\" points=\"1157.31,-934.87 1146.77,-935.96 1155.69,-941.68 1157.31,-934.87\"/>\n",
       "<text xml:space=\"preserve\" text-anchor=\"middle\" x=\"1520.74\" y=\"-988.95\" font-family=\"Times,serif\" font-size=\"14.00\">INPUT_WORK</text>\n",
       "<text xml:space=\"preserve\" text-anchor=\"middle\" x=\"1520.74\" y=\"-971.7\" font-family=\"Times,serif\" font-size=\"14.00\">workgraph_data__meta_sockets__graph_inputs__sockets__x__property__value</text>\n",
       "</g>\n",
       "<!-- N10449 -->\n",
       "<g id=\"node5\" class=\"node\">\n",
       "<title>N10449</title>\n",
       "<ellipse fill=\"#8cd499\" stroke=\"black\" stroke-width=\"0\" cx=\"1821.52\" cy=\"-1038.25\" rx=\"67.52\" ry=\"18\"/>\n",
       "<text xml:space=\"preserve\" text-anchor=\"middle\" x=\"1821.52\" y=\"-1033.57\" font-family=\"Times,serif\" font-size=\"14.00\">Int (10449)</text>\n",
       "</g>\n",
       "<!-- N10449&#45;&gt;N10450 -->\n",
       "<g id=\"edge2\" class=\"edge\">\n",
       "<title>N10449&#45;&gt;N10450</title>\n",
       "<path fill=\"none\" stroke=\"#000000\" stroke-dasharray=\"5,2\" d=\"M1821.01,-1020.52C1819.54,-1004.26 1814.57,-980.23 1798.52,-967.75 1752.58,-932.06 1440.65,-917.85 1209.06,-912.21\"/>\n",
       "<polygon fill=\"#000000\" stroke=\"#000000\" points=\"1209.35,-908.71 1199.27,-911.97 1209.18,-915.71 1209.35,-908.71\"/>\n",
       "<text xml:space=\"preserve\" text-anchor=\"middle\" x=\"2091.84\" y=\"-988.95\" font-family=\"Times,serif\" font-size=\"14.00\">INPUT_WORK</text>\n",
       "<text xml:space=\"preserve\" text-anchor=\"middle\" x=\"2091.84\" y=\"-971.7\" font-family=\"Times,serif\" font-size=\"14.00\">workgraph_data__meta_sockets__graph_inputs__sockets__y__property__value</text>\n",
       "</g>\n",
       "<!-- N10454 -->\n",
       "<g id=\"node7\" class=\"node\">\n",
       "<title>N10454</title>\n",
       "<ellipse fill=\"#8cd499\" stroke=\"black\" stroke-width=\"0\" cx=\"953.52\" cy=\"-646.5\" rx=\"67.52\" ry=\"18\"/>\n",
       "<text xml:space=\"preserve\" text-anchor=\"middle\" x=\"953.52\" y=\"-641.82\" font-family=\"Times,serif\" font-size=\"14.00\">Int (10454)</text>\n",
       "</g>\n",
       "<!-- N10453&#45;&gt;N10454 -->\n",
       "<g id=\"edge14\" class=\"edge\">\n",
       "<title>N10453&#45;&gt;N10454</title>\n",
       "<path fill=\"none\" stroke=\"#000000\" d=\"M953.52,-735.11C953.52,-717.06 953.52,-693.89 953.52,-675.91\"/>\n",
       "<polygon fill=\"#000000\" stroke=\"#000000\" points=\"957.02,-675.93 953.52,-665.93 950.02,-675.93 957.02,-675.93\"/>\n",
       "<text xml:space=\"preserve\" text-anchor=\"middle\" x=\"983.52\" y=\"-703.7\" font-family=\"Times,serif\" font-size=\"14.00\">CREATE</text>\n",
       "<text xml:space=\"preserve\" text-anchor=\"middle\" x=\"983.52\" y=\"-686.45\" font-family=\"Times,serif\" font-size=\"14.00\">result</text>\n",
       "</g>\n",
       "<!-- N10454&#45;&gt;N10455 -->\n",
       "<g id=\"edge9\" class=\"edge\">\n",
       "<title>N10454&#45;&gt;N10455</title>\n",
       "<path fill=\"none\" stroke=\"#000000\" stroke-dasharray=\"5,2\" d=\"M887.56,-642.95C798.45,-638.81 648.75,-629.15 632.02,-610.5 616.26,-592.93 627.21,-575.38 647.1,-560.29\"/>\n",
       "<polygon fill=\"#000000\" stroke=\"#000000\" points=\"649.01,-563.22 655.21,-554.63 645.01,-557.48 649.01,-563.22\"/>\n",
       "<text xml:space=\"preserve\" text-anchor=\"middle\" x=\"905.77\" y=\"-597.2\" font-family=\"Times,serif\" font-size=\"14.00\">INPUT_WORK</text>\n",
       "<text xml:space=\"preserve\" text-anchor=\"middle\" x=\"905.77\" y=\"-579.95\" font-family=\"Times,serif\" font-size=\"14.00\">workgraph_data__meta_sockets__graph_inputs__sockets__z__property__value</text>\n",
       "</g>\n",
       "<!-- N10462 -->\n",
       "<g id=\"node11\" class=\"node\">\n",
       "<title>N10462</title>\n",
       "<polygon fill=\"#de707f\" fill-opacity=\"0.466667\" stroke=\"black\" stroke-width=\"0\" points=\"1003.02,-166.25 876.02,-166.25 876.02,-106.5 1003.02,-106.5 1003.02,-166.25\"/>\n",
       "<text xml:space=\"preserve\" text-anchor=\"middle\" x=\"939.52\" y=\"-148.95\" font-family=\"Times,serif\" font-size=\"14.00\">op_mul (10462)</text>\n",
       "<text xml:space=\"preserve\" text-anchor=\"middle\" x=\"939.52\" y=\"-131.7\" font-family=\"Times,serif\" font-size=\"14.00\">State: finished</text>\n",
       "<text xml:space=\"preserve\" text-anchor=\"middle\" x=\"939.52\" y=\"-114.45\" font-family=\"Times,serif\" font-size=\"14.00\">Exit Code: 0</text>\n",
       "</g>\n",
       "<!-- N10454&#45;&gt;N10462 -->\n",
       "<g id=\"edge6\" class=\"edge\">\n",
       "<title>N10454&#45;&gt;N10462</title>\n",
       "<path fill=\"none\" stroke=\"#000000\" d=\"M1020.03,-643.7C1078.53,-640.65 1157.68,-632.46 1179.52,-610.5 1209.23,-580.63 1193.52,-558.88 1193.52,-516.75 1193.52,-516.75 1193.52,-516.75 1193.52,-253.75 1193.52,-174.16 1089.18,-148.79 1014.25,-140.83\"/>\n",
       "<polygon fill=\"#000000\" stroke=\"#000000\" points=\"1014.75,-137.36 1004.46,-139.88 1014.08,-144.33 1014.75,-137.36\"/>\n",
       "<text xml:space=\"preserve\" text-anchor=\"middle\" x=\"1259.52\" y=\"-377.07\" font-family=\"Times,serif\" font-size=\"14.00\">INPUT_CALC</text>\n",
       "<text xml:space=\"preserve\" text-anchor=\"middle\" x=\"1259.52\" y=\"-359.82\" font-family=\"Times,serif\" font-size=\"14.00\">function_inputs__y</text>\n",
       "</g>\n",
       "<!-- N10458 -->\n",
       "<g id=\"node9\" class=\"node\">\n",
       "<title>N10458</title>\n",
       "<polygon fill=\"#de707f\" fill-opacity=\"0.466667\" stroke=\"black\" stroke-width=\"0\" points=\"994.64,-403 868.39,-403 868.39,-343.25 994.64,-343.25 994.64,-403\"/>\n",
       "<text xml:space=\"preserve\" text-anchor=\"middle\" x=\"931.52\" y=\"-385.7\" font-family=\"Times,serif\" font-size=\"14.00\">op_add (10458)</text>\n",
       "<text xml:space=\"preserve\" text-anchor=\"middle\" x=\"931.52\" y=\"-368.45\" font-family=\"Times,serif\" font-size=\"14.00\">State: finished</text>\n",
       "<text xml:space=\"preserve\" text-anchor=\"middle\" x=\"931.52\" y=\"-351.2\" font-family=\"Times,serif\" font-size=\"14.00\">Exit Code: 0</text>\n",
       "</g>\n",
       "<!-- N10455&#45;&gt;N10458 -->\n",
       "<g id=\"edge13\" class=\"edge\">\n",
       "<title>N10455&#45;&gt;N10458</title>\n",
       "<path fill=\"none\" stroke=\"#000000\" stroke-dasharray=\"1,5\" d=\"M812.56,-476.97C823.9,-470.28 835.24,-463.02 845.52,-455.5 863.57,-442.29 881.82,-425.6 896.83,-410.78\"/>\n",
       "<polygon fill=\"#000000\" stroke=\"#000000\" points=\"899.17,-413.4 903.75,-403.85 894.21,-408.45 899.17,-413.4\"/>\n",
       "<text xml:space=\"preserve\" text-anchor=\"middle\" x=\"927.53\" y=\"-442.2\" font-family=\"Times,serif\" font-size=\"14.00\">CALL_CALC</text>\n",
       "<text xml:space=\"preserve\" text-anchor=\"middle\" x=\"927.53\" y=\"-424.95\" font-family=\"Times,serif\" font-size=\"14.00\">op_add</text>\n",
       "</g>\n",
       "<!-- N10455&#45;&gt;N10462 -->\n",
       "<g id=\"edge5\" class=\"edge\">\n",
       "<title>N10455&#45;&gt;N10462</title>\n",
       "<path fill=\"none\" stroke=\"#000000\" stroke-dasharray=\"1,5\" d=\"M753.28,-473.65C774.05,-418.03 814.75,-316.56 862.52,-236.75 875.52,-215.02 892.55,-192.58 907.29,-174.53\"/>\n",
       "<polygon fill=\"#000000\" stroke=\"#000000\" points=\"909.67,-177.15 913.35,-167.21 904.28,-172.68 909.67,-177.15\"/>\n",
       "<text xml:space=\"preserve\" text-anchor=\"middle\" x=\"874.03\" y=\"-311.95\" font-family=\"Times,serif\" font-size=\"14.00\">CALL_CALC</text>\n",
       "<text xml:space=\"preserve\" text-anchor=\"middle\" x=\"874.03\" y=\"-294.7\" font-family=\"Times,serif\" font-size=\"14.00\">op_mul</text>\n",
       "</g>\n",
       "<!-- N10455&#45;&gt;N10463 -->\n",
       "<g id=\"edge15\" class=\"edge\">\n",
       "<title>N10455&#45;&gt;N10463</title>\n",
       "<path fill=\"none\" stroke=\"#000000\" stroke-dasharray=\"5,2\" d=\"M738.52,-473.52C738.52,-445.49 738.52,-407.57 738.52,-374.12 738.52,-374.12 738.52,-374.12 738.52,-135.38 738.52,-72.68 812.66,-43.21 870.88,-29.74\"/>\n",
       "<polygon fill=\"#000000\" stroke=\"#000000\" points=\"871.42,-33.21 880.44,-27.65 869.92,-26.37 871.42,-33.21\"/>\n",
       "<text xml:space=\"preserve\" text-anchor=\"middle\" x=\"770.77\" y=\"-258.7\" font-family=\"Times,serif\" font-size=\"14.00\">RETURN</text>\n",
       "<text xml:space=\"preserve\" text-anchor=\"middle\" x=\"770.77\" y=\"-241.45\" font-family=\"Times,serif\" font-size=\"14.00\">result</text>\n",
       "</g>\n",
       "<!-- N10459 -->\n",
       "<g id=\"node10\" class=\"node\">\n",
       "<title>N10459</title>\n",
       "<ellipse fill=\"#8cd499\" stroke=\"black\" stroke-width=\"0\" cx=\"939.52\" cy=\"-254.75\" rx=\"67.52\" ry=\"18\"/>\n",
       "<text xml:space=\"preserve\" text-anchor=\"middle\" x=\"939.52\" y=\"-250.07\" font-family=\"Times,serif\" font-size=\"14.00\">Int (10459)</text>\n",
       "</g>\n",
       "<!-- N10458&#45;&gt;N10459 -->\n",
       "<g id=\"edge7\" class=\"edge\">\n",
       "<title>N10458&#45;&gt;N10459</title>\n",
       "<path fill=\"none\" stroke=\"#000000\" d=\"M933.49,-343.36C934.74,-325.22 936.34,-301.92 937.58,-283.9\"/>\n",
       "<polygon fill=\"#000000\" stroke=\"#000000\" points=\"941.06,-284.4 938.25,-274.18 934.07,-283.92 941.06,-284.4\"/>\n",
       "<text xml:space=\"preserve\" text-anchor=\"middle\" x=\"966.93\" y=\"-311.95\" font-family=\"Times,serif\" font-size=\"14.00\">CREATE</text>\n",
       "<text xml:space=\"preserve\" text-anchor=\"middle\" x=\"966.93\" y=\"-294.7\" font-family=\"Times,serif\" font-size=\"14.00\">result</text>\n",
       "</g>\n",
       "<!-- N10459&#45;&gt;N10462 -->\n",
       "<g id=\"edge12\" class=\"edge\">\n",
       "<title>N10459&#45;&gt;N10462</title>\n",
       "<path fill=\"none\" stroke=\"#000000\" d=\"M939.52,-237.08C939.52,-221.56 939.52,-197.82 939.52,-177.4\"/>\n",
       "<polygon fill=\"#000000\" stroke=\"#000000\" points=\"943.02,-177.67 939.52,-167.67 936.02,-177.67 943.02,-177.67\"/>\n",
       "<text xml:space=\"preserve\" text-anchor=\"middle\" x=\"1005.52\" y=\"-205.45\" font-family=\"Times,serif\" font-size=\"14.00\">INPUT_CALC</text>\n",
       "<text xml:space=\"preserve\" text-anchor=\"middle\" x=\"1005.52\" y=\"-188.2\" font-family=\"Times,serif\" font-size=\"14.00\">function_inputs__x</text>\n",
       "</g>\n",
       "<!-- N10462&#45;&gt;N10463 -->\n",
       "<g id=\"edge8\" class=\"edge\">\n",
       "<title>N10462&#45;&gt;N10463</title>\n",
       "<path fill=\"none\" stroke=\"#000000\" d=\"M939.52,-106.61C939.52,-88.56 939.52,-65.39 939.52,-47.41\"/>\n",
       "<polygon fill=\"#000000\" stroke=\"#000000\" points=\"943.02,-47.43 939.52,-37.43 936.02,-47.43 943.02,-47.43\"/>\n",
       "<text xml:space=\"preserve\" text-anchor=\"middle\" x=\"969.52\" y=\"-75.2\" font-family=\"Times,serif\" font-size=\"14.00\">CREATE</text>\n",
       "<text xml:space=\"preserve\" text-anchor=\"middle\" x=\"969.52\" y=\"-57.95\" font-family=\"Times,serif\" font-size=\"14.00\">result</text>\n",
       "</g>\n",
       "</g>\n",
       "</svg>\n"
      ],
      "text/plain": [
       "<graphviz.graphs.Digraph at 0x74ee6aef61a0>"
      ]
     },
     "execution_count": 5,
     "metadata": {},
     "output_type": "execute_result"
    }
   ],
   "source": [
    "from aiida_workgraph.utils import generate_node_graph\n",
    "\n",
    "generate_node_graph(wg2.pk)"
   ]
  },
  {
   "cell_type": "markdown",
   "id": "1a1a12af",
   "metadata": {},
   "source": [
    "## Making it reusable\n",
    "\n",
    "Now, how do we make this reusable? Simple! We just wrap **AddMultiply** in a generating function."
   ]
  },
  {
   "cell_type": "code",
   "execution_count": 6,
   "id": "ff1e731d",
   "metadata": {},
   "outputs": [],
   "source": [
    "def generate_add_multiply_workgraph():\n",
    "    with WorkGraph(\"AddMultiply\") as wg:\n",
    "        wg.inputs = dict.fromkeys([\"x\", \"y\", \"z\"])\n",
    "        wg.outputs.result = (wg.inputs.x + wg.inputs.y) * wg.inputs.z\n",
    "    return wg"
   ]
  },
  {
   "cell_type": "markdown",
   "id": "232fc620",
   "metadata": {},
   "source": [
    "Now we can generate an **AddMultiply** workgraph anytime we need one in our workflows."
   ]
  },
  {
   "cell_type": "markdown",
   "id": "17d4996e",
   "metadata": {},
   "source": [
    "## Summary\n",
    "\n",
    "Combining workgraphs is a straightforward process that allows for a modular approach to workflow design. By defining reusable components, we can easily integrate them into larger workflows, enhancing maintainability and readability. The example provided demonstrates how to create a simple workgraph and incorporate it into another, showcasing the flexibility of the AiiDA WorkGraph framework."
   ]
  }
 ],
 "metadata": {
  "kernelspec": {
   "display_name": "workgraph",
   "language": "python",
   "name": "python3"
  },
  "language_info": {
   "codemirror_mode": {
    "name": "ipython",
    "version": 3
   },
   "file_extension": ".py",
   "mimetype": "text/x-python",
   "name": "python",
   "nbconvert_exporter": "python",
   "pygments_lexer": "ipython3",
   "version": "3.10.14"
  }
 },
 "nbformat": 4,
 "nbformat_minor": 5
}
