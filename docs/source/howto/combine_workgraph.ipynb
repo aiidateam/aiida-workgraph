{
 "cells": [
  {
   "cell_type": "markdown",
   "id": "22d177dc-6cfb-4de2-9509-f1eb45e10cf2",
   "metadata": {},
   "source": [
    "# Combine workgraphs\n",
    "\n",
    "## Introduction\n",
    "\n",
    "There are two ways to combine workgraphs:\n",
    "\n",
    "- Extending a workgraph by the tasks of another\n",
    "- Adding a workgraph as a task of another\n",
    "\n",
    "This tutorial will show both, highlighting the differences.\n"
   ]
  },
  {
   "cell_type": "code",
   "execution_count": 12,
   "id": "c6b83fb5",
   "metadata": {},
   "outputs": [
    {
     "name": "stdout",
     "output_type": "stream",
     "text": [
      "The aiida extension is already loaded. To reload it, use:\n",
      "  %reload_ext aiida\n"
     ]
    },
    {
     "data": {
      "text/plain": [
       "Profile<uuid='36f11577e5ee4adf9e4a5f5d62d3ae9b' name='presto'>"
      ]
     },
     "execution_count": 12,
     "metadata": {},
     "output_type": "execute_result"
    }
   ],
   "source": [
    "%load_ext aiida\n",
    "from aiida import load_profile\n",
    "\n",
    "load_profile()"
   ]
  },
  {
   "cell_type": "code",
   "execution_count": 13,
   "id": "2a9ca8e9",
   "metadata": {},
   "outputs": [],
   "source": [
    "from aiida_workgraph import WorkGraph, task"
   ]
  },
  {
   "cell_type": "markdown",
   "id": "13cdd81e",
   "metadata": {},
   "source": [
    "## Extending a workgraph by the tasks of another\n",
    "\n",
    "We first define a workgraph to add two numbers and multiply the sum by a third."
   ]
  },
  {
   "cell_type": "code",
   "execution_count": 14,
   "id": "324fddc5",
   "metadata": {},
   "outputs": [
    {
     "data": {
      "text/html": [
       "\n",
       "        <iframe\n",
       "            width=\"100%\"\n",
       "            height=\"600px\"\n",
       "            src=\"html/AddMultiply.html\"\n",
       "            frameborder=\"0\"\n",
       "            allowfullscreen\n",
       "            \n",
       "        ></iframe>\n",
       "        "
      ],
      "text/plain": [
       "<IPython.lib.display.IFrame at 0x74c7868ab7c0>"
      ]
     },
     "execution_count": 14,
     "metadata": {},
     "output_type": "execute_result"
    }
   ],
   "source": [
    "@task\n",
    "def add(x, y):\n",
    "    return x + y\n",
    "\n",
    "\n",
    "@task\n",
    "def multiply(x, y):\n",
    "    return x * y\n",
    "\n",
    "\n",
    "with WorkGraph(\"AddMultiply\") as add_multiply:\n",
    "    add_multiply.add_task(add)\n",
    "    add_multiply.add_task(multiply, x=add_multiply.tasks.add.outputs.result)\n",
    "\n",
    "add_multiply.to_html()"
   ]
  },
  {
   "cell_type": "markdown",
   "id": "2120bacc",
   "metadata": {},
   "source": [
    "Next, we define a second workgraph with a task to generate a random number between 1 and 10. We then unpack the tasks of the first workgraph into the second, assigning the output of the random number generator as the factor of the multiplication task."
   ]
  },
  {
   "cell_type": "code",
   "execution_count": 15,
   "id": "beab4231",
   "metadata": {},
   "outputs": [
    {
     "data": {
      "text/html": [
       "\n",
       "        <iframe\n",
       "            width=\"100%\"\n",
       "            height=\"600px\"\n",
       "            src=\"html/AddMultiplyExtension.html\"\n",
       "            frameborder=\"0\"\n",
       "            allowfullscreen\n",
       "            \n",
       "        ></iframe>\n",
       "        "
      ],
      "text/plain": [
       "<IPython.lib.display.IFrame at 0x74c787187a00>"
      ]
     },
     "execution_count": 15,
     "metadata": {},
     "output_type": "execute_result"
    }
   ],
   "source": [
    "@task\n",
    "def generate_random_number(minimum, maximum):\n",
    "    import random\n",
    "\n",
    "    return random.randint(minimum, maximum)\n",
    "\n",
    "\n",
    "with WorkGraph(\"AddMultiplyExtension\") as add_multiply_extended:\n",
    "    add_multiply_extended.add_task(generate_random_number)\n",
    "    add_multiply_extended.extend(add_multiply)\n",
    "    add_multiply_extended.add_link(\n",
    "        add_multiply_extended.tasks.generate_random_number.outputs.result,\n",
    "        add_multiply_extended.tasks.multiply.inputs.y,\n",
    "    )\n",
    "\n",
    "add_multiply_extended.to_html()"
   ]
  },
  {
   "cell_type": "markdown",
   "id": "935727d5",
   "metadata": {},
   "source": [
    "Here we've authored a new workgraph as an extension of the first. The resultant workgraph reveals all tasks, with a clear dependency structure.\n",
    "\n",
    "## Adding a workgraph as a task of another\n",
    "\n",
    "Next, we will contrast this against adding the first workgraph as a task of the second. There are two ways to do this:\n",
    "\n",
    "1. Simply adding one workgraph as a task"
   ]
  },
  {
   "cell_type": "code",
   "execution_count": 16,
   "id": "5a524ee3",
   "metadata": {},
   "outputs": [
    {
     "ename": "Exception",
     "evalue": "Can not link sockets from different WorkGraph. WorkGraph(name=\"AddMultiply\", uuid=\"2af2f5b6-5d64-11f0-b296-00155dc4a75e\") and WorkGraph(name=\"AddMultiplyExtension\", uuid=\"2b0c9a2a-5d64-11f0-b296-00155dc4a75e\")",
     "output_type": "error",
     "traceback": [
      "\u001b[0;31m---------------------------------------------------------------------------\u001b[0m",
      "\u001b[0;31mException\u001b[0m                                 Traceback (most recent call last)",
      "Cell \u001b[0;32mIn[16], line 3\u001b[0m\n\u001b[1;32m      1\u001b[0m \u001b[38;5;28;01mwith\u001b[39;00m WorkGraph(\u001b[38;5;124m\"\u001b[39m\u001b[38;5;124mAddMultiplyComposed\u001b[39m\u001b[38;5;124m\"\u001b[39m) \u001b[38;5;28;01mas\u001b[39;00m add_multiply_composed:\n\u001b[1;32m      2\u001b[0m     add_multiply_composed\u001b[38;5;241m.\u001b[39madd_task(generate_random_number)\n\u001b[0;32m----> 3\u001b[0m     \u001b[43madd_multiply_composed\u001b[49m\u001b[38;5;241;43m.\u001b[39;49m\u001b[43madd_task\u001b[49m\u001b[43m(\u001b[49m\u001b[43madd_multiply\u001b[49m\u001b[43m,\u001b[49m\u001b[43m \u001b[49m\u001b[43mname\u001b[49m\u001b[38;5;241;43m=\u001b[39;49m\u001b[43madd_multiply\u001b[49m\u001b[38;5;241;43m.\u001b[39;49m\u001b[43mname\u001b[49m\u001b[43m)\u001b[49m\n\u001b[1;32m      4\u001b[0m     add_multiply_composed\u001b[38;5;241m.\u001b[39madd_link(\n\u001b[1;32m      5\u001b[0m         add_multiply_composed\u001b[38;5;241m.\u001b[39mtasks\u001b[38;5;241m.\u001b[39mgenerate_random_number\u001b[38;5;241m.\u001b[39moutputs\u001b[38;5;241m.\u001b[39mresult,\n\u001b[1;32m      6\u001b[0m         add_multiply_composed\u001b[38;5;241m.\u001b[39mtasks\u001b[38;5;241m.\u001b[39mAddMultiply\u001b[38;5;241m.\u001b[39minputs\u001b[38;5;241m.\u001b[39mmultiply\u001b[38;5;241m.\u001b[39minputs\u001b[38;5;241m.\u001b[39my,\n\u001b[1;32m      7\u001b[0m     )\n\u001b[1;32m      9\u001b[0m add_multiply_composed\u001b[38;5;241m.\u001b[39mto_html()\n",
      "File \u001b[0;32m~/AiiDA/aiida-workgraph/src/aiida_workgraph/workgraph.py:570\u001b[0m, in \u001b[0;36mWorkGraph.add_task\u001b[0;34m(self, identifier, name, **kwargs)\u001b[0m\n\u001b[1;32m    567\u001b[0m     \u001b[38;5;28;01mraise\u001b[39;00m \u001b[38;5;167;01mValueError\u001b[39;00m(\u001b[38;5;124mf\u001b[39m\u001b[38;5;124m\"\u001b[39m\u001b[38;5;124mTask name \u001b[39m\u001b[38;5;132;01m{\u001b[39;00mname\u001b[38;5;132;01m}\u001b[39;00m\u001b[38;5;124m can not be used, it is reserved.\u001b[39m\u001b[38;5;124m\"\u001b[39m)\n\u001b[1;32m    569\u001b[0m \u001b[38;5;28;01mif\u001b[39;00m \u001b[38;5;28misinstance\u001b[39m(identifier, WorkGraph):\n\u001b[0;32m--> 570\u001b[0m     identifier \u001b[38;5;241m=\u001b[39m \u001b[43mWorkGraphTaskFactory\u001b[49m\u001b[38;5;241;43m.\u001b[39;49m\u001b[43mcreate_task\u001b[49m\u001b[43m(\u001b[49m\u001b[43midentifier\u001b[49m\u001b[43m)\u001b[49m\n\u001b[1;32m    571\u001b[0m \u001b[38;5;28;01melif\u001b[39;00m \u001b[38;5;28misinstance\u001b[39m(identifier, ProcessBuilder):\n\u001b[1;32m    572\u001b[0m     kwargs \u001b[38;5;241m=\u001b[39m {\u001b[38;5;241m*\u001b[39m\u001b[38;5;241m*\u001b[39mkwargs, \u001b[38;5;241m*\u001b[39m\u001b[38;5;241m*\u001b[39mget_dict_from_builder(identifier)}\n",
      "File \u001b[0;32m~/AiiDA/aiida-workgraph/src/aiida_workgraph/tasks/factory/workgraph_task.py:93\u001b[0m, in \u001b[0;36mWorkGraphTaskFactory.create_task\u001b[0;34m(cls, workgraph)\u001b[0m\n\u001b[1;32m     89\u001b[0m \u001b[38;5;66;03m# add all the inputs/outputs from the tasks in the workgraph\u001b[39;00m\n\u001b[1;32m     90\u001b[0m \u001b[38;5;66;03m# builtin_input_names = [input[\"name\"] for input in builtin_inputs]\u001b[39;00m\n\u001b[1;32m     91\u001b[0m \u001b[38;5;66;03m# generate group inputs/outputs if not exist\u001b[39;00m\n\u001b[1;32m     92\u001b[0m \u001b[38;5;28;01mif\u001b[39;00m \u001b[38;5;28mlen\u001b[39m(workgraph\u001b[38;5;241m.\u001b[39minputs) \u001b[38;5;241m==\u001b[39m \u001b[38;5;241m0\u001b[39m:\n\u001b[0;32m---> 93\u001b[0m     \u001b[43mworkgraph\u001b[49m\u001b[38;5;241;43m.\u001b[39;49m\u001b[43mgenerate_inputs\u001b[49m\u001b[43m(\u001b[49m\u001b[43m)\u001b[49m\n\u001b[1;32m     94\u001b[0m \u001b[38;5;28;01mif\u001b[39;00m \u001b[38;5;28mlen\u001b[39m(workgraph\u001b[38;5;241m.\u001b[39moutputs) \u001b[38;5;241m==\u001b[39m \u001b[38;5;241m0\u001b[39m:\n\u001b[1;32m     95\u001b[0m     workgraph\u001b[38;5;241m.\u001b[39mgenerate_outputs()\n",
      "File \u001b[0;32m~/miniforge3/envs/workgraph/lib/python3.10/site-packages/node_graph/node_graph.py:141\u001b[0m, in \u001b[0;36mNodeGraph.generate_inputs\u001b[0;34m(self)\u001b[0m\n\u001b[1;32m    139\u001b[0m     \u001b[38;5;28;01mcontinue\u001b[39;00m\n\u001b[1;32m    140\u001b[0m \u001b[38;5;66;03m# add link from group inputs to node inputs\u001b[39;00m\n\u001b[0;32m--> 141\u001b[0m \u001b[38;5;28;43mself\u001b[39;49m\u001b[38;5;241;43m.\u001b[39;49m\u001b[43madd_link\u001b[49m\u001b[43m(\u001b[49m\u001b[38;5;28;43mself\u001b[39;49m\u001b[38;5;241;43m.\u001b[39;49m\u001b[43minputs\u001b[49m\u001b[43m[\u001b[49m\u001b[43mnew_key\u001b[49m\u001b[43m]\u001b[49m\u001b[43m,\u001b[49m\u001b[43m \u001b[49m\u001b[43mnode\u001b[49m\u001b[38;5;241;43m.\u001b[39;49m\u001b[43minputs\u001b[49m\u001b[43m[\u001b[49m\u001b[43mkey\u001b[49m\u001b[43m]\u001b[49m\u001b[43m)\u001b[49m\n",
      "File \u001b[0;32m~/AiiDA/aiida-workgraph/src/aiida_workgraph/workgraph.py:591\u001b[0m, in \u001b[0;36mWorkGraph.add_link\u001b[0;34m(self, source, target)\u001b[0m\n\u001b[1;32m    589\u001b[0m \u001b[38;5;28;01mif\u001b[39;00m key \u001b[38;5;129;01min\u001b[39;00m \u001b[38;5;28mself\u001b[39m\u001b[38;5;241m.\u001b[39mlinks:\n\u001b[1;32m    590\u001b[0m     \u001b[38;5;28;01mreturn\u001b[39;00m \u001b[38;5;28mself\u001b[39m\u001b[38;5;241m.\u001b[39mlinks[key]\n\u001b[0;32m--> 591\u001b[0m link \u001b[38;5;241m=\u001b[39m \u001b[38;5;28;43mself\u001b[39;49m\u001b[38;5;241;43m.\u001b[39;49m\u001b[43mlinks\u001b[49m\u001b[38;5;241;43m.\u001b[39;49m\u001b[43m_new\u001b[49m\u001b[43m(\u001b[49m\u001b[43msource\u001b[49m\u001b[43m,\u001b[49m\u001b[43m \u001b[49m\u001b[43mtarget\u001b[49m\u001b[43m)\u001b[49m\n\u001b[1;32m    592\u001b[0m \u001b[38;5;28mself\u001b[39m\u001b[38;5;241m.\u001b[39m_version \u001b[38;5;241m+\u001b[39m\u001b[38;5;241m=\u001b[39m \u001b[38;5;241m1\u001b[39m\n\u001b[1;32m    593\u001b[0m \u001b[38;5;28;01mreturn\u001b[39;00m link\n",
      "File \u001b[0;32m~/miniforge3/envs/workgraph/lib/python3.10/site-packages/node_graph/collection.py:531\u001b[0m, in \u001b[0;36mLinkCollection._new\u001b[0;34m(self, input, output, type)\u001b[0m\n\u001b[1;32m    528\u001b[0m \u001b[38;5;28;01mdef\u001b[39;00m\u001b[38;5;250m \u001b[39m\u001b[38;5;21m_new\u001b[39m(\u001b[38;5;28mself\u001b[39m, \u001b[38;5;28minput\u001b[39m: \u001b[38;5;28mobject\u001b[39m, output: \u001b[38;5;28mobject\u001b[39m, \u001b[38;5;28mtype\u001b[39m: \u001b[38;5;28mint\u001b[39m \u001b[38;5;241m=\u001b[39m \u001b[38;5;241m1\u001b[39m) \u001b[38;5;241m-\u001b[39m\u001b[38;5;241m>\u001b[39m \u001b[38;5;28mobject\u001b[39m:\n\u001b[1;32m    529\u001b[0m     \u001b[38;5;28;01mfrom\u001b[39;00m\u001b[38;5;250m \u001b[39m\u001b[38;5;21;01mnode_graph\u001b[39;00m\u001b[38;5;21;01m.\u001b[39;00m\u001b[38;5;21;01mlink\u001b[39;00m\u001b[38;5;250m \u001b[39m\u001b[38;5;28;01mimport\u001b[39;00m NodeLink\n\u001b[0;32m--> 531\u001b[0m     item \u001b[38;5;241m=\u001b[39m \u001b[43mNodeLink\u001b[49m\u001b[43m(\u001b[49m\u001b[38;5;28;43minput\u001b[39;49m\u001b[43m,\u001b[49m\u001b[43m \u001b[49m\u001b[43moutput\u001b[49m\u001b[43m)\u001b[49m\n\u001b[1;32m    532\u001b[0m     \u001b[38;5;28mself\u001b[39m\u001b[38;5;241m.\u001b[39m_append(item)\n\u001b[1;32m    533\u001b[0m     \u001b[38;5;66;03m# Execute post creation hooks\u001b[39;00m\n",
      "File \u001b[0;32m~/miniforge3/envs/workgraph/lib/python3.10/site-packages/node_graph/link.py:18\u001b[0m, in \u001b[0;36mNodeLink.__init__\u001b[0;34m(self, from_socket, to_socket)\u001b[0m\n\u001b[1;32m     16\u001b[0m \u001b[38;5;28mself\u001b[39m\u001b[38;5;241m.\u001b[39mto_socket \u001b[38;5;241m=\u001b[39m to_socket\n\u001b[1;32m     17\u001b[0m \u001b[38;5;28mself\u001b[39m\u001b[38;5;241m.\u001b[39mto_node \u001b[38;5;241m=\u001b[39m to_socket\u001b[38;5;241m.\u001b[39m_node\n\u001b[0;32m---> 18\u001b[0m \u001b[38;5;28;43mself\u001b[39;49m\u001b[38;5;241;43m.\u001b[39;49m\u001b[43mcheck_socket_match\u001b[49m\u001b[43m(\u001b[49m\u001b[43m)\u001b[49m\n\u001b[1;32m     19\u001b[0m \u001b[38;5;28mself\u001b[39m\u001b[38;5;241m.\u001b[39mmount()\n",
      "File \u001b[0;32m~/miniforge3/envs/workgraph/lib/python3.10/site-packages/node_graph/link.py:33\u001b[0m, in \u001b[0;36mNodeLink.check_socket_match\u001b[0;34m(self)\u001b[0m\n\u001b[1;32m     31\u001b[0m \u001b[38;5;250m\u001b[39m\u001b[38;5;124;03m\"\"\"Check if the socket type match, and belong to the same node graph.\"\"\"\u001b[39;00m\n\u001b[1;32m     32\u001b[0m \u001b[38;5;28;01mif\u001b[39;00m \u001b[38;5;28mself\u001b[39m\u001b[38;5;241m.\u001b[39mfrom_node\u001b[38;5;241m.\u001b[39mgraph \u001b[38;5;241m!=\u001b[39m \u001b[38;5;28mself\u001b[39m\u001b[38;5;241m.\u001b[39mto_node\u001b[38;5;241m.\u001b[39mgraph:\n\u001b[0;32m---> 33\u001b[0m     \u001b[38;5;28;01mraise\u001b[39;00m \u001b[38;5;167;01mException\u001b[39;00m(\n\u001b[1;32m     34\u001b[0m         \u001b[38;5;124m\"\u001b[39m\u001b[38;5;124mCan not link sockets from different \u001b[39m\u001b[38;5;132;01m{}\u001b[39;00m\u001b[38;5;124m. \u001b[39m\u001b[38;5;132;01m{}\u001b[39;00m\u001b[38;5;124m and \u001b[39m\u001b[38;5;132;01m{}\u001b[39;00m\u001b[38;5;124m\"\u001b[39m\u001b[38;5;241m.\u001b[39mformat(\n\u001b[1;32m     35\u001b[0m             \u001b[38;5;28mself\u001b[39m\u001b[38;5;241m.\u001b[39mfrom_node\u001b[38;5;241m.\u001b[39mgraph\u001b[38;5;241m.\u001b[39m\u001b[38;5;18m__class__\u001b[39m\u001b[38;5;241m.\u001b[39m\u001b[38;5;18m__name__\u001b[39m,\n\u001b[1;32m     36\u001b[0m             \u001b[38;5;28mself\u001b[39m\u001b[38;5;241m.\u001b[39mfrom_node\u001b[38;5;241m.\u001b[39mgraph,\n\u001b[1;32m     37\u001b[0m             \u001b[38;5;28mself\u001b[39m\u001b[38;5;241m.\u001b[39mto_node\u001b[38;5;241m.\u001b[39mgraph,\n\u001b[1;32m     38\u001b[0m         )\n\u001b[1;32m     39\u001b[0m     )\n\u001b[1;32m     41\u001b[0m \u001b[38;5;28;01mif\u001b[39;00m (\n\u001b[1;32m     42\u001b[0m     \u001b[38;5;28mself\u001b[39m\u001b[38;5;241m.\u001b[39mfrom_socket\u001b[38;5;241m.\u001b[39m_identifier\u001b[38;5;241m.\u001b[39mlower()\u001b[38;5;241m.\u001b[39msplit(\u001b[38;5;124m\"\u001b[39m\u001b[38;5;124m.\u001b[39m\u001b[38;5;124m\"\u001b[39m)[\u001b[38;5;241m-\u001b[39m\u001b[38;5;241m1\u001b[39m] \u001b[38;5;241m==\u001b[39m \u001b[38;5;124m\"\u001b[39m\u001b[38;5;124many\u001b[39m\u001b[38;5;124m\"\u001b[39m\n\u001b[1;32m     43\u001b[0m     \u001b[38;5;129;01mor\u001b[39;00m \u001b[38;5;28mself\u001b[39m\u001b[38;5;241m.\u001b[39mto_socket\u001b[38;5;241m.\u001b[39m_identifier\u001b[38;5;241m.\u001b[39mlower()\u001b[38;5;241m.\u001b[39msplit(\u001b[38;5;124m\"\u001b[39m\u001b[38;5;124m.\u001b[39m\u001b[38;5;124m\"\u001b[39m)[\u001b[38;5;241m-\u001b[39m\u001b[38;5;241m1\u001b[39m] \u001b[38;5;241m==\u001b[39m \u001b[38;5;124m\"\u001b[39m\u001b[38;5;124many\u001b[39m\u001b[38;5;124m\"\u001b[39m\n\u001b[1;32m     44\u001b[0m ):\n\u001b[1;32m     45\u001b[0m     \u001b[38;5;28;01mreturn\u001b[39;00m\n",
      "\u001b[0;31mException\u001b[0m: Can not link sockets from different WorkGraph. WorkGraph(name=\"AddMultiply\", uuid=\"2af2f5b6-5d64-11f0-b296-00155dc4a75e\") and WorkGraph(name=\"AddMultiplyExtension\", uuid=\"2b0c9a2a-5d64-11f0-b296-00155dc4a75e\")"
     ]
    }
   ],
   "source": [
    "with WorkGraph(\"AddMultiplyComposed\") as add_multiply_composed:\n",
    "    add_multiply_composed.add_task(generate_random_number)\n",
    "    add_multiply_composed.add_task(add_multiply, name=add_multiply.name)\n",
    "    add_multiply_composed.add_link(\n",
    "        add_multiply_composed.tasks.generate_random_number.outputs.result,\n",
    "        add_multiply_composed.tasks.AddMultiply.inputs.multiply.inputs.y,\n",
    "    )\n",
    "\n",
    "add_multiply_composed.to_html()"
   ]
  },
  {
   "cell_type": "markdown",
   "id": "6c1fcb5e",
   "metadata": {},
   "source": [
    "2. Adding a graph builder function as a task"
   ]
  },
  {
   "cell_type": "code",
   "execution_count": 10,
   "id": "48cc2865",
   "metadata": {},
   "outputs": [
    {
     "data": {
      "text/html": [
       "\n",
       "        <iframe\n",
       "            width=\"100%\"\n",
       "            height=\"600px\"\n",
       "            src=\"html/AddMultiplyGraphBuilder.html\"\n",
       "            frameborder=\"0\"\n",
       "            allowfullscreen\n",
       "            \n",
       "        ></iframe>\n",
       "        "
      ],
      "text/plain": [
       "<IPython.lib.display.IFrame at 0x74c78d4c15a0>"
      ]
     },
     "execution_count": 10,
     "metadata": {},
     "output_type": "execute_result"
    }
   ],
   "source": [
    "@task.graph_builder\n",
    "def add_multiply_builder(x, y, z):\n",
    "    wg = WorkGraph(\"AddMultiply\")\n",
    "    add_task = wg.add_task(add, x=x, y=y, name=\"add\")\n",
    "    wg.add_task(multiply, x=add_task.outputs.result, y=z)\n",
    "    return wg\n",
    "\n",
    "\n",
    "with WorkGraph(\"AddMultiplyGraphBuilder\") as add_multiply_extended:\n",
    "    add_multiply_extended.add_task(generate_random_number)\n",
    "    add_multiply_task = add_multiply_extended.add_task(\n",
    "        add_multiply_builder,\n",
    "        z=add_multiply_extended.tasks.generate_random_number.outputs.result,\n",
    "    )\n",
    "\n",
    "add_multiply_extended.to_html()"
   ]
  },
  {
   "cell_type": "markdown",
   "id": "17d4996e",
   "metadata": {},
   "source": [
    "Here we've directly added the graph builder of the first workgraph as a task of the second. The resultant workgraph shows the random number generation task but does not show the internal dependency structure of the first workgraph. Instead, it is treated as a black box, with the output of the random number generator being passed to the graph builder input. The internal mechanism of the first workgraph is only made visible at runtime, when the first workgraph is executed.\n",
    "\n",
    "## Summary\n",
    "\n",
    "In this tutorial, we have seen how to combine workgraphs in two different ways: by extending a workgraph with the tasks of another, and by adding a workgraph as a black-box task. The choice between these methods depends on whether you want to see the internal structure of the combined workgraph or treat it as a black box, effectively trading off transparency and abstraction. Each method has its use cases, and understanding them will help you design more complex workflows in AiiDA."
   ]
  }
 ],
 "metadata": {
  "kernelspec": {
   "display_name": "workgraph",
   "language": "python",
   "name": "python3"
  },
  "language_info": {
   "codemirror_mode": {
    "name": "ipython",
    "version": 3
   },
   "file_extension": ".py",
   "mimetype": "text/x-python",
   "name": "python",
   "nbconvert_exporter": "python",
   "pygments_lexer": "ipython3",
   "version": "3.10.8"
  }
 },
 "nbformat": 4,
 "nbformat_minor": 5
}
