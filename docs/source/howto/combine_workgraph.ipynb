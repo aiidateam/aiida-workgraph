{
 "cells": [
  {
   "cell_type": "markdown",
   "id": "22d177dc-6cfb-4de2-9509-f1eb45e10cf2",
   "metadata": {},
   "source": [
    "# Combine workgraphs\n",
    "## Introduction\n",
    "There are two ways to combine workgraphs:\n",
    "- Use the graph builder inside another workgraph. \n",
    "- Add the workgraph directly to another workgraph.\n",
    "\n",
    "This tutorial will show an example for the second case. You need to install `workgraph_collections` to run this tutorial. You can install it by running `pip install workgraph_collections`.\n",
    "\n"
   ]
  },
  {
   "cell_type": "code",
   "execution_count": 1,
   "id": "c6b83fb5",
   "metadata": {},
   "outputs": [
    {
     "data": {
      "text/plain": [
       "Profile<uuid='57ccbf7d9e2b41b39edb2bfdaf725feb' name='default'>"
      ]
     },
     "execution_count": 1,
     "metadata": {},
     "output_type": "execute_result"
    }
   ],
   "source": [
    "%load_ext aiida\n",
    "from aiida import load_profile\n",
    "load_profile()"
   ]
  },
  {
   "cell_type": "markdown",
   "id": "30719f9a",
   "metadata": {},
   "source": [
    "## Relax, Bands and PDOS\n",
    "Here is an example to combine `bands` workgraph, `pdos` workgraph with a `relax` node to form a new workgraph.\n",
    "\n",
    "### Bands workgraph"
   ]
  },
  {
   "cell_type": "code",
   "execution_count": 2,
   "id": "1d04eea7",
   "metadata": {},
   "outputs": [
    {
     "data": {
      "text/html": [
       "\n",
       "        <iframe\n",
       "            width=\"100%\"\n",
       "            height=\"600px\"\n",
       "            src=\"html/BandsStructure.html\"\n",
       "            frameborder=\"0\"\n",
       "            allowfullscreen\n",
       "            \n",
       "        ></iframe>\n",
       "        "
      ],
      "text/plain": [
       "<IPython.lib.display.IFrame at 0x7945c01a9d90>"
      ]
     },
     "execution_count": 2,
     "metadata": {},
     "output_type": "execute_result"
    }
   ],
   "source": [
    "from workgraph_collections.qe.bands import bands_workgraph\n",
    "from aiida import load_profile\n",
    "load_profile()\n",
    "\n",
    "bands_wg = bands_workgraph(run_relax=False)\n",
    "bands_wg.to_html()"
   ]
  },
  {
   "cell_type": "markdown",
   "id": "4bf4c1b4",
   "metadata": {},
   "source": [
    "### PDOS workgraph"
   ]
  },
  {
   "cell_type": "code",
   "execution_count": 3,
   "id": "16c26bd4",
   "metadata": {},
   "outputs": [
    {
     "data": {
      "text/html": [
       "\n",
       "        <iframe\n",
       "            width=\"100%\"\n",
       "            height=\"600px\"\n",
       "            src=\"html/PDOS.html\"\n",
       "            frameborder=\"0\"\n",
       "            allowfullscreen\n",
       "            \n",
       "        ></iframe>\n",
       "        "
      ],
      "text/plain": [
       "<IPython.lib.display.IFrame at 0x7945baedfed0>"
      ]
     },
     "execution_count": 3,
     "metadata": {},
     "output_type": "execute_result"
    }
   ],
   "source": [
    "from workgraph_collections.qe.pdos import pdos_workgraph\n",
    "pdos_wg = pdos_workgraph(run_scf=True)\n",
    "pdos_wg.to_html()"
   ]
  },
  {
   "cell_type": "markdown",
   "id": "0f46d277",
   "metadata": {},
   "source": [
    "### Extend workgraph\n",
    "\n",
    "First, create a workgraph with `relax` node:"
   ]
  },
  {
   "cell_type": "code",
   "execution_count": 4,
   "id": "f57a98ad",
   "metadata": {},
   "outputs": [
    {
     "data": {
      "application/vnd.jupyter.widget-view+json": {
       "model_id": "23c4af8bd7864d33815681bfe2f37c4a",
       "version_major": 2,
       "version_minor": 1
      },
      "text/plain": [
       "NodeGraphWidget(settings={'minimap': True}, style={'width': '90%', 'height': '600px'}, value={'name': 'Relax_B…"
      ]
     },
     "execution_count": 4,
     "metadata": {},
     "output_type": "execute_result"
    }
   ],
   "source": [
    "from aiida_workgraph import WorkGraph\n",
    "from aiida_quantumespresso.workflows.pw.relax import PwRelaxWorkChain\n",
    "\n",
    "wg = WorkGraph('Relax_Bands_PDOS')\n",
    "relax_node = wg.nodes.new(PwRelaxWorkChain, name='relax')\n",
    "wg"
   ]
  },
  {
   "cell_type": "markdown",
   "id": "5d7d3676",
   "metadata": {},
   "source": [
    "Now let's combine `bands` workgraph, `pdos` workgraph with a `relax` node to form a new workgraph.\n",
    "\n",
    "To add a workgraph into another workgraph, there are two steps:\n",
    "- extend the workgraph\n",
    "- adjust the links, add new links between nodes, and remove old links if needed.\n",
    "\n"
   ]
  },
  {
   "cell_type": "code",
   "execution_count": 5,
   "id": "11e3bca1-dda6-44e9-9585-54feeda7e7db",
   "metadata": {},
   "outputs": [
    {
     "data": {
      "text/html": [
       "\n",
       "        <iframe\n",
       "            width=\"100%\"\n",
       "            height=\"600px\"\n",
       "            src=\"html/Relax_Bands_PDOS.html\"\n",
       "            frameborder=\"0\"\n",
       "            allowfullscreen\n",
       "            \n",
       "        ></iframe>\n",
       "        "
      ],
      "text/plain": [
       "<IPython.lib.display.IFrame at 0x7945bad8d850>"
      ]
     },
     "execution_count": 5,
     "metadata": {},
     "output_type": "execute_result"
    }
   ],
   "source": [
    "# extend a wroktree\n",
    "wg.extend(bands_wg, prefix='bands_')\n",
    "wg.extend(pdos_wg, prefix='pdos_')\n",
    "# adjust the links\n",
    "wg.links.new(relax_node.outputs['output_structure'], wg.nodes['bands_scf'].inputs['pw.structure'])\n",
    "wg.links.new(relax_node.outputs['output_structure'], wg.nodes['pdos_scf'].inputs['pw.structure'])\n",
    "wg.to_html()"
   ]
  },
  {
   "cell_type": "markdown",
   "id": "ec8284c9",
   "metadata": {},
   "source": [
    "## Graph builder\n",
    "One can compare it with the other method: using the workgraph as a node inside another workgraph.\n",
    "\n"
   ]
  },
  {
   "cell_type": "code",
   "execution_count": 6,
   "id": "345f250f",
   "metadata": {},
   "outputs": [
    {
     "data": {
      "text/html": [
       "\n",
       "        <iframe\n",
       "            width=\"100%\"\n",
       "            height=\"600px\"\n",
       "            src=\"html/Relax_Bands_PDOS_graph_builder.html\"\n",
       "            frameborder=\"0\"\n",
       "            allowfullscreen\n",
       "            \n",
       "        ></iframe>\n",
       "        "
      ],
      "text/plain": [
       "<IPython.lib.display.IFrame at 0x7945bae44190>"
      ]
     },
     "execution_count": 6,
     "metadata": {},
     "output_type": "execute_result"
    }
   ],
   "source": [
    "wg = WorkGraph('Relax_Bands_PDOS_graph_builder')\n",
    "relax_node = wg.nodes.new(PwRelaxWorkChain, name='relax')\n",
    "bands_job = wg.nodes.new(bands_workgraph, name='bands_group')\n",
    "pdos_job = wg.nodes.new(pdos_workgraph, name='pdos_group')\n",
    "wg.links.new(relax_node.outputs['output_structure'], bands_job.inputs['structure'])\n",
    "wg.links.new(relax_node.outputs['output_structure'], pdos_job.inputs['structure'])\n",
    "wg.to_html()"
   ]
  },
  {
   "cell_type": "markdown",
   "id": "17d4996e",
   "metadata": {},
   "source": [
    "### Pros\n",
    "Show the top level workflow.\n",
    "### Cons\n",
    "Only know the exact node graph at runtime."
   ]
  }
 ],
 "metadata": {
  "kernelspec": {
   "display_name": "Python 3.10.4 ('scinode')",
   "language": "python",
   "name": "python3"
  },
  "language_info": {
   "codemirror_mode": {
    "name": "ipython",
    "version": 3
   },
   "file_extension": ".py",
   "mimetype": "text/x-python",
   "name": "python",
   "nbconvert_exporter": "python",
   "pygments_lexer": "ipython3",
   "version": "3.11.0"
  },
  "vscode": {
   "interpreter": {
    "hash": "2f450c1ff08798c4974437dd057310afef0de414c25d1fd960ad375311c3f6ff"
   }
  }
 },
 "nbformat": 4,
 "nbformat_minor": 5
}
