{
 "cells": [
  {
   "cell_type": "markdown",
   "id": "22d177dc-6cfb-4de2-9509-f1eb45e10cf2",
   "metadata": {},
   "source": [
    "# Combine workgraphs\n",
    "\n",
    "## Introduction\n",
    "\n",
    "There are two ways to combine workgraphs:\n",
    "\n",
    "- Extending a workgraph by the tasks of another\n",
    "- Adding a workgraph as a task of another\n",
    "\n",
    "This tutorial will show both, highlighting the differences.\n"
   ]
  },
  {
   "cell_type": "code",
   "execution_count": 62,
   "id": "c6b83fb5",
   "metadata": {},
   "outputs": [
    {
     "name": "stdout",
     "output_type": "stream",
     "text": [
      "The aiida extension is already loaded. To reload it, use:\n",
      "  %reload_ext aiida\n"
     ]
    },
    {
     "data": {
      "text/plain": [
       "Profile<uuid='36f11577e5ee4adf9e4a5f5d62d3ae9b' name='presto'>"
      ]
     },
     "execution_count": 62,
     "metadata": {},
     "output_type": "execute_result"
    }
   ],
   "source": [
    "%load_ext aiida\n",
    "from aiida import load_profile\n",
    "\n",
    "load_profile()"
   ]
  },
  {
   "cell_type": "code",
   "execution_count": 63,
   "id": "2a9ca8e9",
   "metadata": {},
   "outputs": [],
   "source": [
    "from aiida_workgraph import WorkGraph, task"
   ]
  },
  {
   "cell_type": "markdown",
   "id": "13cdd81e",
   "metadata": {},
   "source": [
    "## Extending a workgraph by the tasks of another\n",
    "\n",
    "We first define a workgraph to add two numbers and multiply the sum by a third."
   ]
  },
  {
   "cell_type": "code",
   "execution_count": 64,
   "id": "324fddc5",
   "metadata": {},
   "outputs": [],
   "source": [
    "@task\n",
    "def add(a, b):\n",
    "    return a + b\n",
    "\n",
    "\n",
    "@task\n",
    "def multiply(a, b):\n",
    "    return a * b\n",
    "\n",
    "\n",
    "@task.graph_builder\n",
    "def add_multiply(a, b, c):\n",
    "    wg = WorkGraph(\"AddMultiply\")\n",
    "    add_task = wg.add_task(add, a=a, b=b, name=\"add\")\n",
    "    wg.add_task(multiply, a=add_task.outputs.result, b=c, name=\"multiply\")\n",
    "    return wg\n",
    "\n",
    "add_multiply_graph = add_multiply(1, 2, 3)"
   ]
  },
  {
   "cell_type": "markdown",
   "id": "2120bacc",
   "metadata": {},
   "source": [
    "Next, we define a second workgraph with a task to generate a random number between 1 and 10. We then unpack the tasks of the first workgraph into the second, assigning the output of the random number generator as the factor of the multiplication task."
   ]
  },
  {
   "cell_type": "code",
   "execution_count": 65,
   "id": "beab4231",
   "metadata": {},
   "outputs": [
    {
     "data": {
      "text/html": [
       "\n",
       "        <iframe\n",
       "            width=\"100%\"\n",
       "            height=\"600px\"\n",
       "            src=\"html/AddMultiplyExtension.html\"\n",
       "            frameborder=\"0\"\n",
       "            allowfullscreen\n",
       "            \n",
       "        ></iframe>\n",
       "        "
      ],
      "text/plain": [
       "<IPython.lib.display.IFrame at 0x79594678c880>"
      ]
     },
     "execution_count": 65,
     "metadata": {},
     "output_type": "execute_result"
    }
   ],
   "source": [
    "@task\n",
    "def generate_random_number(minimum, maximum):\n",
    "    import random\n",
    "\n",
    "    return random.randint(minimum, maximum)\n",
    "\n",
    "\n",
    "wg = WorkGraph(\"AddMultiplyExtension\")\n",
    "generate_number_task = wg.add_task(\n",
    "    generate_random_number,\n",
    "    minimum=1,\n",
    "    maximum=10,\n",
    ")\n",
    "wg.extend(add_multiply_graph)\n",
    "wg.add_link(\n",
    "    generate_number_task.outputs.result,\n",
    "    wg.tasks[\"multiply\"].inputs.b,\n",
    ")\n",
    "wg.to_html()"
   ]
  },
  {
   "cell_type": "markdown",
   "id": "935727d5",
   "metadata": {},
   "source": [
    "Here we've authored a new workgraph as an extension of the first. The resultant workgraph reveals all tasks, with a clear dependency structure.\n",
    "\n",
    "## Adding a workgraph as a task of another\n",
    "\n",
    "Next, we will contrast this against adding the first workgraph as a task of the second."
   ]
  },
  {
   "cell_type": "code",
   "execution_count": 66,
   "id": "8b0c466c",
   "metadata": {},
   "outputs": [
    {
     "data": {
      "text/html": [
       "\n",
       "        <iframe\n",
       "            width=\"100%\"\n",
       "            height=\"600px\"\n",
       "            src=\"html/AddMultiplyBlackBox.html\"\n",
       "            frameborder=\"0\"\n",
       "            allowfullscreen\n",
       "            \n",
       "        ></iframe>\n",
       "        "
      ],
      "text/plain": [
       "<IPython.lib.display.IFrame at 0x79594678c4c0>"
      ]
     },
     "execution_count": 66,
     "metadata": {},
     "output_type": "execute_result"
    }
   ],
   "source": [
    "wg = WorkGraph(\"AddMultiplyBlackBox\")\n",
    "random_number_generator = wg.add_task(\n",
    "    generate_random_number,\n",
    "    minimum=1,\n",
    "    maximum=10,\n",
    ")\n",
    "add_multiply_task = wg.add_task(\n",
    "    add_multiply,\n",
    "    a=1,\n",
    "    b=2,\n",
    "    c=random_number_generator.outputs.result,\n",
    ")\n",
    "wg.to_html()"
   ]
  },
  {
   "cell_type": "markdown",
   "id": "17d4996e",
   "metadata": {},
   "source": [
    "Here we've directly added the graph builder of the first workgraph as a task of the second. The resultant workgraph shows the random number generation task but does not show the internal dependency structure of the first workgraph. Instead, it is treated as a black box, with the output of the random number generator being passed to the graph builder input. The internal mechanism of the first workgraph is only made visible at runtime, when the first workgraph is executed.\n",
    "\n",
    "## Summary\n",
    "\n",
    "In this tutorial, we have seen how to combine workgraphs in two different ways: by extending a workgraph with the tasks of another, and by adding a workgraph as a black-box task. The choice between these methods depends on whether you want to see the internal structure of the combined workgraph or treat it as a black box, effectively trading off transparency and abstraction. Each method has its use cases, and understanding them will help you design more complex workflows in AiiDA."
   ]
  }
 ],
 "metadata": {
  "kernelspec": {
   "display_name": "workgraph",
   "language": "python",
   "name": "python3"
  },
  "language_info": {
   "codemirror_mode": {
    "name": "ipython",
    "version": 3
   },
   "file_extension": ".py",
   "mimetype": "text/x-python",
   "name": "python",
   "nbconvert_exporter": "python",
   "pygments_lexer": "ipython3",
   "version": "3.10.8"
  }
 },
 "nbformat": 4,
 "nbformat_minor": 5
}
