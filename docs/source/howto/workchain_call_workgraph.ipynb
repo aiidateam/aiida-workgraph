{
 "cells": [
  {
   "cell_type": "markdown",
   "id": "22d177dc-6cfb-4de2-9509-f1eb45e10cf2",
   "metadata": {},
   "source": [
    "# Call WorkGraph inside WorkChain\n",
    "\n",
    "## Introduction\n",
    "In this tutorial, we will show how to call a WorkGraph inside a WorkChain.\n",
    "\n",
    "\n"
   ]
  },
  {
   "cell_type": "code",
   "execution_count": 2,
   "id": "adcbd9ba",
   "metadata": {},
   "outputs": [
    {
     "name": "stdout",
     "output_type": "stream",
     "text": [
      "submit workgraph: \n"
     ]
    },
    {
     "name": "stderr",
     "output_type": "stream",
     "text": [
      "07/14/2024 03:25:41 AM <2859676> aiida.orm.nodes.process.workflow.workchain.WorkChainNode: [REPORT] [89920|WorkGraphEngine|continue_workgraph]: Continue workgraph.\n",
      "07/14/2024 03:25:41 AM <2859676> aiida.orm.nodes.process.workflow.workchain.WorkChainNode: [REPORT] [89920|WorkGraphEngine|continue_workgraph]: tasks ready to run: add\n",
      "07/14/2024 03:25:41 AM <2859676> aiida.orm.nodes.process.workflow.workchain.WorkChainNode: [REPORT] [89920|WorkGraphEngine|run_tasks]: Run task: add, type: CALCFUNCTION\n"
     ]
    },
    {
     "name": "stdout",
     "output_type": "stream",
     "text": [
      "Continue workgraph.\n",
      "------------------------------------------------------------\n",
      "executor:  <function add at 0x7288f50994e0>\n",
      "task type: calcfunction/workfunction.\n"
     ]
    },
    {
     "name": "stderr",
     "output_type": "stream",
     "text": [
      "07/14/2024 03:25:42 AM <2859676> aiida.orm.nodes.process.workflow.workchain.WorkChainNode: [REPORT] [89920|WorkGraphEngine|run_tasks]: Task: add finished.\n",
      "07/14/2024 03:25:42 AM <2859676> aiida.orm.nodes.process.workflow.workchain.WorkChainNode: [REPORT] [89920|WorkGraphEngine|continue_workgraph]: Continue workgraph.\n",
      "07/14/2024 03:25:42 AM <2859676> aiida.orm.nodes.process.workflow.workchain.WorkChainNode: [REPORT] [89920|WorkGraphEngine|continue_workgraph]: tasks ready to run: multiply\n",
      "07/14/2024 03:25:42 AM <2859676> aiida.orm.nodes.process.workflow.workchain.WorkChainNode: [REPORT] [89920|WorkGraphEngine|run_tasks]: Run task: multiply, type: CALCFUNCTION\n"
     ]
    },
    {
     "name": "stdout",
     "output_type": "stream",
     "text": [
      "Continue workgraph.\n",
      "------------------------------------------------------------\n",
      "executor:  <function multiply at 0x7288f509b880>\n",
      "task type: calcfunction/workfunction.\n"
     ]
    },
    {
     "name": "stderr",
     "output_type": "stream",
     "text": [
      "07/14/2024 03:25:42 AM <2859676> aiida.orm.nodes.process.workflow.workchain.WorkChainNode: [REPORT] [89920|WorkGraphEngine|run_tasks]: Task: multiply finished.\n",
      "07/14/2024 03:25:42 AM <2859676> aiida.orm.nodes.process.workflow.workchain.WorkChainNode: [REPORT] [89920|WorkGraphEngine|continue_workgraph]: Continue workgraph.\n",
      "07/14/2024 03:25:42 AM <2859676> aiida.orm.nodes.process.workflow.workchain.WorkChainNode: [REPORT] [89920|WorkGraphEngine|continue_workgraph]: tasks ready to run: \n",
      "07/14/2024 03:25:42 AM <2859676> aiida.orm.nodes.process.workflow.workchain.WorkChainNode: [REPORT] [89920|WorkGraphEngine|finalize]: Finalize\n"
     ]
    },
    {
     "name": "stdout",
     "output_type": "stream",
     "text": [
      "Continue workgraph.\n",
      "task:  add FINISHED\n",
      "task:  multiply FINISHED\n",
      "is workgraph finished:  True\n",
      "workgraph outputs:  [{'from': 'multiply', 'name': 'multiply'}]\n",
      "output:  {'from': 'multiply', 'name': 'multiply'}\n",
      "Finalize workgraph add_multiply_workflow\n",
      "\n"
     ]
    },
    {
     "data": {
      "text/plain": [
       "{'result': <Int: uuid: f60795e5-22b2-4ac1-bc2c-4ec3bcdff96f (pk: 89927) value: 6>}"
      ]
     },
     "execution_count": 2,
     "metadata": {},
     "output_type": "execute_result"
    }
   ],
   "source": [
    "from aiida.engine import WorkChain, calcfunction, run\n",
    "from aiida import orm, load_profile\n",
    "\n",
    "load_profile()\n",
    "\n",
    "\n",
    "@calcfunction\n",
    "def add(x, y):\n",
    "    return x + y\n",
    "\n",
    "\n",
    "@calcfunction\n",
    "def multiply(x, y):\n",
    "    return x * y\n",
    "\n",
    "from aiida_workgraph import WorkGraph\n",
    "\n",
    "wg = WorkGraph(\"add_multiply_workflow\")\n",
    "add_task = wg.tasks.new(add, name=\"add\")\n",
    "# link the output of the `add` task to one of the `x` input of the `multiply` task.\n",
    "wg.tasks.new(multiply, name=\"multiply\", x = add_task.outputs[\"result\"])\n",
    "wg.group_outputs = [{\"name\": \"multiply\", \"from\": \"multiply\"}]\n",
    "wg.tasks[\"add\"].set({'x': 1, 'y': 2})\n",
    "wg.tasks[\"multiply\"].set({'y': 2})\n",
    "\n",
    "class AddAndMultiplyWorkChain(WorkChain):\n",
    "    @classmethod\n",
    "    def define(cls, spec):\n",
    "        super().define(spec)\n",
    "        spec.input_namespace('wgdata', dynamic=True)\n",
    "        spec.outline(\n",
    "            cls.run_workgraph,\n",
    "            cls.results,\n",
    "        )\n",
    "        spec.output('result')\n",
    "\n",
    "    def run_workgraph(self):\n",
    "        from aiida_workgraph.engine.workgraph import WorkGraphEngine\n",
    "        inputs = {\n",
    "            'wg': self.inputs.wgdata,\n",
    "        }\n",
    "        print(\"submit workgraph: \")\n",
    "        process = self.submit(WorkGraphEngine, inputs=inputs)\n",
    "        self.to_context(workgraph=process)\n",
    "\n",
    "    def results(self):\n",
    "        self.out('result', self.ctx.workgraph.outputs.multiply.result)\n",
    "    \n",
    "\n",
    "run(AddAndMultiplyWorkChain, inputs={\"wgdata\": wg.to_dict()})"
   ]
  }
 ],
 "metadata": {
  "kernelspec": {
   "display_name": "Python 3.10.4 ('scinode')",
   "language": "python",
   "name": "python3"
  },
  "language_info": {
   "codemirror_mode": {
    "name": "ipython",
    "version": 3
   },
   "file_extension": ".py",
   "mimetype": "text/x-python",
   "name": "python",
   "nbconvert_exporter": "python",
   "pygments_lexer": "ipython3",
   "version": "3.11.0"
  },
  "vscode": {
   "interpreter": {
    "hash": "2f450c1ff08798c4974437dd057310afef0de414c25d1fd960ad375311c3f6ff"
   }
  }
 },
 "nbformat": 4,
 "nbformat_minor": 5
}
