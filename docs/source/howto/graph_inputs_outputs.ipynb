{
 "cells": [
  {
   "cell_type": "markdown",
   "id": "b725a79a",
   "metadata": {},
   "source": [
    "# Graph-level inputs and outputs\n",
    "\n",
    "## Introduction\n",
    "\n",
    "When constructing complex workflows, you may encounter tasks that share input parameters (e.g. `code`). Also, you may wish to reorder or rename internal task outputs at the top level (e.g. `wg.outputs.optimized_stuff` instead of `wg.outputs.optimize.stuff`).\n",
    "\n",
    "`WorkGraph` allows you to define **graph-level inputs and outputs** to:\n",
    "\n",
    "- **Share inputs** across multiple tasks in a graph.\n",
    "- **Aggregate outputs** from internal tasks, optionally organizing or renaming them.\n",
    "- **Simplify the interface** by exposing shared parameters to users (retaining the flexibility of internal task parameter definitions)."
   ]
  },
  {
   "cell_type": "markdown",
   "id": "af59ac15",
   "metadata": {},
   "source": [
    "## Defining graph-level inputs and outputs"
   ]
  },
  {
   "cell_type": "code",
   "execution_count": 1,
   "id": "bfe242db",
   "metadata": {},
   "outputs": [
    {
     "data": {
      "text/html": [
       "\n",
       "        <iframe\n",
       "            width=\"100%\"\n",
       "            height=\"600px\"\n",
       "            src=\"html/GraphLevelInputsSimple.html\"\n",
       "            frameborder=\"0\"\n",
       "            allowfullscreen\n",
       "            \n",
       "        ></iframe>\n",
       "        "
      ],
      "text/plain": [
       "<IPython.lib.display.IFrame at 0x7ab97ce63940>"
      ]
     },
     "execution_count": 1,
     "metadata": {},
     "output_type": "execute_result"
    }
   ],
   "source": [
    "from aiida_workgraph import WorkGraph, task\n",
    "\n",
    "with WorkGraph(\"GraphLevelInputsSimple\") as wg:\n",
    "    wg.inputs = dict.fromkeys([\"x\", \"y\", \"z\"])  # define graph-level inputs\n",
    "    outputs1 = wg.inputs.x + wg.inputs.y\n",
    "    wg.outputs.sum = outputs1  # define graph-level output for the sum\n",
    "    outputs2 = outputs1 * wg.inputs.z\n",
    "    wg.outputs.product = outputs2  # define graph-level output for the product\n",
    "\n",
    "\n",
    "wg.to_html()"
   ]
  },
  {
   "cell_type": "markdown",
   "id": "44be19fc",
   "metadata": {},
   "source": [
    "### Run the workgraph\n"
   ]
  },
  {
   "cell_type": "code",
   "execution_count": 2,
   "id": "42bb8be2",
   "metadata": {},
   "outputs": [
    {
     "name": "stdout",
     "output_type": "stream",
     "text": [
      "WorkGraph process created, PK: 10661\n",
      "Process 10661 finished with state: FINISHED\n",
      "Graph-level outputs:\n",
      "Sum: uuid: 4ab741fa-788e-4d2c-9fad-07dd04997365 (pk: 10665) value: 3\n",
      "Product: uuid: 2f97974e-4689-4ff9-8d76-d1c8d71f0220 (pk: 10669) value: 9\n"
     ]
    }
   ],
   "source": [
    "from aiida import load_profile\n",
    "\n",
    "_ = load_profile()\n",
    "\n",
    "wg.submit(\n",
    "    {\n",
    "        \"graph_inputs\": {\n",
    "            \"x\": 1,\n",
    "            \"y\": 2,\n",
    "            \"z\": 3,\n",
    "        },\n",
    "    },\n",
    "    wait=True,\n",
    ")\n",
    "\n",
    "print(\"Graph-level outputs:\")\n",
    "print(\"Sum:\", wg.outputs.sum.value)\n",
    "print(\"Product:\", wg.outputs.product.value)"
   ]
  },
  {
   "cell_type": "markdown",
   "id": "bb028bf8",
   "metadata": {},
   "source": [
    "## Providing graph-level inputs metadata\n",
    "\n",
    "Graph-level inputs can also be defined using `wg.add_input(...)`. The method allows you to provide an identifier (e.g. `workgraph.any`) to the input, which is used for validation and for clearer identification when visualizing the graph."
   ]
  },
  {
   "cell_type": "code",
   "execution_count": 3,
   "id": "4ed95b93",
   "metadata": {},
   "outputs": [],
   "source": [
    "with WorkGraph(\"GraphLevelInputsMetadata\") as wg:\n",
    "    wg.add_input(\"workgraph.int\", \"x\")  # validated as an integer\n",
    "    wg.add_input(\"workgraph.int\", \"y\")\n",
    "    wg.add_input(\"workgraph.int\", \"z\")\n",
    "    wg.outputs.result = (wg.inputs.x + wg.inputs.y) * wg.inputs.z"
   ]
  },
  {
   "cell_type": "markdown",
   "id": "49acb9ac",
   "metadata": {},
   "source": [
    "When validating an input with a type identifier, it also associates the input port with a GUI component, allowing users to interact with the input in a more user-friendly way. For example, if you define an input as `workgraph.int`, it will be presented as an integer input field in the GUI.\n",
    "\n",
    "In the future, further details may be added when defining inputs, e.g., default values, descriptions, help messages, etc."
   ]
  },
  {
   "cell_type": "markdown",
   "id": "c8fab605",
   "metadata": {},
   "source": [
    "## Nested graph-level inputs and outputs\n",
    "\n",
    "Graph-level inputs and outputs can be **nested** allowing you to group related parameters and results. Here we're using the `add_task` interface to more clearly define the names of our tasks."
   ]
  },
  {
   "cell_type": "code",
   "execution_count": 4,
   "id": "ed13ccd8",
   "metadata": {},
   "outputs": [
    {
     "data": {
      "text/html": [
       "\n",
       "        <iframe\n",
       "            width=\"100%\"\n",
       "            height=\"600px\"\n",
       "            src=\"html/GraphLevelInputsNested.html\"\n",
       "            frameborder=\"0\"\n",
       "            allowfullscreen\n",
       "            \n",
       "        ></iframe>\n",
       "        "
      ],
      "text/plain": [
       "<IPython.lib.display.IFrame at 0x7ab97ce61600>"
      ]
     },
     "execution_count": 4,
     "metadata": {},
     "output_type": "execute_result"
    }
   ],
   "source": [
    "@task\n",
    "def add(x, y):\n",
    "    return x + y\n",
    "\n",
    "\n",
    "@task\n",
    "def multiply(x, y):\n",
    "    return x * y\n",
    "\n",
    "\n",
    "with WorkGraph(\"GraphLevelInputsNested\") as wg:\n",
    "    wg.inputs = {\n",
    "        \"add\": {\n",
    "            \"first\": dict.fromkeys([\"x\", \"y\"]),\n",
    "            \"second\": dict.fromkeys([\"x\", \"y\"]),\n",
    "        },\n",
    "        \"multiply\": dict.fromkeys([\"y\"]),\n",
    "    }\n",
    "    first_add = wg.add_task(\n",
    "        add,\n",
    "        name=\"first_add\",\n",
    "        x=wg.inputs.add.first.x,\n",
    "        y=wg.inputs.add.first.y,\n",
    "    )\n",
    "    second_add = wg.add_task(\n",
    "        add,\n",
    "        name=\"second_add\",\n",
    "        x=wg.inputs.add.second.x,\n",
    "        y=wg.inputs.add.second.y,\n",
    "    )\n",
    "    third_add = wg.add_task(\n",
    "        add,\n",
    "        name=\"third_add\",\n",
    "        x=first_add.outputs.result,\n",
    "        y=second_add.outputs.result,\n",
    "    )\n",
    "    multiply_task = wg.add_task(\n",
    "        multiply,\n",
    "        name=\"multiply\",\n",
    "        x=third_add.outputs.result,\n",
    "        y=wg.inputs.multiply.y,\n",
    "    )\n",
    "    wg.outputs.results = {\n",
    "        \"sums\": {\n",
    "            \"first\": first_add.outputs.result,\n",
    "            \"second\": second_add.outputs.result,\n",
    "            \"third\": third_add.outputs.result,\n",
    "        },\n",
    "        \"product\": multiply_task.outputs.result,\n",
    "    }\n",
    "\n",
    "\n",
    "wg.to_html()"
   ]
  },
  {
   "cell_type": "markdown",
   "id": "a1af1375",
   "metadata": {},
   "source": [
    "### Run the workgraph\n",
    "\n",
    "We can now run our workgraph with a clear input layout. Note that `WorkGraph` will automatically serialize the raw Python data into the corresponding AiiDA Data nodes (e.g., an `int` becomes `orm.Int`, a `str` becomes `orm.Str`, etc.) before execution. The exact serialization logic and all supported types (and how to register your own custom serializers) are described in detail in the **Data Serialization** section."
   ]
  },
  {
   "cell_type": "code",
   "execution_count": 5,
   "id": "8ff188e4",
   "metadata": {},
   "outputs": [
    {
     "name": "stdout",
     "output_type": "stream",
     "text": [
      "WorkGraph process created, PK: 10675\n",
      "Process 10675 finished with state: FINISHED\n",
      "Results:\n",
      "  Sums:\n",
      "    First: uuid: 660c049d-209a-4bdc-8474-6627a37da70d (pk: 10679) value: 3\n",
      "    Second: uuid: 478215e2-4a43-4168-8794-0ec402065afd (pk: 10683) value: 7\n",
      "    Third: uuid: a4fb30cd-e94c-4dc2-8521-729020d0b00b (pk: 10687) value: 10\n",
      "  Product: uuid: 44a4ee01-c440-4dbd-94be-29bbdeaec561 (pk: 10691) value: 50\n"
     ]
    }
   ],
   "source": [
    "wg.submit(\n",
    "    inputs={\n",
    "        \"graph_inputs\": {\n",
    "            \"add\": {\n",
    "                \"first\": {\n",
    "                    \"x\": 1,\n",
    "                    \"y\": 2,\n",
    "                },\n",
    "                \"second\": {\n",
    "                    \"x\": 3,\n",
    "                    \"y\": 4,\n",
    "                },\n",
    "            },\n",
    "            \"multiply\": {\n",
    "                \"y\": 5,\n",
    "            },\n",
    "        }\n",
    "    },\n",
    "    wait=True,\n",
    ")\n",
    "\n",
    "\n",
    "print(\"Results:\")\n",
    "print(\"  Sums:\")\n",
    "print(\"    First:\", wg.outputs.results.sums.first.value)\n",
    "print(\"    Second:\", wg.outputs.results.sums.second.value)\n",
    "print(\"    Third:\", wg.outputs.results.sums.third.value)\n",
    "print(\"  Product:\", wg.outputs.results.product.value)"
   ]
  },
  {
   "cell_type": "markdown",
   "id": "c6d7c1fe",
   "metadata": {},
   "source": [
    "When we inspect the outputs of the `WorkGraph` process, we see `sums` and `product` are grouped under the `results` output."
   ]
  },
  {
   "cell_type": "code",
   "execution_count": 6,
   "id": "6509898f",
   "metadata": {},
   "outputs": [
    {
     "name": "stdout",
     "output_type": "stream",
     "text": [
      "\u001b[22mProperty     Value\n",
      "-----------  ------------------------------------\n",
      "type         WorkGraph<GraphLevelInputsNested>\n",
      "state        Finished [0]\n",
      "pk           10675\n",
      "uuid         49569334-7906-46d8-8ba5-e6f51f0081a8\n",
      "label        GraphLevelInputsNested\n",
      "description\n",
      "ctime        2025-07-13 05:58:01.663638+00:00\n",
      "mtime        2025-07-13 05:58:04.381322+00:00\n",
      "\n",
      "Inputs                                         PK     Type\n",
      "---------------------------------------------  -----  ------\n",
      "workgraph_data\n",
      "    meta_sockets\n",
      "        graph_inputs\n",
      "            sockets\n",
      "                add\n",
      "                    sockets\n",
      "                        first\n",
      "                            sockets\n",
      "                                x\n",
      "                                    property\n",
      "                                        value  10670  Int\n",
      "                                y\n",
      "                                    property\n",
      "                                        value  10671  Int\n",
      "                        second\n",
      "                            sockets\n",
      "                                x\n",
      "                                    property\n",
      "                                        value  10672  Int\n",
      "                                y\n",
      "                                    property\n",
      "                                        value  10673  Int\n",
      "                multiply\n",
      "                    sockets\n",
      "                        y\n",
      "                            property\n",
      "                                value          10674  Int\n",
      "\n",
      "Outputs         PK     Type\n",
      "--------------  -----  ------\n",
      "results\n",
      "    sums\n",
      "        first   10679  Int\n",
      "        second  10683  Int\n",
      "        third   10687  Int\n",
      "    product     10691  Int\n",
      "\n",
      "Called         PK  Type\n",
      "----------  -----  --------\n",
      "first_add   10678  add\n",
      "second_add  10682  add\n",
      "third_add   10686  add\n",
      "multiply    10690  multiply\n",
      "\n",
      "Log messages\n",
      "----------------------------------------------\n",
      "There are 10 log messages for this calculation\n",
      "Run 'verdi process report 10675' to see them\u001b[0m\n"
     ]
    }
   ],
   "source": [
    "!verdi process show {wg.pk}"
   ]
  },
  {
   "cell_type": "markdown",
   "id": "4bf575d0",
   "metadata": {},
   "source": [
    "## Summary\n",
    "\n",
    "In this section, you learned how to:\n",
    "\n",
    "- Use `wg.inputs = {...}` to define many inputs at once, or to define nested (namespaced) inputs to group related parameters\n",
    "- Use `wg.add_input(...)` to define a graph-level input and provide additional metadata (e.g., type validation)\n",
    "- Use graph-level inputs in tasks (`wg.inputs.<name>`)\n",
    "- Use `wg.outputs.<name>` to expose graph-level outputs from internal tasks"
   ]
  }
 ],
 "metadata": {
  "kernelspec": {
   "display_name": "workgraph",
   "language": "python",
   "name": "python3"
  },
  "language_info": {
   "codemirror_mode": {
    "name": "ipython",
    "version": 3
   },
   "file_extension": ".py",
   "mimetype": "text/x-python",
   "name": "python",
   "nbconvert_exporter": "python",
   "pygments_lexer": "ipython3",
   "version": "3.10.14"
  }
 },
 "nbformat": 4,
 "nbformat_minor": 5
}
