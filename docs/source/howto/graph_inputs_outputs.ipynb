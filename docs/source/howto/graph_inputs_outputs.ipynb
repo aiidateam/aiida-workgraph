{
 "cells": [
  {
   "cell_type": "markdown",
   "id": "b725a79a",
   "metadata": {},
   "source": [
    "## Graph-level inputs and outputs in a WorkGraph\n",
    "\n",
    "In `WorkGraph`, you can define **graph-level inputs and outputs** to:\n",
    "\n",
    "* **Simplify the interface** by exposing only high-level parameters to users.\n",
    "* **Share inputs** across multiple tasks in the graph.\n",
    "* **Aggregate outputs** from internal tasks, optionally organizing or renaming them.\n",
    "\n",
    "This allows you to build clean, modular, and reusable workflows.\n",
    "\n",
    "\n",
    "### Example: Using Graph-Level Inputs and Outputs\n",
    "\n"
   ]
  },
  {
   "cell_type": "code",
   "execution_count": 1,
   "id": "bfe242db",
   "metadata": {},
   "outputs": [
    {
     "data": {
      "text/html": [
       "\n",
       "        <iframe\n",
       "            width=\"100%\"\n",
       "            height=\"600px\"\n",
       "            src=\"html/test_graph_inputs_outputs.html\"\n",
       "            frameborder=\"0\"\n",
       "            allowfullscreen\n",
       "            \n",
       "        ></iframe>\n",
       "        "
      ],
      "text/plain": [
       "<IPython.lib.display.IFrame at 0x7f00d6c2aad0>"
      ]
     },
     "execution_count": 1,
     "metadata": {},
     "output_type": "execute_result"
    }
   ],
   "source": [
    "from aiida_workgraph import WorkGraph, task\n",
    "from aiida import load_profile\n",
    "\n",
    "load_profile()\n",
    "\n",
    "@task\n",
    "def add(x, y):\n",
    "    \"\"\"Simple addition task.\"\"\"\n",
    "    return x + y\n",
    "\n",
    "# Create a new WorkGraph\n",
    "wg = WorkGraph(\"test_graph_inputs_outputs\")\n",
    "\n",
    "# Define graph-level input\n",
    "wg.add_input(\"workgraph.any\", \"a\")\n",
    "\n",
    "# Add tasks using the graph-level input\n",
    "wg.add_task(add, \"add1\", x=wg.inputs.a, y=3)\n",
    "wg.add_task(add, \"add2\", x=wg.inputs.a, y=wg.tasks.add1.outputs.result)\n",
    "\n",
    "# Define graph-level outputs by exposing selected task results\n",
    "wg.outputs.sum1 = wg.tasks.add1.outputs.result\n",
    "wg.outputs.sum2 = wg.tasks.add2.outputs.result\n",
    "wg.to_html()"
   ]
  },
  {
   "cell_type": "markdown",
   "id": "44be19fc",
   "metadata": {},
   "source": [
    "# Run the workgraph\n"
   ]
  },
  {
   "cell_type": "code",
   "execution_count": 2,
   "id": "42bb8be2",
   "metadata": {},
   "outputs": [
    {
     "name": "stdout",
     "output_type": "stream",
     "text": [
      "WorkGraph process created, PK: 53194\n",
      "Process 53194 finished with state: FINISHED\n",
      "Graph-level outputs:\n",
      "sum1: uuid: 28fa0b1f-37b3-4796-9281-d64d15276982 (pk: 53199) value: 4\n",
      "sum2: uuid: b90c7ff5-4945-4b55-9e69-f76b1b71a360 (pk: 53204) value: 5\n"
     ]
    }
   ],
   "source": [
    "# set the graph-level input\n",
    "wg.inputs.a = 1\n",
    "wg.submit(wait=True)\n",
    "\n",
    "# Print the graph-level outputs\n",
    "print(\"Graph-level outputs:\")\n",
    "print(\"sum1:\", wg.outputs.sum1.value)\n",
    "print(\"sum2:\", wg.outputs.sum2.value)"
   ]
  },
  {
   "cell_type": "markdown",
   "id": "c8fab605",
   "metadata": {},
   "source": [
    "### Advanced Example: Nested Graph Inputs and Outputs\n",
    "\n",
    "Graph inputs and outputs can be **nested**, allowing you to organize related parameters and results more effectively."
   ]
  },
  {
   "cell_type": "code",
   "execution_count": 2,
   "id": "ed13ccd8",
   "metadata": {},
   "outputs": [
    {
     "name": "stderr",
     "output_type": "stream",
     "text": [
      "05/07/2025 01:02:55 PM <1220196> aiida.orm.nodes.process.workflow.workchain.WorkChainNode: [REPORT] [127391|WorkGraphEngine|continue_workgraph]: tasks ready to run: add1,add2\n",
      "05/07/2025 01:02:55 PM <1220196> aiida.orm.nodes.process.workflow.workchain.WorkChainNode: [REPORT] [127391|WorkGraphEngine|update_task_state]: Task: add1, type: PyFunction, finished.\n",
      "05/07/2025 01:02:56 PM <1220196> aiida.orm.nodes.process.workflow.workchain.WorkChainNode: [REPORT] [127391|WorkGraphEngine|continue_workgraph]: tasks ready to run: add2\n",
      "05/07/2025 01:02:56 PM <1220196> aiida.orm.nodes.process.workflow.workchain.WorkChainNode: [REPORT] [127391|WorkGraphEngine|update_task_state]: Task: add2, type: PyFunction, finished.\n",
      "05/07/2025 01:02:56 PM <1220196> aiida.orm.nodes.process.workflow.workchain.WorkChainNode: [REPORT] [127391|WorkGraphEngine|continue_workgraph]: tasks ready to run: \n",
      "05/07/2025 01:02:56 PM <1220196> aiida.orm.nodes.process.workflow.workchain.WorkChainNode: [REPORT] [127391|WorkGraphEngine|finalize]: Finalize workgraph.\n"
     ]
    },
    {
     "name": "stdout",
     "output_type": "stream",
     "text": [
      "result:  TaskSocketNamespace(name='results', sockets=['sum1', 'sum2'])\n"
     ]
    }
   ],
   "source": [
    "from aiida_workgraph import WorkGraph\n",
    "\n",
    "wg = WorkGraph(name=\"test_inputs_outputs\")\n",
    "# Define both flat and nested graph-level inputs\n",
    "wg.inputs = {\"x\": 1}\n",
    "# Add a task using both top-level and nested inputs\n",
    "wg.add_task(add, name=\"add1\", x=wg.inputs.x, y=2)\n",
    "wg.add_task(add, name=\"add2\", x=wg.inputs.x, y=3)\n",
    "# Define graph-level outputs by collecting results from the task\n",
    "wg.outputs.results = {}\n",
    "wg.outputs.results.sum1 = wg.tasks.add1.outputs.result\n",
    "wg.outputs.results.sum2 = wg.tasks.add2.outputs.result\n",
    "wg.run()\n",
    "print(\"result: \", wg.outputs.results)"
   ]
  },
  {
   "cell_type": "markdown",
   "id": "c6d7c1fe",
   "metadata": {},
   "source": [
    "We can check the outputs of the WorkGraph process, and will fine the `sum1` and `sum2` are grouped under the `results` output:"
   ]
  },
  {
   "cell_type": "code",
   "execution_count": 3,
   "id": "6509898f",
   "metadata": {},
   "outputs": [
    {
     "name": "stdout",
     "output_type": "stream",
     "text": [
      "\u001b[22mProperty     Value\n",
      "-----------  ------------------------------------\n",
      "type         WorkGraph<test_inputs_outputs>\n",
      "state        Finished [0]\n",
      "pk           127391\n",
      "uuid         e8d980e8-fd52-492a-89e8-5a81d06ece18\n",
      "label        test_inputs_outputs\n",
      "description\n",
      "ctime        2025-05-07 11:02:55.240178+00:00\n",
      "mtime        2025-05-07 11:02:56.573200+00:00\n",
      "\n",
      "Inputs                             PK      Type\n",
      "---------------------------------  ------  ------\n",
      "workgraph_data\n",
      "    tasks\n",
      "        add1\n",
      "            inputs\n",
      "                sockets\n",
      "                    y\n",
      "                        property\n",
      "                            value  127389  Int\n",
      "        add2\n",
      "            inputs\n",
      "                sockets\n",
      "                    y\n",
      "                        property\n",
      "                            value  127390  Int\n",
      "\n",
      "Outputs    PK      Type\n",
      "---------  ------  ------\n",
      "results\n",
      "    sum1   127396  Int\n",
      "    sum2   127401  Int\n",
      "\n",
      "Called        PK  Type\n",
      "--------  ------  ------\n",
      "add1      127395  add\n",
      "add2      127400  add\n",
      "\n",
      "Log messages\n",
      "---------------------------------------------\n",
      "There are 6 log messages for this calculation\n",
      "Run 'verdi process report 127391' to see them\u001b[0m\n"
     ]
    }
   ],
   "source": [
    "!verdi process show {wg.pk}"
   ]
  },
  {
   "cell_type": "markdown",
   "id": "4bf575d0",
   "metadata": {},
   "source": [
    "\n",
    "### Summary\n",
    "\n",
    "* Use `wg.inputs.<name>` to define reusable graph-level inputs.\n",
    "* Use `wg.outputs.<name>` to expose relevant outputs from tasks.\n",
    "* Graph inputs and outputs can be flat or nested for better organization.\n",
    "* This approach encourages encapsulation and simplifies integration with other workflows or user interfaces."
   ]
  }
 ],
 "metadata": {
  "kernelspec": {
   "display_name": "aiida",
   "language": "python",
   "name": "python3"
  },
  "language_info": {
   "codemirror_mode": {
    "name": "ipython",
    "version": 3
   },
   "file_extension": ".py",
   "mimetype": "text/x-python",
   "name": "python",
   "nbconvert_exporter": "python",
   "pygments_lexer": "ipython3",
   "version": "3.11.0"
  }
 },
 "nbformat": 4,
 "nbformat_minor": 5
}
