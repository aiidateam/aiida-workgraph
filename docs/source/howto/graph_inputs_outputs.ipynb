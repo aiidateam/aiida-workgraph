{
 "cells": [
  {
   "cell_type": "markdown",
   "id": "b725a79a",
   "metadata": {},
   "source": [
    "# Define graph-level inputs and outputs\n",
    "\n",
    "## Introduction\n",
    "\n",
    "When constructing complex workflows, you may encounter tasks that share input parameters (e.g. `code`). Also, you may wish to reorder or rename internal task outputs at the top level (e.g. `wg.outputs.optimized_stuff` instead of `wg.outputs.optimize.stuff`).\n",
    "\n",
    "`WorkGraph` allows you to define **graph-level inputs and outputs** to:\n",
    "\n",
    "- **Share inputs** across multiple tasks in a graph.\n",
    "- **Aggregate outputs** from internal tasks, optionally organizing or renaming them.\n",
    "- **Simplify the interface** by exposing shared parameters to users (retaining the flexibility of internal task parameter definitions)."
   ]
  },
  {
   "cell_type": "code",
   "execution_count": 8,
   "id": "e43f1e4e",
   "metadata": {},
   "outputs": [],
   "source": [
    "from aiida_workgraph import WorkGraph, task\n",
    "from aiida import load_profile\n",
    "\n",
    "_ = load_profile()"
   ]
  },
  {
   "cell_type": "markdown",
   "id": "af59ac15",
   "metadata": {},
   "source": [
    "## Defining graph-level inputs and outputs"
   ]
  },
  {
   "cell_type": "code",
   "execution_count": 9,
   "id": "bfe242db",
   "metadata": {},
   "outputs": [
    {
     "data": {
      "text/html": [
       "\n",
       "        <iframe\n",
       "            width=\"100%\"\n",
       "            height=\"600px\"\n",
       "            src=\"html/GraphLevelInput.html\"\n",
       "            frameborder=\"0\"\n",
       "            allowfullscreen\n",
       "            \n",
       "        ></iframe>\n",
       "        "
      ],
      "text/plain": [
       "<IPython.lib.display.IFrame at 0x7af3d82097b0>"
      ]
     },
     "execution_count": 9,
     "metadata": {},
     "output_type": "execute_result"
    }
   ],
   "source": [
    "with WorkGraph(\"GraphLevelInput\") as wg:\n",
    "    # Define graph-level inputs\n",
    "    wg.inputs = dict.fromkeys([\"x\", \"y\", \"z\"])\n",
    "\n",
    "    # Define the tasks\n",
    "    the_sum = wg.inputs.x + wg.inputs.y\n",
    "    the_product = the_sum * wg.inputs.z\n",
    "\n",
    "    # Define graph-level outputs\n",
    "    wg.outputs.sum = the_sum\n",
    "    wg.outputs.product = the_product\n",
    "\n",
    "\n",
    "wg.to_html()"
   ]
  },
  {
   "cell_type": "markdown",
   "id": "44be19fc",
   "metadata": {},
   "source": [
    "### Run the workgraph\n"
   ]
  },
  {
   "cell_type": "code",
   "execution_count": 10,
   "id": "42bb8be2",
   "metadata": {},
   "outputs": [
    {
     "name": "stdout",
     "output_type": "stream",
     "text": [
      "WorkGraph process created, PK: 11826\n",
      "Process 11826 finished with state: FINISHED\n",
      "\n",
      "Graph-level outputs:\n",
      "  Sum: uuid: 54f4a3a6-a7e7-4fd6-89fe-2b2049cd46b9 (pk: 11830) value: 3\n",
      "  Product: uuid: 729bf499-4c6f-4d0e-b3f9-780da15cf775 (pk: 11834) value: 9\n"
     ]
    }
   ],
   "source": [
    "wg.submit(\n",
    "    {\n",
    "        \"graph_inputs\": {\n",
    "            \"x\": 1,\n",
    "            \"y\": 2,\n",
    "            \"z\": 3,\n",
    "        },\n",
    "    },\n",
    "    wait=True,\n",
    ")\n",
    "\n",
    "print(\"\\nGraph-level outputs:\")\n",
    "print(\"  Sum:\", wg.outputs.sum.value)\n",
    "print(\"  Product:\", wg.outputs.product.value)"
   ]
  },
  {
   "cell_type": "markdown",
   "id": "bb028bf8",
   "metadata": {},
   "source": [
    "## Providing graph-level inputs metadata\n",
    "\n",
    "Graph-level inputs can also be defined using `wg.add_input(...)`. The method allows you to provide an identifier (e.g. `workgraph.int`) to the input, which is used for validation. Also, if you use the AiiDA GUI, providing an `identifier` will associate the input with a GUI component, allowing users to interact with the input in a more user-friendly type-specific way."
   ]
  },
  {
   "cell_type": "code",
   "execution_count": 11,
   "id": "4ed95b93",
   "metadata": {},
   "outputs": [],
   "source": [
    "with WorkGraph(\"GraphLevelInputMetadata\") as wg:\n",
    "    wg.add_input(\"workgraph.int\", \"x\")  # validated as an integer\n",
    "    wg.add_input(\"workgraph.int\", \"y\")\n",
    "    wg.add_input(\"workgraph.int\", \"z\")\n",
    "    wg.outputs.result = (wg.inputs.x + wg.inputs.y) * wg.inputs.z"
   ]
  },
  {
   "cell_type": "markdown",
   "id": "49acb9ac",
   "metadata": {},
   "source": [
    "In the future, further details may be added when defining inputs, e.g., default values, descriptions, help messages, etc."
   ]
  },
  {
   "cell_type": "markdown",
   "id": "c8fab605",
   "metadata": {},
   "source": [
    "## Nested graph-level inputs and outputs\n",
    "\n",
    "Graph-level inputs and outputs can be **nested** allowing you to group related parameters and results. Here we're using the `add_task` interface to more clearly define the names of our tasks."
   ]
  },
  {
   "cell_type": "code",
   "execution_count": 12,
   "id": "ed13ccd8",
   "metadata": {},
   "outputs": [
    {
     "data": {
      "text/html": [
       "\n",
       "        <iframe\n",
       "            width=\"100%\"\n",
       "            height=\"600px\"\n",
       "            src=\"html/GraphLevelInputOutputNested.html\"\n",
       "            frameborder=\"0\"\n",
       "            allowfullscreen\n",
       "            \n",
       "        ></iframe>\n",
       "        "
      ],
      "text/plain": [
       "<IPython.lib.display.IFrame at 0x7af3d8143370>"
      ]
     },
     "execution_count": 12,
     "metadata": {},
     "output_type": "execute_result"
    }
   ],
   "source": [
    "@task\n",
    "def add(x, y):\n",
    "    return x + y\n",
    "\n",
    "\n",
    "@task\n",
    "def multiply(x, y):\n",
    "    return x * y\n",
    "\n",
    "\n",
    "with WorkGraph(\"GraphLevelInputOutputNested\") as wg:\n",
    "    wg.inputs = {\n",
    "        \"add\": {\n",
    "            \"first\": dict.fromkeys([\"x\", \"y\"]),\n",
    "            \"second\": dict.fromkeys([\"x\", \"y\"]),\n",
    "        },\n",
    "        \"multiply\": dict.fromkeys([\"factor\"]),\n",
    "    }\n",
    "\n",
    "    first_sum = wg.inputs.add.first.x + wg.inputs.add.first.y\n",
    "    second_sum = wg.inputs.add.second.x + wg.inputs.add.second.y\n",
    "    third_sum = first_sum + second_sum\n",
    "    product = third_sum * wg.inputs.multiply.factor\n",
    "\n",
    "    wg.outputs.results = {\n",
    "        \"sums\": {\n",
    "            \"first\": first_sum,\n",
    "            \"second\": second_sum,\n",
    "            \"third\": third_sum,\n",
    "        },\n",
    "        \"product\": product,\n",
    "    }\n",
    "\n",
    "\n",
    "wg.to_html()"
   ]
  },
  {
   "cell_type": "markdown",
   "id": "a1af1375",
   "metadata": {},
   "source": [
    "### Run the workgraph\n",
    "\n",
    "We can now run our workgraph with a clear input layout. Note that `WorkGraph` will automatically serialize the raw Python data into the corresponding AiiDA Data nodes (e.g., an `int` becomes `orm.Int`, a `str` becomes `orm.Str`, etc.) before execution. The exact serialization logic and all supported types (and how to register your own custom serializers) are described in detail in the **Data Serialization** section."
   ]
  },
  {
   "cell_type": "code",
   "execution_count": 13,
   "id": "8ff188e4",
   "metadata": {},
   "outputs": [
    {
     "name": "stdout",
     "output_type": "stream",
     "text": [
      "WorkGraph process created, PK: 11840\n",
      "Process 11840 finished with state: FINISHED\n",
      "\n",
      "Results:\n",
      "  Sums:\n",
      "    First: uuid: 68fe9b1a-d869-499a-82b9-70c5556cc258 (pk: 11844) value: 3\n",
      "    Second: uuid: 65f79486-a881-488b-ae7a-92caaeb33b87 (pk: 11848) value: 7\n",
      "    Third: uuid: 50027e21-ff83-412c-bab4-86b089b71406 (pk: 11852) value: 10\n",
      "  Product: uuid: be032d48-c884-4325-b219-527ce49ca365 (pk: 11856) value: 50\n"
     ]
    }
   ],
   "source": [
    "wg.submit(\n",
    "    inputs={\n",
    "        \"graph_inputs\": {\n",
    "            \"add\": {\n",
    "                \"first\": {\n",
    "                    \"x\": 1,\n",
    "                    \"y\": 2,\n",
    "                },\n",
    "                \"second\": {\n",
    "                    \"x\": 3,\n",
    "                    \"y\": 4,\n",
    "                },\n",
    "            },\n",
    "            \"multiply\": {\n",
    "                \"factor\": 5,\n",
    "            },\n",
    "        }\n",
    "    },\n",
    "    wait=True,\n",
    ")\n",
    "\n",
    "print(\"\\nResults:\")\n",
    "print(\"  Sums:\")\n",
    "print(\"    First:\", wg.outputs.results.sums.first.value)\n",
    "print(\"    Second:\", wg.outputs.results.sums.second.value)\n",
    "print(\"    Third:\", wg.outputs.results.sums.third.value)\n",
    "print(\"  Product:\", wg.outputs.results.product.value)"
   ]
  },
  {
   "cell_type": "markdown",
   "id": "c6d7c1fe",
   "metadata": {},
   "source": [
    "When we inspect the outputs of the `WorkGraph` process, we see `sums` and `product` are grouped under the `results` output."
   ]
  },
  {
   "cell_type": "code",
   "execution_count": 14,
   "id": "6509898f",
   "metadata": {},
   "outputs": [
    {
     "name": "stdout",
     "output_type": "stream",
     "text": [
      "\u001b[22mProperty     Value\n",
      "-----------  --------------------------------------\n",
      "type         WorkGraph<GraphLevelInputOutputNested>\n",
      "state        Finished [0]\n",
      "pk           11840\n",
      "uuid         3c10d78f-7c8d-4a12-a8ee-5d2b4f51866c\n",
      "label        GraphLevelInputOutputNested\n",
      "description\n",
      "ctime        2025-07-14 15:08:32.992863+00:00\n",
      "mtime        2025-07-14 15:08:35.716053+00:00\n",
      "\n",
      "Inputs                                         PK     Type\n",
      "---------------------------------------------  -----  ------\n",
      "workgraph_data\n",
      "    meta_sockets\n",
      "        graph_inputs\n",
      "            sockets\n",
      "                add\n",
      "                    sockets\n",
      "                        first\n",
      "                            sockets\n",
      "                                x\n",
      "                                    property\n",
      "                                        value  11835  Int\n",
      "                                y\n",
      "                                    property\n",
      "                                        value  11836  Int\n",
      "                        second\n",
      "                            sockets\n",
      "                                x\n",
      "                                    property\n",
      "                                        value  11837  Int\n",
      "                                y\n",
      "                                    property\n",
      "                                        value  11838  Int\n",
      "                multiply\n",
      "                    sockets\n",
      "                        factor\n",
      "                            property\n",
      "                                value          11839  Int\n",
      "\n",
      "Outputs         PK     Type\n",
      "--------------  -----  ------\n",
      "results\n",
      "    sums\n",
      "        first   11844  Int\n",
      "        second  11848  Int\n",
      "        third   11852  Int\n",
      "    product     11856  Int\n",
      "\n",
      "Called       PK  Type\n",
      "--------  -----  ------\n",
      "op_add    11843  op_add\n",
      "op_add1   11847  op_add\n",
      "op_add2   11851  op_add\n",
      "op_mul    11855  op_mul\n",
      "\n",
      "Log messages\n",
      "----------------------------------------------\n",
      "There are 10 log messages for this calculation\n",
      "Run 'verdi process report 11840' to see them\u001b[0m\n"
     ]
    }
   ],
   "source": [
    "!verdi process show {wg.pk}"
   ]
  },
  {
   "cell_type": "markdown",
   "id": "4bf575d0",
   "metadata": {},
   "source": [
    "## Summary\n",
    "\n",
    "In this section, you learned how to:\n",
    "\n",
    "- Use `wg.inputs = {...}` to define many inputs at once, or to define nested (namespaced) inputs to group related parameters\n",
    "- Use `wg.add_input(...)` to define a graph-level input and provide additional metadata (e.g., type validation)\n",
    "- Use graph-level inputs in tasks (`wg.inputs.<name>`)\n",
    "- Use `wg.outputs.<name>` to expose graph-level outputs from internal tasks"
   ]
  }
 ],
 "metadata": {
  "kernelspec": {
   "display_name": "workgraph",
   "language": "python",
   "name": "python3"
  },
  "language_info": {
   "codemirror_mode": {
    "name": "ipython",
    "version": 3
   },
   "file_extension": ".py",
   "mimetype": "text/x-python",
   "name": "python",
   "nbconvert_exporter": "python",
   "pygments_lexer": "ipython3",
   "version": "3.10.14"
  }
 },
 "nbformat": 4,
 "nbformat_minor": 5
}
