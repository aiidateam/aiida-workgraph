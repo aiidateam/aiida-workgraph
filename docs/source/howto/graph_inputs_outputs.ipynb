{
 "cells": [
  {
   "cell_type": "markdown",
   "id": "b725a79a",
   "metadata": {},
   "source": [
    "# Graph-level inputs and outputs\n",
    "\n",
    "## Introduction\n",
    "\n",
    "When constructing complex workflows, you may encounter tasks that share input parameters (e.g. `code`). Also, you may wish to reorder or rename internal task outputs at the top level (e.g. `wg.outputs.optimized_stuff` instead of `wg.outputs.optimize.stuff`).\n",
    "\n",
    "`WorkGraph` allows you to define **graph-level inputs and outputs** to:\n",
    "\n",
    "- **Share inputs** across multiple tasks in a graph.\n",
    "- **Aggregate outputs** from internal tasks, optionally organizing or renaming them.\n",
    "- **Simplify the interface** by exposing shared parameters to users (retaining the flexibility of internal task parameter definitions).\n",
    "\n",
    "## Example: Using graph-level inputs and outputs\n"
   ]
  },
  {
   "cell_type": "code",
   "execution_count": null,
   "id": "bfe242db",
   "metadata": {},
   "outputs": [
    {
     "data": {
      "text/html": [
       "\n",
       "        <iframe\n",
       "            width=\"100%\"\n",
       "            height=\"600px\"\n",
       "            src=\"html/test_graph_inputs_outputs.html\"\n",
       "            frameborder=\"0\"\n",
       "            allowfullscreen\n",
       "            \n",
       "        ></iframe>\n",
       "        "
      ],
      "text/plain": [
       "<IPython.lib.display.IFrame at 0x791f47d78070>"
      ]
     },
     "execution_count": 12,
     "metadata": {},
     "output_type": "execute_result"
    }
   ],
   "source": [
    "from aiida_workgraph import WorkGraph, task\n",
    "from aiida import load_profile\n",
    "\n",
    "load_profile()\n",
    "\n",
    "\n",
    "@task\n",
    "def add(x, y):\n",
    "    return x + y\n",
    "\n",
    "# Create a new WorkGraph\n",
    "wg = WorkGraph(\"test_graph_inputs_outputs\")\n",
    "\n",
    "# Define graph-level input (of type `any`)\n",
    "wg.add_input(\"workgraph.any\", \"a\")\n",
    "\n",
    "# Add tasks using the graph-level input\n",
    "wg.add_task(add, \"add1\", x=wg.inputs.a, y=3)\n",
    "wg.add_task(add, \"add2\", x=wg.inputs.a, y=wg.tasks.add1.outputs.result)\n",
    "\n",
    "# Define graph-level outputs by exposing selected task results\n",
    "wg.outputs.sum1 = wg.tasks.add1.outputs.result\n",
    "wg.outputs.sum2 = wg.tasks.add2.outputs.result\n",
    "wg.to_html()"
   ]
  },
  {
   "cell_type": "markdown",
   "id": "44be19fc",
   "metadata": {},
   "source": [
    "### Run the workgraph\n"
   ]
  },
  {
   "cell_type": "code",
   "execution_count": 13,
   "id": "42bb8be2",
   "metadata": {},
   "outputs": [
    {
     "name": "stdout",
     "output_type": "stream",
     "text": [
      "WorkGraph process created, PK: 8014\n",
      "Process 8014 finished with state: FINISHED\n",
      "Graph-level outputs:\n",
      "sum1: uuid: 94da4ac8-c0da-44ac-a5ac-e92d762b9d0b (pk: 8019) value: 4\n",
      "sum2: uuid: 480a9666-e412-43be-8bf6-d025ea3c7f67 (pk: 8024) value: 5\n"
     ]
    }
   ],
   "source": [
    "# Set the graph-level input\n",
    "wg.inputs.a = 1\n",
    "wg.submit(wait=True)\n",
    "\n",
    "# Print the graph-level outputs\n",
    "print(\"Graph-level outputs:\")\n",
    "print(\"sum1:\", wg.outputs.sum1.value)\n",
    "print(\"sum2:\", wg.outputs.sum2.value)"
   ]
  },
  {
   "cell_type": "markdown",
   "id": "bb028bf8",
   "metadata": {},
   "source": [
    "### Note regarding `add_input`\n",
    "\n",
    "Graph-level inputs can also be defined as `wg.inputs = {\"a\": ...}` (see following section). However, the above approach allows you to provide an identifier (e.g. `workgraph.any`) to the input, which is used for validation and for clearer identification when visualizing the graph (see below)."
   ]
  },
  {
   "cell_type": "markdown",
   "id": "c8fab605",
   "metadata": {},
   "source": [
    "## Nested graph-level inputs and outputs\n",
    "\n",
    "Graph-level inputs and outputs can be **nested** allowing you to group related parameters and results."
   ]
  },
  {
   "cell_type": "code",
   "execution_count": 28,
   "id": "ed13ccd8",
   "metadata": {},
   "outputs": [
    {
     "data": {
      "text/html": [
       "\n",
       "        <iframe\n",
       "            width=\"100%\"\n",
       "            height=\"600px\"\n",
       "            src=\"html/test_nested_graph_inputs_outputs.html\"\n",
       "            frameborder=\"0\"\n",
       "            allowfullscreen\n",
       "            \n",
       "        ></iframe>\n",
       "        "
      ],
      "text/plain": [
       "<IPython.lib.display.IFrame at 0x791f4797be80>"
      ]
     },
     "execution_count": 28,
     "metadata": {},
     "output_type": "execute_result"
    }
   ],
   "source": [
    "from aiida_workgraph import WorkGraph\n",
    "from aiida import orm\n",
    "\n",
    "@task\n",
    "def add_more(x, y, z):\n",
    "    return x + y + z\n",
    "\n",
    "wg = WorkGraph(name=\"test_nested_graph_inputs_outputs\")\n",
    "\n",
    "# Define graph-level inputs for `add` tasks\n",
    "x = orm.Int(1)\n",
    "y = orm.Int(2)\n",
    "\n",
    "wg.inputs = {\n",
    "    \"add\": {\n",
    "        \"x\": x,\n",
    "        \"y\": y,\n",
    "    },\n",
    "}\n",
    "\n",
    "# Use the nested inputs in tasks\n",
    "wg.add_task(add_more, name=\"add1\", x=wg.inputs.add.x, y=wg.inputs.add.y, z=1)\n",
    "wg.add_task(add_more, name=\"add2\", x=wg.inputs.add.x, y=wg.inputs.add.y, z=2)\n",
    "\n",
    "# Define graph-level outputs by collecting results from the tasks\n",
    "wg.outputs.results = {}\n",
    "wg.outputs.results.sum1 = wg.tasks.add1.outputs.result\n",
    "wg.outputs.results.sum2 = wg.tasks.add2.outputs.result\n",
    "\n",
    "wg.to_html()"
   ]
  },
  {
   "cell_type": "markdown",
   "id": "a1af1375",
   "metadata": {},
   "source": [
    "### Run the workgraph"
   ]
  },
  {
   "cell_type": "code",
   "execution_count": 29,
   "id": "8ff188e4",
   "metadata": {},
   "outputs": [
    {
     "name": "stderr",
     "output_type": "stream",
     "text": [
      "07/07/2025 04:18:12 PM <250709> aiida.orm.nodes.process.workflow.workchain.WorkChainNode: [REPORT] [8072|WorkGraphEngine|continue_workgraph]: tasks ready to run: add1,add2\n",
      "07/07/2025 04:18:12 PM <250709> aiida.orm.nodes.process.workflow.workchain.WorkChainNode: [REPORT] [8072|WorkGraphEngine|update_task_state]: Task: add1, type: PyFunction, finished.\n",
      "07/07/2025 04:18:12 PM <250709> aiida.orm.nodes.process.workflow.workchain.WorkChainNode: [REPORT] [8072|WorkGraphEngine|continue_workgraph]: tasks ready to run: add2\n",
      "07/07/2025 04:18:12 PM <250709> aiida.orm.nodes.process.workflow.workchain.WorkChainNode: [REPORT] [8072|WorkGraphEngine|update_task_state]: Task: add2, type: PyFunction, finished.\n",
      "07/07/2025 04:18:12 PM <250709> aiida.orm.nodes.process.workflow.workchain.WorkChainNode: [REPORT] [8072|WorkGraphEngine|continue_workgraph]: tasks ready to run: \n",
      "07/07/2025 04:18:13 PM <250709> aiida.orm.nodes.process.workflow.workchain.WorkChainNode: [REPORT] [8072|WorkGraphEngine|finalize]: Finalize workgraph.\n"
     ]
    },
    {
     "name": "stdout",
     "output_type": "stream",
     "text": [
      "result:  TaskSocketNamespace(name='results', sockets=['sum1', 'sum2'])\n"
     ]
    }
   ],
   "source": [
    "wg.run()\n",
    "print(\"result: \", wg.outputs.results)"
   ]
  },
  {
   "cell_type": "markdown",
   "id": "c6d7c1fe",
   "metadata": {},
   "source": [
    "When we inspect the outputs of the `WorkGraph` process, we see that `sum1` and `sum2` are grouped under the `results` output:"
   ]
  },
  {
   "cell_type": "code",
   "execution_count": 30,
   "id": "6509898f",
   "metadata": {},
   "outputs": [
    {
     "name": "stdout",
     "output_type": "stream",
     "text": [
      "\u001b[22mProperty     Value\n",
      "-----------  -------------------------------------------\n",
      "type         WorkGraph<test_nested_graph_inputs_outputs>\n",
      "state        Finished [0]\n",
      "pk           8072\n",
      "uuid         8610ef7b-27e2-4b8f-86b2-a8a443f74a07\n",
      "label        test_nested_graph_inputs_outputs\n",
      "description\n",
      "ctime        2025-07-07 14:18:11.952922+00:00\n",
      "mtime        2025-07-07 14:18:13.091706+00:00\n",
      "\n",
      "Inputs                                 PK    Type\n",
      "-------------------------------------  ----  ------\n",
      "workgraph_data\n",
      "    meta_sockets\n",
      "        graph_inputs\n",
      "            sockets\n",
      "                add\n",
      "                    sockets\n",
      "                        x\n",
      "                            property\n",
      "                                value  8070  Int\n",
      "                        y\n",
      "                            property\n",
      "                                value  8071  Int\n",
      "    tasks\n",
      "        add1\n",
      "            inputs\n",
      "                sockets\n",
      "                    z\n",
      "                        property\n",
      "                            value      8068  Int\n",
      "        add2\n",
      "            inputs\n",
      "                sockets\n",
      "                    z\n",
      "                        property\n",
      "                            value      8069  Int\n",
      "\n",
      "Outputs    PK    Type\n",
      "---------  ----  ------\n",
      "results\n",
      "    sum1   8076  Int\n",
      "    sum2   8080  Int\n",
      "\n",
      "Called      PK  Type\n",
      "--------  ----  --------\n",
      "add1      8075  add_more\n",
      "add2      8079  add_more\n",
      "\n",
      "Log messages\n",
      "---------------------------------------------\n",
      "There are 6 log messages for this calculation\n",
      "Run 'verdi process report 8072' to see them\u001b[0m\n"
     ]
    }
   ],
   "source": [
    "!verdi process show {wg.pk}"
   ]
  },
  {
   "cell_type": "markdown",
   "id": "1b3669d6",
   "metadata": {},
   "source": [
    "### Note regarding AiiDA types\n",
    "\n",
    "When defining graph-level inputs, providing AiiDA `orm` types ensures that tasks sharing the `orm` input are findable via the `orm` input node. In the case of the example above, we can look up both `add` tasks by filtering our query using the `pk` of the `x` input node:"
   ]
  },
  {
   "cell_type": "code",
   "execution_count": 40,
   "id": "6a36b8c1",
   "metadata": {},
   "outputs": [
    {
     "name": "stdout",
     "output_type": "stream",
     "text": [
      "add1: 8075\n",
      "add2: 8079\n",
      "Query results: [8075, 8079]\n"
     ]
    }
   ],
   "source": [
    "from aiida import orm\n",
    "\n",
    "for add_task in wg.tasks:\n",
    "    print(f\"{add_task.name}: {add_task.pk}\")\n",
    "\n",
    "pks = (\n",
    "    orm.QueryBuilder()\n",
    "    .append(\n",
    "        orm.Int,\n",
    "        filters={\"id\": x.pk},\n",
    "        tag=\"x\",\n",
    "    )\n",
    "    .append(\n",
    "        orm.CalcFunctionNode,\n",
    "        with_incoming=\"x\",\n",
    "        project=\"pk\",\n",
    "    )\n",
    "    .all(flat=True)\n",
    ")\n",
    "\n",
    "print(\"Query results:\", pks)\n"
   ]
  },
  {
   "cell_type": "markdown",
   "id": "70baac0a",
   "metadata": {},
   "source": [
    "### Automatic serialization of raw Python data\n",
    "\n",
    "You can also pass raw Python values directly as inputs:\n",
    "\n",
    "```python\n",
    "wg.inputs = {\n",
    "    \"add_more\": {\n",
    "        \"x\": 1,\n",
    "        \"y\": 2,\n",
    "    },\n",
    "}\n",
    "```\n",
    "\n",
    "In this case, `WorkGraph` will automatically serialize the raw Python data into the corresponding AiiDA Data nodes (e.g., an `int` becomes `orm.Int`, a `str` becomes `orm.Str`, etc.) before execution.\n",
    "The exact serialization logic and all supported types (and how to register your own custom serializers) are described in detail in the **Data Serialization** section."
   ]
  },
  {
   "cell_type": "markdown",
   "id": "4bf575d0",
   "metadata": {},
   "source": [
    "## Summary\n",
    "\n",
    "In this section, you learned how to:\n",
    "\n",
    "- Use `wg.add_input(...)` to define a shareable graph-level input\n",
    "- Yse `wg.inputs = {...}` to define many inputs at once, or to define nested (namespaced) inputs to group related parameters\n",
    "- Use graph-level inputs in tasks (`wg.inputs.<name>`)\n",
    "- Use `wg.outputs.<name>` to expose relevant outputs from tasks\n"
   ]
  }
 ],
 "metadata": {
  "kernelspec": {
   "display_name": "aiida",
   "language": "python",
   "name": "python3"
  },
  "language_info": {
   "codemirror_mode": {
    "name": "ipython",
    "version": 3
   },
   "file_extension": ".py",
   "mimetype": "text/x-python",
   "name": "python",
   "nbconvert_exporter": "python",
   "pygments_lexer": "ipython3",
   "version": "3.11.0"
  }
 },
 "nbformat": 4,
 "nbformat_minor": 5
}
