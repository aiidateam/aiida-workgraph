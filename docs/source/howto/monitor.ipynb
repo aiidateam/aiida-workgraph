{
 "cells": [
  {
   "cell_type": "markdown",
   "id": "22d177dc-6cfb-4de2-9509-f1eb45e10cf2",
   "metadata": {},
   "source": [
    "# Assign a monitoring task\n",
    "\n",
    "## Introduction\n",
    "\n",
    "The `monitor` decorator is designed for tasks that need to poll a specific state at regular intervals until a success criterion is met. This is useful for various scenarios, including time-based triggers, file existence checks, and monitoring other tasks or workgraphs.\n",
    "\n",
    "### Possible use Cases\n",
    "\n",
    "- **Time-based events**: Start a task at a specified time.\n",
    "- **File-based events**: Execute a task when a particular file exists.\n",
    "- **Monitor a task**: Observe the state of another task and act based on certain conditions.\n",
    "- **Cross-workGraph dependencies**: Check the state of a task in a different workgraph.\n",
    "\n",
    "### Behavior\n",
    "\n",
    "While polling, the task sleeps for a specified interval (default 1.0 second), allowing the workgraph engine to manage other tasks.\n",
    "\n",
    "### Example usage\n",
    "\n",
    "The monitor task has two built-in parameters:\n",
    "\n",
    "- `interval`: The time interval between each poll.\n",
    "- `timeout`: The maximum time to wait for the success criterion to be met.\n",
    "\n",
    "In the following sections, we will walk through examples of how to use the `monitor` task decorator for these scenarios.\n"
   ]
  },
  {
   "cell_type": "code",
   "execution_count": 27,
   "id": "d78f7ee8",
   "metadata": {},
   "outputs": [],
   "source": [
    "from aiida_workgraph import WorkGraph, task\n",
    "from aiida import load_profile\n",
    "\n",
    "_ = load_profile()\n"
   ]
  },
  {
   "cell_type": "markdown",
   "id": "1f6b0964",
   "metadata": {},
   "source": [
    "## Time-based events\n",
    "\n",
    "Here we design a workgraph that waits until 5 seconds have passed."
   ]
  },
  {
   "cell_type": "code",
   "execution_count": 28,
   "id": "fd2496fa",
   "metadata": {},
   "outputs": [
    {
     "data": {
      "text/html": [
       "\n",
       "        <iframe\n",
       "            width=\"100%\"\n",
       "            height=\"600px\"\n",
       "            src=\"html/TimeMonitor.html\"\n",
       "            frameborder=\"0\"\n",
       "            allowfullscreen\n",
       "            \n",
       "        ></iframe>\n",
       "        "
      ],
      "text/plain": [
       "<IPython.lib.display.IFrame at 0x749f3bddd120>"
      ]
     },
     "execution_count": 28,
     "metadata": {},
     "output_type": "execute_result"
    }
   ],
   "source": [
    "import datetime\n",
    "\n",
    "\n",
    "@task.monitor\n",
    "def time_monitor(time):\n",
    "    return datetime.datetime.now() > datetime.datetime.fromisoformat(time.value)\n",
    "\n",
    "\n",
    "with WorkGraph(\"TimeMonitor\") as wg:\n",
    "    wg.inputs = {\n",
    "        \"monitor\": {\"time\": None},\n",
    "        \"add\": dict.fromkeys([\"x\", \"y\"]),\n",
    "    }\n",
    "    time_monitor(time=wg.inputs.monitor.time) >> wg.inputs.add.x + wg.inputs.add.y\n",
    "\n",
    "wg.to_html()"
   ]
  },
  {
   "cell_type": "code",
   "execution_count": 29,
   "id": "c66f3032",
   "metadata": {},
   "outputs": [
    {
     "name": "stderr",
     "output_type": "stream",
     "text": [
      "07/14/2025 05:20:04 PM <82779> aiida.orm.nodes.process.workflow.workchain.WorkChainNode: [REPORT] [11860|WorkGraphEngine|continue_workgraph]: tasks ready to run: time_monitor\n",
      "07/14/2025 05:20:04 PM <82779> aiida.orm.nodes.process.workflow.workchain.WorkChainNode: [REPORT] [11860|WorkGraphEngine|on_wait]: Process status: Waiting for child processes: time_monitor\n",
      "07/14/2025 05:20:12 PM <82779> aiida.orm.nodes.process.workflow.workchain.WorkChainNode: [REPORT] [11860|WorkGraphEngine|update_normal_task_state]: Task: time_monitor finished.\n",
      "07/14/2025 05:20:12 PM <82779> aiida.orm.nodes.process.workflow.workchain.WorkChainNode: [REPORT] [11860|WorkGraphEngine|continue_workgraph]: tasks ready to run: op_add\n",
      "07/14/2025 05:20:12 PM <82779> aiida.orm.nodes.process.workflow.workchain.WorkChainNode: [REPORT] [11860|WorkGraphEngine|update_task_state]: Task: op_add, type: PyFunction, finished.\n",
      "07/14/2025 05:20:12 PM <82779> aiida.orm.nodes.process.workflow.workchain.WorkChainNode: [REPORT] [11860|WorkGraphEngine|continue_workgraph]: tasks ready to run: \n",
      "07/14/2025 05:20:12 PM <82779> aiida.orm.nodes.process.workflow.workchain.WorkChainNode: [REPORT] [11860|WorkGraphEngine|finalize]: Finalize workgraph.\n"
     ]
    }
   ],
   "source": [
    "wg.run(\n",
    "    inputs={\n",
    "        \"graph_inputs\": {\n",
    "            \"monitor\": {\n",
    "                \"time\": (\n",
    "                    datetime.datetime.now() + datetime.timedelta(seconds=5)\n",
    "                ).isoformat(),\n",
    "            },\n",
    "            \"add\": {\n",
    "                \"x\": 1,\n",
    "                \"y\": 2,\n",
    "            },\n",
    "        }\n",
    "    }\n",
    ")"
   ]
  },
  {
   "cell_type": "markdown",
   "id": "0187e041",
   "metadata": {},
   "source": [
    "Note the time difference between the monitor task and the next (~5 seconds)."
   ]
  },
  {
   "cell_type": "markdown",
   "id": "74971cfe",
   "metadata": {},
   "source": [
    "## File-based events\n",
    "\n",
    "Here we design a workgraph that waits until a file exists before it proceeds. We create the file asynchronously after 5 seconds. During this time, the monitor task will poll for the file's existence. Once the file is found, the workgraph will proceed to discard the file and add two numbers (independently), then finally multiply the sum by a factor.\n"
   ]
  },
  {
   "cell_type": "code",
   "execution_count": 30,
   "id": "57f4f37b",
   "metadata": {},
   "outputs": [
    {
     "data": {
      "text/html": [
       "\n",
       "        <iframe\n",
       "            width=\"100%\"\n",
       "            height=\"600px\"\n",
       "            src=\"html/FileMonitor.html\"\n",
       "            frameborder=\"0\"\n",
       "            allowfullscreen\n",
       "            \n",
       "        ></iframe>\n",
       "        "
      ],
      "text/plain": [
       "<IPython.lib.display.IFrame at 0x749f3bc4c730>"
      ]
     },
     "execution_count": 30,
     "metadata": {},
     "output_type": "execute_result"
    }
   ],
   "source": [
    "import os\n",
    "import asyncio\n",
    "from node_graph.group import group\n",
    "\n",
    "\n",
    "@task.awaitable\n",
    "async def sleep_create_file(filepath, content):\n",
    "    await asyncio.sleep(5)\n",
    "    with open(filepath, \"w\") as f:\n",
    "        f.write(content)\n",
    "\n",
    "\n",
    "@task.monitor\n",
    "def file_monitor(filepath):\n",
    "    return os.path.exists(filepath)\n",
    "\n",
    "\n",
    "@task\n",
    "def discard_file(filepath):\n",
    "    if os.path.exists(filepath):\n",
    "        os.remove(filepath)\n",
    "    else:\n",
    "        raise FileNotFoundError(f\"File {filepath} does not exist.\")\n",
    "\n",
    "\n",
    "with WorkGraph(\"FileMonitor\") as wg:\n",
    "    wg.inputs = {\n",
    "        \"add\": dict.fromkeys([\"x\", \"y\"]),\n",
    "        \"multiply\": dict.fromkeys([\"factor\"]),\n",
    "    }\n",
    "\n",
    "    # Asynchronously create a file after 5 seconds\n",
    "    sleep_create_file(\n",
    "        filepath=\"/tmp/monitor_test.txt\",\n",
    "        content=\"This is a test file\",\n",
    "    )\n",
    "\n",
    "    # While above is running, monitor for the file\n",
    "    # Once done (`>>` means wait), add two numbers and discard the file\n",
    "    # Finally, multiply the sum by a factor\n",
    "    (\n",
    "        file_monitor(\n",
    "            filepath=\"/tmp/monitor_test.txt\",\n",
    "            interval=1,\n",
    "            timeout=10,\n",
    "        )\n",
    "        >> group(\n",
    "            discard_file(filepath=\"/tmp/monitor_test.txt\"),\n",
    "            the_sum := wg.inputs.add.x + wg.inputs.add.y,\n",
    "        )\n",
    "        >> the_sum * wg.inputs.multiply.factor\n",
    "    )\n",
    "\n",
    "wg.to_html()"
   ]
  },
  {
   "cell_type": "code",
   "execution_count": 31,
   "id": "a1a303d5",
   "metadata": {},
   "outputs": [
    {
     "name": "stderr",
     "output_type": "stream",
     "text": [
      "07/14/2025 05:20:13 PM <82779> aiida.orm.nodes.process.workflow.workchain.WorkChainNode: [REPORT] [11869|WorkGraphEngine|continue_workgraph]: tasks ready to run: sleep_create_file,file_monitor\n",
      "07/14/2025 05:20:13 PM <82779> aiida.orm.nodes.process.workflow.workchain.WorkChainNode: [REPORT] [11869|WorkGraphEngine|on_wait]: Process status: Waiting for child processes: sleep_create_file, file_monitor\n",
      "07/14/2025 05:20:19 PM <82779> aiida.orm.nodes.process.workflow.workchain.WorkChainNode: [REPORT] [11869|WorkGraphEngine|update_normal_task_state]: Task: sleep_create_file finished.\n",
      "07/14/2025 05:20:19 PM <82779> aiida.orm.nodes.process.workflow.workchain.WorkChainNode: [REPORT] [11869|WorkGraphEngine|continue_workgraph]: tasks ready to run: \n",
      "07/14/2025 05:20:19 PM <82779> aiida.orm.nodes.process.workflow.workchain.WorkChainNode: [REPORT] [11869|WorkGraphEngine|on_wait]: Process status: Waiting for child processes: file_monitor\n",
      "07/14/2025 05:20:19 PM <82779> aiida.orm.nodes.process.workflow.workchain.WorkChainNode: [REPORT] [11869|WorkGraphEngine|update_normal_task_state]: Task: file_monitor finished.\n",
      "07/14/2025 05:20:20 PM <82779> aiida.orm.nodes.process.workflow.workchain.WorkChainNode: [REPORT] [11869|WorkGraphEngine|continue_workgraph]: tasks ready to run: discard_file,op_add\n",
      "07/14/2025 05:20:20 PM <82779> aiida.orm.nodes.process.workflow.workchain.WorkChainNode: [REPORT] [11869|WorkGraphEngine|update_task_state]: Task: discard_file, type: PyFunction, finished.\n",
      "07/14/2025 05:20:20 PM <82779> aiida.orm.nodes.process.workflow.workchain.WorkChainNode: [REPORT] [11869|WorkGraphEngine|continue_workgraph]: tasks ready to run: op_add\n",
      "07/14/2025 05:20:20 PM <82779> aiida.orm.nodes.process.workflow.workchain.WorkChainNode: [REPORT] [11869|WorkGraphEngine|update_task_state]: Task: op_add, type: PyFunction, finished.\n",
      "07/14/2025 05:20:20 PM <82779> aiida.orm.nodes.process.workflow.workchain.WorkChainNode: [REPORT] [11869|WorkGraphEngine|continue_workgraph]: tasks ready to run: op_mul\n",
      "07/14/2025 05:20:21 PM <82779> aiida.orm.nodes.process.workflow.workchain.WorkChainNode: [REPORT] [11869|WorkGraphEngine|update_task_state]: Task: op_mul, type: PyFunction, finished.\n",
      "07/14/2025 05:20:21 PM <82779> aiida.orm.nodes.process.workflow.workchain.WorkChainNode: [REPORT] [11869|WorkGraphEngine|continue_workgraph]: tasks ready to run: \n",
      "07/14/2025 05:20:21 PM <82779> aiida.orm.nodes.process.workflow.workchain.WorkChainNode: [REPORT] [11869|WorkGraphEngine|finalize]: Finalize workgraph.\n"
     ]
    }
   ],
   "source": [
    "wg.run(\n",
    "    inputs={\n",
    "        \"graph_inputs\": {\n",
    "            \"add\": {\n",
    "                \"x\": 1,\n",
    "                \"y\": 2,\n",
    "            },\n",
    "            \"multiply\": {\n",
    "                \"factor\": 3,\n",
    "            },\n",
    "        }\n",
    "    }\n",
    ")"
   ]
  },
  {
   "cell_type": "markdown",
   "id": "48590211",
   "metadata": {},
   "source": [
    "You can inspect the process reports above to verify the order of events."
   ]
  },
  {
   "cell_type": "markdown",
   "id": "1ae83d3f",
   "metadata": {},
   "source": [
    "## Kill a monitor task\n",
    "\n",
    "One can kill a running monitor task by using the following command:\n",
    "\n",
    "```console\n",
    "workgraph task kill <workgraph_pk> <task_name>\n",
    "```\n",
    "\n",
    "For example:\n",
    "\n",
    "```console\n",
    "workgraph task kill 119974 monitor1\n",
    "```\n",
    "\n",
    "A killed task will has the status `KILLED` and the following task will not be executed.\n"
   ]
  },
  {
   "cell_type": "markdown",
   "id": "4b610be6",
   "metadata": {},
   "source": [
    "## Built-in monitors\n",
    "\n",
    "`WorkGraph` provides the the above time and file monitors as built-in tasks. You can use them directly without having to define them.\n",
    "\n",
    "```python\n",
    "monitor1 = wg.add_task(\"workgraph.time_monitor\", datetime=datetime.datetime.now() + datetime.timedelta(seconds=10))\n",
    "monitor2 = wg.add_task(\"workgraph.file_monitor\", filepath=\"/tmp/test.txt\")\n",
    "```"
   ]
  },
  {
   "cell_type": "markdown",
   "id": "3989ce76",
   "metadata": {},
   "source": [
    "## Run tasks asynchronously\n",
    "\n",
    "The `awaitable` decorator allows for the integration of `asyncio` within tasks, letting users control asynchronous functions."
   ]
  },
  {
   "cell_type": "code",
   "execution_count": 33,
   "id": "3019434c",
   "metadata": {},
   "outputs": [
    {
     "name": "stderr",
     "output_type": "stream",
     "text": [
      "07/14/2025 05:20:32 PM <82779> aiida.orm.nodes.process.workflow.workchain.WorkChainNode: [REPORT] [11888|WorkGraphEngine|continue_workgraph]: tasks ready to run: awaitable_task\n",
      "[REPORT] [11888|WorkGraphEngine|continue_workgraph]: tasks ready to run: awaitable_task\n",
      "07/14/2025 05:20:32 PM <82779> aiida.orm.nodes.process.workflow.workchain.WorkChainNode: [REPORT] [11888|WorkGraphEngine|on_wait]: Process status: Waiting for child processes: awaitable_task\n",
      "[REPORT] [11888|WorkGraphEngine|on_wait]: Process status: Waiting for child processes: awaitable_task\n",
      "07/14/2025 05:20:33 PM <82779> aiida.orm.nodes.process.workflow.workchain.WorkChainNode: [REPORT] [11888|WorkGraphEngine|update_normal_task_state]: Task: awaitable_task finished.\n",
      "[REPORT] [11888|WorkGraphEngine|update_normal_task_state]: Task: awaitable_task finished.\n",
      "07/14/2025 05:20:33 PM <82779> aiida.orm.nodes.process.workflow.workchain.WorkChainNode: [REPORT] [11888|WorkGraphEngine|update_task_state]: Task: awaitable_task finished.\n",
      "[REPORT] [11888|WorkGraphEngine|update_task_state]: Task: awaitable_task finished.\n",
      "07/14/2025 05:20:33 PM <82779> aiida.orm.nodes.process.workflow.workchain.WorkChainNode: [REPORT] [11888|WorkGraphEngine|continue_workgraph]: tasks ready to run: \n",
      "[REPORT] [11888|WorkGraphEngine|continue_workgraph]: tasks ready to run: \n",
      "07/14/2025 05:20:33 PM <82779> aiida.orm.nodes.process.workflow.workchain.WorkChainNode: [REPORT] [11888|WorkGraphEngine|finalize]: Finalize workgraph.\n",
      "[REPORT] [11888|WorkGraphEngine|finalize]: Finalize workgraph.\n"
     ]
    }
   ],
   "source": [
    "@task.awaitable\n",
    "async def awaitable_task(x, y):\n",
    "    await asyncio.sleep(0.5)\n",
    "    return x + y\n",
    "\n",
    "\n",
    "with WorkGraph(\"AwaitableGraph\") as wg:\n",
    "    wg.inputs = dict.fromkeys([\"x\", \"y\"])\n",
    "    awaitable_task(x=wg.inputs.x, y=wg.inputs.y)\n",
    "\n",
    "\n",
    "wg.run(\n",
    "    inputs={\n",
    "        \"graph_inputs\": {\n",
    "            \"x\": 1,\n",
    "            \"y\": 2,\n",
    "        }\n",
    "    }\n",
    ")"
   ]
  },
  {
   "cell_type": "markdown",
   "id": "971ca385",
   "metadata": {},
   "source": [
    "### Notes on asyncio Integration\n",
    "\n",
    "The awaitable task lets the workgraph enter a `Waiting` state, yielding control to the asyncio event loop. This enables other tasks to run concurrently, though long-running calculations may delay the execution of awaitable tasks.\n"
   ]
  },
  {
   "cell_type": "markdown",
   "id": "afccda3b",
   "metadata": {},
   "source": [
    "## Summary\n",
    "\n",
    "You have learned how to use the `monitor` decorator to create tasks that poll for specific conditions, such as time-based events, file-based events, and task monitoring. You also learned how to kill a monitor task and about the built-in monitor tasks provided by `WorkGraph`. Finally, you explored the `awaitable` decorator for integrating asynchronous functions within tasks. These enhancements provide powerful tools for managing dependencies and asynchronous operations within `WorkGraph`, offering greater flexibility and efficiency in task execution."
   ]
  }
 ],
 "metadata": {
  "kernelspec": {
   "display_name": "workgraph",
   "language": "python",
   "name": "python3"
  },
  "language_info": {
   "codemirror_mode": {
    "name": "ipython",
    "version": 3
   },
   "file_extension": ".py",
   "mimetype": "text/x-python",
   "name": "python",
   "nbconvert_exporter": "python",
   "pygments_lexer": "ipython3",
   "version": "3.10.14"
  }
 },
 "nbformat": 4,
 "nbformat_minor": 5
}
