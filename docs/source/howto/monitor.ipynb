{
 "cells": [
  {
   "cell_type": "markdown",
   "id": "22d177dc-6cfb-4de2-9509-f1eb45e10cf2",
   "metadata": {},
   "source": [
    "# Monitor a task\n",
    "\n",
    "## Introduction\n",
    "\n",
    "The `monitor` decorator is designed for tasks that need to poll a specific state at regular intervals until a success criterion is met. This is useful for various scenarios, including time-based triggers, file existence checks, and monitoring other tasks or workgraphs.\n",
    "\n",
    "### Possible use Cases\n",
    "\n",
    "- **Time-based events**: Start a task at a specified time.\n",
    "- **File-based events**: Execute a task when a particular file exists.\n",
    "- **Monitor a task**: Observe the state of another task and act based on certain conditions.\n",
    "- **Cross-workGraph dependencies**: Check the state of a task in a different workgraph.\n",
    "\n",
    "### Behavior\n",
    "\n",
    "While polling, the task sleeps for a specified interval (default 1.0 second), allowing the workgraph engine to manage other tasks.\n",
    "\n",
    "### Example usage\n",
    "\n",
    "The monitor task has two built-in parameters:\n",
    "\n",
    "- `interval`: The time interval between each poll.\n",
    "- `timeout`: The maximum time to wait for the success criterion to be met.\n",
    "\n",
    "In the following sections, we will walk through examples of how to use the `monitor` task decorator for these scenarios.\n"
   ]
  },
  {
   "cell_type": "code",
   "execution_count": null,
   "id": "d78f7ee8",
   "metadata": {},
   "outputs": [],
   "source": [
    "from aiida_workgraph import WorkGraph, task\n",
    "from aiida import load_profile\n",
    "\n",
    "_ = load_profile()\n"
   ]
  },
  {
   "cell_type": "markdown",
   "id": "1f6b0964",
   "metadata": {},
   "source": [
    "## Time-based events\n",
    "\n",
    "Here we design a workgraph that waits until 5 seconds have passed."
   ]
  },
  {
   "cell_type": "code",
   "execution_count": 37,
   "id": "fd2496fa",
   "metadata": {},
   "outputs": [
    {
     "name": "stderr",
     "output_type": "stream",
     "text": [
      "07/13/2025 03:22:15 PM <1273398> aiida.orm.nodes.process.workflow.workchain.WorkChainNode: [REPORT] [10997|WorkGraphEngine|continue_workgraph]: tasks ready to run: time_monitor\n",
      "07/13/2025 03:22:15 PM <1273398> aiida.orm.nodes.process.workflow.workchain.WorkChainNode: [REPORT] [10997|WorkGraphEngine|on_wait]: Process status: Waiting for child processes: time_monitor\n",
      "07/13/2025 03:22:21 PM <1273398> aiida.orm.nodes.process.workflow.workchain.WorkChainNode: [REPORT] [10997|WorkGraphEngine|update_normal_task_state]: Task: time_monitor finished.\n",
      "07/13/2025 03:22:21 PM <1273398> aiida.orm.nodes.process.workflow.workchain.WorkChainNode: [REPORT] [10997|WorkGraphEngine|continue_workgraph]: tasks ready to run: sleep_add\n",
      "07/13/2025 03:22:22 PM <1273398> aiida.orm.nodes.process.workflow.workchain.WorkChainNode: [REPORT] [10997|WorkGraphEngine|update_task_state]: Task: sleep_add, type: PyFunction, finished.\n",
      "07/13/2025 03:22:22 PM <1273398> aiida.orm.nodes.process.workflow.workchain.WorkChainNode: [REPORT] [10997|WorkGraphEngine|continue_workgraph]: tasks ready to run: \n",
      "07/13/2025 03:22:22 PM <1273398> aiida.orm.nodes.process.workflow.workchain.WorkChainNode: [REPORT] [10997|WorkGraphEngine|finalize]: Finalize workgraph.\n"
     ]
    }
   ],
   "source": [
    "import time\n",
    "import datetime\n",
    "\n",
    "\n",
    "@task.monitor\n",
    "def time_monitor(time):\n",
    "    return datetime.datetime.now() > datetime.datetime.fromisoformat(time.value)\n",
    "\n",
    "\n",
    "@task\n",
    "def sleep_add(x, y):\n",
    "    time.sleep(1)\n",
    "    return x + y\n",
    "\n",
    "\n",
    "with WorkGraph(\"TimeMonitor\") as wg:\n",
    "    wg.inputs = {\"monitor\": {\"time\": None}}\n",
    "    time_monitor(time=wg.inputs.monitor.time) >> sleep_add(x=1, y=2)\n",
    "\n",
    "wg.run(\n",
    "    inputs={\n",
    "        \"graph_inputs\": {\n",
    "            \"monitor\": {\n",
    "                \"time\": (\n",
    "                    datetime.datetime.now() + datetime.timedelta(seconds=5)\n",
    "                ).isoformat(),\n",
    "            }\n",
    "        }\n",
    "    }\n",
    ")"
   ]
  },
  {
   "cell_type": "markdown",
   "id": "0187e041",
   "metadata": {},
   "source": [
    "Note the time difference between the monitor task and the next (~5 seconds)."
   ]
  },
  {
   "cell_type": "markdown",
   "id": "74971cfe",
   "metadata": {},
   "source": [
    "## File-based events\n",
    "\n",
    "Here we design a workgraph that waits until a file is found to exist.\n"
   ]
  },
  {
   "cell_type": "code",
   "execution_count": 44,
   "id": "57f4f37b",
   "metadata": {},
   "outputs": [
    {
     "ename": "Exception",
     "evalue": "No property named interval. Accept name are ['filepath', '_wait']",
     "output_type": "error",
     "traceback": [
      "\u001b[0;31m---------------------------------------------------------------------------\u001b[0m",
      "\u001b[0;31mException\u001b[0m                                 Traceback (most recent call last)",
      "Cell \u001b[0;32mIn[44], line 11\u001b[0m\n\u001b[1;32m      9\u001b[0m \u001b[38;5;28;01mwith\u001b[39;00m WorkGraph(\u001b[38;5;124m\"\u001b[39m\u001b[38;5;124mFileMonitor\u001b[39m\u001b[38;5;124m\"\u001b[39m) \u001b[38;5;28;01mas\u001b[39;00m wg:\n\u001b[1;32m     10\u001b[0m     wg\u001b[38;5;241m.\u001b[39minputs \u001b[38;5;241m=\u001b[39m {\u001b[38;5;124m\"\u001b[39m\u001b[38;5;124mmonitor\u001b[39m\u001b[38;5;124m\"\u001b[39m: \u001b[38;5;28mdict\u001b[39m\u001b[38;5;241m.\u001b[39mfromkeys([\u001b[38;5;124m\"\u001b[39m\u001b[38;5;124mfilepath\u001b[39m\u001b[38;5;124m\"\u001b[39m, \u001b[38;5;124m\"\u001b[39m\u001b[38;5;124minterval\u001b[39m\u001b[38;5;124m\"\u001b[39m, \u001b[38;5;124m\"\u001b[39m\u001b[38;5;124mtimeout\u001b[39m\u001b[38;5;124m\"\u001b[39m])}\n\u001b[0;32m---> 11\u001b[0m     \u001b[43mfile_monitor\u001b[49m\u001b[43m(\u001b[49m\n\u001b[1;32m     12\u001b[0m \u001b[43m        \u001b[49m\u001b[43mfilepath\u001b[49m\u001b[38;5;241;43m=\u001b[39;49m\u001b[43mwg\u001b[49m\u001b[38;5;241;43m.\u001b[39;49m\u001b[43minputs\u001b[49m\u001b[38;5;241;43m.\u001b[39;49m\u001b[43mmonitor\u001b[49m\u001b[38;5;241;43m.\u001b[39;49m\u001b[43mfilepath\u001b[49m\u001b[43m,\u001b[49m\n\u001b[1;32m     13\u001b[0m \u001b[43m        \u001b[49m\u001b[43minterval\u001b[49m\u001b[38;5;241;43m=\u001b[39;49m\u001b[43mwg\u001b[49m\u001b[38;5;241;43m.\u001b[39;49m\u001b[43minputs\u001b[49m\u001b[38;5;241;43m.\u001b[39;49m\u001b[43mmonitor\u001b[49m\u001b[38;5;241;43m.\u001b[39;49m\u001b[43minterval\u001b[49m\u001b[43m,\u001b[49m\n\u001b[1;32m     14\u001b[0m \u001b[43m        \u001b[49m\u001b[43mtimeout\u001b[49m\u001b[38;5;241;43m=\u001b[39;49m\u001b[43mwg\u001b[49m\u001b[38;5;241;43m.\u001b[39;49m\u001b[43minputs\u001b[49m\u001b[38;5;241;43m.\u001b[39;49m\u001b[43mmonitor\u001b[49m\u001b[38;5;241;43m.\u001b[39;49m\u001b[43mtimeout\u001b[49m\u001b[43m,\u001b[49m\n\u001b[1;32m     15\u001b[0m \u001b[43m    \u001b[49m\u001b[43m)\u001b[49m \u001b[38;5;241m>>\u001b[39m sleep_add(x\u001b[38;5;241m=\u001b[39m\u001b[38;5;241m1\u001b[39m, y\u001b[38;5;241m=\u001b[39m\u001b[38;5;241m2\u001b[39m)\n\u001b[1;32m     17\u001b[0m wg\u001b[38;5;241m.\u001b[39mrun(\n\u001b[1;32m     18\u001b[0m     inputs\u001b[38;5;241m=\u001b[39m{\n\u001b[1;32m     19\u001b[0m         \u001b[38;5;124m\"\u001b[39m\u001b[38;5;124mgraph_inputs\u001b[39m\u001b[38;5;124m\"\u001b[39m: {\n\u001b[0;32m   (...)\u001b[0m\n\u001b[1;32m     26\u001b[0m     }\n\u001b[1;32m     27\u001b[0m )\n",
      "File \u001b[0;32m~/AiiDA/aiida-workgraph/src/aiida_workgraph/decorator.py:142\u001b[0m, in \u001b[0;36m_make_wrapper.<locals>.wrapper\u001b[0;34m(*call_args, **call_kwargs)\u001b[0m\n\u001b[1;32m    138\u001b[0m     \u001b[38;5;28;01melif\u001b[39;00m parameter\u001b[38;5;241m.\u001b[39mkind \u001b[38;5;129;01mis\u001b[39;00m parameter\u001b[38;5;241m.\u001b[39mVAR_POSITIONAL:\n\u001b[1;32m    139\u001b[0m         \u001b[38;5;66;03m# not supported\u001b[39;00m\n\u001b[1;32m    140\u001b[0m         \u001b[38;5;28;01mraise\u001b[39;00m \u001b[38;5;167;01mValueError\u001b[39;00m(\u001b[38;5;124m\"\u001b[39m\u001b[38;5;124mVAR_POSITIONAL is not supported.\u001b[39m\u001b[38;5;124m\"\u001b[39m)\n\u001b[0;32m--> 142\u001b[0m \u001b[43mtask\u001b[49m\u001b[38;5;241;43m.\u001b[39;49m\u001b[43mset\u001b[49m\u001b[43m(\u001b[49m\u001b[43minputs\u001b[49m\u001b[43m)\u001b[49m\n\u001b[1;32m    143\u001b[0m \u001b[38;5;28;01mreturn\u001b[39;00m task\u001b[38;5;241m.\u001b[39moutputs\n",
      "File \u001b[0;32m~/miniforge3/envs/workgraph/lib/python3.10/site-packages/node_graph/node.py:427\u001b[0m, in \u001b[0;36mNode.set\u001b[0;34m(self, data)\u001b[0m\n\u001b[1;32m    425\u001b[0m     inp\u001b[38;5;241m.\u001b[39m_set_socket_value(value)\n\u001b[1;32m    426\u001b[0m \u001b[38;5;28;01melse\u001b[39;00m:\n\u001b[0;32m--> 427\u001b[0m     \u001b[38;5;28;01mraise\u001b[39;00m \u001b[38;5;167;01mException\u001b[39;00m(\n\u001b[1;32m    428\u001b[0m         \u001b[38;5;124m\"\u001b[39m\u001b[38;5;124mNo property named \u001b[39m\u001b[38;5;132;01m{}\u001b[39;00m\u001b[38;5;124m. Accept name are \u001b[39m\u001b[38;5;132;01m{}\u001b[39;00m\u001b[38;5;124m\"\u001b[39m\u001b[38;5;241m.\u001b[39mformat(\n\u001b[1;32m    429\u001b[0m             key,\n\u001b[1;32m    430\u001b[0m             \u001b[38;5;28mlist\u001b[39m(\u001b[38;5;28mself\u001b[39m\u001b[38;5;241m.\u001b[39mget_property_names() \u001b[38;5;241m+\u001b[39m \u001b[38;5;28mlist\u001b[39m(\u001b[38;5;28mself\u001b[39m\u001b[38;5;241m.\u001b[39mget_input_names())),\n\u001b[1;32m    431\u001b[0m         )\n\u001b[1;32m    432\u001b[0m     )\n",
      "\u001b[0;31mException\u001b[0m: No property named interval. Accept name are ['filepath', '_wait']"
     ]
    }
   ],
   "source": [
    "import os\n",
    "\n",
    "\n",
    "@task.monitor\n",
    "def file_monitor(filepath):\n",
    "    return os.path.exists(filepath)\n",
    "\n",
    "\n",
    "with WorkGraph(\"FileMonitor\") as wg:\n",
    "    wg.inputs = {\"monitor\": dict.fromkeys([\"filepath\", \"interval\", \"timeout\"])}\n",
    "    file_monitor(\n",
    "        filepath=wg.inputs.monitor.filepath,\n",
    "        interval=wg.inputs.monitor.interval,\n",
    "        timeout=wg.inputs.monitor.timeout,\n",
    "    ) >> sleep_add(x=1, y=2)\n",
    "\n",
    "wg.run(\n",
    "    inputs={\n",
    "        \"graph_inputs\": {\n",
    "            \"monitor\": {\n",
    "                \"filepath\": \"/tmp/monitor_test.txt\",\n",
    "                \"interval\": 1,\n",
    "                \"timeout\": 10,\n",
    "            }\n",
    "        }\n",
    "    }\n",
    ")"
   ]
  },
  {
   "cell_type": "markdown",
   "id": "1ae83d3f",
   "metadata": {},
   "source": [
    "## Kill a monitor task\n",
    "\n",
    "One can kill a running monitor task by using the following command:\n",
    "\n",
    "```console\n",
    "workgraph task kill <workgraph_pk> <task_name>\n",
    "# for example\n",
    "workgraph task kill 119974 monitor1\n",
    "```\n",
    "\n",
    "A killed task will has the status `KILLED` and the following task will not be executed.\n"
   ]
  },
  {
   "cell_type": "markdown",
   "id": "4b610be6",
   "metadata": {},
   "source": [
    "## Built-in monitors\n",
    "\n",
    "`WorkGraph` provides the the above time and file monitors as built-in tasks. You can use them directly without having to define them.\n",
    "\n",
    "```python\n",
    "monitor1 = wg.add_task(\"workgraph.time_monitor\", datetime=datetime.datetime.now() + datetime.timedelta(seconds=10))\n",
    "monitor2 = wg.add_task(\"workgraph.file_monitor\", filepath=\"/tmp/test.txt\")\n",
    "```"
   ]
  },
  {
   "cell_type": "markdown",
   "id": "3989ce76",
   "metadata": {},
   "source": [
    "## Run tasks asynchronously\n",
    "\n",
    "The `awaitable` decorator allows for the integration of `asyncio` within tasks, letting users control asynchronous functions."
   ]
  },
  {
   "cell_type": "code",
   "execution_count": 47,
   "id": "3019434c",
   "metadata": {},
   "outputs": [
    {
     "name": "stderr",
     "output_type": "stream",
     "text": [
      "07/13/2025 03:41:14 PM <1273398> aiida.orm.nodes.process.workflow.workchain.WorkChainNode: [REPORT] [11008|WorkGraphEngine|continue_workgraph]: tasks ready to run: awaitable_task\n",
      "07/13/2025 03:41:14 PM <1273398> aiida.orm.nodes.process.workflow.workchain.WorkChainNode: [REPORT] [11008|WorkGraphEngine|on_wait]: Process status: Waiting for child processes: awaitable_task\n",
      "07/13/2025 03:41:14 PM <1273398> aiida.orm.nodes.process.workflow.workchain.WorkChainNode: [REPORT] [11008|WorkGraphEngine|update_normal_task_state]: Task: awaitable_task finished.\n",
      "07/13/2025 03:41:14 PM <1273398> aiida.orm.nodes.process.workflow.workchain.WorkChainNode: [REPORT] [11008|WorkGraphEngine|update_task_state]: Task: awaitable_task finished.\n",
      "07/13/2025 03:41:14 PM <1273398> aiida.orm.nodes.process.workflow.workchain.WorkChainNode: [REPORT] [11008|WorkGraphEngine|continue_workgraph]: tasks ready to run: \n",
      "07/13/2025 03:41:14 PM <1273398> aiida.orm.nodes.process.workflow.workchain.WorkChainNode: [REPORT] [11008|WorkGraphEngine|finalize]: Finalize workgraph.\n"
     ]
    }
   ],
   "source": [
    "import asyncio\n",
    "\n",
    "\n",
    "@task.awaitable\n",
    "async def awaitable_task(x, y):\n",
    "    await asyncio.sleep(0.5)\n",
    "    return x + y\n",
    "\n",
    "\n",
    "with WorkGraph(\"AwaitableGraph\") as wg:\n",
    "    wg.inputs = dict.fromkeys([\"x\", \"y\"])\n",
    "    awaitable_task(x=wg.inputs.x, y=wg.inputs.y)\n",
    "\n",
    "\n",
    "wg.run(\n",
    "    inputs={\n",
    "        \"graph_inputs\": {\n",
    "            \"x\": 1,\n",
    "            \"y\": 2,\n",
    "        }\n",
    "    }\n",
    ")"
   ]
  },
  {
   "cell_type": "markdown",
   "id": "971ca385",
   "metadata": {},
   "source": [
    "### Notes on asyncio Integration\n",
    "\n",
    "The awaitable task lets the workgraph enter a `Waiting` state, yielding control to the asyncio event loop. This enables other tasks to run concurrently, though long-running calculations may delay the execution of awaitable tasks.\n"
   ]
  },
  {
   "cell_type": "markdown",
   "id": "afccda3b",
   "metadata": {},
   "source": [
    "## Summary\n",
    "\n",
    "You have learned how to use the `monitor` decorator to create tasks that poll for specific conditions, such as time-based events, file-based events, and task monitoring. You also learned how to kill a monitor task and about the built-in monitor tasks provided by `WorkGraph`. Finally, you explored the `awaitable` decorator for integrating asynchronous functions within tasks. These enhancements provide powerful tools for managing dependencies and asynchronous operations within `WorkGraph`, offering greater flexibility and efficiency in task execution."
   ]
  }
 ],
 "metadata": {
  "kernelspec": {
   "display_name": "workgraph",
   "language": "python",
   "name": "python3"
  },
  "language_info": {
   "codemirror_mode": {
    "name": "ipython",
    "version": 3
   },
   "file_extension": ".py",
   "mimetype": "text/x-python",
   "name": "python",
   "nbconvert_exporter": "python",
   "pygments_lexer": "ipython3",
   "version": "3.10.14"
  }
 },
 "nbformat": 4,
 "nbformat_minor": 5
}
