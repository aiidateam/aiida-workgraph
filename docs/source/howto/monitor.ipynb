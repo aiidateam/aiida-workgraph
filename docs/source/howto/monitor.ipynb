{
 "cells": [
  {
   "cell_type": "markdown",
   "id": "22d177dc-6cfb-4de2-9509-f1eb45e10cf2",
   "metadata": {},
   "source": [
    "## Monitor Task Decorator\n",
    "\n",
    "The `monitor` decorator is designed for tasks that need to poll a specific state at regular intervals until a success criterion is met. This is useful for various scenarios, including time-based triggers, file existence checks, and monitoring other tasks or WorkGraphs.\n",
    "\n",
    "### Possible use Cases\n",
    "\n",
    "- **Time Trigger**: Start a task at a specified time.\n",
    "- **File Trigger**: Execute a task when a particular file exists.\n",
    "- **Task Monitor**: Observe the state of another task and act based on certain conditions.\n",
    "- **Cross-WorkGraph Dependencies**: Check the state of a task in a different WorkGraph.\n",
    "\n",
    "### Behavior\n",
    "\n",
    "While polling, the task sleeps for a specified interval (default 1.0 second, customizable by the user), allowing the WorkGraph engine to manage other tasks.\n",
    "\n",
    "### Example Usage\n",
    "\n",
    "The monitor task has two built-in parameters:\n",
    "\n",
    "- `interval`: The time interval between each poll.\n",
    "- `timeout`: The maximum time to wait for the success criterion to be met.\n",
    "\n",
    "\n",
    "#### Time Monitor\n",
    "\n",
    "A task waits until a specified time.\n",
    "\n"
   ]
  },
  {
   "cell_type": "code",
   "execution_count": 1,
   "id": "fd2496fa",
   "metadata": {},
   "outputs": [],
   "source": [
    "from aiida_workgraph import WorkGraph, task\n",
    "from aiida import load_profile\n",
    "import datetime\n",
    "\n",
    "load_profile()\n",
    "\n",
    "@task.monitor()\n",
    "def time_monitor(time):\n",
    "    \"\"\"Return True if the current time is greater than the given time.\"\"\"\n",
    "    return datetime.datetime.now() > time\n",
    "\n",
    "@task.calcfunction()\n",
    "def add(x, y, t=1):\n",
    "    import time\n",
    "    time.sleep(t.value)\n",
    "    return x + y\n",
    "\n",
    "wg = WorkGraph(name=\"test_monitor\")\n",
    "# The task will wait until 2024-08-16, 10:54:00\n",
    "monitor1 = wg.add_task(time_monitor, time=datetime.datetime(2024, 8, 16, 10, 54, 0))\n",
    "add1 = wg.add_task(add, x=1, y=2)\n",
    "add1.waiting_on.add(monitor1)"
   ]
  },
  {
   "cell_type": "markdown",
   "id": "74971cfe",
   "metadata": {},
   "source": [
    "\n",
    "#### File Monitor\n",
    "\n",
    "Start a task when a specified file exists.\n"
   ]
  },
  {
   "cell_type": "code",
   "execution_count": 2,
   "id": "57f4f37b",
   "metadata": {},
   "outputs": [],
   "source": [
    "@task.monitor()\n",
    "def file_monitor(filepath):\n",
    "    \"\"\"Check if the file exists.\"\"\"\n",
    "    import os\n",
    "    return os.path.exists(filepath)\n",
    "\n",
    "# Usage\n",
    "wg = WorkGraph(name=\"test_monitor\")\n",
    "# The task will wait until the file exists, checking every 2 seconds, with a timeout of 10 seconds\n",
    "monitor1 = wg.add_task(file_monitor, filepath=\"/tmp/test.txt\", interval=2.0, timeout=10.0)\n",
    "add1 = wg.add_task(add, x=1, y=2)\n",
    "add1.waiting_on.add(monitor1)"
   ]
  },
  {
   "cell_type": "markdown",
   "id": "4b610be6",
   "metadata": {},
   "source": [
    "### Built-in Tasks\n",
    "\n",
    "Two built-in tasks for common monitoring needs:\n",
    "\n",
    "```python\n",
    "monitor1 = wg.add_task(\"workgraph.time_monitor\", datetime=datetime.datetime.now() + datetime.timedelta(seconds=10))\n",
    "monitor2 = wg.add_task(\"workgraph.file_monitor\", filepath=\"/tmp/test.txt\")\n",
    "```\n",
    "\n",
    "## Awaitable Task Decorator\n",
    "\n",
    "The `awaitable` decorator allows for the integration of `asyncio` within tasks, letting users control asynchronous functions.\n",
    "\n",
    "### General Awaitable Task\n",
    "\n",
    "Define and use an awaitable task within the WorkGraph.\n",
    "\n"
   ]
  },
  {
   "cell_type": "code",
   "execution_count": 3,
   "id": "3019434c",
   "metadata": {},
   "outputs": [
    {
     "name": "stderr",
     "output_type": "stream",
     "text": [
      "08/16/2024 11:26:24 AM <721494> aiida.orm.nodes.process.workflow.workchain.WorkChainNode: [REPORT] [108451|WorkGraphEngine|continue_workgraph]: Continue workgraph.\n",
      "08/16/2024 11:26:24 AM <721494> aiida.orm.nodes.process.workflow.workchain.WorkChainNode: [REPORT] [108451|WorkGraphEngine|continue_workgraph]: tasks ready to run: awaitable_func1\n",
      "08/16/2024 11:26:24 AM <721494> aiida.orm.nodes.process.workflow.workchain.WorkChainNode: [REPORT] [108451|WorkGraphEngine|run_tasks]: Run task: awaitable_func1, type: awaitable\n",
      "08/16/2024 11:26:24 AM <721494> aiida.orm.nodes.process.workflow.workchain.WorkChainNode: [REPORT] [108451|WorkGraphEngine|on_wait]: Process status: Waiting for child processes: awaitable_func1\n"
     ]
    },
    {
     "name": "stdout",
     "output_type": "stream",
     "text": [
      "update task state:  awaitable_func1\n",
      "Continue workgraph.\n",
      "------------------------------------------------------------\n",
      "task:  awaitable_func1 RUNNING\n",
      "is workgraph finished:  False\n"
     ]
    },
    {
     "name": "stderr",
     "output_type": "stream",
     "text": [
      "08/16/2024 11:26:24 AM <721494> aiida.orm.nodes.process.workflow.workchain.WorkChainNode: [REPORT] [108451|WorkGraphEngine|set_normal_task_results]: Task: awaitable_func1 finished.\n",
      "08/16/2024 11:26:24 AM <721494> aiida.orm.nodes.process.workflow.workchain.WorkChainNode: [REPORT] [108451|WorkGraphEngine|continue_workgraph]: Continue workgraph.\n",
      "08/16/2024 11:26:24 AM <721494> aiida.orm.nodes.process.workflow.workchain.WorkChainNode: [REPORT] [108451|WorkGraphEngine|continue_workgraph]: tasks ready to run: \n",
      "08/16/2024 11:26:25 AM <721494> aiida.orm.nodes.process.workflow.workchain.WorkChainNode: [REPORT] [108451|WorkGraphEngine|finalize]: Finalize\n"
     ]
    },
    {
     "name": "stdout",
     "output_type": "stream",
     "text": [
      "on awaitable finished:  awaitable_func1\n",
      "set normal task results:  awaitable_func1 results:  {'result': 3}\n",
      "update task state:  awaitable_func1\n",
      "Continue workgraph.\n",
      "task:  awaitable_func1 FINISHED\n",
      "is workgraph finished:  True\n",
      "workgraph outputs:  []\n",
      "Finalize workgraph test_awaitable\n",
      "\n"
     ]
    },
    {
     "data": {
      "text/plain": [
       "{'new_data': {},\n",
       " 'execution_count': <Int: uuid: 7596abd1-4b06-45ff-a029-a2eb52ad7a13 (pk: 108452) value: 0>}"
      ]
     },
     "execution_count": 3,
     "metadata": {},
     "output_type": "execute_result"
    }
   ],
   "source": [
    "import asyncio\n",
    "from aiida_workgraph import WorkGraph, task\n",
    "\n",
    "@task.awaitable()\n",
    "async def awaitable_func(x, y):\n",
    "    await asyncio.sleep(0.5)\n",
    "    return x + y\n",
    "\n",
    "wg = WorkGraph(name=\"test_awaitable\")\n",
    "awaitable1 = wg.add_task(awaitable_func, x=1, y=2)\n",
    "wg.run()"
   ]
  },
  {
   "cell_type": "markdown",
   "id": "1ae83d3f",
   "metadata": {},
   "source": [
    "## Kill the monitor task\n",
    "\n",
    "One can kill a running monitor task by using the following command:\n",
    "\n",
    "```console\n",
    "workgraph task kill <workgraph_pk> <task_name>\n",
    "# for example\n",
    "workgraph task kill 119974 monitor1\n",
    "```\n",
    "\n",
    "A killed task will has the status `KILLED` and the following task will not be executed.\n",
    "\n",
    "### Notes on asyncio Integration\n",
    "\n",
    "The awaitable task lets the WorkGraph enter a `Waiting` state, yielding control to the asyncio event loop. This enables other tasks to run concurrently, although long-running calculations may delay the execution of awaitable tasks.\n",
    "\n",
    "## Conclusion\n",
    "\n",
    "These enhancements provide powerful tools for managing dependencies and asynchronous operations within WorkGraph, offering greater flexibility and efficiency in task execution."
   ]
  }
 ],
 "metadata": {
  "kernelspec": {
   "display_name": "Python 3.10.4 ('scinode')",
   "language": "python",
   "name": "python3"
  },
  "language_info": {
   "codemirror_mode": {
    "name": "ipython",
    "version": 3
   },
   "file_extension": ".py",
   "mimetype": "text/x-python",
   "name": "python",
   "nbconvert_exporter": "python",
   "pygments_lexer": "ipython3",
   "version": "3.11.0"
  },
  "vscode": {
   "interpreter": {
    "hash": "2f450c1ff08798c4974437dd057310afef0de414c25d1fd960ad375311c3f6ff"
   }
  }
 },
 "nbformat": 4,
 "nbformat_minor": 5
}
