{
 "cells": [
  {
   "cell_type": "markdown",
   "id": "3989ce76",
   "metadata": {},
   "source": [
    "# Run tasks asynchronously\n",
    "\n",
    "## Introduction\n",
    "\n",
    "The `awaitable` decorator allows for the integration of `asyncio` within tasks, letting users control asynchronous functions."
   ]
  },
  {
   "cell_type": "code",
   "execution_count": 1,
   "id": "4873d64e",
   "metadata": {},
   "outputs": [],
   "source": [
    "from aiida_workgraph import WorkGraph, task\n",
    "from aiida import load_profile\n",
    "\n",
    "_ = load_profile()"
   ]
  },
  {
   "cell_type": "code",
   "execution_count": 2,
   "id": "3019434c",
   "metadata": {},
   "outputs": [
    {
     "name": "stderr",
     "output_type": "stream",
     "text": [
      "07/13/2025 03:51:15 PM <1298102> aiida.orm.nodes.process.workflow.workchain.WorkChainNode: [REPORT] [11012|WorkGraphEngine|continue_workgraph]: tasks ready to run: awaitable_task\n",
      "07/13/2025 03:51:15 PM <1298102> aiida.orm.nodes.process.workflow.workchain.WorkChainNode: [REPORT] [11012|WorkGraphEngine|on_wait]: Process status: Waiting for child processes: awaitable_task\n",
      "07/13/2025 03:51:15 PM <1298102> aiida.orm.nodes.process.workflow.workchain.WorkChainNode: [REPORT] [11012|WorkGraphEngine|update_normal_task_state]: Task: awaitable_task finished.\n",
      "07/13/2025 03:51:16 PM <1298102> aiida.orm.nodes.process.workflow.workchain.WorkChainNode: [REPORT] [11012|WorkGraphEngine|update_task_state]: Task: awaitable_task finished.\n",
      "07/13/2025 03:51:16 PM <1298102> aiida.orm.nodes.process.workflow.workchain.WorkChainNode: [REPORT] [11012|WorkGraphEngine|continue_workgraph]: tasks ready to run: \n",
      "07/13/2025 03:51:16 PM <1298102> aiida.orm.nodes.process.workflow.workchain.WorkChainNode: [REPORT] [11012|WorkGraphEngine|finalize]: Finalize workgraph.\n"
     ]
    }
   ],
   "source": [
    "import asyncio\n",
    "\n",
    "\n",
    "@task.awaitable\n",
    "async def awaitable_task(x, y):\n",
    "    await asyncio.sleep(0.5)\n",
    "    return x + y\n",
    "\n",
    "\n",
    "with WorkGraph(\"AwaitableGraph\") as wg:\n",
    "    wg.inputs = dict.fromkeys([\"x\", \"y\"])\n",
    "    awaitable_task(x=wg.inputs.x, y=wg.inputs.y)\n",
    "\n",
    "\n",
    "wg.run(\n",
    "    inputs={\n",
    "        \"graph_inputs\": {\n",
    "            \"x\": 1,\n",
    "            \"y\": 2,\n",
    "        }\n",
    "    }\n",
    ")"
   ]
  },
  {
   "cell_type": "markdown",
   "id": "971ca385",
   "metadata": {},
   "source": [
    "### Notes on asyncio Integration\n",
    "\n",
    "The awaitable task lets the workgraph enter a `Waiting` state, yielding control to the asyncio event loop. This enables other tasks to run concurrently, though long-running calculations may delay the execution of awaitable tasks.\n"
   ]
  },
  {
   "cell_type": "markdown",
   "id": "afccda3b",
   "metadata": {},
   "source": [
    "## Summary\n",
    "\n",
    "In this section, we've explored the `awaitable` decorator for integrating asynchronous functions within tasks."
   ]
  }
 ],
 "metadata": {
  "kernelspec": {
   "display_name": "workgraph",
   "language": "python",
   "name": "python3"
  },
  "language_info": {
   "codemirror_mode": {
    "name": "ipython",
    "version": 3
   },
   "file_extension": ".py",
   "mimetype": "text/x-python",
   "name": "python",
   "nbconvert_exporter": "python",
   "pygments_lexer": "ipython3",
   "version": "3.10.14"
  }
 },
 "nbformat": 4,
 "nbformat_minor": 5
}
