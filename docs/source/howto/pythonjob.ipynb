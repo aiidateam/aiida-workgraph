{
 "cells": [
  {
   "cell_type": "markdown",
   "id": "4e4ecd2d-f5bf-4f06-a598-840b48d1fbb1",
   "metadata": {},
   "source": [
    "# Run remotely"
   ]
  },
  {
   "cell_type": "markdown",
   "id": "4249b62f-c1a2-408e-a7f8-adac1c0faedf",
   "metadata": {},
   "source": [
    "## PythonJob\n",
    "\n",
    "The `PythonJob` is a built-in task, which uses the [aiida-pythonjob](https://aiida-pythonjob.readthedocs.io/en/latest/) package to run Python functions on a remote computer. It is designed to enable users from non-AiiDA communities to run their Python functions remotely and construct workflows with checkpoints, maintaining all data provenance. For instance, users can use ASE's calculator to run a DFT calculation on a remote computer directly. Users only need to write normal Python code, and the WorkGraph will handle the data transformation to AiiDA data.\n",
    "\n",
    "### Key Features\n",
    "\n",
    "1. **Remote Execution**: Seamlessly run Python functions on a remote computer.\n",
    "2. **User-Friendly**: Designed for users who are not familiar with AiiDA, simplifying the process of remote execution.\n",
    "3. **Workflow Management**: Construct workflows with checkpoints, ensuring that intermediate states and results are preserved.\n",
    "4. **Data Provenance**: Maintain comprehensive data provenance, tracking the full history and transformations of data.\n",
    "\n",
    "\n",
    "Load the AiiDA profile."
   ]
  },
  {
   "cell_type": "code",
   "execution_count": 1,
   "id": "c6b83fb5",
   "metadata": {},
   "outputs": [
    {
     "data": {
      "text/plain": [
       "Profile<uuid='91ab760297b7474e99505a4bc4da8805' name='presto'>"
      ]
     },
     "execution_count": 1,
     "metadata": {},
     "output_type": "execute_result"
    }
   ],
   "source": [
    "%load_ext aiida\n",
    "from aiida import load_profile\n",
    "load_profile()"
   ]
  },
  {
   "cell_type": "markdown",
   "id": "0f46d277",
   "metadata": {},
   "source": [
    "## First Workflow\n",
    "Suppose you need to calculate `(x + y) * z` in two steps: first, add `x` and `y`; second, multiply the result by `z`.\n",
    "\n",
    "There are three methods to declare a `PythonJob` task in a workflow:\n",
    "\n",
    "1. **Using the `task.pythonjob` decorator:** Apply this decorator directly when you define the function. This method is straightforward and integrates the task declaration seamlessly with function definition.\n",
    "\n",
    "2. **Converting an existing function with `task.pythonjob`:** If the function is already defined, you can convert it into a `PythonJob` task by wrapping it with the `task.pythonjob` decorator. This approach is useful when adapting pre-existing code into a task-based workflow.\n",
    "\n",
    "3. **Specifying `PythonJob` during task addition to the WorkGraph:** When adding a task to the WorkGraph, you can explicitly identify it as a `PythonJob`. This method offers flexibility, allowing you to dynamically assign the task type based on the workflow design requirements.\n"
   ]
  },
  {
   "cell_type": "code",
   "execution_count": 2,
   "id": "9d9e24f8",
   "metadata": {},
   "outputs": [
    {
     "data": {
      "text/html": [
       "\n",
       "        <iframe\n",
       "            width=\"100%\"\n",
       "            height=\"600px\"\n",
       "            src=\"html/first_workflow.html\"\n",
       "            frameborder=\"0\"\n",
       "            allowfullscreen\n",
       "            \n",
       "        ></iframe>\n",
       "        "
      ],
      "text/plain": [
       "<IPython.lib.display.IFrame at 0x73d40d563690>"
      ]
     },
     "execution_count": 2,
     "metadata": {},
     "output_type": "execute_result"
    }
   ],
   "source": [
    "from aiida_workgraph import WorkGraph, task\n",
    "\n",
    "# decorator to define a pythonjob\n",
    "@task.pythonjob()\n",
    "def add(x, y):\n",
    "    return x + y\n",
    "\n",
    "\n",
    "# here is a normal python function\n",
    "def multiply(x, y):\n",
    "    return x*y\n",
    "\n",
    "wg = WorkGraph(\"first_workflow\")\n",
    "wg.add_task(add, name=\"add\")\n",
    "# we can also use a normal python function directly, but provide the \"PythonJob\" as the first argument\n",
    "wg.add_task(\"workgraph.pythonjob\", function=multiply, name=\"multiply\", x=wg.tasks.add.outputs[0])\n",
    "\n",
    "# visualize the workgraph\n",
    "wg.to_html()\n",
    "# visualize the workgraph in jupyter-notebook\n",
    "# wg"
   ]
  },
  {
   "cell_type": "markdown",
   "id": "9bd7aa49",
   "metadata": {},
   "source": [
    "### Prepare the inputs and submit the workgraph\n",
    "\n",
    "\n",
    "**Code**: We can set the `computer` to the remote computer where we want to run the job. This will create a code `python3@computer` if it does not already exist. You can also set the `code` directly if you have already created the code.\n",
    "\n",
    "**Data**: Users are recommended to use normal Python data as input. The workgraph will handle the transfer and serialization of data to AiiDA data. When serializing to AiiDA data, the workgraph will first search for the corresponding AiiDA data entry point based on the module name and class name (e.g., `ase.atoms.Atoms`). If the corresponding entry point exists, it will be used to serialize the value. If not found, `GeneralData` (pickle) will be used to serialize the value into binary data.\n",
    "\n",
    "**Python Version**: Since pickle is used to store and load data, the Python version on the remote computer should match the one used on the localhost. You can use conda to create a virtual environment with the same Python version. Activate the environment before running the script.\n",
    "\n",
    "For real applications, you can pass metadata to the scheduler to activate the conda environment:\n",
    "\n",
    "```python\n",
    "metadata = {\n",
    "    \"options\": {\n",
    "        'custom_scheduler_commands': 'module load anaconda\\nconda activate py3.11\\n',\n",
    "    }\n",
    "}\n",
    "```\n",
    "\n",
    "#### Create a conda environment on the remote computer\n",
    "One can use the `create_conda_env` function to create a conda environment on the remote computer. The function will create a conda environment with the specified packages and modules. The function will update the packages if the environment already exists.\n",
    "\n",
    "```python\n",
    "from aiida_pythonjob.utils import create_conda_env\n",
    "# create a conda environment on remote computer\n",
    "create_conda_env(\"merlin6\", \"test_pythonjob\", modules=[\"anaconda\"],\n",
    "                 pip=[\"numpy\", \"matplotlib\"],\n",
    "                 conda={\"channels\": [\"conda-forge\"],\n",
    "                        \"dependencies\": [\"qe\"]},\n",
    "                )\n",
    "```"
   ]
  },
  {
   "cell_type": "code",
   "execution_count": 3,
   "id": "02464256",
   "metadata": {},
   "outputs": [
    {
     "name": "stdout",
     "output_type": "stream",
     "text": [
      "WorkGraph process created, PK: 60947\n",
      "Process 60947 finished with state: FINISHED\n",
      "\n",
      "Result of multiply is uuid: 529e4f4a-fff3-4a65-a0b1-8a0f7d2f37c8 (pk: 60963) value: 20 \n",
      "\n",
      "\n"
     ]
    },
    {
     "data": {
      "image/svg+xml": [
       "<?xml version=\"1.0\" encoding=\"UTF-8\" standalone=\"no\"?>\n",
       "<!DOCTYPE svg PUBLIC \"-//W3C//DTD SVG 1.1//EN\"\n",
       " \"http://www.w3.org/Graphics/SVG/1.1/DTD/svg11.dtd\">\n",
       "<!-- Generated by graphviz version 7.1.0 (20230122.1345)\n",
       " -->\n",
       "<!-- Pages: 1 -->\n",
       "<svg width=\"1283pt\" height=\"680pt\"\n",
       " viewBox=\"0.00 0.00 1283.15 680.17\" xmlns=\"http://www.w3.org/2000/svg\" xmlns:xlink=\"http://www.w3.org/1999/xlink\">\n",
       "<g id=\"graph0\" class=\"graph\" transform=\"scale(1 1) rotate(0) translate(4 676.17)\">\n",
       "<polygon fill=\"white\" stroke=\"none\" points=\"-4,4 -4,-676.17 1279.15,-676.17 1279.15,4 -4,4\"/>\n",
       "<!-- N60947 -->\n",
       "<g id=\"node1\" class=\"node\">\n",
       "<title>N60947</title>\n",
       "<ellipse fill=\"#8cd499\" stroke=\"red\" stroke-width=\"6\" cx=\"462.15\" cy=\"-514.96\" rx=\"159.2\" ry=\"37.45\"/>\n",
       "<text text-anchor=\"middle\" x=\"462.15\" y=\"-526.26\" font-family=\"Times,serif\" font-size=\"14.00\">WorkGraph&lt;first_workflow&gt; (60947)</text>\n",
       "<text text-anchor=\"middle\" x=\"462.15\" y=\"-511.26\" font-family=\"Times,serif\" font-size=\"14.00\">State: finished</text>\n",
       "<text text-anchor=\"middle\" x=\"462.15\" y=\"-496.26\" font-family=\"Times,serif\" font-size=\"14.00\">Exit Code: 0</text>\n",
       "</g>\n",
       "<!-- N60951 -->\n",
       "<g id=\"node5\" class=\"node\">\n",
       "<title>N60951</title>\n",
       "<polygon fill=\"#de707f\" stroke=\"black\" stroke-width=\"0\" points=\"451.15,-411.48 295.15,-411.48 295.15,-358.48 451.15,-358.48 451.15,-411.48\"/>\n",
       "<text text-anchor=\"middle\" x=\"373.15\" y=\"-396.28\" font-family=\"Times,serif\" font-size=\"14.00\">PythonJob&lt;add&gt; (60951)</text>\n",
       "<text text-anchor=\"middle\" x=\"373.15\" y=\"-381.28\" font-family=\"Times,serif\" font-size=\"14.00\">State: finished</text>\n",
       "<text text-anchor=\"middle\" x=\"373.15\" y=\"-366.28\" font-family=\"Times,serif\" font-size=\"14.00\">Exit Code: 0</text>\n",
       "</g>\n",
       "<!-- N60947&#45;&gt;N60951 -->\n",
       "<g id=\"edge9\" class=\"edge\">\n",
       "<title>N60947&#45;&gt;N60951</title>\n",
       "<path fill=\"none\" stroke=\"#000000\" stroke-dasharray=\"1,5\" d=\"M435.21,-475.21C423.04,-457.71 408.78,-437.2 397,-420.26\"/>\n",
       "<polygon fill=\"#000000\" stroke=\"#000000\" points=\"400.18,-418.72 391.6,-412.51 394.44,-422.71 400.18,-418.72\"/>\n",
       "<text text-anchor=\"middle\" x=\"462.65\" y=\"-448.28\" font-family=\"Times,serif\" font-size=\"14.00\">CALL_CALC</text>\n",
       "<text text-anchor=\"middle\" x=\"462.65\" y=\"-433.28\" font-family=\"Times,serif\" font-size=\"14.00\">add</text>\n",
       "</g>\n",
       "<!-- N60959 -->\n",
       "<g id=\"node9\" class=\"node\">\n",
       "<title>N60959</title>\n",
       "<polygon fill=\"#de707f\" stroke=\"black\" stroke-width=\"0\" points=\"580.65,-172.74 397.65,-172.74 397.65,-119.74 580.65,-119.74 580.65,-172.74\"/>\n",
       "<text text-anchor=\"middle\" x=\"489.15\" y=\"-157.54\" font-family=\"Times,serif\" font-size=\"14.00\">PythonJob&lt;multiply&gt; (60959)</text>\n",
       "<text text-anchor=\"middle\" x=\"489.15\" y=\"-142.54\" font-family=\"Times,serif\" font-size=\"14.00\">State: finished</text>\n",
       "<text text-anchor=\"middle\" x=\"489.15\" y=\"-127.54\" font-family=\"Times,serif\" font-size=\"14.00\">Exit Code: 0</text>\n",
       "</g>\n",
       "<!-- N60947&#45;&gt;N60959 -->\n",
       "<g id=\"edge5\" class=\"edge\">\n",
       "<title>N60947&#45;&gt;N60959</title>\n",
       "<path fill=\"none\" stroke=\"#000000\" stroke-dasharray=\"1,5\" d=\"M497.15,-475.77C500.65,-470.56 503.77,-465.07 506.15,-459.48 548.02,-361.07 529.47,-327.47 536.15,-220.74 536.99,-207.43 541.49,-202.96 536.15,-190.74 534.69,-187.38 532.81,-184.16 530.67,-181.1\"/>\n",
       "<polygon fill=\"#000000\" stroke=\"#000000\" points=\"533.56,-179.11 524.5,-173.61 528.15,-183.56 533.56,-179.11\"/>\n",
       "<text text-anchor=\"middle\" x=\"574.65\" y=\"-329.28\" font-family=\"Times,serif\" font-size=\"14.00\">CALL_CALC</text>\n",
       "<text text-anchor=\"middle\" x=\"574.65\" y=\"-314.28\" font-family=\"Times,serif\" font-size=\"14.00\">multiply</text>\n",
       "</g>\n",
       "<!-- N60944 -->\n",
       "<g id=\"node2\" class=\"node\">\n",
       "<title>N60944</title>\n",
       "<ellipse fill=\"#8cd499\" stroke=\"black\" stroke-width=\"0\" cx=\"55.15\" cy=\"-645.3\" rx=\"55.31\" ry=\"26.74\"/>\n",
       "<text text-anchor=\"middle\" x=\"55.15\" y=\"-649.1\" font-family=\"Times,serif\" font-size=\"14.00\">Int (60944)</text>\n",
       "<text text-anchor=\"middle\" x=\"55.15\" y=\"-634.1\" font-family=\"Times,serif\" font-size=\"14.00\">value: 2</text>\n",
       "</g>\n",
       "<!-- N60944&#45;&gt;N60947 -->\n",
       "<g id=\"edge3\" class=\"edge\">\n",
       "<title>N60944&#45;&gt;N60947</title>\n",
       "<path fill=\"none\" stroke=\"#000000\" stroke-dasharray=\"5,2\" d=\"M54.91,-618.74C56.2,-602.53 60.73,-582.43 74.15,-570.43 106.38,-541.64 202.2,-528.01 290.55,-521.58\"/>\n",
       "<polygon fill=\"#000000\" stroke=\"#000000\" points=\"290.6,-525.09 300.33,-520.9 290.11,-518.1 290.6,-525.09\"/>\n",
       "<text text-anchor=\"middle\" x=\"266.15\" y=\"-589.23\" font-family=\"Times,serif\" font-size=\"14.00\">INPUT_WORK</text>\n",
       "<text text-anchor=\"middle\" x=\"266.15\" y=\"-574.23\" font-family=\"Times,serif\" font-size=\"14.00\">workgraph_data__tasks__add__inputs__sockets__x__property__value</text>\n",
       "</g>\n",
       "<!-- N60945 -->\n",
       "<g id=\"node3\" class=\"node\">\n",
       "<title>N60945</title>\n",
       "<ellipse fill=\"#8cd499\" stroke=\"black\" stroke-width=\"0\" cx=\"462.15\" cy=\"-645.3\" rx=\"55.31\" ry=\"26.74\"/>\n",
       "<text text-anchor=\"middle\" x=\"462.15\" y=\"-649.1\" font-family=\"Times,serif\" font-size=\"14.00\">Int (60945)</text>\n",
       "<text text-anchor=\"middle\" x=\"462.15\" y=\"-634.1\" font-family=\"Times,serif\" font-size=\"14.00\">value: 3</text>\n",
       "</g>\n",
       "<!-- N60945&#45;&gt;N60947 -->\n",
       "<g id=\"edge1\" class=\"edge\">\n",
       "<title>N60945&#45;&gt;N60947</title>\n",
       "<path fill=\"none\" stroke=\"#000000\" stroke-dasharray=\"5,2\" d=\"M462.15,-618.64C462.15,-603.76 462.15,-584.49 462.15,-566.67\"/>\n",
       "<polygon fill=\"#000000\" stroke=\"#000000\" points=\"465.65,-566.75 462.15,-556.75 458.65,-566.75 465.65,-566.75\"/>\n",
       "<text text-anchor=\"middle\" x=\"654.15\" y=\"-589.23\" font-family=\"Times,serif\" font-size=\"14.00\">INPUT_WORK</text>\n",
       "<text text-anchor=\"middle\" x=\"654.15\" y=\"-574.23\" font-family=\"Times,serif\" font-size=\"14.00\">workgraph_data__tasks__add__inputs__sockets__y__property__value</text>\n",
       "</g>\n",
       "<!-- N60946 -->\n",
       "<g id=\"node4\" class=\"node\">\n",
       "<title>N60946</title>\n",
       "<ellipse fill=\"#8cd499\" stroke=\"black\" stroke-width=\"0\" cx=\"869.15\" cy=\"-645.3\" rx=\"55.31\" ry=\"26.74\"/>\n",
       "<text text-anchor=\"middle\" x=\"869.15\" y=\"-649.1\" font-family=\"Times,serif\" font-size=\"14.00\">Int (60946)</text>\n",
       "<text text-anchor=\"middle\" x=\"869.15\" y=\"-634.1\" font-family=\"Times,serif\" font-size=\"14.00\">value: 4</text>\n",
       "</g>\n",
       "<!-- N60946&#45;&gt;N60947 -->\n",
       "<g id=\"edge2\" class=\"edge\">\n",
       "<title>N60946&#45;&gt;N60947</title>\n",
       "<path fill=\"none\" stroke=\"#000000\" stroke-dasharray=\"5,2\" d=\"M868.27,-618.65C866.29,-602.42 860.94,-582.31 847.15,-570.43 814.84,-542.61 720.66,-528.98 633.54,-522.31\"/>\n",
       "<polygon fill=\"#000000\" stroke=\"#000000\" points=\"633.87,-518.82 623.64,-521.58 633.35,-525.81 633.87,-518.82\"/>\n",
       "<text text-anchor=\"middle\" x=\"1069.65\" y=\"-589.23\" font-family=\"Times,serif\" font-size=\"14.00\">INPUT_WORK</text>\n",
       "<text text-anchor=\"middle\" x=\"1069.65\" y=\"-574.23\" font-family=\"Times,serif\" font-size=\"14.00\">workgraph_data__tasks__multiply__inputs__sockets__y__property__value</text>\n",
       "</g>\n",
       "<!-- N60953 -->\n",
       "<g id=\"node6\" class=\"node\">\n",
       "<title>N60953</title>\n",
       "<ellipse fill=\"#8cd499\" stroke=\"black\" stroke-width=\"0\" cx=\"111.15\" cy=\"-265.61\" rx=\"92.76\" ry=\"26.74\"/>\n",
       "<text text-anchor=\"middle\" x=\"111.15\" y=\"-269.41\" font-family=\"Times,serif\" font-size=\"14.00\">RemoteData (60953)</text>\n",
       "<text text-anchor=\"middle\" x=\"111.15\" y=\"-254.41\" font-family=\"Times,serif\" font-size=\"14.00\">@localhost</text>\n",
       "</g>\n",
       "<!-- N60951&#45;&gt;N60953 -->\n",
       "<g id=\"edge10\" class=\"edge\">\n",
       "<title>N60951&#45;&gt;N60953</title>\n",
       "<path fill=\"none\" stroke=\"#000000\" d=\"M295.39,-359.08C279.58,-353.42 263.19,-347.1 248.15,-340.48 218.13,-327.26 185.78,-309.97 160.06,-295.44\"/>\n",
       "<polygon fill=\"#000000\" stroke=\"#000000\" points=\"161.92,-292.48 151.5,-290.57 158.45,-298.56 161.92,-292.48\"/>\n",
       "<text text-anchor=\"middle\" x=\"287.15\" y=\"-329.28\" font-family=\"Times,serif\" font-size=\"14.00\">CREATE</text>\n",
       "<text text-anchor=\"middle\" x=\"287.15\" y=\"-314.28\" font-family=\"Times,serif\" font-size=\"14.00\">remote_folder</text>\n",
       "</g>\n",
       "<!-- N60954 -->\n",
       "<g id=\"node7\" class=\"node\">\n",
       "<title>N60954</title>\n",
       "<ellipse fill=\"#8cd499\" stroke=\"black\" stroke-width=\"0\" cx=\"302.15\" cy=\"-265.61\" rx=\"80.69\" ry=\"18\"/>\n",
       "<text text-anchor=\"middle\" x=\"302.15\" y=\"-261.91\" font-family=\"Times,serif\" font-size=\"14.00\">FolderData (60954)</text>\n",
       "</g>\n",
       "<!-- N60951&#45;&gt;N60954 -->\n",
       "<g id=\"edge6\" class=\"edge\">\n",
       "<title>N60951&#45;&gt;N60954</title>\n",
       "<path fill=\"none\" stroke=\"#000000\" d=\"M357.75,-358.51C346.06,-339.2 330.05,-312.72 318.21,-293.15\"/>\n",
       "<polygon fill=\"#000000\" stroke=\"#000000\" points=\"321.23,-291.38 313.06,-284.64 315.24,-295.01 321.23,-291.38\"/>\n",
       "<text text-anchor=\"middle\" x=\"372.15\" y=\"-329.28\" font-family=\"Times,serif\" font-size=\"14.00\">CREATE</text>\n",
       "<text text-anchor=\"middle\" x=\"372.15\" y=\"-314.28\" font-family=\"Times,serif\" font-size=\"14.00\">retrieved</text>\n",
       "</g>\n",
       "<!-- N60955 -->\n",
       "<g id=\"node8\" class=\"node\">\n",
       "<title>N60955</title>\n",
       "<ellipse fill=\"#8cd499\" stroke=\"black\" stroke-width=\"0\" cx=\"456.15\" cy=\"-265.61\" rx=\"55.31\" ry=\"26.74\"/>\n",
       "<text text-anchor=\"middle\" x=\"456.15\" y=\"-269.41\" font-family=\"Times,serif\" font-size=\"14.00\">Int (60955)</text>\n",
       "<text text-anchor=\"middle\" x=\"456.15\" y=\"-254.41\" font-family=\"Times,serif\" font-size=\"14.00\">value: 5</text>\n",
       "</g>\n",
       "<!-- N60951&#45;&gt;N60955 -->\n",
       "<g id=\"edge8\" class=\"edge\">\n",
       "<title>N60951&#45;&gt;N60955</title>\n",
       "<path fill=\"none\" stroke=\"#000000\" d=\"M391.16,-358.51C403.26,-341.4 419.33,-318.68 432.47,-300.11\"/>\n",
       "<polygon fill=\"#000000\" stroke=\"#000000\" points=\"435.24,-302.25 438.16,-292.06 429.53,-298.2 435.24,-302.25\"/>\n",
       "<text text-anchor=\"middle\" x=\"451.15\" y=\"-329.28\" font-family=\"Times,serif\" font-size=\"14.00\">CREATE</text>\n",
       "<text text-anchor=\"middle\" x=\"451.15\" y=\"-314.28\" font-family=\"Times,serif\" font-size=\"14.00\">result</text>\n",
       "</g>\n",
       "<!-- N60955&#45;&gt;N60959 -->\n",
       "<g id=\"edge4\" class=\"edge\">\n",
       "<title>N60955&#45;&gt;N60959</title>\n",
       "<path fill=\"none\" stroke=\"#000000\" d=\"M438.07,-240.68C429.23,-225.9 422.06,-206.76 430.15,-190.74 431.93,-187.23 434.14,-183.93 436.65,-180.84\"/>\n",
       "<polygon fill=\"#000000\" stroke=\"#000000\" points=\"438.99,-183.45 443.37,-173.8 433.93,-178.62 438.99,-183.45\"/>\n",
       "<text text-anchor=\"middle\" x=\"483.15\" y=\"-209.54\" font-family=\"Times,serif\" font-size=\"14.00\">INPUT_CALC</text>\n",
       "<text text-anchor=\"middle\" x=\"483.15\" y=\"-194.54\" font-family=\"Times,serif\" font-size=\"14.00\">function_inputs__x</text>\n",
       "</g>\n",
       "<!-- N60961 -->\n",
       "<g id=\"node10\" class=\"node\">\n",
       "<title>N60961</title>\n",
       "<ellipse fill=\"#8cd499\" stroke=\"black\" stroke-width=\"0\" cx=\"298.15\" cy=\"-26.87\" rx=\"92.76\" ry=\"26.74\"/>\n",
       "<text text-anchor=\"middle\" x=\"298.15\" y=\"-30.67\" font-family=\"Times,serif\" font-size=\"14.00\">RemoteData (60961)</text>\n",
       "<text text-anchor=\"middle\" x=\"298.15\" y=\"-15.67\" font-family=\"Times,serif\" font-size=\"14.00\">@localhost</text>\n",
       "</g>\n",
       "<!-- N60959&#45;&gt;N60961 -->\n",
       "<g id=\"edge11\" class=\"edge\">\n",
       "<title>N60959&#45;&gt;N60961</title>\n",
       "<path fill=\"none\" stroke=\"#000000\" d=\"M439.24,-119.87C428.53,-114.12 417.37,-107.89 407.15,-101.74 384.77,-88.27 360.64,-72.1 340.79,-58.33\"/>\n",
       "<polygon fill=\"#000000\" stroke=\"#000000\" points=\"342.86,-55.51 332.66,-52.65 338.86,-61.25 342.86,-55.51\"/>\n",
       "<text text-anchor=\"middle\" x=\"446.15\" y=\"-90.54\" font-family=\"Times,serif\" font-size=\"14.00\">CREATE</text>\n",
       "<text text-anchor=\"middle\" x=\"446.15\" y=\"-75.54\" font-family=\"Times,serif\" font-size=\"14.00\">remote_folder</text>\n",
       "</g>\n",
       "<!-- N60962 -->\n",
       "<g id=\"node11\" class=\"node\">\n",
       "<title>N60962</title>\n",
       "<ellipse fill=\"#8cd499\" stroke=\"black\" stroke-width=\"0\" cx=\"489.15\" cy=\"-26.87\" rx=\"80.69\" ry=\"18\"/>\n",
       "<text text-anchor=\"middle\" x=\"489.15\" y=\"-23.17\" font-family=\"Times,serif\" font-size=\"14.00\">FolderData (60962)</text>\n",
       "</g>\n",
       "<!-- N60959&#45;&gt;N60962 -->\n",
       "<g id=\"edge12\" class=\"edge\">\n",
       "<title>N60959&#45;&gt;N60962</title>\n",
       "<path fill=\"none\" stroke=\"#000000\" d=\"M489.15,-119.77C489.15,-100.99 489.15,-75.44 489.15,-56.05\"/>\n",
       "<polygon fill=\"#000000\" stroke=\"#000000\" points=\"492.65,-56.12 489.15,-46.12 485.65,-56.12 492.65,-56.12\"/>\n",
       "<text text-anchor=\"middle\" x=\"515.15\" y=\"-90.54\" font-family=\"Times,serif\" font-size=\"14.00\">CREATE</text>\n",
       "<text text-anchor=\"middle\" x=\"515.15\" y=\"-75.54\" font-family=\"Times,serif\" font-size=\"14.00\">retrieved</text>\n",
       "</g>\n",
       "<!-- N60963 -->\n",
       "<g id=\"node12\" class=\"node\">\n",
       "<title>N60963</title>\n",
       "<ellipse fill=\"#8cd499\" stroke=\"black\" stroke-width=\"0\" cx=\"643.15\" cy=\"-26.87\" rx=\"55.31\" ry=\"26.74\"/>\n",
       "<text text-anchor=\"middle\" x=\"643.15\" y=\"-30.67\" font-family=\"Times,serif\" font-size=\"14.00\">Int (60963)</text>\n",
       "<text text-anchor=\"middle\" x=\"643.15\" y=\"-15.67\" font-family=\"Times,serif\" font-size=\"14.00\">value: 20</text>\n",
       "</g>\n",
       "<!-- N60959&#45;&gt;N60963 -->\n",
       "<g id=\"edge7\" class=\"edge\">\n",
       "<title>N60959&#45;&gt;N60963</title>\n",
       "<path fill=\"none\" stroke=\"#000000\" d=\"M522.57,-119.77C547.07,-101.1 580.35,-75.73 605.75,-56.38\"/>\n",
       "<polygon fill=\"#000000\" stroke=\"#000000\" points=\"607.68,-59.31 613.51,-50.46 603.43,-53.74 607.68,-59.31\"/>\n",
       "<text text-anchor=\"middle\" x=\"611.15\" y=\"-90.54\" font-family=\"Times,serif\" font-size=\"14.00\">CREATE</text>\n",
       "<text text-anchor=\"middle\" x=\"611.15\" y=\"-75.54\" font-family=\"Times,serif\" font-size=\"14.00\">result</text>\n",
       "</g>\n",
       "</g>\n",
       "</svg>\n"
      ],
      "text/plain": [
       "<graphviz.graphs.Digraph at 0x73d3f41c94d0>"
      ]
     },
     "execution_count": 3,
     "metadata": {},
     "output_type": "execute_result"
    }
   ],
   "source": [
    "from aiida_workgraph.utils import generate_node_graph\n",
    "\n",
    "#------------------------- Submit the calculation -------------------\n",
    "# For real applications, one can pass metadata to the scheduler to activate the conda environment\n",
    "metadata = {\n",
    "    \"options\": {\n",
    "        # 'custom_scheduler_commands' : 'module load anaconda\\nconda activate py3.11\\n',\n",
    "        'custom_scheduler_commands' : '',\n",
    "    }\n",
    "}\n",
    "\n",
    "wg.submit(inputs = {\"add\": {\"x\": 2, \"y\": 3,\n",
    "                            \"computer\": \"localhost\",\n",
    "                            \"metadata\": metadata},\n",
    "                    \"multiply\": {\"y\": 4,\n",
    "                                 \"computer\": \"localhost\",\n",
    "                                 \"metadata\": metadata}},\n",
    "          wait=True)\n",
    "#------------------------- Print the output -------------------------\n",
    "print(\"\\nResult of multiply is {} \\n\\n\".format(wg.tasks.multiply.outputs.result.value))\n",
    "#------------------------- Generate node graph -------------------\n",
    "generate_node_graph(wg.pk)"
   ]
  },
  {
   "cell_type": "markdown",
   "id": "66b34ef1",
   "metadata": {},
   "source": [
    "## Use parent folder\n",
    "The parent_folder parameter allows a task to access the output files of a parent task. This feature is particularly useful when you want to reuse data generated by a previous computation in subsequent computations. In the following example, the multiply task uses the `result.txt` file created by the add task.\n"
   ]
  },
  {
   "cell_type": "code",
   "execution_count": 4,
   "id": "aa47c860",
   "metadata": {},
   "outputs": [
    {
     "data": {
      "text/html": [
       "\n",
       "        <iframe\n",
       "            width=\"100%\"\n",
       "            height=\"600px\"\n",
       "            src=\"html/PythonJob_parent_folder.html\"\n",
       "            frameborder=\"0\"\n",
       "            allowfullscreen\n",
       "            \n",
       "        ></iframe>\n",
       "        "
      ],
      "text/plain": [
       "<IPython.lib.display.IFrame at 0x73d3e4fb9c50>"
      ]
     },
     "execution_count": 4,
     "metadata": {},
     "output_type": "execute_result"
    }
   ],
   "source": [
    "from aiida_workgraph import WorkGraph, task\n",
    "\n",
    "@task.pythonjob()\n",
    "def add(x, y):\n",
    "    z = x + y\n",
    "    with open(\"result.txt\", \"w\") as f:\n",
    "        f.write(str(z))\n",
    "\n",
    "@task.pythonjob()\n",
    "def multiply(x, y):\n",
    "    with open(\"parent_folder/result.txt\", \"r\") as f:\n",
    "        z = int(f.read())\n",
    "    return x*y + z\n",
    "\n",
    "wg = WorkGraph(\"PythonJob_parent_folder\")\n",
    "wg.add_task(add, name=\"add\")\n",
    "wg.add_task(multiply, name=\"multiply\",\n",
    "             parent_folder=wg.tasks.add.outputs.remote_folder,\n",
    "             )\n",
    "\n",
    "wg.to_html()"
   ]
  },
  {
   "cell_type": "markdown",
   "id": "7c4650ac",
   "metadata": {},
   "source": [
    "Submit the workgraph and print the result."
   ]
  },
  {
   "cell_type": "code",
   "execution_count": 5,
   "id": "6367b6eb",
   "metadata": {},
   "outputs": [
    {
     "name": "stdout",
     "output_type": "stream",
     "text": [
      "WorkGraph process created, PK: 60968\n",
      "Process 60968 finished with state: FINISHED\n",
      "\n",
      "Result of multiply is uuid: 763a0770-a9fe-4b24-9251-ac9317991e74 (pk: 60984) value: 17 \n",
      "\n",
      "\n"
     ]
    }
   ],
   "source": [
    "wg.submit(inputs = {\"add\": {\"x\": 2, \"y\": 3, \"computer\": \"localhost\"},\n",
    "                    \"multiply\": {\"x\": 3, \"y\": 4, \"computer\": \"localhost\"}},\n",
    "          wait=True)\n",
    "print(\"\\nResult of multiply is {} \\n\\n\".format(wg.tasks.multiply.outputs.result.value))"
   ]
  },
  {
   "cell_type": "markdown",
   "id": "1bc31c81",
   "metadata": {},
   "source": [
    "## Upload files or folders to the remote computer\n",
    "The `upload_files` parameter allows users to upload files or folders to the remote computer. The files will be uploaded to the working directory of the remote computer.\n",
    "\n"
   ]
  },
  {
   "cell_type": "code",
   "execution_count": 6,
   "id": "ba00e2ce",
   "metadata": {},
   "outputs": [
    {
     "name": "stdout",
     "output_type": "stream",
     "text": [
      "WorkGraph process created, PK: 60985\n",
      "Process 60985 finished with state: FINISHED\n",
      "\n",
      "Result of add is uuid: 5df2bdbb-e5bf-4d16-bc4f-357f41233e9f (pk: 60995) value: 5 \n",
      "\n",
      "\n"
     ]
    }
   ],
   "source": [
    "from aiida_workgraph import WorkGraph, task\n",
    "\n",
    "# create a temporary file \"input.txt\" in the current directory\n",
    "with open(\"input.txt\", \"w\") as f:\n",
    "    f.write(\"2\")\n",
    "\n",
    "# create a temporary folder \"inputs_folder\" in the current directory\n",
    "# and add a file \"another_input.txt\" in the folder\n",
    "import os\n",
    "os.makedirs(\"inputs_folder\", exist_ok=True)\n",
    "with open(\"inputs_folder/another_input.txt\", \"w\") as f:\n",
    "    f.write(\"3\")\n",
    "\n",
    "@task.pythonjob()\n",
    "def add():\n",
    "    with open(\"input.txt\", \"r\") as f:\n",
    "        a = int(f.read())\n",
    "    with open(\"inputs_folder/another_input.txt\", \"r\") as f:\n",
    "        b = int(f.read())\n",
    "    return a + b\n",
    "\n",
    "\n",
    "wg = WorkGraph(\"PythonJob_upload_files\")\n",
    "wg.add_task(add, name=\"add\")\n",
    "\n",
    "#------------------------- Submit the calculation -------------------\n",
    "# we need use full path to the file\n",
    "input_file = os.path.abspath(\"input.txt\")\n",
    "input_folder = os.path.abspath(\"inputs_folder\")\n",
    "\n",
    "wg.submit(inputs = {\"add\": {\n",
    "                            \"computer\": \"localhost\",\n",
    "                            \"upload_files\": {\"input_file\": input_file,\n",
    "                                             \"inputs_folder\": input_folder,\n",
    "                                             },\n",
    "                            },\n",
    "                    },\n",
    "          wait=True)\n",
    "print(\"\\nResult of add is {} \\n\\n\".format(wg.tasks.add.outputs['result'].value))"
   ]
  },
  {
   "cell_type": "markdown",
   "id": "3a25f1f1-c7db-4f41-b435-38b6100dea94",
   "metadata": {},
   "source": [
    "## ShellJob"
   ]
  },
  {
   "cell_type": "markdown",
   "id": "311f0b22-ee41-47ae-bfbf-f41988947940",
   "metadata": {},
   "source": [
    "TODO"
   ]
  },
  {
   "cell_type": "markdown",
   "id": "be219320-20bc-4d93-b621-4042f9754d6e",
   "metadata": {},
   "source": [
    "## CalcJob"
   ]
  },
  {
   "cell_type": "markdown",
   "id": "81e73202-9e9c-4794-bca3-f0013a3ae24d",
   "metadata": {},
   "source": [
    "TODO"
   ]
  }
 ],
 "metadata": {
  "kernelspec": {
   "display_name": "Python 3 (ipykernel)",
   "language": "python",
   "name": "python3"
  },
  "language_info": {
   "codemirror_mode": {
    "name": "ipython",
    "version": 3
   },
   "file_extension": ".py",
   "mimetype": "text/x-python",
   "name": "python",
   "nbconvert_exporter": "python",
   "pygments_lexer": "ipython3",
   "version": "3.11.0"
  },
  "widgets": {
   "application/vnd.jupyter.widget-state+json": {
    "state": {},
    "version_major": 2,
    "version_minor": 0
   }
  }
 },
 "nbformat": 4,
 "nbformat_minor": 5
}
