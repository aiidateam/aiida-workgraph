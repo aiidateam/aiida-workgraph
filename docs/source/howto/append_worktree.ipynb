{
 "cells": [
  {
   "cell_type": "markdown",
   "id": "22d177dc-6cfb-4de2-9509-f1eb45e10cf2",
   "metadata": {},
   "source": [
    "# How to append worktree\n",
    "## Introduction\n",
    "There are two ways to combine worktrees:\n",
    "- Use the worktree as a node (group) inside another worktree. \n",
    "- Append the worktree directly to another worktree.\n",
    "\n",
    "This tutorial will show an example for the second case.\n",
    "\n"
   ]
  },
  {
   "cell_type": "code",
   "execution_count": 12,
   "id": "c6b83fb5",
   "metadata": {},
   "outputs": [
    {
     "name": "stdout",
     "output_type": "stream",
     "text": [
      "The aiida extension is already loaded. To reload it, use:\n",
      "  %reload_ext aiida\n"
     ]
    },
    {
     "data": {
      "text/plain": [
       "Profile<uuid='57ccbf7d9e2b41b39edb2bfdaf725feb' name='default'>"
      ]
     },
     "execution_count": 12,
     "metadata": {},
     "output_type": "execute_result"
    }
   ],
   "source": [
    "%load_ext aiida\n",
    "from aiida import load_profile\n",
    "load_profile()"
   ]
  },
  {
   "cell_type": "markdown",
   "id": "30719f9a",
   "metadata": {},
   "source": [
    "## Relax, Bands and PDOS\n",
    "Here is an example to combine `bands` worktree, `pdos` worktree with a `relax` node to form a new worktree.\n",
    "\n",
    "### Bands worktree"
   ]
  },
  {
   "cell_type": "code",
   "execution_count": 13,
   "id": "1d04eea7",
   "metadata": {},
   "outputs": [
    {
     "data": {
      "application/vnd.jupyter.widget-view+json": {
       "model_id": "5427953511eb41fb9e5db09492aa71c8",
       "version_major": 2,
       "version_minor": 0
      },
      "text/plain": [
       "NodeGraphWidget(value={'name': 'WorkTree', 'uuid': '846d0e96-f96b-11ee-a732-02425c27bd68', 'state': 'CREATED',…"
      ]
     },
     "execution_count": 13,
     "metadata": {},
     "output_type": "execute_result"
    }
   ],
   "source": [
    "from aiida_quantumespresso.worktrees.bands_group import bands_worktree\n",
    "from aiida_quantumespresso.worktrees.pdos_group import pdos_worktree\n",
    "from aiida import load_profile\n",
    "load_profile()\n",
    "\n",
    "bands_wt = bands_worktree(run_relax=False)\n",
    "bands_wt"
   ]
  },
  {
   "cell_type": "markdown",
   "id": "4bf4c1b4",
   "metadata": {},
   "source": [
    "### PDOS worktree"
   ]
  },
  {
   "cell_type": "code",
   "execution_count": 14,
   "id": "16c26bd4",
   "metadata": {},
   "outputs": [
    {
     "data": {
      "application/vnd.jupyter.widget-view+json": {
       "model_id": "6b69ea2f3396498e9ec9a349764cb0cb",
       "version_major": 2,
       "version_minor": 0
      },
      "text/plain": [
       "NodeGraphWidget(value={'name': 'WorkTree', 'uuid': '859a93b0-f96b-11ee-a732-02425c27bd68', 'state': 'CREATED',…"
      ]
     },
     "execution_count": 14,
     "metadata": {},
     "output_type": "execute_result"
    }
   ],
   "source": [
    "from aiida_quantumespresso.worktrees.pdos_group import pdos_worktree\n",
    "pdos_wt = pdos_worktree(run_scf=True)\n",
    "pdos_wt"
   ]
  },
  {
   "cell_type": "markdown",
   "id": "0f46d277",
   "metadata": {},
   "source": [
    "### Append worktree\n",
    "\n",
    "First, create a worktree with `relax` node:"
   ]
  },
  {
   "cell_type": "code",
   "execution_count": 15,
   "id": "f57a98ad",
   "metadata": {},
   "outputs": [
    {
     "data": {
      "application/vnd.jupyter.widget-view+json": {
       "model_id": "0e7800e26e95425abd184de36807e7a3",
       "version_major": 2,
       "version_minor": 0
      },
      "text/plain": [
       "NodeGraphWidget(value={'name': 'Electronic Structure', 'uuid': '86bd6fe2-f96b-11ee-a732-02425c27bd68', 'state'…"
      ]
     },
     "execution_count": 15,
     "metadata": {},
     "output_type": "execute_result"
    }
   ],
   "source": [
    "from aiida_worktree import WorkTree, build_node\n",
    "\n",
    "PwRelaxChainNode = build_node({'path': 'aiida_quantumespresso.workflows.pw.relax.PwRelaxWorkChain'})\n",
    "\n",
    "wt = WorkTree('Electronic Structure')\n",
    "relax_node = wt.nodes.new(PwRelaxChainNode, name='relax')\n",
    "wt"
   ]
  },
  {
   "cell_type": "markdown",
   "id": "5d7d3676",
   "metadata": {},
   "source": [
    "Now let's combine `bands` worktree, `pdos` worktree with a `relax` node to form a new worktree.\n",
    "\n",
    "To append a worktree into another worktree, there are two steps:\n",
    "- append the worktree\n",
    "- adjust the links, add new links between nodes, and remove old links if needed.\n",
    "\n"
   ]
  },
  {
   "cell_type": "code",
   "execution_count": 16,
   "id": "11e3bca1-dda6-44e9-9585-54feeda7e7db",
   "metadata": {},
   "outputs": [
    {
     "data": {
      "application/vnd.jupyter.widget-view+json": {
       "model_id": "435048fc40b94db18b74d4360cb26bb7",
       "version_major": 2,
       "version_minor": 0
      },
      "text/plain": [
       "NodeGraphWidget(value={'name': 'Electronic Structure', 'uuid': '86bd6fe2-f96b-11ee-a732-02425c27bd68', 'state'…"
      ]
     },
     "execution_count": 16,
     "metadata": {},
     "output_type": "execute_result"
    }
   ],
   "source": [
    "# append a wroktree\n",
    "wt.append(bands_wt, prefix='bands_')\n",
    "wt.append(pdos_wt, prefix='pdos_')\n",
    "# adjust the links\n",
    "wt.links.new(relax_node.outputs['output_structure'], wt.nodes['bands_scf'].inputs['pw.structure'])\n",
    "wt.links.new(relax_node.outputs['output_structure'], wt.nodes['pdos_scf'].inputs['pw.structure'])\n",
    "wt"
   ]
  },
  {
   "cell_type": "code",
   "execution_count": null,
   "id": "ec8284c9",
   "metadata": {},
   "outputs": [],
   "source": []
  }
 ],
 "metadata": {
  "kernelspec": {
   "display_name": "Python 3.10.4 ('scinode')",
   "language": "python",
   "name": "python3"
  },
  "language_info": {
   "codemirror_mode": {
    "name": "ipython",
    "version": 3
   },
   "file_extension": ".py",
   "mimetype": "text/x-python",
   "name": "python",
   "nbconvert_exporter": "python",
   "pygments_lexer": "ipython3",
   "version": "3.11.0"
  },
  "vscode": {
   "interpreter": {
    "hash": "2f450c1ff08798c4974437dd057310afef0de414c25d1fd960ad375311c3f6ff"
   }
  }
 },
 "nbformat": 4,
 "nbformat_minor": 5
}
