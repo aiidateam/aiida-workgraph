{
 "cells": [
  {
   "cell_type": "markdown",
   "id": "22d177dc-6cfb-4de2-9509-f1eb45e10cf2",
   "metadata": {},
   "source": [
    "# How to append worktree\n",
    "## Introduction\n",
    "There are two ways to combine worktrees:\n",
    "- Use the worktree as a node (group) inside another worktree. \n",
    "- Append the worktree directly to another worktree.\n",
    "\n",
    "This tutorial will show an example for the second case.\n",
    "\n"
   ]
  },
  {
   "cell_type": "code",
   "execution_count": 1,
   "id": "c6b83fb5",
   "metadata": {},
   "outputs": [
    {
     "data": {
      "text/plain": [
       "Profile<uuid='57ccbf7d9e2b41b39edb2bfdaf725feb' name='default'>"
      ]
     },
     "execution_count": 1,
     "metadata": {},
     "output_type": "execute_result"
    }
   ],
   "source": [
    "%load_ext aiida\n",
    "from aiida import load_profile\n",
    "load_profile()"
   ]
  },
  {
   "cell_type": "markdown",
   "id": "30719f9a",
   "metadata": {},
   "source": [
    "## Relax, Bands and PDOS\n",
    "Here is an example to combine `bands` worktree, `pdos` worktree with a `relax` node to form a new worktree.\n",
    "\n",
    "### Bands worktree"
   ]
  },
  {
   "cell_type": "code",
   "execution_count": 2,
   "id": "1d04eea7",
   "metadata": {},
   "outputs": [
    {
     "data": {
      "application/vnd.jupyter.widget-view+json": {
       "model_id": "f20d6c61bfd049ada3852c8bc0117ba2",
       "version_major": 2,
       "version_minor": 0
      },
      "text/plain": [
       "NodeGraphWidget(value={'name': 'WorkTree', 'uuid': 'fb426c7e-fa8c-11ee-9412-02425c27bd68', 'state': 'CREATED',…"
      ]
     },
     "execution_count": 2,
     "metadata": {},
     "output_type": "execute_result"
    }
   ],
   "source": [
    "from aiida_quantumespresso.worktrees.bands_group import bands_worktree\n",
    "from aiida import load_profile\n",
    "load_profile()\n",
    "\n",
    "bands_wt = bands_worktree(run_relax=False)\n",
    "bands_wt"
   ]
  },
  {
   "cell_type": "markdown",
   "id": "4bf4c1b4",
   "metadata": {},
   "source": [
    "### PDOS worktree"
   ]
  },
  {
   "cell_type": "code",
   "execution_count": 3,
   "id": "16c26bd4",
   "metadata": {},
   "outputs": [
    {
     "data": {
      "application/vnd.jupyter.widget-view+json": {
       "model_id": "f4e39d501b544f8ca3bd7fe137c9d8b2",
       "version_major": 2,
       "version_minor": 0
      },
      "text/plain": [
       "NodeGraphWidget(value={'name': 'WorkTree', 'uuid': '10aaac7a-fa8d-11ee-9412-02425c27bd68', 'state': 'CREATED',…"
      ]
     },
     "execution_count": 3,
     "metadata": {},
     "output_type": "execute_result"
    }
   ],
   "source": [
    "from aiida_quantumespresso.worktrees.pdos_group import pdos_worktree\n",
    "pdos_wt = pdos_worktree(run_scf=True)\n",
    "pdos_wt"
   ]
  },
  {
   "cell_type": "markdown",
   "id": "0f46d277",
   "metadata": {},
   "source": [
    "### Append worktree\n",
    "\n",
    "First, create a worktree with `relax` node:"
   ]
  },
  {
   "cell_type": "code",
   "execution_count": 4,
   "id": "f57a98ad",
   "metadata": {},
   "outputs": [
    {
     "data": {
      "application/vnd.jupyter.widget-view+json": {
       "model_id": "a6a58e53ed974f4fa520396b9bf42900",
       "version_major": 2,
       "version_minor": 0
      },
      "text/plain": [
       "NodeGraphWidget(value={'name': 'Electronic Structure', 'uuid': '1ff27140-fa8d-11ee-9412-02425c27bd68', 'state'…"
      ]
     },
     "execution_count": 4,
     "metadata": {},
     "output_type": "execute_result"
    }
   ],
   "source": [
    "from aiida_worktree import WorkTree, build_node\n",
    "\n",
    "PwRelaxChainNode = build_node({'path': 'aiida_quantumespresso.workflows.pw.relax.PwRelaxWorkChain'})\n",
    "\n",
    "wt = WorkTree('Electronic Structure')\n",
    "relax_node = wt.nodes.new(PwRelaxChainNode, name='relax')\n",
    "wt"
   ]
  },
  {
   "cell_type": "markdown",
   "id": "5d7d3676",
   "metadata": {},
   "source": [
    "Now let's combine `bands` worktree, `pdos` worktree with a `relax` node to form a new worktree.\n",
    "\n",
    "To append a worktree into another worktree, there are two steps:\n",
    "- append the worktree\n",
    "- adjust the links, add new links between nodes, and remove old links if needed.\n",
    "\n"
   ]
  },
  {
   "cell_type": "code",
   "execution_count": 5,
   "id": "11e3bca1-dda6-44e9-9585-54feeda7e7db",
   "metadata": {},
   "outputs": [
    {
     "data": {
      "application/vnd.jupyter.widget-view+json": {
       "model_id": "6f91c7c2adb8464485cb11137f3d28d6",
       "version_major": 2,
       "version_minor": 0
      },
      "text/plain": [
       "NodeGraphWidget(value={'name': 'Electronic Structure', 'uuid': '1ff27140-fa8d-11ee-9412-02425c27bd68', 'state'…"
      ]
     },
     "execution_count": 5,
     "metadata": {},
     "output_type": "execute_result"
    }
   ],
   "source": [
    "# append a wroktree\n",
    "wt.append(bands_wt, prefix='bands_')\n",
    "wt.append(pdos_wt, prefix='pdos_')\n",
    "# adjust the links\n",
    "wt.links.new(relax_node.outputs['output_structure'], wt.nodes['bands_scf'].inputs['pw.structure'])\n",
    "wt.links.new(relax_node.outputs['output_structure'], wt.nodes['pdos_scf'].inputs['pw.structure'])\n",
    "wt"
   ]
  },
  {
   "cell_type": "markdown",
   "id": "ec8284c9",
   "metadata": {},
   "source": [
    "## Node group\n",
    "One can compare it with the other method: using the worktree as a node inside another worktree.\n",
    "\n"
   ]
  },
  {
   "cell_type": "code",
   "execution_count": 9,
   "id": "345f250f",
   "metadata": {},
   "outputs": [
    {
     "data": {
      "application/vnd.jupyter.widget-view+json": {
       "model_id": "4a3011638d91487e958c0f36365670ae",
       "version_major": 2,
       "version_minor": 0
      },
      "text/plain": [
       "NodeGraphWidget(value={'name': 'Electronic Structure', 'uuid': 'f959a82c-fa8d-11ee-9412-02425c27bd68', 'state'…"
      ]
     },
     "execution_count": 9,
     "metadata": {},
     "output_type": "execute_result"
    }
   ],
   "source": [
    "wt = WorkTree('Electronic Structure')\n",
    "relax_node = wt.nodes.new(PwRelaxChainNode, name='relax')\n",
    "bands_job = wt.nodes.new(bands_worktree, name='bands_group')\n",
    "pdos_job = wt.nodes.new(pdos_worktree, name='pdos_group')\n",
    "wt.links.new(relax_node.outputs['output_structure'], bands_job.inputs['structure'])\n",
    "wt.links.new(relax_node.outputs['output_structure'], pdos_job.inputs['structure'])\n",
    "wt"
   ]
  },
  {
   "cell_type": "markdown",
   "id": "17d4996e",
   "metadata": {},
   "source": [
    "### Pros\n",
    "Show the top level workflow.\n",
    "### Cons\n",
    "Only know the exact node graph at runtime."
   ]
  }
 ],
 "metadata": {
  "kernelspec": {
   "display_name": "Python 3.10.4 ('scinode')",
   "language": "python",
   "name": "python3"
  },
  "language_info": {
   "codemirror_mode": {
    "name": "ipython",
    "version": 3
   },
   "file_extension": ".py",
   "mimetype": "text/x-python",
   "name": "python",
   "nbconvert_exporter": "python",
   "pygments_lexer": "ipython3",
   "version": "3.11.0"
  },
  "vscode": {
   "interpreter": {
    "hash": "2f450c1ff08798c4974437dd057310afef0de414c25d1fd960ad375311c3f6ff"
   }
  }
 },
 "nbformat": 4,
 "nbformat_minor": 5
}
