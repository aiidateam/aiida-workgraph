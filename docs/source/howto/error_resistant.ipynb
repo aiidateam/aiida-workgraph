{
 "cells": [
  {
   "cell_type": "markdown",
   "id": "22d177dc-6cfb-4de2-9509-f1eb45e10cf2",
   "metadata": {},
   "source": [
    "# How to write error-resistant workflows"
   ]
  },
  {
   "cell_type": "markdown",
   "id": "58696c91",
   "metadata": {},
   "source": [
    "## Introduction\n",
    "In this tutorial, we will show how to implement the error handling in a WorkGraph.\n",
    "\n",
    "\n",
    "Load the AiiDA profile."
   ]
  },
  {
   "cell_type": "code",
   "execution_count": 1,
   "id": "c6b83fb5",
   "metadata": {},
   "outputs": [
    {
     "data": {
      "text/plain": [
       "Profile<uuid='57ccbf7d9e2b41b39edb2bfdaf725feb' name='default'>"
      ]
     },
     "execution_count": 1,
     "metadata": {},
     "output_type": "execute_result"
    }
   ],
   "source": [
    "%load_ext aiida\n",
    "from aiida import load_profile\n",
    "load_profile()"
   ]
  },
  {
   "cell_type": "markdown",
   "id": "4270e3e3",
   "metadata": {},
   "source": [
    "## Normal WorkGraph\n",
    "We will show how to implement the error handlers for the `ArithmeticAddCalculation`. We start by creating a normal WorkGraph:"
   ]
  },
  {
   "cell_type": "code",
   "execution_count": 2,
   "id": "f4db68af",
   "metadata": {},
   "outputs": [
    {
     "name": "stdout",
     "output_type": "stream",
     "text": [
      "WorkGraph process created, PK: 78157\n",
      "Task finished OK?  True\n",
      "Exit code:  None\n",
      "Exit Message:  None\n"
     ]
    }
   ],
   "source": [
    "from aiida_workgraph import WorkGraph\n",
    "from aiida import orm\n",
    "from aiida.calculations.arithmetic.add import ArithmeticAddCalculation\n",
    "\n",
    "\n",
    "wg = WorkGraph(\"normal_graph\")\n",
    "wg.tasks.new(ArithmeticAddCalculation, name=\"add1\")\n",
    "\n",
    "#------------------------- Submit the calculation -------------------\n",
    "code = orm.load_code(\"add@localhost\")\n",
    "wg.submit(inputs={\"add1\": {\"code\": code,\n",
    "                            \"x\": orm.Int(1),\n",
    "                           \"y\": orm.Int(2)\n",
    "                           }},\n",
    "          wait=True)\n",
    "print(\"Task finished OK? \", wg.tasks[\"add1\"].process.is_finished_ok)\n",
    "print(\"Exit code: \", wg.tasks[\"add1\"].process.exit_code)\n",
    "print(\"Exit Message: \", wg.tasks[\"add1\"].process.exit_message)\n"
   ]
  },
  {
   "cell_type": "markdown",
   "id": "6e322ccf",
   "metadata": {},
   "source": [
    "## Error code\n",
    "\n",
    "If the computed sum of the inputs x and y is negative, the `ArithmeticAddCalculation` fails with exit code 410. Let's reset the WorkGraph and modify the inputs:"
   ]
  },
  {
   "cell_type": "code",
   "execution_count": 3,
   "id": "f0a84499",
   "metadata": {},
   "outputs": [
    {
     "name": "stdout",
     "output_type": "stream",
     "text": [
      "WorkGraph process created, PK: 78165\n",
      "Task finished OK?  False\n",
      "Exit code:  ExitCode(status=410, message='The sum of the operands is a negative number.', invalidates_cache=False)\n",
      "Exit Message:  The sum of the operands is a negative number.\n"
     ]
    }
   ],
   "source": [
    "wg.reset()\n",
    "wg.submit(inputs={\"add1\": {\"code\": code,\n",
    "                            \"x\": orm.Int(1),\n",
    "                           \"y\": orm.Int(-6)\n",
    "                           }},\n",
    "          wait=True)\n",
    "print(\"Task finished OK? \", wg.tasks[\"add1\"].process.is_finished_ok)\n",
    "print(\"Exit code: \", wg.tasks[\"add1\"].process.exit_code)\n",
    "print(\"Exit Message: \", wg.tasks[\"add1\"].process.exit_message)"
   ]
  },
  {
   "cell_type": "markdown",
   "id": "580f5781",
   "metadata": {},
   "source": [
    "We can confirm that the task fails by:"
   ]
  },
  {
   "cell_type": "code",
   "execution_count": 4,
   "id": "527ef91e",
   "metadata": {},
   "outputs": [
    {
     "name": "stdout",
     "output_type": "stream",
     "text": [
      "\u001b[22mWorkGraph<normal_graph><78165> Finished [302]\n",
      "    └── ArithmeticAddCalculation<78167> Finished [410]\u001b[0m\n"
     ]
    }
   ],
   "source": [
    "%verdi process status 78165"
   ]
  },
  {
   "cell_type": "markdown",
   "id": "6ae5d5dd",
   "metadata": {},
   "source": [
    "## Error handling\n",
    "\n",
    "To “register” a error handler for a WorkGraph, you simply define a function that takes the `self` and `task_name` as its arguments, and attach it as the `error_hanlders` of the WorkGraph.\n",
    "\n",
    "You can specify the tasks and their exit codes that should trigger the error handler, as well as the maximum number of retries for a task:\n",
    "\n",
    "```python\n",
    "tasks={\"add1\": {\"exit_codes\": [410],\n",
    "                \"max_retries\": 5}\n",
    "      }\n",
    "```"
   ]
  },
  {
   "cell_type": "code",
   "execution_count": 7,
   "id": "70bcb8af",
   "metadata": {},
   "outputs": [
    {
     "name": "stdout",
     "output_type": "stream",
     "text": [
      "WorkGraph process created, PK: 78194\n",
      "Task finished OK?  True\n",
      "Exit code:  None\n",
      "Exit Message:  None\n"
     ]
    }
   ],
   "source": [
    "from aiida_workgraph import WorkGraph\n",
    "from aiida import orm\n",
    "from aiida.calculations.arithmetic.add import ArithmeticAddCalculation\n",
    "\n",
    "def handle_negative_sum(self, task_name: str):\n",
    "    \"\"\"Handle the failure code 410 of the `ArithmeticAddCalculation`.\n",
    "    Simply make the inputs positive by taking the absolute value.\n",
    "    \"\"\"\n",
    "    self.report(f\"Run error handler: handle_negative_sum.\")\n",
    "    # load the task from the WorkGraph engine\n",
    "    task = self.get_task(task_name)\n",
    "    # modify task inputs\n",
    "    task.set({\"x\": orm.Int(abs(task.inputs[\"x\"].value)),\n",
    "              \"y\": orm.Int(abs(task.inputs[\"y\"].value))})\n",
    "    # update the task in the WorkGraph engine\n",
    "    self.update_task(task)\n",
    "\n",
    "wg = WorkGraph(\"normal_graph\")\n",
    "wg.tasks.new(ArithmeticAddCalculation, name=\"add1\")\n",
    "# register error handler\n",
    "wg.attach_error_handler(handle_negative_sum, name=\"handle_negative_sum\",\n",
    "                           tasks={\"add1\": {\"exit_codes\": [410],\n",
    "                                           \"max_retries\": 5}\n",
    "                           })\n",
    "\n",
    "#------------------------- Submit the calculation -------------------\n",
    "wg.submit(inputs={\"add1\": {\"code\": code,\n",
    "                            \"x\": orm.Int(1),\n",
    "                           \"y\": orm.Int(-6)\n",
    "                           },\n",
    "                },\n",
    "          wait=True)\n",
    "print(\"Task finished OK? \", wg.tasks[\"add1\"].process.is_finished_ok)\n",
    "print(\"Exit code: \", wg.tasks[\"add1\"].process.exit_code)\n",
    "print(\"Exit Message: \", wg.tasks[\"add1\"].process.exit_message)\n"
   ]
  },
  {
   "cell_type": "markdown",
   "id": "e42f8110",
   "metadata": {},
   "source": [
    "We can confirm that the task first fails again with a 410. Then the WorkGraph restarts the task with the new inputs, and it finishes successfully. "
   ]
  },
  {
   "cell_type": "code",
   "execution_count": 8,
   "id": "1fe4a1a9",
   "metadata": {},
   "outputs": [
    {
     "name": "stdout",
     "output_type": "stream",
     "text": [
      "\u001b[22mWorkGraph<normal_graph><78194> Finished [0]\n",
      "    ├── ArithmeticAddCalculation<78195> Finished [410]\n",
      "    └── ArithmeticAddCalculation<78201> Finished [0]\u001b[0m\n"
     ]
    }
   ],
   "source": [
    "%verdi process status 78194"
   ]
  },
  {
   "cell_type": "markdown",
   "id": "ec746bae",
   "metadata": {},
   "source": [
    "## Custom parameters for error handlers\n",
    "One can also pass custom parameters to the error handler. For example, instead of simply make the inputs positive by taking the absolute value, we add an increment to the inputs. And the `increment` is a custom parameter of the error handler, which the user can specify when attaching the error handler to the WorkGraph, or update it during the execution of the WorkGraph.\n",
    "\n",
    "\n"
   ]
  },
  {
   "cell_type": "code",
   "execution_count": 15,
   "id": "9406d4b2",
   "metadata": {},
   "outputs": [
    {
     "name": "stdout",
     "output_type": "stream",
     "text": [
      "WorkGraph process created, PK: 78256\n",
      "Task finished OK?  True\n",
      "Exit code:  None\n",
      "Exit Message:  None\n"
     ]
    }
   ],
   "source": [
    "def handle_negative_sum(self, task_name: str, increment: int = 1):\n",
    "    \"\"\"Handle the failure code 410 of the `ArithmeticAddCalculation`.\n",
    "    Simply add an increment to the inputs.\n",
    "    \"\"\"\n",
    "    self.report(f\"Run error handler: handle_negative_sum.\")\n",
    "    # load the task from the WorkGraph engine\n",
    "    task = self.get_task(task_name)\n",
    "    # modify task inputs\n",
    "    task.set({\"x\": orm.Int(task.inputs[\"x\"].value + increment),\n",
    "              \"y\": orm.Int(task.inputs[\"y\"].value + increment)})\n",
    "    # update the task in the WorkGraph engine\n",
    "    self.update_task(task)\n",
    "\n",
    "\n",
    "wg = WorkGraph(\"normal_graph\")\n",
    "wg.tasks.new(ArithmeticAddCalculation, name=\"add1\")\n",
    "# register error handler\n",
    "wg.attach_error_handler(handle_negative_sum, name=\"handle_negative_sum\",\n",
    "                           tasks={\"add1\": {\"exit_codes\": [410],\n",
    "                                           \"max_retries\": 5,\n",
    "                                           \"kwargs\": {\"increment\": 1}}\n",
    "                           })\n",
    "\n",
    "#------------------------- Submit the calculation -------------------\n",
    "wg.submit(inputs={\"add1\": {\"code\": code,\n",
    "                            \"x\": orm.Int(1),\n",
    "                           \"y\": orm.Int(-6)\n",
    "                           },\n",
    "                },\n",
    "          wait=True)\n",
    "print(\"Task finished OK? \", wg.tasks[\"add1\"].process.is_finished_ok)\n",
    "print(\"Exit code: \", wg.tasks[\"add1\"].process.exit_code)\n",
    "print(\"Exit Message: \", wg.tasks[\"add1\"].process.exit_message)"
   ]
  },
  {
   "cell_type": "markdown",
   "id": "17fa8052",
   "metadata": {},
   "source": [
    "Since we increase the inputs by a `increment`, so it takes three retries before it finished successfully:"
   ]
  },
  {
   "cell_type": "code",
   "execution_count": 16,
   "id": "62934e04",
   "metadata": {},
   "outputs": [
    {
     "name": "stdout",
     "output_type": "stream",
     "text": [
      "\u001b[22mWorkGraph<normal_graph><78256> Finished [0]\n",
      "    ├── ArithmeticAddCalculation<78257> Finished [410]\n",
      "    ├── ArithmeticAddCalculation<78263> Finished [410]\n",
      "    ├── ArithmeticAddCalculation<78269> Finished [410]\n",
      "    └── ArithmeticAddCalculation<78275> Finished [0]\u001b[0m\n"
     ]
    }
   ],
   "source": [
    "%verdi process status 78256"
   ]
  },
  {
   "cell_type": "markdown",
   "id": "ca8067ef",
   "metadata": {},
   "source": [
    "One can increase the `increment` before submiting the WorkGraph:\n"
   ]
  },
  {
   "cell_type": "code",
   "execution_count": 19,
   "id": "08b2eab5",
   "metadata": {},
   "outputs": [
    {
     "name": "stdout",
     "output_type": "stream",
     "text": [
      "WorkGraph process created, PK: 78302\n"
     ]
    },
    {
     "data": {
      "text/plain": [
       "<WorkChainNode: uuid: 79bf8f75-d38a-4fae-bb26-1691ccf402b8 (pk: 78302) (aiida_workgraph.engine.workgraph.WorkGraphEngine)>"
      ]
     },
     "execution_count": 19,
     "metadata": {},
     "output_type": "execute_result"
    }
   ],
   "source": [
    "wg.reset()\n",
    "wg.error_handlers[\"handle_negative_sum\"][\"tasks\"][\"add1\"][\"kwargs\"][\"increment\"] = 3\n",
    "wg.submit(inputs={\"add1\": {\"code\": code,\n",
    "                            \"x\": orm.Int(1),\n",
    "                           \"y\": orm.Int(-6)\n",
    "                           },\n",
    "                },\n",
    "          wait=True)"
   ]
  },
  {
   "cell_type": "markdown",
   "id": "7ea3d2bd",
   "metadata": {},
   "source": [
    "In this case, it only needs one retry to finish successfully."
   ]
  },
  {
   "cell_type": "code",
   "execution_count": 20,
   "id": "f5b9b349",
   "metadata": {},
   "outputs": [
    {
     "name": "stdout",
     "output_type": "stream",
     "text": [
      "\u001b[22mWorkGraph<normal_graph><78302> Finished [0]\n",
      "    ├── ArithmeticAddCalculation<78303> Finished [410]\n",
      "    └── ArithmeticAddCalculation<78309> Finished [0]\u001b[0m\n"
     ]
    }
   ],
   "source": [
    "%verdi process status 78302"
   ]
  },
  {
   "cell_type": "markdown",
   "id": "0f46d277",
   "metadata": {},
   "source": [
    "## Compare to the `BaseRestartWorkChain`\n",
    "AiiDA provides a `BaseRestartWorkChain` class that can be used to write workflows that can handle known failure modes of processes and calculations."
   ]
  },
  {
   "cell_type": "code",
   "execution_count": 19,
   "id": "ece10d89",
   "metadata": {},
   "outputs": [],
   "source": [
    "from aiida.engine import BaseRestartWorkChain\n",
    "from aiida.plugins import CalculationFactory\n",
    "from aiida import orm\n",
    "from aiida.engine import while_\n",
    "from aiida.engine import process_handler, ProcessHandlerReport\n",
    "\n",
    "ArithmeticAddCalculation = CalculationFactory('core.arithmetic.add')\n",
    "\n",
    "class ArithmeticAddBaseWorkChain(BaseRestartWorkChain):\n",
    "\n",
    "    _process_class = ArithmeticAddCalculation\n",
    "\n",
    "\n",
    "    @classmethod\n",
    "    def define(cls, spec):\n",
    "        \"\"\"Define the process specification.\"\"\"\n",
    "        super().define(spec)\n",
    "        spec.expose_inputs(ArithmeticAddCalculation, namespace='add')\n",
    "        spec.expose_outputs(ArithmeticAddCalculation)\n",
    "        spec.outline(\n",
    "            cls.setup,\n",
    "            while_(cls.should_run_process)(\n",
    "                cls.run_process,\n",
    "                cls.inspect_process,\n",
    "            ),\n",
    "            cls.results,\n",
    "        )\n",
    "\n",
    "    def setup(self):\n",
    "        \"\"\"Call the `setup` of the `BaseRestartWorkChain` and then create the inputs dictionary in `self.ctx.inputs`.\n",
    "\n",
    "        This `self.ctx.inputs` dictionary will be used by the `BaseRestartWorkChain` to submit the process in the\n",
    "        internal loop.\n",
    "        \"\"\"\n",
    "        super().setup()\n",
    "        self.ctx.inputs = self.exposed_inputs(ArithmeticAddCalculation, 'add')\n",
    "    \n",
    "    @process_handler\n",
    "    def handle_negative_sum(self, node):\n",
    "        \"\"\"Check if the calculation failed with `ERROR_NEGATIVE_NUMBER`.\n",
    "\n",
    "        If this is the case, simply make the inputs positive by taking the absolute value.\n",
    "\n",
    "        :param node: the node of the subprocess that was ran in the current iteration.\n",
    "        :return: optional :class:`~aiida.engine.processes.workchains.utils.ProcessHandlerReport` instance to signal\n",
    "            that a problem was detected and potentially handled.\n",
    "        \"\"\"\n",
    "        if node.exit_status == ArithmeticAddCalculation.exit_codes.ERROR_NEGATIVE_NUMBER.status:\n",
    "            self.ctx.inputs['x'] = orm.Int(abs(node.inputs.x.value))\n",
    "            self.ctx.inputs['y'] = orm.Int(abs(node.inputs.y.value))\n",
    "            return ProcessHandlerReport()\n"
   ]
  },
  {
   "cell_type": "markdown",
   "id": "b530d443",
   "metadata": {},
   "source": [
    "In the `BaseRestartWorkChain`, the error handling is implemented for a specific Calculation class. While, the error handling in a WorkGraph is more general and can be applied to any task in the WorkGraph, with custom parameters.\n",
    "\n",
    "## Summary\n",
    "Here we have shown how to implement error handling in a WorkGraph."
   ]
  }
 ],
 "metadata": {
  "kernelspec": {
   "display_name": "Python 3.10.4 ('scinode')",
   "language": "python",
   "name": "python3"
  },
  "language_info": {
   "codemirror_mode": {
    "name": "ipython",
    "version": 3
   },
   "file_extension": ".py",
   "mimetype": "text/x-python",
   "name": "python",
   "nbconvert_exporter": "python",
   "pygments_lexer": "ipython3",
   "version": "3.11.0"
  },
  "vscode": {
   "interpreter": {
    "hash": "2f450c1ff08798c4974437dd057310afef0de414c25d1fd960ad375311c3f6ff"
   }
  }
 },
 "nbformat": 4,
 "nbformat_minor": 5
}
