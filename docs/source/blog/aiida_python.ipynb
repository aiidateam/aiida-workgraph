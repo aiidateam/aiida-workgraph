{
  "cells": [
    {
      "cell_type": "markdown",
      "id": "22d177dc-6cfb-4de2-9509-f1eb45e10cf2",
      "metadata": {},
      "source": [
        "# Streamline Your Research: Integrate Your Favorite Tools with AiiDA-WorkGraph\n",
        "\n",
        "AiiDA is sometimes viewed as having a steep initial setup, primarily because users are required to develop AiiDA plugins to execute their codes on remote computers. This development process involves creating input generators, output parsers, and configuring codes for execution. Software packages such as ASE, which already include APIs to manage these tasks, are widely utilized within various communities and boast many impressive features. Requiring developers to adapt their packages to meet AiiDA-specific requirements introduces significant overhead, including the need to maintain dual codebases. Moreover, AiiDA's emphasis on data provenance demands that data be transformed to fit its unique database format, a process divergent from those used by other packages.\n",
        "\n",
        "The new `PythonJob` built-in task in AiiDA-WorkGraph innovates by allowing users to deploy their existing package APIs to operate jobs on remote computers seamlessly. For example, users can now directly use ASE’s calculator to perform DFT calculations remotely by writing standard Python functions. The WorkGraph manages the execution of these functions on remote computers, handles checkpoints, manages data transformations, and ensures comprehensive data provenance.\n",
        "\n",
        "## Highlighted Benefits\n",
        "\n",
        "- **Leveraging Existing Packages**: Utilize existing packages like ASE, which are equipped with APIs for managing inputs, execution, and outputs, directly. This integration significantly reduces redundancy in the traditional AiiDA setup processes, increasing user efficiency.\n",
        "  \n",
        "- **Broad Accessibility**: The `PythonJob` task aims to make AiiDA more accessible by enabling users from various backgrounds to integrate their existing tools without converting them into AiiDA-specific formats. This enhancement broadens AiiDA’s appeal across diverse scientific and engineering communities.\n",
        "\n",
        "\n",
        "## Real-world Workflow: atomization energy of molecule\n",
        "\n",
        "The atomization energy, $\\Delta E$, of a molecule can be expressed as:\n",
        "\n",
        "$$\n",
        "\\Delta E = n_{\\text{atom}} \\times E_{\\text{atom}} - E_{\\text{molecule}}\n",
        "$$\n",
        "\n",
        "Where:\n",
        "\n",
        "- $\\Delta E$ is the atomization energy of the molecule.\n",
        "- $n_{\\text{atom}}$ is the number of atoms.\n",
        "- $E_{\\text{atom}}$ is the energy of an isolated atom.\n",
        "- $E_{\\text{molecule}}$ is the energy of the molecule.\n",
        "\n",
        "\n",
        "### Define a task using ASE EMT potential"
      ]
    },
    {
      "cell_type": "code",
      "execution_count": 1,
      "id": "5e2525c9",
      "metadata": {},
      "outputs": [],
      "source": [
        "from aiida_workgraph import task, WorkGraph\n",
        "from ase import Atoms\n",
        "\n",
        "@task()\n",
        "def emt(atoms: Atoms) -> float:\n",
        "    \"\"\"Calculate the energy of an Atoms object using the EMT calculator.\"\"\"\n",
        "    from ase.calculators.emt import EMT\n",
        "    atoms.calc = EMT()\n",
        "    energy = atoms.get_potential_energy()\n",
        "    return energy\n",
        "\n",
        "\n",
        "@task()\n",
        "def atomization_energy(molecule: Atoms,\n",
        "                       energy_molecule: float,\n",
        "                       energy_atom: float) -> float:\n",
        "    \"\"\"Calculate the atomization energy of a molecule.\"\"\"\n",
        "    energy = energy_atom*len(molecule) - energy_molecule\n",
        "    return energy\n"
      ]
    },
    {
      "cell_type": "markdown",
      "id": "c5013b22",
      "metadata": {},
      "source": [
        "### Define a workgraph"
      ]
    },
    {
      "cell_type": "code",
      "execution_count": 2,
      "id": "6a860963",
      "metadata": {},
      "outputs": [
        {
          "data": {
            "text/html": [
              "\n",
              "        <iframe\n",
              "            width=\"100%\"\n",
              "            height=\"600px\"\n",
              "            src=\"html/atomization_energy.html\"\n",
              "            frameborder=\"0\"\n",
              "            allowfullscreen\n",
              "            \n",
              "        ></iframe>\n",
              "        "
            ],
            "text/plain": [
              "<IPython.lib.display.IFrame at 0x7a6ce5023f10>"
            ]
          },
          "execution_count": 2,
          "metadata": {},
          "output_type": "execute_result"
        }
      ],
      "source": [
        "wg = WorkGraph(\"atomization_energy\")\n",
        "pw_atom = wg.add_task(\"PythonJob\", function=emt, name=\"emt_atom\")\n",
        "pw_mol = wg.add_task(\"PythonJob\", function=emt, name=\"emt_mol\")\n",
        "# create the task to calculate the atomization energy\n",
        "wg.add_task(\"PythonJob\", function=atomization_energy, name=\"atomization_energy\",\n",
        "             energy_atom=pw_atom.outputs[\"result\"],\n",
        "             energy_molecule=pw_mol.outputs[\"result\"])\n",
        "wg.to_html()"
      ]
    },
    {
      "cell_type": "markdown",
      "id": "c3e8dc1a",
      "metadata": {},
      "source": [
        "### Prepare the inputs and submit the workgraph\n",
        "\n",
        "**Computer**: Users can designate the remote computer where the job will be executed. This action will create an AiiDA code, `python3@computer`, if it does not already exist.\n",
        "\n",
        "**Data**: It is recommended that users employ standard Python data types as inputs. The WorkGraph is responsible for transferring and serializing this data to AiiDA-compatible formats. During serialization, the WorkGraph searches for a corresponding AiiDA data entry point based on the module and class names (e.g., `ase.atoms.Atoms`). If an appropriate entry point is found, it is utilized for serialization. If no entry point is found, the data is serialized into binary format using PickledData (pickle).\n",
        "\n",
        "**Python Version**: To ensure compatibility, the Python version on the remote computer should match the version used on the localhost. Users can create a matching virtual environment using Conda. It's essential to activate this environment prior to executing the script.\n",
        "\n",
        "For operational deployments, metadata can be passed to the scheduler to configure the execution environment:\n",
        "\n",
        "```python\n",
        "metadata = {\n",
        "    \"options\": {\n",
        "        'custom_scheduler_commands': 'module load anaconda\\nconda activate py3.11\\n',\n",
        "    }\n",
        "}\n",
        "```"
      ]
    },
    {
      "cell_type": "code",
      "execution_count": 3,
      "id": "fe027a56",
      "metadata": {},
      "outputs": [
        {
          "name": "stdout",
          "output_type": "stream",
          "text": [
            "WorkGraph process created, PK: 50402\n",
            "Atomization energy:                  9.651 eV\n"
          ]
        }
      ],
      "source": [
        "from ase.build import molecule\n",
        "from ase import Atoms\n",
        "from aiida import load_profile\n",
        "\n",
        "load_profile()\n",
        "\n",
        "# create input structure\n",
        "n_atom = Atoms(\"N\", pbc=True)\n",
        "n_atom.center(vacuum=5.0)\n",
        "n2_molecule = molecule(\"N2\", pbc=True)\n",
        "n2_molecule.center(vacuum=5.0)\n",
        "\n",
        "metadata = {\n",
        "    \"options\": {\n",
        "        'custom_scheduler_commands': '# test\\n',\n",
        "        # 'custom_scheduler_commands': 'module load anaconda\\nconda activate py3.11\\n',\n",
        "    }\n",
        "}\n",
        "#------------------------- Set the inputs -------------------------\n",
        "wg.tasks[\"emt_atom\"].set({\"atoms\": n_atom,\n",
        "                          \"computer\": \"localhost\",\n",
        "                          \"metadata\": metadata})\n",
        "wg.tasks[\"emt_mol\"].set({\"atoms\": n2_molecule,\n",
        "                         \"computer\": \"localhost\",\n",
        "                         \"metadata\": metadata})\n",
        "wg.tasks[\"atomization_energy\"].set({\"molecule\": n2_molecule})\n",
        "#------------------------- Submit the calculation -------------------\n",
        "wg.submit(wait=True, timeout=200)\n",
        "#------------------------- Print the output -------------------------\n",
        "print('Atomization energy:                  {:0.3f} eV'.format(wg.tasks['atomization_energy'].outputs[\"result\"].value.value))\n"
      ]
    },
    {
      "cell_type": "markdown",
      "id": "ace64ad8",
      "metadata": {},
      "source": [
        "### Remote Folder\n",
        "Users can inspect the remote folder to review the files generated by the `PythonJob`. To check the job status, use the command:\n",
        "\n",
        "```console\n",
        "verdi process list -a\n",
        "```\n",
        "\n",
        "```console\n",
        "50350  7m ago     WorkGraph<atomization_energy>                       ⏹ Finished [0]\n",
        "50354  7m ago     PythonJob<emt>                                      ⏹ Finished [0]\n",
        "50358  7m ago     PythonJob<emt>                                      ⏹ Finished [0]\n",
        "50368  7m ago     PythonJob<atomization_energy>                       ⏹ Finished [0]\n",
        "```\n",
        "\n",
        "To access the remote folder and view its contents, replace `<calcjob-pk>` with the appropriate calculation job PK (e.g., 50354):\n",
        "\n",
        "```console\n",
        "# replace <calcjob-pk> with the calcjob pk, e.g. 50354 \n",
        "verdi calcjob gotocomputer <calcjob-pk>\n",
        "```\n",
        "\n",
        "To list the files in the remote folder:\n",
        "\n",
        "```console\n",
        "$ ls\n",
        "aiida.out        inputs.pickle   _scheduler-stderr.txt  script.py\n",
        "_aiidasubmit.sh  results.pickle  _scheduler-stdout.txt\n",
        "```\n",
        "\n",
        "Each task's inputs are serialized into the `inputs.pickle` file, and outputs are stored in the `results.pickle` file. The `script.py` file on the remote computer executes the Python function.\n",
        "\n",
        "## Use Parent Folder\n",
        "The `parent_folder` parameter enables a task to access the output files of a parent task. This functionality is particularly beneficial for reusing data from a previous computation in subsequent processes. For example, in the setup below, the `multiply` task utilizes the file created by the `add` task from the `remote_folder`."
      ]
    },
    {
      "cell_type": "code",
      "execution_count": 6,
      "id": "f562cff4",
      "metadata": {},
      "outputs": [
        {
          "data": {
            "text/html": [
              "\n",
              "        <iframe\n",
              "            width=\"100%\"\n",
              "            height=\"600px\"\n",
              "            src=\"html/PythonJob_parent_folder.html\"\n",
              "            frameborder=\"0\"\n",
              "            allowfullscreen\n",
              "            \n",
              "        ></iframe>\n",
              "        "
            ],
            "text/plain": [
              "<IPython.lib.display.IFrame at 0x7a6caab951d0>"
            ]
          },
          "execution_count": 6,
          "metadata": {},
          "output_type": "execute_result"
        }
      ],
      "source": [
        "from aiida_workgraph import WorkGraph, task\n",
        "\n",
        "# define add task\n",
        "@task()\n",
        "def add(x, y):\n",
        "    z = x + y\n",
        "    with open(\"result.txt\", \"w\") as f:\n",
        "        f.write(str(z))\n",
        "\n",
        "# define multiply task\n",
        "@task()\n",
        "def multiply(x, y):\n",
        "    with open(\"parent_folder/result.txt\", \"r\") as f:\n",
        "        z = int(f.read())\n",
        "    return x*y + z\n",
        "\n",
        "wg = WorkGraph(\"PythonJob_parent_folder\")\n",
        "wg.add_task(\"PythonJob\", function=add, name=\"add\")\n",
        "wg.add_task(\"PythonJob\", function=multiply, name=\"multiply\",\n",
        "             parent_folder=wg.tasks[\"add\"].outputs[\"remote_folder\"],\n",
        "             )\n",
        "\n",
        "wg.to_html()"
      ]
    },
    {
      "cell_type": "markdown",
      "id": "8fe913be",
      "metadata": {},
      "source": [
        "## Upload files or folders to the remote computer\n",
        "The `upload_files` parameter allows users to upload files or folders to the remote computer. The files will be uploaded to the working directory of the remote computer.\n",
        "\n",
        "```python\n",
        "# we need use full path to the file\n",
        "input_file = os.path.abspath(\"input.txt\")\n",
        "input_folder = os.path.abspath(\"inputs_folder\")\n",
        "\n",
        "wg.submit(inputs = {\"add\": {\n",
        "                            \"computer\": \"localhost\",\n",
        "                            \"upload_files\": {\"input.txt\": input_file,\n",
        "                                             \"inputs_folder\": input_folder,\n",
        "                                             },\n",
        "                            },\n",
        "                    },\n",
        "          wait=True)\n",
        "```\n",
        "\n",
        "## Conclusion\n",
        "The new `PythonJob` task in AiiDA-WorkGraph simplifies the integration of existing software tools into computational workflows, enhancing efficiency and broadening user access. This feature minimizes setup complexity and allows researchers to focus more on their scientific goals with reliable data management. As a result, AiiDA is now more user-friendly and applicable across various scientific disciplines, marking a significant step forward in making advanced computational research more accessible and efficient."
      ]
    }
  ],
  "metadata": {
    "kernelspec": {
      "display_name": "Python 3.10.4 ('scinode')",
      "language": "python",
      "name": "python3"
    },
    "language_info": {
      "codemirror_mode": {
        "name": "ipython",
        "version": 3
      },
      "file_extension": ".py",
      "mimetype": "text/x-python",
      "name": "python",
      "nbconvert_exporter": "python",
      "pygments_lexer": "ipython3",
      "version": "3.11.0"
    },
    "vscode": {
      "interpreter": {
        "hash": "2f450c1ff08798c4974437dd057310afef0de414c25d1fd960ad375311c3f6ff"
      }
    }
  },
  "nbformat": 4,
  "nbformat_minor": 5
}
