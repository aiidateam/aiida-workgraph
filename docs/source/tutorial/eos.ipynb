{
  "cells": [
    {
      "cell_type": "markdown",
      "metadata": {},
      "source": [
        "\n# Equation of state (EOS) WorkGraph\n"
      ]
    },
    {
      "cell_type": "markdown",
      "metadata": {},
      "source": [
        "To run this tutorial, you need to install aiida-workgraph and set up a AiiDA profile.\n\n## Create the calcfunction task\n\n\n"
      ]
    },
    {
      "cell_type": "code",
      "execution_count": null,
      "metadata": {
        "collapsed": false
      },
      "outputs": [],
      "source": [
        "from aiida import orm\nfrom aiida_workgraph import task\n\n#\n# explicitly define the output socket name to match the return value of the function\n@task.calcfunction(outputs=[{\"name\": \"structures\"}])\ndef scale_structure(structure, scales):\n    \"\"\"Scale the structure by the given scales.\"\"\"\n    atoms = structure.get_ase()\n    structures = {}\n    for i in range(len(scales)):\n        atoms1 = atoms.copy()\n        atoms1.set_cell(atoms.cell * scales[i], scale_atoms=True)\n        structure = orm.StructureData(ase=atoms1)\n        structures[f\"s_{i}\"] = structure\n    return {\"structures\": structures}\n\n\n@task.calcfunction()\n# because this is a calcfunction, and the input datas are dynamic, we need use **datas.\ndef eos(**datas):\n    \"\"\"Fit the EOS of the data.\"\"\"\n    from ase.eos import EquationOfState\n\n    #\n    volumes = []\n    energies = []\n    for _, data in datas.items():\n        volumes.append(data.dict.volume)\n        energies.append(data.dict.energy)\n        unit = data.dict.energy_units\n    #\n    eos = EquationOfState(volumes, energies)\n    v0, e0, B = eos.fit()\n    eos = orm.Dict({\"unit\": unit, \"v0\": v0, \"e0\": e0, \"B\": B})\n    return eos"
      ]
    },
    {
      "cell_type": "markdown",
      "metadata": {},
      "source": [
        "## Build the workgraph\nThree steps:\n\n- create an empty WorkGraph\n- add tasks: scale_structure, scf and eos.\n- link the output and input sockets for the tasks.\n\n\n\n"
      ]
    },
    {
      "cell_type": "code",
      "execution_count": null,
      "metadata": {
        "collapsed": false
      },
      "outputs": [],
      "source": [
        "from aiida_workgraph import WorkGraph, Map\nfrom aiida_quantumespresso.calculations.pw import PwCalculation\n\n\ndef eos_workgraph(\n    structure: orm.StructureData = None, scales: list = None, scf_inputs: dict = None\n):\n    with WorkGraph(\"eos_tutorial\") as wg:\n        wg.add_task(scale_structure, name=\"scale\", structure=structure, scales=scales)\n        with Map(wg.tasks.scale.outputs.structures) as map_zone:\n            scf_task = map_zone.add_task(\n                PwCalculation, name=f\"scf\", structure=map_zone.item\n            )\n            scf_task.set(scf_inputs)\n        wg.add_task(eos, name=\"eos\", datas=scf_task.outputs.output_parameters)\n        return wg"
      ]
    },
    {
      "cell_type": "markdown",
      "metadata": {},
      "source": [
        "### Prepare inputs and run\nIf you are running in a jupyter notebook, you can visualize the workgraph directly.\n\n\n"
      ]
    },
    {
      "cell_type": "code",
      "execution_count": null,
      "metadata": {
        "collapsed": false
      },
      "outputs": [],
      "source": [
        "from aiida import load_profile\nfrom aiida.common.exceptions import NotExistent\nfrom aiida.orm import (\n    Dict,\n    load_code,\n    load_group,\n    InstalledCode,\n    load_computer,\n)\nfrom ase.build import bulk\n\n#\nload_profile()\n# create pw code\ntry:\n    pw_code = load_code(\n        \"qe-7.2-pw@localhost\"\n    )  # The computer label can also be omitted here\nexcept NotExistent:\n    pw_code = InstalledCode(\n        computer=load_computer(\"localhost\"),\n        filepath_executable=\"pw.x\",\n        label=\"qe-7.2-pw\",\n        default_calc_job_plugin=\"quantumespresso.pw\",\n    ).store()\n#\nsi = orm.StructureData(ase=bulk(\"Si\"))\npw_paras = Dict(\n    {\n        \"CONTROL\": {\n            \"calculation\": \"scf\",\n        },\n        \"SYSTEM\": {\n            \"ecutwfc\": 30,\n            \"ecutrho\": 240,\n            \"occupations\": \"smearing\",\n            \"smearing\": \"gaussian\",\n            \"degauss\": 0.1,\n        },\n    }\n)\n# Load the pseudopotential family.\npseudo_family = load_group(\"SSSP/1.3/PBEsol/efficiency\")\npseudos = pseudo_family.get_pseudos(structure=si)\n#\nmetadata = {\n    \"options\": {\n        \"resources\": {\n            \"num_machines\": 1,\n            \"num_mpiprocs_per_machine\": 1,\n        },\n    }\n}\n#\nkpoints = orm.KpointsData()\nkpoints.set_kpoints_mesh([3, 3, 3])\npseudos = pseudo_family.get_pseudos(structure=si)\nscf_inputs = {\n    \"code\": pw_code,\n    \"parameters\": pw_paras,\n    \"kpoints\": kpoints,\n    \"pseudos\": pseudos,\n    \"metadata\": metadata,\n}\n# -------------------------------------------------------\n# set the input parameters for each task\nwg = eos_workgraph(si, [0.95, 1.0, 1.05], scf_inputs)\nprint(\"Waiting for the workgraph to finish...\")\nwg.submit(wait=True, timeout=300)\n# one can also run the workgraph directly\n# wg.run()\nwg.to_html()\n# visualize the workgraph in jupyter-notebook\n# wg"
      ]
    },
    {
      "cell_type": "markdown",
      "metadata": {},
      "source": [
        "Print out the results:\n\n\n"
      ]
    },
    {
      "cell_type": "code",
      "execution_count": null,
      "metadata": {
        "collapsed": false
      },
      "outputs": [],
      "source": [
        "data = wg.tasks.eos.outputs.result.value.get_dict()\nprint(\"B: {B}\\nv0: {v0}\\ne0: {e0}\\nv0: {v0}\".format(**data))"
      ]
    },
    {
      "cell_type": "markdown",
      "metadata": {},
      "source": [
        "## Use it inside another workgraph\nIn the above example, we call the `eos_workflow` directly to generate the workgraph and submit it. We can also use it as a task inside another workgraph. In this way, we can create a nested workflow.\n\nFor example, we want to combine relax with eos.\n\nWe can use the `graph_builder` decorator. The Graph Builder allow user to create a dynamic workflow based on the input value, as well as nested workflows.\n\n\n"
      ]
    },
    {
      "cell_type": "code",
      "execution_count": null,
      "metadata": {
        "collapsed": false
      },
      "outputs": [],
      "source": [
        "from aiida_workgraph import WorkGraph, task, Map, active_graph\n\n\n@task.graph_builder(outputs=[{\"name\": \"result\"}])\ndef eos_workgraph(\n    structure: orm.StructureData = None, scales: list = None, scf_inputs: dict = None\n):\n    with WorkGraph(\"eos\") as wg:\n        wg.add_task(scale_structure, name=\"scale\", structure=structure, scales=scales)\n        with Map(wg.tasks.scale.outputs.structures) as map_zone:\n            scf_task = map_zone.add_task(\n                PwCalculation, name=f\"scf\", structure=map_zone.item\n            )\n            scf_task.set(scf_inputs)\n        wg.add_task(eos, name=\"eos\", datas=scf_task.outputs.output_parameters)\n        wg.outputs.result = wg.tasks.eos.outputs.result\n        return wg"
      ]
    },
    {
      "cell_type": "markdown",
      "metadata": {},
      "source": [
        "### Use it inside another workgraph\nFor example, we want to combine relax with eos.\n\n\n"
      ]
    },
    {
      "cell_type": "code",
      "execution_count": null,
      "metadata": {
        "collapsed": false
      },
      "outputs": [],
      "source": [
        "from aiida_workgraph import WorkGraph\nfrom copy import deepcopy\nfrom aiida_quantumespresso.calculations.pw import PwCalculation\n\n# -------------------------------------------------------\nrelax_pw_paras = deepcopy(pw_paras)\nrelax_pw_paras[\"CONTROL\"][\"calculation\"] = \"vc-relax\"\nrelax_inputs = {\n    \"structure\": si,\n    \"code\": pw_code,\n    \"parameters\": relax_pw_paras,\n    \"kpoints\": kpoints,\n    \"pseudos\": pseudos,\n    \"metadata\": metadata,\n}\n# -------------------------------------------------------\nwg = WorkGraph(\"relax_eos\")\nwg.add_task(PwCalculation, name=\"relax\")\nwg.tasks.relax.set(relax_inputs)\neos_wg_task = wg.add_task(\n    eos_workgraph,\n    name=\"eos\",\n    structure=wg.tasks.relax.outputs.output_structure,\n    scales=[0.95, 1.0, 1.05],\n    scf_inputs=scf_inputs,\n)\n# -------------------------------------------------------\nprint(\"Waiting for the workgraph to finish...\")\nwg.run()\nprint(\n    \"\\nResult: \\nB: {B}\\nv0: {v0}\\ne0: {e0}\\nv0: {v0}\".format(\n        **wg.tasks.eos.outputs.result.value.get_dict()\n    )\n)\nwg.to_html()\n# visualize the workgraph in jupyter-notebook\n# wg"
      ]
    },
    {
      "cell_type": "markdown",
      "metadata": {},
      "source": [
        "## Summary\nThere are many ways to create the workflow using graph builder. For example, one can add the relax step inside the `eos_workgraph`, and add a `run_relax` argument to control the logic.\n\n"
      ]
    }
  ],
  "metadata": {
    "kernelspec": {
      "display_name": "Python 3",
      "language": "python",
      "name": "python3"
    },
    "language_info": {
      "codemirror_mode": {
        "name": "ipython",
        "version": 3
      },
      "file_extension": ".py",
      "mimetype": "text/x-python",
      "name": "python",
      "nbconvert_exporter": "python",
      "pygments_lexer": "ipython3",
      "version": "3.11.0"
    }
  },
  "nbformat": 4,
  "nbformat_minor": 0
}
