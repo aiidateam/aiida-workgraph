{
 "cells": [
  {
   "cell_type": "markdown",
   "metadata": {},
   "source": [
    "# Equation of state (EOS) WorkGraph\n",
    "\n",
    "To run this tutorial, you need to install aiida-workgraph and set up a AiiDA profile.\n",
    "\n",
    "## Create the calcfunction task\n"
   ]
  },
  {
   "cell_type": "code",
   "execution_count": 7,
   "metadata": {},
   "outputs": [],
   "source": [
    "from aiida import orm\n",
    "from aiida_workgraph import task\n",
    "\n",
    "# explicitly define the output socket name to match the return value of the function\n",
    "@task.calcfunction(outputs=[{\"name\": \"structures\"}])\n",
    "def scale_structure(structure, scales):\n",
    "    \"\"\"Scale the structure by the given scales.\"\"\"\n",
    "    atoms = structure.get_ase()\n",
    "    structures = {}\n",
    "    for i in range(len(scales)):\n",
    "        atoms1 = atoms.copy()\n",
    "        atoms1.set_cell(atoms.cell * scales[i], scale_atoms=True)\n",
    "        structure = orm.StructureData(ase=atoms1)\n",
    "        structures[f\"s_{i}\"] = structure\n",
    "    return {\"structures\": structures}\n",
    "\n",
    "@task.calcfunction()\n",
    "# because this is a calcfunction, and the input datas are dynamic, we need use **datas.\n",
    "def eos(**datas):\n",
    "    \"\"\"Fit the EOS of the data.\"\"\"\n",
    "    from ase.eos import EquationOfState\n",
    "\n",
    "    volumes = []\n",
    "    energies = []\n",
    "    for _, data in datas.items():\n",
    "        volumes.append(data.dict.volume)\n",
    "        energies.append(data.dict.energy)\n",
    "        unit = data.dict.energy_units\n",
    "    #\n",
    "    eos = EquationOfState(volumes, energies)\n",
    "    v0, e0, B = eos.fit()\n",
    "    eos = orm.Dict({\"unit\": unit, \"v0\": v0, \"e0\": e0, \"B\": B})\n",
    "    return eos"
   ]
  },
  {
   "cell_type": "markdown",
   "metadata": {},
   "source": [
    "## Build the workgraph\n",
    "Three steps:\n",
    "\n",
    "- create an empty WorkGraph\n",
    "- add tasks: scale_structure, scf and eos.\n",
    "- link the output and input sockets for the tasks.\n"
   ]
  },
  {
   "cell_type": "code",
   "execution_count": 8,
   "metadata": {},
   "outputs": [],
   "source": [
    "from aiida_workgraph import WorkGraph, map_\n",
    "from aiida_quantumespresso.calculations.pw import PwCalculation\n",
    "\n",
    "def eos_workgraph(structure: orm.StructureData = None,\n",
    "                  scales: list = None,\n",
    "                  scf_inputs: dict = None):\n",
    "    wg = WorkGraph(\"eos\")\n",
    "    wg.add_task(scale_structure, name=\"scale\",\n",
    "                                   structure=structure, scales=scales)\n",
    "    map_(wg.tasks.scale.outputs.structures)(\n",
    "        wg.add_task(PwCalculation, name=f\"scf\", structure=\"{{map_input}}\"),\n",
    "        wg.tasks.scf.set(scf_inputs),\n",
    "    )\n",
    "    wg.add_task(eos, name=\"eos1\", datas=wg.tasks.scf.outputs.output_parameters)\n",
    "    return wg"
   ]
  },
  {
   "cell_type": "markdown",
   "metadata": {},
   "source": [
    "## Prepare inputs and run\n",
    "\n",
    "### Visualize the workgraph\n",
    "If you are running in a jupyter notebook, you can visualize the it directly."
   ]
  },
  {
   "cell_type": "code",
   "execution_count": 10,
   "metadata": {},
   "outputs": [
    {
     "name": "stdout",
     "output_type": "stream",
     "text": [
      "Waiting for the workgraph to finish...\n"
     ]
    },
    {
     "name": "stderr",
     "output_type": "stream",
     "text": [
      "03/08/2025 03:34:08 PM <241352> aiida.orm.nodes.process.workflow.workchain.WorkChainNode: [REPORT] [41864|WorkGraphEngine|continue_workgraph]: Continue workgraph.\n",
      "03/08/2025 03:34:08 PM <241352> aiida.orm.nodes.process.workflow.workchain.WorkChainNode: [REPORT] [41864|WorkGraphEngine|continue_workgraph]: tasks ready to run: scale\n",
      "03/08/2025 03:34:08 PM <241352> aiida.orm.nodes.process.workflow.workchain.WorkChainNode: [REPORT] [41864|WorkGraphEngine|run_tasks]: Run task: scale, type: CALCFUNCTION\n"
     ]
    },
    {
     "name": "stdout",
     "output_type": "stream",
     "text": [
      "------------------------------------------------------------\n",
      "kwargs:  {'scales': [0.95, 1.0, 1.05], 'structure': <StructureData: uuid: 218c37ab-2600-4fc4-85d2-180490e6b5fb (pk: 41861)>}\n"
     ]
    },
    {
     "name": "stderr",
     "output_type": "stream",
     "text": [
      "03/08/2025 03:34:09 PM <241352> aiida.orm.nodes.process.workflow.workchain.WorkChainNode: [REPORT] [41864|WorkGraphEngine|update_task_state]: Task: scale finished.\n",
      "03/08/2025 03:34:10 PM <241352> aiida.orm.nodes.process.workflow.workchain.WorkChainNode: [REPORT] [41864|WorkGraphEngine|continue_workgraph]: Continue workgraph.\n",
      "03/08/2025 03:34:10 PM <241352> aiida.orm.nodes.process.workflow.workchain.WorkChainNode: [REPORT] [41864|WorkGraphEngine|continue_workgraph]: tasks ready to run: map_1\n",
      "03/08/2025 03:34:10 PM <241352> aiida.orm.nodes.process.workflow.workchain.WorkChainNode: [REPORT] [41864|WorkGraphEngine|run_tasks]: Run task: map_1, type: MAP\n"
     ]
    },
    {
     "name": "stdout",
     "output_type": "stream",
     "text": [
      "------------------------------------------------------------\n",
      "kwargs:  {'placeholder': 'map_input', 'source': AttributeDict({'s_0': <StructureData: uuid: b9bdc45d-f9fe-4de6-81ff-7a925906403f (pk: 41867)>, 's_1': <StructureData: uuid: 6d2fd41d-cb78-4031-8422-3ffba7b945b6 (pk: 41868)>, 's_2': <StructureData: uuid: 7b1349fb-5f03-4b2f-8564-ec49043a3cbb (pk: 41869)>})}\n"
     ]
    },
    {
     "name": "stderr",
     "output_type": "stream",
     "text": [
      "03/08/2025 03:34:10 PM <241352> aiida.orm.nodes.process.workflow.workchain.WorkChainNode: [REPORT] [41864|WorkGraphEngine|continue_workgraph]: Continue workgraph.\n",
      "03/08/2025 03:34:10 PM <241352> aiida.orm.nodes.process.workflow.workchain.WorkChainNode: [REPORT] [41864|WorkGraphEngine|continue_workgraph]: tasks ready to run: s_0_scf,s_1_scf,s_2_scf\n",
      "03/08/2025 03:34:10 PM <241352> aiida.orm.nodes.process.workflow.workchain.WorkChainNode: [REPORT] [41864|WorkGraphEngine|run_tasks]: Run task: s_0_scf, type: CALCJOB\n"
     ]
    },
    {
     "name": "stdout",
     "output_type": "stream",
     "text": [
      "------------------------------------------------------------\n",
      "kwargs:  {'code': <InstalledCode: Remote code 'qe-7.2-pw' on localhost pk: 390, uuid: a0f700b9-418b-4eb4-ae0a-23dab2453ec3>, 'kpoints': <KpointsData: uuid: 885966b4-bb18-4f16-8dc7-b0fd73aeedbd (pk: 41863)>, 'metadata': {'options': {'resources': {'num_machines': 1, 'num_mpiprocs_per_machine': 1}}}, 'parameters': <Dict: uuid: 050fe49e-8197-47da-be0e-419d7370ab5b (pk: 41862)>, 'pseudos': {'Si': <UpfData: uuid: 0c29f605-15c0-4dd1-a8f7-9331cbf03644 (pk: 558)>}, 'structure': <StructureData: uuid: b9bdc45d-f9fe-4de6-81ff-7a925906403f (pk: 41867)>}\n"
     ]
    },
    {
     "name": "stderr",
     "output_type": "stream",
     "text": [
      "03/08/2025 03:34:13 PM <241352> aiida.orm.nodes.process.workflow.workchain.WorkChainNode: [REPORT] [41864|WorkGraphEngine|run_tasks]: Run task: s_1_scf, type: CALCJOB\n"
     ]
    },
    {
     "name": "stdout",
     "output_type": "stream",
     "text": [
      "------------------------------------------------------------\n",
      "kwargs:  {'code': <InstalledCode: Remote code 'qe-7.2-pw' on localhost pk: 390, uuid: a0f700b9-418b-4eb4-ae0a-23dab2453ec3>, 'kpoints': <KpointsData: uuid: 885966b4-bb18-4f16-8dc7-b0fd73aeedbd (pk: 41863)>, 'metadata': {'options': {'resources': {'num_machines': 1, 'num_mpiprocs_per_machine': 1}}}, 'parameters': <Dict: uuid: 050fe49e-8197-47da-be0e-419d7370ab5b (pk: 41862)>, 'pseudos': {'Si': <UpfData: uuid: 0c29f605-15c0-4dd1-a8f7-9331cbf03644 (pk: 558)>}, 'structure': <StructureData: uuid: 6d2fd41d-cb78-4031-8422-3ffba7b945b6 (pk: 41868)>}\n"
     ]
    },
    {
     "name": "stderr",
     "output_type": "stream",
     "text": [
      "03/08/2025 03:34:15 PM <241352> aiida.orm.nodes.process.workflow.workchain.WorkChainNode: [REPORT] [41864|WorkGraphEngine|run_tasks]: Run task: s_2_scf, type: CALCJOB\n"
     ]
    },
    {
     "name": "stdout",
     "output_type": "stream",
     "text": [
      "------------------------------------------------------------\n",
      "kwargs:  {'code': <InstalledCode: Remote code 'qe-7.2-pw' on localhost pk: 390, uuid: a0f700b9-418b-4eb4-ae0a-23dab2453ec3>, 'kpoints': <KpointsData: uuid: 885966b4-bb18-4f16-8dc7-b0fd73aeedbd (pk: 41863)>, 'metadata': {'options': {'resources': {'num_machines': 1, 'num_mpiprocs_per_machine': 1}}}, 'parameters': <Dict: uuid: 050fe49e-8197-47da-be0e-419d7370ab5b (pk: 41862)>, 'pseudos': {'Si': <UpfData: uuid: 0c29f605-15c0-4dd1-a8f7-9331cbf03644 (pk: 558)>}, 'structure': <StructureData: uuid: 7b1349fb-5f03-4b2f-8564-ec49043a3cbb (pk: 41869)>}\n"
     ]
    },
    {
     "name": "stderr",
     "output_type": "stream",
     "text": [
      "03/08/2025 03:34:18 PM <241352> aiida.orm.nodes.process.workflow.workchain.WorkChainNode: [REPORT] [41864|WorkGraphEngine|on_wait]: Process status: Waiting for child processes: 41870, 41876, 41882\n",
      "03/08/2025 03:34:19 PM <241352> aiida.orm.nodes.process.workflow.workchain.WorkChainNode: [REPORT] [41864|WorkGraphEngine|update_task_state]: Task: s_0_scf finished.\n",
      "03/08/2025 03:34:19 PM <241352> aiida.orm.nodes.process.workflow.workchain.WorkChainNode: [REPORT] [41864|WorkGraphEngine|update_task_state]: Task: s_1_scf finished.\n",
      "03/08/2025 03:34:20 PM <241352> aiida.orm.nodes.process.workflow.workchain.WorkChainNode: [REPORT] [41864|WorkGraphEngine|update_task_state]: Task: s_2_scf finished.\n",
      "03/08/2025 03:34:21 PM <241352> aiida.orm.nodes.process.workflow.workchain.WorkChainNode: [REPORT] [41864|WorkGraphEngine|update_template_task_state]: Task: scf finished.\n",
      "03/08/2025 03:34:21 PM <241352> aiida.orm.nodes.process.workflow.workchain.WorkChainNode: [REPORT] [41864|WorkGraphEngine|update_zone_task_state]: Task: map_1 finished.\n",
      "03/08/2025 03:34:22 PM <241352> aiida.orm.nodes.process.workflow.workchain.WorkChainNode: [REPORT] [41864|WorkGraphEngine|continue_workgraph]: Continue workgraph.\n",
      "03/08/2025 03:34:22 PM <241352> aiida.orm.nodes.process.workflow.workchain.WorkChainNode: [REPORT] [41864|WorkGraphEngine|continue_workgraph]: tasks ready to run: eos1\n",
      "03/08/2025 03:34:22 PM <241352> aiida.orm.nodes.process.workflow.workchain.WorkChainNode: [REPORT] [41864|WorkGraphEngine|run_tasks]: Run task: eos1, type: CALCFUNCTION\n"
     ]
    },
    {
     "name": "stdout",
     "output_type": "stream",
     "text": [
      "------------------------------------------------------------\n",
      "kwargs:  {}\n"
     ]
    },
    {
     "name": "stderr",
     "output_type": "stream",
     "text": [
      "03/08/2025 03:34:23 PM <241352> aiida.orm.nodes.process.workflow.workchain.WorkChainNode: [REPORT] [41864|WorkGraphEngine|update_task_state]: Task: eos1 finished.\n",
      "03/08/2025 03:34:23 PM <241352> aiida.orm.nodes.process.workflow.workchain.WorkChainNode: [REPORT] [41864|WorkGraphEngine|continue_workgraph]: Continue workgraph.\n",
      "03/08/2025 03:34:23 PM <241352> aiida.orm.nodes.process.workflow.workchain.WorkChainNode: [REPORT] [41864|WorkGraphEngine|continue_workgraph]: tasks ready to run: \n",
      "03/08/2025 03:34:23 PM <241352> aiida.orm.nodes.process.workflow.workchain.WorkChainNode: [REPORT] [41864|WorkGraphEngine|finalize]: Finalize workgraph.\n"
     ]
    },
    {
     "data": {
      "text/plain": [
       "{'execution_count': <Int: uuid: 8c37dec9-488f-4533-a11b-3c08fcba8e3a (pk: 41890) value: 1>}"
      ]
     },
     "execution_count": 10,
     "metadata": {},
     "output_type": "execute_result"
    }
   ],
   "source": [
    "from aiida import load_profile\n",
    "from aiida.orm import Dict, load_code, load_group\n",
    "from ase.build import bulk\n",
    "\n",
    "load_profile()\n",
    "\n",
    "si = orm.StructureData(ase=bulk(\"Si\"))\n",
    "code = load_code(\"qe-7.2-pw@localhost\")\n",
    "pw_paras = Dict({\n",
    "        \"CONTROL\": {\n",
    "            \"calculation\": \"scf\",\n",
    "        },\n",
    "        \"SYSTEM\": {\n",
    "            \"ecutwfc\": 30,\n",
    "            \"ecutrho\": 240,\n",
    "            \"occupations\": \"smearing\",\n",
    "            \"smearing\": \"gaussian\",\n",
    "            \"degauss\": 0.1,\n",
    "        },\n",
    "    })\n",
    "# Load the pseudopotential family.\n",
    "pseudo_family = load_group('SSSP/1.3/PBEsol/efficiency')\n",
    "pseudos = pseudo_family.get_pseudos(structure=si)\n",
    "#\n",
    "metadata = {'options': {\n",
    "                'resources': {\n",
    "                'num_machines': 1,\n",
    "                'num_mpiprocs_per_machine': 1,\n",
    "            },\n",
    "        }\n",
    "    }\n",
    "\n",
    "kpoints = orm.KpointsData()\n",
    "kpoints.set_kpoints_mesh([3, 3, 3])\n",
    "pseudos = pseudo_family.get_pseudos(structure=si)\n",
    "scf_inputs = {\"code\": code,\n",
    "        \"parameters\": pw_paras,\n",
    "        \"kpoints\": kpoints,\n",
    "        \"pseudos\": pseudos,\n",
    "        \"metadata\": metadata\n",
    "        }\n",
    "#-------------------------------------------------------\n",
    "# set the input parameters for each task\n",
    "wg = eos_workgraph(si, [0.95, 1.0, 1.05], scf_inputs)\n",
    "print(\"Waiting for the workgraph to finish...\")\n",
    "# wg.submit(wait=True, timeout=300)\n",
    "# one can also run the workgraph directly\n",
    "wg.run()\n",
    "wg.to_html()\n",
    "# visualize the workgraph in jupyter-notebook\n",
    "# wg\n"
   ]
  },
  {
   "cell_type": "markdown",
   "metadata": {},
   "source": [
    "Print out the results:"
   ]
  },
  {
   "cell_type": "code",
   "execution_count": 11,
   "metadata": {},
   "outputs": [
    {
     "name": "stdout",
     "output_type": "stream",
     "text": [
      "B: 0.53596259211164\n",
      "v0: 41.134100879971\n",
      "e0: -308.19240692174\n",
      "v0: 41.134100879971\n"
     ]
    }
   ],
   "source": [
    "data = wg.tasks[\"eos1\"].outputs[\"result\"].value.get_dict()\n",
    "print('B: {B}\\nv0: {v0}\\ne0: {e0}\\nv0: {v0}'.format(**data))"
   ]
  },
  {
   "cell_type": "markdown",
   "metadata": {},
   "source": [
    "### Use it inside another workgraph\n",
    "In the above example, we call the `eos_workflow` directly to generate the workgraph and submit it. We can also use it as a task inside another workgraph. In this way, we can create a nested workflow.\n",
    "\n",
    "For example, we want to combine relax with eos.\n",
    "\n",
    "We can use the `graph_builder` decorator. The Graph Builder allow user to create a dynamic workflow based on the input value, as well as nested workflows."
   ]
  },
  {
   "cell_type": "code",
   "execution_count": 12,
   "metadata": {},
   "outputs": [],
   "source": [
    "from aiida_workgraph import WorkGraph, task\n",
    "\n",
    "@task.graph_builder(outputs=[{\"name\": \"result\", \"from\": \"eos.result\"}])\n",
    "def eos_workgraph(structure: orm.StructureData = None,\n",
    "                  scales: list = None,\n",
    "                  scf_inputs: dict = None):\n",
    "    wg = WorkGraph(\"eos\")\n",
    "    wg.add_task(scale_structure, name=\"scale\",\n",
    "                                   structure=structure, scales=scales)\n",
    "    map_(wg.tasks.scale.outputs.structures)(\n",
    "        wg.add_task(PwCalculation, name=f\"scf\", structure=\"{{map_input}}\"),\n",
    "        wg.tasks.scf.set(scf_inputs),\n",
    "    )\n",
    "    wg.add_task(eos, name=\"eos\", datas=wg.tasks.scf.outputs.output_parameters)\n",
    "    return wg"
   ]
  },
  {
   "cell_type": "code",
   "execution_count": 13,
   "metadata": {},
   "outputs": [
    {
     "name": "stdout",
     "output_type": "stream",
     "text": [
      "Waiting for the workgraph to finish...\n"
     ]
    },
    {
     "name": "stderr",
     "output_type": "stream",
     "text": [
      "03/08/2025 03:38:41 PM <241352> aiida.orm.nodes.process.workflow.workchain.WorkChainNode: [REPORT] [41892|WorkGraphEngine|continue_workgraph]: Continue workgraph.\n",
      "03/08/2025 03:38:41 PM <241352> aiida.orm.nodes.process.workflow.workchain.WorkChainNode: [REPORT] [41892|WorkGraphEngine|continue_workgraph]: tasks ready to run: relax\n",
      "03/08/2025 03:38:41 PM <241352> aiida.orm.nodes.process.workflow.workchain.WorkChainNode: [REPORT] [41892|WorkGraphEngine|run_tasks]: Run task: relax, type: CALCJOB\n"
     ]
    },
    {
     "name": "stdout",
     "output_type": "stream",
     "text": [
      "------------------------------------------------------------\n",
      "kwargs:  {'code': <InstalledCode: Remote code 'qe-7.2-pw' on localhost pk: 390, uuid: a0f700b9-418b-4eb4-ae0a-23dab2453ec3>, 'kpoints': <KpointsData: uuid: 885966b4-bb18-4f16-8dc7-b0fd73aeedbd (pk: 41863)>, 'metadata': {'options': {'resources': {'num_machines': 1, 'num_mpiprocs_per_machine': 1}}}, 'parameters': <Dict: uuid: 212b207d-51fa-4cd5-9a3c-60a034a9ece6 (pk: 41891)>, 'pseudos': {'Si': <UpfData: uuid: 0c29f605-15c0-4dd1-a8f7-9331cbf03644 (pk: 558)>}, 'structure': <StructureData: uuid: 218c37ab-2600-4fc4-85d2-180490e6b5fb (pk: 41861)>}\n"
     ]
    },
    {
     "name": "stderr",
     "output_type": "stream",
     "text": [
      "03/08/2025 03:38:43 PM <241352> aiida.orm.nodes.process.workflow.workchain.WorkChainNode: [REPORT] [41892|WorkGraphEngine|on_wait]: Process status: Waiting for child processes: 41893\n",
      "03/08/2025 03:39:20 PM <241352> aiida.orm.nodes.process.workflow.workchain.WorkChainNode: [REPORT] [41892|WorkGraphEngine|update_task_state]: Task: relax finished.\n",
      "03/08/2025 03:39:21 PM <241352> aiida.orm.nodes.process.workflow.workchain.WorkChainNode: [REPORT] [41892|WorkGraphEngine|continue_workgraph]: Continue workgraph.\n",
      "03/08/2025 03:39:21 PM <241352> aiida.orm.nodes.process.workflow.workchain.WorkChainNode: [REPORT] [41892|WorkGraphEngine|continue_workgraph]: tasks ready to run: eos1\n",
      "03/08/2025 03:39:21 PM <241352> aiida.orm.nodes.process.workflow.workchain.WorkChainNode: [REPORT] [41892|WorkGraphEngine|run_tasks]: Run task: eos1, type: graph_builder\n"
     ]
    },
    {
     "name": "stdout",
     "output_type": "stream",
     "text": [
      "------------------------------------------------------------\n",
      "kwargs:  {'scales': [0.95, 1.0, 1.05], 'scf_inputs': {'code': <InstalledCode: Remote code 'qe-7.2-pw' on localhost pk: 390, uuid: a0f700b9-418b-4eb4-ae0a-23dab2453ec3>, 'kpoints': <KpointsData: uuid: 885966b4-bb18-4f16-8dc7-b0fd73aeedbd (pk: 41863)>, 'metadata': {'options': {'resources': {'num_machines': 1, 'num_mpiprocs_per_machine': 1}}}, 'parameters': <Dict: uuid: 050fe49e-8197-47da-be0e-419d7370ab5b (pk: 41862)>, 'pseudos': {'Si': <UpfData: uuid: 0c29f605-15c0-4dd1-a8f7-9331cbf03644 (pk: 558)>}}, 'structure': <StructureData: uuid: c73a2ca7-2545-4e4a-8414-3f3e677ae0f4 (pk: 41898)>}\n"
     ]
    },
    {
     "name": "stderr",
     "output_type": "stream",
     "text": [
      "03/08/2025 03:39:24 PM <241352> aiida.orm.nodes.process.workflow.workchain.WorkChainNode: [REPORT] [41892|WorkGraphEngine|on_wait]: Process status: Waiting for child processes: 41900\n",
      "03/08/2025 03:39:25 PM <241352> aiida.orm.nodes.process.workflow.workchain.WorkChainNode: [REPORT] [41900|WorkGraphEngine|continue_workgraph]: Continue workgraph.\n",
      "03/08/2025 03:39:25 PM <241352> aiida.orm.nodes.process.workflow.workchain.WorkChainNode: [REPORT] [41900|WorkGraphEngine|continue_workgraph]: tasks ready to run: scale\n",
      "03/08/2025 03:39:25 PM <241352> aiida.orm.nodes.process.workflow.workchain.WorkChainNode: [REPORT] [41900|WorkGraphEngine|run_tasks]: Run task: scale, type: CALCFUNCTION\n"
     ]
    },
    {
     "name": "stdout",
     "output_type": "stream",
     "text": [
      "------------------------------------------------------------\n",
      "kwargs:  {'scales': [0.95, 1.0, 1.05], 'structure': <StructureData: uuid: c73a2ca7-2545-4e4a-8414-3f3e677ae0f4 (pk: 41898)>}\n"
     ]
    },
    {
     "name": "stderr",
     "output_type": "stream",
     "text": [
      "03/08/2025 03:39:26 PM <241352> aiida.orm.nodes.process.workflow.workchain.WorkChainNode: [REPORT] [41900|WorkGraphEngine|update_task_state]: Task: scale finished.\n",
      "03/08/2025 03:39:26 PM <241352> aiida.orm.nodes.process.workflow.workchain.WorkChainNode: [REPORT] [41900|WorkGraphEngine|continue_workgraph]: Continue workgraph.\n",
      "03/08/2025 03:39:27 PM <241352> aiida.orm.nodes.process.workflow.workchain.WorkChainNode: [REPORT] [41900|WorkGraphEngine|continue_workgraph]: tasks ready to run: map_1\n",
      "03/08/2025 03:39:27 PM <241352> aiida.orm.nodes.process.workflow.workchain.WorkChainNode: [REPORT] [41900|WorkGraphEngine|run_tasks]: Run task: map_1, type: MAP\n"
     ]
    },
    {
     "name": "stdout",
     "output_type": "stream",
     "text": [
      "------------------------------------------------------------\n",
      "kwargs:  {'placeholder': 'map_input', 'source': AttributeDict({'s_0': <StructureData: uuid: 06f120b6-36c0-4d6a-9c4e-023fb90808e5 (pk: 41903)>, 's_1': <StructureData: uuid: 43125bad-d8dc-4071-8d11-a3329cd2debb (pk: 41904)>, 's_2': <StructureData: uuid: b4435465-85e7-4b63-b9be-2d5ba3f66e94 (pk: 41905)>})}\n"
     ]
    },
    {
     "name": "stderr",
     "output_type": "stream",
     "text": [
      "03/08/2025 03:39:27 PM <241352> aiida.orm.nodes.process.workflow.workchain.WorkChainNode: [REPORT] [41900|WorkGraphEngine|continue_workgraph]: Continue workgraph.\n",
      "03/08/2025 03:39:27 PM <241352> aiida.orm.nodes.process.workflow.workchain.WorkChainNode: [REPORT] [41900|WorkGraphEngine|continue_workgraph]: tasks ready to run: s_0_scf,s_1_scf,s_2_scf\n",
      "03/08/2025 03:39:27 PM <241352> aiida.orm.nodes.process.workflow.workchain.WorkChainNode: [REPORT] [41900|WorkGraphEngine|run_tasks]: Run task: s_0_scf, type: CALCJOB\n"
     ]
    },
    {
     "name": "stdout",
     "output_type": "stream",
     "text": [
      "------------------------------------------------------------\n",
      "kwargs:  {'code': <InstalledCode: Remote code 'qe-7.2-pw' on localhost pk: 390, uuid: a0f700b9-418b-4eb4-ae0a-23dab2453ec3>, 'kpoints': <KpointsData: uuid: 885966b4-bb18-4f16-8dc7-b0fd73aeedbd (pk: 41863)>, 'metadata': {'options': {'resources': {'num_machines': 1, 'num_mpiprocs_per_machine': 1}}}, 'parameters': <Dict: uuid: 050fe49e-8197-47da-be0e-419d7370ab5b (pk: 41862)>, 'pseudos': {'Si': <UpfData: uuid: 0c29f605-15c0-4dd1-a8f7-9331cbf03644 (pk: 558)>}, 'structure': <StructureData: uuid: 06f120b6-36c0-4d6a-9c4e-023fb90808e5 (pk: 41903)>}\n"
     ]
    },
    {
     "name": "stderr",
     "output_type": "stream",
     "text": [
      "03/08/2025 03:39:28 PM <241352> aiida.orm.nodes.process.workflow.workchain.WorkChainNode: [REPORT] [41900|WorkGraphEngine|run_tasks]: Run task: s_1_scf, type: CALCJOB\n"
     ]
    },
    {
     "name": "stdout",
     "output_type": "stream",
     "text": [
      "------------------------------------------------------------\n",
      "kwargs:  {'code': <InstalledCode: Remote code 'qe-7.2-pw' on localhost pk: 390, uuid: a0f700b9-418b-4eb4-ae0a-23dab2453ec3>, 'kpoints': <KpointsData: uuid: 885966b4-bb18-4f16-8dc7-b0fd73aeedbd (pk: 41863)>, 'metadata': {'options': {'resources': {'num_machines': 1, 'num_mpiprocs_per_machine': 1}}}, 'parameters': <Dict: uuid: 050fe49e-8197-47da-be0e-419d7370ab5b (pk: 41862)>, 'pseudos': {'Si': <UpfData: uuid: 0c29f605-15c0-4dd1-a8f7-9331cbf03644 (pk: 558)>}, 'structure': <StructureData: uuid: 43125bad-d8dc-4071-8d11-a3329cd2debb (pk: 41904)>}\n"
     ]
    },
    {
     "name": "stderr",
     "output_type": "stream",
     "text": [
      "03/08/2025 03:39:29 PM <241352> aiida.orm.nodes.process.workflow.workchain.WorkChainNode: [REPORT] [41900|WorkGraphEngine|run_tasks]: Run task: s_2_scf, type: CALCJOB\n"
     ]
    },
    {
     "name": "stdout",
     "output_type": "stream",
     "text": [
      "------------------------------------------------------------\n",
      "kwargs:  {'code': <InstalledCode: Remote code 'qe-7.2-pw' on localhost pk: 390, uuid: a0f700b9-418b-4eb4-ae0a-23dab2453ec3>, 'kpoints': <KpointsData: uuid: 885966b4-bb18-4f16-8dc7-b0fd73aeedbd (pk: 41863)>, 'metadata': {'options': {'resources': {'num_machines': 1, 'num_mpiprocs_per_machine': 1}}}, 'parameters': <Dict: uuid: 050fe49e-8197-47da-be0e-419d7370ab5b (pk: 41862)>, 'pseudos': {'Si': <UpfData: uuid: 0c29f605-15c0-4dd1-a8f7-9331cbf03644 (pk: 558)>}, 'structure': <StructureData: uuid: b4435465-85e7-4b63-b9be-2d5ba3f66e94 (pk: 41905)>}\n"
     ]
    },
    {
     "name": "stderr",
     "output_type": "stream",
     "text": [
      "03/08/2025 03:39:31 PM <241352> aiida.orm.nodes.process.workflow.workchain.WorkChainNode: [REPORT] [41900|WorkGraphEngine|on_wait]: Process status: Waiting for child processes: 41906, 41907, 41908\n",
      "03/08/2025 03:39:45 PM <241352> aiida.orm.nodes.process.workflow.workchain.WorkChainNode: [REPORT] [41900|WorkGraphEngine|update_task_state]: Task: s_0_scf finished.\n",
      "03/08/2025 03:39:46 PM <241352> aiida.orm.nodes.process.workflow.workchain.WorkChainNode: [REPORT] [41900|WorkGraphEngine|continue_workgraph]: Continue workgraph.\n",
      "03/08/2025 03:39:46 PM <241352> aiida.orm.nodes.process.workflow.workchain.WorkChainNode: [REPORT] [41900|WorkGraphEngine|continue_workgraph]: tasks ready to run: \n",
      "03/08/2025 03:39:46 PM <241352> aiida.orm.nodes.process.workflow.workchain.WorkChainNode: [REPORT] [41900|WorkGraphEngine|on_wait]: Process status: Waiting for child processes: 41907, 41908\n",
      "03/08/2025 03:39:51 PM <241352> aiida.orm.nodes.process.workflow.workchain.WorkChainNode: [REPORT] [41900|WorkGraphEngine|update_task_state]: Task: s_1_scf finished.\n",
      "03/08/2025 03:39:52 PM <241352> aiida.orm.nodes.process.workflow.workchain.WorkChainNode: [REPORT] [41900|WorkGraphEngine|update_task_state]: Task: s_2_scf finished.\n",
      "03/08/2025 03:39:53 PM <241352> aiida.orm.nodes.process.workflow.workchain.WorkChainNode: [REPORT] [41900|WorkGraphEngine|update_template_task_state]: Task: scf finished.\n",
      "03/08/2025 03:39:53 PM <241352> aiida.orm.nodes.process.workflow.workchain.WorkChainNode: [REPORT] [41900|WorkGraphEngine|update_zone_task_state]: Task: map_1 finished.\n",
      "03/08/2025 03:39:54 PM <241352> aiida.orm.nodes.process.workflow.workchain.WorkChainNode: [REPORT] [41900|WorkGraphEngine|continue_workgraph]: Continue workgraph.\n",
      "03/08/2025 03:39:54 PM <241352> aiida.orm.nodes.process.workflow.workchain.WorkChainNode: [REPORT] [41900|WorkGraphEngine|continue_workgraph]: tasks ready to run: eos\n",
      "03/08/2025 03:39:54 PM <241352> aiida.orm.nodes.process.workflow.workchain.WorkChainNode: [REPORT] [41900|WorkGraphEngine|run_tasks]: Run task: eos, type: CALCFUNCTION\n"
     ]
    },
    {
     "name": "stdout",
     "output_type": "stream",
     "text": [
      "------------------------------------------------------------\n",
      "kwargs:  {}\n"
     ]
    },
    {
     "name": "stderr",
     "output_type": "stream",
     "text": [
      "/home/xing/apps/miniforge3/envs/aiida/lib/python3.11/site-packages/ase/eos.py:307: RankWarning: Polyfit may be poorly conditioned\n",
      "  fit0 = np.poly1d(np.polyfit(self.v**-(1 / 3), self.e, 3))\n",
      "03/08/2025 03:39:55 PM <241352> aiida.orm.nodes.process.workflow.workchain.WorkChainNode: [REPORT] [41900|WorkGraphEngine|update_task_state]: Task: eos finished.\n",
      "03/08/2025 03:39:55 PM <241352> aiida.orm.nodes.process.workflow.workchain.WorkChainNode: [REPORT] [41900|WorkGraphEngine|continue_workgraph]: Continue workgraph.\n",
      "03/08/2025 03:39:55 PM <241352> aiida.orm.nodes.process.workflow.workchain.WorkChainNode: [REPORT] [41900|WorkGraphEngine|continue_workgraph]: tasks ready to run: \n",
      "03/08/2025 03:39:55 PM <241352> aiida.orm.nodes.process.workflow.workchain.WorkChainNode: [REPORT] [41900|WorkGraphEngine|finalize]: Finalize workgraph.\n",
      "03/08/2025 03:39:56 PM <241352> aiida.orm.nodes.process.workflow.workchain.WorkChainNode: [REPORT] [41892|WorkGraphEngine|update_task_state]: Task: eos1 finished.\n",
      "03/08/2025 03:39:56 PM <241352> aiida.orm.nodes.process.workflow.workchain.WorkChainNode: [REPORT] [41892|WorkGraphEngine|continue_workgraph]: Continue workgraph.\n",
      "03/08/2025 03:39:56 PM <241352> aiida.orm.nodes.process.workflow.workchain.WorkChainNode: [REPORT] [41892|WorkGraphEngine|continue_workgraph]: tasks ready to run: \n",
      "03/08/2025 03:39:56 PM <241352> aiida.orm.nodes.process.workflow.workchain.WorkChainNode: [REPORT] [41892|WorkGraphEngine|finalize]: Finalize workgraph.\n"
     ]
    },
    {
     "name": "stdout",
     "output_type": "stream",
     "text": [
      "\n",
      "Result: \n",
      "B: 0.51887865638682\n",
      "v0: 41.16774289795\n",
      "e0: -308.19005654624\n",
      "v0: 41.16774289795\n"
     ]
    },
    {
     "data": {
      "text/html": [
       "\n",
       "        <iframe\n",
       "            width=\"100%\"\n",
       "            height=\"600px\"\n",
       "            src=\"html/relax_eos.html\"\n",
       "            frameborder=\"0\"\n",
       "            allowfullscreen\n",
       "            \n",
       "        ></iframe>\n",
       "        "
      ],
      "text/plain": [
       "<IPython.lib.display.IFrame at 0x7f1eb3199990>"
      ]
     },
     "execution_count": 13,
     "metadata": {},
     "output_type": "execute_result"
    }
   ],
   "source": [
    "from aiida_workgraph import WorkGraph\n",
    "from copy import deepcopy\n",
    "from aiida_quantumespresso.calculations.pw import PwCalculation\n",
    "\n",
    "#-------------------------------------------------------\n",
    "relax_pw_paras = deepcopy(pw_paras)\n",
    "relax_pw_paras[\"CONTROL\"][\"calculation\"] = \"vc-relax\"\n",
    "relax_inputs = {\n",
    "        \"structure\": si,\n",
    "        \"code\": code,\n",
    "        \"parameters\": relax_pw_paras,\n",
    "        \"kpoints\": kpoints,\n",
    "        \"pseudos\": pseudos,\n",
    "        \"metadata\": metadata\n",
    "        }\n",
    "#-------------------------------------------------------\n",
    "wg = WorkGraph(\"relax_eos\")\n",
    "wg.add_task(PwCalculation, name=\"relax\")\n",
    "wg.tasks.relax.set(relax_inputs)\n",
    "eos_wg_task = wg.add_task(eos_workgraph, name=\"eos1\",\n",
    "                          structure=wg.tasks.relax.outputs.output_structure,\n",
    "                          scales=[0.95, 1.0, 1.05],\n",
    "                          scf_inputs=scf_inputs)\n",
    "#-------------------------------------------------------\n",
    "print(\"Waiting for the workgraph to finish...\")\n",
    "wg.run()\n",
    "print('\\nResult: \\nB: {B}\\nv0: {v0}\\ne0: {e0}\\nv0: {v0}'.format(**wg.tasks[\"eos1\"].outputs[\"result\"].value.get_dict()))\n",
    "wg.to_html()\n",
    "# visualize the workgraph in jupyter-notebook\n",
    "# wg"
   ]
  },
  {
   "cell_type": "markdown",
   "metadata": {},
   "source": [
    "## Summary\n",
    "There are many ways to create the workflow using graph builder. For example, one can add the relax step inside the `eos_workgraph`, and add a `run_relax` argument to control the logic."
   ]
  }
 ],
 "metadata": {
  "kernelspec": {
   "display_name": "aiida",
   "language": "python",
   "name": "python3"
  },
  "language_info": {
   "codemirror_mode": {
    "name": "ipython",
    "version": 3
   },
   "file_extension": ".py",
   "mimetype": "text/x-python",
   "name": "python",
   "nbconvert_exporter": "python",
   "pygments_lexer": "ipython3",
   "version": "3.11.0"
  }
 },
 "nbformat": 4,
 "nbformat_minor": 2
}
