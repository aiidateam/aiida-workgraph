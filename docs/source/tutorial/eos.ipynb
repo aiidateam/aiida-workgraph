{
 "cells": [
  {
   "cell_type": "markdown",
   "metadata": {},
   "source": [
    "# Equation of state (EOS) WorkGraph\n",
    "\n",
    "To run this tutorial, you need to install aiida-workgraph and restart the daemon. Open a terminal and run:\n",
    "```console\n",
    "pip install aiida-workgraph\n",
    "verdi daemon restart\n",
    "```\n",
    "\n",
    "## Create the calcfunction task"
   ]
  },
  {
   "cell_type": "code",
   "execution_count": 1,
   "metadata": {},
   "outputs": [],
   "source": [
    "from aiida import orm\n",
    "from aiida_workgraph import task\n",
    "\n",
    "# explicitly define the output socket name to match the return value of the function\n",
    "@task.calcfunction(outputs=[{\"name\": \"structures\"}])\n",
    "def scale_structure(structure, scales):\n",
    "    \"\"\"Scale the structure by the given scales.\"\"\"\n",
    "    atoms = structure.get_ase()\n",
    "    structures = {}\n",
    "    for i in range(len(scales)):\n",
    "        atoms1 = atoms.copy()\n",
    "        atoms1.set_cell(atoms.cell * scales[i], scale_atoms=True)\n",
    "        structure = orm.StructureData(ase=atoms1)\n",
    "        structures[f\"s_{i}\"] = structure\n",
    "    return {\"structures\": structures}\n",
    "\n",
    "# Output result from context to the output socket\n",
    "@task.graph_builder(outputs=[{\"name\": \"result\", \"from\": \"context.result\"}])\n",
    "def all_scf(structures, scf_inputs):\n",
    "    \"\"\"Run the scf calculation for each structure.\"\"\"\n",
    "    from aiida_workgraph import WorkGraph\n",
    "    from aiida_quantumespresso.calculations.pw import PwCalculation\n",
    "    wg = WorkGraph()\n",
    "    for key, structure in structures.items():\n",
    "        pw1 = wg.add_task(PwCalculation, name=f\"pw1_{key}\", structure=structure)\n",
    "        pw1.set(scf_inputs)\n",
    "        # save the output parameters to the context\n",
    "        pw1.set_context({\"output_parameters\": f\"result.{key}\"})\n",
    "    return wg\n",
    "\n",
    "\n",
    "@task.calcfunction()\n",
    "# because this is a calcfunction, and the input datas are dynamic, we need use **datas.\n",
    "def eos(**datas):\n",
    "    \"\"\"Fit the EOS of the data.\"\"\"\n",
    "    from ase.eos import EquationOfState\n",
    "\n",
    "    volumes = []\n",
    "    energies = []\n",
    "    for _, data in datas.items():\n",
    "        volumes.append(data.dict.volume)\n",
    "        energies.append(data.dict.energy)\n",
    "        unit = data.dict.energy_units\n",
    "    #\n",
    "    eos = EquationOfState(volumes, energies)\n",
    "    v0, e0, B = eos.fit()\n",
    "    eos = orm.Dict({\"unit\": unit, \"v0\": v0, \"e0\": e0, \"B\": B})\n",
    "    return eos"
   ]
  },
  {
   "cell_type": "markdown",
   "metadata": {},
   "source": [
    "## Build the workgraph\n",
    "Three steps:\n",
    "\n",
    "- create an empty WorkGraph\n",
    "- add tasks: scale_structure, all_scf and eos.\n",
    "- link the output and input sockets for the tasks.\n",
    "\n",
    "### Visualize the workgraph\n",
    "If you are running in a jupyter notebook, you can visualize the workgraph directly."
   ]
  },
  {
   "cell_type": "code",
   "execution_count": 2,
   "metadata": {},
   "outputs": [
    {
     "data": {
      "text/html": [
       "\n",
       "        <iframe\n",
       "            width=\"100%\"\n",
       "            height=\"600px\"\n",
       "            src=\"html/eos.html\"\n",
       "            frameborder=\"0\"\n",
       "            allowfullscreen\n",
       "            \n",
       "        ></iframe>\n",
       "        "
      ],
      "text/plain": [
       "<IPython.lib.display.IFrame at 0x71939de824d0>"
      ]
     },
     "execution_count": 2,
     "metadata": {},
     "output_type": "execute_result"
    }
   ],
   "source": [
    "from aiida_workgraph import WorkGraph\n",
    "\n",
    "wg = WorkGraph(\"eos\")\n",
    "scale_structure1 = wg.add_task(scale_structure, name=\"scale_structure1\")\n",
    "all_scf1 = wg.add_task(all_scf, name=\"all_scf1\")\n",
    "eos1 = wg.add_task(eos, name=\"eos1\")\n",
    "wg.add_link(scale_structure1.outputs[\"structures\"], all_scf1.inputs[\"structures\"])\n",
    "wg.add_link(all_scf1.outputs[\"result\"], eos1.inputs[\"datas\"])\n",
    "wg.to_html()\n",
    "# visualize the workgraph in jupyter-notebook\n",
    "# wg"
   ]
  },
  {
   "cell_type": "markdown",
   "metadata": {},
   "source": [
    "## Prepare inputs and run\n"
   ]
  },
  {
   "cell_type": "code",
   "execution_count": 3,
   "metadata": {},
   "outputs": [
    {
     "name": "stdout",
     "output_type": "stream",
     "text": [
      "Waiting for the workgraph to finish...\n",
      "WorkGraph process created, PK: 87935\n"
     ]
    },
    {
     "data": {
      "text/plain": [
       "<WorkChainNode: uuid: 6216104e-a9c4-45e9-bea5-a8e84bed38b8 (pk: 87935) (aiida_workgraph.engine.workgraph.WorkGraphEngine)>"
      ]
     },
     "execution_count": 3,
     "metadata": {},
     "output_type": "execute_result"
    }
   ],
   "source": [
    "from aiida import load_profile\n",
    "from aiida.orm import Dict, KpointsData, StructureData, load_code, load_group\n",
    "from ase.build import bulk\n",
    "\n",
    "load_profile()\n",
    "\n",
    "si = orm.StructureData(ase=bulk(\"Si\"))\n",
    "code = load_code(\"qe-7.2-pw@localhost\")\n",
    "pw_paras = Dict({\n",
    "        \"CONTROL\": {\n",
    "            \"calculation\": \"scf\",\n",
    "        },\n",
    "        \"SYSTEM\": {\n",
    "            \"ecutwfc\": 30,\n",
    "            \"ecutrho\": 240,\n",
    "            \"occupations\": \"smearing\",\n",
    "            \"smearing\": \"gaussian\",\n",
    "            \"degauss\": 0.1,\n",
    "        },\n",
    "    })\n",
    "# Load the pseudopotential family.\n",
    "pseudo_family = load_group('SSSP/1.3/PBEsol/efficiency')\n",
    "pseudos = pseudo_family.get_pseudos(structure=si)\n",
    "#\n",
    "metadata = {'options': {\n",
    "                'resources': {\n",
    "                'num_machines': 1,\n",
    "                'num_mpiprocs_per_machine': 1,\n",
    "            },\n",
    "        }\n",
    "    }\n",
    "\n",
    "kpoints = orm.KpointsData()\n",
    "kpoints.set_kpoints_mesh([3, 3, 3])\n",
    "pseudos = pseudo_family.get_pseudos(structure=si)\n",
    "scf_inputs = {\"code\": code,\n",
    "        \"parameters\": pw_paras,\n",
    "        \"kpoints\": kpoints,\n",
    "        \"pseudos\": pseudos,\n",
    "        \"metadata\": metadata\n",
    "        }\n",
    "#-------------------------------------------------------\n",
    "# set the input parameters for each task\n",
    "wg.tasks[\"scale_structure1\"].set({\"structure\": si, \"scales\": [0.95, 1.0, 1.05]})\n",
    "wg.tasks[\"all_scf1\"].set({\"scf_inputs\": scf_inputs})\n",
    "print(\"Waiting for the workgraph to finish...\")\n",
    "wg.submit(wait=True, timeout=300)\n",
    "# one can also run the workgraph directly\n",
    "# wg.run()\n",
    "\n"
   ]
  },
  {
   "cell_type": "markdown",
   "metadata": {},
   "source": [
    "Print out the results:"
   ]
  },
  {
   "cell_type": "code",
   "execution_count": 4,
   "metadata": {},
   "outputs": [
    {
     "name": "stdout",
     "output_type": "stream",
     "text": [
      "B: 0.53596259211164\n",
      "v0: 41.134100879971\n",
      "e0: -308.19240692174\n",
      "v0: 41.134100879971\n"
     ]
    }
   ],
   "source": [
    "data = wg.tasks[\"eos1\"].outputs[\"result\"].value.get_dict()\n",
    "print('B: {B}\\nv0: {v0}\\ne0: {e0}\\nv0: {v0}'.format(**data))"
   ]
  },
  {
   "cell_type": "markdown",
   "metadata": {},
   "source": [
    "## Use graph builder\n",
    "The Graph Builder allow user to create a dynamic workflow based on the input value, as well as nested workflows."
   ]
  },
  {
   "cell_type": "code",
   "execution_count": 5,
   "metadata": {},
   "outputs": [],
   "source": [
    "from aiida_workgraph import WorkGraph, task\n",
    "\n",
    "@task.graph_builder(outputs=[{\"name\": \"result\", \"from\": \"eos1.result\"}])\n",
    "def eos_workgraph(structure=None, scales=None, scf_inputs=None):\n",
    "    wg = WorkGraph(\"eos\")\n",
    "    scale_structure1 = wg.add_task(scale_structure, name=\"scale_structure1\", structure=structure, scales=scales)\n",
    "    all_scf1 = wg.add_task(all_scf, name=\"all_scf1\", scf_inputs=scf_inputs)\n",
    "    eos1 = wg.add_task(eos, name=\"eos1\")\n",
    "    wg.add_link(scale_structure1.outputs[\"structures\"], all_scf1.inputs[\"structures\"])\n",
    "    wg.add_link(all_scf1.outputs[\"result\"], eos1.inputs[\"datas\"])\n",
    "    return wg"
   ]
  },
  {
   "cell_type": "markdown",
   "metadata": {},
   "source": [
    "Then we can use the `eos_workgraph` in two ways:\n",
    "\n",
    "- Direct run the function and generate the workgraph, then submit\n",
    "- Use it as a task inside another workgraph to create nested workflow.\n",
    "\n",
    "### Use the graph builder directly"
   ]
  },
  {
   "cell_type": "code",
   "execution_count": 6,
   "metadata": {},
   "outputs": [
    {
     "name": "stdout",
     "output_type": "stream",
     "text": [
      "Waiting for the workgraph to finish...\n",
      "WorkGraph process created, PK: 87993\n",
      "\n",
      "Result: \n",
      "B: 0.53596259211164\n",
      "v0: 41.134100879971\n",
      "e0: -308.19240692174\n",
      "v0: 41.134100879971\n"
     ]
    },
    {
     "data": {
      "text/html": [
       "\n",
       "        <iframe\n",
       "            width=\"100%\"\n",
       "            height=\"600px\"\n",
       "            src=\"html/eos.html\"\n",
       "            frameborder=\"0\"\n",
       "            allowfullscreen\n",
       "            \n",
       "        ></iframe>\n",
       "        "
      ],
      "text/plain": [
       "<IPython.lib.display.IFrame at 0x719360c0dd50>"
      ]
     },
     "execution_count": 6,
     "metadata": {},
     "output_type": "execute_result"
    }
   ],
   "source": [
    "wg = eos_workgraph(structure=si, scales=[0.95, 1.0, 1.05], scf_inputs=scf_inputs)\n",
    "print(\"Waiting for the workgraph to finish...\")\n",
    "wg.submit(wait=True, timeout=300)\n",
    "print('\\nResult: \\nB: {B}\\nv0: {v0}\\ne0: {e0}\\nv0: {v0}'.format(**wg.tasks[\"eos1\"].outputs[\"result\"].value.get_dict()))\n",
    "wg.to_html()\n",
    "# visualize the workgraph in jupyter-notebook\n",
    "# wg"
   ]
  },
  {
   "cell_type": "markdown",
   "metadata": {},
   "source": [
    "### Use it inside another workgraph\n",
    "For example, we want to combine relax with eos."
   ]
  },
  {
   "cell_type": "code",
   "execution_count": 7,
   "metadata": {},
   "outputs": [
    {
     "name": "stdout",
     "output_type": "stream",
     "text": [
      "Waiting for the workgraph to finish...\n",
      "WorkGraph process created, PK: 88051\n",
      "\n",
      "Result: \n",
      "B: 0.51887865583042\n",
      "v0: 41.167742936346\n",
      "e0: -308.19005654624\n",
      "v0: 41.167742936346\n"
     ]
    },
    {
     "data": {
      "text/html": [
       "\n",
       "        <iframe\n",
       "            width=\"100%\"\n",
       "            height=\"600px\"\n",
       "            src=\"html/relax_eos.html\"\n",
       "            frameborder=\"0\"\n",
       "            allowfullscreen\n",
       "            \n",
       "        ></iframe>\n",
       "        "
      ],
      "text/plain": [
       "<IPython.lib.display.IFrame at 0x71935aa02510>"
      ]
     },
     "execution_count": 7,
     "metadata": {},
     "output_type": "execute_result"
    }
   ],
   "source": [
    "from aiida_workgraph import WorkGraph\n",
    "from copy import deepcopy\n",
    "from aiida_quantumespresso.calculations.pw import PwCalculation\n",
    "\n",
    "#-------------------------------------------------------\n",
    "relax_pw_paras = deepcopy(pw_paras)\n",
    "relax_pw_paras[\"CONTROL\"][\"calculation\"] = \"vc-relax\"\n",
    "relax_inputs = {\n",
    "        \"structure\": si,\n",
    "        \"code\": code,\n",
    "        \"parameters\": relax_pw_paras,\n",
    "        \"kpoints\": kpoints,\n",
    "        \"pseudos\": pseudos,\n",
    "        \"metadata\": metadata\n",
    "        }\n",
    "#-------------------------------------------------------\n",
    "wg = WorkGraph(\"relax_eos\")\n",
    "relax_task = wg.add_task(PwCalculation, name=\"relax1\")\n",
    "relax_task.set(relax_inputs)\n",
    "eos_wg_task = wg.add_task(eos_workgraph, name=\"eos1\", scales=[0.95, 1.0, 1.05], scf_inputs=scf_inputs)\n",
    "wg.add_link(relax_task.outputs[\"output_structure\"], eos_wg_task.inputs[\"structure\"])\n",
    "#-------------------------------------------------------\n",
    "print(\"Waiting for the workgraph to finish...\")\n",
    "wg.submit(wait=True, timeout=300)\n",
    "print('\\nResult: \\nB: {B}\\nv0: {v0}\\ne0: {e0}\\nv0: {v0}'.format(**wg.tasks[\"eos1\"].outputs[\"result\"].value.get_dict()))\n",
    "wg.to_html()\n",
    "# visualize the workgraph in jupyter-notebook\n",
    "# wg"
   ]
  },
  {
   "cell_type": "markdown",
   "metadata": {},
   "source": [
    "## Summary\n",
    "There are many ways to create the workflow using graph builder. For example, one can add the relax step inside the `eos_workgraph`, and add a `run_relax` argument to control the logic."
   ]
  }
 ],
 "metadata": {
  "kernelspec": {
   "display_name": "aiida",
   "language": "python",
   "name": "python3"
  },
  "language_info": {
   "codemirror_mode": {
    "name": "ipython",
    "version": 3
   },
   "file_extension": ".py",
   "mimetype": "text/x-python",
   "name": "python",
   "nbconvert_exporter": "python",
   "pygments_lexer": "ipython3",
   "version": "3.11.0"
  }
 },
 "nbformat": 4,
 "nbformat_minor": 2
}
