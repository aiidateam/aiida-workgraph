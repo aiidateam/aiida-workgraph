{
 "cells": [
  {
   "cell_type": "markdown",
   "id": "22d177dc-6cfb-4de2-9509-f1eb45e10cf2",
   "metadata": {},
   "source": [
    "# Computational materials science"
   ]
  },
  {
   "cell_type": "markdown",
   "id": "a559242a",
   "metadata": {},
   "source": [
    "## Introduction\n",
    "In this tutorial, you will use `AiiDA-WorkTree` to carry out a DFT calculation using Quantum ESPRESSO."
   ]
  },
  {
   "cell_type": "markdown",
   "id": "58696c91",
   "metadata": {},
   "source": [
    "## Requirements\n",
    "To run this tutorial, you need to install `aiida-worktree`, `aiida-quantumespresso` and `aiida-pseudo`. Open a terminal and run:\n",
    "\n",
    "```console\n",
    "pip install aiida-worktree aiida-quantumespresso aiida-pseudo\n",
    "aiida-pseudo install sssp -x PBEsol\n",
    "```\n",
    "\n",
    "Start the AiiDA daemon if needed:\n",
    "```console\n",
    "verdi daemon start\n",
    "```\n",
    "\n",
    "Load the AiiDA profile."
   ]
  },
  {
   "cell_type": "code",
   "execution_count": 1,
   "id": "bfffb91f",
   "metadata": {},
   "outputs": [
    {
     "data": {
      "text/plain": [
       "Profile<uuid='4a9501fb20364cecb99920cadf27b238' name='xing'>"
      ]
     },
     "execution_count": 1,
     "metadata": {},
     "output_type": "execute_result"
    }
   ],
   "source": [
    "%load_ext aiida\n",
    "from aiida import load_profile\n",
    "load_profile()"
   ]
  },
  {
   "cell_type": "markdown",
   "id": "30719f9a",
   "metadata": {},
   "source": []
  },
  {
   "cell_type": "markdown",
   "id": "9e6360d8",
   "metadata": {},
   "source": [
    "## First workflow: calculate the energy of N2 molecule\n",
    "\n",
    "### Create a PW node\n",
    "aiida-quantumespresso provides a CalcJob: `PwCalculation` to run a PW calculation. Let's register it as a node:"
   ]
  },
  {
   "cell_type": "code",
   "execution_count": 2,
   "id": "11e3bca1-dda6-44e9-9585-54feeda7e7db",
   "metadata": {},
   "outputs": [],
   "source": [
    "from aiida_worktree import build_node\n",
    "\n",
    "# register node\n",
    "ndata = {\"path\": \"aiida_quantumespresso.calculations.pw.PwCalculation\"}\n",
    "pw_node = build_node(ndata)"
   ]
  },
  {
   "cell_type": "markdown",
   "id": "747c0de3",
   "metadata": {},
   "source": [
    "The inputs and outputs of the `PwCalculation` is automatically generated for the new node. One can create a node instance and inpsect its inputs and outputs:"
   ]
  },
  {
   "cell_type": "code",
   "execution_count": 3,
   "id": "e5a9d4bf",
   "metadata": {},
   "outputs": [
    {
     "name": "stdout",
     "output_type": "stream",
     "text": [
      "Inputs:\n",
      "  - metadata\n",
      "  - code\n",
      "  - monitors\n",
      "  - remote_folder\n",
      "  - structure\n",
      "  - parameters\n",
      "  - settings\n",
      "  - parent_folder\n",
      "  - vdw_table\n",
      "  - pseudos\n",
      "  - parallelization\n",
      "  - kpoints\n",
      "  - hubbard_file\n",
      "Outputs:\n",
      "  - remote_folder\n",
      "  - remote_stash\n",
      "  - retrieved\n",
      "  - output_parameters\n",
      "  - output_structure\n",
      "  - output_trajectory\n",
      "  - output_band\n",
      "  - output_kpoints\n",
      "  - output_atomic_occupations\n"
     ]
    }
   ],
   "source": [
    "node = pw_node()\n",
    "# only show first level inputs and outputs\n",
    "print(\"Inputs:\")\n",
    "for input in node.inputs:\n",
    "    if \".\" not in input.name:\n",
    "        print(f\"  - {input.name}\")\n",
    "print(\"Outputs:\")\n",
    "for output in node.outputs:\n",
    "    if \".\" not in output.name:\n",
    "        print(f\"  - {output.name}\")"
   ]
  },
  {
   "cell_type": "markdown",
   "id": "caa91bfe",
   "metadata": {},
   "source": [
    "### Prepare the input datas"
   ]
  },
  {
   "cell_type": "code",
   "execution_count": 4,
   "id": "8ee799d2-0b5b-4609-957f-6b3f2cd451f0",
   "metadata": {},
   "outputs": [],
   "source": [
    "from aiida_worktree import WorkTree\n",
    "from aiida import load_profile\n",
    "from aiida.orm import Dict, KpointsData, StructureData, load_code, load_group\n",
    "from ase.build import molecule\n",
    "\n",
    "load_profile()\n",
    "# create input structure node\n",
    "mol = molecule(\"N2\")\n",
    "mol.center(vacuum=1.5)\n",
    "mol.pbc = True\n",
    "structure_n2 = StructureData(ase=mol)\n",
    "# create the PW node\n",
    "code = load_code(\"pw-7.2@localhost\")\n",
    "paras = Dict({\n",
    "        \"CONTROL\": {\n",
    "            \"calculation\": \"scf\",\n",
    "        },\n",
    "        \"SYSTEM\": {\n",
    "            \"ecutwfc\": 30,\n",
    "            \"ecutrho\": 240,\n",
    "            \"occupations\": \"smearing\",\n",
    "            \"smearing\": \"gaussian\",\n",
    "            \"degauss\": 0.1,\n",
    "        },\n",
    "    })\n",
    "kpoints = KpointsData()\n",
    "kpoints.set_kpoints_mesh([1, 1, 1])\n",
    "# Load the pseudopotential family.\n",
    "pseudo_family = load_group('SSSP/1.2/PBEsol/efficiency')\n",
    "pseudos = pseudo_family.get_pseudos(structure=structure_n2)\n",
    "#\n",
    "metadata = {\n",
    "    'options': {'resources': {\n",
    "                'num_machines': 1,\n",
    "                'num_mpiprocs_per_machine': 1,\n",
    "            },\n",
    "        }\n",
    "    }\n"
   ]
  },
  {
   "cell_type": "markdown",
   "id": "955161ed",
   "metadata": {},
   "source": [
    "### Define a worktree"
   ]
  },
  {
   "cell_type": "code",
   "execution_count": 5,
   "id": "3745b315",
   "metadata": {},
   "outputs": [
    {
     "name": "stderr",
     "output_type": "stream",
     "text": [
      "[INFO] 2023-07-29 14:28:44 nodetree: Create NodeTree: energy_n2\n"
     ]
    }
   ],
   "source": [
    "wt = WorkTree(\"energy_n2\")\n",
    "# structure node\n",
    "structure1 = wt.nodes.new(\"AiiDANode\", \"n2\", value=structure_n2)\n",
    "# pw node\n",
    "pw1 = wt.nodes.new(pw_node, name=\"pw1\")\n",
    "pw1.set({\"code\": code,\n",
    "        \"parameters\": paras,\n",
    "        \"kpoints\": kpoints,\n",
    "        \"pseudos\": pseudos,\n",
    "        \"metadata\": metadata\n",
    "        })\n",
    "wt.links.new(structure1.outputs[0], pw1.inputs[\"structure\"])\n",
    "wt.submit(wait=True, timeout=200)"
   ]
  },
  {
   "cell_type": "markdown",
   "id": "d25beb02-ee82-4a27-ae48-edc5c147904c",
   "metadata": {},
   "source": [
    "### Check status and results\n",
    "Get the result of the nodes:"
   ]
  },
  {
   "cell_type": "markdown",
   "id": "9304c669",
   "metadata": {},
   "source": []
  },
  {
   "cell_type": "code",
   "execution_count": 6,
   "id": "9ebf35aa",
   "metadata": {},
   "outputs": [
    {
     "name": "stdout",
     "output_type": "stream",
     "text": [
      "Energy of an un-relaxed N2 molecule: -547.169\n"
     ]
    }
   ],
   "source": [
    "print('Energy of an un-relaxed N2 molecule: {:0.3f}'.format(pw1.node.outputs.output_parameters.get_dict()[\"energy\"]))"
   ]
  },
  {
   "cell_type": "markdown",
   "id": "125ac629",
   "metadata": {},
   "source": [
    "Generate node graph from the AiiDA process:"
   ]
  },
  {
   "cell_type": "code",
   "execution_count": 7,
   "id": "0060e380",
   "metadata": {},
   "outputs": [
    {
     "data": {
      "image/svg+xml": "<?xml version=\"1.0\" encoding=\"UTF-8\" standalone=\"no\"?>\n<!DOCTYPE svg PUBLIC \"-//W3C//DTD SVG 1.1//EN\"\n \"http://www.w3.org/Graphics/SVG/1.1/DTD/svg11.dtd\">\n<!-- Generated by graphviz version 2.43.0 (0)\n -->\n<!-- Title: %3 Pages: 1 -->\n<svg width=\"1446pt\" height=\"419pt\"\n viewBox=\"0.00 0.00 1445.84 419.48\" xmlns=\"http://www.w3.org/2000/svg\" xmlns:xlink=\"http://www.w3.org/1999/xlink\">\n<g id=\"graph0\" class=\"graph\" transform=\"scale(1 1) rotate(0) translate(4 415.48)\">\n<title>%3</title>\n<polygon fill=\"white\" stroke=\"transparent\" points=\"-4,4 -4,-415.48 1441.84,-415.48 1441.84,4 -4,4\"/>\n<!-- N2758 -->\n<g id=\"node1\" class=\"node\">\n<title>N2758</title>\n<polygon fill=\"#e38851\" stroke=\"red\" stroke-width=\"6\" points=\"716.84,-291.74 540.84,-291.74 540.84,-238.74 716.84,-238.74 716.84,-291.74\"/>\n<text text-anchor=\"middle\" x=\"628.84\" y=\"-276.54\" font-family=\"Times,serif\" font-size=\"14.00\">WorkTree: energy_n2 (2758)</text>\n<text text-anchor=\"middle\" x=\"628.84\" y=\"-261.54\" font-family=\"Times,serif\" font-size=\"14.00\">State: finished</text>\n<text text-anchor=\"middle\" x=\"628.84\" y=\"-246.54\" font-family=\"Times,serif\" font-size=\"14.00\">Exit Code: 0</text>\n</g>\n<!-- N2759 -->\n<g id=\"node12\" class=\"node\">\n<title>N2759</title>\n<polygon fill=\"#de707f\" stroke=\"black\" stroke-width=\"0\" points=\"696.84,-172.74 560.84,-172.74 560.84,-119.74 696.84,-119.74 696.84,-172.74\"/>\n<text text-anchor=\"middle\" x=\"628.84\" y=\"-157.54\" font-family=\"Times,serif\" font-size=\"14.00\">PwCalculation (2759)</text>\n<text text-anchor=\"middle\" x=\"628.84\" y=\"-142.54\" font-family=\"Times,serif\" font-size=\"14.00\">State: finished</text>\n<text text-anchor=\"middle\" x=\"628.84\" y=\"-127.54\" font-family=\"Times,serif\" font-size=\"14.00\">Exit Code: 0</text>\n</g>\n<!-- N2758&#45;&gt;N2759 -->\n<g id=\"edge9\" class=\"edge\">\n<title>N2758&#45;&gt;N2759</title>\n<path fill=\"none\" stroke=\"#000000\" stroke-dasharray=\"1,5\" d=\"M628.84,-238.56C628.84,-222.26 628.84,-200.92 628.84,-182.97\"/>\n<polygon fill=\"#000000\" stroke=\"#000000\" points=\"632.34,-182.86 628.84,-172.86 625.34,-182.86 632.34,-182.86\"/>\n<text text-anchor=\"middle\" x=\"668.34\" y=\"-209.54\" font-family=\"Times,serif\" font-size=\"14.00\">CALL_CALC</text>\n<text text-anchor=\"middle\" x=\"668.34\" y=\"-194.54\" font-family=\"Times,serif\" font-size=\"14.00\">pw1</text>\n</g>\n<!-- N29 -->\n<g id=\"node2\" class=\"node\">\n<title>N29</title>\n<ellipse fill=\"#8cd499\" stroke=\"black\" stroke-width=\"0\" cx=\"57.84\" cy=\"-384.61\" rx=\"57.69\" ry=\"18\"/>\n<text text-anchor=\"middle\" x=\"57.84\" y=\"-380.91\" font-family=\"Times,serif\" font-size=\"14.00\">UpfData (29)</text>\n</g>\n<!-- N29&#45;&gt;N2758 -->\n<g id=\"edge1\" class=\"edge\">\n<title>N29&#45;&gt;N2758</title>\n<path fill=\"none\" stroke=\"#000000\" stroke-dasharray=\"5,2\" d=\"M57.99,-366.54C59.15,-349.3 63.84,-323.32 80.84,-309.74 115.1,-282.37 382.59,-271.88 530.79,-268.14\"/>\n<polygon fill=\"#000000\" stroke=\"#000000\" points=\"530.9,-271.64 540.81,-267.89 530.73,-264.64 530.9,-271.64\"/>\n<text text-anchor=\"middle\" x=\"222.34\" y=\"-328.54\" font-family=\"Times,serif\" font-size=\"14.00\">INPUT_WORK</text>\n<text text-anchor=\"middle\" x=\"222.34\" y=\"-313.54\" font-family=\"Times,serif\" font-size=\"14.00\">nt__nodes__pw1__properties__pseudos__value__N</text>\n</g>\n<!-- N158 -->\n<g id=\"node3\" class=\"node\">\n<title>N158</title>\n<ellipse fill=\"#8cd499\" stroke=\"black\" stroke-width=\"0\" cx=\"363.84\" cy=\"-384.61\" rx=\"118.17\" ry=\"26.74\"/>\n<text text-anchor=\"middle\" x=\"363.84\" y=\"-388.41\" font-family=\"Times,serif\" font-size=\"14.00\">InstalledCode (158)</text>\n<text text-anchor=\"middle\" x=\"363.84\" y=\"-373.41\" font-family=\"Times,serif\" font-size=\"14.00\">Quantum ESPRESSO pw.x</text>\n</g>\n<!-- N158&#45;&gt;N2758 -->\n<g id=\"edge2\" class=\"edge\">\n<title>N158&#45;&gt;N2758</title>\n<path fill=\"none\" stroke=\"#000000\" stroke-dasharray=\"5,2\" d=\"M363.81,-357.48C365.23,-341.47 369.83,-321.8 382.84,-309.74 404.35,-289.82 471.74,-278.81 530.56,-272.85\"/>\n<polygon fill=\"#000000\" stroke=\"#000000\" points=\"531.05,-276.32 540.67,-271.87 530.37,-269.35 531.05,-276.32\"/>\n<text text-anchor=\"middle\" x=\"503.84\" y=\"-328.54\" font-family=\"Times,serif\" font-size=\"14.00\">INPUT_WORK</text>\n<text text-anchor=\"middle\" x=\"503.84\" y=\"-313.54\" font-family=\"Times,serif\" font-size=\"14.00\">nt__nodes__pw1__properties__code__value</text>\n</g>\n<!-- N2755 -->\n<g id=\"node4\" class=\"node\">\n<title>N2755</title>\n<ellipse fill=\"#8cd499\" stroke=\"black\" stroke-width=\"0\" cx=\"628.84\" cy=\"-384.61\" rx=\"92.76\" ry=\"26.74\"/>\n<text text-anchor=\"middle\" x=\"628.84\" y=\"-388.41\" font-family=\"Times,serif\" font-size=\"14.00\">StructureData (2755)</text>\n<text text-anchor=\"middle\" x=\"628.84\" y=\"-373.41\" font-family=\"Times,serif\" font-size=\"14.00\">N2</text>\n</g>\n<!-- N2755&#45;&gt;N2758 -->\n<g id=\"edge5\" class=\"edge\">\n<title>N2755&#45;&gt;N2758</title>\n<path fill=\"none\" stroke=\"#000000\" stroke-dasharray=\"5,2\" d=\"M628.84,-357.56C628.84,-341.19 628.84,-319.85 628.84,-301.91\"/>\n<polygon fill=\"#000000\" stroke=\"#000000\" points=\"632.34,-301.81 628.84,-291.81 625.34,-301.81 632.34,-301.81\"/>\n<text text-anchor=\"middle\" x=\"746.84\" y=\"-328.54\" font-family=\"Times,serif\" font-size=\"14.00\">INPUT_WORK</text>\n<text text-anchor=\"middle\" x=\"746.84\" y=\"-313.54\" font-family=\"Times,serif\" font-size=\"14.00\">nt__nodes__n2__properties__value__value</text>\n</g>\n<!-- N2756 -->\n<g id=\"node5\" class=\"node\">\n<title>N2756</title>\n<ellipse fill=\"#8cd499\" stroke=\"black\" stroke-width=\"0\" cx=\"887.84\" cy=\"-384.61\" rx=\"51.99\" ry=\"18\"/>\n<text text-anchor=\"middle\" x=\"887.84\" y=\"-380.91\" font-family=\"Times,serif\" font-size=\"14.00\">Dict (2756)</text>\n</g>\n<!-- N2756&#45;&gt;N2758 -->\n<g id=\"edge3\" class=\"edge\">\n<title>N2756&#45;&gt;N2758</title>\n<path fill=\"none\" stroke=\"#000000\" stroke-dasharray=\"5,2\" d=\"M887.63,-366.59C886.45,-349.64 881.88,-324.13 865.84,-309.74 845.25,-291.26 782.64,-280.26 726.94,-273.95\"/>\n<polygon fill=\"#000000\" stroke=\"#000000\" points=\"727.32,-270.47 717,-272.86 726.56,-277.43 727.32,-270.47\"/>\n<text text-anchor=\"middle\" x=\"1021.34\" y=\"-328.54\" font-family=\"Times,serif\" font-size=\"14.00\">INPUT_WORK</text>\n<text text-anchor=\"middle\" x=\"1021.34\" y=\"-313.54\" font-family=\"Times,serif\" font-size=\"14.00\">nt__nodes__pw1__properties__parameters__value</text>\n</g>\n<!-- N2757 -->\n<g id=\"node6\" class=\"node\">\n<title>N2757</title>\n<ellipse fill=\"#8cd499\" stroke=\"black\" stroke-width=\"0\" cx=\"1187.84\" cy=\"-384.61\" rx=\"151.14\" ry=\"26.74\"/>\n<text text-anchor=\"middle\" x=\"1187.84\" y=\"-388.41\" font-family=\"Times,serif\" font-size=\"14.00\">KpointsData (2757)</text>\n<text text-anchor=\"middle\" x=\"1187.84\" y=\"-373.41\" font-family=\"Times,serif\" font-size=\"14.00\">Kpoints mesh: 1x1x1 (+0.0,0.0,0.0)</text>\n</g>\n<!-- N2757&#45;&gt;N2758 -->\n<g id=\"edge4\" class=\"edge\">\n<title>N2757&#45;&gt;N2758</title>\n<path fill=\"none\" stroke=\"#000000\" stroke-dasharray=\"5,2\" d=\"M1186.45,-357.63C1184.11,-341.25 1178.23,-321.11 1163.84,-309.74 1130.47,-283.36 872.47,-272.48 727.3,-268.41\"/>\n<polygon fill=\"#000000\" stroke=\"#000000\" points=\"727.14,-264.9 717.04,-268.13 726.94,-271.9 727.14,-264.9\"/>\n<text text-anchor=\"middle\" x=\"1309.84\" y=\"-328.54\" font-family=\"Times,serif\" font-size=\"14.00\">INPUT_WORK</text>\n<text text-anchor=\"middle\" x=\"1309.84\" y=\"-313.54\" font-family=\"Times,serif\" font-size=\"14.00\">nt__nodes__pw1__properties__kpoints__value</text>\n</g>\n<!-- N2760 -->\n<g id=\"node7\" class=\"node\">\n<title>N2760</title>\n<ellipse fill=\"#8cd499\" stroke=\"black\" stroke-width=\"0\" cx=\"270.84\" cy=\"-26.87\" rx=\"88.28\" ry=\"26.74\"/>\n<text text-anchor=\"middle\" x=\"270.84\" y=\"-30.67\" font-family=\"Times,serif\" font-size=\"14.00\">RemoteData (2760)</text>\n<text text-anchor=\"middle\" x=\"270.84\" y=\"-15.67\" font-family=\"Times,serif\" font-size=\"14.00\">@localhost</text>\n</g>\n<!-- N2761 -->\n<g id=\"node8\" class=\"node\">\n<title>N2761</title>\n<ellipse fill=\"#8cd499\" stroke=\"black\" stroke-width=\"0\" cx=\"452.84\" cy=\"-26.87\" rx=\"76.09\" ry=\"18\"/>\n<text text-anchor=\"middle\" x=\"452.84\" y=\"-23.17\" font-family=\"Times,serif\" font-size=\"14.00\">FolderData (2761)</text>\n</g>\n<!-- N2762 -->\n<g id=\"node9\" class=\"node\">\n<title>N2762</title>\n<ellipse fill=\"#8cd499\" stroke=\"black\" stroke-width=\"0\" cx=\"628.84\" cy=\"-26.87\" rx=\"82.05\" ry=\"26.74\"/>\n<text text-anchor=\"middle\" x=\"628.84\" y=\"-30.67\" font-family=\"Times,serif\" font-size=\"14.00\">BandsData (2762)</text>\n<text text-anchor=\"middle\" x=\"628.84\" y=\"-15.67\" font-family=\"Times,serif\" font-size=\"14.00\">(Path of 1 kpts)</text>\n</g>\n<!-- N2763 -->\n<g id=\"node10\" class=\"node\">\n<title>N2763</title>\n<ellipse fill=\"#8cd499\" stroke=\"black\" stroke-width=\"0\" cx=\"818.84\" cy=\"-26.87\" rx=\"89.88\" ry=\"18\"/>\n<text text-anchor=\"middle\" x=\"818.84\" y=\"-23.17\" font-family=\"Times,serif\" font-size=\"14.00\">TrajectoryData (2763)</text>\n</g>\n<!-- N2764 -->\n<g id=\"node11\" class=\"node\">\n<title>N2764</title>\n<ellipse fill=\"#8cd499\" stroke=\"black\" stroke-width=\"0\" cx=\"978.84\" cy=\"-26.87\" rx=\"51.99\" ry=\"18\"/>\n<text text-anchor=\"middle\" x=\"978.84\" y=\"-23.17\" font-family=\"Times,serif\" font-size=\"14.00\">Dict (2764)</text>\n</g>\n<!-- N2759&#45;&gt;N2760 -->\n<g id=\"edge10\" class=\"edge\">\n<title>N2759&#45;&gt;N2760</title>\n<path fill=\"none\" stroke=\"#000000\" d=\"M560.8,-133.06C523.94,-125.63 477.87,-115.01 437.84,-101.74 398.82,-88.8 356.47,-70.01 324.18,-54.62\"/>\n<polygon fill=\"#000000\" stroke=\"#000000\" points=\"325.46,-51.35 314.93,-50.17 322.43,-57.66 325.46,-51.35\"/>\n<text text-anchor=\"middle\" x=\"476.84\" y=\"-90.54\" font-family=\"Times,serif\" font-size=\"14.00\">CREATE</text>\n<text text-anchor=\"middle\" x=\"476.84\" y=\"-75.54\" font-family=\"Times,serif\" font-size=\"14.00\">remote_folder</text>\n</g>\n<!-- N2759&#45;&gt;N2761 -->\n<g id=\"edge6\" class=\"edge\">\n<title>N2759&#45;&gt;N2761</title>\n<path fill=\"none\" stroke=\"#000000\" d=\"M590.22,-119.48C558.82,-98.54 515.01,-69.32 485.37,-49.56\"/>\n<polygon fill=\"#000000\" stroke=\"#000000\" points=\"487.3,-46.64 477.03,-44 483.41,-52.46 487.3,-46.64\"/>\n<text text-anchor=\"middle\" x=\"586.84\" y=\"-90.54\" font-family=\"Times,serif\" font-size=\"14.00\">CREATE</text>\n<text text-anchor=\"middle\" x=\"586.84\" y=\"-75.54\" font-family=\"Times,serif\" font-size=\"14.00\">retrieved</text>\n</g>\n<!-- N2759&#45;&gt;N2762 -->\n<g id=\"edge8\" class=\"edge\">\n<title>N2759&#45;&gt;N2762</title>\n<path fill=\"none\" stroke=\"#000000\" d=\"M628.84,-119.48C628.84,-103.24 628.84,-82.01 628.84,-64.09\"/>\n<polygon fill=\"#000000\" stroke=\"#000000\" points=\"632.34,-63.97 628.84,-53.97 625.34,-63.97 632.34,-63.97\"/>\n<text text-anchor=\"middle\" x=\"662.84\" y=\"-90.54\" font-family=\"Times,serif\" font-size=\"14.00\">CREATE</text>\n<text text-anchor=\"middle\" x=\"662.84\" y=\"-75.54\" font-family=\"Times,serif\" font-size=\"14.00\">output_band</text>\n</g>\n<!-- N2759&#45;&gt;N2763 -->\n<g id=\"edge11\" class=\"edge\">\n<title>N2759&#45;&gt;N2763</title>\n<path fill=\"none\" stroke=\"#000000\" d=\"M671.55,-119.59C681.2,-113.75 691.39,-107.55 700.84,-101.74 729.14,-84.34 761.07,-64.33 784.57,-49.53\"/>\n<polygon fill=\"#000000\" stroke=\"#000000\" points=\"786.54,-52.42 793.14,-44.13 782.81,-46.5 786.54,-52.42\"/>\n<text text-anchor=\"middle\" x=\"792.84\" y=\"-90.54\" font-family=\"Times,serif\" font-size=\"14.00\">CREATE</text>\n<text text-anchor=\"middle\" x=\"792.84\" y=\"-75.54\" font-family=\"Times,serif\" font-size=\"14.00\">output_trajectory</text>\n</g>\n<!-- N2759&#45;&gt;N2764 -->\n<g id=\"edge7\" class=\"edge\">\n<title>N2759&#45;&gt;N2764</title>\n<path fill=\"none\" stroke=\"#000000\" d=\"M697.1,-136.8C740.1,-130.18 796.27,-119.12 843.84,-101.74 881.27,-88.07 920.91,-65.26 947.48,-48.59\"/>\n<polygon fill=\"#000000\" stroke=\"#000000\" points=\"949.4,-51.52 955.97,-43.2 945.65,-45.61 949.4,-51.52\"/>\n<text text-anchor=\"middle\" x=\"955.84\" y=\"-90.54\" font-family=\"Times,serif\" font-size=\"14.00\">CREATE</text>\n<text text-anchor=\"middle\" x=\"955.84\" y=\"-75.54\" font-family=\"Times,serif\" font-size=\"14.00\">output_parameters</text>\n</g>\n</g>\n</svg>\n",
      "text/plain": [
       "<graphviz.graphs.Digraph at 0x7fc0a550fac0>"
      ]
     },
     "execution_count": 7,
     "metadata": {},
     "output_type": "execute_result"
    }
   ],
   "source": [
    "from aiida_worktree.utils import generate_node_graph\n",
    "generate_node_graph(wt.pk)"
   ]
  },
  {
   "cell_type": "markdown",
   "id": "de9bb988",
   "metadata": {},
   "source": [
    "## Second workflow: atomization energy of N2 molecule\n",
    "\n",
    "The atomization energy of $N_2$ is defined as the energy difference between the $N_2$ molecule and two isolated N atoms.\n",
    "```python\n",
    "e_atomization = 2 * e_atom - e_molecule\n",
    "````\n",
    "\n",
    "### Define a calcfunction to calculate the atomization energy"
   ]
  },
  {
   "cell_type": "code",
   "execution_count": 8,
   "id": "5740bb79",
   "metadata": {},
   "outputs": [],
   "source": [
    "from aiida_worktree import node\n",
    "from aiida.engine import calcfunction\n",
    "\n",
    "\n",
    "@node(outputs = [[\"General\", \"energy\"]])\n",
    "@calcfunction\n",
    "def atomization_energy(output_atom, output_mol):\n",
    "    from aiida.orm import Float\n",
    "    e = output_atom[\"energy\"]*output_mol[\"number_of_atoms\"] - output_mol[\"energy\"]\n",
    "    return Float(e)"
   ]
  },
  {
   "cell_type": "markdown",
   "id": "f313ca4f",
   "metadata": {},
   "source": [
    "Create the structure of nitrogen Atom."
   ]
  },
  {
   "cell_type": "code",
   "execution_count": 9,
   "id": "9d859c51",
   "metadata": {},
   "outputs": [],
   "source": [
    "from ase import Atoms\n",
    "from aiida.orm import StructureData\n",
    "\n",
    "atoms = Atoms(\"N\")\n",
    "atoms.center(vacuum=1.5)\n",
    "atoms.pbc = True\n",
    "structure_n = StructureData(ase=atoms)"
   ]
  },
  {
   "cell_type": "markdown",
   "id": "b22383eb",
   "metadata": {},
   "source": [
    "### Create a worktree"
   ]
  },
  {
   "cell_type": "code",
   "execution_count": 10,
   "id": "3fce5a2c",
   "metadata": {},
   "outputs": [
    {
     "name": "stderr",
     "output_type": "stream",
     "text": [
      "[INFO] 2023-07-29 14:29:20 nodetree: Create NodeTree: atomization_energy\n"
     ]
    }
   ],
   "source": [
    "from aiida_worktree import WorkTree\n",
    "from aiida.orm import Dict, KpointsData, StructureData, load_code, load_group\n",
    "\n",
    "wt = WorkTree(\"atomization_energy\")\n",
    "\n",
    "wt.nodes.new(\"AiiDANode\", \"n2\", value=structure_n2)\n",
    "wt.nodes.new(\"AiiDANode\", \"n\", value=structure_n)\n",
    "# create the PW node\n",
    "pw_n = wt.nodes.new(pw_node, name=\"pw_n\")\n",
    "pw_n.set({\"code\": code, \"parameters\": paras, \"kpoints\": kpoints,\n",
    "          \"pseudos\": pseudos, \"metadata\": metadata\n",
    "        })\n",
    "pw_n2 = wt.nodes.new(pw_node, name=\"pw_n2\")\n",
    "pw_n2.set({\"code\": code, \"parameters\": paras, \"kpoints\": kpoints,\n",
    "          \"pseudos\": pseudos, \"metadata\": metadata\n",
    "        })\n",
    "# create the node to calculate the atomization energy\n",
    "atomization = wt.nodes.new(atomization_energy, name=\"atomization_energy\")\n",
    "wt.links.new(wt.nodes[\"n\"].outputs[0], pw_n.inputs[\"structure\"])\n",
    "wt.links.new(wt.nodes[\"n2\"].outputs[0], pw_n2.inputs[\"structure\"])\n",
    "wt.links.new(pw_n.outputs[\"output_parameters\"], atomization.inputs[\"output_atom\"])\n",
    "wt.links.new(pw_n2.outputs[\"output_parameters\"], atomization.inputs[\"output_mol\"])\n",
    "wt.submit(wait=True, timeout=300)\n"
   ]
  },
  {
   "cell_type": "code",
   "execution_count": 11,
   "id": "a1c0bbfe",
   "metadata": {},
   "outputs": [
    {
     "name": "stdout",
     "output_type": "stream",
     "text": [
      "Atomization energy: 14.451 eV\n"
     ]
    }
   ],
   "source": [
    "wt.update()\n",
    "print('Atomization energy: {:0.3f} eV'.format(atomization.node.outputs.result.value))\n"
   ]
  },
  {
   "cell_type": "markdown",
   "id": "f0d21c9d",
   "metadata": {},
   "source": [
    "Generate node graph from the AiiDA process:"
   ]
  },
  {
   "cell_type": "code",
   "execution_count": 12,
   "id": "abdd115a",
   "metadata": {},
   "outputs": [
    {
     "data": {
      "image/svg+xml": "<?xml version=\"1.0\" encoding=\"UTF-8\" standalone=\"no\"?>\n<!DOCTYPE svg PUBLIC \"-//W3C//DTD SVG 1.1//EN\"\n \"http://www.w3.org/Graphics/SVG/1.1/DTD/svg11.dtd\">\n<!-- Generated by graphviz version 2.43.0 (0)\n -->\n<!-- Title: %3 Pages: 1 -->\n<svg width=\"2874pt\" height=\"658pt\"\n viewBox=\"0.00 0.00 2874.34 658.22\" xmlns=\"http://www.w3.org/2000/svg\" xmlns:xlink=\"http://www.w3.org/1999/xlink\">\n<g id=\"graph0\" class=\"graph\" transform=\"scale(1 1) rotate(0) translate(4 654.22)\">\n<title>%3</title>\n<polygon fill=\"white\" stroke=\"transparent\" points=\"-4,4 -4,-654.22 2870.34,-654.22 2870.34,4 -4,4\"/>\n<!-- N2766 -->\n<g id=\"node1\" class=\"node\">\n<title>N2766</title>\n<polygon fill=\"#e38851\" stroke=\"red\" stroke-width=\"6\" points=\"1434.84,-530.48 1207.84,-530.48 1207.84,-477.48 1434.84,-477.48 1434.84,-530.48\"/>\n<text text-anchor=\"middle\" x=\"1321.34\" y=\"-515.28\" font-family=\"Times,serif\" font-size=\"14.00\">WorkTree: atomization_energy (2766)</text>\n<text text-anchor=\"middle\" x=\"1321.34\" y=\"-500.28\" font-family=\"Times,serif\" font-size=\"14.00\">State: finished</text>\n<text text-anchor=\"middle\" x=\"1321.34\" y=\"-485.28\" font-family=\"Times,serif\" font-size=\"14.00\">Exit Code: 0</text>\n</g>\n<!-- N2768 -->\n<g id=\"node12\" class=\"node\">\n<title>N2768</title>\n<polygon fill=\"#de707f\" stroke=\"black\" stroke-width=\"0\" points=\"618.34,-411.48 482.34,-411.48 482.34,-358.48 618.34,-358.48 618.34,-411.48\"/>\n<text text-anchor=\"middle\" x=\"550.34\" y=\"-396.28\" font-family=\"Times,serif\" font-size=\"14.00\">PwCalculation (2768)</text>\n<text text-anchor=\"middle\" x=\"550.34\" y=\"-381.28\" font-family=\"Times,serif\" font-size=\"14.00\">State: finished</text>\n<text text-anchor=\"middle\" x=\"550.34\" y=\"-366.28\" font-family=\"Times,serif\" font-size=\"14.00\">Exit Code: 0</text>\n</g>\n<!-- N2766&#45;&gt;N2768 -->\n<g id=\"edge13\" class=\"edge\">\n<title>N2766&#45;&gt;N2768</title>\n<path fill=\"none\" stroke=\"#000000\" stroke-dasharray=\"1,5\" d=\"M1207.57,-485.72C1048.91,-461.64 765.31,-418.6 628.45,-397.83\"/>\n<polygon fill=\"#000000\" stroke=\"#000000\" points=\"628.87,-394.36 618.46,-396.32 627.82,-401.28 628.87,-394.36\"/>\n<text text-anchor=\"middle\" x=\"1067.84\" y=\"-448.28\" font-family=\"Times,serif\" font-size=\"14.00\">CALL_CALC</text>\n<text text-anchor=\"middle\" x=\"1067.84\" y=\"-433.28\" font-family=\"Times,serif\" font-size=\"14.00\">pw_n2</text>\n</g>\n<!-- N2767 -->\n<g id=\"node15\" class=\"node\">\n<title>N2767</title>\n<polygon fill=\"#de707f\" stroke=\"black\" stroke-width=\"0\" points=\"1389.34,-411.48 1253.34,-411.48 1253.34,-358.48 1389.34,-358.48 1389.34,-411.48\"/>\n<text text-anchor=\"middle\" x=\"1321.34\" y=\"-396.28\" font-family=\"Times,serif\" font-size=\"14.00\">PwCalculation (2767)</text>\n<text text-anchor=\"middle\" x=\"1321.34\" y=\"-381.28\" font-family=\"Times,serif\" font-size=\"14.00\">State: finished</text>\n<text text-anchor=\"middle\" x=\"1321.34\" y=\"-366.28\" font-family=\"Times,serif\" font-size=\"14.00\">Exit Code: 0</text>\n</g>\n<!-- N2766&#45;&gt;N2767 -->\n<g id=\"edge15\" class=\"edge\">\n<title>N2766&#45;&gt;N2767</title>\n<path fill=\"none\" stroke=\"#000000\" stroke-dasharray=\"1,5\" d=\"M1321.34,-477.3C1321.34,-461 1321.34,-439.66 1321.34,-421.71\"/>\n<polygon fill=\"#000000\" stroke=\"#000000\" points=\"1324.84,-421.6 1321.34,-411.6 1317.84,-421.6 1324.84,-421.6\"/>\n<text text-anchor=\"middle\" x=\"1360.84\" y=\"-448.28\" font-family=\"Times,serif\" font-size=\"14.00\">CALL_CALC</text>\n<text text-anchor=\"middle\" x=\"1360.84\" y=\"-433.28\" font-family=\"Times,serif\" font-size=\"14.00\">pw_n</text>\n</g>\n<!-- N2779 -->\n<g id=\"node21\" class=\"node\">\n<title>N2779</title>\n<polygon fill=\"#de707f\" fill-opacity=\"0.466667\" stroke=\"black\" stroke-width=\"0\" points=\"1736.34,-172.74 1572.34,-172.74 1572.34,-119.74 1736.34,-119.74 1736.34,-172.74\"/>\n<text text-anchor=\"middle\" x=\"1654.34\" y=\"-157.54\" font-family=\"Times,serif\" font-size=\"14.00\">atomization_energy (2779)</text>\n<text text-anchor=\"middle\" x=\"1654.34\" y=\"-142.54\" font-family=\"Times,serif\" font-size=\"14.00\">State: finished</text>\n<text text-anchor=\"middle\" x=\"1654.34\" y=\"-127.54\" font-family=\"Times,serif\" font-size=\"14.00\">Exit Code: 0</text>\n</g>\n<!-- N2766&#45;&gt;N2779 -->\n<g id=\"edge20\" class=\"edge\">\n<title>N2766&#45;&gt;N2779</title>\n<path fill=\"none\" stroke=\"#000000\" stroke-dasharray=\"1,5\" d=\"M1426.6,-477.45C1509.24,-453.19 1623.32,-409.92 1703.34,-340.48 1754.95,-295.68 1773.85,-249.13 1738.34,-190.74 1735.8,-186.57 1732.73,-182.79 1729.27,-179.35\"/>\n<polygon fill=\"#000000\" stroke=\"#000000\" points=\"1731.53,-176.69 1721.69,-172.78 1726.95,-181.98 1731.53,-176.69\"/>\n<text text-anchor=\"middle\" x=\"1785.84\" y=\"-329.28\" font-family=\"Times,serif\" font-size=\"14.00\">CALL_CALC</text>\n<text text-anchor=\"middle\" x=\"1785.84\" y=\"-314.28\" font-family=\"Times,serif\" font-size=\"14.00\">atomization_energy</text>\n</g>\n<!-- N29 -->\n<g id=\"node2\" class=\"node\">\n<title>N29</title>\n<ellipse fill=\"#8cd499\" stroke=\"black\" stroke-width=\"0\" cx=\"168.34\" cy=\"-623.35\" rx=\"57.69\" ry=\"18\"/>\n<text text-anchor=\"middle\" x=\"168.34\" y=\"-619.65\" font-family=\"Times,serif\" font-size=\"14.00\">UpfData (29)</text>\n</g>\n<!-- N29&#45;&gt;N2766 -->\n<g id=\"edge3\" class=\"edge\">\n<title>N29&#45;&gt;N2766</title>\n<path fill=\"none\" stroke=\"#000000\" stroke-dasharray=\"5,2\" d=\"M115.68,-615.74C56.49,-606.34 -26.91,-585.94 9.34,-548.48 50.23,-506.21 878.4,-503.83 1197.48,-504.49\"/>\n<polygon fill=\"#000000\" stroke=\"#000000\" points=\"1197.69,-507.99 1207.7,-504.51 1197.7,-500.99 1197.69,-507.99\"/>\n<text text-anchor=\"middle\" x=\"157.84\" y=\"-567.28\" font-family=\"Times,serif\" font-size=\"14.00\">INPUT_WORK</text>\n<text text-anchor=\"middle\" x=\"157.84\" y=\"-552.28\" font-family=\"Times,serif\" font-size=\"14.00\">nt__nodes__pw_n2__properties__pseudos__value__N</text>\n</g>\n<!-- N29&#45;&gt;N2766 -->\n<g id=\"edge4\" class=\"edge\">\n<title>N29&#45;&gt;N2766</title>\n<path fill=\"none\" stroke=\"#000000\" stroke-dasharray=\"5,2\" d=\"M214.97,-612.49C242.64,-605.45 277.78,-594.38 306.34,-578.48 324.23,-568.51 322.28,-556.01 341.34,-548.48 418.91,-517.81 951.68,-508.61 1197.52,-505.98\"/>\n<polygon fill=\"#000000\" stroke=\"#000000\" points=\"1197.61,-509.48 1207.58,-505.87 1197.54,-502.48 1197.61,-509.48\"/>\n<text text-anchor=\"middle\" x=\"486.34\" y=\"-567.28\" font-family=\"Times,serif\" font-size=\"14.00\">INPUT_WORK</text>\n<text text-anchor=\"middle\" x=\"486.34\" y=\"-552.28\" font-family=\"Times,serif\" font-size=\"14.00\">nt__nodes__pw_n__properties__pseudos__value__N</text>\n</g>\n<!-- N158 -->\n<g id=\"node3\" class=\"node\">\n<title>N158</title>\n<ellipse fill=\"#8cd499\" stroke=\"black\" stroke-width=\"0\" cx=\"777.34\" cy=\"-623.35\" rx=\"118.17\" ry=\"26.74\"/>\n<text text-anchor=\"middle\" x=\"777.34\" y=\"-627.15\" font-family=\"Times,serif\" font-size=\"14.00\">InstalledCode (158)</text>\n<text text-anchor=\"middle\" x=\"777.34\" y=\"-612.15\" font-family=\"Times,serif\" font-size=\"14.00\">Quantum ESPRESSO pw.x</text>\n</g>\n<!-- N158&#45;&gt;N2766 -->\n<g id=\"edge5\" class=\"edge\">\n<title>N158&#45;&gt;N2766</title>\n<path fill=\"none\" stroke=\"#000000\" stroke-dasharray=\"5,2\" d=\"M693.22,-604.41C653.22,-592.18 618.76,-573.62 642.34,-548.48 661.02,-528.56 1007.08,-514.72 1197.75,-508.57\"/>\n<polygon fill=\"#000000\" stroke=\"#000000\" points=\"1197.95,-512.07 1207.83,-508.25 1197.73,-505.07 1197.95,-512.07\"/>\n<text text-anchor=\"middle\" x=\"766.84\" y=\"-567.28\" font-family=\"Times,serif\" font-size=\"14.00\">INPUT_WORK</text>\n<text text-anchor=\"middle\" x=\"766.84\" y=\"-552.28\" font-family=\"Times,serif\" font-size=\"14.00\">nt__nodes__pw_n__properties__code__value</text>\n</g>\n<!-- N158&#45;&gt;N2766 -->\n<g id=\"edge7\" class=\"edge\">\n<title>N158&#45;&gt;N2766</title>\n<path fill=\"none\" stroke=\"#000000\" stroke-dasharray=\"5,2\" d=\"M844.33,-601.13C860.26,-594.86 876.83,-587.28 891.34,-578.48 908.57,-568.03 906.9,-556.63 925.34,-548.48 972.61,-527.58 1099.66,-516.26 1197.23,-510.45\"/>\n<polygon fill=\"#000000\" stroke=\"#000000\" points=\"1197.69,-513.93 1207.47,-509.86 1197.28,-506.95 1197.69,-513.93\"/>\n<text text-anchor=\"middle\" x=\"1053.34\" y=\"-567.28\" font-family=\"Times,serif\" font-size=\"14.00\">INPUT_WORK</text>\n<text text-anchor=\"middle\" x=\"1053.34\" y=\"-552.28\" font-family=\"Times,serif\" font-size=\"14.00\">nt__nodes__pw_n2__properties__code__value</text>\n</g>\n<!-- N2755 -->\n<g id=\"node4\" class=\"node\">\n<title>N2755</title>\n<ellipse fill=\"#8cd499\" stroke=\"black\" stroke-width=\"0\" cx=\"1192.34\" cy=\"-623.35\" rx=\"92.76\" ry=\"26.74\"/>\n<text text-anchor=\"middle\" x=\"1192.34\" y=\"-627.15\" font-family=\"Times,serif\" font-size=\"14.00\">StructureData (2755)</text>\n<text text-anchor=\"middle\" x=\"1192.34\" y=\"-612.15\" font-family=\"Times,serif\" font-size=\"14.00\">N2</text>\n</g>\n<!-- N2755&#45;&gt;N2766 -->\n<g id=\"edge9\" class=\"edge\">\n<title>N2755&#45;&gt;N2766</title>\n<path fill=\"none\" stroke=\"#000000\" stroke-dasharray=\"5,2\" d=\"M1185.75,-596.44C1183.43,-581.1 1183.46,-562.07 1193.34,-548.48 1196.45,-544.2 1200,-540.33 1203.9,-536.85\"/>\n<polygon fill=\"#000000\" stroke=\"#000000\" points=\"1206.13,-539.55 1211.79,-530.59 1201.78,-534.06 1206.13,-539.55\"/>\n<text text-anchor=\"middle\" x=\"1311.34\" y=\"-567.28\" font-family=\"Times,serif\" font-size=\"14.00\">INPUT_WORK</text>\n<text text-anchor=\"middle\" x=\"1311.34\" y=\"-552.28\" font-family=\"Times,serif\" font-size=\"14.00\">nt__nodes__n2__properties__value__value</text>\n</g>\n<!-- N2756 -->\n<g id=\"node5\" class=\"node\">\n<title>N2756</title>\n<ellipse fill=\"#8cd499\" stroke=\"black\" stroke-width=\"0\" cx=\"1604.34\" cy=\"-623.35\" rx=\"51.99\" ry=\"18\"/>\n<text text-anchor=\"middle\" x=\"1604.34\" y=\"-619.65\" font-family=\"Times,serif\" font-size=\"14.00\">Dict (2756)</text>\n</g>\n<!-- N2756&#45;&gt;N2766 -->\n<g id=\"edge6\" class=\"edge\">\n<title>N2756&#45;&gt;N2766</title>\n<path fill=\"none\" stroke=\"#000000\" stroke-dasharray=\"5,2\" d=\"M1556.14,-616.41C1524.46,-610.68 1483.3,-599.61 1452.34,-578.48 1438.46,-569.01 1442.71,-558.65 1429.34,-548.48 1423,-543.66 1416.06,-539.3 1408.84,-535.37\"/>\n<polygon fill=\"#000000\" stroke=\"#000000\" points=\"1410.08,-532.07 1399.59,-530.61 1406.88,-538.29 1410.08,-532.07\"/>\n<text text-anchor=\"middle\" x=\"1593.84\" y=\"-567.28\" font-family=\"Times,serif\" font-size=\"14.00\">INPUT_WORK</text>\n<text text-anchor=\"middle\" x=\"1593.84\" y=\"-552.28\" font-family=\"Times,serif\" font-size=\"14.00\">nt__nodes__pw_n__properties__parameters__value</text>\n</g>\n<!-- N2756&#45;&gt;N2766 -->\n<g id=\"edge10\" class=\"edge\">\n<title>N2756&#45;&gt;N2766</title>\n<path fill=\"none\" stroke=\"#000000\" stroke-dasharray=\"5,2\" d=\"M1649.24,-614.01C1697.92,-603.09 1764.95,-581.37 1735.34,-548.48 1716.05,-527.06 1559.97,-515.44 1445.12,-509.73\"/>\n<polygon fill=\"#000000\" stroke=\"#000000\" points=\"1445,-506.22 1434.84,-509.23 1444.65,-513.21 1445,-506.22\"/>\n<text text-anchor=\"middle\" x=\"1887.34\" y=\"-567.28\" font-family=\"Times,serif\" font-size=\"14.00\">INPUT_WORK</text>\n<text text-anchor=\"middle\" x=\"1887.34\" y=\"-552.28\" font-family=\"Times,serif\" font-size=\"14.00\">nt__nodes__pw_n2__properties__parameters__value</text>\n</g>\n<!-- N2757 -->\n<g id=\"node6\" class=\"node\">\n<title>N2757</title>\n<ellipse fill=\"#8cd499\" stroke=\"black\" stroke-width=\"0\" cx=\"2213.34\" cy=\"-623.35\" rx=\"151.14\" ry=\"26.74\"/>\n<text text-anchor=\"middle\" x=\"2213.34\" y=\"-627.15\" font-family=\"Times,serif\" font-size=\"14.00\">KpointsData (2757)</text>\n<text text-anchor=\"middle\" x=\"2213.34\" y=\"-612.15\" font-family=\"Times,serif\" font-size=\"14.00\">Kpoints mesh: 1x1x1 (+0.0,0.0,0.0)</text>\n</g>\n<!-- N2757&#45;&gt;N2766 -->\n<g id=\"edge2\" class=\"edge\">\n<title>N2757&#45;&gt;N2766</title>\n<path fill=\"none\" stroke=\"#000000\" stroke-dasharray=\"5,2\" d=\"M2125.42,-601.34C2106.97,-595.26 2088.05,-587.7 2071.34,-578.48 2053.4,-568.58 2055.33,-556.17 2036.34,-548.48 1983.18,-526.96 1635.45,-513.87 1445.22,-508.23\"/>\n<polygon fill=\"#000000\" stroke=\"#000000\" points=\"1445.26,-504.73 1435.16,-507.94 1445.05,-511.73 1445.26,-504.73\"/>\n<text text-anchor=\"middle\" x=\"2202.84\" y=\"-567.28\" font-family=\"Times,serif\" font-size=\"14.00\">INPUT_WORK</text>\n<text text-anchor=\"middle\" x=\"2202.84\" y=\"-552.28\" font-family=\"Times,serif\" font-size=\"14.00\">nt__nodes__pw_n__properties__kpoints__value</text>\n</g>\n<!-- N2757&#45;&gt;N2766 -->\n<g id=\"edge8\" class=\"edge\">\n<title>N2757&#45;&gt;N2766</title>\n<path fill=\"none\" stroke=\"#000000\" stroke-dasharray=\"5,2\" d=\"M2295.16,-600.64C2328.6,-587.96 2355.11,-570.16 2334.34,-548.48 2304.05,-516.87 1708.93,-508.12 1445.26,-505.79\"/>\n<polygon fill=\"#000000\" stroke=\"#000000\" points=\"1444.9,-502.28 1434.87,-505.7 1444.84,-509.28 1444.9,-502.28\"/>\n<text text-anchor=\"middle\" x=\"2476.34\" y=\"-567.28\" font-family=\"Times,serif\" font-size=\"14.00\">INPUT_WORK</text>\n<text text-anchor=\"middle\" x=\"2476.34\" y=\"-552.28\" font-family=\"Times,serif\" font-size=\"14.00\">nt__nodes__pw_n2__properties__kpoints__value</text>\n</g>\n<!-- N2765 -->\n<g id=\"node7\" class=\"node\">\n<title>N2765</title>\n<ellipse fill=\"#8cd499\" stroke=\"black\" stroke-width=\"0\" cx=\"2649.34\" cy=\"-623.35\" rx=\"92.76\" ry=\"26.74\"/>\n<text text-anchor=\"middle\" x=\"2649.34\" y=\"-627.15\" font-family=\"Times,serif\" font-size=\"14.00\">StructureData (2765)</text>\n<text text-anchor=\"middle\" x=\"2649.34\" y=\"-612.15\" font-family=\"Times,serif\" font-size=\"14.00\">N</text>\n</g>\n<!-- N2765&#45;&gt;N2766 -->\n<g id=\"edge1\" class=\"edge\">\n<title>N2765&#45;&gt;N2766</title>\n<path fill=\"none\" stroke=\"#000000\" stroke-dasharray=\"5,2\" d=\"M2644.57,-596.24C2640.05,-579.59 2631.45,-559.19 2615.34,-548.48 2567.15,-516.46 1759.48,-507.81 1445.13,-505.65\"/>\n<polygon fill=\"#000000\" stroke=\"#000000\" points=\"1445.09,-502.15 1435.07,-505.58 1445.04,-509.15 1445.09,-502.15\"/>\n<text text-anchor=\"middle\" x=\"2751.84\" y=\"-567.28\" font-family=\"Times,serif\" font-size=\"14.00\">INPUT_WORK</text>\n<text text-anchor=\"middle\" x=\"2751.84\" y=\"-552.28\" font-family=\"Times,serif\" font-size=\"14.00\">nt__nodes__n__properties__value__value</text>\n</g>\n<!-- N2769 -->\n<g id=\"node8\" class=\"node\">\n<title>N2769</title>\n<ellipse fill=\"#8cd499\" stroke=\"black\" stroke-width=\"0\" cx=\"963.34\" cy=\"-265.61\" rx=\"88.28\" ry=\"26.74\"/>\n<text text-anchor=\"middle\" x=\"963.34\" y=\"-269.41\" font-family=\"Times,serif\" font-size=\"14.00\">RemoteData (2769)</text>\n<text text-anchor=\"middle\" x=\"963.34\" y=\"-254.41\" font-family=\"Times,serif\" font-size=\"14.00\">@localhost</text>\n</g>\n<!-- N2770 -->\n<g id=\"node9\" class=\"node\">\n<title>N2770</title>\n<ellipse fill=\"#8cd499\" stroke=\"black\" stroke-width=\"0\" cx=\"97.34\" cy=\"-265.61\" rx=\"88.28\" ry=\"26.74\"/>\n<text text-anchor=\"middle\" x=\"97.34\" y=\"-269.41\" font-family=\"Times,serif\" font-size=\"14.00\">RemoteData (2770)</text>\n<text text-anchor=\"middle\" x=\"97.34\" y=\"-254.41\" font-family=\"Times,serif\" font-size=\"14.00\">@localhost</text>\n</g>\n<!-- N2771 -->\n<g id=\"node10\" class=\"node\">\n<title>N2771</title>\n<ellipse fill=\"#8cd499\" stroke=\"black\" stroke-width=\"0\" cx=\"1145.34\" cy=\"-265.61\" rx=\"76.09\" ry=\"18\"/>\n<text text-anchor=\"middle\" x=\"1145.34\" y=\"-261.91\" font-family=\"Times,serif\" font-size=\"14.00\">FolderData (2771)</text>\n</g>\n<!-- N2772 -->\n<g id=\"node11\" class=\"node\">\n<title>N2772</title>\n<ellipse fill=\"#8cd499\" stroke=\"black\" stroke-width=\"0\" cx=\"1321.34\" cy=\"-265.61\" rx=\"82.05\" ry=\"26.74\"/>\n<text text-anchor=\"middle\" x=\"1321.34\" y=\"-269.41\" font-family=\"Times,serif\" font-size=\"14.00\">BandsData (2772)</text>\n<text text-anchor=\"middle\" x=\"1321.34\" y=\"-254.41\" font-family=\"Times,serif\" font-size=\"14.00\">(Path of 1 kpts)</text>\n</g>\n<!-- N2768&#45;&gt;N2770 -->\n<g id=\"edge22\" class=\"edge\">\n<title>N2768&#45;&gt;N2770</title>\n<path fill=\"none\" stroke=\"#000000\" d=\"M482.2,-376.46C429.06,-369.67 353.71,-358.03 289.34,-340.48 242.96,-327.83 192.28,-308.07 154.63,-292.16\"/>\n<polygon fill=\"#000000\" stroke=\"#000000\" points=\"155.93,-288.91 145.35,-288.21 153.18,-295.35 155.93,-288.91\"/>\n<text text-anchor=\"middle\" x=\"328.34\" y=\"-329.28\" font-family=\"Times,serif\" font-size=\"14.00\">CREATE</text>\n<text text-anchor=\"middle\" x=\"328.34\" y=\"-314.28\" font-family=\"Times,serif\" font-size=\"14.00\">remote_folder</text>\n</g>\n<!-- N2775 -->\n<g id=\"node16\" class=\"node\">\n<title>N2775</title>\n<ellipse fill=\"#8cd499\" stroke=\"black\" stroke-width=\"0\" cx=\"279.34\" cy=\"-265.61\" rx=\"76.09\" ry=\"18\"/>\n<text text-anchor=\"middle\" x=\"279.34\" y=\"-261.91\" font-family=\"Times,serif\" font-size=\"14.00\">FolderData (2775)</text>\n</g>\n<!-- N2768&#45;&gt;N2775 -->\n<g id=\"edge11\" class=\"edge\">\n<title>N2768&#45;&gt;N2775</title>\n<path fill=\"none\" stroke=\"#000000\" d=\"M482.18,-358.94C467.01,-353.09 451.05,-346.74 436.34,-340.48 396.27,-323.44 351.39,-302.09 319.92,-286.73\"/>\n<polygon fill=\"#000000\" stroke=\"#000000\" points=\"321.12,-283.42 310.6,-282.17 318.04,-289.71 321.12,-283.42\"/>\n<text text-anchor=\"middle\" x=\"462.34\" y=\"-329.28\" font-family=\"Times,serif\" font-size=\"14.00\">CREATE</text>\n<text text-anchor=\"middle\" x=\"462.34\" y=\"-314.28\" font-family=\"Times,serif\" font-size=\"14.00\">retrieved</text>\n</g>\n<!-- N2776 -->\n<g id=\"node17\" class=\"node\">\n<title>N2776</title>\n<ellipse fill=\"#8cd499\" stroke=\"black\" stroke-width=\"0\" cx=\"455.34\" cy=\"-265.61\" rx=\"82.05\" ry=\"26.74\"/>\n<text text-anchor=\"middle\" x=\"455.34\" y=\"-269.41\" font-family=\"Times,serif\" font-size=\"14.00\">BandsData (2776)</text>\n<text text-anchor=\"middle\" x=\"455.34\" y=\"-254.41\" font-family=\"Times,serif\" font-size=\"14.00\">(Path of 1 kpts)</text>\n</g>\n<!-- N2768&#45;&gt;N2776 -->\n<g id=\"edge18\" class=\"edge\">\n<title>N2768&#45;&gt;N2776</title>\n<path fill=\"none\" stroke=\"#000000\" d=\"M529.49,-358.22C515.6,-341.06 497.21,-318.34 482.21,-299.82\"/>\n<polygon fill=\"#000000\" stroke=\"#000000\" points=\"484.82,-297.47 475.81,-291.9 479.38,-301.88 484.82,-297.47\"/>\n<text text-anchor=\"middle\" x=\"548.34\" y=\"-329.28\" font-family=\"Times,serif\" font-size=\"14.00\">CREATE</text>\n<text text-anchor=\"middle\" x=\"548.34\" y=\"-314.28\" font-family=\"Times,serif\" font-size=\"14.00\">output_band</text>\n</g>\n<!-- N2777 -->\n<g id=\"node18\" class=\"node\">\n<title>N2777</title>\n<ellipse fill=\"#8cd499\" stroke=\"black\" stroke-width=\"0\" cx=\"645.34\" cy=\"-265.61\" rx=\"89.88\" ry=\"18\"/>\n<text text-anchor=\"middle\" x=\"645.34\" y=\"-261.91\" font-family=\"Times,serif\" font-size=\"14.00\">TrajectoryData (2777)</text>\n</g>\n<!-- N2768&#45;&gt;N2777 -->\n<g id=\"edge23\" class=\"edge\">\n<title>N2768&#45;&gt;N2777</title>\n<path fill=\"none\" stroke=\"#000000\" d=\"M571.73,-358.28C576.55,-352.44 581.64,-346.26 586.34,-340.48 599.49,-324.3 614.12,-305.98 625.52,-291.64\"/>\n<polygon fill=\"#000000\" stroke=\"#000000\" points=\"628.35,-293.7 631.83,-283.69 622.87,-289.35 628.35,-293.7\"/>\n<text text-anchor=\"middle\" x=\"656.34\" y=\"-329.28\" font-family=\"Times,serif\" font-size=\"14.00\">CREATE</text>\n<text text-anchor=\"middle\" x=\"656.34\" y=\"-314.28\" font-family=\"Times,serif\" font-size=\"14.00\">output_trajectory</text>\n</g>\n<!-- N2778 -->\n<g id=\"node19\" class=\"node\">\n<title>N2778</title>\n<ellipse fill=\"#8cd499\" stroke=\"black\" stroke-width=\"0\" cx=\"805.34\" cy=\"-265.61\" rx=\"51.99\" ry=\"18\"/>\n<text text-anchor=\"middle\" x=\"805.34\" y=\"-261.91\" font-family=\"Times,serif\" font-size=\"14.00\">Dict (2778)</text>\n</g>\n<!-- N2768&#45;&gt;N2778 -->\n<g id=\"edge16\" class=\"edge\">\n<title>N2768&#45;&gt;N2778</title>\n<path fill=\"none\" stroke=\"#000000\" d=\"M618.45,-371C646.82,-364.12 679.56,-354.18 707.34,-340.48 734.59,-327.04 761.9,-305.65 780.73,-289.34\"/>\n<polygon fill=\"#000000\" stroke=\"#000000\" points=\"783.08,-291.93 788.27,-282.69 778.45,-286.68 783.08,-291.93\"/>\n<text text-anchor=\"middle\" x=\"804.34\" y=\"-329.28\" font-family=\"Times,serif\" font-size=\"14.00\">CREATE</text>\n<text text-anchor=\"middle\" x=\"804.34\" y=\"-314.28\" font-family=\"Times,serif\" font-size=\"14.00\">output_parameters</text>\n</g>\n<!-- N2773 -->\n<g id=\"node13\" class=\"node\">\n<title>N2773</title>\n<ellipse fill=\"#8cd499\" stroke=\"black\" stroke-width=\"0\" cx=\"1511.34\" cy=\"-265.61\" rx=\"89.88\" ry=\"18\"/>\n<text text-anchor=\"middle\" x=\"1511.34\" y=\"-261.91\" font-family=\"Times,serif\" font-size=\"14.00\">TrajectoryData (2773)</text>\n</g>\n<!-- N2774 -->\n<g id=\"node14\" class=\"node\">\n<title>N2774</title>\n<ellipse fill=\"#8cd499\" stroke=\"black\" stroke-width=\"0\" cx=\"1671.34\" cy=\"-265.61\" rx=\"51.99\" ry=\"18\"/>\n<text text-anchor=\"middle\" x=\"1671.34\" y=\"-261.91\" font-family=\"Times,serif\" font-size=\"14.00\">Dict (2774)</text>\n</g>\n<!-- N2774&#45;&gt;N2779 -->\n<g id=\"edge12\" class=\"edge\">\n<title>N2774&#45;&gt;N2779</title>\n<path fill=\"none\" stroke=\"#000000\" d=\"M1663.57,-247.48C1660.36,-239.52 1657.01,-229.83 1655.34,-220.74 1653.11,-208.61 1652.42,-195.15 1652.43,-183.11\"/>\n<polygon fill=\"#000000\" stroke=\"#000000\" points=\"1655.93,-183.01 1652.59,-172.96 1648.93,-182.9 1655.93,-183.01\"/>\n<text text-anchor=\"middle\" x=\"1696.84\" y=\"-209.54\" font-family=\"Times,serif\" font-size=\"14.00\">INPUT_CALC</text>\n<text text-anchor=\"middle\" x=\"1696.84\" y=\"-194.54\" font-family=\"Times,serif\" font-size=\"14.00\">output_atom</text>\n</g>\n<!-- N2767&#45;&gt;N2769 -->\n<g id=\"edge24\" class=\"edge\">\n<title>N2767&#45;&gt;N2769</title>\n<path fill=\"none\" stroke=\"#000000\" d=\"M1253.21,-371.64C1216.62,-364.2 1171.01,-353.61 1131.34,-340.48 1092.11,-327.49 1049.5,-308.71 1017.02,-293.33\"/>\n<polygon fill=\"#000000\" stroke=\"#000000\" points=\"1018.24,-290.03 1007.71,-288.88 1015.22,-296.35 1018.24,-290.03\"/>\n<text text-anchor=\"middle\" x=\"1170.34\" y=\"-329.28\" font-family=\"Times,serif\" font-size=\"14.00\">CREATE</text>\n<text text-anchor=\"middle\" x=\"1170.34\" y=\"-314.28\" font-family=\"Times,serif\" font-size=\"14.00\">remote_folder</text>\n</g>\n<!-- N2767&#45;&gt;N2771 -->\n<g id=\"edge21\" class=\"edge\">\n<title>N2767&#45;&gt;N2771</title>\n<path fill=\"none\" stroke=\"#000000\" d=\"M1282.71,-358.22C1251.31,-337.28 1207.5,-308.06 1177.86,-288.3\"/>\n<polygon fill=\"#000000\" stroke=\"#000000\" points=\"1179.79,-285.38 1169.52,-282.74 1175.9,-291.2 1179.79,-285.38\"/>\n<text text-anchor=\"middle\" x=\"1280.34\" y=\"-329.28\" font-family=\"Times,serif\" font-size=\"14.00\">CREATE</text>\n<text text-anchor=\"middle\" x=\"1280.34\" y=\"-314.28\" font-family=\"Times,serif\" font-size=\"14.00\">retrieved</text>\n</g>\n<!-- N2767&#45;&gt;N2772 -->\n<g id=\"edge17\" class=\"edge\">\n<title>N2767&#45;&gt;N2772</title>\n<path fill=\"none\" stroke=\"#000000\" d=\"M1321.34,-358.22C1321.34,-341.98 1321.34,-320.75 1321.34,-302.83\"/>\n<polygon fill=\"#000000\" stroke=\"#000000\" points=\"1324.84,-302.71 1321.34,-292.71 1317.84,-302.71 1324.84,-302.71\"/>\n<text text-anchor=\"middle\" x=\"1355.34\" y=\"-329.28\" font-family=\"Times,serif\" font-size=\"14.00\">CREATE</text>\n<text text-anchor=\"middle\" x=\"1355.34\" y=\"-314.28\" font-family=\"Times,serif\" font-size=\"14.00\">output_band</text>\n</g>\n<!-- N2767&#45;&gt;N2773 -->\n<g id=\"edge14\" class=\"edge\">\n<title>N2767&#45;&gt;N2773</title>\n<path fill=\"none\" stroke=\"#000000\" d=\"M1364.04,-358.33C1373.7,-352.49 1383.88,-346.29 1393.34,-340.48 1421.63,-323.08 1453.56,-303.07 1477.06,-288.27\"/>\n<polygon fill=\"#000000\" stroke=\"#000000\" points=\"1479.03,-291.16 1485.63,-282.87 1475.3,-285.24 1479.03,-291.16\"/>\n<text text-anchor=\"middle\" x=\"1486.34\" y=\"-329.28\" font-family=\"Times,serif\" font-size=\"14.00\">CREATE</text>\n<text text-anchor=\"middle\" x=\"1486.34\" y=\"-314.28\" font-family=\"Times,serif\" font-size=\"14.00\">output_trajectory</text>\n</g>\n<!-- N2767&#45;&gt;N2774 -->\n<g id=\"edge25\" class=\"edge\">\n<title>N2767&#45;&gt;N2774</title>\n<path fill=\"none\" stroke=\"#000000\" d=\"M1389.44,-375.7C1432.71,-369.13 1489.39,-358.05 1537.34,-340.48 1574.54,-326.85 1613.87,-304.03 1640.23,-287.35\"/>\n<polygon fill=\"#000000\" stroke=\"#000000\" points=\"1642.12,-290.3 1648.65,-281.95 1638.34,-284.41 1642.12,-290.3\"/>\n<text text-anchor=\"middle\" x=\"1648.34\" y=\"-329.28\" font-family=\"Times,serif\" font-size=\"14.00\">CREATE</text>\n<text text-anchor=\"middle\" x=\"1648.34\" y=\"-314.28\" font-family=\"Times,serif\" font-size=\"14.00\">output_parameters</text>\n</g>\n<!-- N2778&#45;&gt;N2779 -->\n<g id=\"edge26\" class=\"edge\">\n<title>N2778&#45;&gt;N2779</title>\n<path fill=\"none\" stroke=\"#000000\" d=\"M833.91,-250.5C843.94,-246.09 855.44,-241.62 866.34,-238.74 1112.18,-173.77 1413.3,-154.92 1562.08,-149.46\"/>\n<polygon fill=\"#000000\" stroke=\"#000000\" points=\"1562.22,-152.96 1572.09,-149.11 1561.97,-145.96 1562.22,-152.96\"/>\n<text text-anchor=\"middle\" x=\"1142.84\" y=\"-209.54\" font-family=\"Times,serif\" font-size=\"14.00\">INPUT_CALC</text>\n<text text-anchor=\"middle\" x=\"1142.84\" y=\"-194.54\" font-family=\"Times,serif\" font-size=\"14.00\">output_mol</text>\n</g>\n<!-- N2780 -->\n<g id=\"node20\" class=\"node\">\n<title>N2780</title>\n<ellipse fill=\"#8cd499\" stroke=\"black\" stroke-width=\"0\" cx=\"1654.34\" cy=\"-26.87\" rx=\"102.56\" ry=\"26.74\"/>\n<text text-anchor=\"middle\" x=\"1654.34\" y=\"-30.67\" font-family=\"Times,serif\" font-size=\"14.00\">Float (2780)</text>\n<text text-anchor=\"middle\" x=\"1654.34\" y=\"-15.67\" font-family=\"Times,serif\" font-size=\"14.00\">value: 14.45126288059</text>\n</g>\n<!-- N2779&#45;&gt;N2780 -->\n<g id=\"edge19\" class=\"edge\">\n<title>N2779&#45;&gt;N2780</title>\n<path fill=\"none\" stroke=\"#000000\" d=\"M1654.34,-119.48C1654.34,-103.24 1654.34,-82.01 1654.34,-64.09\"/>\n<polygon fill=\"#000000\" stroke=\"#000000\" points=\"1657.84,-63.97 1654.34,-53.97 1650.84,-63.97 1657.84,-63.97\"/>\n<text text-anchor=\"middle\" x=\"1680.34\" y=\"-90.54\" font-family=\"Times,serif\" font-size=\"14.00\">CREATE</text>\n<text text-anchor=\"middle\" x=\"1680.34\" y=\"-75.54\" font-family=\"Times,serif\" font-size=\"14.00\">result</text>\n</g>\n</g>\n</svg>\n",
      "text/plain": [
       "<graphviz.graphs.Digraph at 0x7fc0a51b3040>"
      ]
     },
     "execution_count": 12,
     "metadata": {},
     "output_type": "execute_result"
    }
   ],
   "source": [
    "from aiida_worktree.utils import generate_node_graph\n",
    "generate_node_graph(wt.pk)"
   ]
  },
  {
   "cell_type": "markdown",
   "id": "c7097344",
   "metadata": {},
   "source": [
    "## Use already existing workchain\n",
    "Can we register a node from a workchain? Can we set the a input item of a namespace? Yes, we can!\n",
    "\n",
    "Here we build a node from the `PwRelaxWorkChain`."
   ]
  },
  {
   "cell_type": "code",
   "execution_count": 13,
   "id": "fb66bbdc",
   "metadata": {},
   "outputs": [],
   "source": [
    "from aiida_worktree.decorator import build_node\n",
    "\n",
    "# register node\n",
    "ndata = {\"path\": \"aiida_quantumespresso.workflows.pw.relax.PwRelaxWorkChain\"}\n",
    "pw_relax_node = build_node(ndata)"
   ]
  },
  {
   "cell_type": "markdown",
   "id": "d7c64768",
   "metadata": {},
   "source": [
    "In the `PwRelaxWorkChain`, one can set the relax type (`calculation` key) in the input namespace `base.pw.parameters`. Now we create a new node to update the pw parameters."
   ]
  },
  {
   "cell_type": "code",
   "execution_count": 14,
   "metadata": {},
   "outputs": [],
   "source": [
    "from aiida_worktree.decorator import node\n",
    "from aiida.engine import calcfunction\n",
    "\n",
    "\n",
    "@node()\n",
    "@calcfunction\n",
    "def pw_parameters(paras, relax_type):\n",
    "    paras1 = paras.clone()\n",
    "    paras1[\"CONTROL\"][\"calculation\"] = relax_type\n",
    "    return paras1"
   ]
  },
  {
   "cell_type": "markdown",
   "id": "d9a4cfd1",
   "metadata": {},
   "source": [
    "Now, we create the worktree to relax the structure of N2 molecule."
   ]
  },
  {
   "cell_type": "code",
   "execution_count": 15,
   "id": "ecb33623",
   "metadata": {},
   "outputs": [
    {
     "name": "stderr",
     "output_type": "stream",
     "text": [
      "[INFO] 2023-07-29 14:30:03 nodetree: Create NodeTree: test_pw_relax\n"
     ]
    }
   ],
   "source": [
    "wt = WorkTree(\"test_pw_relax\")\n",
    "# structure node\n",
    "wt.nodes.new(\"AiiDANode\", \"n2\", value=structure_n2)\n",
    "# pw node\n",
    "pw_relax1 = wt.nodes.new(pw_relax_node, name=\"pw_relax1\")\n",
    "pw_relax1.set({\n",
    "        \"base\": {\n",
    "                \"pw\": {\n",
    "                        \"code\": code,\n",
    "                        \"pseudos\": pseudos,\n",
    "                        \"metadata\": metadata\n",
    "                },\n",
    "                \"kpoints\": kpoints,\n",
    "                },\n",
    "        \n",
    "        })\n",
    "paras_node = wt.nodes.new(pw_parameters, \"parameters\",\n",
    "                          paras = paras,\n",
    "                          relax_type = \"relax\")\n",
    "wt.links.new(wt.nodes[\"n2\"].outputs[0], pw_relax1.inputs[\"structure\"])\n",
    "wt.links.new(paras_node.outputs[0], pw_relax1.inputs[\"base.pw.parameters\"])\n",
    "wt.submit(wait=True, timeout=200)"
   ]
  },
  {
   "cell_type": "code",
   "execution_count": 16,
   "id": "9f35add3",
   "metadata": {},
   "outputs": [
    {
     "name": "stdout",
     "output_type": "stream",
     "text": [
      "Energy of a relaxed N2 molecule: -547.232\n"
     ]
    }
   ],
   "source": [
    "wt.update()\n",
    "print('Energy of a relaxed N2 molecule: {:0.3f}'.format(pw_relax1.node.outputs.output_parameters.get_dict()[\"energy\"]))"
   ]
  },
  {
   "cell_type": "markdown",
   "id": "a063dc6b",
   "metadata": {},
   "source": [
    "Generate node graph from the AiiDA process:"
   ]
  },
  {
   "cell_type": "code",
   "execution_count": 17,
   "id": "8d6f280d",
   "metadata": {},
   "outputs": [
    {
     "data": {
      "image/svg+xml": "<?xml version=\"1.0\" encoding=\"UTF-8\" standalone=\"no\"?>\n<!DOCTYPE svg PUBLIC \"-//W3C//DTD SVG 1.1//EN\"\n \"http://www.w3.org/Graphics/SVG/1.1/DTD/svg11.dtd\">\n<!-- Generated by graphviz version 2.43.0 (0)\n -->\n<!-- Title: %3 Pages: 1 -->\n<svg width=\"1726pt\" height=\"878pt\"\n viewBox=\"0.00 0.00 1725.84 878.48\" xmlns=\"http://www.w3.org/2000/svg\" xmlns:xlink=\"http://www.w3.org/1999/xlink\">\n<g id=\"graph0\" class=\"graph\" transform=\"scale(1 1) rotate(0) translate(4 874.48)\">\n<title>%3</title>\n<polygon fill=\"white\" stroke=\"transparent\" points=\"-4,4 -4,-874.48 1721.84,-874.48 1721.84,4 -4,4\"/>\n<!-- N2781 -->\n<g id=\"node1\" class=\"node\">\n<title>N2781</title>\n<polygon fill=\"#e38851\" stroke=\"red\" stroke-width=\"6\" points=\"929.34,-750.74 734.34,-750.74 734.34,-697.74 929.34,-697.74 929.34,-750.74\"/>\n<text text-anchor=\"middle\" x=\"831.84\" y=\"-735.54\" font-family=\"Times,serif\" font-size=\"14.00\">WorkTree: test_pw_relax (2781)</text>\n<text text-anchor=\"middle\" x=\"831.84\" y=\"-720.54\" font-family=\"Times,serif\" font-size=\"14.00\">State: finished</text>\n<text text-anchor=\"middle\" x=\"831.84\" y=\"-705.54\" font-family=\"Times,serif\" font-size=\"14.00\">Exit Code: 0</text>\n</g>\n<!-- N2783 -->\n<g id=\"node8\" class=\"node\">\n<title>N2783</title>\n<polygon fill=\"#de707f\" fill-opacity=\"0.466667\" stroke=\"black\" stroke-width=\"0\" points=\"806.84,-631.74 666.84,-631.74 666.84,-578.74 806.84,-578.74 806.84,-631.74\"/>\n<text text-anchor=\"middle\" x=\"736.84\" y=\"-616.54\" font-family=\"Times,serif\" font-size=\"14.00\">pw_parameters (2783)</text>\n<text text-anchor=\"middle\" x=\"736.84\" y=\"-601.54\" font-family=\"Times,serif\" font-size=\"14.00\">State: finished</text>\n<text text-anchor=\"middle\" x=\"736.84\" y=\"-586.54\" font-family=\"Times,serif\" font-size=\"14.00\">Exit Code: 0</text>\n</g>\n<!-- N2781&#45;&gt;N2783 -->\n<g id=\"edge25\" class=\"edge\">\n<title>N2781&#45;&gt;N2783</title>\n<path fill=\"none\" stroke=\"#000000\" stroke-dasharray=\"1,5\" d=\"M784.82,-697.54C777.84,-692.3 771.21,-686.35 765.84,-679.74 756.89,-668.71 750.43,-654.57 745.92,-641.64\"/>\n<polygon fill=\"#000000\" stroke=\"#000000\" points=\"749.23,-640.51 742.84,-632.07 742.57,-642.66 749.23,-640.51\"/>\n<text text-anchor=\"middle\" x=\"805.34\" y=\"-668.54\" font-family=\"Times,serif\" font-size=\"14.00\">CALL_CALC</text>\n<text text-anchor=\"middle\" x=\"805.34\" y=\"-653.54\" font-family=\"Times,serif\" font-size=\"14.00\">parameters</text>\n</g>\n<!-- N2790 -->\n<g id=\"node17\" class=\"node\">\n<title>N2790</title>\n<polygon fill=\"#e38851\" stroke=\"black\" stroke-width=\"0\" points=\"870.84,-410.74 702.84,-410.74 702.84,-357.74 870.84,-357.74 870.84,-410.74\"/>\n<text text-anchor=\"middle\" x=\"786.84\" y=\"-395.54\" font-family=\"Times,serif\" font-size=\"14.00\">PwRelaxWorkChain (2790)</text>\n<text text-anchor=\"middle\" x=\"786.84\" y=\"-380.54\" font-family=\"Times,serif\" font-size=\"14.00\">State: finished</text>\n<text text-anchor=\"middle\" x=\"786.84\" y=\"-365.54\" font-family=\"Times,serif\" font-size=\"14.00\">Exit Code: 0</text>\n</g>\n<!-- N2781&#45;&gt;N2790 -->\n<g id=\"edge19\" class=\"edge\">\n<title>N2781&#45;&gt;N2790</title>\n<path fill=\"none\" stroke=\"#000000\" stroke-dasharray=\"1,5\" d=\"M840.91,-697.49C858.09,-644.06 889.82,-518.69 844.84,-428.74 842.95,-424.94 840.54,-421.39 837.79,-418.08\"/>\n<polygon fill=\"#000000\" stroke=\"#000000\" points=\"840.28,-415.62 830.84,-410.81 835.22,-420.46 840.28,-415.62\"/>\n<text text-anchor=\"middle\" x=\"910.34\" y=\"-549.54\" font-family=\"Times,serif\" font-size=\"14.00\">CALL_WORK</text>\n<text text-anchor=\"middle\" x=\"910.34\" y=\"-534.54\" font-family=\"Times,serif\" font-size=\"14.00\">pw_relax1</text>\n</g>\n<!-- N29 -->\n<g id=\"node2\" class=\"node\">\n<title>N29</title>\n<ellipse fill=\"#8cd499\" stroke=\"black\" stroke-width=\"0\" cx=\"57.84\" cy=\"-843.61\" rx=\"57.69\" ry=\"18\"/>\n<text text-anchor=\"middle\" x=\"57.84\" y=\"-839.91\" font-family=\"Times,serif\" font-size=\"14.00\">UpfData (29)</text>\n</g>\n<!-- N29&#45;&gt;N2781 -->\n<g id=\"edge4\" class=\"edge\">\n<title>N29&#45;&gt;N2781</title>\n<path fill=\"none\" stroke=\"#000000\" stroke-dasharray=\"5,2\" d=\"M57.69,-825.49C58.55,-808.2 62.85,-782.19 79.84,-768.74 129.1,-729.75 528.11,-724.78 724.06,-724.73\"/>\n<polygon fill=\"#000000\" stroke=\"#000000\" points=\"724.09,-728.23 734.09,-724.73 724.09,-721.23 724.09,-728.23\"/>\n<text text-anchor=\"middle\" x=\"272.34\" y=\"-787.54\" font-family=\"Times,serif\" font-size=\"14.00\">INPUT_WORK</text>\n<text text-anchor=\"middle\" x=\"272.34\" y=\"-772.54\" font-family=\"Times,serif\" font-size=\"14.00\">nt__nodes__pw_relax1__properties__base__value__pw__pseudos__N</text>\n</g>\n<!-- N158 -->\n<g id=\"node3\" class=\"node\">\n<title>N158</title>\n<ellipse fill=\"#8cd499\" stroke=\"black\" stroke-width=\"0\" cx=\"465.84\" cy=\"-843.61\" rx=\"118.17\" ry=\"26.74\"/>\n<text text-anchor=\"middle\" x=\"465.84\" y=\"-847.41\" font-family=\"Times,serif\" font-size=\"14.00\">InstalledCode (158)</text>\n<text text-anchor=\"middle\" x=\"465.84\" y=\"-832.41\" font-family=\"Times,serif\" font-size=\"14.00\">Quantum ESPRESSO pw.x</text>\n</g>\n<!-- N158&#45;&gt;N2781 -->\n<g id=\"edge1\" class=\"edge\">\n<title>N158&#45;&gt;N2781</title>\n<path fill=\"none\" stroke=\"#000000\" stroke-dasharray=\"5,2\" d=\"M465.57,-816.62C466.88,-800.45 471.43,-780.55 484.84,-768.74 519.51,-738.22 635.52,-728.61 723.96,-725.84\"/>\n<polygon fill=\"#000000\" stroke=\"#000000\" points=\"724.16,-729.34 734.05,-725.55 723.95,-722.34 724.16,-729.34\"/>\n<text text-anchor=\"middle\" x=\"656.34\" y=\"-787.54\" font-family=\"Times,serif\" font-size=\"14.00\">INPUT_WORK</text>\n<text text-anchor=\"middle\" x=\"656.34\" y=\"-772.54\" font-family=\"Times,serif\" font-size=\"14.00\">nt__nodes__pw_relax1__properties__base__value__pw__code</text>\n</g>\n<!-- N2755 -->\n<g id=\"node4\" class=\"node\">\n<title>N2755</title>\n<ellipse fill=\"#8cd499\" stroke=\"black\" stroke-width=\"0\" cx=\"831.84\" cy=\"-843.61\" rx=\"92.76\" ry=\"26.74\"/>\n<text text-anchor=\"middle\" x=\"831.84\" y=\"-847.41\" font-family=\"Times,serif\" font-size=\"14.00\">StructureData (2755)</text>\n<text text-anchor=\"middle\" x=\"831.84\" y=\"-832.41\" font-family=\"Times,serif\" font-size=\"14.00\">N2</text>\n</g>\n<!-- N2755&#45;&gt;N2781 -->\n<g id=\"edge3\" class=\"edge\">\n<title>N2755&#45;&gt;N2781</title>\n<path fill=\"none\" stroke=\"#000000\" stroke-dasharray=\"5,2\" d=\"M831.84,-816.56C831.84,-800.19 831.84,-778.85 831.84,-760.91\"/>\n<polygon fill=\"#000000\" stroke=\"#000000\" points=\"835.34,-760.81 831.84,-750.81 828.34,-760.81 835.34,-760.81\"/>\n<text text-anchor=\"middle\" x=\"949.84\" y=\"-787.54\" font-family=\"Times,serif\" font-size=\"14.00\">INPUT_WORK</text>\n<text text-anchor=\"middle\" x=\"949.84\" y=\"-772.54\" font-family=\"Times,serif\" font-size=\"14.00\">nt__nodes__n2__properties__value__value</text>\n</g>\n<!-- N2756 -->\n<g id=\"node5\" class=\"node\">\n<title>N2756</title>\n<ellipse fill=\"#8cd499\" stroke=\"black\" stroke-width=\"0\" cx=\"1090.84\" cy=\"-843.61\" rx=\"51.99\" ry=\"18\"/>\n<text text-anchor=\"middle\" x=\"1090.84\" y=\"-839.91\" font-family=\"Times,serif\" font-size=\"14.00\">Dict (2756)</text>\n</g>\n<!-- N2756&#45;&gt;N2781 -->\n<g id=\"edge2\" class=\"edge\">\n<title>N2756&#45;&gt;N2781</title>\n<path fill=\"none\" stroke=\"#000000\" stroke-dasharray=\"5,2\" d=\"M1090.63,-825.59C1089.45,-808.64 1084.88,-783.13 1068.84,-768.74 1049.43,-751.32 992.69,-740.55 939.59,-734.08\"/>\n<polygon fill=\"#000000\" stroke=\"#000000\" points=\"939.72,-730.57 929.38,-732.88 938.91,-737.52 939.72,-730.57\"/>\n<text text-anchor=\"middle\" x=\"1226.84\" y=\"-787.54\" font-family=\"Times,serif\" font-size=\"14.00\">INPUT_WORK</text>\n<text text-anchor=\"middle\" x=\"1226.84\" y=\"-772.54\" font-family=\"Times,serif\" font-size=\"14.00\">nt__nodes__parameters__properties__paras__value</text>\n</g>\n<!-- N2757 -->\n<g id=\"node6\" class=\"node\">\n<title>N2757</title>\n<ellipse fill=\"#8cd499\" stroke=\"black\" stroke-width=\"0\" cx=\"1395.84\" cy=\"-843.61\" rx=\"151.14\" ry=\"26.74\"/>\n<text text-anchor=\"middle\" x=\"1395.84\" y=\"-847.41\" font-family=\"Times,serif\" font-size=\"14.00\">KpointsData (2757)</text>\n<text text-anchor=\"middle\" x=\"1395.84\" y=\"-832.41\" font-family=\"Times,serif\" font-size=\"14.00\">Kpoints mesh: 1x1x1 (+0.0,0.0,0.0)</text>\n</g>\n<!-- N2757&#45;&gt;N2781 -->\n<g id=\"edge5\" class=\"edge\">\n<title>N2757&#45;&gt;N2781</title>\n<path fill=\"none\" stroke=\"#000000\" stroke-dasharray=\"5,2\" d=\"M1394.45,-816.63C1392.11,-800.24 1386.24,-780.11 1371.84,-768.74 1338.77,-742.61 1087.25,-731.75 939.42,-727.58\"/>\n<polygon fill=\"#000000\" stroke=\"#000000\" points=\"939.49,-724.08 929.4,-727.3 939.3,-731.08 939.49,-724.08\"/>\n<text text-anchor=\"middle\" x=\"1553.84\" y=\"-787.54\" font-family=\"Times,serif\" font-size=\"14.00\">INPUT_WORK</text>\n<text text-anchor=\"middle\" x=\"1553.84\" y=\"-772.54\" font-family=\"Times,serif\" font-size=\"14.00\">nt__nodes__pw_relax1__properties__base__value__kpoints</text>\n</g>\n<!-- N2784 -->\n<g id=\"node7\" class=\"node\">\n<title>N2784</title>\n<ellipse fill=\"#8cd499\" stroke=\"black\" stroke-width=\"0\" cx=\"718.84\" cy=\"-494.74\" rx=\"51.99\" ry=\"18\"/>\n<text text-anchor=\"middle\" x=\"718.84\" y=\"-491.04\" font-family=\"Times,serif\" font-size=\"14.00\">Dict (2784)</text>\n</g>\n<!-- N2784&#45;&gt;N2790 -->\n<g id=\"edge12\" class=\"edge\">\n<title>N2784&#45;&gt;N2790</title>\n<path fill=\"none\" stroke=\"#000000\" stroke-dasharray=\"5,2\" d=\"M713.74,-476.59C710.66,-462.79 708.73,-443.34 716.84,-428.74 719.06,-424.76 721.8,-421.1 724.9,-417.74\"/>\n<polygon fill=\"#000000\" stroke=\"#000000\" points=\"727.34,-420.26 732.22,-410.86 722.54,-415.16 727.34,-420.26\"/>\n<text text-anchor=\"middle\" x=\"780.84\" y=\"-447.54\" font-family=\"Times,serif\" font-size=\"14.00\">INPUT_WORK</text>\n<text text-anchor=\"middle\" x=\"780.84\" y=\"-432.54\" font-family=\"Times,serif\" font-size=\"14.00\">base__pw__parameters</text>\n</g>\n<!-- N2783&#45;&gt;N2784 -->\n<g id=\"edge16\" class=\"edge\">\n<title>N2783&#45;&gt;N2784</title>\n<path fill=\"none\" stroke=\"#000000\" d=\"M732.58,-578.53C729.79,-561.71 726.15,-539.79 723.32,-522.72\"/>\n<polygon fill=\"#000000\" stroke=\"#000000\" points=\"726.77,-522.11 721.68,-512.82 719.86,-523.25 726.77,-522.11\"/>\n<text text-anchor=\"middle\" x=\"754.84\" y=\"-549.54\" font-family=\"Times,serif\" font-size=\"14.00\">CREATE</text>\n<text text-anchor=\"middle\" x=\"754.84\" y=\"-534.54\" font-family=\"Times,serif\" font-size=\"14.00\">result</text>\n</g>\n<!-- N2793 -->\n<g id=\"node9\" class=\"node\">\n<title>N2793</title>\n<polygon fill=\"#e38851\" stroke=\"black\" stroke-width=\"0\" points=\"868.34,-291.74 705.34,-291.74 705.34,-238.74 868.34,-238.74 868.34,-291.74\"/>\n<text text-anchor=\"middle\" x=\"786.84\" y=\"-276.54\" font-family=\"Times,serif\" font-size=\"14.00\">PwBaseWorkChain (2793)</text>\n<text text-anchor=\"middle\" x=\"786.84\" y=\"-261.54\" font-family=\"Times,serif\" font-size=\"14.00\">State: finished</text>\n<text text-anchor=\"middle\" x=\"786.84\" y=\"-246.54\" font-family=\"Times,serif\" font-size=\"14.00\">Exit Code: 0</text>\n</g>\n<!-- N2797 -->\n<g id=\"node10\" class=\"node\">\n<title>N2797</title>\n<ellipse fill=\"#8cd499\" stroke=\"black\" stroke-width=\"0\" cx=\"254.84\" cy=\"-26.87\" rx=\"88.28\" ry=\"26.74\"/>\n<text text-anchor=\"middle\" x=\"254.84\" y=\"-30.67\" font-family=\"Times,serif\" font-size=\"14.00\">RemoteData (2797)</text>\n<text text-anchor=\"middle\" x=\"254.84\" y=\"-15.67\" font-family=\"Times,serif\" font-size=\"14.00\">@localhost</text>\n</g>\n<!-- N2793&#45;&gt;N2797 -->\n<g id=\"edge20\" class=\"edge\">\n<title>N2793&#45;&gt;N2797</title>\n<path fill=\"none\" stroke=\"#000000\" stroke-dasharray=\"5,2\" d=\"M705.06,-261.59C640.69,-257.44 549.52,-246.99 473.84,-220.74 388.05,-190.98 315.04,-108.35 278.97,-61.47\"/>\n<polygon fill=\"#000000\" stroke=\"#000000\" points=\"281.7,-59.28 272.87,-53.43 276.12,-63.51 281.7,-59.28\"/>\n<text text-anchor=\"middle\" x=\"425.84\" y=\"-150.04\" font-family=\"Times,serif\" font-size=\"14.00\">RETURN</text>\n<text text-anchor=\"middle\" x=\"425.84\" y=\"-135.04\" font-family=\"Times,serif\" font-size=\"14.00\">remote_folder</text>\n</g>\n<!-- N2798 -->\n<g id=\"node11\" class=\"node\">\n<title>N2798</title>\n<ellipse fill=\"#8cd499\" stroke=\"black\" stroke-width=\"0\" cx=\"436.84\" cy=\"-26.87\" rx=\"76.09\" ry=\"18\"/>\n<text text-anchor=\"middle\" x=\"436.84\" y=\"-23.17\" font-family=\"Times,serif\" font-size=\"14.00\">FolderData (2798)</text>\n</g>\n<!-- N2793&#45;&gt;N2798 -->\n<g id=\"edge22\" class=\"edge\">\n<title>N2793&#45;&gt;N2798</title>\n<path fill=\"none\" stroke=\"#000000\" stroke-dasharray=\"5,2\" d=\"M705.16,-240.02C657.6,-224.22 597.44,-201.25 547.84,-172.74 542.05,-169.41 454.41,-107.39 450.84,-101.74 442.1,-87.88 438.56,-69.86 437.23,-55.08\"/>\n<polygon fill=\"#000000\" stroke=\"#000000\" points=\"440.72,-54.76 436.61,-45 433.73,-55.19 440.72,-54.76\"/>\n<text text-anchor=\"middle\" x=\"575.34\" y=\"-150.04\" font-family=\"Times,serif\" font-size=\"14.00\">RETURN</text>\n<text text-anchor=\"middle\" x=\"575.34\" y=\"-135.04\" font-family=\"Times,serif\" font-size=\"14.00\">retrieved</text>\n</g>\n<!-- N2799 -->\n<g id=\"node12\" class=\"node\">\n<title>N2799</title>\n<ellipse fill=\"#8cd499\" stroke=\"black\" stroke-width=\"0\" cx=\"612.84\" cy=\"-26.87\" rx=\"82.05\" ry=\"26.74\"/>\n<text text-anchor=\"middle\" x=\"612.84\" y=\"-30.67\" font-family=\"Times,serif\" font-size=\"14.00\">BandsData (2799)</text>\n<text text-anchor=\"middle\" x=\"612.84\" y=\"-15.67\" font-family=\"Times,serif\" font-size=\"14.00\">(Path of 1 kpts)</text>\n</g>\n<!-- N2793&#45;&gt;N2799 -->\n<g id=\"edge17\" class=\"edge\">\n<title>N2793&#45;&gt;N2799</title>\n<path fill=\"none\" stroke=\"#000000\" stroke-dasharray=\"5,2\" d=\"M732.99,-238.63C703.51,-222.68 667.8,-200.02 641.84,-172.74 616.88,-146.5 611.03,-136.77 601.84,-101.74 598.63,-89.49 599.47,-75.84 601.74,-63.64\"/>\n<polygon fill=\"#000000\" stroke=\"#000000\" points=\"605.17,-64.31 603.92,-53.79 598.34,-62.79 605.17,-64.31\"/>\n<text text-anchor=\"middle\" x=\"675.84\" y=\"-150.04\" font-family=\"Times,serif\" font-size=\"14.00\">RETURN</text>\n<text text-anchor=\"middle\" x=\"675.84\" y=\"-135.04\" font-family=\"Times,serif\" font-size=\"14.00\">output_band</text>\n</g>\n<!-- N2800 -->\n<g id=\"node13\" class=\"node\">\n<title>N2800</title>\n<ellipse fill=\"#8cd499\" stroke=\"black\" stroke-width=\"0\" cx=\"1249.84\" cy=\"-26.87\" rx=\"89.88\" ry=\"18\"/>\n<text text-anchor=\"middle\" x=\"1249.84\" y=\"-23.17\" font-family=\"Times,serif\" font-size=\"14.00\">TrajectoryData (2800)</text>\n</g>\n<!-- N2793&#45;&gt;N2800 -->\n<g id=\"edge11\" class=\"edge\">\n<title>N2793&#45;&gt;N2800</title>\n<path fill=\"none\" stroke=\"#000000\" stroke-dasharray=\"5,2\" d=\"M868.44,-261.94C990.93,-257.65 1210.75,-246.45 1235.84,-220.74 1278.98,-176.56 1267.36,-96.31 1257.4,-54.63\"/>\n<polygon fill=\"#000000\" stroke=\"#000000\" points=\"1260.79,-53.74 1254.94,-44.9 1254,-55.46 1260.79,-53.74\"/>\n<text text-anchor=\"middle\" x=\"1312.84\" y=\"-150.04\" font-family=\"Times,serif\" font-size=\"14.00\">RETURN</text>\n<text text-anchor=\"middle\" x=\"1312.84\" y=\"-135.04\" font-family=\"Times,serif\" font-size=\"14.00\">output_trajectory</text>\n</g>\n<!-- N2801 -->\n<g id=\"node14\" class=\"node\">\n<title>N2801</title>\n<ellipse fill=\"#8cd499\" stroke=\"black\" stroke-width=\"0\" cx=\"884.84\" cy=\"-26.87\" rx=\"92.76\" ry=\"26.74\"/>\n<text text-anchor=\"middle\" x=\"884.84\" y=\"-30.67\" font-family=\"Times,serif\" font-size=\"14.00\">StructureData (2801)</text>\n<text text-anchor=\"middle\" x=\"884.84\" y=\"-15.67\" font-family=\"Times,serif\" font-size=\"14.00\">N2</text>\n</g>\n<!-- N2793&#45;&gt;N2801 -->\n<g id=\"edge10\" class=\"edge\">\n<title>N2793&#45;&gt;N2801</title>\n<path fill=\"none\" stroke=\"#000000\" stroke-dasharray=\"5,2\" d=\"M852.49,-238.56C859.24,-233.56 865.28,-227.67 869.84,-220.74 900.94,-173.56 897.65,-105.09 891.73,-63.69\"/>\n<polygon fill=\"#000000\" stroke=\"#000000\" points=\"895.18,-63.13 890.19,-53.78 888.27,-64.2 895.18,-63.13\"/>\n<text text-anchor=\"middle\" x=\"939.34\" y=\"-150.04\" font-family=\"Times,serif\" font-size=\"14.00\">RETURN</text>\n<text text-anchor=\"middle\" x=\"939.34\" y=\"-135.04\" font-family=\"Times,serif\" font-size=\"14.00\">output_structure</text>\n</g>\n<!-- N2802 -->\n<g id=\"node15\" class=\"node\">\n<title>N2802</title>\n<ellipse fill=\"#8cd499\" stroke=\"black\" stroke-width=\"0\" cx=\"1047.84\" cy=\"-26.87\" rx=\"51.99\" ry=\"18\"/>\n<text text-anchor=\"middle\" x=\"1047.84\" y=\"-23.17\" font-family=\"Times,serif\" font-size=\"14.00\">Dict (2802)</text>\n</g>\n<!-- N2793&#45;&gt;N2802 -->\n<g id=\"edge26\" class=\"edge\">\n<title>N2793&#45;&gt;N2802</title>\n<path fill=\"none\" stroke=\"#000000\" stroke-dasharray=\"5,2\" d=\"M868.57,-241.1C908.31,-226.59 954.56,-204.5 987.84,-172.74 1021.29,-140.83 1036.76,-87.51 1043.39,-55.23\"/>\n<polygon fill=\"#000000\" stroke=\"#000000\" points=\"1046.88,-55.63 1045.32,-45.15 1040,-54.31 1046.88,-55.63\"/>\n<text text-anchor=\"middle\" x=\"1073.84\" y=\"-150.04\" font-family=\"Times,serif\" font-size=\"14.00\">RETURN</text>\n<text text-anchor=\"middle\" x=\"1073.84\" y=\"-135.04\" font-family=\"Times,serif\" font-size=\"14.00\">output_parameters</text>\n</g>\n<!-- N2796 -->\n<g id=\"node16\" class=\"node\">\n<title>N2796</title>\n<polygon fill=\"#de707f\" stroke=\"black\" stroke-width=\"0\" points=\"854.84,-172.74 718.84,-172.74 718.84,-119.74 854.84,-119.74 854.84,-172.74\"/>\n<text text-anchor=\"middle\" x=\"786.84\" y=\"-157.54\" font-family=\"Times,serif\" font-size=\"14.00\">PwCalculation (2796)</text>\n<text text-anchor=\"middle\" x=\"786.84\" y=\"-142.54\" font-family=\"Times,serif\" font-size=\"14.00\">State: finished</text>\n<text text-anchor=\"middle\" x=\"786.84\" y=\"-127.54\" font-family=\"Times,serif\" font-size=\"14.00\">Exit Code: 0</text>\n</g>\n<!-- N2793&#45;&gt;N2796 -->\n<g id=\"edge18\" class=\"edge\">\n<title>N2793&#45;&gt;N2796</title>\n<path fill=\"none\" stroke=\"#000000\" stroke-dasharray=\"1,5\" d=\"M786.84,-238.56C786.84,-222.26 786.84,-200.92 786.84,-182.97\"/>\n<polygon fill=\"#000000\" stroke=\"#000000\" points=\"790.34,-182.86 786.84,-172.86 783.34,-182.86 790.34,-182.86\"/>\n<text text-anchor=\"middle\" x=\"826.34\" y=\"-209.54\" font-family=\"Times,serif\" font-size=\"14.00\">CALL_CALC</text>\n<text text-anchor=\"middle\" x=\"826.34\" y=\"-194.54\" font-family=\"Times,serif\" font-size=\"14.00\">iteration_01</text>\n</g>\n<!-- N2796&#45;&gt;N2797 -->\n<g id=\"edge21\" class=\"edge\">\n<title>N2796&#45;&gt;N2797</title>\n<path fill=\"none\" stroke=\"#000000\" d=\"M718.68,-122.78C714.03,-121.64 709.38,-120.61 704.84,-119.74 601.96,-100.06 572.43,-122.93 469.84,-101.74 440.55,-95.69 370.58,-70.91 318.37,-51.7\"/>\n<polygon fill=\"#000000\" stroke=\"#000000\" points=\"319.43,-48.36 308.84,-48.18 317.01,-54.93 319.43,-48.36\"/>\n<text text-anchor=\"middle\" x=\"508.84\" y=\"-90.54\" font-family=\"Times,serif\" font-size=\"14.00\">CREATE</text>\n<text text-anchor=\"middle\" x=\"508.84\" y=\"-75.54\" font-family=\"Times,serif\" font-size=\"14.00\">remote_folder</text>\n</g>\n<!-- N2796&#45;&gt;N2798 -->\n<g id=\"edge23\" class=\"edge\">\n<title>N2796&#45;&gt;N2798</title>\n<path fill=\"none\" stroke=\"#000000\" d=\"M718.53,-123.45C713.91,-122.15 709.32,-120.9 704.84,-119.74 666.61,-109.87 655.38,-113.99 617.84,-101.74 587.21,-91.75 581.58,-84.16 551.84,-71.74 530.4,-62.78 506.41,-53.52 485.92,-45.82\"/>\n<polygon fill=\"#000000\" stroke=\"#000000\" points=\"487.06,-42.51 476.47,-42.29 484.61,-49.07 487.06,-42.51\"/>\n<text text-anchor=\"middle\" x=\"643.84\" y=\"-90.54\" font-family=\"Times,serif\" font-size=\"14.00\">CREATE</text>\n<text text-anchor=\"middle\" x=\"643.84\" y=\"-75.54\" font-family=\"Times,serif\" font-size=\"14.00\">retrieved</text>\n</g>\n<!-- N2796&#45;&gt;N2799 -->\n<g id=\"edge13\" class=\"edge\">\n<title>N2796&#45;&gt;N2799</title>\n<path fill=\"none\" stroke=\"#000000\" d=\"M735.38,-119.63C725.65,-114.13 715.74,-108.06 706.84,-101.74 690.69,-90.26 689.25,-84.21 673.84,-71.74 667.99,-67 661.67,-62.17 655.4,-57.52\"/>\n<polygon fill=\"#000000\" stroke=\"#000000\" points=\"657.06,-54.4 646.92,-51.33 652.93,-60.05 657.06,-54.4\"/>\n<text text-anchor=\"middle\" x=\"740.84\" y=\"-90.54\" font-family=\"Times,serif\" font-size=\"14.00\">CREATE</text>\n<text text-anchor=\"middle\" x=\"740.84\" y=\"-75.54\" font-family=\"Times,serif\" font-size=\"14.00\">output_band</text>\n</g>\n<!-- N2796&#45;&gt;N2800 -->\n<g id=\"edge14\" class=\"edge\">\n<title>N2796&#45;&gt;N2800</title>\n<path fill=\"none\" stroke=\"#000000\" d=\"M855.05,-122.96C859.69,-121.78 864.32,-120.69 868.84,-119.74 939.76,-104.92 960.12,-117.41 1030.84,-101.74 1091.49,-88.31 1158.86,-64.11 1202.66,-47.08\"/>\n<polygon fill=\"#000000\" stroke=\"#000000\" points=\"1204.14,-50.26 1212.18,-43.35 1201.59,-43.74 1204.14,-50.26\"/>\n<text text-anchor=\"middle\" x=\"1180.84\" y=\"-90.54\" font-family=\"Times,serif\" font-size=\"14.00\">CREATE</text>\n<text text-anchor=\"middle\" x=\"1180.84\" y=\"-75.54\" font-family=\"Times,serif\" font-size=\"14.00\">output_trajectory</text>\n</g>\n<!-- N2796&#45;&gt;N2801 -->\n<g id=\"edge29\" class=\"edge\">\n<title>N2796&#45;&gt;N2801</title>\n<path fill=\"none\" stroke=\"#000000\" d=\"M780.73,-119.44C778.64,-104.36 778.76,-85.62 787.84,-71.74 793.39,-63.27 801,-56.42 809.54,-50.88\"/>\n<polygon fill=\"#000000\" stroke=\"#000000\" points=\"811.45,-53.82 818.34,-45.77 807.94,-47.77 811.45,-53.82\"/>\n<text text-anchor=\"middle\" x=\"832.34\" y=\"-90.54\" font-family=\"Times,serif\" font-size=\"14.00\">CREATE</text>\n<text text-anchor=\"middle\" x=\"832.34\" y=\"-75.54\" font-family=\"Times,serif\" font-size=\"14.00\">output_structure</text>\n</g>\n<!-- N2796&#45;&gt;N2802 -->\n<g id=\"edge28\" class=\"edge\">\n<title>N2796&#45;&gt;N2802</title>\n<path fill=\"none\" stroke=\"#000000\" d=\"M846.26,-119.55C857.91,-114.02 869.9,-107.95 880.84,-101.74 901.43,-90.06 903.44,-81.83 924.84,-71.74 950.8,-59.51 959.81,-63.36 986.84,-53.74 993.77,-51.27 1001.05,-48.43 1008.06,-45.54\"/>\n<polygon fill=\"#000000\" stroke=\"#000000\" points=\"1009.54,-48.72 1017.41,-41.62 1006.83,-42.26 1009.54,-48.72\"/>\n<text text-anchor=\"middle\" x=\"975.84\" y=\"-90.54\" font-family=\"Times,serif\" font-size=\"14.00\">CREATE</text>\n<text text-anchor=\"middle\" x=\"975.84\" y=\"-75.54\" font-family=\"Times,serif\" font-size=\"14.00\">output_parameters</text>\n</g>\n<!-- N2790&#45;&gt;N2793 -->\n<g id=\"edge6\" class=\"edge\">\n<title>N2790&#45;&gt;N2793</title>\n<path fill=\"none\" stroke=\"#000000\" stroke-dasharray=\"1,5\" d=\"M786.84,-357.56C786.84,-341.26 786.84,-319.92 786.84,-301.97\"/>\n<polygon fill=\"#000000\" stroke=\"#000000\" points=\"790.34,-301.86 786.84,-291.86 783.34,-301.86 790.34,-301.86\"/>\n<text text-anchor=\"middle\" x=\"829.34\" y=\"-328.54\" font-family=\"Times,serif\" font-size=\"14.00\">CALL_WORK</text>\n<text text-anchor=\"middle\" x=\"829.34\" y=\"-313.54\" font-family=\"Times,serif\" font-size=\"14.00\">iteration_01</text>\n</g>\n<!-- N2790&#45;&gt;N2797 -->\n<g id=\"edge9\" class=\"edge\">\n<title>N2790&#45;&gt;N2797</title>\n<path fill=\"none\" stroke=\"#000000\" stroke-dasharray=\"5,2\" d=\"M702.82,-375.65C648.4,-369.32 576.45,-358.25 514.84,-339.74 406.13,-307.07 353.46,-314.08 288.84,-220.74 256.35,-173.81 251.86,-105.48 252.61,-64.01\"/>\n<polygon fill=\"#000000\" stroke=\"#000000\" points=\"256.11,-63.92 252.91,-53.82 249.12,-63.71 256.11,-63.92\"/>\n<text text-anchor=\"middle\" x=\"327.84\" y=\"-209.54\" font-family=\"Times,serif\" font-size=\"14.00\">RETURN</text>\n<text text-anchor=\"middle\" x=\"327.84\" y=\"-194.54\" font-family=\"Times,serif\" font-size=\"14.00\">remote_folder</text>\n</g>\n<!-- N2790&#45;&gt;N2798 -->\n<g id=\"edge27\" class=\"edge\">\n<title>N2790&#45;&gt;N2798</title>\n<path fill=\"none\" stroke=\"#000000\" stroke-dasharray=\"5,2\" d=\"M702.55,-370.56C598.91,-349.83 428.13,-297.64 357.84,-172.74 333.82,-130.05 377.14,-79.75 408.56,-51.05\"/>\n<polygon fill=\"#000000\" stroke=\"#000000\" points=\"411.08,-53.5 416.24,-44.24 406.44,-48.26 411.08,-53.5\"/>\n<text text-anchor=\"middle\" x=\"420.34\" y=\"-209.54\" font-family=\"Times,serif\" font-size=\"14.00\">RETURN</text>\n<text text-anchor=\"middle\" x=\"420.34\" y=\"-194.54\" font-family=\"Times,serif\" font-size=\"14.00\">retrieved</text>\n</g>\n<!-- N2790&#45;&gt;N2799 -->\n<g id=\"edge24\" class=\"edge\">\n<title>N2790&#45;&gt;N2799</title>\n<path fill=\"none\" stroke=\"#000000\" stroke-dasharray=\"5,2\" d=\"M726.54,-357.66C659.51,-325.52 554.8,-263.37 509.84,-172.74 499.38,-151.64 497.15,-139.58 509.84,-119.74 520.13,-103.66 533.59,-113.21 548.84,-101.74 563.92,-90.4 577.98,-74.98 589.05,-61.16\"/>\n<polygon fill=\"#000000\" stroke=\"#000000\" points=\"591.83,-63.29 595.21,-53.25 586.31,-58.99 591.83,-63.29\"/>\n<text text-anchor=\"middle\" x=\"572.84\" y=\"-209.54\" font-family=\"Times,serif\" font-size=\"14.00\">RETURN</text>\n<text text-anchor=\"middle\" x=\"572.84\" y=\"-194.54\" font-family=\"Times,serif\" font-size=\"14.00\">output_band</text>\n</g>\n<!-- N2790&#45;&gt;N2800 -->\n<g id=\"edge15\" class=\"edge\">\n<title>N2790&#45;&gt;N2800</title>\n<path fill=\"none\" stroke=\"#000000\" stroke-dasharray=\"5,2\" d=\"M871.13,-380.47C948.99,-376.3 1067.29,-365.87 1166.84,-339.74 1298.42,-305.21 1373.64,-334.1 1448.84,-220.74 1497.97,-146.69 1372.61,-79.09 1298.98,-47.18\"/>\n<polygon fill=\"#000000\" stroke=\"#000000\" points=\"1299.97,-43.8 1289.4,-43.1 1297.23,-50.24 1299.97,-43.8\"/>\n<text text-anchor=\"middle\" x=\"1505.84\" y=\"-209.54\" font-family=\"Times,serif\" font-size=\"14.00\">RETURN</text>\n<text text-anchor=\"middle\" x=\"1505.84\" y=\"-194.54\" font-family=\"Times,serif\" font-size=\"14.00\">output_trajectory</text>\n</g>\n<!-- N2790&#45;&gt;N2801 -->\n<g id=\"edge7\" class=\"edge\">\n<title>N2790&#45;&gt;N2801</title>\n<path fill=\"none\" stroke=\"#000000\" stroke-dasharray=\"5,2\" d=\"M871.21,-358.63C954.1,-329.36 1075.65,-271.59 1128.84,-172.74 1140.01,-152 1141.31,-139.73 1128.84,-119.74 1103.18,-78.59 1076,-89.44 1030.84,-71.74 1008.74,-63.07 984.19,-55.09 961.63,-48.38\"/>\n<polygon fill=\"#000000\" stroke=\"#000000\" points=\"962.34,-44.94 951.76,-45.49 960.37,-51.66 962.34,-44.94\"/>\n<text text-anchor=\"middle\" x=\"1160.34\" y=\"-209.54\" font-family=\"Times,serif\" font-size=\"14.00\">RETURN</text>\n<text text-anchor=\"middle\" x=\"1160.34\" y=\"-194.54\" font-family=\"Times,serif\" font-size=\"14.00\">output_structure</text>\n</g>\n<!-- N2790&#45;&gt;N2802 -->\n<g id=\"edge8\" class=\"edge\">\n<title>N2790&#45;&gt;N2802</title>\n<path fill=\"none\" stroke=\"#000000\" stroke-dasharray=\"5,2\" d=\"M871.1,-381.82C1003.11,-374.4 1254.28,-338.04 1357.84,-172.74 1414.18,-82.81 1254.11,-78.18 1150.84,-53.74 1133.76,-49.7 1115.13,-45.08 1098.47,-40.88\"/>\n<polygon fill=\"#000000\" stroke=\"#000000\" points=\"1098.94,-37.39 1088.39,-38.33 1097.22,-44.17 1098.94,-37.39\"/>\n<text text-anchor=\"middle\" x=\"1393.84\" y=\"-209.54\" font-family=\"Times,serif\" font-size=\"14.00\">RETURN</text>\n<text text-anchor=\"middle\" x=\"1393.84\" y=\"-194.54\" font-family=\"Times,serif\" font-size=\"14.00\">output_parameters</text>\n</g>\n</g>\n</svg>\n",
      "text/plain": [
       "<graphviz.graphs.Digraph at 0x7fc0a51838b0>"
      ]
     },
     "execution_count": 17,
     "metadata": {},
     "output_type": "execute_result"
    }
   ],
   "source": [
    "from aiida_worktree.utils import generate_node_graph\n",
    "generate_node_graph(wt.pk)"
   ]
  }
 ],
 "metadata": {
  "kernelspec": {
   "display_name": "Python 3.10.4 ('scinode')",
   "language": "python",
   "name": "python3"
  },
  "language_info": {
   "codemirror_mode": {
    "name": "ipython",
    "version": 3
   },
   "file_extension": ".py",
   "mimetype": "text/x-python",
   "name": "python",
   "nbconvert_exporter": "python",
   "pygments_lexer": "ipython3",
   "version": "3.10.4"
  },
  "vscode": {
   "interpreter": {
    "hash": "2f450c1ff08798c4974437dd057310afef0de414c25d1fd960ad375311c3f6ff"
   }
  }
 },
 "nbformat": 4,
 "nbformat_minor": 5
}
