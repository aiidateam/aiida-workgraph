{
  "cells": [
    {
      "cell_type": "markdown",
      "metadata": {},
      "source": [
        "\n# Computational materials science\n"
      ]
    },
    {
      "cell_type": "markdown",
      "metadata": {},
      "source": [
        "## Introduction\nIn this tutorial, you will use `AiiDA-WorkGraph` to carry out a DFT calculation using Quantum ESPRESSO.\n\n### Requirements\nTo run this tutorial, you need to install `aiida-workgraph`, `aiida-quantumespresso` and `aiida-pseudo`. Open a terminal and run:\n\n```console\npip install aiida-workgraph aiida-quantumespresso aiida-pseudo\naiida-pseudo install sssp -x PBEsol\n```\nStart the AiiDA daemon if needed:\n\n```console\nverdi daemon start\n```\n### Start the web server\n\nOpen a terminal, and run:\n\n```console\nworkgraph web start\n```\nThen visit the page `http://127.0.0.1:8000/workgraph`, where you can view the workgraph later.\n\nLoad the AiiDA profile.\n\n\n"
      ]
    },
    {
      "cell_type": "code",
      "execution_count": null,
      "metadata": {
        "collapsed": false
      },
      "outputs": [],
      "source": [
        "from aiida import load_profile\n\nload_profile()\n#"
      ]
    },
    {
      "cell_type": "markdown",
      "metadata": {},
      "source": [
        "## First workflow: calculate the energy of N2 molecule\nDefine a workgraph\n-------------------\naiida-quantumespresso provides a CalcJob: `PwCalculation` to run a PW calculation. we can use it directly in the WorkGraph. The inputs and outputs of the task is automatically generated based on the `PwCalculation` CalcJob.\n\n\n"
      ]
    },
    {
      "cell_type": "code",
      "execution_count": null,
      "metadata": {
        "collapsed": false
      },
      "outputs": [],
      "source": [
        "from aiida_quantumespresso.calculations.pw import PwCalculation\nfrom aiida_workgraph import WorkGraph\n\n#\nwg = WorkGraph(\"energy_n2\")\npw1 = wg.add_task(PwCalculation, name=\"pw1\")\npw1.to_html()\n#\n# visualize the task in jupyter-notebook\n# pw1\n#"
      ]
    },
    {
      "cell_type": "markdown",
      "metadata": {},
      "source": [
        "### Prepare the inputs and submit the workflow\n\n\n\n"
      ]
    },
    {
      "cell_type": "code",
      "execution_count": null,
      "metadata": {
        "collapsed": false
      },
      "outputs": [],
      "source": [
        "from aiida import load_profile\nfrom aiida.common.exceptions import NotExistent\nfrom aiida.orm import (\n    Dict,\n    KpointsData,\n    StructureData,\n    load_code,\n    load_group,\n    InstalledCode,\n    load_computer,\n)\nfrom ase.build import molecule\n\n#\nload_profile()\n# create pw code\ntry:\n    pw_code = load_code(\n        \"qe-7.2-pw@localhost\"\n    )  # The computer label can also be omitted here\nexcept NotExistent:\n    pw_code = InstalledCode(\n        computer=load_computer(\"localhost\"),\n        filepath_executable=\"pw.x\",\n        label=\"qe-7.2-pw\",\n        default_calc_job_plugin=\"quantumespresso.pw\",\n    ).store()\n# create input structure\nmol = molecule(\"N2\")\nmol.center(vacuum=1.5)\nmol.pbc = True\nstructure_n2 = StructureData(ase=mol)\nparas = Dict(\n    {\n        \"CONTROL\": {\n            \"calculation\": \"scf\",\n        },\n        \"SYSTEM\": {\n            \"ecutwfc\": 30,\n            \"ecutrho\": 240,\n            \"occupations\": \"smearing\",\n            \"smearing\": \"gaussian\",\n            \"degauss\": 0.1,\n        },\n    }\n)\nkpoints = KpointsData()\nkpoints.set_kpoints_mesh([1, 1, 1])\n# Load the pseudopotential family.\npseudo_family = load_group(\"SSSP/1.3/PBEsol/efficiency\")\npseudos = pseudo_family.get_pseudos(structure=structure_n2)\n#\nmetadata = {\n    \"options\": {\n        \"resources\": {\n            \"num_machines\": 1,\n            \"num_mpiprocs_per_machine\": 1,\n        },\n    }\n}\n#\n# ------------------------- Set the inputs -------------------------\npw1.set(\n    {\n        \"code\": pw_code,\n        \"structure\": structure_n2,\n        \"parameters\": paras,\n        \"kpoints\": kpoints,\n        \"pseudos\": pseudos,\n        \"metadata\": metadata,\n    }\n)\n# ------------------------- Submit the calculation -------------------------\nwg.submit(wait=True, timeout=200)\n# ------------------------- Print the output -------------------------\nprint(\n    \"Energy of an un-relaxed N2 molecule: {:0.3f}\".format(\n        pw1.outputs.output_parameters.value.get_dict()[\"energy\"]\n    )\n)\n#"
      ]
    },
    {
      "cell_type": "markdown",
      "metadata": {},
      "source": [
        "Generate node graph from the AiiDA process:\n\n\n"
      ]
    },
    {
      "cell_type": "code",
      "execution_count": null,
      "metadata": {
        "collapsed": false
      },
      "outputs": [],
      "source": [
        "from aiida_workgraph.utils import generate_node_graph\n\ngenerate_node_graph(wg.pk)"
      ]
    },
    {
      "cell_type": "markdown",
      "metadata": {},
      "source": [
        "## Second workflow: atomization energy of N2 molecule\n\nThe atomization energy of $N_2$ is defined as the energy difference between the $N_2$ molecule and two isolated N atoms.\n\n```python\ne_atomization = 2 * e_atom - e_molecule\n```\n"
      ]
    },
    {
      "cell_type": "code",
      "execution_count": null,
      "metadata": {
        "collapsed": false
      },
      "outputs": [],
      "source": [
        "# Define a calcfunction to calculate the atomization energy\n# ---------------------------------------------------------\n#\n\nfrom aiida_workgraph import task\n\n#\n@task.calcfunction()\ndef atomization_energy(output_atom, output_mol):\n    from aiida.orm import Float\n\n    e = output_atom[\"energy\"] * output_mol[\"number_of_atoms\"] - output_mol[\"energy\"]\n    return Float(e)"
      ]
    },
    {
      "cell_type": "markdown",
      "metadata": {},
      "source": [
        "Create the structure of nitrogen Atom.\n\n\n"
      ]
    },
    {
      "cell_type": "code",
      "execution_count": null,
      "metadata": {
        "collapsed": false
      },
      "outputs": [],
      "source": [
        "from ase import Atoms\nfrom aiida.orm import StructureData\n\n#\natoms = Atoms(\"N\")\natoms.center(vacuum=1.5)\natoms.pbc = True\nstructure_n = StructureData(ase=atoms)"
      ]
    },
    {
      "cell_type": "markdown",
      "metadata": {},
      "source": [
        "### Create a workgraph\n\n"
      ]
    },
    {
      "cell_type": "code",
      "execution_count": null,
      "metadata": {
        "collapsed": false
      },
      "outputs": [],
      "source": [
        "from aiida_workgraph import WorkGraph\nfrom aiida.orm import load_code\n\n#\n# load the PW code\npw_code = load_code(\"qe-7.2-pw@localhost\")\n#\nwg = WorkGraph(\"atomization_energy\")\n#\n# create the PW task\npw_n = wg.add_task(PwCalculation, name=\"pw_n\")\npw_n.set(\n    {\n        \"code\": pw_code,\n        \"structure\": structure_n,\n        \"parameters\": paras,\n        \"kpoints\": kpoints,\n        \"pseudos\": pseudos,\n        \"metadata\": metadata,\n    }\n)\npw_n2 = wg.add_task(PwCalculation, name=\"pw_n2\")\npw_n2.set(\n    {\n        \"code\": pw_code,\n        \"structure\": structure_n2,\n        \"parameters\": paras,\n        \"kpoints\": kpoints,\n        \"pseudos\": pseudos,\n        \"metadata\": metadata,\n    }\n)\n# create the task to calculate the atomization energy\natomization = wg.add_task(atomization_energy, name=\"atomization_energy\")\nwg.add_link(pw_n.outputs.output_parameters, atomization.inputs.output_atom)\nwg.add_link(pw_n2.outputs.output_parameters, atomization.inputs.output_mol)\nwg.to_html()"
      ]
    },
    {
      "cell_type": "markdown",
      "metadata": {},
      "source": [
        "Submit the workgraph and print the atomization energy.\n\n\n"
      ]
    },
    {
      "cell_type": "code",
      "execution_count": null,
      "metadata": {
        "collapsed": false
      },
      "outputs": [],
      "source": [
        "wg.submit(wait=True, timeout=300)\nprint(\"Atomization energy: {:0.3f} eV\".format(atomization.outputs.result.value.value))"
      ]
    },
    {
      "cell_type": "markdown",
      "metadata": {},
      "source": [
        "If you start the web app (`workgraph web start`), you can visit the page http://127.0.0.1:8000/workgraph to view the tasks.\n\nYou can also generate node graph from the AiiDA process:\n\n\n"
      ]
    },
    {
      "cell_type": "code",
      "execution_count": null,
      "metadata": {
        "collapsed": false
      },
      "outputs": [],
      "source": [
        "from aiida_workgraph.utils import generate_node_graph\n\ngenerate_node_graph(wg.pk)"
      ]
    },
    {
      "cell_type": "markdown",
      "metadata": {},
      "source": [
        "## Use already existing workchain\nCan we register a task from a workchain? Can we set the a input item of a namespace? Yes, we can!\n\nIn the `PwRelaxWorkChain`, one can set the relax type (`calculation` key) in the input namespace `base.pw.parameters`. Now we create a new task to update the pw parameters.\n\n\n"
      ]
    },
    {
      "cell_type": "code",
      "execution_count": null,
      "metadata": {
        "collapsed": false
      },
      "outputs": [],
      "source": [
        "from aiida_workgraph import task\n\n\n@task.calcfunction()\ndef pw_parameters(paras, relax_type):\n    paras1 = paras.clone()\n    paras1[\"CONTROL\"][\"calculation\"] = relax_type\n    return paras1"
      ]
    },
    {
      "cell_type": "markdown",
      "metadata": {},
      "source": [
        "Now, we create the workgraph to relax the structure of N2 molecule.\n\n\n"
      ]
    },
    {
      "cell_type": "code",
      "execution_count": null,
      "metadata": {
        "collapsed": false
      },
      "outputs": [],
      "source": [
        "from aiida_quantumespresso.workflows.pw.relax import PwRelaxWorkChain\n\n#\nwg = WorkGraph(\"test_pw_relax\")\n# pw task\npw_relax1 = wg.add_task(PwRelaxWorkChain, name=\"pw_relax1\")\n# Load the pseudopotential family.\npseudos = pseudo_family.get_pseudos(structure=structure_n2)\npw_relax1.set(\n    {\n        \"base\": {\n            \"pw\": {\"code\": pw_code, \"pseudos\": pseudos, \"metadata\": metadata},\n            \"kpoints\": kpoints,\n        },\n        \"structure\": structure_n2,\n    },\n)\nparas_task = wg.add_task(pw_parameters, \"parameters\", paras=paras, relax_type=\"relax\")\nwg.add_link(paras_task.outputs[0], pw_relax1.inputs.base.pw.parameters)\n# One can submit the workgraph directly\n# wg.submit(wait=True, timeout=200)\n# print(\n#     \"\\nEnergy of a relaxed N2 molecule: {:0.3f}\".format(\n#         pw_relax1.outputs.output_parameters.get_dict()[\"energy\"]\n#     )\n# )"
      ]
    },
    {
      "cell_type": "markdown",
      "metadata": {},
      "source": [
        "## Use `protocol` to set input parameters (Experimental)\nThe aiida-quantumespresso package supports setting input parameters from protocol. For example, the PwRelaxWorkChain has a `get_builder_from_protocol` method. In this tutorial, we will show how to use the `protocol` to set the input parameters inside the WorkGraph.\n\n\n"
      ]
    },
    {
      "cell_type": "code",
      "execution_count": null,
      "metadata": {
        "collapsed": false
      },
      "outputs": [],
      "source": [
        "from aiida_workgraph import build_task, WorkGraph\nfrom aiida_quantumespresso.workflows.pw.relax import PwRelaxWorkChain\nfrom ase.build import bulk\nfrom aiida import orm\nfrom pprint import pprint\n\n#\npw_code = orm.load_code(\"qe-7.2-pw@localhost\")\nwg = WorkGraph(\"test_pw_relax\")\nstructure_si = orm.StructureData(ase=bulk(\"Si\"))\npw_relax1 = wg.add_task(PwRelaxWorkChain, name=\"pw_relax1\")\n# set the inputs from the protocol\n# this will call the `PwRelaxWorkChain.get_builder_from_protocol` method\n# to set the inputs of the workchain\npw_relax1.set_from_protocol(\n    pw_code, structure_si, protocol=\"fast\", pseudo_family=\"SSSP/1.2/PBEsol/efficiency\"\n)\n# we can now inspect the inputs of the workchain\nprint(\"The inputs for the PwBaseWorkchain are:\")\nprint(\"-\" * 80)\npprint(pw_relax1.inputs.base._value)\nprint(\"\\nThe input parameters for pw are:\")\nprint(\"-\" * 80)\npprint(pw_relax1.inputs.base.pw.parameters.value.get_dict())"
      ]
    },
    {
      "cell_type": "markdown",
      "metadata": {},
      "source": [
        "One can also adjust the parameters of the `PwRelaxWorkChain` to from protocol.\n\n\n"
      ]
    },
    {
      "cell_type": "code",
      "execution_count": null,
      "metadata": {
        "collapsed": false
      },
      "outputs": [],
      "source": [
        "# For example, we want to remove the `base_final_scf` from the inputs, so that the `PwRelaxWorkChain` will not run the `base_final_scf` step.\npw_relax1.inputs[\"base_final_scf\"].value = None\n# submit the workgraph\n# wg.submit(wait=True, timeout=200)"
      ]
    }
  ],
  "metadata": {
    "kernelspec": {
      "display_name": "Python 3",
      "language": "python",
      "name": "python3"
    },
    "language_info": {
      "codemirror_mode": {
        "name": "ipython",
        "version": 3
      },
      "file_extension": ".py",
      "mimetype": "text/x-python",
      "name": "python",
      "nbconvert_exporter": "python",
      "pygments_lexer": "ipython3",
      "version": "3.11.0"
    }
  },
  "nbformat": 4,
  "nbformat_minor": 0
}
