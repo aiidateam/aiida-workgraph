{
 "cells": [
  {
   "cell_type": "markdown",
   "id": "22d177dc-6cfb-4de2-9509-f1eb45e10cf2",
   "metadata": {},
   "source": [
    "# Monitor Task Decorator\n",
    "\n",
    "The `monitor` decorator is designed for tasks that need to poll a specific state at regular intervals until a success criterion is met. This is useful for various scenarios, including time-based triggers, file existence checks, and monitoring other tasks or WorkGraphs.\n",
    "\n",
    "## Built-in Monitors\n",
    "\n",
    "- **TimeMonitor**: Start a task at a specified time.\n",
    "- **FilMonitor**: Execute a task when a particular file exists.\n",
    "\n",
    "## Behavior\n",
    "\n",
    "While polling, the task sleeps for a specified interval (default 1.0 second, customizable by the user), allowing the WorkGraph engine to manage other tasks.\n",
    "\n",
    "### Example Usage\n",
    "\n",
    "#### Task Monitor\n",
    "\n",
    "A task waits for another task in another WorkGraph to complete.\n"
   ]
  },
  {
   "cell_type": "code",
   "execution_count": 5,
   "id": "388b2a3b",
   "metadata": {},
   "outputs": [
    {
     "name": "stdout",
     "output_type": "stream",
     "text": [
      "WorkGraph process created, PK: 108754\n",
      "WorkGraph process created, PK: 108755\n",
      "2024-08-16 16:28:45.741860+02:00\n",
      "2024-08-16 16:28:40.044891+02:00\n"
     ]
    }
   ],
   "source": [
    "\n",
    "from aiida_workgraph import WorkGraph, task\n",
    "from aiida import load_profile\n",
    "load_profile()\n",
    "\n",
    "\n",
    "@task.calcfunction()\n",
    "def add(x, y, t=1):\n",
    "    import time\n",
    "    time.sleep(t.value)\n",
    "    return x + y\n",
    "\n",
    "wg1 = WorkGraph(name=\"test_task_monitor1\")\n",
    "# this task will wait for the \"add2\" task in the \"test_task_monitor2\" workgraph to finish\n",
    "monitor1 = wg1.add_task(\"workgraph.task_monitor\", workgraph_name=\"test_task_monitor2\", task_name=\"add2\")\n",
    "add1 = wg1.add_task(add, \"add1\",x=1, y=2, t=0)\n",
    "add1.waiting_on.add(monitor1)\n",
    "wg1.submit()\n",
    "#\n",
    "wg2 = WorkGraph(name=\"test_task_monitor2\")\n",
    "# let add2 sleep for 5 seconds to simulate a calculation\n",
    "wg2.add_task(add, \"add2\",x=1, y=2, t=5)\n",
    "wg2.submit(wait=True)\n",
    "wg1.wait()\n",
    "print(\"ctime of add1: \", wg1.tasks.add1.node.ctime)\n",
    "print(\"citme of add2: \", wg2.tasks.add2.node.ctime)\n",
    "# calculate the time difference between the creation of the two task nodes\n",
    "time_difference = wg1.tasks.add1.node.ctime - wg2.tasks.add2.node.ctime\n",
    "assert time_difference.total_seconds() > 5"
   ]
  },
  {
   "cell_type": "markdown",
   "id": "fc512818",
   "metadata": {},
   "source": [
    "\n",
    "#### Time Monitor\n",
    "\n",
    "A task waits until a specified time.\n",
    "\n"
   ]
  },
  {
   "cell_type": "code",
   "execution_count": 1,
   "id": "fd2496fa",
   "metadata": {},
   "outputs": [],
   "source": [
    "from aiida_workgraph import WorkGraph, task\n",
    "import datetime\n",
    "\n",
    "\n",
    "wg = WorkGraph(name=\"test_monitor\")\n",
    "# The task will wait until 2024-08-16, 10:54:00\n",
    "monitor1 = wg.add_task(\"workgraph.time_monitor\", time=datetime.datetime(2024, 8, 16, 10, 54, 0))\n",
    "add1 = wg.add_task(add, x=1, y=2)\n",
    "add1.waiting_on.add(monitor1)"
   ]
  },
  {
   "cell_type": "markdown",
   "id": "74971cfe",
   "metadata": {},
   "source": [
    "\n",
    "#### File Monitor\n",
    "\n",
    "Start a task when a specified file exists.\n"
   ]
  },
  {
   "cell_type": "code",
   "execution_count": null,
   "id": "57f4f37b",
   "metadata": {},
   "outputs": [],
   "source": [
    "wg = WorkGraph(name=\"test_monitor\")\n",
    "# The task will wait until the file exists, checking every 2 seconds.\n",
    "monitor1 = wg.add_task(\"workgraph.file_monitor\", filepath=\"/tmp/test.txt\", interval=2.0)\n",
    "add1 = wg.add_task(add, x=1, y=2)\n",
    "add1.waiting_on.add(monitor1)"
   ]
  },
  {
   "cell_type": "markdown",
   "id": "1ae83d3f",
   "metadata": {},
   "source": [
    "\n",
    "## Conclusion\n",
    "\n",
    "These enhancements provide powerful tools for managing dependencies within WorkGraph."
   ]
  }
 ],
 "metadata": {
  "kernelspec": {
   "display_name": "Python 3.10.4 ('scinode')",
   "language": "python",
   "name": "python3"
  },
  "language_info": {
   "codemirror_mode": {
    "name": "ipython",
    "version": 3
   },
   "file_extension": ".py",
   "mimetype": "text/x-python",
   "name": "python",
   "nbconvert_exporter": "python",
   "pygments_lexer": "ipython3",
   "version": "3.11.0"
  },
  "vscode": {
   "interpreter": {
    "hash": "2f450c1ff08798c4974437dd057310afef0de414c25d1fd960ad375311c3f6ff"
   }
  }
 },
 "nbformat": 4,
 "nbformat_minor": 5
}
