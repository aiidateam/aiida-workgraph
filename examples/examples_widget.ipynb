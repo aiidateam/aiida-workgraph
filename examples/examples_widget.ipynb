{
 "cells": [
  {
   "cell_type": "markdown",
   "metadata": {},
   "source": [
    "## WorkGraph example"
   ]
  },
  {
   "cell_type": "code",
   "execution_count": null,
   "metadata": {
    "scrolled": true
   },
   "outputs": [],
   "source": [
    "from aiida.engine import calcfunction\n",
    "from aiida_workgraph import WorkGraph\n",
    "\n",
    "# define add calcfunction node\n",
    "@calcfunction\n",
    "def add(x, y):\n",
    "    return x + y\n",
    "\n",
    "# define multiply calcfunction node\n",
    "@calcfunction\n",
    "def multiply(x, y):\n",
    "    return x*y\n"
   ]
  },
  {
   "cell_type": "markdown",
   "metadata": {},
   "source": [
    "## Create WorkGraph in one shot"
   ]
  },
  {
   "cell_type": "code",
   "execution_count": null,
   "metadata": {},
   "outputs": [],
   "source": [
    "wg = WorkGraph(\"test_add_multiply\")\n",
    "wg.nodes.new(add, name=\"add1\")\n",
    "wg.nodes.new(multiply, name=\"multiply1\")\n",
    "wg.links.new(wg.nodes[\"add1\"].outputs[0], wg.nodes[\"multiply1\"].inputs[\"x\"])\n",
    "wg"
   ]
  },
  {
   "cell_type": "code",
   "execution_count": null,
   "metadata": {},
   "outputs": [],
   "source": [
    "wg.nodes[\"multiply1\"].position\n",
    "from aiida import load_profile, orm\n",
    "load_profile()\n",
    "wg.submit(wait=True, inputs = {\"add1\": {\"x\": 1, \"y\": 2}, \"multiply1\": {\"y\": 3}})\n"
   ]
  },
  {
   "cell_type": "markdown",
   "metadata": {},
   "source": [
    "## Create the workgraph step by step\n",
    "First, create a empty workgraph:"
   ]
  },
  {
   "cell_type": "code",
   "execution_count": null,
   "metadata": {
    "scrolled": true
   },
   "outputs": [],
   "source": [
    "from aiida_workgraph import WorkGraph\n",
    "wg = WorkGraph(\"test_add_multiply\")\n",
    "wg"
   ]
  },
  {
   "cell_type": "code",
   "execution_count": null,
   "metadata": {},
   "outputs": [],
   "source": [
    "wg.nodes.new(add, name=\"add1\")"
   ]
  },
  {
   "cell_type": "code",
   "execution_count": null,
   "metadata": {},
   "outputs": [],
   "source": [
    "wg.nodes.new(multiply, name=\"multiply1\")"
   ]
  },
  {
   "cell_type": "code",
   "execution_count": null,
   "metadata": {},
   "outputs": [],
   "source": [
    "wg.links.new(wg.nodes[\"add1\"].outputs[0], wg.nodes[\"multiply1\"].inputs[\"x\"])"
   ]
  },
  {
   "cell_type": "code",
   "execution_count": null,
   "metadata": {},
   "outputs": [],
   "source": [
    "wg.nodes.delete(\"add1\")\n"
   ]
  },
  {
   "cell_type": "code",
   "execution_count": null,
   "metadata": {},
   "outputs": [],
   "source": [
    "wg.nodes.new(add, name=\"add1\")"
   ]
  },
  {
   "cell_type": "code",
   "execution_count": null,
   "metadata": {},
   "outputs": [],
   "source": [
    "wg.links.new(wg.nodes[\"add1\"].outputs[0], wg.nodes[\"multiply1\"].inputs[\"x\"])"
   ]
  },
  {
   "cell_type": "code",
   "execution_count": null,
   "metadata": {},
   "outputs": [],
   "source": [
    "wg.links.delete(\"add1.result -> multiply1.x\")"
   ]
  },
  {
   "cell_type": "code",
   "execution_count": null,
   "metadata": {},
   "outputs": [],
   "source": [
    "wg.links.new(wg.nodes[\"add1\"].outputs[0], wg.nodes[\"multiply1\"].inputs[\"x\"])"
   ]
  }
 ],
 "metadata": {
  "kernelspec": {
   "display_name": "Python 3 (ipykernel)",
   "language": "python",
   "name": "python3"
  },
  "language_info": {
   "codemirror_mode": {
    "name": "ipython",
    "version": 3
   },
   "file_extension": ".py",
   "mimetype": "text/x-python",
   "name": "python",
   "nbconvert_exporter": "python",
   "pygments_lexer": "ipython3",
   "version": "3.11.0"
  }
 },
 "nbformat": 4,
 "nbformat_minor": 4
}
