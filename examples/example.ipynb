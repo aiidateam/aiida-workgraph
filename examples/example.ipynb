{
 "cells": [
  {
   "cell_type": "markdown",
   "metadata": {},
   "source": [
    "# Example\n",
    "\n",
    "## Node from WorkGraph\n",
    "Create a node from a WorkGraph"
   ]
  },
  {
   "cell_type": "code",
   "execution_count": null,
   "metadata": {},
   "outputs": [],
   "source": [
    "from aiida_workgraph import node\n",
    "from aiida_workgraph import WorkGraph, build_node\n",
    "from aiida import load_profile\n",
    "from aiida.orm import Int\n",
    "\n",
    "load_profile()\n",
    "\n",
    "# define add calcfunction node\n",
    "@node.calcfunction()\n",
    "def add(x, y):\n",
    "    return x + y\n",
    "\n",
    "# define multiply calcfunction node\n",
    "@node.calcfunction()\n",
    "def multiply(x, y):\n",
    "    return x*y"
   ]
  },
  {
   "cell_type": "code",
   "execution_count": null,
   "metadata": {},
   "outputs": [],
   "source": [
    "wg = WorkGraph(\"test_add_multiply\")\n",
    "wg.nodes.new(add, name=\"add1\", x=Int(2.0), y=Int(3.0))\n",
    "wg.nodes.new(multiply, name=\"multiply1\", y=Int(4.0))\n",
    "wg.links.new(wg.nodes[\"add1\"].outputs[0], wg.nodes[\"multiply1\"].inputs[\"x\"])\n",
    "AddMultiplyNode = build_node(wg)\n",
    "AddMultiplyNode\n",
    "wg.to_dict()\n"
   ]
  },
  {
   "cell_type": "code",
   "execution_count": null,
   "metadata": {},
   "outputs": [],
   "source": [
    "wg = WorkGraph(\"test_graph_build\")\n",
    "add1 = wg.nodes.new(\"AiiDAAdd\", \"add1\", x=2, y=3)\n",
    "# add the workgraph as a node\n",
    "add_mutiply1 = wg.nodes.new(AddMultiplyNode, \"add_mutiply1\")\n",
    "wg.links.new(add1.outputs[0], add_mutiply1.inputs[\"add1.x\"])\n",
    "wg"
   ]
  },
  {
   "cell_type": "code",
   "execution_count": null,
   "metadata": {},
   "outputs": [],
   "source": []
  }
 ],
 "metadata": {
  "kernelspec": {
   "display_name": "aiida",
   "language": "python",
   "name": "python3"
  },
  "language_info": {
   "codemirror_mode": {
    "name": "ipython",
    "version": 3
   },
   "file_extension": ".py",
   "mimetype": "text/x-python",
   "name": "python",
   "nbconvert_exporter": "python",
   "pygments_lexer": "ipython3",
   "version": "3.11.0"
  }
 },
 "nbformat": 4,
 "nbformat_minor": 2
}
