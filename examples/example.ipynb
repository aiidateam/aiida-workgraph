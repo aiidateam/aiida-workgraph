{
 "cells": [
  {
   "cell_type": "markdown",
   "metadata": {},
   "source": [
    "# Example\n",
    "\n",
    "## Node from WorkTree\n",
    "Create a node from a WorkTree"
   ]
  },
  {
   "cell_type": "code",
   "execution_count": null,
   "metadata": {},
   "outputs": [],
   "source": [
    "from aiida_worktree import node\n",
    "from aiida_worktree import WorkTree, build_node\n",
    "from aiida import load_profile\n",
    "from aiida.orm import Int\n",
    "\n",
    "load_profile()\n",
    "\n",
    "# define add calcfunction node\n",
    "@node.calcfunction()\n",
    "def add(x, y):\n",
    "    return x + y\n",
    "\n",
    "# define multiply calcfunction node\n",
    "@node.calcfunction()\n",
    "def multiply(x, y):\n",
    "    return x*y"
   ]
  },
  {
   "cell_type": "code",
   "execution_count": null,
   "metadata": {},
   "outputs": [],
   "source": [
    "wt = WorkTree(\"test_add_multiply\")\n",
    "wt.nodes.new(add, name=\"add1\", x=Int(2.0), y=Int(3.0))\n",
    "wt.nodes.new(multiply, name=\"multiply1\", y=Int(4.0))\n",
    "wt.links.new(wt.nodes[\"add1\"].outputs[0], wt.nodes[\"multiply1\"].inputs[\"x\"])\n",
    "AddMultiplyNode = build_node(wt)\n",
    "AddMultiplyNode\n",
    "wt.to_dict()\n"
   ]
  },
  {
   "cell_type": "code",
   "execution_count": null,
   "metadata": {},
   "outputs": [],
   "source": [
    "wt = WorkTree(\"test_node_group\")\n",
    "add1 = wt.nodes.new(\"AiiDAAdd\", \"add1\", x=2, y=3)\n",
    "# add the worktree as a node\n",
    "add_mutiply1 = wt.nodes.new(AddMultiplyNode, \"add_mutiply1\")\n",
    "wt.links.new(add1.outputs[0], add_mutiply1.inputs[\"add1.x\"])\n",
    "wt"
   ]
  },
  {
   "cell_type": "code",
   "execution_count": null,
   "metadata": {},
   "outputs": [],
   "source": []
  }
 ],
 "metadata": {
  "kernelspec": {
   "display_name": "aiida",
   "language": "python",
   "name": "python3"
  },
  "language_info": {
   "codemirror_mode": {
    "name": "ipython",
    "version": 3
   },
   "file_extension": ".py",
   "mimetype": "text/x-python",
   "name": "python",
   "nbconvert_exporter": "python",
   "pygments_lexer": "ipython3",
   "version": "3.11.0"
  }
 },
 "nbformat": 4,
 "nbformat_minor": 2
}
