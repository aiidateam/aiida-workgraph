{
 "cells": [
  {
   "cell_type": "markdown",
   "metadata": {},
   "source": [
    "## WorkTree example"
   ]
  },
  {
   "cell_type": "code",
   "execution_count": 1,
   "metadata": {
    "scrolled": true
   },
   "outputs": [
    {
     "data": {
      "application/vnd.jupyter.widget-view+json": {
       "model_id": "3a48a10f47ca4a5ebd7408f96bb9efcd",
       "version_major": 2,
       "version_minor": 0
      },
      "text/plain": [
       "NodeGraphWidget(value={'name': 'test_add_multiply', 'uuid': '2eddb1fe-faf8-11ee-af46-02425c27bd68', 'state': '…"
      ]
     },
     "execution_count": 1,
     "metadata": {},
     "output_type": "execute_result"
    }
   ],
   "source": [
    "from aiida_worktree import node\n",
    "\n",
    "# define add calcfunction node\n",
    "@node.calcfunction()\n",
    "def add(x, y):\n",
    "    return x + y\n",
    "\n",
    "# define multiply calcfunction node\n",
    "@node.calcfunction()\n",
    "def multiply(x, y):\n",
    "    return x*y\n",
    "\n",
    "from aiida_worktree import WorkTree\n",
    "from aiida import load_profile\n",
    "from aiida.orm import Int\n",
    "load_profile()\n",
    "\n",
    "\n",
    "wt = WorkTree(\"test_add_multiply\")\n",
    "wt.nodes.new(add, name=\"add1\", x=Int(2.0), y=Int(3.0))\n",
    "wt.nodes.new(multiply, name=\"multiply1\", y=Int(4.0))\n",
    "wt.links.new(wt.nodes[\"add1\"].outputs[0], wt.nodes[\"multiply1\"].inputs[\"x\"])\n",
    "wt"
   ]
  },
  {
   "cell_type": "code",
   "execution_count": 2,
   "metadata": {},
   "outputs": [],
   "source": [
    "wt._widget.send({\"type\": \"delete_node\", \"data\":{\"name\": \"add1\"}})"
   ]
  },
  {
   "cell_type": "code",
   "execution_count": 5,
   "metadata": {},
   "outputs": [],
   "source": [
    "from aiida_worktree.web.backend.app.utils import worktree_to_short_json\n",
    "wtdata = worktree_to_short_json(wt.to_dict())\n",
    "wt._widget.send({\"type\": \"add_node\", \"data\":wtdata[\"nodes\"][\"add1\"]})"
   ]
  },
  {
   "cell_type": "code",
   "execution_count": null,
   "metadata": {},
   "outputs": [],
   "source": []
  }
 ],
 "metadata": {
  "kernelspec": {
   "display_name": "Python 3 (ipykernel)",
   "language": "python",
   "name": "python3"
  },
  "language_info": {
   "codemirror_mode": {
    "name": "ipython",
    "version": 3
   },
   "file_extension": ".py",
   "mimetype": "text/x-python",
   "name": "python",
   "nbconvert_exporter": "python",
   "pygments_lexer": "ipython3",
   "version": "3.11.0"
  }
 },
 "nbformat": 4,
 "nbformat_minor": 4
}
